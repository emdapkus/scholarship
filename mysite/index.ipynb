{
  "cells": [
    {
      "cell_type": "raw",
      "metadata": {},
      "source": [
        "---\n",
        "title: \"About\"\n",
        "format: html\n",
        "bibliography: ./reference.bib\n",
        "---"
      ]
    },
    {
      "cell_type": "markdown",
      "metadata": {},
      "source": [
        "## About this site\n",
        "\n",
        "Are you looking for a change in scenery?\n",
        "\n",
        "Trying to decide between two different offers and need to know where you want to live?\n",
        "\n",
        "This website is dedicated to helping people like you find the perfect city to live in. Whether you are an aspiring artist, a young professional, a graduate student, or a retiree, we have the ideal city for you. This website is designed to help you find the perfect place to live based on essential living factors such as cost, quality of life, safety, and more. We have taken the most prominent metropolitan areas in the United States and provided their livability based on your personal preferences at your fingertips so you can make an informed decision about where to live. All you have to do is adjust the sliders to your preferences, and we will do the rest.\n",
        "\n",
        "## Code\n",
        "[GitHub Repository](https://github.com/NolanPenoyer/DSAN5200Proj)\n",
        "\n",
        "## Contributors\n",
        "Nolan Penoyer - [GitHub](https://github.com/NolanPenoyer)<br>\n",
        "Shingai Nindi - [GitHub](https://github.com/shingi7)<br>\n",
        "Eric Dapkus - [GitHub](https://github.com/emdapkus)<br>\n",
        "\n",
        "## Data\n",
        "\n",
        "Median Sale Price - [-@ZillowData]<br>\n",
        "Median Rent Price - [-@Rent]<br>\n",
        "Unemployment rate - [-@unemploy]<br>\n",
        "Walkability - [-@walk]<br>\n",
        "Personal Income - [-@income]<br>\n",
        "Purchasing Power - [-@pp]<br>\n",
        "Crime Stats - [-@crime]<br>\n",
        "Party Affiliation - [-@party]<br>\n",
        "Weather - [-@weather]<br>"
      ]
    },
    {
      "cell_type": "markdown",
      "metadata": {},
      "source": []
    }
  ],
  "metadata": {
    "kernelspec": {
      "display_name": "Python 3 (ipykernel)",
      "language": "python",
      "name": "python3"
    },
    "language_info": {
      "name": "python",
      "version": "3.11.5"
    }
  },
  "nbformat": 4,
  "nbformat_minor": 4
}
