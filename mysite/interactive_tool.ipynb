{
  "cells": [
    {
      "cell_type": "raw",
      "id": "4bbfe527",
      "metadata": {
        "vscode": {
          "languageId": "raw"
        }
      },
      "source": [
        "---\n",
        "title: Finding your next dream city!\n",
        "format:\n",
        "  html:\n",
        "    grid:\n",
        "      body-width: 1700px\n",
        "execute:\n",
        "  echo: false\n",
        "---"
      ]
    },
    {
      "cell_type": "code",
      "execution_count": 1,
      "id": "8c0216c4",
      "metadata": {},
      "outputs": [],
      "source": [
        "#| warning: false\n",
        "#| code-fold: true\n",
        "#import library\n",
        "import dash\n",
        "from dash import dcc, html\n",
        "from dash.dependencies import Input, Output\n",
        "from dash import dash_table\n",
        "import plotly.express as px\n",
        "import pandas as pd\n",
        "from sklearn.preprocessing import MinMaxScaler\n",
        "import geopandas as gpd\n",
        "import plotly.graph_objects as go\n",
        "from plotly.subplots import make_subplots\n",
        "import plotly.io as pio\n",
        "import seaborn as sns\n",
        "import matplotlib.pyplot as plt\n",
        "import numpy as np\n",
        "import ipywidgets as widgets\n",
        "from IPython.display import display\n",
        "\n",
        "#render ploty\n",
        "pio.renderers.default = \"notebook\"\n",
        "\n",
        "#import data\n",
        "us_states=gpd.read_file(\"../final_data/tl_2020_us_state.shp\")\n",
        "df = pd.read_csv(\"../final_data/final_data.csv\")\n",
        "original_df = pd.read_csv(\"../final_data/final_data.csv\")\n",
        "# Initialize the Dash app\n",
        "app = dash.Dash(__name__)\n",
        "\n",
        "#normalize data\n",
        "columns_to_normalize = ['Personal Income', 'Median Rent', 'Median Sale Price',\n",
        "                        'Walkability', 'Unemployment', 'Purchasing Power',\n",
        "                        'Violent Crime Rate', 'Non-Violent Crime Rate']\n",
        "\n",
        "scaler = MinMaxScaler()\n",
        "df[columns_to_normalize] = scaler.fit_transform(df[columns_to_normalize])\n",
        "\n",
        "# Columns where lower values are better\n",
        "columns_lower_better = ['Median Rent', 'Unemployment', 'Violent Crime Rate', 'Non-Violent Crime Rate']\n",
        "\n",
        "# Invert scaling for those columns\n",
        "df[columns_lower_better] = 1 - df[columns_lower_better]\n",
        "\n",
        "# Define color scale mapping each political affiliation to a specific color\n",
        "color_scale = {\n",
        "    \"Democrat\": \"blue\",\n",
        "    \"Republican\": \"red\",\n",
        "    \"Independent\": \"yellow\",\n",
        "    \"Nonpartisan\": \"grey\"\n",
        "    }\n",
        "\n",
        "#set name dict\n",
        "new_column_name = {'Personal Income': 'Median Personal Income (USD)',\n",
        "                   'Median Rent': 'Median Rent (USD)',\n",
        "                   'Median Sale Price': \"Median Home Sale Price (USD)\",\n",
        "                   'Purchasing Power':'Purchasing Power (per $100)',\n",
        "                   'Violent Crime Rate': 'Violent Crime Rate (per 100k)',\n",
        "                   'Non-Violent Crime Rate': 'Non-Violent Crime Rate (per 100k)',\n",
        "                   'Unemployment': 'Unemployment Rate'\n",
        "                   }\n",
        "#rename col\n",
        "original_df.rename(columns=new_column_name, inplace=True)\n",
        "#set merge df\n",
        "merge_df = original_df.drop(['Walkability', 'Latitude', 'Longitude','Political Affiliation', 'Average Yearly Temperature(F)'], axis = 1)\n",
        "#merge\n",
        "df = pd.merge(df, merge_df, on='Region', how='left')"
      ]
    },
    {
      "cell_type": "markdown",
      "id": "8c7cea57",
      "metadata": {},
      "source": [
        "## Introduction\n",
        "\n",
        "\n",
        "The interactive graph below empowers you to prioritize what factors are most important to you on a scale from 0-10, 10 being more important. It then generates a weighted score for each metropolitan area, with higher scores indicating a better match to your preferences. All values that contribute to the weighted score and rank are normalized from 0-1, ensuring that features with larger raw values don't disproportionately influence the result. Values where lower is better, such as unemployment and crime rates,  are subtracted from 1 before being calculated in the weighted sum score. Hover over each area to reveal the region's name, rank, and weighted sum based on your preferences!\n",
        "\n",
        "The bigger the circle, the better the city is for you!\n",
        "\n",
        "**So what are you waiting for? Find your next adventure now!**"
      ]
    },
    {
      "cell_type": "markdown",
      "id": "ac580820",
      "metadata": {},
      "source": [
        "<div>\n",
        "\n",
        "> **How to use this viz**<br>\n",
        "> Adjust the sliders to reflect your preferences. The graph will update in real-time to reflect your choices. Hover over each area to see the region's name, rank, and weighted sum based on your preferences.<br>\n",
        "> N.B. You can use the dropdown menu to color code the areas based on the actual values of any of the available features.\n",
        "\n",
        "</div>"
      ]
    },
    {
      "cell_type": "code",
      "execution_count": 2,
      "id": "1dd3a59e",
      "metadata": {},
      "outputs": [
        {
          "data": {
            "text/html": [
              "\n",
              "        <iframe\n",
              "            width=\"100%\"\n",
              "            height=\"650\"\n",
              "            src=\"http://127.0.0.1:8052/\"\n",
              "            frameborder=\"0\"\n",
              "            allowfullscreen\n",
              "            \n",
              "        ></iframe>\n",
              "        "
            ],
            "text/plain": [
              "<IPython.lib.display.IFrame at 0x7f4c281e53d0>"
            ]
          },
          "metadata": {},
          "output_type": "display_data"
        }
      ],
      "source": [
        "app = dash.Dash(__name__)\n",
        "# Define the layout of the app\n",
        "app.layout = html.Div([\n",
        "    html.H1(\"Adjust by how important each category is to you\",style={\"color\": \"black\"}),\n",
        "    html.Div([\n",
        "        html.Div([\n",
        "            html.Label(\"Low Rent\",style={\"color\": \"black\"}),\n",
        "            dcc.Slider(\n",
        "                id=\"Median Rent\",\n",
        "                min=0,\n",
        "                max=10,\n",
        "                step=1,\n",
        "                value=0.5,\n",
        "                marks={i: str(i) for i in range(11)},\n",
        "                tooltip={\"always_visible\": False, \"placement\": \"bottom\"}\n",
        "            ),\n",
        "            html.Label(\"High Income\",style={\"color\": \"black\"}),\n",
        "            dcc.Slider(\n",
        "                id=\"Personal Income\",\n",
        "                min=0,\n",
        "                max=10,\n",
        "                step=1,\n",
        "                value=0.5,\n",
        "                marks={i: str(i) for i in range(11)},\n",
        "                tooltip={\"always_visible\": False, \"placement\": \"bottom\"}\n",
        "            ),\n",
        "            html.Label(\"High Market Value for Houses\",style={\"color\": \"black\"}),\n",
        "            dcc.Slider(\n",
        "                id=\"Median Sale Price\",\n",
        "                min=0,\n",
        "                max=10,\n",
        "                step=1,\n",
        "                value=0.5,\n",
        "                marks={i: str(i) for i in range(11)},\n",
        "                tooltip={\"always_visible\": False, \"placement\": \"bottom\"}\n",
        "            ),\n",
        "            html.Label(\"Great Walkablity\",style={\"color\": \"black\"}),\n",
        "            dcc.Slider(\n",
        "                id=\"Walkable\",\n",
        "                min=0,\n",
        "                max=10,\n",
        "                step=1,\n",
        "                value=0.5,\n",
        "                marks={i: str(i) for i in range(11)},\n",
        "                tooltip={\"always_visible\": False, \"placement\": \"bottom\"}\n",
        "            ),\n",
        "            html.Label(\"Low Unemployment\",style={\"color\": \"black\"}),\n",
        "            dcc.Slider(\n",
        "                id=\"Unemployment\",\n",
        "                min=0,\n",
        "                max=10,\n",
        "                step=1,\n",
        "                value=0.5,\n",
        "                marks={i: str(i) for i in range(11)},\n",
        "                tooltip={\"always_visible\": False, \"placement\": \"bottom\"}\n",
        "            ),\n",
        "            html.Label(\"High Purchasing Power\",style={\"color\": \"black\"}),\n",
        "            dcc.Slider(\n",
        "                id=\"Purchasing Power\",\n",
        "                min=0,\n",
        "                max=10,\n",
        "                step=1,\n",
        "                value=0.5,\n",
        "                marks={i: str(i) for i in range(11)},\n",
        "                tooltip={\"always_visible\": False, \"placement\": \"bottom\"}\n",
        "            ),\n",
        "            html.Label(\"Low Violent Crime Rate\",style={\"color\": \"black\"}),\n",
        "            dcc.Slider(\n",
        "                id=\"Crime Rate\",\n",
        "                min=0,\n",
        "                max=10,\n",
        "                step=1,\n",
        "                value=0.5,\n",
        "                marks={i: str(i) for i in range(11)},\n",
        "                tooltip={\"always_visible\": False, \"placement\": \"bottom\"}\n",
        "            ),\n",
        "            html.Label(\"Variable to Visualize\", style={\"color\": \"black\"}),\n",
        "            dcc.Dropdown(\n",
        "                id=\"variable\",\n",
        "                options=[{\"label\": i, \"value\": i} for i in df.columns if i not in ['Latitude',\n",
        "                                                                                   'Longitude',\n",
        "                                                                                   'Personal Income',\n",
        "                                                                                   'Median Rent',\n",
        "                                                                                   'Median Sale Price',\n",
        "                                                                                   'Walkability',\n",
        "                                                                                   'Unemployment',\n",
        "                                                                                   'Purchasing Power',\n",
        "                                                                                   'Violent Crime Rate',\n",
        "                                                                                   'Non-Violent Crime Rate']],\n",
        "                value=df.columns[0]\n",
        "            ),\n",
        "        ], style={\"width\": \"30%\", \"float\": \"left\"}),\n",
        "        html.Div([\n",
        "            dcc.Graph(id=\"city-graph\")\n",
        "        ], style={\"width\": \"70%\", \"float\": \"right\"}),\n",
        "    ]),\n",
        "])\n",
        "\n",
        "# Define callback to update the graph based on user input\n",
        "@app.callback(\n",
        "    Output(\"city-graph\", \"figure\"),\n",
        "    [Input(\"Median Rent\", \"value\"),\n",
        "     Input(\"Personal Income\", \"value\"),\n",
        "     Input(\"Median Sale Price\",\"value\"),\n",
        "     Input(\"Walkable\",\"value\"),\n",
        "     Input(\"Unemployment\",\"value\"),\n",
        "     Input(\"Purchasing Power\",\"value\"),\n",
        "     Input(\"Crime Rate\",\"value\"),\n",
        "     Input(\"variable\", \"value\")])\n",
        "def update_graph(importance_personal_income, importance_median_rent,importance_median_sale_price,importance_walkable,importance_unemployment,importance_purchasing_power,importance_crime, selected_variable):\n",
        "    # Weighted sum of variables\n",
        "    df[\"Weighted_Sum\"] = np.log(df[\"Median Rent\"] * importance_personal_income +\n",
        "                          df[\"Personal Income\"] * importance_median_rent + df[\"Median Sale Price\"]*importance_median_sale_price +df[\"Walkability\"]*importance_walkable+df[\"Unemployment\"]*importance_unemployment+\n",
        "                          df[\"Purchasing Power\"]*importance_purchasing_power+df[\"Violent Crime Rate\"]*importance_crime)\n",
        "    # Apply power transformation for better visualization\n",
        "    df[\"Weighted_Sum\"] = df[\"Weighted_Sum\"] ** 3\n",
        "\n",
        "    # Find Rank of weighted sum for the tool tip\n",
        "    df[\"Rank\"] = df[\"Weighted_Sum\"].rank(ascending=False, method='dense').astype(int)\n",
        "    \n",
        "    # Define color scale mapping each political affiliation to a specific color\n",
        "    color_scale = {\n",
        "        \"Democrat\": \"blue\",\n",
        "        \"Republican\": \"red\",\n",
        "        \"Independent\": \"yellow\",\n",
        "        \"Nonpartisan\": \"grey\"\n",
        "    }\n",
        "    \n",
        "    # Plotly scatter plot\n",
        "    fig = px.scatter_geo(df, lat='Latitude', lon='Longitude', scope='usa', size=\"Weighted_Sum\", color=selected_variable,\n",
        "                     color_discrete_map=color_scale, custom_data=[\"Region\", \"Weighted_Sum\",\"Rank\"])\n",
        "    \n",
        "    fig.update_layout(title=\"Best Metro Areas by Personal Livability Score\",\n",
        "                      mapbox_style=\"carto-positron\",\n",
        "                      mapbox_zoom=3,\n",
        "                      mapbox_center={\"lat\": 37.0902, \"lon\": -95.7129})\n",
        "    \n",
        "    fig.update_traces(hovertemplate='<b>Region:</b> %{customdata[0]}<br>Rank: %{customdata[2]}<br>Weighted Sum: %{customdata[1]:.3f}<extra></extra>')\n",
        "    \n",
        "    return fig\n",
        "\n",
        "# Run the app\n",
        "if __name__ == \"__main__\":\n",
        "    app.run_server(debug=False,port=8052)"
      ]
    },
    {
      "cell_type": "markdown",
      "id": "55edee75",
      "metadata": {},
      "source": [
        "\n",
        "---------"
      ]
    },
    {
      "cell_type": "markdown",
      "id": "ccf9e277",
      "metadata": {},
      "source": [
        "### A closer look at each metric<br>\n",
        "\n",
        "While the chart above may seem complex with its array of options and data, the straightforward dropdown menu below simplifies the process. It displays a chart with the actual metrics for each feature and sorts the regions from highest to lowest value. The 'better' value will only sometimes be on the left; most people don't prefer higher unemployment or crime rates. This allows you to focus on what matters to you, feature by feature, in a user-friendly manner.  \n"
      ]
    },
    {
      "cell_type": "markdown",
      "id": "999e5f62",
      "metadata": {},
      "source": [
        "<div>\n",
        "\n",
        "> **How to use this viz**<br>\n",
        "> Select a feature from the dropdown menu to see the actual values for each metropolitan area. The chart will sort the regions from highest to lowest value for the selected feature. <br>\n",
        "> You can also hover over each bar to see the actual value for the selected feature.\n",
        "\n",
        "</div>"
      ]
    },
    {
      "cell_type": "code",
      "execution_count": 3,
      "id": "636db039",
      "metadata": {},
      "outputs": [
        {
          "data": {
            "text/html": [
              "\n",
              "        <iframe\n",
              "            width=\"100%\"\n",
              "            height=\"650\"\n",
              "            src=\"http://127.0.0.1:8050/\"\n",
              "            frameborder=\"0\"\n",
              "            allowfullscreen\n",
              "            \n",
              "        ></iframe>\n",
              "        "
            ],
            "text/plain": [
              "<IPython.lib.display.IFrame at 0x7f4cac703a90>"
            ]
          },
          "metadata": {},
          "output_type": "display_data"
        }
      ],
      "source": [
        "app = dash.Dash(__name__)\n",
        "\n",
        "app.layout = html.Div([\n",
        "    dcc.Dropdown(\n",
        "        id=\"variable\",\n",
        "        options=[{\"label\": i, \"value\": i} for i in original_df.columns if i not in ['Latitude', 'Longitude', 'Region', 'Political Affiliation']],\n",
        "        value='Median Personal Income (USD)'\n",
        "    ),\n",
        "    # Removed dcc.Graph(id=\"scatter-plot\"),\n",
        "    dcc.Graph(id=\"bar-chart\"),\n",
        "])\n",
        "\n",
        "@app.callback(\n",
        "    Output(\"bar-chart\", \"figure\"),\n",
        "    [Input(\"variable\", \"value\")]\n",
        ")\n",
        "def update_graph(variable):\n",
        "    bar_chart = px.bar(original_df.sort_values(variable, ascending=False), x='Region', y=variable)\n",
        "    return bar_chart\n",
        "\n",
        "if __name__ == \"__main__\":\n",
        "    app.run_server(debug=True)\n"
      ]
    },
    {
      "cell_type": "markdown",
      "id": "63756a38",
      "metadata": {},
      "source": [
        "----------"
      ]
    },
    {
      "cell_type": "markdown",
      "id": "2aa0960c",
      "metadata": {},
      "source": [
        "## Economic data<br>\n",
        "\n",
        "Here are some economic indicators for each metropolitan region. The dropdown menu lets you choose what area to investigate. The four charts show the actual Median Personal Income, Median Rent, Median Home Sale Price, and Purchasing power for the area selected compared to the average of all regions. These features can be handy when comparing multiple job offers to ensure you will get more than what you earn after having to relocate. A ten percent raise that requires moving from Kansas City to San Fransico could mean a lower quality of life based on what you can afford in the two regions. \n",
        "\n"
      ]
    },
    {
      "cell_type": "code",
      "execution_count": 4,
      "id": "abc0bc19",
      "metadata": {},
      "outputs": [
        {
          "data": {
            "text/html": [
              "        <script type=\"text/javascript\">\n",
              "        window.PlotlyConfig = {MathJaxConfig: 'local'};\n",
              "        if (window.MathJax && window.MathJax.Hub && window.MathJax.Hub.Config) {window.MathJax.Hub.Config({SVG: {font: \"STIX-Web\"}});}\n",
              "        if (typeof require !== 'undefined') {\n",
              "        require.undef(\"plotly\");\n",
              "        requirejs.config({\n",
              "            paths: {\n",
              "                'plotly': ['https://cdn.plot.ly/plotly-2.30.0.min']\n",
              "            }\n",
              "        });\n",
              "        require(['plotly'], function(Plotly) {\n",
              "            window._Plotly = Plotly;\n",
              "        });\n",
              "        }\n",
              "        </script>\n",
              "        "
            ]
          },
          "metadata": {},
          "output_type": "display_data"
        }
      ],
      "source": [
        "from plotly.offline import init_notebook_mode, iplot\n",
        "import plotly.graph_objs as go\n",
        "\n",
        "init_notebook_mode(connected=True)"
      ]
    },
    {
      "cell_type": "markdown",
      "id": "e2502a57",
      "metadata": {},
      "source": [
        "<div>\n",
        "\n",
        "> **How to use this viz**<br>\n",
        "> Select a metropolitan area from the dropdown menu to see the actual values for each economic feature. The 4 charts will show the selected area's Median Personal Income, Median Rent, Median Home Sale Price, and Purchasing Power compared to the average of all regions.<br>\n",
        "> You can also hover over each bar to see the actual value for the selected feature.\n",
        "\n",
        "</div>"
      ]
    },
    {
      "cell_type": "code",
      "execution_count": 5,
      "id": "2235e5e8",
      "metadata": {},
      "outputs": [
        {
          "data": {
            "application/vnd.plotly.v1+json": {
              "config": {
                "linkText": "Export to plot.ly",
                "plotlyServerURL": "https://plot.ly",
                "showLink": false
              },
              "data": [
                {
                  "name": "Atlanta",
                  "type": "bar",
                  "visible": true,
                  "x": [
                    "Atlanta",
                    "Metro average"
                  ],
                  "xaxis": "x",
                  "y": [
                    64107,
                    71810.20588235294
                  ],
                  "yaxis": "y"
                },
                {
                  "name": "Atlanta",
                  "type": "bar",
                  "visible": true,
                  "x": [
                    "Atlanta",
                    "Metro average"
                  ],
                  "xaxis": "x2",
                  "y": [
                    2113,
                    2305.6176470588234
                  ],
                  "yaxis": "y2"
                },
                {
                  "name": "Atlanta",
                  "type": "bar",
                  "visible": true,
                  "x": [
                    "Atlanta",
                    "Metro average"
                  ],
                  "xaxis": "x3",
                  "y": [
                    357000,
                    430269.1176470588
                  ],
                  "yaxis": "y3"
                },
                {
                  "name": "Atlanta",
                  "type": "bar",
                  "visible": true,
                  "x": [
                    "Atlanta",
                    "Metro average"
                  ],
                  "xaxis": "x4",
                  "y": [
                    100.89,
                    97.88882352941178
                  ],
                  "yaxis": "y4"
                },
                {
                  "name": "Austin",
                  "type": "bar",
                  "visible": false,
                  "x": [
                    "Austin",
                    "Metro average"
                  ],
                  "xaxis": "x",
                  "y": [
                    75119,
                    71810.20588235294
                  ],
                  "yaxis": "y"
                },
                {
                  "name": "Austin",
                  "type": "bar",
                  "visible": false,
                  "x": [
                    "Austin",
                    "Metro average"
                  ],
                  "xaxis": "x2",
                  "y": [
                    1937.5,
                    2305.6176470588234
                  ],
                  "yaxis": "y2"
                },
                {
                  "name": "Austin",
                  "type": "bar",
                  "visible": false,
                  "x": [
                    "Austin",
                    "Metro average"
                  ],
                  "xaxis": "x3",
                  "y": [
                    451250,
                    430269.1176470588
                  ],
                  "yaxis": "y3"
                },
                {
                  "name": "Austin",
                  "type": "bar",
                  "visible": false,
                  "x": [
                    "Austin",
                    "Metro average"
                  ],
                  "xaxis": "x4",
                  "y": [
                    99.96,
                    97.88882352941178
                  ],
                  "yaxis": "y4"
                },
                {
                  "name": "Baltimore",
                  "type": "bar",
                  "visible": false,
                  "x": [
                    "Baltimore",
                    "Metro average"
                  ],
                  "xaxis": "x",
                  "y": [
                    71420,
                    71810.20588235294
                  ],
                  "yaxis": "y"
                },
                {
                  "name": "Baltimore",
                  "type": "bar",
                  "visible": false,
                  "x": [
                    "Baltimore",
                    "Metro average"
                  ],
                  "xaxis": "x2",
                  "y": [
                    1981.5,
                    2305.6176470588234
                  ],
                  "yaxis": "y2"
                },
                {
                  "name": "Baltimore",
                  "type": "bar",
                  "visible": false,
                  "x": [
                    "Baltimore",
                    "Metro average"
                  ],
                  "xaxis": "x3",
                  "y": [
                    325500,
                    430269.1176470588
                  ],
                  "yaxis": "y3"
                },
                {
                  "name": "Baltimore",
                  "type": "bar",
                  "visible": false,
                  "x": [
                    "Baltimore",
                    "Metro average"
                  ],
                  "xaxis": "x4",
                  "y": [
                    95.23,
                    97.88882352941178
                  ],
                  "yaxis": "y4"
                },
                {
                  "name": "Boston",
                  "type": "bar",
                  "visible": false,
                  "x": [
                    "Boston",
                    "Metro average"
                  ],
                  "xaxis": "x",
                  "y": [
                    94082,
                    71810.20588235294
                  ],
                  "yaxis": "y"
                },
                {
                  "name": "Boston",
                  "type": "bar",
                  "visible": false,
                  "x": [
                    "Boston",
                    "Metro average"
                  ],
                  "xaxis": "x2",
                  "y": [
                    3939.5,
                    2305.6176470588234
                  ],
                  "yaxis": "y2"
                },
                {
                  "name": "Boston",
                  "type": "bar",
                  "visible": false,
                  "x": [
                    "Boston",
                    "Metro average"
                  ],
                  "xaxis": "x3",
                  "y": [
                    600000,
                    430269.1176470588
                  ],
                  "yaxis": "y3"
                },
                {
                  "name": "Boston",
                  "type": "bar",
                  "visible": false,
                  "x": [
                    "Boston",
                    "Metro average"
                  ],
                  "xaxis": "x4",
                  "y": [
                    91.17,
                    97.88882352941178
                  ],
                  "yaxis": "y4"
                },
                {
                  "name": "Charlotte",
                  "type": "bar",
                  "visible": false,
                  "x": [
                    "Charlotte",
                    "Metro average"
                  ],
                  "xaxis": "x",
                  "y": [
                    65156,
                    71810.20588235294
                  ],
                  "yaxis": "y"
                },
                {
                  "name": "Charlotte",
                  "type": "bar",
                  "visible": false,
                  "x": [
                    "Charlotte",
                    "Metro average"
                  ],
                  "xaxis": "x2",
                  "y": [
                    1923.5,
                    2305.6176470588234
                  ],
                  "yaxis": "y2"
                },
                {
                  "name": "Charlotte",
                  "type": "bar",
                  "visible": false,
                  "x": [
                    "Charlotte",
                    "Metro average"
                  ],
                  "xaxis": "x3",
                  "y": [
                    365000,
                    430269.1176470588
                  ],
                  "yaxis": "y3"
                },
                {
                  "name": "Charlotte",
                  "type": "bar",
                  "visible": false,
                  "x": [
                    "Charlotte",
                    "Metro average"
                  ],
                  "xaxis": "x4",
                  "y": [
                    103.52,
                    97.88882352941178
                  ],
                  "yaxis": "y4"
                },
                {
                  "name": "Chicago",
                  "type": "bar",
                  "visible": false,
                  "x": [
                    "Chicago",
                    "Metro average"
                  ],
                  "xaxis": "x",
                  "y": [
                    72512,
                    71810.20588235294
                  ],
                  "yaxis": "y"
                },
                {
                  "name": "Chicago",
                  "type": "bar",
                  "visible": false,
                  "x": [
                    "Chicago",
                    "Metro average"
                  ],
                  "xaxis": "x2",
                  "y": [
                    2357.5,
                    2305.6176470588234
                  ],
                  "yaxis": "y2"
                },
                {
                  "name": "Chicago",
                  "type": "bar",
                  "visible": false,
                  "x": [
                    "Chicago",
                    "Metro average"
                  ],
                  "xaxis": "x3",
                  "y": [
                    290000,
                    430269.1176470588
                  ],
                  "yaxis": "y3"
                },
                {
                  "name": "Chicago",
                  "type": "bar",
                  "visible": false,
                  "x": [
                    "Chicago",
                    "Metro average"
                  ],
                  "xaxis": "x4",
                  "y": [
                    94.86,
                    97.88882352941178
                  ],
                  "yaxis": "y4"
                },
                {
                  "name": "Cincinnati",
                  "type": "bar",
                  "visible": false,
                  "x": [
                    "Cincinnati",
                    "Metro average"
                  ],
                  "xaxis": "x",
                  "y": [
                    65253,
                    71810.20588235294
                  ],
                  "yaxis": "y"
                },
                {
                  "name": "Cincinnati",
                  "type": "bar",
                  "visible": false,
                  "x": [
                    "Cincinnati",
                    "Metro average"
                  ],
                  "xaxis": "x2",
                  "y": [
                    1646,
                    2305.6176470588234
                  ],
                  "yaxis": "y2"
                },
                {
                  "name": "Cincinnati",
                  "type": "bar",
                  "visible": false,
                  "x": [
                    "Cincinnati",
                    "Metro average"
                  ],
                  "xaxis": "x3",
                  "y": [
                    247000,
                    430269.1176470588
                  ],
                  "yaxis": "y3"
                },
                {
                  "name": "Cincinnati",
                  "type": "bar",
                  "visible": false,
                  "x": [
                    "Cincinnati",
                    "Metro average"
                  ],
                  "xaxis": "x4",
                  "y": [
                    106,
                    97.88882352941178
                  ],
                  "yaxis": "y4"
                },
                {
                  "name": "Cleveland",
                  "type": "bar",
                  "visible": false,
                  "x": [
                    "Cleveland",
                    "Metro average"
                  ],
                  "xaxis": "x",
                  "y": [
                    62921,
                    71810.20588235294
                  ],
                  "yaxis": "y"
                },
                {
                  "name": "Cleveland",
                  "type": "bar",
                  "visible": false,
                  "x": [
                    "Cleveland",
                    "Metro average"
                  ],
                  "xaxis": "x2",
                  "y": [
                    1471.25,
                    2305.6176470588234
                  ],
                  "yaxis": "y2"
                },
                {
                  "name": "Cleveland",
                  "type": "bar",
                  "visible": false,
                  "x": [
                    "Cleveland",
                    "Metro average"
                  ],
                  "xaxis": "x3",
                  "y": [
                    179000,
                    430269.1176470588
                  ],
                  "yaxis": "y3"
                },
                {
                  "name": "Cleveland",
                  "type": "bar",
                  "visible": false,
                  "x": [
                    "Cleveland",
                    "Metro average"
                  ],
                  "xaxis": "x4",
                  "y": [
                    106.15,
                    97.88882352941178
                  ],
                  "yaxis": "y4"
                },
                {
                  "name": "Dallas-Fort Worth",
                  "type": "bar",
                  "visible": false,
                  "x": [
                    "Dallas-Fort Worth",
                    "Metro average"
                  ],
                  "xaxis": "x",
                  "y": [
                    70493,
                    71810.20588235294
                  ],
                  "yaxis": "y"
                },
                {
                  "name": "Dallas-Fort Worth",
                  "type": "bar",
                  "visible": false,
                  "x": [
                    "Dallas-Fort Worth",
                    "Metro average"
                  ],
                  "xaxis": "x2",
                  "y": [
                    2180,
                    2305.6176470588234
                  ],
                  "yaxis": "y2"
                },
                {
                  "name": "Dallas-Fort Worth",
                  "type": "bar",
                  "visible": false,
                  "x": [
                    "Dallas-Fort Worth",
                    "Metro average"
                  ],
                  "xaxis": "x3",
                  "y": [
                    380000,
                    430269.1176470588
                  ],
                  "yaxis": "y3"
                },
                {
                  "name": "Dallas-Fort Worth",
                  "type": "bar",
                  "visible": false,
                  "x": [
                    "Dallas-Fort Worth",
                    "Metro average"
                  ],
                  "xaxis": "x4",
                  "y": [
                    96.29,
                    97.88882352941178
                  ],
                  "yaxis": "y4"
                },
                {
                  "name": "Denver",
                  "type": "bar",
                  "visible": false,
                  "x": [
                    "Denver",
                    "Metro average"
                  ],
                  "xaxis": "x",
                  "y": [
                    84788,
                    71810.20588235294
                  ],
                  "yaxis": "y"
                },
                {
                  "name": "Denver",
                  "type": "bar",
                  "visible": false,
                  "x": [
                    "Denver",
                    "Metro average"
                  ],
                  "xaxis": "x2",
                  "y": [
                    2677,
                    2305.6176470588234
                  ],
                  "yaxis": "y2"
                },
                {
                  "name": "Denver",
                  "type": "bar",
                  "visible": false,
                  "x": [
                    "Denver",
                    "Metro average"
                  ],
                  "xaxis": "x3",
                  "y": [
                    556000,
                    430269.1176470588
                  ],
                  "yaxis": "y3"
                },
                {
                  "name": "Denver",
                  "type": "bar",
                  "visible": false,
                  "x": [
                    "Denver",
                    "Metro average"
                  ],
                  "xaxis": "x4",
                  "y": [
                    91.61,
                    97.88882352941178
                  ],
                  "yaxis": "y4"
                },
                {
                  "name": "Detroit",
                  "type": "bar",
                  "visible": false,
                  "x": [
                    "Detroit",
                    "Metro average"
                  ],
                  "xaxis": "x",
                  "y": [
                    61322,
                    71810.20588235294
                  ],
                  "yaxis": "y"
                },
                {
                  "name": "Detroit",
                  "type": "bar",
                  "visible": false,
                  "x": [
                    "Detroit",
                    "Metro average"
                  ],
                  "xaxis": "x2",
                  "y": [
                    1619.75,
                    2305.6176470588234
                  ],
                  "yaxis": "y2"
                },
                {
                  "name": "Detroit",
                  "type": "bar",
                  "visible": false,
                  "x": [
                    "Detroit",
                    "Metro average"
                  ],
                  "xaxis": "x3",
                  "y": [
                    230000,
                    430269.1176470588
                  ],
                  "yaxis": "y3"
                },
                {
                  "name": "Detroit",
                  "type": "bar",
                  "visible": false,
                  "x": [
                    "Detroit",
                    "Metro average"
                  ],
                  "xaxis": "x4",
                  "y": [
                    104.05,
                    97.88882352941178
                  ],
                  "yaxis": "y4"
                },
                {
                  "name": "Houston",
                  "type": "bar",
                  "visible": false,
                  "x": [
                    "Houston",
                    "Metro average"
                  ],
                  "xaxis": "x",
                  "y": [
                    68344,
                    71810.20588235294
                  ],
                  "yaxis": "y"
                },
                {
                  "name": "Houston",
                  "type": "bar",
                  "visible": false,
                  "x": [
                    "Houston",
                    "Metro average"
                  ],
                  "xaxis": "x2",
                  "y": [
                    1578,
                    2305.6176470588234
                  ],
                  "yaxis": "y2"
                },
                {
                  "name": "Houston",
                  "type": "bar",
                  "visible": false,
                  "x": [
                    "Houston",
                    "Metro average"
                  ],
                  "xaxis": "x3",
                  "y": [
                    325000,
                    430269.1176470588
                  ],
                  "yaxis": "y3"
                },
                {
                  "name": "Houston",
                  "type": "bar",
                  "visible": false,
                  "x": [
                    "Houston",
                    "Metro average"
                  ],
                  "xaxis": "x4",
                  "y": [
                    100.26,
                    97.88882352941178
                  ],
                  "yaxis": "y4"
                },
                {
                  "name": "Indianapolis",
                  "type": "bar",
                  "visible": false,
                  "x": [
                    "Indianapolis",
                    "Metro average"
                  ],
                  "xaxis": "x",
                  "y": [
                    68719,
                    71810.20588235294
                  ],
                  "yaxis": "y"
                },
                {
                  "name": "Indianapolis",
                  "type": "bar",
                  "visible": false,
                  "x": [
                    "Indianapolis",
                    "Metro average"
                  ],
                  "xaxis": "x2",
                  "y": [
                    1563.5,
                    2305.6176470588234
                  ],
                  "yaxis": "y2"
                },
                {
                  "name": "Indianapolis",
                  "type": "bar",
                  "visible": false,
                  "x": [
                    "Indianapolis",
                    "Metro average"
                  ],
                  "xaxis": "x3",
                  "y": [
                    250000,
                    430269.1176470588
                  ],
                  "yaxis": "y3"
                },
                {
                  "name": "Indianapolis",
                  "type": "bar",
                  "visible": false,
                  "x": [
                    "Indianapolis",
                    "Metro average"
                  ],
                  "xaxis": "x4",
                  "y": [
                    105.23,
                    97.88882352941178
                  ],
                  "yaxis": "y4"
                },
                {
                  "name": "Kansas City",
                  "type": "bar",
                  "visible": false,
                  "x": [
                    "Kansas City",
                    "Metro average"
                  ],
                  "xaxis": "x",
                  "y": [
                    63417,
                    71810.20588235294
                  ],
                  "yaxis": "y"
                },
                {
                  "name": "Kansas City",
                  "type": "bar",
                  "visible": false,
                  "x": [
                    "Kansas City",
                    "Metro average"
                  ],
                  "xaxis": "x2",
                  "y": [
                    1686.25,
                    2305.6176470588234
                  ],
                  "yaxis": "y2"
                },
                {
                  "name": "Kansas City",
                  "type": "bar",
                  "visible": false,
                  "x": [
                    "Kansas City",
                    "Metro average"
                  ],
                  "xaxis": "x3",
                  "y": [
                    279000,
                    430269.1176470588
                  ],
                  "yaxis": "y3"
                },
                {
                  "name": "Kansas City",
                  "type": "bar",
                  "visible": false,
                  "x": [
                    "Kansas City",
                    "Metro average"
                  ],
                  "xaxis": "x4",
                  "y": [
                    106.77,
                    97.88882352941178
                  ],
                  "yaxis": "y4"
                },
                {
                  "name": "Las Vegas",
                  "type": "bar",
                  "visible": false,
                  "x": [
                    "Las Vegas",
                    "Metro average"
                  ],
                  "xaxis": "x",
                  "y": [
                    59150,
                    71810.20588235294
                  ],
                  "yaxis": "y"
                },
                {
                  "name": "Las Vegas",
                  "type": "bar",
                  "visible": false,
                  "x": [
                    "Las Vegas",
                    "Metro average"
                  ],
                  "xaxis": "x2",
                  "y": [
                    1666,
                    2305.6176470588234
                  ],
                  "yaxis": "y2"
                },
                {
                  "name": "Las Vegas",
                  "type": "bar",
                  "visible": false,
                  "x": [
                    "Las Vegas",
                    "Metro average"
                  ],
                  "xaxis": "x3",
                  "y": [
                    415000,
                    430269.1176470588
                  ],
                  "yaxis": "y3"
                },
                {
                  "name": "Las Vegas",
                  "type": "bar",
                  "visible": false,
                  "x": [
                    "Las Vegas",
                    "Metro average"
                  ],
                  "xaxis": "x4",
                  "y": [
                    104.66,
                    97.88882352941178
                  ],
                  "yaxis": "y4"
                },
                {
                  "name": "Los Angeles",
                  "type": "bar",
                  "visible": false,
                  "x": [
                    "Los Angeles",
                    "Metro average"
                  ],
                  "xaxis": "x",
                  "y": [
                    76445,
                    71810.20588235294
                  ],
                  "yaxis": "y"
                },
                {
                  "name": "Los Angeles",
                  "type": "bar",
                  "visible": false,
                  "x": [
                    "Los Angeles",
                    "Metro average"
                  ],
                  "xaxis": "x2",
                  "y": [
                    3587.25,
                    2305.6176470588234
                  ],
                  "yaxis": "y2"
                },
                {
                  "name": "Los Angeles",
                  "type": "bar",
                  "visible": false,
                  "x": [
                    "Los Angeles",
                    "Metro average"
                  ],
                  "xaxis": "x3",
                  "y": [
                    920000,
                    430269.1176470588
                  ],
                  "yaxis": "y3"
                },
                {
                  "name": "Los Angeles",
                  "type": "bar",
                  "visible": false,
                  "x": [
                    "Los Angeles",
                    "Metro average"
                  ],
                  "xaxis": "x4",
                  "y": [
                    87.86,
                    97.88882352941178
                  ],
                  "yaxis": "y4"
                },
                {
                  "name": "Miami",
                  "type": "bar",
                  "visible": false,
                  "x": [
                    "Miami",
                    "Metro average"
                  ],
                  "xaxis": "x",
                  "y": [
                    77732,
                    71810.20588235294
                  ],
                  "yaxis": "y"
                },
                {
                  "name": "Miami",
                  "type": "bar",
                  "visible": false,
                  "x": [
                    "Miami",
                    "Metro average"
                  ],
                  "xaxis": "x2",
                  "y": [
                    3056.5,
                    2305.6176470588234
                  ],
                  "yaxis": "y2"
                },
                {
                  "name": "Miami",
                  "type": "bar",
                  "visible": false,
                  "x": [
                    "Miami",
                    "Metro average"
                  ],
                  "xaxis": "x3",
                  "y": [
                    465000,
                    430269.1176470588
                  ],
                  "yaxis": "y3"
                },
                {
                  "name": "Miami",
                  "type": "bar",
                  "visible": false,
                  "x": [
                    "Miami",
                    "Metro average"
                  ],
                  "xaxis": "x4",
                  "y": [
                    90.97,
                    97.88882352941178
                  ],
                  "yaxis": "y4"
                },
                {
                  "name": "Minneapolis-St. Paul",
                  "type": "bar",
                  "visible": false,
                  "x": [
                    "Minneapolis-St. Paul",
                    "Metro average"
                  ],
                  "xaxis": "x",
                  "y": [
                    75164,
                    71810.20588235294
                  ],
                  "yaxis": "y"
                },
                {
                  "name": "Minneapolis-St. Paul",
                  "type": "bar",
                  "visible": false,
                  "x": [
                    "Minneapolis-St. Paul",
                    "Metro average"
                  ],
                  "xaxis": "x2",
                  "y": [
                    1896.5,
                    2305.6176470588234
                  ],
                  "yaxis": "y2"
                },
                {
                  "name": "Minneapolis-St. Paul",
                  "type": "bar",
                  "visible": false,
                  "x": [
                    "Minneapolis-St. Paul",
                    "Metro average"
                  ],
                  "xaxis": "x3",
                  "y": [
                    335000,
                    430269.1176470588
                  ],
                  "yaxis": "y3"
                },
                {
                  "name": "Minneapolis-St. Paul",
                  "type": "bar",
                  "visible": false,
                  "x": [
                    "Minneapolis-St. Paul",
                    "Metro average"
                  ],
                  "xaxis": "x4",
                  "y": [
                    96.54,
                    97.88882352941178
                  ],
                  "yaxis": "y4"
                },
                {
                  "name": "Nashville",
                  "type": "bar",
                  "visible": false,
                  "x": [
                    "Nashville",
                    "Metro average"
                  ],
                  "xaxis": "x",
                  "y": [
                    74035,
                    71810.20588235294
                  ],
                  "yaxis": "y"
                },
                {
                  "name": "Nashville",
                  "type": "bar",
                  "visible": false,
                  "x": [
                    "Nashville",
                    "Metro average"
                  ],
                  "xaxis": "x2",
                  "y": [
                    1903.5,
                    2305.6176470588234
                  ],
                  "yaxis": "y2"
                },
                {
                  "name": "Nashville",
                  "type": "bar",
                  "visible": false,
                  "x": [
                    "Nashville",
                    "Metro average"
                  ],
                  "xaxis": "x3",
                  "y": [
                    419900,
                    430269.1176470588
                  ],
                  "yaxis": "y3"
                },
                {
                  "name": "Nashville",
                  "type": "bar",
                  "visible": false,
                  "x": [
                    "Nashville",
                    "Metro average"
                  ],
                  "xaxis": "x4",
                  "y": [
                    104.68,
                    97.88882352941178
                  ],
                  "yaxis": "y4"
                },
                {
                  "name": "New York",
                  "type": "bar",
                  "visible": false,
                  "x": [
                    "New York",
                    "Metro average"
                  ],
                  "xaxis": "x",
                  "y": [
                    84084,
                    71810.20588235294
                  ],
                  "yaxis": "y"
                },
                {
                  "name": "New York",
                  "type": "bar",
                  "visible": false,
                  "x": [
                    "New York",
                    "Metro average"
                  ],
                  "xaxis": "x2",
                  "y": [
                    4120.75,
                    2305.6176470588234
                  ],
                  "yaxis": "y2"
                },
                {
                  "name": "New York",
                  "type": "bar",
                  "visible": false,
                  "x": [
                    "New York",
                    "Metro average"
                  ],
                  "xaxis": "x3",
                  "y": [
                    565000,
                    430269.1176470588
                  ],
                  "yaxis": "y3"
                },
                {
                  "name": "New York",
                  "type": "bar",
                  "visible": false,
                  "x": [
                    "New York",
                    "Metro average"
                  ],
                  "xaxis": "x4",
                  "y": [
                    87.28,
                    97.88882352941178
                  ],
                  "yaxis": "y4"
                },
                {
                  "name": "Orlando",
                  "type": "bar",
                  "visible": false,
                  "x": [
                    "Orlando",
                    "Metro average"
                  ],
                  "xaxis": "x",
                  "y": [
                    53959,
                    71810.20588235294
                  ],
                  "yaxis": "y"
                },
                {
                  "name": "Orlando",
                  "type": "bar",
                  "visible": false,
                  "x": [
                    "Orlando",
                    "Metro average"
                  ],
                  "xaxis": "x2",
                  "y": [
                    2246.5,
                    2305.6176470588234
                  ],
                  "yaxis": "y2"
                },
                {
                  "name": "Orlando",
                  "type": "bar",
                  "visible": false,
                  "x": [
                    "Orlando",
                    "Metro average"
                  ],
                  "xaxis": "x3",
                  "y": [
                    380000,
                    430269.1176470588
                  ],
                  "yaxis": "y3"
                },
                {
                  "name": "Orlando",
                  "type": "bar",
                  "visible": false,
                  "x": [
                    "Orlando",
                    "Metro average"
                  ],
                  "xaxis": "x4",
                  "y": [
                    100.19,
                    97.88882352941178
                  ],
                  "yaxis": "y4"
                },
                {
                  "name": "Philadelphia",
                  "type": "bar",
                  "visible": false,
                  "x": [
                    "Philadelphia",
                    "Metro average"
                  ],
                  "xaxis": "x",
                  "y": [
                    73291,
                    71810.20588235294
                  ],
                  "yaxis": "y"
                },
                {
                  "name": "Philadelphia",
                  "type": "bar",
                  "visible": false,
                  "x": [
                    "Philadelphia",
                    "Metro average"
                  ],
                  "xaxis": "x2",
                  "y": [
                    2340.25,
                    2305.6176470588234
                  ],
                  "yaxis": "y2"
                },
                {
                  "name": "Philadelphia",
                  "type": "bar",
                  "visible": false,
                  "x": [
                    "Philadelphia",
                    "Metro average"
                  ],
                  "xaxis": "x3",
                  "y": [
                    301250,
                    430269.1176470588
                  ],
                  "yaxis": "y3"
                },
                {
                  "name": "Philadelphia",
                  "type": "bar",
                  "visible": false,
                  "x": [
                    "Philadelphia",
                    "Metro average"
                  ],
                  "xaxis": "x4",
                  "y": [
                    100.8,
                    97.88882352941178
                  ],
                  "yaxis": "y4"
                },
                {
                  "name": "Phoenix",
                  "type": "bar",
                  "visible": false,
                  "x": [
                    "Phoenix",
                    "Metro average"
                  ],
                  "xaxis": "x",
                  "y": [
                    61840,
                    71810.20588235294
                  ],
                  "yaxis": "y"
                },
                {
                  "name": "Phoenix",
                  "type": "bar",
                  "visible": false,
                  "x": [
                    "Phoenix",
                    "Metro average"
                  ],
                  "xaxis": "x2",
                  "y": [
                    2182.25,
                    2305.6176470588234
                  ],
                  "yaxis": "y2"
                },
                {
                  "name": "Phoenix",
                  "type": "bar",
                  "visible": false,
                  "x": [
                    "Phoenix",
                    "Metro average"
                  ],
                  "xaxis": "x3",
                  "y": [
                    449000,
                    430269.1176470588
                  ],
                  "yaxis": "y3"
                },
                {
                  "name": "Phoenix",
                  "type": "bar",
                  "visible": false,
                  "x": [
                    "Phoenix",
                    "Metro average"
                  ],
                  "xaxis": "x4",
                  "y": [
                    100.83,
                    97.88882352941178
                  ],
                  "yaxis": "y4"
                },
                {
                  "name": "Pittsburgh",
                  "type": "bar",
                  "visible": false,
                  "x": [
                    "Pittsburgh",
                    "Metro average"
                  ],
                  "xaxis": "x",
                  "y": [
                    65792,
                    71810.20588235294
                  ],
                  "yaxis": "y"
                },
                {
                  "name": "Pittsburgh",
                  "type": "bar",
                  "visible": false,
                  "x": [
                    "Pittsburgh",
                    "Metro average"
                  ],
                  "xaxis": "x2",
                  "y": [
                    1800.75,
                    2305.6176470588234
                  ],
                  "yaxis": "y2"
                },
                {
                  "name": "Pittsburgh",
                  "type": "bar",
                  "visible": false,
                  "x": [
                    "Pittsburgh",
                    "Metro average"
                  ],
                  "xaxis": "x3",
                  "y": [
                    192500,
                    430269.1176470588
                  ],
                  "yaxis": "y3"
                },
                {
                  "name": "Pittsburgh",
                  "type": "bar",
                  "visible": false,
                  "x": [
                    "Pittsburgh",
                    "Metro average"
                  ],
                  "xaxis": "x4",
                  "y": [
                    105.09,
                    97.88882352941178
                  ],
                  "yaxis": "y4"
                },
                {
                  "name": "Portland",
                  "type": "bar",
                  "visible": false,
                  "x": [
                    "Portland",
                    "Metro average"
                  ],
                  "xaxis": "x",
                  "y": [
                    69435,
                    71810.20588235294
                  ],
                  "yaxis": "y"
                },
                {
                  "name": "Portland",
                  "type": "bar",
                  "visible": false,
                  "x": [
                    "Portland",
                    "Metro average"
                  ],
                  "xaxis": "x2",
                  "y": [
                    2333,
                    2305.6176470588234
                  ],
                  "yaxis": "y2"
                },
                {
                  "name": "Portland",
                  "type": "bar",
                  "visible": false,
                  "x": [
                    "Portland",
                    "Metro average"
                  ],
                  "xaxis": "x3",
                  "y": [
                    515000,
                    430269.1176470588
                  ],
                  "yaxis": "y3"
                },
                {
                  "name": "Portland",
                  "type": "bar",
                  "visible": false,
                  "x": [
                    "Portland",
                    "Metro average"
                  ],
                  "xaxis": "x4",
                  "y": [
                    94.9,
                    97.88882352941178
                  ],
                  "yaxis": "y4"
                },
                {
                  "name": "Sacramento",
                  "type": "bar",
                  "visible": false,
                  "x": [
                    "Sacramento",
                    "Metro average"
                  ],
                  "xaxis": "x",
                  "y": [
                    66940,
                    71810.20588235294
                  ],
                  "yaxis": "y"
                },
                {
                  "name": "Sacramento",
                  "type": "bar",
                  "visible": false,
                  "x": [
                    "Sacramento",
                    "Metro average"
                  ],
                  "xaxis": "x2",
                  "y": [
                    2614.25,
                    2305.6176470588234
                  ],
                  "yaxis": "y2"
                },
                {
                  "name": "Sacramento",
                  "type": "bar",
                  "visible": false,
                  "x": [
                    "Sacramento",
                    "Metro average"
                  ],
                  "xaxis": "x3",
                  "y": [
                    542000,
                    430269.1176470588
                  ],
                  "yaxis": "y3"
                },
                {
                  "name": "Sacramento",
                  "type": "bar",
                  "visible": false,
                  "x": [
                    "Sacramento",
                    "Metro average"
                  ],
                  "xaxis": "x4",
                  "y": [
                    94.08,
                    97.88882352941178
                  ],
                  "yaxis": "y4"
                },
                {
                  "name": "San Antonio",
                  "type": "bar",
                  "visible": false,
                  "x": [
                    "San Antonio",
                    "Metro average"
                  ],
                  "xaxis": "x",
                  "y": [
                    55180,
                    71810.20588235294
                  ],
                  "yaxis": "y"
                },
                {
                  "name": "San Antonio",
                  "type": "bar",
                  "visible": false,
                  "x": [
                    "San Antonio",
                    "Metro average"
                  ],
                  "xaxis": "x2",
                  "y": [
                    1463,
                    2305.6176470588234
                  ],
                  "yaxis": "y2"
                },
                {
                  "name": "San Antonio",
                  "type": "bar",
                  "visible": false,
                  "x": [
                    "San Antonio",
                    "Metro average"
                  ],
                  "xaxis": "x3",
                  "y": [
                    297000,
                    430269.1176470588
                  ],
                  "yaxis": "y3"
                },
                {
                  "name": "San Antonio",
                  "type": "bar",
                  "visible": false,
                  "x": [
                    "San Antonio",
                    "Metro average"
                  ],
                  "xaxis": "x4",
                  "y": [
                    103.76,
                    97.88882352941178
                  ],
                  "yaxis": "y4"
                },
                {
                  "name": "San Diego",
                  "type": "bar",
                  "visible": false,
                  "x": [
                    "San Diego",
                    "Metro average"
                  ],
                  "xaxis": "x",
                  "y": [
                    74326,
                    71810.20588235294
                  ],
                  "yaxis": "y"
                },
                {
                  "name": "San Diego",
                  "type": "bar",
                  "visible": false,
                  "x": [
                    "San Diego",
                    "Metro average"
                  ],
                  "xaxis": "x2",
                  "y": [
                    3400.25,
                    2305.6176470588234
                  ],
                  "yaxis": "y2"
                },
                {
                  "name": "San Diego",
                  "type": "bar",
                  "visible": false,
                  "x": [
                    "San Diego",
                    "Metro average"
                  ],
                  "xaxis": "x3",
                  "y": [
                    860000,
                    430269.1176470588
                  ],
                  "yaxis": "y3"
                },
                {
                  "name": "San Diego",
                  "type": "bar",
                  "visible": false,
                  "x": [
                    "San Diego",
                    "Metro average"
                  ],
                  "xaxis": "x4",
                  "y": [
                    86.84,
                    97.88882352941178
                  ],
                  "yaxis": "y4"
                },
                {
                  "name": "San Francisco",
                  "type": "bar",
                  "visible": false,
                  "x": [
                    "San Francisco",
                    "Metro average"
                  ],
                  "xaxis": "x",
                  "y": [
                    123736,
                    71810.20588235294
                  ],
                  "yaxis": "y"
                },
                {
                  "name": "San Francisco",
                  "type": "bar",
                  "visible": false,
                  "x": [
                    "San Francisco",
                    "Metro average"
                  ],
                  "xaxis": "x2",
                  "y": [
                    3788.75,
                    2305.6176470588234
                  ],
                  "yaxis": "y2"
                },
                {
                  "name": "San Francisco",
                  "type": "bar",
                  "visible": false,
                  "x": [
                    "San Francisco",
                    "Metro average"
                  ],
                  "xaxis": "x3",
                  "y": [
                    1065000,
                    430269.1176470588
                  ],
                  "yaxis": "y3"
                },
                {
                  "name": "San Francisco",
                  "type": "bar",
                  "visible": false,
                  "x": [
                    "San Francisco",
                    "Metro average"
                  ],
                  "xaxis": "x4",
                  "y": [
                    83.45,
                    97.88882352941178
                  ],
                  "yaxis": "y4"
                },
                {
                  "name": "Seattle",
                  "type": "bar",
                  "visible": false,
                  "x": [
                    "Seattle",
                    "Metro average"
                  ],
                  "xaxis": "x",
                  "y": [
                    92113,
                    71810.20588235294
                  ],
                  "yaxis": "y"
                },
                {
                  "name": "Seattle",
                  "type": "bar",
                  "visible": false,
                  "x": [
                    "Seattle",
                    "Metro average"
                  ],
                  "xaxis": "x2",
                  "y": [
                    2946,
                    2305.6176470588234
                  ],
                  "yaxis": "y2"
                },
                {
                  "name": "Seattle",
                  "type": "bar",
                  "visible": false,
                  "x": [
                    "Seattle",
                    "Metro average"
                  ],
                  "xaxis": "x3",
                  "y": [
                    665000,
                    430269.1176470588
                  ],
                  "yaxis": "y3"
                },
                {
                  "name": "Seattle",
                  "type": "bar",
                  "visible": false,
                  "x": [
                    "Seattle",
                    "Metro average"
                  ],
                  "xaxis": "x4",
                  "y": [
                    87.28,
                    97.88882352941178
                  ],
                  "yaxis": "y4"
                },
                {
                  "name": "St. Louis",
                  "type": "bar",
                  "visible": false,
                  "x": [
                    "St. Louis",
                    "Metro average"
                  ],
                  "xaxis": "x",
                  "y": [
                    69698,
                    71810.20588235294
                  ],
                  "yaxis": "y"
                },
                {
                  "name": "St. Louis",
                  "type": "bar",
                  "visible": false,
                  "x": [
                    "St. Louis",
                    "Metro average"
                  ],
                  "xaxis": "x2",
                  "y": [
                    1680.5,
                    2305.6176470588234
                  ],
                  "yaxis": "y2"
                },
                {
                  "name": "St. Louis",
                  "type": "bar",
                  "visible": false,
                  "x": [
                    "St. Louis",
                    "Metro average"
                  ],
                  "xaxis": "x3",
                  "y": [
                    218000,
                    430269.1176470588
                  ],
                  "yaxis": "y3"
                },
                {
                  "name": "St. Louis",
                  "type": "bar",
                  "visible": false,
                  "x": [
                    "St. Louis",
                    "Metro average"
                  ],
                  "xaxis": "x4",
                  "y": [
                    103.9,
                    97.88882352941178
                  ],
                  "yaxis": "y4"
                },
                {
                  "name": "Tampa",
                  "type": "bar",
                  "visible": false,
                  "x": [
                    "Tampa",
                    "Metro average"
                  ],
                  "xaxis": "x",
                  "y": [
                    60091,
                    71810.20588235294
                  ],
                  "yaxis": "y"
                },
                {
                  "name": "Tampa",
                  "type": "bar",
                  "visible": false,
                  "x": [
                    "Tampa",
                    "Metro average"
                  ],
                  "xaxis": "x2",
                  "y": [
                    2207.5,
                    2305.6176470588234
                  ],
                  "yaxis": "y2"
                },
                {
                  "name": "Tampa",
                  "type": "bar",
                  "visible": false,
                  "x": [
                    "Tampa",
                    "Metro average"
                  ],
                  "xaxis": "x3",
                  "y": [
                    365000,
                    430269.1176470588
                  ],
                  "yaxis": "y3"
                },
                {
                  "name": "Tampa",
                  "type": "bar",
                  "visible": false,
                  "x": [
                    "Tampa",
                    "Metro average"
                  ],
                  "xaxis": "x4",
                  "y": [
                    101.04,
                    97.88882352941178
                  ],
                  "yaxis": "y4"
                },
                {
                  "name": "Virginia Beach",
                  "type": "bar",
                  "visible": false,
                  "x": [
                    "Virginia Beach",
                    "Metro average"
                  ],
                  "xaxis": "x",
                  "y": [
                    57873,
                    71810.20588235294
                  ],
                  "yaxis": "y"
                },
                {
                  "name": "Virginia Beach",
                  "type": "bar",
                  "visible": false,
                  "x": [
                    "Virginia Beach",
                    "Metro average"
                  ],
                  "xaxis": "x2",
                  "y": [
                    1826,
                    2305.6176470588234
                  ],
                  "yaxis": "y2"
                },
                {
                  "name": "Virginia Beach",
                  "type": "bar",
                  "visible": false,
                  "x": [
                    "Virginia Beach",
                    "Metro average"
                  ],
                  "xaxis": "x3",
                  "y": [
                    309750,
                    430269.1176470588
                  ],
                  "yaxis": "y3"
                },
                {
                  "name": "Virginia Beach",
                  "type": "bar",
                  "visible": false,
                  "x": [
                    "Virginia Beach",
                    "Metro average"
                  ],
                  "xaxis": "x4",
                  "y": [
                    102.26,
                    97.88882352941178
                  ],
                  "yaxis": "y4"
                },
                {
                  "name": "Washington, DC",
                  "type": "bar",
                  "visible": false,
                  "x": [
                    "Washington, DC",
                    "Metro average"
                  ],
                  "xaxis": "x",
                  "y": [
                    83010,
                    71810.20588235294
                  ],
                  "yaxis": "y"
                },
                {
                  "name": "Washington, DC",
                  "type": "bar",
                  "visible": false,
                  "x": [
                    "Washington, DC",
                    "Metro average"
                  ],
                  "xaxis": "x2",
                  "y": [
                    2657.25,
                    2305.6176470588234
                  ],
                  "yaxis": "y2"
                },
                {
                  "name": "Washington, DC",
                  "type": "bar",
                  "visible": false,
                  "x": [
                    "Washington, DC",
                    "Metro average"
                  ],
                  "xaxis": "x3",
                  "y": [
                    515000,
                    430269.1176470588
                  ],
                  "yaxis": "y3"
                },
                {
                  "name": "Washington, DC",
                  "type": "bar",
                  "visible": false,
                  "x": [
                    "Washington, DC",
                    "Metro average"
                  ],
                  "xaxis": "x4",
                  "y": [
                    89.82,
                    97.88882352941178
                  ],
                  "yaxis": "y4"
                }
              ],
              "layout": {
                "annotations": [
                  {
                    "font": {
                      "size": 16
                    },
                    "showarrow": false,
                    "text": "Median Personal Income (USD)",
                    "x": 0.10625,
                    "xanchor": "center",
                    "xref": "paper",
                    "y": 1,
                    "yanchor": "bottom",
                    "yref": "paper"
                  },
                  {
                    "font": {
                      "size": 16
                    },
                    "showarrow": false,
                    "text": "Median Rent (USD)",
                    "x": 0.36875,
                    "xanchor": "center",
                    "xref": "paper",
                    "y": 1,
                    "yanchor": "bottom",
                    "yref": "paper"
                  },
                  {
                    "font": {
                      "size": 16
                    },
                    "showarrow": false,
                    "text": "Median Home Sale Price (USD)",
                    "x": 0.6312500000000001,
                    "xanchor": "center",
                    "xref": "paper",
                    "y": 1,
                    "yanchor": "bottom",
                    "yref": "paper"
                  },
                  {
                    "font": {
                      "size": 16
                    },
                    "showarrow": false,
                    "text": "Purchasing Power (per $100)",
                    "x": 0.89375,
                    "xanchor": "center",
                    "xref": "paper",
                    "y": 1,
                    "yanchor": "bottom",
                    "yref": "paper"
                  }
                ],
                "height": 400,
                "showlegend": false,
                "template": {
                  "data": {
                    "bar": [
                      {
                        "error_x": {
                          "color": "#2a3f5f"
                        },
                        "error_y": {
                          "color": "#2a3f5f"
                        },
                        "marker": {
                          "line": {
                            "color": "#E5ECF6",
                            "width": 0.5
                          },
                          "pattern": {
                            "fillmode": "overlay",
                            "size": 10,
                            "solidity": 0.2
                          }
                        },
                        "type": "bar"
                      }
                    ],
                    "barpolar": [
                      {
                        "marker": {
                          "line": {
                            "color": "#E5ECF6",
                            "width": 0.5
                          },
                          "pattern": {
                            "fillmode": "overlay",
                            "size": 10,
                            "solidity": 0.2
                          }
                        },
                        "type": "barpolar"
                      }
                    ],
                    "carpet": [
                      {
                        "aaxis": {
                          "endlinecolor": "#2a3f5f",
                          "gridcolor": "white",
                          "linecolor": "white",
                          "minorgridcolor": "white",
                          "startlinecolor": "#2a3f5f"
                        },
                        "baxis": {
                          "endlinecolor": "#2a3f5f",
                          "gridcolor": "white",
                          "linecolor": "white",
                          "minorgridcolor": "white",
                          "startlinecolor": "#2a3f5f"
                        },
                        "type": "carpet"
                      }
                    ],
                    "choropleth": [
                      {
                        "colorbar": {
                          "outlinewidth": 0,
                          "ticks": ""
                        },
                        "type": "choropleth"
                      }
                    ],
                    "contour": [
                      {
                        "colorbar": {
                          "outlinewidth": 0,
                          "ticks": ""
                        },
                        "colorscale": [
                          [
                            0,
                            "#0d0887"
                          ],
                          [
                            0.1111111111111111,
                            "#46039f"
                          ],
                          [
                            0.2222222222222222,
                            "#7201a8"
                          ],
                          [
                            0.3333333333333333,
                            "#9c179e"
                          ],
                          [
                            0.4444444444444444,
                            "#bd3786"
                          ],
                          [
                            0.5555555555555556,
                            "#d8576b"
                          ],
                          [
                            0.6666666666666666,
                            "#ed7953"
                          ],
                          [
                            0.7777777777777778,
                            "#fb9f3a"
                          ],
                          [
                            0.8888888888888888,
                            "#fdca26"
                          ],
                          [
                            1,
                            "#f0f921"
                          ]
                        ],
                        "type": "contour"
                      }
                    ],
                    "contourcarpet": [
                      {
                        "colorbar": {
                          "outlinewidth": 0,
                          "ticks": ""
                        },
                        "type": "contourcarpet"
                      }
                    ],
                    "heatmap": [
                      {
                        "colorbar": {
                          "outlinewidth": 0,
                          "ticks": ""
                        },
                        "colorscale": [
                          [
                            0,
                            "#0d0887"
                          ],
                          [
                            0.1111111111111111,
                            "#46039f"
                          ],
                          [
                            0.2222222222222222,
                            "#7201a8"
                          ],
                          [
                            0.3333333333333333,
                            "#9c179e"
                          ],
                          [
                            0.4444444444444444,
                            "#bd3786"
                          ],
                          [
                            0.5555555555555556,
                            "#d8576b"
                          ],
                          [
                            0.6666666666666666,
                            "#ed7953"
                          ],
                          [
                            0.7777777777777778,
                            "#fb9f3a"
                          ],
                          [
                            0.8888888888888888,
                            "#fdca26"
                          ],
                          [
                            1,
                            "#f0f921"
                          ]
                        ],
                        "type": "heatmap"
                      }
                    ],
                    "heatmapgl": [
                      {
                        "colorbar": {
                          "outlinewidth": 0,
                          "ticks": ""
                        },
                        "colorscale": [
                          [
                            0,
                            "#0d0887"
                          ],
                          [
                            0.1111111111111111,
                            "#46039f"
                          ],
                          [
                            0.2222222222222222,
                            "#7201a8"
                          ],
                          [
                            0.3333333333333333,
                            "#9c179e"
                          ],
                          [
                            0.4444444444444444,
                            "#bd3786"
                          ],
                          [
                            0.5555555555555556,
                            "#d8576b"
                          ],
                          [
                            0.6666666666666666,
                            "#ed7953"
                          ],
                          [
                            0.7777777777777778,
                            "#fb9f3a"
                          ],
                          [
                            0.8888888888888888,
                            "#fdca26"
                          ],
                          [
                            1,
                            "#f0f921"
                          ]
                        ],
                        "type": "heatmapgl"
                      }
                    ],
                    "histogram": [
                      {
                        "marker": {
                          "pattern": {
                            "fillmode": "overlay",
                            "size": 10,
                            "solidity": 0.2
                          }
                        },
                        "type": "histogram"
                      }
                    ],
                    "histogram2d": [
                      {
                        "colorbar": {
                          "outlinewidth": 0,
                          "ticks": ""
                        },
                        "colorscale": [
                          [
                            0,
                            "#0d0887"
                          ],
                          [
                            0.1111111111111111,
                            "#46039f"
                          ],
                          [
                            0.2222222222222222,
                            "#7201a8"
                          ],
                          [
                            0.3333333333333333,
                            "#9c179e"
                          ],
                          [
                            0.4444444444444444,
                            "#bd3786"
                          ],
                          [
                            0.5555555555555556,
                            "#d8576b"
                          ],
                          [
                            0.6666666666666666,
                            "#ed7953"
                          ],
                          [
                            0.7777777777777778,
                            "#fb9f3a"
                          ],
                          [
                            0.8888888888888888,
                            "#fdca26"
                          ],
                          [
                            1,
                            "#f0f921"
                          ]
                        ],
                        "type": "histogram2d"
                      }
                    ],
                    "histogram2dcontour": [
                      {
                        "colorbar": {
                          "outlinewidth": 0,
                          "ticks": ""
                        },
                        "colorscale": [
                          [
                            0,
                            "#0d0887"
                          ],
                          [
                            0.1111111111111111,
                            "#46039f"
                          ],
                          [
                            0.2222222222222222,
                            "#7201a8"
                          ],
                          [
                            0.3333333333333333,
                            "#9c179e"
                          ],
                          [
                            0.4444444444444444,
                            "#bd3786"
                          ],
                          [
                            0.5555555555555556,
                            "#d8576b"
                          ],
                          [
                            0.6666666666666666,
                            "#ed7953"
                          ],
                          [
                            0.7777777777777778,
                            "#fb9f3a"
                          ],
                          [
                            0.8888888888888888,
                            "#fdca26"
                          ],
                          [
                            1,
                            "#f0f921"
                          ]
                        ],
                        "type": "histogram2dcontour"
                      }
                    ],
                    "mesh3d": [
                      {
                        "colorbar": {
                          "outlinewidth": 0,
                          "ticks": ""
                        },
                        "type": "mesh3d"
                      }
                    ],
                    "parcoords": [
                      {
                        "line": {
                          "colorbar": {
                            "outlinewidth": 0,
                            "ticks": ""
                          }
                        },
                        "type": "parcoords"
                      }
                    ],
                    "pie": [
                      {
                        "automargin": true,
                        "type": "pie"
                      }
                    ],
                    "scatter": [
                      {
                        "fillpattern": {
                          "fillmode": "overlay",
                          "size": 10,
                          "solidity": 0.2
                        },
                        "type": "scatter"
                      }
                    ],
                    "scatter3d": [
                      {
                        "line": {
                          "colorbar": {
                            "outlinewidth": 0,
                            "ticks": ""
                          }
                        },
                        "marker": {
                          "colorbar": {
                            "outlinewidth": 0,
                            "ticks": ""
                          }
                        },
                        "type": "scatter3d"
                      }
                    ],
                    "scattercarpet": [
                      {
                        "marker": {
                          "colorbar": {
                            "outlinewidth": 0,
                            "ticks": ""
                          }
                        },
                        "type": "scattercarpet"
                      }
                    ],
                    "scattergeo": [
                      {
                        "marker": {
                          "colorbar": {
                            "outlinewidth": 0,
                            "ticks": ""
                          }
                        },
                        "type": "scattergeo"
                      }
                    ],
                    "scattergl": [
                      {
                        "marker": {
                          "colorbar": {
                            "outlinewidth": 0,
                            "ticks": ""
                          }
                        },
                        "type": "scattergl"
                      }
                    ],
                    "scattermapbox": [
                      {
                        "marker": {
                          "colorbar": {
                            "outlinewidth": 0,
                            "ticks": ""
                          }
                        },
                        "type": "scattermapbox"
                      }
                    ],
                    "scatterpolar": [
                      {
                        "marker": {
                          "colorbar": {
                            "outlinewidth": 0,
                            "ticks": ""
                          }
                        },
                        "type": "scatterpolar"
                      }
                    ],
                    "scatterpolargl": [
                      {
                        "marker": {
                          "colorbar": {
                            "outlinewidth": 0,
                            "ticks": ""
                          }
                        },
                        "type": "scatterpolargl"
                      }
                    ],
                    "scatterternary": [
                      {
                        "marker": {
                          "colorbar": {
                            "outlinewidth": 0,
                            "ticks": ""
                          }
                        },
                        "type": "scatterternary"
                      }
                    ],
                    "surface": [
                      {
                        "colorbar": {
                          "outlinewidth": 0,
                          "ticks": ""
                        },
                        "colorscale": [
                          [
                            0,
                            "#0d0887"
                          ],
                          [
                            0.1111111111111111,
                            "#46039f"
                          ],
                          [
                            0.2222222222222222,
                            "#7201a8"
                          ],
                          [
                            0.3333333333333333,
                            "#9c179e"
                          ],
                          [
                            0.4444444444444444,
                            "#bd3786"
                          ],
                          [
                            0.5555555555555556,
                            "#d8576b"
                          ],
                          [
                            0.6666666666666666,
                            "#ed7953"
                          ],
                          [
                            0.7777777777777778,
                            "#fb9f3a"
                          ],
                          [
                            0.8888888888888888,
                            "#fdca26"
                          ],
                          [
                            1,
                            "#f0f921"
                          ]
                        ],
                        "type": "surface"
                      }
                    ],
                    "table": [
                      {
                        "cells": {
                          "fill": {
                            "color": "#EBF0F8"
                          },
                          "line": {
                            "color": "white"
                          }
                        },
                        "header": {
                          "fill": {
                            "color": "#C8D4E3"
                          },
                          "line": {
                            "color": "white"
                          }
                        },
                        "type": "table"
                      }
                    ]
                  },
                  "layout": {
                    "annotationdefaults": {
                      "arrowcolor": "#2a3f5f",
                      "arrowhead": 0,
                      "arrowwidth": 1
                    },
                    "autotypenumbers": "strict",
                    "coloraxis": {
                      "colorbar": {
                        "outlinewidth": 0,
                        "ticks": ""
                      }
                    },
                    "colorscale": {
                      "diverging": [
                        [
                          0,
                          "#8e0152"
                        ],
                        [
                          0.1,
                          "#c51b7d"
                        ],
                        [
                          0.2,
                          "#de77ae"
                        ],
                        [
                          0.3,
                          "#f1b6da"
                        ],
                        [
                          0.4,
                          "#fde0ef"
                        ],
                        [
                          0.5,
                          "#f7f7f7"
                        ],
                        [
                          0.6,
                          "#e6f5d0"
                        ],
                        [
                          0.7,
                          "#b8e186"
                        ],
                        [
                          0.8,
                          "#7fbc41"
                        ],
                        [
                          0.9,
                          "#4d9221"
                        ],
                        [
                          1,
                          "#276419"
                        ]
                      ],
                      "sequential": [
                        [
                          0,
                          "#0d0887"
                        ],
                        [
                          0.1111111111111111,
                          "#46039f"
                        ],
                        [
                          0.2222222222222222,
                          "#7201a8"
                        ],
                        [
                          0.3333333333333333,
                          "#9c179e"
                        ],
                        [
                          0.4444444444444444,
                          "#bd3786"
                        ],
                        [
                          0.5555555555555556,
                          "#d8576b"
                        ],
                        [
                          0.6666666666666666,
                          "#ed7953"
                        ],
                        [
                          0.7777777777777778,
                          "#fb9f3a"
                        ],
                        [
                          0.8888888888888888,
                          "#fdca26"
                        ],
                        [
                          1,
                          "#f0f921"
                        ]
                      ],
                      "sequentialminus": [
                        [
                          0,
                          "#0d0887"
                        ],
                        [
                          0.1111111111111111,
                          "#46039f"
                        ],
                        [
                          0.2222222222222222,
                          "#7201a8"
                        ],
                        [
                          0.3333333333333333,
                          "#9c179e"
                        ],
                        [
                          0.4444444444444444,
                          "#bd3786"
                        ],
                        [
                          0.5555555555555556,
                          "#d8576b"
                        ],
                        [
                          0.6666666666666666,
                          "#ed7953"
                        ],
                        [
                          0.7777777777777778,
                          "#fb9f3a"
                        ],
                        [
                          0.8888888888888888,
                          "#fdca26"
                        ],
                        [
                          1,
                          "#f0f921"
                        ]
                      ]
                    },
                    "colorway": [
                      "#636efa",
                      "#EF553B",
                      "#00cc96",
                      "#ab63fa",
                      "#FFA15A",
                      "#19d3f3",
                      "#FF6692",
                      "#B6E880",
                      "#FF97FF",
                      "#FECB52"
                    ],
                    "font": {
                      "color": "#2a3f5f"
                    },
                    "geo": {
                      "bgcolor": "white",
                      "lakecolor": "white",
                      "landcolor": "#E5ECF6",
                      "showlakes": true,
                      "showland": true,
                      "subunitcolor": "white"
                    },
                    "hoverlabel": {
                      "align": "left"
                    },
                    "hovermode": "closest",
                    "mapbox": {
                      "style": "light"
                    },
                    "paper_bgcolor": "white",
                    "plot_bgcolor": "#E5ECF6",
                    "polar": {
                      "angularaxis": {
                        "gridcolor": "white",
                        "linecolor": "white",
                        "ticks": ""
                      },
                      "bgcolor": "#E5ECF6",
                      "radialaxis": {
                        "gridcolor": "white",
                        "linecolor": "white",
                        "ticks": ""
                      }
                    },
                    "scene": {
                      "xaxis": {
                        "backgroundcolor": "#E5ECF6",
                        "gridcolor": "white",
                        "gridwidth": 2,
                        "linecolor": "white",
                        "showbackground": true,
                        "ticks": "",
                        "zerolinecolor": "white"
                      },
                      "yaxis": {
                        "backgroundcolor": "#E5ECF6",
                        "gridcolor": "white",
                        "gridwidth": 2,
                        "linecolor": "white",
                        "showbackground": true,
                        "ticks": "",
                        "zerolinecolor": "white"
                      },
                      "zaxis": {
                        "backgroundcolor": "#E5ECF6",
                        "gridcolor": "white",
                        "gridwidth": 2,
                        "linecolor": "white",
                        "showbackground": true,
                        "ticks": "",
                        "zerolinecolor": "white"
                      }
                    },
                    "shapedefaults": {
                      "line": {
                        "color": "#2a3f5f"
                      }
                    },
                    "ternary": {
                      "aaxis": {
                        "gridcolor": "white",
                        "linecolor": "white",
                        "ticks": ""
                      },
                      "baxis": {
                        "gridcolor": "white",
                        "linecolor": "white",
                        "ticks": ""
                      },
                      "bgcolor": "#E5ECF6",
                      "caxis": {
                        "gridcolor": "white",
                        "linecolor": "white",
                        "ticks": ""
                      }
                    },
                    "title": {
                      "x": 0.05
                    },
                    "xaxis": {
                      "automargin": true,
                      "gridcolor": "white",
                      "linecolor": "white",
                      "ticks": "",
                      "title": {
                        "standoff": 15
                      },
                      "zerolinecolor": "white",
                      "zerolinewidth": 2
                    },
                    "yaxis": {
                      "automargin": true,
                      "gridcolor": "white",
                      "linecolor": "white",
                      "ticks": "",
                      "title": {
                        "standoff": 15
                      },
                      "zerolinecolor": "white",
                      "zerolinewidth": 2
                    }
                  }
                },
                "updatemenus": [
                  {
                    "buttons": [
                      {
                        "args": [
                          {
                            "visible": [
                              true,
                              true,
                              true,
                              true,
                              false,
                              false,
                              false,
                              false,
                              false,
                              false,
                              false,
                              false,
                              false,
                              false,
                              false,
                              false,
                              false,
                              false,
                              false,
                              false,
                              false,
                              false,
                              false,
                              false,
                              false,
                              false,
                              false,
                              false,
                              false,
                              false,
                              false,
                              false,
                              false,
                              false,
                              false,
                              false,
                              false,
                              false,
                              false,
                              false,
                              false,
                              false,
                              false,
                              false,
                              false,
                              false,
                              false,
                              false,
                              false,
                              false,
                              false,
                              false,
                              false,
                              false,
                              false,
                              false,
                              false,
                              false,
                              false,
                              false,
                              false,
                              false,
                              false,
                              false,
                              false,
                              false,
                              false,
                              false,
                              false,
                              false,
                              false,
                              false,
                              false,
                              false,
                              false,
                              false,
                              false,
                              false,
                              false,
                              false,
                              false,
                              false,
                              false,
                              false,
                              false,
                              false,
                              false,
                              false,
                              false,
                              false,
                              false,
                              false,
                              false,
                              false,
                              false,
                              false,
                              false,
                              false,
                              false,
                              false,
                              false,
                              false,
                              false,
                              false,
                              false,
                              false,
                              false,
                              false,
                              false,
                              false,
                              false,
                              false,
                              false,
                              false,
                              false,
                              false,
                              false,
                              false,
                              false,
                              false,
                              false,
                              false,
                              false,
                              false,
                              false,
                              false,
                              false,
                              false,
                              false,
                              false,
                              false,
                              false,
                              false,
                              false,
                              false,
                              false
                            ]
                          }
                        ],
                        "label": "Atlanta",
                        "method": "update"
                      },
                      {
                        "args": [
                          {
                            "visible": [
                              false,
                              false,
                              false,
                              false,
                              true,
                              true,
                              true,
                              true,
                              false,
                              false,
                              false,
                              false,
                              false,
                              false,
                              false,
                              false,
                              false,
                              false,
                              false,
                              false,
                              false,
                              false,
                              false,
                              false,
                              false,
                              false,
                              false,
                              false,
                              false,
                              false,
                              false,
                              false,
                              false,
                              false,
                              false,
                              false,
                              false,
                              false,
                              false,
                              false,
                              false,
                              false,
                              false,
                              false,
                              false,
                              false,
                              false,
                              false,
                              false,
                              false,
                              false,
                              false,
                              false,
                              false,
                              false,
                              false,
                              false,
                              false,
                              false,
                              false,
                              false,
                              false,
                              false,
                              false,
                              false,
                              false,
                              false,
                              false,
                              false,
                              false,
                              false,
                              false,
                              false,
                              false,
                              false,
                              false,
                              false,
                              false,
                              false,
                              false,
                              false,
                              false,
                              false,
                              false,
                              false,
                              false,
                              false,
                              false,
                              false,
                              false,
                              false,
                              false,
                              false,
                              false,
                              false,
                              false,
                              false,
                              false,
                              false,
                              false,
                              false,
                              false,
                              false,
                              false,
                              false,
                              false,
                              false,
                              false,
                              false,
                              false,
                              false,
                              false,
                              false,
                              false,
                              false,
                              false,
                              false,
                              false,
                              false,
                              false,
                              false,
                              false,
                              false,
                              false,
                              false,
                              false,
                              false,
                              false,
                              false,
                              false,
                              false,
                              false,
                              false,
                              false,
                              false,
                              false
                            ]
                          }
                        ],
                        "label": "Austin",
                        "method": "update"
                      },
                      {
                        "args": [
                          {
                            "visible": [
                              false,
                              false,
                              false,
                              false,
                              false,
                              false,
                              false,
                              false,
                              true,
                              true,
                              true,
                              true,
                              false,
                              false,
                              false,
                              false,
                              false,
                              false,
                              false,
                              false,
                              false,
                              false,
                              false,
                              false,
                              false,
                              false,
                              false,
                              false,
                              false,
                              false,
                              false,
                              false,
                              false,
                              false,
                              false,
                              false,
                              false,
                              false,
                              false,
                              false,
                              false,
                              false,
                              false,
                              false,
                              false,
                              false,
                              false,
                              false,
                              false,
                              false,
                              false,
                              false,
                              false,
                              false,
                              false,
                              false,
                              false,
                              false,
                              false,
                              false,
                              false,
                              false,
                              false,
                              false,
                              false,
                              false,
                              false,
                              false,
                              false,
                              false,
                              false,
                              false,
                              false,
                              false,
                              false,
                              false,
                              false,
                              false,
                              false,
                              false,
                              false,
                              false,
                              false,
                              false,
                              false,
                              false,
                              false,
                              false,
                              false,
                              false,
                              false,
                              false,
                              false,
                              false,
                              false,
                              false,
                              false,
                              false,
                              false,
                              false,
                              false,
                              false,
                              false,
                              false,
                              false,
                              false,
                              false,
                              false,
                              false,
                              false,
                              false,
                              false,
                              false,
                              false,
                              false,
                              false,
                              false,
                              false,
                              false,
                              false,
                              false,
                              false,
                              false,
                              false,
                              false,
                              false,
                              false,
                              false,
                              false,
                              false,
                              false,
                              false,
                              false,
                              false,
                              false,
                              false
                            ]
                          }
                        ],
                        "label": "Baltimore",
                        "method": "update"
                      },
                      {
                        "args": [
                          {
                            "visible": [
                              false,
                              false,
                              false,
                              false,
                              false,
                              false,
                              false,
                              false,
                              false,
                              false,
                              false,
                              false,
                              true,
                              true,
                              true,
                              true,
                              false,
                              false,
                              false,
                              false,
                              false,
                              false,
                              false,
                              false,
                              false,
                              false,
                              false,
                              false,
                              false,
                              false,
                              false,
                              false,
                              false,
                              false,
                              false,
                              false,
                              false,
                              false,
                              false,
                              false,
                              false,
                              false,
                              false,
                              false,
                              false,
                              false,
                              false,
                              false,
                              false,
                              false,
                              false,
                              false,
                              false,
                              false,
                              false,
                              false,
                              false,
                              false,
                              false,
                              false,
                              false,
                              false,
                              false,
                              false,
                              false,
                              false,
                              false,
                              false,
                              false,
                              false,
                              false,
                              false,
                              false,
                              false,
                              false,
                              false,
                              false,
                              false,
                              false,
                              false,
                              false,
                              false,
                              false,
                              false,
                              false,
                              false,
                              false,
                              false,
                              false,
                              false,
                              false,
                              false,
                              false,
                              false,
                              false,
                              false,
                              false,
                              false,
                              false,
                              false,
                              false,
                              false,
                              false,
                              false,
                              false,
                              false,
                              false,
                              false,
                              false,
                              false,
                              false,
                              false,
                              false,
                              false,
                              false,
                              false,
                              false,
                              false,
                              false,
                              false,
                              false,
                              false,
                              false,
                              false,
                              false,
                              false,
                              false,
                              false,
                              false,
                              false,
                              false,
                              false,
                              false,
                              false,
                              false,
                              false
                            ]
                          }
                        ],
                        "label": "Boston",
                        "method": "update"
                      },
                      {
                        "args": [
                          {
                            "visible": [
                              false,
                              false,
                              false,
                              false,
                              false,
                              false,
                              false,
                              false,
                              false,
                              false,
                              false,
                              false,
                              false,
                              false,
                              false,
                              false,
                              true,
                              true,
                              true,
                              true,
                              false,
                              false,
                              false,
                              false,
                              false,
                              false,
                              false,
                              false,
                              false,
                              false,
                              false,
                              false,
                              false,
                              false,
                              false,
                              false,
                              false,
                              false,
                              false,
                              false,
                              false,
                              false,
                              false,
                              false,
                              false,
                              false,
                              false,
                              false,
                              false,
                              false,
                              false,
                              false,
                              false,
                              false,
                              false,
                              false,
                              false,
                              false,
                              false,
                              false,
                              false,
                              false,
                              false,
                              false,
                              false,
                              false,
                              false,
                              false,
                              false,
                              false,
                              false,
                              false,
                              false,
                              false,
                              false,
                              false,
                              false,
                              false,
                              false,
                              false,
                              false,
                              false,
                              false,
                              false,
                              false,
                              false,
                              false,
                              false,
                              false,
                              false,
                              false,
                              false,
                              false,
                              false,
                              false,
                              false,
                              false,
                              false,
                              false,
                              false,
                              false,
                              false,
                              false,
                              false,
                              false,
                              false,
                              false,
                              false,
                              false,
                              false,
                              false,
                              false,
                              false,
                              false,
                              false,
                              false,
                              false,
                              false,
                              false,
                              false,
                              false,
                              false,
                              false,
                              false,
                              false,
                              false,
                              false,
                              false,
                              false,
                              false,
                              false,
                              false,
                              false,
                              false,
                              false,
                              false
                            ]
                          }
                        ],
                        "label": "Charlotte",
                        "method": "update"
                      },
                      {
                        "args": [
                          {
                            "visible": [
                              false,
                              false,
                              false,
                              false,
                              false,
                              false,
                              false,
                              false,
                              false,
                              false,
                              false,
                              false,
                              false,
                              false,
                              false,
                              false,
                              false,
                              false,
                              false,
                              false,
                              true,
                              true,
                              true,
                              true,
                              false,
                              false,
                              false,
                              false,
                              false,
                              false,
                              false,
                              false,
                              false,
                              false,
                              false,
                              false,
                              false,
                              false,
                              false,
                              false,
                              false,
                              false,
                              false,
                              false,
                              false,
                              false,
                              false,
                              false,
                              false,
                              false,
                              false,
                              false,
                              false,
                              false,
                              false,
                              false,
                              false,
                              false,
                              false,
                              false,
                              false,
                              false,
                              false,
                              false,
                              false,
                              false,
                              false,
                              false,
                              false,
                              false,
                              false,
                              false,
                              false,
                              false,
                              false,
                              false,
                              false,
                              false,
                              false,
                              false,
                              false,
                              false,
                              false,
                              false,
                              false,
                              false,
                              false,
                              false,
                              false,
                              false,
                              false,
                              false,
                              false,
                              false,
                              false,
                              false,
                              false,
                              false,
                              false,
                              false,
                              false,
                              false,
                              false,
                              false,
                              false,
                              false,
                              false,
                              false,
                              false,
                              false,
                              false,
                              false,
                              false,
                              false,
                              false,
                              false,
                              false,
                              false,
                              false,
                              false,
                              false,
                              false,
                              false,
                              false,
                              false,
                              false,
                              false,
                              false,
                              false,
                              false,
                              false,
                              false,
                              false,
                              false,
                              false,
                              false
                            ]
                          }
                        ],
                        "label": "Chicago",
                        "method": "update"
                      },
                      {
                        "args": [
                          {
                            "visible": [
                              false,
                              false,
                              false,
                              false,
                              false,
                              false,
                              false,
                              false,
                              false,
                              false,
                              false,
                              false,
                              false,
                              false,
                              false,
                              false,
                              false,
                              false,
                              false,
                              false,
                              false,
                              false,
                              false,
                              false,
                              true,
                              true,
                              true,
                              true,
                              false,
                              false,
                              false,
                              false,
                              false,
                              false,
                              false,
                              false,
                              false,
                              false,
                              false,
                              false,
                              false,
                              false,
                              false,
                              false,
                              false,
                              false,
                              false,
                              false,
                              false,
                              false,
                              false,
                              false,
                              false,
                              false,
                              false,
                              false,
                              false,
                              false,
                              false,
                              false,
                              false,
                              false,
                              false,
                              false,
                              false,
                              false,
                              false,
                              false,
                              false,
                              false,
                              false,
                              false,
                              false,
                              false,
                              false,
                              false,
                              false,
                              false,
                              false,
                              false,
                              false,
                              false,
                              false,
                              false,
                              false,
                              false,
                              false,
                              false,
                              false,
                              false,
                              false,
                              false,
                              false,
                              false,
                              false,
                              false,
                              false,
                              false,
                              false,
                              false,
                              false,
                              false,
                              false,
                              false,
                              false,
                              false,
                              false,
                              false,
                              false,
                              false,
                              false,
                              false,
                              false,
                              false,
                              false,
                              false,
                              false,
                              false,
                              false,
                              false,
                              false,
                              false,
                              false,
                              false,
                              false,
                              false,
                              false,
                              false,
                              false,
                              false,
                              false,
                              false,
                              false,
                              false,
                              false,
                              false
                            ]
                          }
                        ],
                        "label": "Cincinnati",
                        "method": "update"
                      },
                      {
                        "args": [
                          {
                            "visible": [
                              false,
                              false,
                              false,
                              false,
                              false,
                              false,
                              false,
                              false,
                              false,
                              false,
                              false,
                              false,
                              false,
                              false,
                              false,
                              false,
                              false,
                              false,
                              false,
                              false,
                              false,
                              false,
                              false,
                              false,
                              false,
                              false,
                              false,
                              false,
                              true,
                              true,
                              true,
                              true,
                              false,
                              false,
                              false,
                              false,
                              false,
                              false,
                              false,
                              false,
                              false,
                              false,
                              false,
                              false,
                              false,
                              false,
                              false,
                              false,
                              false,
                              false,
                              false,
                              false,
                              false,
                              false,
                              false,
                              false,
                              false,
                              false,
                              false,
                              false,
                              false,
                              false,
                              false,
                              false,
                              false,
                              false,
                              false,
                              false,
                              false,
                              false,
                              false,
                              false,
                              false,
                              false,
                              false,
                              false,
                              false,
                              false,
                              false,
                              false,
                              false,
                              false,
                              false,
                              false,
                              false,
                              false,
                              false,
                              false,
                              false,
                              false,
                              false,
                              false,
                              false,
                              false,
                              false,
                              false,
                              false,
                              false,
                              false,
                              false,
                              false,
                              false,
                              false,
                              false,
                              false,
                              false,
                              false,
                              false,
                              false,
                              false,
                              false,
                              false,
                              false,
                              false,
                              false,
                              false,
                              false,
                              false,
                              false,
                              false,
                              false,
                              false,
                              false,
                              false,
                              false,
                              false,
                              false,
                              false,
                              false,
                              false,
                              false,
                              false,
                              false,
                              false,
                              false,
                              false
                            ]
                          }
                        ],
                        "label": "Cleveland",
                        "method": "update"
                      },
                      {
                        "args": [
                          {
                            "visible": [
                              false,
                              false,
                              false,
                              false,
                              false,
                              false,
                              false,
                              false,
                              false,
                              false,
                              false,
                              false,
                              false,
                              false,
                              false,
                              false,
                              false,
                              false,
                              false,
                              false,
                              false,
                              false,
                              false,
                              false,
                              false,
                              false,
                              false,
                              false,
                              false,
                              false,
                              false,
                              false,
                              true,
                              true,
                              true,
                              true,
                              false,
                              false,
                              false,
                              false,
                              false,
                              false,
                              false,
                              false,
                              false,
                              false,
                              false,
                              false,
                              false,
                              false,
                              false,
                              false,
                              false,
                              false,
                              false,
                              false,
                              false,
                              false,
                              false,
                              false,
                              false,
                              false,
                              false,
                              false,
                              false,
                              false,
                              false,
                              false,
                              false,
                              false,
                              false,
                              false,
                              false,
                              false,
                              false,
                              false,
                              false,
                              false,
                              false,
                              false,
                              false,
                              false,
                              false,
                              false,
                              false,
                              false,
                              false,
                              false,
                              false,
                              false,
                              false,
                              false,
                              false,
                              false,
                              false,
                              false,
                              false,
                              false,
                              false,
                              false,
                              false,
                              false,
                              false,
                              false,
                              false,
                              false,
                              false,
                              false,
                              false,
                              false,
                              false,
                              false,
                              false,
                              false,
                              false,
                              false,
                              false,
                              false,
                              false,
                              false,
                              false,
                              false,
                              false,
                              false,
                              false,
                              false,
                              false,
                              false,
                              false,
                              false,
                              false,
                              false,
                              false,
                              false,
                              false,
                              false
                            ]
                          }
                        ],
                        "label": "Dallas-Fort Worth",
                        "method": "update"
                      },
                      {
                        "args": [
                          {
                            "visible": [
                              false,
                              false,
                              false,
                              false,
                              false,
                              false,
                              false,
                              false,
                              false,
                              false,
                              false,
                              false,
                              false,
                              false,
                              false,
                              false,
                              false,
                              false,
                              false,
                              false,
                              false,
                              false,
                              false,
                              false,
                              false,
                              false,
                              false,
                              false,
                              false,
                              false,
                              false,
                              false,
                              false,
                              false,
                              false,
                              false,
                              true,
                              true,
                              true,
                              true,
                              false,
                              false,
                              false,
                              false,
                              false,
                              false,
                              false,
                              false,
                              false,
                              false,
                              false,
                              false,
                              false,
                              false,
                              false,
                              false,
                              false,
                              false,
                              false,
                              false,
                              false,
                              false,
                              false,
                              false,
                              false,
                              false,
                              false,
                              false,
                              false,
                              false,
                              false,
                              false,
                              false,
                              false,
                              false,
                              false,
                              false,
                              false,
                              false,
                              false,
                              false,
                              false,
                              false,
                              false,
                              false,
                              false,
                              false,
                              false,
                              false,
                              false,
                              false,
                              false,
                              false,
                              false,
                              false,
                              false,
                              false,
                              false,
                              false,
                              false,
                              false,
                              false,
                              false,
                              false,
                              false,
                              false,
                              false,
                              false,
                              false,
                              false,
                              false,
                              false,
                              false,
                              false,
                              false,
                              false,
                              false,
                              false,
                              false,
                              false,
                              false,
                              false,
                              false,
                              false,
                              false,
                              false,
                              false,
                              false,
                              false,
                              false,
                              false,
                              false,
                              false,
                              false,
                              false,
                              false
                            ]
                          }
                        ],
                        "label": "Denver",
                        "method": "update"
                      },
                      {
                        "args": [
                          {
                            "visible": [
                              false,
                              false,
                              false,
                              false,
                              false,
                              false,
                              false,
                              false,
                              false,
                              false,
                              false,
                              false,
                              false,
                              false,
                              false,
                              false,
                              false,
                              false,
                              false,
                              false,
                              false,
                              false,
                              false,
                              false,
                              false,
                              false,
                              false,
                              false,
                              false,
                              false,
                              false,
                              false,
                              false,
                              false,
                              false,
                              false,
                              false,
                              false,
                              false,
                              false,
                              true,
                              true,
                              true,
                              true,
                              false,
                              false,
                              false,
                              false,
                              false,
                              false,
                              false,
                              false,
                              false,
                              false,
                              false,
                              false,
                              false,
                              false,
                              false,
                              false,
                              false,
                              false,
                              false,
                              false,
                              false,
                              false,
                              false,
                              false,
                              false,
                              false,
                              false,
                              false,
                              false,
                              false,
                              false,
                              false,
                              false,
                              false,
                              false,
                              false,
                              false,
                              false,
                              false,
                              false,
                              false,
                              false,
                              false,
                              false,
                              false,
                              false,
                              false,
                              false,
                              false,
                              false,
                              false,
                              false,
                              false,
                              false,
                              false,
                              false,
                              false,
                              false,
                              false,
                              false,
                              false,
                              false,
                              false,
                              false,
                              false,
                              false,
                              false,
                              false,
                              false,
                              false,
                              false,
                              false,
                              false,
                              false,
                              false,
                              false,
                              false,
                              false,
                              false,
                              false,
                              false,
                              false,
                              false,
                              false,
                              false,
                              false,
                              false,
                              false,
                              false,
                              false,
                              false,
                              false
                            ]
                          }
                        ],
                        "label": "Detroit",
                        "method": "update"
                      },
                      {
                        "args": [
                          {
                            "visible": [
                              false,
                              false,
                              false,
                              false,
                              false,
                              false,
                              false,
                              false,
                              false,
                              false,
                              false,
                              false,
                              false,
                              false,
                              false,
                              false,
                              false,
                              false,
                              false,
                              false,
                              false,
                              false,
                              false,
                              false,
                              false,
                              false,
                              false,
                              false,
                              false,
                              false,
                              false,
                              false,
                              false,
                              false,
                              false,
                              false,
                              false,
                              false,
                              false,
                              false,
                              false,
                              false,
                              false,
                              false,
                              true,
                              true,
                              true,
                              true,
                              false,
                              false,
                              false,
                              false,
                              false,
                              false,
                              false,
                              false,
                              false,
                              false,
                              false,
                              false,
                              false,
                              false,
                              false,
                              false,
                              false,
                              false,
                              false,
                              false,
                              false,
                              false,
                              false,
                              false,
                              false,
                              false,
                              false,
                              false,
                              false,
                              false,
                              false,
                              false,
                              false,
                              false,
                              false,
                              false,
                              false,
                              false,
                              false,
                              false,
                              false,
                              false,
                              false,
                              false,
                              false,
                              false,
                              false,
                              false,
                              false,
                              false,
                              false,
                              false,
                              false,
                              false,
                              false,
                              false,
                              false,
                              false,
                              false,
                              false,
                              false,
                              false,
                              false,
                              false,
                              false,
                              false,
                              false,
                              false,
                              false,
                              false,
                              false,
                              false,
                              false,
                              false,
                              false,
                              false,
                              false,
                              false,
                              false,
                              false,
                              false,
                              false,
                              false,
                              false,
                              false,
                              false,
                              false,
                              false
                            ]
                          }
                        ],
                        "label": "Houston",
                        "method": "update"
                      },
                      {
                        "args": [
                          {
                            "visible": [
                              false,
                              false,
                              false,
                              false,
                              false,
                              false,
                              false,
                              false,
                              false,
                              false,
                              false,
                              false,
                              false,
                              false,
                              false,
                              false,
                              false,
                              false,
                              false,
                              false,
                              false,
                              false,
                              false,
                              false,
                              false,
                              false,
                              false,
                              false,
                              false,
                              false,
                              false,
                              false,
                              false,
                              false,
                              false,
                              false,
                              false,
                              false,
                              false,
                              false,
                              false,
                              false,
                              false,
                              false,
                              false,
                              false,
                              false,
                              false,
                              true,
                              true,
                              true,
                              true,
                              false,
                              false,
                              false,
                              false,
                              false,
                              false,
                              false,
                              false,
                              false,
                              false,
                              false,
                              false,
                              false,
                              false,
                              false,
                              false,
                              false,
                              false,
                              false,
                              false,
                              false,
                              false,
                              false,
                              false,
                              false,
                              false,
                              false,
                              false,
                              false,
                              false,
                              false,
                              false,
                              false,
                              false,
                              false,
                              false,
                              false,
                              false,
                              false,
                              false,
                              false,
                              false,
                              false,
                              false,
                              false,
                              false,
                              false,
                              false,
                              false,
                              false,
                              false,
                              false,
                              false,
                              false,
                              false,
                              false,
                              false,
                              false,
                              false,
                              false,
                              false,
                              false,
                              false,
                              false,
                              false,
                              false,
                              false,
                              false,
                              false,
                              false,
                              false,
                              false,
                              false,
                              false,
                              false,
                              false,
                              false,
                              false,
                              false,
                              false,
                              false,
                              false,
                              false,
                              false
                            ]
                          }
                        ],
                        "label": "Indianapolis",
                        "method": "update"
                      },
                      {
                        "args": [
                          {
                            "visible": [
                              false,
                              false,
                              false,
                              false,
                              false,
                              false,
                              false,
                              false,
                              false,
                              false,
                              false,
                              false,
                              false,
                              false,
                              false,
                              false,
                              false,
                              false,
                              false,
                              false,
                              false,
                              false,
                              false,
                              false,
                              false,
                              false,
                              false,
                              false,
                              false,
                              false,
                              false,
                              false,
                              false,
                              false,
                              false,
                              false,
                              false,
                              false,
                              false,
                              false,
                              false,
                              false,
                              false,
                              false,
                              false,
                              false,
                              false,
                              false,
                              false,
                              false,
                              false,
                              false,
                              true,
                              true,
                              true,
                              true,
                              false,
                              false,
                              false,
                              false,
                              false,
                              false,
                              false,
                              false,
                              false,
                              false,
                              false,
                              false,
                              false,
                              false,
                              false,
                              false,
                              false,
                              false,
                              false,
                              false,
                              false,
                              false,
                              false,
                              false,
                              false,
                              false,
                              false,
                              false,
                              false,
                              false,
                              false,
                              false,
                              false,
                              false,
                              false,
                              false,
                              false,
                              false,
                              false,
                              false,
                              false,
                              false,
                              false,
                              false,
                              false,
                              false,
                              false,
                              false,
                              false,
                              false,
                              false,
                              false,
                              false,
                              false,
                              false,
                              false,
                              false,
                              false,
                              false,
                              false,
                              false,
                              false,
                              false,
                              false,
                              false,
                              false,
                              false,
                              false,
                              false,
                              false,
                              false,
                              false,
                              false,
                              false,
                              false,
                              false,
                              false,
                              false,
                              false,
                              false
                            ]
                          }
                        ],
                        "label": "Kansas City",
                        "method": "update"
                      },
                      {
                        "args": [
                          {
                            "visible": [
                              false,
                              false,
                              false,
                              false,
                              false,
                              false,
                              false,
                              false,
                              false,
                              false,
                              false,
                              false,
                              false,
                              false,
                              false,
                              false,
                              false,
                              false,
                              false,
                              false,
                              false,
                              false,
                              false,
                              false,
                              false,
                              false,
                              false,
                              false,
                              false,
                              false,
                              false,
                              false,
                              false,
                              false,
                              false,
                              false,
                              false,
                              false,
                              false,
                              false,
                              false,
                              false,
                              false,
                              false,
                              false,
                              false,
                              false,
                              false,
                              false,
                              false,
                              false,
                              false,
                              false,
                              false,
                              false,
                              false,
                              true,
                              true,
                              true,
                              true,
                              false,
                              false,
                              false,
                              false,
                              false,
                              false,
                              false,
                              false,
                              false,
                              false,
                              false,
                              false,
                              false,
                              false,
                              false,
                              false,
                              false,
                              false,
                              false,
                              false,
                              false,
                              false,
                              false,
                              false,
                              false,
                              false,
                              false,
                              false,
                              false,
                              false,
                              false,
                              false,
                              false,
                              false,
                              false,
                              false,
                              false,
                              false,
                              false,
                              false,
                              false,
                              false,
                              false,
                              false,
                              false,
                              false,
                              false,
                              false,
                              false,
                              false,
                              false,
                              false,
                              false,
                              false,
                              false,
                              false,
                              false,
                              false,
                              false,
                              false,
                              false,
                              false,
                              false,
                              false,
                              false,
                              false,
                              false,
                              false,
                              false,
                              false,
                              false,
                              false,
                              false,
                              false,
                              false,
                              false
                            ]
                          }
                        ],
                        "label": "Las Vegas",
                        "method": "update"
                      },
                      {
                        "args": [
                          {
                            "visible": [
                              false,
                              false,
                              false,
                              false,
                              false,
                              false,
                              false,
                              false,
                              false,
                              false,
                              false,
                              false,
                              false,
                              false,
                              false,
                              false,
                              false,
                              false,
                              false,
                              false,
                              false,
                              false,
                              false,
                              false,
                              false,
                              false,
                              false,
                              false,
                              false,
                              false,
                              false,
                              false,
                              false,
                              false,
                              false,
                              false,
                              false,
                              false,
                              false,
                              false,
                              false,
                              false,
                              false,
                              false,
                              false,
                              false,
                              false,
                              false,
                              false,
                              false,
                              false,
                              false,
                              false,
                              false,
                              false,
                              false,
                              false,
                              false,
                              false,
                              false,
                              true,
                              true,
                              true,
                              true,
                              false,
                              false,
                              false,
                              false,
                              false,
                              false,
                              false,
                              false,
                              false,
                              false,
                              false,
                              false,
                              false,
                              false,
                              false,
                              false,
                              false,
                              false,
                              false,
                              false,
                              false,
                              false,
                              false,
                              false,
                              false,
                              false,
                              false,
                              false,
                              false,
                              false,
                              false,
                              false,
                              false,
                              false,
                              false,
                              false,
                              false,
                              false,
                              false,
                              false,
                              false,
                              false,
                              false,
                              false,
                              false,
                              false,
                              false,
                              false,
                              false,
                              false,
                              false,
                              false,
                              false,
                              false,
                              false,
                              false,
                              false,
                              false,
                              false,
                              false,
                              false,
                              false,
                              false,
                              false,
                              false,
                              false,
                              false,
                              false,
                              false,
                              false,
                              false,
                              false
                            ]
                          }
                        ],
                        "label": "Los Angeles",
                        "method": "update"
                      },
                      {
                        "args": [
                          {
                            "visible": [
                              false,
                              false,
                              false,
                              false,
                              false,
                              false,
                              false,
                              false,
                              false,
                              false,
                              false,
                              false,
                              false,
                              false,
                              false,
                              false,
                              false,
                              false,
                              false,
                              false,
                              false,
                              false,
                              false,
                              false,
                              false,
                              false,
                              false,
                              false,
                              false,
                              false,
                              false,
                              false,
                              false,
                              false,
                              false,
                              false,
                              false,
                              false,
                              false,
                              false,
                              false,
                              false,
                              false,
                              false,
                              false,
                              false,
                              false,
                              false,
                              false,
                              false,
                              false,
                              false,
                              false,
                              false,
                              false,
                              false,
                              false,
                              false,
                              false,
                              false,
                              false,
                              false,
                              false,
                              false,
                              true,
                              true,
                              true,
                              true,
                              false,
                              false,
                              false,
                              false,
                              false,
                              false,
                              false,
                              false,
                              false,
                              false,
                              false,
                              false,
                              false,
                              false,
                              false,
                              false,
                              false,
                              false,
                              false,
                              false,
                              false,
                              false,
                              false,
                              false,
                              false,
                              false,
                              false,
                              false,
                              false,
                              false,
                              false,
                              false,
                              false,
                              false,
                              false,
                              false,
                              false,
                              false,
                              false,
                              false,
                              false,
                              false,
                              false,
                              false,
                              false,
                              false,
                              false,
                              false,
                              false,
                              false,
                              false,
                              false,
                              false,
                              false,
                              false,
                              false,
                              false,
                              false,
                              false,
                              false,
                              false,
                              false,
                              false,
                              false,
                              false,
                              false,
                              false,
                              false
                            ]
                          }
                        ],
                        "label": "Miami",
                        "method": "update"
                      },
                      {
                        "args": [
                          {
                            "visible": [
                              false,
                              false,
                              false,
                              false,
                              false,
                              false,
                              false,
                              false,
                              false,
                              false,
                              false,
                              false,
                              false,
                              false,
                              false,
                              false,
                              false,
                              false,
                              false,
                              false,
                              false,
                              false,
                              false,
                              false,
                              false,
                              false,
                              false,
                              false,
                              false,
                              false,
                              false,
                              false,
                              false,
                              false,
                              false,
                              false,
                              false,
                              false,
                              false,
                              false,
                              false,
                              false,
                              false,
                              false,
                              false,
                              false,
                              false,
                              false,
                              false,
                              false,
                              false,
                              false,
                              false,
                              false,
                              false,
                              false,
                              false,
                              false,
                              false,
                              false,
                              false,
                              false,
                              false,
                              false,
                              false,
                              false,
                              false,
                              false,
                              true,
                              true,
                              true,
                              true,
                              false,
                              false,
                              false,
                              false,
                              false,
                              false,
                              false,
                              false,
                              false,
                              false,
                              false,
                              false,
                              false,
                              false,
                              false,
                              false,
                              false,
                              false,
                              false,
                              false,
                              false,
                              false,
                              false,
                              false,
                              false,
                              false,
                              false,
                              false,
                              false,
                              false,
                              false,
                              false,
                              false,
                              false,
                              false,
                              false,
                              false,
                              false,
                              false,
                              false,
                              false,
                              false,
                              false,
                              false,
                              false,
                              false,
                              false,
                              false,
                              false,
                              false,
                              false,
                              false,
                              false,
                              false,
                              false,
                              false,
                              false,
                              false,
                              false,
                              false,
                              false,
                              false,
                              false,
                              false
                            ]
                          }
                        ],
                        "label": "Minneapolis-St. Paul",
                        "method": "update"
                      },
                      {
                        "args": [
                          {
                            "visible": [
                              false,
                              false,
                              false,
                              false,
                              false,
                              false,
                              false,
                              false,
                              false,
                              false,
                              false,
                              false,
                              false,
                              false,
                              false,
                              false,
                              false,
                              false,
                              false,
                              false,
                              false,
                              false,
                              false,
                              false,
                              false,
                              false,
                              false,
                              false,
                              false,
                              false,
                              false,
                              false,
                              false,
                              false,
                              false,
                              false,
                              false,
                              false,
                              false,
                              false,
                              false,
                              false,
                              false,
                              false,
                              false,
                              false,
                              false,
                              false,
                              false,
                              false,
                              false,
                              false,
                              false,
                              false,
                              false,
                              false,
                              false,
                              false,
                              false,
                              false,
                              false,
                              false,
                              false,
                              false,
                              false,
                              false,
                              false,
                              false,
                              false,
                              false,
                              false,
                              false,
                              true,
                              true,
                              true,
                              true,
                              false,
                              false,
                              false,
                              false,
                              false,
                              false,
                              false,
                              false,
                              false,
                              false,
                              false,
                              false,
                              false,
                              false,
                              false,
                              false,
                              false,
                              false,
                              false,
                              false,
                              false,
                              false,
                              false,
                              false,
                              false,
                              false,
                              false,
                              false,
                              false,
                              false,
                              false,
                              false,
                              false,
                              false,
                              false,
                              false,
                              false,
                              false,
                              false,
                              false,
                              false,
                              false,
                              false,
                              false,
                              false,
                              false,
                              false,
                              false,
                              false,
                              false,
                              false,
                              false,
                              false,
                              false,
                              false,
                              false,
                              false,
                              false,
                              false,
                              false
                            ]
                          }
                        ],
                        "label": "Nashville",
                        "method": "update"
                      },
                      {
                        "args": [
                          {
                            "visible": [
                              false,
                              false,
                              false,
                              false,
                              false,
                              false,
                              false,
                              false,
                              false,
                              false,
                              false,
                              false,
                              false,
                              false,
                              false,
                              false,
                              false,
                              false,
                              false,
                              false,
                              false,
                              false,
                              false,
                              false,
                              false,
                              false,
                              false,
                              false,
                              false,
                              false,
                              false,
                              false,
                              false,
                              false,
                              false,
                              false,
                              false,
                              false,
                              false,
                              false,
                              false,
                              false,
                              false,
                              false,
                              false,
                              false,
                              false,
                              false,
                              false,
                              false,
                              false,
                              false,
                              false,
                              false,
                              false,
                              false,
                              false,
                              false,
                              false,
                              false,
                              false,
                              false,
                              false,
                              false,
                              false,
                              false,
                              false,
                              false,
                              false,
                              false,
                              false,
                              false,
                              false,
                              false,
                              false,
                              false,
                              true,
                              true,
                              true,
                              true,
                              false,
                              false,
                              false,
                              false,
                              false,
                              false,
                              false,
                              false,
                              false,
                              false,
                              false,
                              false,
                              false,
                              false,
                              false,
                              false,
                              false,
                              false,
                              false,
                              false,
                              false,
                              false,
                              false,
                              false,
                              false,
                              false,
                              false,
                              false,
                              false,
                              false,
                              false,
                              false,
                              false,
                              false,
                              false,
                              false,
                              false,
                              false,
                              false,
                              false,
                              false,
                              false,
                              false,
                              false,
                              false,
                              false,
                              false,
                              false,
                              false,
                              false,
                              false,
                              false,
                              false,
                              false,
                              false,
                              false
                            ]
                          }
                        ],
                        "label": "New York",
                        "method": "update"
                      },
                      {
                        "args": [
                          {
                            "visible": [
                              false,
                              false,
                              false,
                              false,
                              false,
                              false,
                              false,
                              false,
                              false,
                              false,
                              false,
                              false,
                              false,
                              false,
                              false,
                              false,
                              false,
                              false,
                              false,
                              false,
                              false,
                              false,
                              false,
                              false,
                              false,
                              false,
                              false,
                              false,
                              false,
                              false,
                              false,
                              false,
                              false,
                              false,
                              false,
                              false,
                              false,
                              false,
                              false,
                              false,
                              false,
                              false,
                              false,
                              false,
                              false,
                              false,
                              false,
                              false,
                              false,
                              false,
                              false,
                              false,
                              false,
                              false,
                              false,
                              false,
                              false,
                              false,
                              false,
                              false,
                              false,
                              false,
                              false,
                              false,
                              false,
                              false,
                              false,
                              false,
                              false,
                              false,
                              false,
                              false,
                              false,
                              false,
                              false,
                              false,
                              false,
                              false,
                              false,
                              false,
                              true,
                              true,
                              true,
                              true,
                              false,
                              false,
                              false,
                              false,
                              false,
                              false,
                              false,
                              false,
                              false,
                              false,
                              false,
                              false,
                              false,
                              false,
                              false,
                              false,
                              false,
                              false,
                              false,
                              false,
                              false,
                              false,
                              false,
                              false,
                              false,
                              false,
                              false,
                              false,
                              false,
                              false,
                              false,
                              false,
                              false,
                              false,
                              false,
                              false,
                              false,
                              false,
                              false,
                              false,
                              false,
                              false,
                              false,
                              false,
                              false,
                              false,
                              false,
                              false,
                              false,
                              false,
                              false,
                              false
                            ]
                          }
                        ],
                        "label": "Orlando",
                        "method": "update"
                      },
                      {
                        "args": [
                          {
                            "visible": [
                              false,
                              false,
                              false,
                              false,
                              false,
                              false,
                              false,
                              false,
                              false,
                              false,
                              false,
                              false,
                              false,
                              false,
                              false,
                              false,
                              false,
                              false,
                              false,
                              false,
                              false,
                              false,
                              false,
                              false,
                              false,
                              false,
                              false,
                              false,
                              false,
                              false,
                              false,
                              false,
                              false,
                              false,
                              false,
                              false,
                              false,
                              false,
                              false,
                              false,
                              false,
                              false,
                              false,
                              false,
                              false,
                              false,
                              false,
                              false,
                              false,
                              false,
                              false,
                              false,
                              false,
                              false,
                              false,
                              false,
                              false,
                              false,
                              false,
                              false,
                              false,
                              false,
                              false,
                              false,
                              false,
                              false,
                              false,
                              false,
                              false,
                              false,
                              false,
                              false,
                              false,
                              false,
                              false,
                              false,
                              false,
                              false,
                              false,
                              false,
                              false,
                              false,
                              false,
                              false,
                              true,
                              true,
                              true,
                              true,
                              false,
                              false,
                              false,
                              false,
                              false,
                              false,
                              false,
                              false,
                              false,
                              false,
                              false,
                              false,
                              false,
                              false,
                              false,
                              false,
                              false,
                              false,
                              false,
                              false,
                              false,
                              false,
                              false,
                              false,
                              false,
                              false,
                              false,
                              false,
                              false,
                              false,
                              false,
                              false,
                              false,
                              false,
                              false,
                              false,
                              false,
                              false,
                              false,
                              false,
                              false,
                              false,
                              false,
                              false,
                              false,
                              false,
                              false,
                              false
                            ]
                          }
                        ],
                        "label": "Philadelphia",
                        "method": "update"
                      },
                      {
                        "args": [
                          {
                            "visible": [
                              false,
                              false,
                              false,
                              false,
                              false,
                              false,
                              false,
                              false,
                              false,
                              false,
                              false,
                              false,
                              false,
                              false,
                              false,
                              false,
                              false,
                              false,
                              false,
                              false,
                              false,
                              false,
                              false,
                              false,
                              false,
                              false,
                              false,
                              false,
                              false,
                              false,
                              false,
                              false,
                              false,
                              false,
                              false,
                              false,
                              false,
                              false,
                              false,
                              false,
                              false,
                              false,
                              false,
                              false,
                              false,
                              false,
                              false,
                              false,
                              false,
                              false,
                              false,
                              false,
                              false,
                              false,
                              false,
                              false,
                              false,
                              false,
                              false,
                              false,
                              false,
                              false,
                              false,
                              false,
                              false,
                              false,
                              false,
                              false,
                              false,
                              false,
                              false,
                              false,
                              false,
                              false,
                              false,
                              false,
                              false,
                              false,
                              false,
                              false,
                              false,
                              false,
                              false,
                              false,
                              false,
                              false,
                              false,
                              false,
                              true,
                              true,
                              true,
                              true,
                              false,
                              false,
                              false,
                              false,
                              false,
                              false,
                              false,
                              false,
                              false,
                              false,
                              false,
                              false,
                              false,
                              false,
                              false,
                              false,
                              false,
                              false,
                              false,
                              false,
                              false,
                              false,
                              false,
                              false,
                              false,
                              false,
                              false,
                              false,
                              false,
                              false,
                              false,
                              false,
                              false,
                              false,
                              false,
                              false,
                              false,
                              false,
                              false,
                              false,
                              false,
                              false,
                              false,
                              false
                            ]
                          }
                        ],
                        "label": "Phoenix",
                        "method": "update"
                      },
                      {
                        "args": [
                          {
                            "visible": [
                              false,
                              false,
                              false,
                              false,
                              false,
                              false,
                              false,
                              false,
                              false,
                              false,
                              false,
                              false,
                              false,
                              false,
                              false,
                              false,
                              false,
                              false,
                              false,
                              false,
                              false,
                              false,
                              false,
                              false,
                              false,
                              false,
                              false,
                              false,
                              false,
                              false,
                              false,
                              false,
                              false,
                              false,
                              false,
                              false,
                              false,
                              false,
                              false,
                              false,
                              false,
                              false,
                              false,
                              false,
                              false,
                              false,
                              false,
                              false,
                              false,
                              false,
                              false,
                              false,
                              false,
                              false,
                              false,
                              false,
                              false,
                              false,
                              false,
                              false,
                              false,
                              false,
                              false,
                              false,
                              false,
                              false,
                              false,
                              false,
                              false,
                              false,
                              false,
                              false,
                              false,
                              false,
                              false,
                              false,
                              false,
                              false,
                              false,
                              false,
                              false,
                              false,
                              false,
                              false,
                              false,
                              false,
                              false,
                              false,
                              false,
                              false,
                              false,
                              false,
                              true,
                              true,
                              true,
                              true,
                              false,
                              false,
                              false,
                              false,
                              false,
                              false,
                              false,
                              false,
                              false,
                              false,
                              false,
                              false,
                              false,
                              false,
                              false,
                              false,
                              false,
                              false,
                              false,
                              false,
                              false,
                              false,
                              false,
                              false,
                              false,
                              false,
                              false,
                              false,
                              false,
                              false,
                              false,
                              false,
                              false,
                              false,
                              false,
                              false,
                              false,
                              false,
                              false,
                              false
                            ]
                          }
                        ],
                        "label": "Pittsburgh",
                        "method": "update"
                      },
                      {
                        "args": [
                          {
                            "visible": [
                              false,
                              false,
                              false,
                              false,
                              false,
                              false,
                              false,
                              false,
                              false,
                              false,
                              false,
                              false,
                              false,
                              false,
                              false,
                              false,
                              false,
                              false,
                              false,
                              false,
                              false,
                              false,
                              false,
                              false,
                              false,
                              false,
                              false,
                              false,
                              false,
                              false,
                              false,
                              false,
                              false,
                              false,
                              false,
                              false,
                              false,
                              false,
                              false,
                              false,
                              false,
                              false,
                              false,
                              false,
                              false,
                              false,
                              false,
                              false,
                              false,
                              false,
                              false,
                              false,
                              false,
                              false,
                              false,
                              false,
                              false,
                              false,
                              false,
                              false,
                              false,
                              false,
                              false,
                              false,
                              false,
                              false,
                              false,
                              false,
                              false,
                              false,
                              false,
                              false,
                              false,
                              false,
                              false,
                              false,
                              false,
                              false,
                              false,
                              false,
                              false,
                              false,
                              false,
                              false,
                              false,
                              false,
                              false,
                              false,
                              false,
                              false,
                              false,
                              false,
                              false,
                              false,
                              false,
                              false,
                              true,
                              true,
                              true,
                              true,
                              false,
                              false,
                              false,
                              false,
                              false,
                              false,
                              false,
                              false,
                              false,
                              false,
                              false,
                              false,
                              false,
                              false,
                              false,
                              false,
                              false,
                              false,
                              false,
                              false,
                              false,
                              false,
                              false,
                              false,
                              false,
                              false,
                              false,
                              false,
                              false,
                              false,
                              false,
                              false,
                              false,
                              false,
                              false,
                              false
                            ]
                          }
                        ],
                        "label": "Portland",
                        "method": "update"
                      },
                      {
                        "args": [
                          {
                            "visible": [
                              false,
                              false,
                              false,
                              false,
                              false,
                              false,
                              false,
                              false,
                              false,
                              false,
                              false,
                              false,
                              false,
                              false,
                              false,
                              false,
                              false,
                              false,
                              false,
                              false,
                              false,
                              false,
                              false,
                              false,
                              false,
                              false,
                              false,
                              false,
                              false,
                              false,
                              false,
                              false,
                              false,
                              false,
                              false,
                              false,
                              false,
                              false,
                              false,
                              false,
                              false,
                              false,
                              false,
                              false,
                              false,
                              false,
                              false,
                              false,
                              false,
                              false,
                              false,
                              false,
                              false,
                              false,
                              false,
                              false,
                              false,
                              false,
                              false,
                              false,
                              false,
                              false,
                              false,
                              false,
                              false,
                              false,
                              false,
                              false,
                              false,
                              false,
                              false,
                              false,
                              false,
                              false,
                              false,
                              false,
                              false,
                              false,
                              false,
                              false,
                              false,
                              false,
                              false,
                              false,
                              false,
                              false,
                              false,
                              false,
                              false,
                              false,
                              false,
                              false,
                              false,
                              false,
                              false,
                              false,
                              false,
                              false,
                              false,
                              false,
                              true,
                              true,
                              true,
                              true,
                              false,
                              false,
                              false,
                              false,
                              false,
                              false,
                              false,
                              false,
                              false,
                              false,
                              false,
                              false,
                              false,
                              false,
                              false,
                              false,
                              false,
                              false,
                              false,
                              false,
                              false,
                              false,
                              false,
                              false,
                              false,
                              false,
                              false,
                              false,
                              false,
                              false,
                              false,
                              false
                            ]
                          }
                        ],
                        "label": "Sacramento",
                        "method": "update"
                      },
                      {
                        "args": [
                          {
                            "visible": [
                              false,
                              false,
                              false,
                              false,
                              false,
                              false,
                              false,
                              false,
                              false,
                              false,
                              false,
                              false,
                              false,
                              false,
                              false,
                              false,
                              false,
                              false,
                              false,
                              false,
                              false,
                              false,
                              false,
                              false,
                              false,
                              false,
                              false,
                              false,
                              false,
                              false,
                              false,
                              false,
                              false,
                              false,
                              false,
                              false,
                              false,
                              false,
                              false,
                              false,
                              false,
                              false,
                              false,
                              false,
                              false,
                              false,
                              false,
                              false,
                              false,
                              false,
                              false,
                              false,
                              false,
                              false,
                              false,
                              false,
                              false,
                              false,
                              false,
                              false,
                              false,
                              false,
                              false,
                              false,
                              false,
                              false,
                              false,
                              false,
                              false,
                              false,
                              false,
                              false,
                              false,
                              false,
                              false,
                              false,
                              false,
                              false,
                              false,
                              false,
                              false,
                              false,
                              false,
                              false,
                              false,
                              false,
                              false,
                              false,
                              false,
                              false,
                              false,
                              false,
                              false,
                              false,
                              false,
                              false,
                              false,
                              false,
                              false,
                              false,
                              false,
                              false,
                              false,
                              false,
                              true,
                              true,
                              true,
                              true,
                              false,
                              false,
                              false,
                              false,
                              false,
                              false,
                              false,
                              false,
                              false,
                              false,
                              false,
                              false,
                              false,
                              false,
                              false,
                              false,
                              false,
                              false,
                              false,
                              false,
                              false,
                              false,
                              false,
                              false,
                              false,
                              false,
                              false,
                              false
                            ]
                          }
                        ],
                        "label": "San Antonio",
                        "method": "update"
                      },
                      {
                        "args": [
                          {
                            "visible": [
                              false,
                              false,
                              false,
                              false,
                              false,
                              false,
                              false,
                              false,
                              false,
                              false,
                              false,
                              false,
                              false,
                              false,
                              false,
                              false,
                              false,
                              false,
                              false,
                              false,
                              false,
                              false,
                              false,
                              false,
                              false,
                              false,
                              false,
                              false,
                              false,
                              false,
                              false,
                              false,
                              false,
                              false,
                              false,
                              false,
                              false,
                              false,
                              false,
                              false,
                              false,
                              false,
                              false,
                              false,
                              false,
                              false,
                              false,
                              false,
                              false,
                              false,
                              false,
                              false,
                              false,
                              false,
                              false,
                              false,
                              false,
                              false,
                              false,
                              false,
                              false,
                              false,
                              false,
                              false,
                              false,
                              false,
                              false,
                              false,
                              false,
                              false,
                              false,
                              false,
                              false,
                              false,
                              false,
                              false,
                              false,
                              false,
                              false,
                              false,
                              false,
                              false,
                              false,
                              false,
                              false,
                              false,
                              false,
                              false,
                              false,
                              false,
                              false,
                              false,
                              false,
                              false,
                              false,
                              false,
                              false,
                              false,
                              false,
                              false,
                              false,
                              false,
                              false,
                              false,
                              false,
                              false,
                              false,
                              false,
                              true,
                              true,
                              true,
                              true,
                              false,
                              false,
                              false,
                              false,
                              false,
                              false,
                              false,
                              false,
                              false,
                              false,
                              false,
                              false,
                              false,
                              false,
                              false,
                              false,
                              false,
                              false,
                              false,
                              false,
                              false,
                              false,
                              false,
                              false
                            ]
                          }
                        ],
                        "label": "San Diego",
                        "method": "update"
                      },
                      {
                        "args": [
                          {
                            "visible": [
                              false,
                              false,
                              false,
                              false,
                              false,
                              false,
                              false,
                              false,
                              false,
                              false,
                              false,
                              false,
                              false,
                              false,
                              false,
                              false,
                              false,
                              false,
                              false,
                              false,
                              false,
                              false,
                              false,
                              false,
                              false,
                              false,
                              false,
                              false,
                              false,
                              false,
                              false,
                              false,
                              false,
                              false,
                              false,
                              false,
                              false,
                              false,
                              false,
                              false,
                              false,
                              false,
                              false,
                              false,
                              false,
                              false,
                              false,
                              false,
                              false,
                              false,
                              false,
                              false,
                              false,
                              false,
                              false,
                              false,
                              false,
                              false,
                              false,
                              false,
                              false,
                              false,
                              false,
                              false,
                              false,
                              false,
                              false,
                              false,
                              false,
                              false,
                              false,
                              false,
                              false,
                              false,
                              false,
                              false,
                              false,
                              false,
                              false,
                              false,
                              false,
                              false,
                              false,
                              false,
                              false,
                              false,
                              false,
                              false,
                              false,
                              false,
                              false,
                              false,
                              false,
                              false,
                              false,
                              false,
                              false,
                              false,
                              false,
                              false,
                              false,
                              false,
                              false,
                              false,
                              false,
                              false,
                              false,
                              false,
                              false,
                              false,
                              false,
                              false,
                              true,
                              true,
                              true,
                              true,
                              false,
                              false,
                              false,
                              false,
                              false,
                              false,
                              false,
                              false,
                              false,
                              false,
                              false,
                              false,
                              false,
                              false,
                              false,
                              false,
                              false,
                              false,
                              false,
                              false
                            ]
                          }
                        ],
                        "label": "San Francisco",
                        "method": "update"
                      },
                      {
                        "args": [
                          {
                            "visible": [
                              false,
                              false,
                              false,
                              false,
                              false,
                              false,
                              false,
                              false,
                              false,
                              false,
                              false,
                              false,
                              false,
                              false,
                              false,
                              false,
                              false,
                              false,
                              false,
                              false,
                              false,
                              false,
                              false,
                              false,
                              false,
                              false,
                              false,
                              false,
                              false,
                              false,
                              false,
                              false,
                              false,
                              false,
                              false,
                              false,
                              false,
                              false,
                              false,
                              false,
                              false,
                              false,
                              false,
                              false,
                              false,
                              false,
                              false,
                              false,
                              false,
                              false,
                              false,
                              false,
                              false,
                              false,
                              false,
                              false,
                              false,
                              false,
                              false,
                              false,
                              false,
                              false,
                              false,
                              false,
                              false,
                              false,
                              false,
                              false,
                              false,
                              false,
                              false,
                              false,
                              false,
                              false,
                              false,
                              false,
                              false,
                              false,
                              false,
                              false,
                              false,
                              false,
                              false,
                              false,
                              false,
                              false,
                              false,
                              false,
                              false,
                              false,
                              false,
                              false,
                              false,
                              false,
                              false,
                              false,
                              false,
                              false,
                              false,
                              false,
                              false,
                              false,
                              false,
                              false,
                              false,
                              false,
                              false,
                              false,
                              false,
                              false,
                              false,
                              false,
                              false,
                              false,
                              false,
                              false,
                              true,
                              true,
                              true,
                              true,
                              false,
                              false,
                              false,
                              false,
                              false,
                              false,
                              false,
                              false,
                              false,
                              false,
                              false,
                              false,
                              false,
                              false,
                              false,
                              false
                            ]
                          }
                        ],
                        "label": "Seattle",
                        "method": "update"
                      },
                      {
                        "args": [
                          {
                            "visible": [
                              false,
                              false,
                              false,
                              false,
                              false,
                              false,
                              false,
                              false,
                              false,
                              false,
                              false,
                              false,
                              false,
                              false,
                              false,
                              false,
                              false,
                              false,
                              false,
                              false,
                              false,
                              false,
                              false,
                              false,
                              false,
                              false,
                              false,
                              false,
                              false,
                              false,
                              false,
                              false,
                              false,
                              false,
                              false,
                              false,
                              false,
                              false,
                              false,
                              false,
                              false,
                              false,
                              false,
                              false,
                              false,
                              false,
                              false,
                              false,
                              false,
                              false,
                              false,
                              false,
                              false,
                              false,
                              false,
                              false,
                              false,
                              false,
                              false,
                              false,
                              false,
                              false,
                              false,
                              false,
                              false,
                              false,
                              false,
                              false,
                              false,
                              false,
                              false,
                              false,
                              false,
                              false,
                              false,
                              false,
                              false,
                              false,
                              false,
                              false,
                              false,
                              false,
                              false,
                              false,
                              false,
                              false,
                              false,
                              false,
                              false,
                              false,
                              false,
                              false,
                              false,
                              false,
                              false,
                              false,
                              false,
                              false,
                              false,
                              false,
                              false,
                              false,
                              false,
                              false,
                              false,
                              false,
                              false,
                              false,
                              false,
                              false,
                              false,
                              false,
                              false,
                              false,
                              false,
                              false,
                              false,
                              false,
                              false,
                              false,
                              true,
                              true,
                              true,
                              true,
                              false,
                              false,
                              false,
                              false,
                              false,
                              false,
                              false,
                              false,
                              false,
                              false,
                              false,
                              false
                            ]
                          }
                        ],
                        "label": "St. Louis",
                        "method": "update"
                      },
                      {
                        "args": [
                          {
                            "visible": [
                              false,
                              false,
                              false,
                              false,
                              false,
                              false,
                              false,
                              false,
                              false,
                              false,
                              false,
                              false,
                              false,
                              false,
                              false,
                              false,
                              false,
                              false,
                              false,
                              false,
                              false,
                              false,
                              false,
                              false,
                              false,
                              false,
                              false,
                              false,
                              false,
                              false,
                              false,
                              false,
                              false,
                              false,
                              false,
                              false,
                              false,
                              false,
                              false,
                              false,
                              false,
                              false,
                              false,
                              false,
                              false,
                              false,
                              false,
                              false,
                              false,
                              false,
                              false,
                              false,
                              false,
                              false,
                              false,
                              false,
                              false,
                              false,
                              false,
                              false,
                              false,
                              false,
                              false,
                              false,
                              false,
                              false,
                              false,
                              false,
                              false,
                              false,
                              false,
                              false,
                              false,
                              false,
                              false,
                              false,
                              false,
                              false,
                              false,
                              false,
                              false,
                              false,
                              false,
                              false,
                              false,
                              false,
                              false,
                              false,
                              false,
                              false,
                              false,
                              false,
                              false,
                              false,
                              false,
                              false,
                              false,
                              false,
                              false,
                              false,
                              false,
                              false,
                              false,
                              false,
                              false,
                              false,
                              false,
                              false,
                              false,
                              false,
                              false,
                              false,
                              false,
                              false,
                              false,
                              false,
                              false,
                              false,
                              false,
                              false,
                              false,
                              false,
                              false,
                              false,
                              true,
                              true,
                              true,
                              true,
                              false,
                              false,
                              false,
                              false,
                              false,
                              false,
                              false,
                              false
                            ]
                          }
                        ],
                        "label": "Tampa",
                        "method": "update"
                      },
                      {
                        "args": [
                          {
                            "visible": [
                              false,
                              false,
                              false,
                              false,
                              false,
                              false,
                              false,
                              false,
                              false,
                              false,
                              false,
                              false,
                              false,
                              false,
                              false,
                              false,
                              false,
                              false,
                              false,
                              false,
                              false,
                              false,
                              false,
                              false,
                              false,
                              false,
                              false,
                              false,
                              false,
                              false,
                              false,
                              false,
                              false,
                              false,
                              false,
                              false,
                              false,
                              false,
                              false,
                              false,
                              false,
                              false,
                              false,
                              false,
                              false,
                              false,
                              false,
                              false,
                              false,
                              false,
                              false,
                              false,
                              false,
                              false,
                              false,
                              false,
                              false,
                              false,
                              false,
                              false,
                              false,
                              false,
                              false,
                              false,
                              false,
                              false,
                              false,
                              false,
                              false,
                              false,
                              false,
                              false,
                              false,
                              false,
                              false,
                              false,
                              false,
                              false,
                              false,
                              false,
                              false,
                              false,
                              false,
                              false,
                              false,
                              false,
                              false,
                              false,
                              false,
                              false,
                              false,
                              false,
                              false,
                              false,
                              false,
                              false,
                              false,
                              false,
                              false,
                              false,
                              false,
                              false,
                              false,
                              false,
                              false,
                              false,
                              false,
                              false,
                              false,
                              false,
                              false,
                              false,
                              false,
                              false,
                              false,
                              false,
                              false,
                              false,
                              false,
                              false,
                              false,
                              false,
                              false,
                              false,
                              false,
                              false,
                              false,
                              false,
                              true,
                              true,
                              true,
                              true,
                              false,
                              false,
                              false,
                              false
                            ]
                          }
                        ],
                        "label": "Virginia Beach",
                        "method": "update"
                      },
                      {
                        "args": [
                          {
                            "visible": [
                              false,
                              false,
                              false,
                              false,
                              false,
                              false,
                              false,
                              false,
                              false,
                              false,
                              false,
                              false,
                              false,
                              false,
                              false,
                              false,
                              false,
                              false,
                              false,
                              false,
                              false,
                              false,
                              false,
                              false,
                              false,
                              false,
                              false,
                              false,
                              false,
                              false,
                              false,
                              false,
                              false,
                              false,
                              false,
                              false,
                              false,
                              false,
                              false,
                              false,
                              false,
                              false,
                              false,
                              false,
                              false,
                              false,
                              false,
                              false,
                              false,
                              false,
                              false,
                              false,
                              false,
                              false,
                              false,
                              false,
                              false,
                              false,
                              false,
                              false,
                              false,
                              false,
                              false,
                              false,
                              false,
                              false,
                              false,
                              false,
                              false,
                              false,
                              false,
                              false,
                              false,
                              false,
                              false,
                              false,
                              false,
                              false,
                              false,
                              false,
                              false,
                              false,
                              false,
                              false,
                              false,
                              false,
                              false,
                              false,
                              false,
                              false,
                              false,
                              false,
                              false,
                              false,
                              false,
                              false,
                              false,
                              false,
                              false,
                              false,
                              false,
                              false,
                              false,
                              false,
                              false,
                              false,
                              false,
                              false,
                              false,
                              false,
                              false,
                              false,
                              false,
                              false,
                              false,
                              false,
                              false,
                              false,
                              false,
                              false,
                              false,
                              false,
                              false,
                              false,
                              false,
                              false,
                              false,
                              false,
                              false,
                              false,
                              false,
                              false,
                              true,
                              true,
                              true,
                              true
                            ]
                          }
                        ],
                        "label": "Washington, DC",
                        "method": "update"
                      }
                    ],
                    "direction": "down",
                    "pad": {
                      "r": 10,
                      "t": 10
                    },
                    "showactive": true,
                    "x": 0,
                    "xanchor": "left",
                    "y": 1.6,
                    "yanchor": "top"
                  }
                ],
                "width": 1200,
                "xaxis": {
                  "anchor": "y",
                  "domain": [
                    0,
                    0.2125
                  ]
                },
                "xaxis2": {
                  "anchor": "y2",
                  "domain": [
                    0.2625,
                    0.475
                  ]
                },
                "xaxis3": {
                  "anchor": "y3",
                  "domain": [
                    0.525,
                    0.7375
                  ]
                },
                "xaxis4": {
                  "anchor": "y4",
                  "domain": [
                    0.7875,
                    1
                  ]
                },
                "yaxis": {
                  "anchor": "x",
                  "domain": [
                    0,
                    1
                  ]
                },
                "yaxis2": {
                  "anchor": "x2",
                  "domain": [
                    0,
                    1
                  ]
                },
                "yaxis3": {
                  "anchor": "x3",
                  "domain": [
                    0,
                    1
                  ]
                },
                "yaxis4": {
                  "anchor": "x4",
                  "domain": [
                    0,
                    1
                  ]
                }
              }
            },
            "text/html": [
              "<div>                            <div id=\"1fccd3f0-dcc4-491b-a977-5c134cd1df8a\" class=\"plotly-graph-div\" style=\"height:400px; width:1200px;\"></div>            <script type=\"text/javascript\">                require([\"plotly\"], function(Plotly) {                    window.PLOTLYENV=window.PLOTLYENV || {};                                    if (document.getElementById(\"1fccd3f0-dcc4-491b-a977-5c134cd1df8a\")) {                    Plotly.newPlot(                        \"1fccd3f0-dcc4-491b-a977-5c134cd1df8a\",                        [{\"name\":\"Atlanta\",\"visible\":true,\"x\":[\"Atlanta\",\"Metro average\"],\"xaxis\":\"x\",\"y\":[64107,71810.20588235294],\"yaxis\":\"y\",\"type\":\"bar\"},{\"name\":\"Atlanta\",\"visible\":true,\"x\":[\"Atlanta\",\"Metro average\"],\"xaxis\":\"x2\",\"y\":[2113.0,2305.6176470588234],\"yaxis\":\"y2\",\"type\":\"bar\"},{\"name\":\"Atlanta\",\"visible\":true,\"x\":[\"Atlanta\",\"Metro average\"],\"xaxis\":\"x3\",\"y\":[357000.0,430269.1176470588],\"yaxis\":\"y3\",\"type\":\"bar\"},{\"name\":\"Atlanta\",\"visible\":true,\"x\":[\"Atlanta\",\"Metro average\"],\"xaxis\":\"x4\",\"y\":[100.89,97.88882352941178],\"yaxis\":\"y4\",\"type\":\"bar\"},{\"name\":\"Austin\",\"visible\":false,\"x\":[\"Austin\",\"Metro average\"],\"xaxis\":\"x\",\"y\":[75119,71810.20588235294],\"yaxis\":\"y\",\"type\":\"bar\"},{\"name\":\"Austin\",\"visible\":false,\"x\":[\"Austin\",\"Metro average\"],\"xaxis\":\"x2\",\"y\":[1937.5,2305.6176470588234],\"yaxis\":\"y2\",\"type\":\"bar\"},{\"name\":\"Austin\",\"visible\":false,\"x\":[\"Austin\",\"Metro average\"],\"xaxis\":\"x3\",\"y\":[451250.0,430269.1176470588],\"yaxis\":\"y3\",\"type\":\"bar\"},{\"name\":\"Austin\",\"visible\":false,\"x\":[\"Austin\",\"Metro average\"],\"xaxis\":\"x4\",\"y\":[99.96,97.88882352941178],\"yaxis\":\"y4\",\"type\":\"bar\"},{\"name\":\"Baltimore\",\"visible\":false,\"x\":[\"Baltimore\",\"Metro average\"],\"xaxis\":\"x\",\"y\":[71420,71810.20588235294],\"yaxis\":\"y\",\"type\":\"bar\"},{\"name\":\"Baltimore\",\"visible\":false,\"x\":[\"Baltimore\",\"Metro average\"],\"xaxis\":\"x2\",\"y\":[1981.5,2305.6176470588234],\"yaxis\":\"y2\",\"type\":\"bar\"},{\"name\":\"Baltimore\",\"visible\":false,\"x\":[\"Baltimore\",\"Metro average\"],\"xaxis\":\"x3\",\"y\":[325500.0,430269.1176470588],\"yaxis\":\"y3\",\"type\":\"bar\"},{\"name\":\"Baltimore\",\"visible\":false,\"x\":[\"Baltimore\",\"Metro average\"],\"xaxis\":\"x4\",\"y\":[95.23,97.88882352941178],\"yaxis\":\"y4\",\"type\":\"bar\"},{\"name\":\"Boston\",\"visible\":false,\"x\":[\"Boston\",\"Metro average\"],\"xaxis\":\"x\",\"y\":[94082,71810.20588235294],\"yaxis\":\"y\",\"type\":\"bar\"},{\"name\":\"Boston\",\"visible\":false,\"x\":[\"Boston\",\"Metro average\"],\"xaxis\":\"x2\",\"y\":[3939.5,2305.6176470588234],\"yaxis\":\"y2\",\"type\":\"bar\"},{\"name\":\"Boston\",\"visible\":false,\"x\":[\"Boston\",\"Metro average\"],\"xaxis\":\"x3\",\"y\":[600000.0,430269.1176470588],\"yaxis\":\"y3\",\"type\":\"bar\"},{\"name\":\"Boston\",\"visible\":false,\"x\":[\"Boston\",\"Metro average\"],\"xaxis\":\"x4\",\"y\":[91.17,97.88882352941178],\"yaxis\":\"y4\",\"type\":\"bar\"},{\"name\":\"Charlotte\",\"visible\":false,\"x\":[\"Charlotte\",\"Metro average\"],\"xaxis\":\"x\",\"y\":[65156,71810.20588235294],\"yaxis\":\"y\",\"type\":\"bar\"},{\"name\":\"Charlotte\",\"visible\":false,\"x\":[\"Charlotte\",\"Metro average\"],\"xaxis\":\"x2\",\"y\":[1923.5,2305.6176470588234],\"yaxis\":\"y2\",\"type\":\"bar\"},{\"name\":\"Charlotte\",\"visible\":false,\"x\":[\"Charlotte\",\"Metro average\"],\"xaxis\":\"x3\",\"y\":[365000.0,430269.1176470588],\"yaxis\":\"y3\",\"type\":\"bar\"},{\"name\":\"Charlotte\",\"visible\":false,\"x\":[\"Charlotte\",\"Metro average\"],\"xaxis\":\"x4\",\"y\":[103.52,97.88882352941178],\"yaxis\":\"y4\",\"type\":\"bar\"},{\"name\":\"Chicago\",\"visible\":false,\"x\":[\"Chicago\",\"Metro average\"],\"xaxis\":\"x\",\"y\":[72512,71810.20588235294],\"yaxis\":\"y\",\"type\":\"bar\"},{\"name\":\"Chicago\",\"visible\":false,\"x\":[\"Chicago\",\"Metro average\"],\"xaxis\":\"x2\",\"y\":[2357.5,2305.6176470588234],\"yaxis\":\"y2\",\"type\":\"bar\"},{\"name\":\"Chicago\",\"visible\":false,\"x\":[\"Chicago\",\"Metro average\"],\"xaxis\":\"x3\",\"y\":[290000.0,430269.1176470588],\"yaxis\":\"y3\",\"type\":\"bar\"},{\"name\":\"Chicago\",\"visible\":false,\"x\":[\"Chicago\",\"Metro average\"],\"xaxis\":\"x4\",\"y\":[94.86,97.88882352941178],\"yaxis\":\"y4\",\"type\":\"bar\"},{\"name\":\"Cincinnati\",\"visible\":false,\"x\":[\"Cincinnati\",\"Metro average\"],\"xaxis\":\"x\",\"y\":[65253,71810.20588235294],\"yaxis\":\"y\",\"type\":\"bar\"},{\"name\":\"Cincinnati\",\"visible\":false,\"x\":[\"Cincinnati\",\"Metro average\"],\"xaxis\":\"x2\",\"y\":[1646.0,2305.6176470588234],\"yaxis\":\"y2\",\"type\":\"bar\"},{\"name\":\"Cincinnati\",\"visible\":false,\"x\":[\"Cincinnati\",\"Metro average\"],\"xaxis\":\"x3\",\"y\":[247000.0,430269.1176470588],\"yaxis\":\"y3\",\"type\":\"bar\"},{\"name\":\"Cincinnati\",\"visible\":false,\"x\":[\"Cincinnati\",\"Metro average\"],\"xaxis\":\"x4\",\"y\":[106.0,97.88882352941178],\"yaxis\":\"y4\",\"type\":\"bar\"},{\"name\":\"Cleveland\",\"visible\":false,\"x\":[\"Cleveland\",\"Metro average\"],\"xaxis\":\"x\",\"y\":[62921,71810.20588235294],\"yaxis\":\"y\",\"type\":\"bar\"},{\"name\":\"Cleveland\",\"visible\":false,\"x\":[\"Cleveland\",\"Metro average\"],\"xaxis\":\"x2\",\"y\":[1471.25,2305.6176470588234],\"yaxis\":\"y2\",\"type\":\"bar\"},{\"name\":\"Cleveland\",\"visible\":false,\"x\":[\"Cleveland\",\"Metro average\"],\"xaxis\":\"x3\",\"y\":[179000.0,430269.1176470588],\"yaxis\":\"y3\",\"type\":\"bar\"},{\"name\":\"Cleveland\",\"visible\":false,\"x\":[\"Cleveland\",\"Metro average\"],\"xaxis\":\"x4\",\"y\":[106.15,97.88882352941178],\"yaxis\":\"y4\",\"type\":\"bar\"},{\"name\":\"Dallas-Fort Worth\",\"visible\":false,\"x\":[\"Dallas-Fort Worth\",\"Metro average\"],\"xaxis\":\"x\",\"y\":[70493,71810.20588235294],\"yaxis\":\"y\",\"type\":\"bar\"},{\"name\":\"Dallas-Fort Worth\",\"visible\":false,\"x\":[\"Dallas-Fort Worth\",\"Metro average\"],\"xaxis\":\"x2\",\"y\":[2180.0,2305.6176470588234],\"yaxis\":\"y2\",\"type\":\"bar\"},{\"name\":\"Dallas-Fort Worth\",\"visible\":false,\"x\":[\"Dallas-Fort Worth\",\"Metro average\"],\"xaxis\":\"x3\",\"y\":[380000.0,430269.1176470588],\"yaxis\":\"y3\",\"type\":\"bar\"},{\"name\":\"Dallas-Fort Worth\",\"visible\":false,\"x\":[\"Dallas-Fort Worth\",\"Metro average\"],\"xaxis\":\"x4\",\"y\":[96.29,97.88882352941178],\"yaxis\":\"y4\",\"type\":\"bar\"},{\"name\":\"Denver\",\"visible\":false,\"x\":[\"Denver\",\"Metro average\"],\"xaxis\":\"x\",\"y\":[84788,71810.20588235294],\"yaxis\":\"y\",\"type\":\"bar\"},{\"name\":\"Denver\",\"visible\":false,\"x\":[\"Denver\",\"Metro average\"],\"xaxis\":\"x2\",\"y\":[2677.0,2305.6176470588234],\"yaxis\":\"y2\",\"type\":\"bar\"},{\"name\":\"Denver\",\"visible\":false,\"x\":[\"Denver\",\"Metro average\"],\"xaxis\":\"x3\",\"y\":[556000.0,430269.1176470588],\"yaxis\":\"y3\",\"type\":\"bar\"},{\"name\":\"Denver\",\"visible\":false,\"x\":[\"Denver\",\"Metro average\"],\"xaxis\":\"x4\",\"y\":[91.61,97.88882352941178],\"yaxis\":\"y4\",\"type\":\"bar\"},{\"name\":\"Detroit\",\"visible\":false,\"x\":[\"Detroit\",\"Metro average\"],\"xaxis\":\"x\",\"y\":[61322,71810.20588235294],\"yaxis\":\"y\",\"type\":\"bar\"},{\"name\":\"Detroit\",\"visible\":false,\"x\":[\"Detroit\",\"Metro average\"],\"xaxis\":\"x2\",\"y\":[1619.75,2305.6176470588234],\"yaxis\":\"y2\",\"type\":\"bar\"},{\"name\":\"Detroit\",\"visible\":false,\"x\":[\"Detroit\",\"Metro average\"],\"xaxis\":\"x3\",\"y\":[230000.0,430269.1176470588],\"yaxis\":\"y3\",\"type\":\"bar\"},{\"name\":\"Detroit\",\"visible\":false,\"x\":[\"Detroit\",\"Metro average\"],\"xaxis\":\"x4\",\"y\":[104.05,97.88882352941178],\"yaxis\":\"y4\",\"type\":\"bar\"},{\"name\":\"Houston\",\"visible\":false,\"x\":[\"Houston\",\"Metro average\"],\"xaxis\":\"x\",\"y\":[68344,71810.20588235294],\"yaxis\":\"y\",\"type\":\"bar\"},{\"name\":\"Houston\",\"visible\":false,\"x\":[\"Houston\",\"Metro average\"],\"xaxis\":\"x2\",\"y\":[1578.0,2305.6176470588234],\"yaxis\":\"y2\",\"type\":\"bar\"},{\"name\":\"Houston\",\"visible\":false,\"x\":[\"Houston\",\"Metro average\"],\"xaxis\":\"x3\",\"y\":[325000.0,430269.1176470588],\"yaxis\":\"y3\",\"type\":\"bar\"},{\"name\":\"Houston\",\"visible\":false,\"x\":[\"Houston\",\"Metro average\"],\"xaxis\":\"x4\",\"y\":[100.26,97.88882352941178],\"yaxis\":\"y4\",\"type\":\"bar\"},{\"name\":\"Indianapolis\",\"visible\":false,\"x\":[\"Indianapolis\",\"Metro average\"],\"xaxis\":\"x\",\"y\":[68719,71810.20588235294],\"yaxis\":\"y\",\"type\":\"bar\"},{\"name\":\"Indianapolis\",\"visible\":false,\"x\":[\"Indianapolis\",\"Metro average\"],\"xaxis\":\"x2\",\"y\":[1563.5,2305.6176470588234],\"yaxis\":\"y2\",\"type\":\"bar\"},{\"name\":\"Indianapolis\",\"visible\":false,\"x\":[\"Indianapolis\",\"Metro average\"],\"xaxis\":\"x3\",\"y\":[250000.0,430269.1176470588],\"yaxis\":\"y3\",\"type\":\"bar\"},{\"name\":\"Indianapolis\",\"visible\":false,\"x\":[\"Indianapolis\",\"Metro average\"],\"xaxis\":\"x4\",\"y\":[105.23,97.88882352941178],\"yaxis\":\"y4\",\"type\":\"bar\"},{\"name\":\"Kansas City\",\"visible\":false,\"x\":[\"Kansas City\",\"Metro average\"],\"xaxis\":\"x\",\"y\":[63417,71810.20588235294],\"yaxis\":\"y\",\"type\":\"bar\"},{\"name\":\"Kansas City\",\"visible\":false,\"x\":[\"Kansas City\",\"Metro average\"],\"xaxis\":\"x2\",\"y\":[1686.25,2305.6176470588234],\"yaxis\":\"y2\",\"type\":\"bar\"},{\"name\":\"Kansas City\",\"visible\":false,\"x\":[\"Kansas City\",\"Metro average\"],\"xaxis\":\"x3\",\"y\":[279000.0,430269.1176470588],\"yaxis\":\"y3\",\"type\":\"bar\"},{\"name\":\"Kansas City\",\"visible\":false,\"x\":[\"Kansas City\",\"Metro average\"],\"xaxis\":\"x4\",\"y\":[106.77,97.88882352941178],\"yaxis\":\"y4\",\"type\":\"bar\"},{\"name\":\"Las Vegas\",\"visible\":false,\"x\":[\"Las Vegas\",\"Metro average\"],\"xaxis\":\"x\",\"y\":[59150,71810.20588235294],\"yaxis\":\"y\",\"type\":\"bar\"},{\"name\":\"Las Vegas\",\"visible\":false,\"x\":[\"Las Vegas\",\"Metro average\"],\"xaxis\":\"x2\",\"y\":[1666.0,2305.6176470588234],\"yaxis\":\"y2\",\"type\":\"bar\"},{\"name\":\"Las Vegas\",\"visible\":false,\"x\":[\"Las Vegas\",\"Metro average\"],\"xaxis\":\"x3\",\"y\":[415000.0,430269.1176470588],\"yaxis\":\"y3\",\"type\":\"bar\"},{\"name\":\"Las Vegas\",\"visible\":false,\"x\":[\"Las Vegas\",\"Metro average\"],\"xaxis\":\"x4\",\"y\":[104.66,97.88882352941178],\"yaxis\":\"y4\",\"type\":\"bar\"},{\"name\":\"Los Angeles\",\"visible\":false,\"x\":[\"Los Angeles\",\"Metro average\"],\"xaxis\":\"x\",\"y\":[76445,71810.20588235294],\"yaxis\":\"y\",\"type\":\"bar\"},{\"name\":\"Los Angeles\",\"visible\":false,\"x\":[\"Los Angeles\",\"Metro average\"],\"xaxis\":\"x2\",\"y\":[3587.25,2305.6176470588234],\"yaxis\":\"y2\",\"type\":\"bar\"},{\"name\":\"Los Angeles\",\"visible\":false,\"x\":[\"Los Angeles\",\"Metro average\"],\"xaxis\":\"x3\",\"y\":[920000.0,430269.1176470588],\"yaxis\":\"y3\",\"type\":\"bar\"},{\"name\":\"Los Angeles\",\"visible\":false,\"x\":[\"Los Angeles\",\"Metro average\"],\"xaxis\":\"x4\",\"y\":[87.86,97.88882352941178],\"yaxis\":\"y4\",\"type\":\"bar\"},{\"name\":\"Miami\",\"visible\":false,\"x\":[\"Miami\",\"Metro average\"],\"xaxis\":\"x\",\"y\":[77732,71810.20588235294],\"yaxis\":\"y\",\"type\":\"bar\"},{\"name\":\"Miami\",\"visible\":false,\"x\":[\"Miami\",\"Metro average\"],\"xaxis\":\"x2\",\"y\":[3056.5,2305.6176470588234],\"yaxis\":\"y2\",\"type\":\"bar\"},{\"name\":\"Miami\",\"visible\":false,\"x\":[\"Miami\",\"Metro average\"],\"xaxis\":\"x3\",\"y\":[465000.0,430269.1176470588],\"yaxis\":\"y3\",\"type\":\"bar\"},{\"name\":\"Miami\",\"visible\":false,\"x\":[\"Miami\",\"Metro average\"],\"xaxis\":\"x4\",\"y\":[90.97,97.88882352941178],\"yaxis\":\"y4\",\"type\":\"bar\"},{\"name\":\"Minneapolis-St. Paul\",\"visible\":false,\"x\":[\"Minneapolis-St. Paul\",\"Metro average\"],\"xaxis\":\"x\",\"y\":[75164,71810.20588235294],\"yaxis\":\"y\",\"type\":\"bar\"},{\"name\":\"Minneapolis-St. Paul\",\"visible\":false,\"x\":[\"Minneapolis-St. Paul\",\"Metro average\"],\"xaxis\":\"x2\",\"y\":[1896.5,2305.6176470588234],\"yaxis\":\"y2\",\"type\":\"bar\"},{\"name\":\"Minneapolis-St. Paul\",\"visible\":false,\"x\":[\"Minneapolis-St. Paul\",\"Metro average\"],\"xaxis\":\"x3\",\"y\":[335000.0,430269.1176470588],\"yaxis\":\"y3\",\"type\":\"bar\"},{\"name\":\"Minneapolis-St. Paul\",\"visible\":false,\"x\":[\"Minneapolis-St. Paul\",\"Metro average\"],\"xaxis\":\"x4\",\"y\":[96.54,97.88882352941178],\"yaxis\":\"y4\",\"type\":\"bar\"},{\"name\":\"Nashville\",\"visible\":false,\"x\":[\"Nashville\",\"Metro average\"],\"xaxis\":\"x\",\"y\":[74035,71810.20588235294],\"yaxis\":\"y\",\"type\":\"bar\"},{\"name\":\"Nashville\",\"visible\":false,\"x\":[\"Nashville\",\"Metro average\"],\"xaxis\":\"x2\",\"y\":[1903.5,2305.6176470588234],\"yaxis\":\"y2\",\"type\":\"bar\"},{\"name\":\"Nashville\",\"visible\":false,\"x\":[\"Nashville\",\"Metro average\"],\"xaxis\":\"x3\",\"y\":[419900.0,430269.1176470588],\"yaxis\":\"y3\",\"type\":\"bar\"},{\"name\":\"Nashville\",\"visible\":false,\"x\":[\"Nashville\",\"Metro average\"],\"xaxis\":\"x4\",\"y\":[104.68,97.88882352941178],\"yaxis\":\"y4\",\"type\":\"bar\"},{\"name\":\"New York\",\"visible\":false,\"x\":[\"New York\",\"Metro average\"],\"xaxis\":\"x\",\"y\":[84084,71810.20588235294],\"yaxis\":\"y\",\"type\":\"bar\"},{\"name\":\"New York\",\"visible\":false,\"x\":[\"New York\",\"Metro average\"],\"xaxis\":\"x2\",\"y\":[4120.75,2305.6176470588234],\"yaxis\":\"y2\",\"type\":\"bar\"},{\"name\":\"New York\",\"visible\":false,\"x\":[\"New York\",\"Metro average\"],\"xaxis\":\"x3\",\"y\":[565000.0,430269.1176470588],\"yaxis\":\"y3\",\"type\":\"bar\"},{\"name\":\"New York\",\"visible\":false,\"x\":[\"New York\",\"Metro average\"],\"xaxis\":\"x4\",\"y\":[87.28,97.88882352941178],\"yaxis\":\"y4\",\"type\":\"bar\"},{\"name\":\"Orlando\",\"visible\":false,\"x\":[\"Orlando\",\"Metro average\"],\"xaxis\":\"x\",\"y\":[53959,71810.20588235294],\"yaxis\":\"y\",\"type\":\"bar\"},{\"name\":\"Orlando\",\"visible\":false,\"x\":[\"Orlando\",\"Metro average\"],\"xaxis\":\"x2\",\"y\":[2246.5,2305.6176470588234],\"yaxis\":\"y2\",\"type\":\"bar\"},{\"name\":\"Orlando\",\"visible\":false,\"x\":[\"Orlando\",\"Metro average\"],\"xaxis\":\"x3\",\"y\":[380000.0,430269.1176470588],\"yaxis\":\"y3\",\"type\":\"bar\"},{\"name\":\"Orlando\",\"visible\":false,\"x\":[\"Orlando\",\"Metro average\"],\"xaxis\":\"x4\",\"y\":[100.19,97.88882352941178],\"yaxis\":\"y4\",\"type\":\"bar\"},{\"name\":\"Philadelphia\",\"visible\":false,\"x\":[\"Philadelphia\",\"Metro average\"],\"xaxis\":\"x\",\"y\":[73291,71810.20588235294],\"yaxis\":\"y\",\"type\":\"bar\"},{\"name\":\"Philadelphia\",\"visible\":false,\"x\":[\"Philadelphia\",\"Metro average\"],\"xaxis\":\"x2\",\"y\":[2340.25,2305.6176470588234],\"yaxis\":\"y2\",\"type\":\"bar\"},{\"name\":\"Philadelphia\",\"visible\":false,\"x\":[\"Philadelphia\",\"Metro average\"],\"xaxis\":\"x3\",\"y\":[301250.0,430269.1176470588],\"yaxis\":\"y3\",\"type\":\"bar\"},{\"name\":\"Philadelphia\",\"visible\":false,\"x\":[\"Philadelphia\",\"Metro average\"],\"xaxis\":\"x4\",\"y\":[100.8,97.88882352941178],\"yaxis\":\"y4\",\"type\":\"bar\"},{\"name\":\"Phoenix\",\"visible\":false,\"x\":[\"Phoenix\",\"Metro average\"],\"xaxis\":\"x\",\"y\":[61840,71810.20588235294],\"yaxis\":\"y\",\"type\":\"bar\"},{\"name\":\"Phoenix\",\"visible\":false,\"x\":[\"Phoenix\",\"Metro average\"],\"xaxis\":\"x2\",\"y\":[2182.25,2305.6176470588234],\"yaxis\":\"y2\",\"type\":\"bar\"},{\"name\":\"Phoenix\",\"visible\":false,\"x\":[\"Phoenix\",\"Metro average\"],\"xaxis\":\"x3\",\"y\":[449000.0,430269.1176470588],\"yaxis\":\"y3\",\"type\":\"bar\"},{\"name\":\"Phoenix\",\"visible\":false,\"x\":[\"Phoenix\",\"Metro average\"],\"xaxis\":\"x4\",\"y\":[100.83,97.88882352941178],\"yaxis\":\"y4\",\"type\":\"bar\"},{\"name\":\"Pittsburgh\",\"visible\":false,\"x\":[\"Pittsburgh\",\"Metro average\"],\"xaxis\":\"x\",\"y\":[65792,71810.20588235294],\"yaxis\":\"y\",\"type\":\"bar\"},{\"name\":\"Pittsburgh\",\"visible\":false,\"x\":[\"Pittsburgh\",\"Metro average\"],\"xaxis\":\"x2\",\"y\":[1800.75,2305.6176470588234],\"yaxis\":\"y2\",\"type\":\"bar\"},{\"name\":\"Pittsburgh\",\"visible\":false,\"x\":[\"Pittsburgh\",\"Metro average\"],\"xaxis\":\"x3\",\"y\":[192500.0,430269.1176470588],\"yaxis\":\"y3\",\"type\":\"bar\"},{\"name\":\"Pittsburgh\",\"visible\":false,\"x\":[\"Pittsburgh\",\"Metro average\"],\"xaxis\":\"x4\",\"y\":[105.09,97.88882352941178],\"yaxis\":\"y4\",\"type\":\"bar\"},{\"name\":\"Portland\",\"visible\":false,\"x\":[\"Portland\",\"Metro average\"],\"xaxis\":\"x\",\"y\":[69435,71810.20588235294],\"yaxis\":\"y\",\"type\":\"bar\"},{\"name\":\"Portland\",\"visible\":false,\"x\":[\"Portland\",\"Metro average\"],\"xaxis\":\"x2\",\"y\":[2333.0,2305.6176470588234],\"yaxis\":\"y2\",\"type\":\"bar\"},{\"name\":\"Portland\",\"visible\":false,\"x\":[\"Portland\",\"Metro average\"],\"xaxis\":\"x3\",\"y\":[515000.0,430269.1176470588],\"yaxis\":\"y3\",\"type\":\"bar\"},{\"name\":\"Portland\",\"visible\":false,\"x\":[\"Portland\",\"Metro average\"],\"xaxis\":\"x4\",\"y\":[94.9,97.88882352941178],\"yaxis\":\"y4\",\"type\":\"bar\"},{\"name\":\"Sacramento\",\"visible\":false,\"x\":[\"Sacramento\",\"Metro average\"],\"xaxis\":\"x\",\"y\":[66940,71810.20588235294],\"yaxis\":\"y\",\"type\":\"bar\"},{\"name\":\"Sacramento\",\"visible\":false,\"x\":[\"Sacramento\",\"Metro average\"],\"xaxis\":\"x2\",\"y\":[2614.25,2305.6176470588234],\"yaxis\":\"y2\",\"type\":\"bar\"},{\"name\":\"Sacramento\",\"visible\":false,\"x\":[\"Sacramento\",\"Metro average\"],\"xaxis\":\"x3\",\"y\":[542000.0,430269.1176470588],\"yaxis\":\"y3\",\"type\":\"bar\"},{\"name\":\"Sacramento\",\"visible\":false,\"x\":[\"Sacramento\",\"Metro average\"],\"xaxis\":\"x4\",\"y\":[94.08,97.88882352941178],\"yaxis\":\"y4\",\"type\":\"bar\"},{\"name\":\"San Antonio\",\"visible\":false,\"x\":[\"San Antonio\",\"Metro average\"],\"xaxis\":\"x\",\"y\":[55180,71810.20588235294],\"yaxis\":\"y\",\"type\":\"bar\"},{\"name\":\"San Antonio\",\"visible\":false,\"x\":[\"San Antonio\",\"Metro average\"],\"xaxis\":\"x2\",\"y\":[1463.0,2305.6176470588234],\"yaxis\":\"y2\",\"type\":\"bar\"},{\"name\":\"San Antonio\",\"visible\":false,\"x\":[\"San Antonio\",\"Metro average\"],\"xaxis\":\"x3\",\"y\":[297000.0,430269.1176470588],\"yaxis\":\"y3\",\"type\":\"bar\"},{\"name\":\"San Antonio\",\"visible\":false,\"x\":[\"San Antonio\",\"Metro average\"],\"xaxis\":\"x4\",\"y\":[103.76,97.88882352941178],\"yaxis\":\"y4\",\"type\":\"bar\"},{\"name\":\"San Diego\",\"visible\":false,\"x\":[\"San Diego\",\"Metro average\"],\"xaxis\":\"x\",\"y\":[74326,71810.20588235294],\"yaxis\":\"y\",\"type\":\"bar\"},{\"name\":\"San Diego\",\"visible\":false,\"x\":[\"San Diego\",\"Metro average\"],\"xaxis\":\"x2\",\"y\":[3400.25,2305.6176470588234],\"yaxis\":\"y2\",\"type\":\"bar\"},{\"name\":\"San Diego\",\"visible\":false,\"x\":[\"San Diego\",\"Metro average\"],\"xaxis\":\"x3\",\"y\":[860000.0,430269.1176470588],\"yaxis\":\"y3\",\"type\":\"bar\"},{\"name\":\"San Diego\",\"visible\":false,\"x\":[\"San Diego\",\"Metro average\"],\"xaxis\":\"x4\",\"y\":[86.84,97.88882352941178],\"yaxis\":\"y4\",\"type\":\"bar\"},{\"name\":\"San Francisco\",\"visible\":false,\"x\":[\"San Francisco\",\"Metro average\"],\"xaxis\":\"x\",\"y\":[123736,71810.20588235294],\"yaxis\":\"y\",\"type\":\"bar\"},{\"name\":\"San Francisco\",\"visible\":false,\"x\":[\"San Francisco\",\"Metro average\"],\"xaxis\":\"x2\",\"y\":[3788.75,2305.6176470588234],\"yaxis\":\"y2\",\"type\":\"bar\"},{\"name\":\"San Francisco\",\"visible\":false,\"x\":[\"San Francisco\",\"Metro average\"],\"xaxis\":\"x3\",\"y\":[1065000.0,430269.1176470588],\"yaxis\":\"y3\",\"type\":\"bar\"},{\"name\":\"San Francisco\",\"visible\":false,\"x\":[\"San Francisco\",\"Metro average\"],\"xaxis\":\"x4\",\"y\":[83.45,97.88882352941178],\"yaxis\":\"y4\",\"type\":\"bar\"},{\"name\":\"Seattle\",\"visible\":false,\"x\":[\"Seattle\",\"Metro average\"],\"xaxis\":\"x\",\"y\":[92113,71810.20588235294],\"yaxis\":\"y\",\"type\":\"bar\"},{\"name\":\"Seattle\",\"visible\":false,\"x\":[\"Seattle\",\"Metro average\"],\"xaxis\":\"x2\",\"y\":[2946.0,2305.6176470588234],\"yaxis\":\"y2\",\"type\":\"bar\"},{\"name\":\"Seattle\",\"visible\":false,\"x\":[\"Seattle\",\"Metro average\"],\"xaxis\":\"x3\",\"y\":[665000.0,430269.1176470588],\"yaxis\":\"y3\",\"type\":\"bar\"},{\"name\":\"Seattle\",\"visible\":false,\"x\":[\"Seattle\",\"Metro average\"],\"xaxis\":\"x4\",\"y\":[87.28,97.88882352941178],\"yaxis\":\"y4\",\"type\":\"bar\"},{\"name\":\"St. Louis\",\"visible\":false,\"x\":[\"St. Louis\",\"Metro average\"],\"xaxis\":\"x\",\"y\":[69698,71810.20588235294],\"yaxis\":\"y\",\"type\":\"bar\"},{\"name\":\"St. Louis\",\"visible\":false,\"x\":[\"St. Louis\",\"Metro average\"],\"xaxis\":\"x2\",\"y\":[1680.5,2305.6176470588234],\"yaxis\":\"y2\",\"type\":\"bar\"},{\"name\":\"St. Louis\",\"visible\":false,\"x\":[\"St. Louis\",\"Metro average\"],\"xaxis\":\"x3\",\"y\":[218000.0,430269.1176470588],\"yaxis\":\"y3\",\"type\":\"bar\"},{\"name\":\"St. Louis\",\"visible\":false,\"x\":[\"St. Louis\",\"Metro average\"],\"xaxis\":\"x4\",\"y\":[103.9,97.88882352941178],\"yaxis\":\"y4\",\"type\":\"bar\"},{\"name\":\"Tampa\",\"visible\":false,\"x\":[\"Tampa\",\"Metro average\"],\"xaxis\":\"x\",\"y\":[60091,71810.20588235294],\"yaxis\":\"y\",\"type\":\"bar\"},{\"name\":\"Tampa\",\"visible\":false,\"x\":[\"Tampa\",\"Metro average\"],\"xaxis\":\"x2\",\"y\":[2207.5,2305.6176470588234],\"yaxis\":\"y2\",\"type\":\"bar\"},{\"name\":\"Tampa\",\"visible\":false,\"x\":[\"Tampa\",\"Metro average\"],\"xaxis\":\"x3\",\"y\":[365000.0,430269.1176470588],\"yaxis\":\"y3\",\"type\":\"bar\"},{\"name\":\"Tampa\",\"visible\":false,\"x\":[\"Tampa\",\"Metro average\"],\"xaxis\":\"x4\",\"y\":[101.04,97.88882352941178],\"yaxis\":\"y4\",\"type\":\"bar\"},{\"name\":\"Virginia Beach\",\"visible\":false,\"x\":[\"Virginia Beach\",\"Metro average\"],\"xaxis\":\"x\",\"y\":[57873,71810.20588235294],\"yaxis\":\"y\",\"type\":\"bar\"},{\"name\":\"Virginia Beach\",\"visible\":false,\"x\":[\"Virginia Beach\",\"Metro average\"],\"xaxis\":\"x2\",\"y\":[1826.0,2305.6176470588234],\"yaxis\":\"y2\",\"type\":\"bar\"},{\"name\":\"Virginia Beach\",\"visible\":false,\"x\":[\"Virginia Beach\",\"Metro average\"],\"xaxis\":\"x3\",\"y\":[309750.0,430269.1176470588],\"yaxis\":\"y3\",\"type\":\"bar\"},{\"name\":\"Virginia Beach\",\"visible\":false,\"x\":[\"Virginia Beach\",\"Metro average\"],\"xaxis\":\"x4\",\"y\":[102.26,97.88882352941178],\"yaxis\":\"y4\",\"type\":\"bar\"},{\"name\":\"Washington, DC\",\"visible\":false,\"x\":[\"Washington, DC\",\"Metro average\"],\"xaxis\":\"x\",\"y\":[83010,71810.20588235294],\"yaxis\":\"y\",\"type\":\"bar\"},{\"name\":\"Washington, DC\",\"visible\":false,\"x\":[\"Washington, DC\",\"Metro average\"],\"xaxis\":\"x2\",\"y\":[2657.25,2305.6176470588234],\"yaxis\":\"y2\",\"type\":\"bar\"},{\"name\":\"Washington, DC\",\"visible\":false,\"x\":[\"Washington, DC\",\"Metro average\"],\"xaxis\":\"x3\",\"y\":[515000.0,430269.1176470588],\"yaxis\":\"y3\",\"type\":\"bar\"},{\"name\":\"Washington, DC\",\"visible\":false,\"x\":[\"Washington, DC\",\"Metro average\"],\"xaxis\":\"x4\",\"y\":[89.82,97.88882352941178],\"yaxis\":\"y4\",\"type\":\"bar\"}],                        {\"annotations\":[{\"font\":{\"size\":16},\"showarrow\":false,\"text\":\"Median Personal Income (USD)\",\"x\":0.10625,\"xanchor\":\"center\",\"xref\":\"paper\",\"y\":1.0,\"yanchor\":\"bottom\",\"yref\":\"paper\"},{\"font\":{\"size\":16},\"showarrow\":false,\"text\":\"Median Rent (USD)\",\"x\":0.36875,\"xanchor\":\"center\",\"xref\":\"paper\",\"y\":1.0,\"yanchor\":\"bottom\",\"yref\":\"paper\"},{\"font\":{\"size\":16},\"showarrow\":false,\"text\":\"Median Home Sale Price (USD)\",\"x\":0.6312500000000001,\"xanchor\":\"center\",\"xref\":\"paper\",\"y\":1.0,\"yanchor\":\"bottom\",\"yref\":\"paper\"},{\"font\":{\"size\":16},\"showarrow\":false,\"text\":\"Purchasing Power (per $100)\",\"x\":0.89375,\"xanchor\":\"center\",\"xref\":\"paper\",\"y\":1.0,\"yanchor\":\"bottom\",\"yref\":\"paper\"}],\"height\":400,\"showlegend\":false,\"template\":{\"data\":{\"barpolar\":[{\"marker\":{\"line\":{\"color\":\"#E5ECF6\",\"width\":0.5},\"pattern\":{\"fillmode\":\"overlay\",\"size\":10,\"solidity\":0.2}},\"type\":\"barpolar\"}],\"bar\":[{\"error_x\":{\"color\":\"#2a3f5f\"},\"error_y\":{\"color\":\"#2a3f5f\"},\"marker\":{\"line\":{\"color\":\"#E5ECF6\",\"width\":0.5},\"pattern\":{\"fillmode\":\"overlay\",\"size\":10,\"solidity\":0.2}},\"type\":\"bar\"}],\"carpet\":[{\"aaxis\":{\"endlinecolor\":\"#2a3f5f\",\"gridcolor\":\"white\",\"linecolor\":\"white\",\"minorgridcolor\":\"white\",\"startlinecolor\":\"#2a3f5f\"},\"baxis\":{\"endlinecolor\":\"#2a3f5f\",\"gridcolor\":\"white\",\"linecolor\":\"white\",\"minorgridcolor\":\"white\",\"startlinecolor\":\"#2a3f5f\"},\"type\":\"carpet\"}],\"choropleth\":[{\"colorbar\":{\"outlinewidth\":0,\"ticks\":\"\"},\"type\":\"choropleth\"}],\"contourcarpet\":[{\"colorbar\":{\"outlinewidth\":0,\"ticks\":\"\"},\"type\":\"contourcarpet\"}],\"contour\":[{\"colorbar\":{\"outlinewidth\":0,\"ticks\":\"\"},\"colorscale\":[[0.0,\"#0d0887\"],[0.1111111111111111,\"#46039f\"],[0.2222222222222222,\"#7201a8\"],[0.3333333333333333,\"#9c179e\"],[0.4444444444444444,\"#bd3786\"],[0.5555555555555556,\"#d8576b\"],[0.6666666666666666,\"#ed7953\"],[0.7777777777777778,\"#fb9f3a\"],[0.8888888888888888,\"#fdca26\"],[1.0,\"#f0f921\"]],\"type\":\"contour\"}],\"heatmapgl\":[{\"colorbar\":{\"outlinewidth\":0,\"ticks\":\"\"},\"colorscale\":[[0.0,\"#0d0887\"],[0.1111111111111111,\"#46039f\"],[0.2222222222222222,\"#7201a8\"],[0.3333333333333333,\"#9c179e\"],[0.4444444444444444,\"#bd3786\"],[0.5555555555555556,\"#d8576b\"],[0.6666666666666666,\"#ed7953\"],[0.7777777777777778,\"#fb9f3a\"],[0.8888888888888888,\"#fdca26\"],[1.0,\"#f0f921\"]],\"type\":\"heatmapgl\"}],\"heatmap\":[{\"colorbar\":{\"outlinewidth\":0,\"ticks\":\"\"},\"colorscale\":[[0.0,\"#0d0887\"],[0.1111111111111111,\"#46039f\"],[0.2222222222222222,\"#7201a8\"],[0.3333333333333333,\"#9c179e\"],[0.4444444444444444,\"#bd3786\"],[0.5555555555555556,\"#d8576b\"],[0.6666666666666666,\"#ed7953\"],[0.7777777777777778,\"#fb9f3a\"],[0.8888888888888888,\"#fdca26\"],[1.0,\"#f0f921\"]],\"type\":\"heatmap\"}],\"histogram2dcontour\":[{\"colorbar\":{\"outlinewidth\":0,\"ticks\":\"\"},\"colorscale\":[[0.0,\"#0d0887\"],[0.1111111111111111,\"#46039f\"],[0.2222222222222222,\"#7201a8\"],[0.3333333333333333,\"#9c179e\"],[0.4444444444444444,\"#bd3786\"],[0.5555555555555556,\"#d8576b\"],[0.6666666666666666,\"#ed7953\"],[0.7777777777777778,\"#fb9f3a\"],[0.8888888888888888,\"#fdca26\"],[1.0,\"#f0f921\"]],\"type\":\"histogram2dcontour\"}],\"histogram2d\":[{\"colorbar\":{\"outlinewidth\":0,\"ticks\":\"\"},\"colorscale\":[[0.0,\"#0d0887\"],[0.1111111111111111,\"#46039f\"],[0.2222222222222222,\"#7201a8\"],[0.3333333333333333,\"#9c179e\"],[0.4444444444444444,\"#bd3786\"],[0.5555555555555556,\"#d8576b\"],[0.6666666666666666,\"#ed7953\"],[0.7777777777777778,\"#fb9f3a\"],[0.8888888888888888,\"#fdca26\"],[1.0,\"#f0f921\"]],\"type\":\"histogram2d\"}],\"histogram\":[{\"marker\":{\"pattern\":{\"fillmode\":\"overlay\",\"size\":10,\"solidity\":0.2}},\"type\":\"histogram\"}],\"mesh3d\":[{\"colorbar\":{\"outlinewidth\":0,\"ticks\":\"\"},\"type\":\"mesh3d\"}],\"parcoords\":[{\"line\":{\"colorbar\":{\"outlinewidth\":0,\"ticks\":\"\"}},\"type\":\"parcoords\"}],\"pie\":[{\"automargin\":true,\"type\":\"pie\"}],\"scatter3d\":[{\"line\":{\"colorbar\":{\"outlinewidth\":0,\"ticks\":\"\"}},\"marker\":{\"colorbar\":{\"outlinewidth\":0,\"ticks\":\"\"}},\"type\":\"scatter3d\"}],\"scattercarpet\":[{\"marker\":{\"colorbar\":{\"outlinewidth\":0,\"ticks\":\"\"}},\"type\":\"scattercarpet\"}],\"scattergeo\":[{\"marker\":{\"colorbar\":{\"outlinewidth\":0,\"ticks\":\"\"}},\"type\":\"scattergeo\"}],\"scattergl\":[{\"marker\":{\"colorbar\":{\"outlinewidth\":0,\"ticks\":\"\"}},\"type\":\"scattergl\"}],\"scattermapbox\":[{\"marker\":{\"colorbar\":{\"outlinewidth\":0,\"ticks\":\"\"}},\"type\":\"scattermapbox\"}],\"scatterpolargl\":[{\"marker\":{\"colorbar\":{\"outlinewidth\":0,\"ticks\":\"\"}},\"type\":\"scatterpolargl\"}],\"scatterpolar\":[{\"marker\":{\"colorbar\":{\"outlinewidth\":0,\"ticks\":\"\"}},\"type\":\"scatterpolar\"}],\"scatter\":[{\"fillpattern\":{\"fillmode\":\"overlay\",\"size\":10,\"solidity\":0.2},\"type\":\"scatter\"}],\"scatterternary\":[{\"marker\":{\"colorbar\":{\"outlinewidth\":0,\"ticks\":\"\"}},\"type\":\"scatterternary\"}],\"surface\":[{\"colorbar\":{\"outlinewidth\":0,\"ticks\":\"\"},\"colorscale\":[[0.0,\"#0d0887\"],[0.1111111111111111,\"#46039f\"],[0.2222222222222222,\"#7201a8\"],[0.3333333333333333,\"#9c179e\"],[0.4444444444444444,\"#bd3786\"],[0.5555555555555556,\"#d8576b\"],[0.6666666666666666,\"#ed7953\"],[0.7777777777777778,\"#fb9f3a\"],[0.8888888888888888,\"#fdca26\"],[1.0,\"#f0f921\"]],\"type\":\"surface\"}],\"table\":[{\"cells\":{\"fill\":{\"color\":\"#EBF0F8\"},\"line\":{\"color\":\"white\"}},\"header\":{\"fill\":{\"color\":\"#C8D4E3\"},\"line\":{\"color\":\"white\"}},\"type\":\"table\"}]},\"layout\":{\"annotationdefaults\":{\"arrowcolor\":\"#2a3f5f\",\"arrowhead\":0,\"arrowwidth\":1},\"autotypenumbers\":\"strict\",\"coloraxis\":{\"colorbar\":{\"outlinewidth\":0,\"ticks\":\"\"}},\"colorscale\":{\"diverging\":[[0,\"#8e0152\"],[0.1,\"#c51b7d\"],[0.2,\"#de77ae\"],[0.3,\"#f1b6da\"],[0.4,\"#fde0ef\"],[0.5,\"#f7f7f7\"],[0.6,\"#e6f5d0\"],[0.7,\"#b8e186\"],[0.8,\"#7fbc41\"],[0.9,\"#4d9221\"],[1,\"#276419\"]],\"sequential\":[[0.0,\"#0d0887\"],[0.1111111111111111,\"#46039f\"],[0.2222222222222222,\"#7201a8\"],[0.3333333333333333,\"#9c179e\"],[0.4444444444444444,\"#bd3786\"],[0.5555555555555556,\"#d8576b\"],[0.6666666666666666,\"#ed7953\"],[0.7777777777777778,\"#fb9f3a\"],[0.8888888888888888,\"#fdca26\"],[1.0,\"#f0f921\"]],\"sequentialminus\":[[0.0,\"#0d0887\"],[0.1111111111111111,\"#46039f\"],[0.2222222222222222,\"#7201a8\"],[0.3333333333333333,\"#9c179e\"],[0.4444444444444444,\"#bd3786\"],[0.5555555555555556,\"#d8576b\"],[0.6666666666666666,\"#ed7953\"],[0.7777777777777778,\"#fb9f3a\"],[0.8888888888888888,\"#fdca26\"],[1.0,\"#f0f921\"]]},\"colorway\":[\"#636efa\",\"#EF553B\",\"#00cc96\",\"#ab63fa\",\"#FFA15A\",\"#19d3f3\",\"#FF6692\",\"#B6E880\",\"#FF97FF\",\"#FECB52\"],\"font\":{\"color\":\"#2a3f5f\"},\"geo\":{\"bgcolor\":\"white\",\"lakecolor\":\"white\",\"landcolor\":\"#E5ECF6\",\"showlakes\":true,\"showland\":true,\"subunitcolor\":\"white\"},\"hoverlabel\":{\"align\":\"left\"},\"hovermode\":\"closest\",\"mapbox\":{\"style\":\"light\"},\"paper_bgcolor\":\"white\",\"plot_bgcolor\":\"#E5ECF6\",\"polar\":{\"angularaxis\":{\"gridcolor\":\"white\",\"linecolor\":\"white\",\"ticks\":\"\"},\"bgcolor\":\"#E5ECF6\",\"radialaxis\":{\"gridcolor\":\"white\",\"linecolor\":\"white\",\"ticks\":\"\"}},\"scene\":{\"xaxis\":{\"backgroundcolor\":\"#E5ECF6\",\"gridcolor\":\"white\",\"gridwidth\":2,\"linecolor\":\"white\",\"showbackground\":true,\"ticks\":\"\",\"zerolinecolor\":\"white\"},\"yaxis\":{\"backgroundcolor\":\"#E5ECF6\",\"gridcolor\":\"white\",\"gridwidth\":2,\"linecolor\":\"white\",\"showbackground\":true,\"ticks\":\"\",\"zerolinecolor\":\"white\"},\"zaxis\":{\"backgroundcolor\":\"#E5ECF6\",\"gridcolor\":\"white\",\"gridwidth\":2,\"linecolor\":\"white\",\"showbackground\":true,\"ticks\":\"\",\"zerolinecolor\":\"white\"}},\"shapedefaults\":{\"line\":{\"color\":\"#2a3f5f\"}},\"ternary\":{\"aaxis\":{\"gridcolor\":\"white\",\"linecolor\":\"white\",\"ticks\":\"\"},\"baxis\":{\"gridcolor\":\"white\",\"linecolor\":\"white\",\"ticks\":\"\"},\"bgcolor\":\"#E5ECF6\",\"caxis\":{\"gridcolor\":\"white\",\"linecolor\":\"white\",\"ticks\":\"\"}},\"title\":{\"x\":0.05},\"xaxis\":{\"automargin\":true,\"gridcolor\":\"white\",\"linecolor\":\"white\",\"ticks\":\"\",\"title\":{\"standoff\":15},\"zerolinecolor\":\"white\",\"zerolinewidth\":2},\"yaxis\":{\"automargin\":true,\"gridcolor\":\"white\",\"linecolor\":\"white\",\"ticks\":\"\",\"title\":{\"standoff\":15},\"zerolinecolor\":\"white\",\"zerolinewidth\":2}}},\"updatemenus\":[{\"buttons\":[{\"args\":[{\"visible\":[true,true,true,true,false,false,false,false,false,false,false,false,false,false,false,false,false,false,false,false,false,false,false,false,false,false,false,false,false,false,false,false,false,false,false,false,false,false,false,false,false,false,false,false,false,false,false,false,false,false,false,false,false,false,false,false,false,false,false,false,false,false,false,false,false,false,false,false,false,false,false,false,false,false,false,false,false,false,false,false,false,false,false,false,false,false,false,false,false,false,false,false,false,false,false,false,false,false,false,false,false,false,false,false,false,false,false,false,false,false,false,false,false,false,false,false,false,false,false,false,false,false,false,false,false,false,false,false,false,false,false,false,false,false,false,false]}],\"label\":\"Atlanta\",\"method\":\"update\"},{\"args\":[{\"visible\":[false,false,false,false,true,true,true,true,false,false,false,false,false,false,false,false,false,false,false,false,false,false,false,false,false,false,false,false,false,false,false,false,false,false,false,false,false,false,false,false,false,false,false,false,false,false,false,false,false,false,false,false,false,false,false,false,false,false,false,false,false,false,false,false,false,false,false,false,false,false,false,false,false,false,false,false,false,false,false,false,false,false,false,false,false,false,false,false,false,false,false,false,false,false,false,false,false,false,false,false,false,false,false,false,false,false,false,false,false,false,false,false,false,false,false,false,false,false,false,false,false,false,false,false,false,false,false,false,false,false,false,false,false,false,false,false]}],\"label\":\"Austin\",\"method\":\"update\"},{\"args\":[{\"visible\":[false,false,false,false,false,false,false,false,true,true,true,true,false,false,false,false,false,false,false,false,false,false,false,false,false,false,false,false,false,false,false,false,false,false,false,false,false,false,false,false,false,false,false,false,false,false,false,false,false,false,false,false,false,false,false,false,false,false,false,false,false,false,false,false,false,false,false,false,false,false,false,false,false,false,false,false,false,false,false,false,false,false,false,false,false,false,false,false,false,false,false,false,false,false,false,false,false,false,false,false,false,false,false,false,false,false,false,false,false,false,false,false,false,false,false,false,false,false,false,false,false,false,false,false,false,false,false,false,false,false,false,false,false,false,false,false]}],\"label\":\"Baltimore\",\"method\":\"update\"},{\"args\":[{\"visible\":[false,false,false,false,false,false,false,false,false,false,false,false,true,true,true,true,false,false,false,false,false,false,false,false,false,false,false,false,false,false,false,false,false,false,false,false,false,false,false,false,false,false,false,false,false,false,false,false,false,false,false,false,false,false,false,false,false,false,false,false,false,false,false,false,false,false,false,false,false,false,false,false,false,false,false,false,false,false,false,false,false,false,false,false,false,false,false,false,false,false,false,false,false,false,false,false,false,false,false,false,false,false,false,false,false,false,false,false,false,false,false,false,false,false,false,false,false,false,false,false,false,false,false,false,false,false,false,false,false,false,false,false,false,false,false,false]}],\"label\":\"Boston\",\"method\":\"update\"},{\"args\":[{\"visible\":[false,false,false,false,false,false,false,false,false,false,false,false,false,false,false,false,true,true,true,true,false,false,false,false,false,false,false,false,false,false,false,false,false,false,false,false,false,false,false,false,false,false,false,false,false,false,false,false,false,false,false,false,false,false,false,false,false,false,false,false,false,false,false,false,false,false,false,false,false,false,false,false,false,false,false,false,false,false,false,false,false,false,false,false,false,false,false,false,false,false,false,false,false,false,false,false,false,false,false,false,false,false,false,false,false,false,false,false,false,false,false,false,false,false,false,false,false,false,false,false,false,false,false,false,false,false,false,false,false,false,false,false,false,false,false,false]}],\"label\":\"Charlotte\",\"method\":\"update\"},{\"args\":[{\"visible\":[false,false,false,false,false,false,false,false,false,false,false,false,false,false,false,false,false,false,false,false,true,true,true,true,false,false,false,false,false,false,false,false,false,false,false,false,false,false,false,false,false,false,false,false,false,false,false,false,false,false,false,false,false,false,false,false,false,false,false,false,false,false,false,false,false,false,false,false,false,false,false,false,false,false,false,false,false,false,false,false,false,false,false,false,false,false,false,false,false,false,false,false,false,false,false,false,false,false,false,false,false,false,false,false,false,false,false,false,false,false,false,false,false,false,false,false,false,false,false,false,false,false,false,false,false,false,false,false,false,false,false,false,false,false,false,false]}],\"label\":\"Chicago\",\"method\":\"update\"},{\"args\":[{\"visible\":[false,false,false,false,false,false,false,false,false,false,false,false,false,false,false,false,false,false,false,false,false,false,false,false,true,true,true,true,false,false,false,false,false,false,false,false,false,false,false,false,false,false,false,false,false,false,false,false,false,false,false,false,false,false,false,false,false,false,false,false,false,false,false,false,false,false,false,false,false,false,false,false,false,false,false,false,false,false,false,false,false,false,false,false,false,false,false,false,false,false,false,false,false,false,false,false,false,false,false,false,false,false,false,false,false,false,false,false,false,false,false,false,false,false,false,false,false,false,false,false,false,false,false,false,false,false,false,false,false,false,false,false,false,false,false,false]}],\"label\":\"Cincinnati\",\"method\":\"update\"},{\"args\":[{\"visible\":[false,false,false,false,false,false,false,false,false,false,false,false,false,false,false,false,false,false,false,false,false,false,false,false,false,false,false,false,true,true,true,true,false,false,false,false,false,false,false,false,false,false,false,false,false,false,false,false,false,false,false,false,false,false,false,false,false,false,false,false,false,false,false,false,false,false,false,false,false,false,false,false,false,false,false,false,false,false,false,false,false,false,false,false,false,false,false,false,false,false,false,false,false,false,false,false,false,false,false,false,false,false,false,false,false,false,false,false,false,false,false,false,false,false,false,false,false,false,false,false,false,false,false,false,false,false,false,false,false,false,false,false,false,false,false,false]}],\"label\":\"Cleveland\",\"method\":\"update\"},{\"args\":[{\"visible\":[false,false,false,false,false,false,false,false,false,false,false,false,false,false,false,false,false,false,false,false,false,false,false,false,false,false,false,false,false,false,false,false,true,true,true,true,false,false,false,false,false,false,false,false,false,false,false,false,false,false,false,false,false,false,false,false,false,false,false,false,false,false,false,false,false,false,false,false,false,false,false,false,false,false,false,false,false,false,false,false,false,false,false,false,false,false,false,false,false,false,false,false,false,false,false,false,false,false,false,false,false,false,false,false,false,false,false,false,false,false,false,false,false,false,false,false,false,false,false,false,false,false,false,false,false,false,false,false,false,false,false,false,false,false,false,false]}],\"label\":\"Dallas-Fort Worth\",\"method\":\"update\"},{\"args\":[{\"visible\":[false,false,false,false,false,false,false,false,false,false,false,false,false,false,false,false,false,false,false,false,false,false,false,false,false,false,false,false,false,false,false,false,false,false,false,false,true,true,true,true,false,false,false,false,false,false,false,false,false,false,false,false,false,false,false,false,false,false,false,false,false,false,false,false,false,false,false,false,false,false,false,false,false,false,false,false,false,false,false,false,false,false,false,false,false,false,false,false,false,false,false,false,false,false,false,false,false,false,false,false,false,false,false,false,false,false,false,false,false,false,false,false,false,false,false,false,false,false,false,false,false,false,false,false,false,false,false,false,false,false,false,false,false,false,false,false]}],\"label\":\"Denver\",\"method\":\"update\"},{\"args\":[{\"visible\":[false,false,false,false,false,false,false,false,false,false,false,false,false,false,false,false,false,false,false,false,false,false,false,false,false,false,false,false,false,false,false,false,false,false,false,false,false,false,false,false,true,true,true,true,false,false,false,false,false,false,false,false,false,false,false,false,false,false,false,false,false,false,false,false,false,false,false,false,false,false,false,false,false,false,false,false,false,false,false,false,false,false,false,false,false,false,false,false,false,false,false,false,false,false,false,false,false,false,false,false,false,false,false,false,false,false,false,false,false,false,false,false,false,false,false,false,false,false,false,false,false,false,false,false,false,false,false,false,false,false,false,false,false,false,false,false]}],\"label\":\"Detroit\",\"method\":\"update\"},{\"args\":[{\"visible\":[false,false,false,false,false,false,false,false,false,false,false,false,false,false,false,false,false,false,false,false,false,false,false,false,false,false,false,false,false,false,false,false,false,false,false,false,false,false,false,false,false,false,false,false,true,true,true,true,false,false,false,false,false,false,false,false,false,false,false,false,false,false,false,false,false,false,false,false,false,false,false,false,false,false,false,false,false,false,false,false,false,false,false,false,false,false,false,false,false,false,false,false,false,false,false,false,false,false,false,false,false,false,false,false,false,false,false,false,false,false,false,false,false,false,false,false,false,false,false,false,false,false,false,false,false,false,false,false,false,false,false,false,false,false,false,false]}],\"label\":\"Houston\",\"method\":\"update\"},{\"args\":[{\"visible\":[false,false,false,false,false,false,false,false,false,false,false,false,false,false,false,false,false,false,false,false,false,false,false,false,false,false,false,false,false,false,false,false,false,false,false,false,false,false,false,false,false,false,false,false,false,false,false,false,true,true,true,true,false,false,false,false,false,false,false,false,false,false,false,false,false,false,false,false,false,false,false,false,false,false,false,false,false,false,false,false,false,false,false,false,false,false,false,false,false,false,false,false,false,false,false,false,false,false,false,false,false,false,false,false,false,false,false,false,false,false,false,false,false,false,false,false,false,false,false,false,false,false,false,false,false,false,false,false,false,false,false,false,false,false,false,false]}],\"label\":\"Indianapolis\",\"method\":\"update\"},{\"args\":[{\"visible\":[false,false,false,false,false,false,false,false,false,false,false,false,false,false,false,false,false,false,false,false,false,false,false,false,false,false,false,false,false,false,false,false,false,false,false,false,false,false,false,false,false,false,false,false,false,false,false,false,false,false,false,false,true,true,true,true,false,false,false,false,false,false,false,false,false,false,false,false,false,false,false,false,false,false,false,false,false,false,false,false,false,false,false,false,false,false,false,false,false,false,false,false,false,false,false,false,false,false,false,false,false,false,false,false,false,false,false,false,false,false,false,false,false,false,false,false,false,false,false,false,false,false,false,false,false,false,false,false,false,false,false,false,false,false,false,false]}],\"label\":\"Kansas City\",\"method\":\"update\"},{\"args\":[{\"visible\":[false,false,false,false,false,false,false,false,false,false,false,false,false,false,false,false,false,false,false,false,false,false,false,false,false,false,false,false,false,false,false,false,false,false,false,false,false,false,false,false,false,false,false,false,false,false,false,false,false,false,false,false,false,false,false,false,true,true,true,true,false,false,false,false,false,false,false,false,false,false,false,false,false,false,false,false,false,false,false,false,false,false,false,false,false,false,false,false,false,false,false,false,false,false,false,false,false,false,false,false,false,false,false,false,false,false,false,false,false,false,false,false,false,false,false,false,false,false,false,false,false,false,false,false,false,false,false,false,false,false,false,false,false,false,false,false]}],\"label\":\"Las Vegas\",\"method\":\"update\"},{\"args\":[{\"visible\":[false,false,false,false,false,false,false,false,false,false,false,false,false,false,false,false,false,false,false,false,false,false,false,false,false,false,false,false,false,false,false,false,false,false,false,false,false,false,false,false,false,false,false,false,false,false,false,false,false,false,false,false,false,false,false,false,false,false,false,false,true,true,true,true,false,false,false,false,false,false,false,false,false,false,false,false,false,false,false,false,false,false,false,false,false,false,false,false,false,false,false,false,false,false,false,false,false,false,false,false,false,false,false,false,false,false,false,false,false,false,false,false,false,false,false,false,false,false,false,false,false,false,false,false,false,false,false,false,false,false,false,false,false,false,false,false]}],\"label\":\"Los Angeles\",\"method\":\"update\"},{\"args\":[{\"visible\":[false,false,false,false,false,false,false,false,false,false,false,false,false,false,false,false,false,false,false,false,false,false,false,false,false,false,false,false,false,false,false,false,false,false,false,false,false,false,false,false,false,false,false,false,false,false,false,false,false,false,false,false,false,false,false,false,false,false,false,false,false,false,false,false,true,true,true,true,false,false,false,false,false,false,false,false,false,false,false,false,false,false,false,false,false,false,false,false,false,false,false,false,false,false,false,false,false,false,false,false,false,false,false,false,false,false,false,false,false,false,false,false,false,false,false,false,false,false,false,false,false,false,false,false,false,false,false,false,false,false,false,false,false,false,false,false]}],\"label\":\"Miami\",\"method\":\"update\"},{\"args\":[{\"visible\":[false,false,false,false,false,false,false,false,false,false,false,false,false,false,false,false,false,false,false,false,false,false,false,false,false,false,false,false,false,false,false,false,false,false,false,false,false,false,false,false,false,false,false,false,false,false,false,false,false,false,false,false,false,false,false,false,false,false,false,false,false,false,false,false,false,false,false,false,true,true,true,true,false,false,false,false,false,false,false,false,false,false,false,false,false,false,false,false,false,false,false,false,false,false,false,false,false,false,false,false,false,false,false,false,false,false,false,false,false,false,false,false,false,false,false,false,false,false,false,false,false,false,false,false,false,false,false,false,false,false,false,false,false,false,false,false]}],\"label\":\"Minneapolis-St. Paul\",\"method\":\"update\"},{\"args\":[{\"visible\":[false,false,false,false,false,false,false,false,false,false,false,false,false,false,false,false,false,false,false,false,false,false,false,false,false,false,false,false,false,false,false,false,false,false,false,false,false,false,false,false,false,false,false,false,false,false,false,false,false,false,false,false,false,false,false,false,false,false,false,false,false,false,false,false,false,false,false,false,false,false,false,false,true,true,true,true,false,false,false,false,false,false,false,false,false,false,false,false,false,false,false,false,false,false,false,false,false,false,false,false,false,false,false,false,false,false,false,false,false,false,false,false,false,false,false,false,false,false,false,false,false,false,false,false,false,false,false,false,false,false,false,false,false,false,false,false]}],\"label\":\"Nashville\",\"method\":\"update\"},{\"args\":[{\"visible\":[false,false,false,false,false,false,false,false,false,false,false,false,false,false,false,false,false,false,false,false,false,false,false,false,false,false,false,false,false,false,false,false,false,false,false,false,false,false,false,false,false,false,false,false,false,false,false,false,false,false,false,false,false,false,false,false,false,false,false,false,false,false,false,false,false,false,false,false,false,false,false,false,false,false,false,false,true,true,true,true,false,false,false,false,false,false,false,false,false,false,false,false,false,false,false,false,false,false,false,false,false,false,false,false,false,false,false,false,false,false,false,false,false,false,false,false,false,false,false,false,false,false,false,false,false,false,false,false,false,false,false,false,false,false,false,false]}],\"label\":\"New York\",\"method\":\"update\"},{\"args\":[{\"visible\":[false,false,false,false,false,false,false,false,false,false,false,false,false,false,false,false,false,false,false,false,false,false,false,false,false,false,false,false,false,false,false,false,false,false,false,false,false,false,false,false,false,false,false,false,false,false,false,false,false,false,false,false,false,false,false,false,false,false,false,false,false,false,false,false,false,false,false,false,false,false,false,false,false,false,false,false,false,false,false,false,true,true,true,true,false,false,false,false,false,false,false,false,false,false,false,false,false,false,false,false,false,false,false,false,false,false,false,false,false,false,false,false,false,false,false,false,false,false,false,false,false,false,false,false,false,false,false,false,false,false,false,false,false,false,false,false]}],\"label\":\"Orlando\",\"method\":\"update\"},{\"args\":[{\"visible\":[false,false,false,false,false,false,false,false,false,false,false,false,false,false,false,false,false,false,false,false,false,false,false,false,false,false,false,false,false,false,false,false,false,false,false,false,false,false,false,false,false,false,false,false,false,false,false,false,false,false,false,false,false,false,false,false,false,false,false,false,false,false,false,false,false,false,false,false,false,false,false,false,false,false,false,false,false,false,false,false,false,false,false,false,true,true,true,true,false,false,false,false,false,false,false,false,false,false,false,false,false,false,false,false,false,false,false,false,false,false,false,false,false,false,false,false,false,false,false,false,false,false,false,false,false,false,false,false,false,false,false,false,false,false,false,false]}],\"label\":\"Philadelphia\",\"method\":\"update\"},{\"args\":[{\"visible\":[false,false,false,false,false,false,false,false,false,false,false,false,false,false,false,false,false,false,false,false,false,false,false,false,false,false,false,false,false,false,false,false,false,false,false,false,false,false,false,false,false,false,false,false,false,false,false,false,false,false,false,false,false,false,false,false,false,false,false,false,false,false,false,false,false,false,false,false,false,false,false,false,false,false,false,false,false,false,false,false,false,false,false,false,false,false,false,false,true,true,true,true,false,false,false,false,false,false,false,false,false,false,false,false,false,false,false,false,false,false,false,false,false,false,false,false,false,false,false,false,false,false,false,false,false,false,false,false,false,false,false,false,false,false,false,false]}],\"label\":\"Phoenix\",\"method\":\"update\"},{\"args\":[{\"visible\":[false,false,false,false,false,false,false,false,false,false,false,false,false,false,false,false,false,false,false,false,false,false,false,false,false,false,false,false,false,false,false,false,false,false,false,false,false,false,false,false,false,false,false,false,false,false,false,false,false,false,false,false,false,false,false,false,false,false,false,false,false,false,false,false,false,false,false,false,false,false,false,false,false,false,false,false,false,false,false,false,false,false,false,false,false,false,false,false,false,false,false,false,true,true,true,true,false,false,false,false,false,false,false,false,false,false,false,false,false,false,false,false,false,false,false,false,false,false,false,false,false,false,false,false,false,false,false,false,false,false,false,false,false,false,false,false]}],\"label\":\"Pittsburgh\",\"method\":\"update\"},{\"args\":[{\"visible\":[false,false,false,false,false,false,false,false,false,false,false,false,false,false,false,false,false,false,false,false,false,false,false,false,false,false,false,false,false,false,false,false,false,false,false,false,false,false,false,false,false,false,false,false,false,false,false,false,false,false,false,false,false,false,false,false,false,false,false,false,false,false,false,false,false,false,false,false,false,false,false,false,false,false,false,false,false,false,false,false,false,false,false,false,false,false,false,false,false,false,false,false,false,false,false,false,true,true,true,true,false,false,false,false,false,false,false,false,false,false,false,false,false,false,false,false,false,false,false,false,false,false,false,false,false,false,false,false,false,false,false,false,false,false,false,false]}],\"label\":\"Portland\",\"method\":\"update\"},{\"args\":[{\"visible\":[false,false,false,false,false,false,false,false,false,false,false,false,false,false,false,false,false,false,false,false,false,false,false,false,false,false,false,false,false,false,false,false,false,false,false,false,false,false,false,false,false,false,false,false,false,false,false,false,false,false,false,false,false,false,false,false,false,false,false,false,false,false,false,false,false,false,false,false,false,false,false,false,false,false,false,false,false,false,false,false,false,false,false,false,false,false,false,false,false,false,false,false,false,false,false,false,false,false,false,false,true,true,true,true,false,false,false,false,false,false,false,false,false,false,false,false,false,false,false,false,false,false,false,false,false,false,false,false,false,false,false,false,false,false,false,false]}],\"label\":\"Sacramento\",\"method\":\"update\"},{\"args\":[{\"visible\":[false,false,false,false,false,false,false,false,false,false,false,false,false,false,false,false,false,false,false,false,false,false,false,false,false,false,false,false,false,false,false,false,false,false,false,false,false,false,false,false,false,false,false,false,false,false,false,false,false,false,false,false,false,false,false,false,false,false,false,false,false,false,false,false,false,false,false,false,false,false,false,false,false,false,false,false,false,false,false,false,false,false,false,false,false,false,false,false,false,false,false,false,false,false,false,false,false,false,false,false,false,false,false,false,true,true,true,true,false,false,false,false,false,false,false,false,false,false,false,false,false,false,false,false,false,false,false,false,false,false,false,false,false,false,false,false]}],\"label\":\"San Antonio\",\"method\":\"update\"},{\"args\":[{\"visible\":[false,false,false,false,false,false,false,false,false,false,false,false,false,false,false,false,false,false,false,false,false,false,false,false,false,false,false,false,false,false,false,false,false,false,false,false,false,false,false,false,false,false,false,false,false,false,false,false,false,false,false,false,false,false,false,false,false,false,false,false,false,false,false,false,false,false,false,false,false,false,false,false,false,false,false,false,false,false,false,false,false,false,false,false,false,false,false,false,false,false,false,false,false,false,false,false,false,false,false,false,false,false,false,false,false,false,false,false,true,true,true,true,false,false,false,false,false,false,false,false,false,false,false,false,false,false,false,false,false,false,false,false,false,false,false,false]}],\"label\":\"San Diego\",\"method\":\"update\"},{\"args\":[{\"visible\":[false,false,false,false,false,false,false,false,false,false,false,false,false,false,false,false,false,false,false,false,false,false,false,false,false,false,false,false,false,false,false,false,false,false,false,false,false,false,false,false,false,false,false,false,false,false,false,false,false,false,false,false,false,false,false,false,false,false,false,false,false,false,false,false,false,false,false,false,false,false,false,false,false,false,false,false,false,false,false,false,false,false,false,false,false,false,false,false,false,false,false,false,false,false,false,false,false,false,false,false,false,false,false,false,false,false,false,false,false,false,false,false,true,true,true,true,false,false,false,false,false,false,false,false,false,false,false,false,false,false,false,false,false,false,false,false]}],\"label\":\"San Francisco\",\"method\":\"update\"},{\"args\":[{\"visible\":[false,false,false,false,false,false,false,false,false,false,false,false,false,false,false,false,false,false,false,false,false,false,false,false,false,false,false,false,false,false,false,false,false,false,false,false,false,false,false,false,false,false,false,false,false,false,false,false,false,false,false,false,false,false,false,false,false,false,false,false,false,false,false,false,false,false,false,false,false,false,false,false,false,false,false,false,false,false,false,false,false,false,false,false,false,false,false,false,false,false,false,false,false,false,false,false,false,false,false,false,false,false,false,false,false,false,false,false,false,false,false,false,false,false,false,false,true,true,true,true,false,false,false,false,false,false,false,false,false,false,false,false,false,false,false,false]}],\"label\":\"Seattle\",\"method\":\"update\"},{\"args\":[{\"visible\":[false,false,false,false,false,false,false,false,false,false,false,false,false,false,false,false,false,false,false,false,false,false,false,false,false,false,false,false,false,false,false,false,false,false,false,false,false,false,false,false,false,false,false,false,false,false,false,false,false,false,false,false,false,false,false,false,false,false,false,false,false,false,false,false,false,false,false,false,false,false,false,false,false,false,false,false,false,false,false,false,false,false,false,false,false,false,false,false,false,false,false,false,false,false,false,false,false,false,false,false,false,false,false,false,false,false,false,false,false,false,false,false,false,false,false,false,false,false,false,false,true,true,true,true,false,false,false,false,false,false,false,false,false,false,false,false]}],\"label\":\"St. Louis\",\"method\":\"update\"},{\"args\":[{\"visible\":[false,false,false,false,false,false,false,false,false,false,false,false,false,false,false,false,false,false,false,false,false,false,false,false,false,false,false,false,false,false,false,false,false,false,false,false,false,false,false,false,false,false,false,false,false,false,false,false,false,false,false,false,false,false,false,false,false,false,false,false,false,false,false,false,false,false,false,false,false,false,false,false,false,false,false,false,false,false,false,false,false,false,false,false,false,false,false,false,false,false,false,false,false,false,false,false,false,false,false,false,false,false,false,false,false,false,false,false,false,false,false,false,false,false,false,false,false,false,false,false,false,false,false,false,true,true,true,true,false,false,false,false,false,false,false,false]}],\"label\":\"Tampa\",\"method\":\"update\"},{\"args\":[{\"visible\":[false,false,false,false,false,false,false,false,false,false,false,false,false,false,false,false,false,false,false,false,false,false,false,false,false,false,false,false,false,false,false,false,false,false,false,false,false,false,false,false,false,false,false,false,false,false,false,false,false,false,false,false,false,false,false,false,false,false,false,false,false,false,false,false,false,false,false,false,false,false,false,false,false,false,false,false,false,false,false,false,false,false,false,false,false,false,false,false,false,false,false,false,false,false,false,false,false,false,false,false,false,false,false,false,false,false,false,false,false,false,false,false,false,false,false,false,false,false,false,false,false,false,false,false,false,false,false,false,true,true,true,true,false,false,false,false]}],\"label\":\"Virginia Beach\",\"method\":\"update\"},{\"args\":[{\"visible\":[false,false,false,false,false,false,false,false,false,false,false,false,false,false,false,false,false,false,false,false,false,false,false,false,false,false,false,false,false,false,false,false,false,false,false,false,false,false,false,false,false,false,false,false,false,false,false,false,false,false,false,false,false,false,false,false,false,false,false,false,false,false,false,false,false,false,false,false,false,false,false,false,false,false,false,false,false,false,false,false,false,false,false,false,false,false,false,false,false,false,false,false,false,false,false,false,false,false,false,false,false,false,false,false,false,false,false,false,false,false,false,false,false,false,false,false,false,false,false,false,false,false,false,false,false,false,false,false,false,false,false,false,true,true,true,true]}],\"label\":\"Washington, DC\",\"method\":\"update\"}],\"direction\":\"down\",\"pad\":{\"r\":10,\"t\":10},\"showactive\":true,\"x\":0,\"xanchor\":\"left\",\"y\":1.6,\"yanchor\":\"top\"}],\"width\":1200,\"xaxis\":{\"anchor\":\"y\",\"domain\":[0.0,0.2125]},\"yaxis\":{\"anchor\":\"x\",\"domain\":[0.0,1.0]},\"xaxis2\":{\"anchor\":\"y2\",\"domain\":[0.2625,0.475]},\"yaxis2\":{\"anchor\":\"x2\",\"domain\":[0.0,1.0]},\"xaxis3\":{\"anchor\":\"y3\",\"domain\":[0.525,0.7375]},\"yaxis3\":{\"anchor\":\"x3\",\"domain\":[0.0,1.0]},\"xaxis4\":{\"anchor\":\"y4\",\"domain\":[0.7875,1.0]},\"yaxis4\":{\"anchor\":\"x4\",\"domain\":[0.0,1.0]}},                        {\"responsive\": true}                    ).then(function(){\n",
              "                            \n",
              "var gd = document.getElementById('1fccd3f0-dcc4-491b-a977-5c134cd1df8a');\n",
              "var x = new MutationObserver(function (mutations, observer) {{\n",
              "        var display = window.getComputedStyle(gd).display;\n",
              "        if (!display || display === 'none') {{\n",
              "            console.log([gd, 'removed!']);\n",
              "            Plotly.purge(gd);\n",
              "            observer.disconnect();\n",
              "        }}\n",
              "}});\n",
              "\n",
              "// Listen for the removal of the full notebook cells\n",
              "var notebookContainer = gd.closest('#notebook-container');\n",
              "if (notebookContainer) {{\n",
              "    x.observe(notebookContainer, {childList: true});\n",
              "}}\n",
              "\n",
              "// Listen for the clearing of the current output cell\n",
              "var outputEl = gd.closest('.output');\n",
              "if (outputEl) {{\n",
              "    x.observe(outputEl, {childList: true});\n",
              "}}\n",
              "\n",
              "                        })                };                });            </script>        </div>"
            ]
          },
          "metadata": {},
          "output_type": "display_data"
        }
      ],
      "source": [
        "regions = original_df['Region'].unique()\n",
        "\n",
        "attributes = ['Median Personal Income (USD)', 'Median Rent (USD)', 'Median Home Sale Price (USD)', 'Purchasing Power (per $100)']\n",
        "\n",
        "fig = make_subplots(rows=1, cols=4, subplot_titles=attributes)\n",
        "\n",
        "# Create a list of traces, one for each region and attribute\n",
        "for region in regions:\n",
        "    region_df = original_df[original_df['Region'] == region]\n",
        "    for i, attribute in enumerate(attributes, start=1):\n",
        "        row = 1\n",
        "        col = i\n",
        "        fig.add_trace(go.Bar(\n",
        "            x=[region, 'Metro average'],\n",
        "            y=[region_df[attribute].values[0], original_df[attribute].mean()],\n",
        "            name=region,\n",
        "            visible=(region == regions[0]) \n",
        "        ), row=row, col=col)\n",
        "\n",
        "# Update layout to add a dropdown menu\n",
        "fig.update_layout(\n",
        "    updatemenus=[\n",
        "        dict(\n",
        "            buttons=list([\n",
        "                dict(label=region,\n",
        "                     method=\"update\",\n",
        "                     args=[{\"visible\": [(region == r.name) for r in fig.data]}])\n",
        "                for region in regions\n",
        "            ]),\n",
        "            direction=\"down\",\n",
        "            pad={\"r\": 10, \"t\": 10},\n",
        "            showactive=True,\n",
        "            x=0, \n",
        "            xanchor=\"left\",\n",
        "            y=1.6,\n",
        "            yanchor=\"top\"\n",
        "        ),\n",
        "    ],\n",
        "    height=400, \n",
        "    width=1200, \n",
        "    showlegend=False\n",
        ")\n",
        "\n",
        "# Show the figure\n",
        "iplot(fig)"
      ]
    },
    {
      "cell_type": "markdown",
      "id": "1e2ca311",
      "metadata": {},
      "source": [
        "----------"
      ]
    },
    {
      "cell_type": "markdown",
      "id": "3c7fac5b",
      "metadata": {},
      "source": [
        "## Multiple Trace Radar Chart<br>\n",
        "\n",
        "The following dropdown menu lets you view a radar chart comparing each region's values to the averages of all regions. The chart again uses the normalized data from the first plot, where higher is always better. The further away from the center a point is, the better the value is. The larger the area, the better the region is overall. This chart is an intuitive way to compare what region you want to investigate to the average of all the regions without overwhelming your visual cortex. "
      ]
    },
    {
      "cell_type": "markdown",
      "id": "44e0c317",
      "metadata": {},
      "source": [
        "<div>\n",
        "\n",
        "> **How to use this viz**<br>\n",
        "> Select a metropolitan area from the dropdown menu to see a radar chart comparing the selected area's values to the averages of all regions.<br>\n",
        "> You can also rotate the chart at your convenience.\n",
        "\n",
        "</div>"
      ]
    },
    {
      "cell_type": "code",
      "execution_count": 6,
      "id": "8fb2ab94",
      "metadata": {},
      "outputs": [
        {
          "data": {
            "application/vnd.plotly.v1+json": {
              "config": {
                "linkText": "Export to plot.ly",
                "plotlyServerURL": "https://plot.ly",
                "showLink": false
              },
              "data": [
                {
                  "fill": "toself",
                  "name": "Atlanta",
                  "r": [
                    0.7554322265073841,
                    0.20090293453724603,
                    0.3020689655172414,
                    0.7419354838709677,
                    0.7478559176672386,
                    0.39684912640586245,
                    0.2948639984065873
                  ],
                  "theta": [
                    "Median Rent",
                    "Median Sale Price",
                    "Walkability",
                    "Unemployment",
                    "Purchasing Power",
                    "Violent Crime Rate",
                    "Non-Violent Crime Rate"
                  ],
                  "type": "scatterpolar",
                  "visible": true
                },
                {
                  "fill": "toself",
                  "name": "Austin",
                  "r": [
                    0.8214655253503903,
                    0.3072799097065463,
                    0.31034482758620696,
                    0.5161290322580644,
                    0.707975986277873,
                    0.737979815572779,
                    0.6311037561739447
                  ],
                  "theta": [
                    "Median Rent",
                    "Median Sale Price",
                    "Walkability",
                    "Unemployment",
                    "Purchasing Power",
                    "Violent Crime Rate",
                    "Non-Violent Crime Rate"
                  ],
                  "type": "scatterpolar",
                  "visible": false
                },
                {
                  "fill": "toself",
                  "name": "Baltimore",
                  "r": [
                    0.8049101683755056,
                    0.16534988713318285,
                    0.23724137931034484,
                    0.8064516129032259,
                    0.5051457975986278,
                    0.19201170167816528,
                    0.2627245239361533
                  ],
                  "theta": [
                    "Median Rent",
                    "Median Sale Price",
                    "Walkability",
                    "Unemployment",
                    "Purchasing Power",
                    "Violent Crime Rate",
                    "Non-Violent Crime Rate"
                  ],
                  "type": "scatterpolar",
                  "visible": false
                },
                {
                  "fill": "toself",
                  "name": "Boston",
                  "r": [
                    0.06819678299313325,
                    0.47516930022573367,
                    0.6455172413793103,
                    0.6451612903225806,
                    0.33104631217838776,
                    0.8757051486738852,
                    0.8642992903804061
                  ],
                  "theta": [
                    "Median Rent",
                    "Median Sale Price",
                    "Walkability",
                    "Unemployment",
                    "Purchasing Power",
                    "Violent Crime Rate",
                    "Non-Violent Crime Rate"
                  ],
                  "type": "scatterpolar",
                  "visible": false
                },
                {
                  "fill": "toself",
                  "name": "Charlotte",
                  "r": [
                    0.8267331389333082,
                    0.20993227990970656,
                    0.33379310344827595,
                    0.5483870967741934,
                    0.8606346483704979,
                    0.7018297579997486,
                    0.49854325628306806
                  ],
                  "theta": [
                    "Median Rent",
                    "Median Sale Price",
                    "Walkability",
                    "Unemployment",
                    "Purchasing Power",
                    "Violent Crime Rate",
                    "Non-Violent Crime Rate"
                  ],
                  "type": "scatterpolar",
                  "visible": false
                },
                {
                  "fill": "toself",
                  "name": "Chicago",
                  "r": [
                    0.6634371178628539,
                    0.1252821670428894,
                    0.5296551724137932,
                    0,
                    0.489279588336192,
                    0.6138962266280912,
                    0.6153751618309837
                  ],
                  "theta": [
                    "Median Rent",
                    "Median Sale Price",
                    "Walkability",
                    "Unemployment",
                    "Purchasing Power",
                    "Violent Crime Rate",
                    "Non-Violent Crime Rate"
                  ],
                  "type": "scatterpolar",
                  "visible": false
                },
                {
                  "fill": "toself",
                  "name": "Cincinnati",
                  "r": [
                    0.9311447653090019,
                    0.07674943566591422,
                    0.1724137931034483,
                    0.3870967741935484,
                    0.966981132075472,
                    0.3533903580494193,
                    0.23692267922185506
                  ],
                  "theta": [
                    "Median Rent",
                    "Median Sale Price",
                    "Walkability",
                    "Unemployment",
                    "Purchasing Power",
                    "Violent Crime Rate",
                    "Non-Violent Crime Rate"
                  ],
                  "type": "scatterpolar",
                  "visible": false
                },
                {
                  "fill": "toself",
                  "name": "Cleveland",
                  "r": [
                    0.9968958705672091,
                    0,
                    0.2689655172413793,
                    0.22580645161290336,
                    0.9734133790737571,
                    0.26607126154282845,
                    0.26528203617809787
                  ],
                  "theta": [
                    "Median Rent",
                    "Median Sale Price",
                    "Walkability",
                    "Unemployment",
                    "Purchasing Power",
                    "Violent Crime Rate",
                    "Non-Violent Crime Rate"
                  ],
                  "type": "scatterpolar",
                  "visible": false
                },
                {
                  "fill": "toself",
                  "name": "Dallas-Fort Worth",
                  "r": [
                    0.7302229329319913,
                    0.22686230248306996,
                    0.15724137931034476,
                    0.35483870967741915,
                    0.5506003430531736,
                    0.6777103673385134,
                    0.6320530233523963
                  ],
                  "theta": [
                    "Median Rent",
                    "Median Sale Price",
                    "Walkability",
                    "Unemployment",
                    "Purchasing Power",
                    "Violent Crime Rate",
                    "Non-Violent Crime Rate"
                  ],
                  "type": "scatterpolar",
                  "visible": false
                },
                {
                  "fill": "toself",
                  "name": "Denver",
                  "r": [
                    0.5432226507384065,
                    0.4255079006772009,
                    0.2924137931034483,
                    0.35483870967741915,
                    0.3499142367066894,
                    0.6172377201724932,
                    0.5299284023706252
                  ],
                  "theta": [
                    "Median Rent",
                    "Median Sale Price",
                    "Walkability",
                    "Unemployment",
                    "Purchasing Power",
                    "Violent Crime Rate",
                    "Non-Violent Crime Rate"
                  ],
                  "type": "scatterpolar",
                  "visible": false
                },
                {
                  "fill": "toself",
                  "name": "Detroit",
                  "r": [
                    0.941021540776973,
                    0.05756207674943567,
                    0.16137931034482766,
                    0.4193548387096774,
                    0.8833619210977703,
                    0.23569302124557745,
                    0.3448340159722677
                  ],
                  "theta": [
                    "Median Rent",
                    "Median Sale Price",
                    "Walkability",
                    "Unemployment",
                    "Purchasing Power",
                    "Violent Crime Rate",
                    "Non-Violent Crime Rate"
                  ],
                  "type": "scatterpolar",
                  "visible": false
                },
                {
                  "fill": "toself",
                  "name": "Houston",
                  "r": [
                    0.9567303169974603,
                    0.16478555304740408,
                    0.263448275862069,
                    0.22580645161290336,
                    0.7208404802744433,
                    0.4735228566544425,
                    0.43217295308967396
                  ],
                  "theta": [
                    "Median Rent",
                    "Median Sale Price",
                    "Walkability",
                    "Unemployment",
                    "Purchasing Power",
                    "Violent Crime Rate",
                    "Non-Violent Crime Rate"
                  ],
                  "type": "scatterpolar",
                  "visible": false
                },
                {
                  "fill": "toself",
                  "name": "Indianapolis",
                  "r": [
                    0.9621860596369108,
                    0.08013544018058691,
                    0.12275862068965515,
                    0.5161290322580644,
                    0.933962264150944,
                    0.3891549827280909,
                    0.37211061505308907
                  ],
                  "theta": [
                    "Median Rent",
                    "Median Sale Price",
                    "Walkability",
                    "Unemployment",
                    "Purchasing Power",
                    "Violent Crime Rate",
                    "Non-Violent Crime Rate"
                  ],
                  "type": "scatterpolar",
                  "visible": false
                },
                {
                  "fill": "toself",
                  "name": "Kansas City",
                  "r": [
                    0.916000376258113,
                    0.11286681715575622,
                    0.22896551724137937,
                    0.5483870967741934,
                    1,
                    0.302985734144839,
                    0.3441580868876114
                  ],
                  "theta": [
                    "Median Rent",
                    "Median Sale Price",
                    "Walkability",
                    "Unemployment",
                    "Purchasing Power",
                    "Violent Crime Rate",
                    "Non-Violent Crime Rate"
                  ],
                  "type": "scatterpolar",
                  "visible": false
                },
                {
                  "fill": "toself",
                  "name": "Las Vegas",
                  "r": [
                    0.9236196030476906,
                    0.2663656884875847,
                    0,
                    0.03225806451612889,
                    0.9095197255574616,
                    0.7451337081224743,
                    0.6832689540897947
                  ],
                  "theta": [
                    "Median Rent",
                    "Median Sale Price",
                    "Walkability",
                    "Unemployment",
                    "Purchasing Power",
                    "Violent Crime Rate",
                    "Non-Violent Crime Rate"
                  ],
                  "type": "scatterpolar",
                  "visible": false
                },
                {
                  "fill": "toself",
                  "name": "Los Angeles",
                  "r": [
                    0.2007337033204778,
                    0.8363431151241536,
                    0.43448275862068964,
                    0.16129032258064513,
                    0.1891080617495713,
                    0.7830883657322742,
                    0.7696056515299516
                  ],
                  "theta": [
                    "Median Rent",
                    "Median Sale Price",
                    "Walkability",
                    "Unemployment",
                    "Purchasing Power",
                    "Violent Crime Rate",
                    "Non-Violent Crime Rate"
                  ],
                  "type": "scatterpolar",
                  "visible": false
                },
                {
                  "fill": "toself",
                  "name": "Miami",
                  "r": [
                    0.40043269683002547,
                    0.32279909706546284,
                    0.36827586206896556,
                    0.9032258064516129,
                    0.3224699828473412,
                    0.5543492634845069,
                    0.4563771472402388
                  ],
                  "theta": [
                    "Median Rent",
                    "Median Sale Price",
                    "Walkability",
                    "Unemployment",
                    "Purchasing Power",
                    "Violent Crime Rate",
                    "Non-Violent Crime Rate"
                  ],
                  "type": "scatterpolar",
                  "visible": false
                },
                {
                  "fill": "toself",
                  "name": "Minneapolis-St. Paul",
                  "r": [
                    0.8368921079860784,
                    0.1760722347629797,
                    0.3710344827586207,
                    0.6451612903225806,
                    0.5613207547169816,
                    0.39029192913195354,
                    0.32348186115696176
                  ],
                  "theta": [
                    "Median Rent",
                    "Median Sale Price",
                    "Walkability",
                    "Unemployment",
                    "Purchasing Power",
                    "Violent Crime Rate",
                    "Non-Violent Crime Rate"
                  ],
                  "type": "scatterpolar",
                  "visible": false
                },
                {
                  "fill": "toself",
                  "name": "Nashville",
                  "r": [
                    0.8342583011946194,
                    0.2718961625282167,
                    0.2206896551724138,
                    1,
                    0.9103773584905666,
                    0.5195780558055225,
                    0.4979542020964396
                  ],
                  "theta": [
                    "Median Rent",
                    "Median Sale Price",
                    "Walkability",
                    "Unemployment",
                    "Purchasing Power",
                    "Violent Crime Rate",
                    "Non-Violent Crime Rate"
                  ],
                  "type": "scatterpolar",
                  "visible": false
                },
                {
                  "fill": "toself",
                  "name": "New York",
                  "r": [
                    0,
                    0.43566591422121903,
                    1,
                    0.19354838709677413,
                    0.16423670668953694,
                    1,
                    1
                  ],
                  "theta": [
                    "Median Rent",
                    "Median Sale Price",
                    "Walkability",
                    "Unemployment",
                    "Purchasing Power",
                    "Violent Crime Rate",
                    "Non-Violent Crime Rate"
                  ],
                  "type": "scatterpolar",
                  "visible": false
                },
                {
                  "fill": "toself",
                  "name": "Orlando",
                  "r": [
                    0.7052017684131313,
                    0.22686230248306996,
                    0.0675862068965517,
                    0.6774193548387096,
                    0.717838765008576,
                    0.31962385619966405,
                    0.15117291706837488
                  ],
                  "theta": [
                    "Median Rent",
                    "Median Sale Price",
                    "Walkability",
                    "Unemployment",
                    "Purchasing Power",
                    "Violent Crime Rate",
                    "Non-Violent Crime Rate"
                  ],
                  "type": "scatterpolar",
                  "visible": false
                },
                {
                  "fill": "toself",
                  "name": "Philadelphia",
                  "r": [
                    0.6699275703132348,
                    0.13797968397291197,
                    0.3806896551724138,
                    0.4838709677419356,
                    0.7439965694682673,
                    0.6694340425943666,
                    0.6578209656674641
                  ],
                  "theta": [
                    "Median Rent",
                    "Median Sale Price",
                    "Walkability",
                    "Unemployment",
                    "Purchasing Power",
                    "Violent Crime Rate",
                    "Non-Violent Crime Rate"
                  ],
                  "type": "scatterpolar",
                  "visible": false
                },
                {
                  "fill": "toself",
                  "name": "Phoenix",
                  "r": [
                    0.7293763521775938,
                    0.3047404063205418,
                    0.0841379310344828,
                    0.6451612903225806,
                    0.7452830188679247,
                    0.6039701200808927,
                    0.5291550038881814
                  ],
                  "theta": [
                    "Median Rent",
                    "Median Sale Price",
                    "Walkability",
                    "Unemployment",
                    "Purchasing Power",
                    "Violent Crime Rate",
                    "Non-Violent Crime Rate"
                  ],
                  "type": "scatterpolar",
                  "visible": false
                },
                {
                  "fill": "toself",
                  "name": "Pittsburgh",
                  "r": [
                    0.872918822312106,
                    0.015237020316027083,
                    0.4096551724137931,
                    0.5483870967741934,
                    0.9279588336192113,
                    0.7052422099012712,
                    0.6470272893124805
                  ],
                  "theta": [
                    "Median Rent",
                    "Median Sale Price",
                    "Walkability",
                    "Unemployment",
                    "Purchasing Power",
                    "Violent Crime Rate",
                    "Non-Violent Crime Rate"
                  ],
                  "type": "scatterpolar",
                  "visible": false
                },
                {
                  "fill": "toself",
                  "name": "Portland",
                  "r": [
                    0.6726554416329602,
                    0.3792325056433409,
                    0.5655172413793104,
                    0.16129032258064513,
                    0.49099485420240185,
                    0.3142036053296178,
                    0.10403798763833749
                  ],
                  "theta": [
                    "Median Rent",
                    "Median Sale Price",
                    "Walkability",
                    "Unemployment",
                    "Purchasing Power",
                    "Violent Crime Rate",
                    "Non-Violent Crime Rate"
                  ],
                  "type": "scatterpolar",
                  "visible": false
                },
                {
                  "fill": "toself",
                  "name": "Sacramento",
                  "r": [
                    0.5668328473332706,
                    0.40970654627539504,
                    0.1779310344827586,
                    0.03225806451612889,
                    0.4558319039451115,
                    0.7312403843362651,
                    0.6847013304572798
                  ],
                  "theta": [
                    "Median Rent",
                    "Median Sale Price",
                    "Walkability",
                    "Unemployment",
                    "Purchasing Power",
                    "Violent Crime Rate",
                    "Non-Violent Crime Rate"
                  ],
                  "type": "scatterpolar",
                  "visible": false
                },
                {
                  "fill": "toself",
                  "name": "San Antonio",
                  "r": [
                    1,
                    0.13318284424379231,
                    0.026206896551724146,
                    0.3870967741935484,
                    0.8709262435677534,
                    0.4229053576785007,
                    0.28036860383563256
                  ],
                  "theta": [
                    "Median Rent",
                    "Median Sale Price",
                    "Walkability",
                    "Unemployment",
                    "Purchasing Power",
                    "Violent Crime Rate",
                    "Non-Violent Crime Rate"
                  ],
                  "type": "scatterpolar",
                  "visible": false
                },
                {
                  "fill": "toself",
                  "name": "San Diego",
                  "r": [
                    0.2710939704637382,
                    0.7686230248306998,
                    0.13103448275862073,
                    0.19354838709677413,
                    0.14536878216123528,
                    0.9623952961059989,
                    0.9164348236969295
                  ],
                  "theta": [
                    "Median Rent",
                    "Median Sale Price",
                    "Walkability",
                    "Unemployment",
                    "Purchasing Power",
                    "Violent Crime Rate",
                    "Non-Violent Crime Rate"
                  ],
                  "type": "scatterpolar",
                  "visible": false
                },
                {
                  "fill": "toself",
                  "name": "San Francisco",
                  "r": [
                    0.12491769353776683,
                    1,
                    0.5337931034482759,
                    0.29032258064516114,
                    0,
                    0.20495837647278936,
                    0
                  ],
                  "theta": [
                    "Median Rent",
                    "Median Sale Price",
                    "Walkability",
                    "Unemployment",
                    "Purchasing Power",
                    "Violent Crime Rate",
                    "Non-Violent Crime Rate"
                  ],
                  "type": "scatterpolar",
                  "visible": false
                },
                {
                  "fill": "toself",
                  "name": "Seattle",
                  "r": [
                    0.44200921832377016,
                    0.5485327313769752,
                    0.5779310344827587,
                    0.19354838709677413,
                    0.16423670668953694,
                    0.36709983518308875,
                    0.19268852382597035
                  ],
                  "theta": [
                    "Median Rent",
                    "Median Sale Price",
                    "Walkability",
                    "Unemployment",
                    "Purchasing Power",
                    "Violent Crime Rate",
                    "Non-Violent Crime Rate"
                  ],
                  "type": "scatterpolar",
                  "visible": false
                },
                {
                  "fill": "toself",
                  "name": "St. Louis",
                  "r": [
                    0.91816386040824,
                    0.044018058690744905,
                    0.2206896551724138,
                    0.4193548387096774,
                    0.8769296740994861,
                    0,
                    0.026863413590200613
                  ],
                  "theta": [
                    "Median Rent",
                    "Median Sale Price",
                    "Walkability",
                    "Unemployment",
                    "Purchasing Power",
                    "Violent Crime Rate",
                    "Non-Violent Crime Rate"
                  ],
                  "type": "scatterpolar",
                  "visible": false
                },
                {
                  "fill": "toself",
                  "name": "Tampa",
                  "r": [
                    0.7198758348226884,
                    0.20993227990970656,
                    0.10896551724137932,
                    0.6451612903225806,
                    0.7542881646655237,
                    0.9627871797600963,
                    0.9374733813193542
                  ],
                  "theta": [
                    "Median Rent",
                    "Median Sale Price",
                    "Walkability",
                    "Unemployment",
                    "Purchasing Power",
                    "Violent Crime Rate",
                    "Non-Violent Crime Rate"
                  ],
                  "type": "scatterpolar",
                  "visible": false
                },
                {
                  "fill": "toself",
                  "name": "Virginia Beach",
                  "r": [
                    0.8634183049572006,
                    0.1475733634311512,
                    0.09655172413793106,
                    0.7419354838709677,
                    0.8066037735849063,
                    0.9845326908376635,
                    0.8970151056377571
                  ],
                  "theta": [
                    "Median Rent",
                    "Median Sale Price",
                    "Walkability",
                    "Unemployment",
                    "Purchasing Power",
                    "Violent Crime Rate",
                    "Non-Violent Crime Rate"
                  ],
                  "type": "scatterpolar",
                  "visible": false
                },
                {
                  "fill": "toself",
                  "name": "Washington, DC",
                  "r": [
                    0.5506537484714514,
                    0.3792325056433409,
                    0.6220689655172412,
                    0.7419354838709677,
                    0.27315608919382495,
                    0.49724875097164567,
                    0.42628029232343734
                  ],
                  "theta": [
                    "Median Rent",
                    "Median Sale Price",
                    "Walkability",
                    "Unemployment",
                    "Purchasing Power",
                    "Violent Crime Rate",
                    "Non-Violent Crime Rate"
                  ],
                  "type": "scatterpolar",
                  "visible": false
                },
                {
                  "fill": "toself",
                  "name": "Average",
                  "r": [
                    0.6829582740819025,
                    0.2835994555835879,
                    0.3065720081135903,
                    0.452561669829222,
                    0.6191605287054791,
                    0.546238856075392,
                    0.485473507456222
                  ],
                  "theta": [
                    "Median Rent",
                    "Median Sale Price",
                    "Walkability",
                    "Unemployment",
                    "Purchasing Power",
                    "Violent Crime Rate",
                    "Non-Violent Crime Rate"
                  ],
                  "type": "scatterpolar"
                }
              ],
              "layout": {
                "polar": {
                  "radialaxis": {
                    "range": [
                      0,
                      1
                    ],
                    "visible": true
                  }
                },
                "showlegend": true,
                "template": {
                  "data": {
                    "bar": [
                      {
                        "error_x": {
                          "color": "#2a3f5f"
                        },
                        "error_y": {
                          "color": "#2a3f5f"
                        },
                        "marker": {
                          "line": {
                            "color": "#E5ECF6",
                            "width": 0.5
                          },
                          "pattern": {
                            "fillmode": "overlay",
                            "size": 10,
                            "solidity": 0.2
                          }
                        },
                        "type": "bar"
                      }
                    ],
                    "barpolar": [
                      {
                        "marker": {
                          "line": {
                            "color": "#E5ECF6",
                            "width": 0.5
                          },
                          "pattern": {
                            "fillmode": "overlay",
                            "size": 10,
                            "solidity": 0.2
                          }
                        },
                        "type": "barpolar"
                      }
                    ],
                    "carpet": [
                      {
                        "aaxis": {
                          "endlinecolor": "#2a3f5f",
                          "gridcolor": "white",
                          "linecolor": "white",
                          "minorgridcolor": "white",
                          "startlinecolor": "#2a3f5f"
                        },
                        "baxis": {
                          "endlinecolor": "#2a3f5f",
                          "gridcolor": "white",
                          "linecolor": "white",
                          "minorgridcolor": "white",
                          "startlinecolor": "#2a3f5f"
                        },
                        "type": "carpet"
                      }
                    ],
                    "choropleth": [
                      {
                        "colorbar": {
                          "outlinewidth": 0,
                          "ticks": ""
                        },
                        "type": "choropleth"
                      }
                    ],
                    "contour": [
                      {
                        "colorbar": {
                          "outlinewidth": 0,
                          "ticks": ""
                        },
                        "colorscale": [
                          [
                            0,
                            "#0d0887"
                          ],
                          [
                            0.1111111111111111,
                            "#46039f"
                          ],
                          [
                            0.2222222222222222,
                            "#7201a8"
                          ],
                          [
                            0.3333333333333333,
                            "#9c179e"
                          ],
                          [
                            0.4444444444444444,
                            "#bd3786"
                          ],
                          [
                            0.5555555555555556,
                            "#d8576b"
                          ],
                          [
                            0.6666666666666666,
                            "#ed7953"
                          ],
                          [
                            0.7777777777777778,
                            "#fb9f3a"
                          ],
                          [
                            0.8888888888888888,
                            "#fdca26"
                          ],
                          [
                            1,
                            "#f0f921"
                          ]
                        ],
                        "type": "contour"
                      }
                    ],
                    "contourcarpet": [
                      {
                        "colorbar": {
                          "outlinewidth": 0,
                          "ticks": ""
                        },
                        "type": "contourcarpet"
                      }
                    ],
                    "heatmap": [
                      {
                        "colorbar": {
                          "outlinewidth": 0,
                          "ticks": ""
                        },
                        "colorscale": [
                          [
                            0,
                            "#0d0887"
                          ],
                          [
                            0.1111111111111111,
                            "#46039f"
                          ],
                          [
                            0.2222222222222222,
                            "#7201a8"
                          ],
                          [
                            0.3333333333333333,
                            "#9c179e"
                          ],
                          [
                            0.4444444444444444,
                            "#bd3786"
                          ],
                          [
                            0.5555555555555556,
                            "#d8576b"
                          ],
                          [
                            0.6666666666666666,
                            "#ed7953"
                          ],
                          [
                            0.7777777777777778,
                            "#fb9f3a"
                          ],
                          [
                            0.8888888888888888,
                            "#fdca26"
                          ],
                          [
                            1,
                            "#f0f921"
                          ]
                        ],
                        "type": "heatmap"
                      }
                    ],
                    "heatmapgl": [
                      {
                        "colorbar": {
                          "outlinewidth": 0,
                          "ticks": ""
                        },
                        "colorscale": [
                          [
                            0,
                            "#0d0887"
                          ],
                          [
                            0.1111111111111111,
                            "#46039f"
                          ],
                          [
                            0.2222222222222222,
                            "#7201a8"
                          ],
                          [
                            0.3333333333333333,
                            "#9c179e"
                          ],
                          [
                            0.4444444444444444,
                            "#bd3786"
                          ],
                          [
                            0.5555555555555556,
                            "#d8576b"
                          ],
                          [
                            0.6666666666666666,
                            "#ed7953"
                          ],
                          [
                            0.7777777777777778,
                            "#fb9f3a"
                          ],
                          [
                            0.8888888888888888,
                            "#fdca26"
                          ],
                          [
                            1,
                            "#f0f921"
                          ]
                        ],
                        "type": "heatmapgl"
                      }
                    ],
                    "histogram": [
                      {
                        "marker": {
                          "pattern": {
                            "fillmode": "overlay",
                            "size": 10,
                            "solidity": 0.2
                          }
                        },
                        "type": "histogram"
                      }
                    ],
                    "histogram2d": [
                      {
                        "colorbar": {
                          "outlinewidth": 0,
                          "ticks": ""
                        },
                        "colorscale": [
                          [
                            0,
                            "#0d0887"
                          ],
                          [
                            0.1111111111111111,
                            "#46039f"
                          ],
                          [
                            0.2222222222222222,
                            "#7201a8"
                          ],
                          [
                            0.3333333333333333,
                            "#9c179e"
                          ],
                          [
                            0.4444444444444444,
                            "#bd3786"
                          ],
                          [
                            0.5555555555555556,
                            "#d8576b"
                          ],
                          [
                            0.6666666666666666,
                            "#ed7953"
                          ],
                          [
                            0.7777777777777778,
                            "#fb9f3a"
                          ],
                          [
                            0.8888888888888888,
                            "#fdca26"
                          ],
                          [
                            1,
                            "#f0f921"
                          ]
                        ],
                        "type": "histogram2d"
                      }
                    ],
                    "histogram2dcontour": [
                      {
                        "colorbar": {
                          "outlinewidth": 0,
                          "ticks": ""
                        },
                        "colorscale": [
                          [
                            0,
                            "#0d0887"
                          ],
                          [
                            0.1111111111111111,
                            "#46039f"
                          ],
                          [
                            0.2222222222222222,
                            "#7201a8"
                          ],
                          [
                            0.3333333333333333,
                            "#9c179e"
                          ],
                          [
                            0.4444444444444444,
                            "#bd3786"
                          ],
                          [
                            0.5555555555555556,
                            "#d8576b"
                          ],
                          [
                            0.6666666666666666,
                            "#ed7953"
                          ],
                          [
                            0.7777777777777778,
                            "#fb9f3a"
                          ],
                          [
                            0.8888888888888888,
                            "#fdca26"
                          ],
                          [
                            1,
                            "#f0f921"
                          ]
                        ],
                        "type": "histogram2dcontour"
                      }
                    ],
                    "mesh3d": [
                      {
                        "colorbar": {
                          "outlinewidth": 0,
                          "ticks": ""
                        },
                        "type": "mesh3d"
                      }
                    ],
                    "parcoords": [
                      {
                        "line": {
                          "colorbar": {
                            "outlinewidth": 0,
                            "ticks": ""
                          }
                        },
                        "type": "parcoords"
                      }
                    ],
                    "pie": [
                      {
                        "automargin": true,
                        "type": "pie"
                      }
                    ],
                    "scatter": [
                      {
                        "fillpattern": {
                          "fillmode": "overlay",
                          "size": 10,
                          "solidity": 0.2
                        },
                        "type": "scatter"
                      }
                    ],
                    "scatter3d": [
                      {
                        "line": {
                          "colorbar": {
                            "outlinewidth": 0,
                            "ticks": ""
                          }
                        },
                        "marker": {
                          "colorbar": {
                            "outlinewidth": 0,
                            "ticks": ""
                          }
                        },
                        "type": "scatter3d"
                      }
                    ],
                    "scattercarpet": [
                      {
                        "marker": {
                          "colorbar": {
                            "outlinewidth": 0,
                            "ticks": ""
                          }
                        },
                        "type": "scattercarpet"
                      }
                    ],
                    "scattergeo": [
                      {
                        "marker": {
                          "colorbar": {
                            "outlinewidth": 0,
                            "ticks": ""
                          }
                        },
                        "type": "scattergeo"
                      }
                    ],
                    "scattergl": [
                      {
                        "marker": {
                          "colorbar": {
                            "outlinewidth": 0,
                            "ticks": ""
                          }
                        },
                        "type": "scattergl"
                      }
                    ],
                    "scattermapbox": [
                      {
                        "marker": {
                          "colorbar": {
                            "outlinewidth": 0,
                            "ticks": ""
                          }
                        },
                        "type": "scattermapbox"
                      }
                    ],
                    "scatterpolar": [
                      {
                        "marker": {
                          "colorbar": {
                            "outlinewidth": 0,
                            "ticks": ""
                          }
                        },
                        "type": "scatterpolar"
                      }
                    ],
                    "scatterpolargl": [
                      {
                        "marker": {
                          "colorbar": {
                            "outlinewidth": 0,
                            "ticks": ""
                          }
                        },
                        "type": "scatterpolargl"
                      }
                    ],
                    "scatterternary": [
                      {
                        "marker": {
                          "colorbar": {
                            "outlinewidth": 0,
                            "ticks": ""
                          }
                        },
                        "type": "scatterternary"
                      }
                    ],
                    "surface": [
                      {
                        "colorbar": {
                          "outlinewidth": 0,
                          "ticks": ""
                        },
                        "colorscale": [
                          [
                            0,
                            "#0d0887"
                          ],
                          [
                            0.1111111111111111,
                            "#46039f"
                          ],
                          [
                            0.2222222222222222,
                            "#7201a8"
                          ],
                          [
                            0.3333333333333333,
                            "#9c179e"
                          ],
                          [
                            0.4444444444444444,
                            "#bd3786"
                          ],
                          [
                            0.5555555555555556,
                            "#d8576b"
                          ],
                          [
                            0.6666666666666666,
                            "#ed7953"
                          ],
                          [
                            0.7777777777777778,
                            "#fb9f3a"
                          ],
                          [
                            0.8888888888888888,
                            "#fdca26"
                          ],
                          [
                            1,
                            "#f0f921"
                          ]
                        ],
                        "type": "surface"
                      }
                    ],
                    "table": [
                      {
                        "cells": {
                          "fill": {
                            "color": "#EBF0F8"
                          },
                          "line": {
                            "color": "white"
                          }
                        },
                        "header": {
                          "fill": {
                            "color": "#C8D4E3"
                          },
                          "line": {
                            "color": "white"
                          }
                        },
                        "type": "table"
                      }
                    ]
                  },
                  "layout": {
                    "annotationdefaults": {
                      "arrowcolor": "#2a3f5f",
                      "arrowhead": 0,
                      "arrowwidth": 1
                    },
                    "autotypenumbers": "strict",
                    "coloraxis": {
                      "colorbar": {
                        "outlinewidth": 0,
                        "ticks": ""
                      }
                    },
                    "colorscale": {
                      "diverging": [
                        [
                          0,
                          "#8e0152"
                        ],
                        [
                          0.1,
                          "#c51b7d"
                        ],
                        [
                          0.2,
                          "#de77ae"
                        ],
                        [
                          0.3,
                          "#f1b6da"
                        ],
                        [
                          0.4,
                          "#fde0ef"
                        ],
                        [
                          0.5,
                          "#f7f7f7"
                        ],
                        [
                          0.6,
                          "#e6f5d0"
                        ],
                        [
                          0.7,
                          "#b8e186"
                        ],
                        [
                          0.8,
                          "#7fbc41"
                        ],
                        [
                          0.9,
                          "#4d9221"
                        ],
                        [
                          1,
                          "#276419"
                        ]
                      ],
                      "sequential": [
                        [
                          0,
                          "#0d0887"
                        ],
                        [
                          0.1111111111111111,
                          "#46039f"
                        ],
                        [
                          0.2222222222222222,
                          "#7201a8"
                        ],
                        [
                          0.3333333333333333,
                          "#9c179e"
                        ],
                        [
                          0.4444444444444444,
                          "#bd3786"
                        ],
                        [
                          0.5555555555555556,
                          "#d8576b"
                        ],
                        [
                          0.6666666666666666,
                          "#ed7953"
                        ],
                        [
                          0.7777777777777778,
                          "#fb9f3a"
                        ],
                        [
                          0.8888888888888888,
                          "#fdca26"
                        ],
                        [
                          1,
                          "#f0f921"
                        ]
                      ],
                      "sequentialminus": [
                        [
                          0,
                          "#0d0887"
                        ],
                        [
                          0.1111111111111111,
                          "#46039f"
                        ],
                        [
                          0.2222222222222222,
                          "#7201a8"
                        ],
                        [
                          0.3333333333333333,
                          "#9c179e"
                        ],
                        [
                          0.4444444444444444,
                          "#bd3786"
                        ],
                        [
                          0.5555555555555556,
                          "#d8576b"
                        ],
                        [
                          0.6666666666666666,
                          "#ed7953"
                        ],
                        [
                          0.7777777777777778,
                          "#fb9f3a"
                        ],
                        [
                          0.8888888888888888,
                          "#fdca26"
                        ],
                        [
                          1,
                          "#f0f921"
                        ]
                      ]
                    },
                    "colorway": [
                      "#636efa",
                      "#EF553B",
                      "#00cc96",
                      "#ab63fa",
                      "#FFA15A",
                      "#19d3f3",
                      "#FF6692",
                      "#B6E880",
                      "#FF97FF",
                      "#FECB52"
                    ],
                    "font": {
                      "color": "#2a3f5f"
                    },
                    "geo": {
                      "bgcolor": "white",
                      "lakecolor": "white",
                      "landcolor": "#E5ECF6",
                      "showlakes": true,
                      "showland": true,
                      "subunitcolor": "white"
                    },
                    "hoverlabel": {
                      "align": "left"
                    },
                    "hovermode": "closest",
                    "mapbox": {
                      "style": "light"
                    },
                    "paper_bgcolor": "white",
                    "plot_bgcolor": "#E5ECF6",
                    "polar": {
                      "angularaxis": {
                        "gridcolor": "white",
                        "linecolor": "white",
                        "ticks": ""
                      },
                      "bgcolor": "#E5ECF6",
                      "radialaxis": {
                        "gridcolor": "white",
                        "linecolor": "white",
                        "ticks": ""
                      }
                    },
                    "scene": {
                      "xaxis": {
                        "backgroundcolor": "#E5ECF6",
                        "gridcolor": "white",
                        "gridwidth": 2,
                        "linecolor": "white",
                        "showbackground": true,
                        "ticks": "",
                        "zerolinecolor": "white"
                      },
                      "yaxis": {
                        "backgroundcolor": "#E5ECF6",
                        "gridcolor": "white",
                        "gridwidth": 2,
                        "linecolor": "white",
                        "showbackground": true,
                        "ticks": "",
                        "zerolinecolor": "white"
                      },
                      "zaxis": {
                        "backgroundcolor": "#E5ECF6",
                        "gridcolor": "white",
                        "gridwidth": 2,
                        "linecolor": "white",
                        "showbackground": true,
                        "ticks": "",
                        "zerolinecolor": "white"
                      }
                    },
                    "shapedefaults": {
                      "line": {
                        "color": "#2a3f5f"
                      }
                    },
                    "ternary": {
                      "aaxis": {
                        "gridcolor": "white",
                        "linecolor": "white",
                        "ticks": ""
                      },
                      "baxis": {
                        "gridcolor": "white",
                        "linecolor": "white",
                        "ticks": ""
                      },
                      "bgcolor": "#E5ECF6",
                      "caxis": {
                        "gridcolor": "white",
                        "linecolor": "white",
                        "ticks": ""
                      }
                    },
                    "title": {
                      "x": 0.05
                    },
                    "xaxis": {
                      "automargin": true,
                      "gridcolor": "white",
                      "linecolor": "white",
                      "ticks": "",
                      "title": {
                        "standoff": 15
                      },
                      "zerolinecolor": "white",
                      "zerolinewidth": 2
                    },
                    "yaxis": {
                      "automargin": true,
                      "gridcolor": "white",
                      "linecolor": "white",
                      "ticks": "",
                      "title": {
                        "standoff": 15
                      },
                      "zerolinecolor": "white",
                      "zerolinewidth": 2
                    }
                  }
                },
                "updatemenus": [
                  {
                    "buttons": [
                      {
                        "args": [
                          {
                            "visible": [
                              true,
                              false,
                              false,
                              false,
                              false,
                              false,
                              false,
                              false,
                              false,
                              false,
                              false,
                              false,
                              false,
                              false,
                              false,
                              false,
                              false,
                              false,
                              false,
                              false,
                              false,
                              false,
                              false,
                              false,
                              false,
                              false,
                              false,
                              false,
                              false,
                              false,
                              false,
                              false,
                              false,
                              false,
                              true
                            ]
                          }
                        ],
                        "label": "Atlanta",
                        "method": "update"
                      },
                      {
                        "args": [
                          {
                            "visible": [
                              false,
                              true,
                              false,
                              false,
                              false,
                              false,
                              false,
                              false,
                              false,
                              false,
                              false,
                              false,
                              false,
                              false,
                              false,
                              false,
                              false,
                              false,
                              false,
                              false,
                              false,
                              false,
                              false,
                              false,
                              false,
                              false,
                              false,
                              false,
                              false,
                              false,
                              false,
                              false,
                              false,
                              false,
                              true
                            ]
                          }
                        ],
                        "label": "Austin",
                        "method": "update"
                      },
                      {
                        "args": [
                          {
                            "visible": [
                              false,
                              false,
                              true,
                              false,
                              false,
                              false,
                              false,
                              false,
                              false,
                              false,
                              false,
                              false,
                              false,
                              false,
                              false,
                              false,
                              false,
                              false,
                              false,
                              false,
                              false,
                              false,
                              false,
                              false,
                              false,
                              false,
                              false,
                              false,
                              false,
                              false,
                              false,
                              false,
                              false,
                              false,
                              true
                            ]
                          }
                        ],
                        "label": "Baltimore",
                        "method": "update"
                      },
                      {
                        "args": [
                          {
                            "visible": [
                              false,
                              false,
                              false,
                              true,
                              false,
                              false,
                              false,
                              false,
                              false,
                              false,
                              false,
                              false,
                              false,
                              false,
                              false,
                              false,
                              false,
                              false,
                              false,
                              false,
                              false,
                              false,
                              false,
                              false,
                              false,
                              false,
                              false,
                              false,
                              false,
                              false,
                              false,
                              false,
                              false,
                              false,
                              true
                            ]
                          }
                        ],
                        "label": "Boston",
                        "method": "update"
                      },
                      {
                        "args": [
                          {
                            "visible": [
                              false,
                              false,
                              false,
                              false,
                              true,
                              false,
                              false,
                              false,
                              false,
                              false,
                              false,
                              false,
                              false,
                              false,
                              false,
                              false,
                              false,
                              false,
                              false,
                              false,
                              false,
                              false,
                              false,
                              false,
                              false,
                              false,
                              false,
                              false,
                              false,
                              false,
                              false,
                              false,
                              false,
                              false,
                              true
                            ]
                          }
                        ],
                        "label": "Charlotte",
                        "method": "update"
                      },
                      {
                        "args": [
                          {
                            "visible": [
                              false,
                              false,
                              false,
                              false,
                              false,
                              true,
                              false,
                              false,
                              false,
                              false,
                              false,
                              false,
                              false,
                              false,
                              false,
                              false,
                              false,
                              false,
                              false,
                              false,
                              false,
                              false,
                              false,
                              false,
                              false,
                              false,
                              false,
                              false,
                              false,
                              false,
                              false,
                              false,
                              false,
                              false,
                              true
                            ]
                          }
                        ],
                        "label": "Chicago",
                        "method": "update"
                      },
                      {
                        "args": [
                          {
                            "visible": [
                              false,
                              false,
                              false,
                              false,
                              false,
                              false,
                              true,
                              false,
                              false,
                              false,
                              false,
                              false,
                              false,
                              false,
                              false,
                              false,
                              false,
                              false,
                              false,
                              false,
                              false,
                              false,
                              false,
                              false,
                              false,
                              false,
                              false,
                              false,
                              false,
                              false,
                              false,
                              false,
                              false,
                              false,
                              true
                            ]
                          }
                        ],
                        "label": "Cincinnati",
                        "method": "update"
                      },
                      {
                        "args": [
                          {
                            "visible": [
                              false,
                              false,
                              false,
                              false,
                              false,
                              false,
                              false,
                              true,
                              false,
                              false,
                              false,
                              false,
                              false,
                              false,
                              false,
                              false,
                              false,
                              false,
                              false,
                              false,
                              false,
                              false,
                              false,
                              false,
                              false,
                              false,
                              false,
                              false,
                              false,
                              false,
                              false,
                              false,
                              false,
                              false,
                              true
                            ]
                          }
                        ],
                        "label": "Cleveland",
                        "method": "update"
                      },
                      {
                        "args": [
                          {
                            "visible": [
                              false,
                              false,
                              false,
                              false,
                              false,
                              false,
                              false,
                              false,
                              true,
                              false,
                              false,
                              false,
                              false,
                              false,
                              false,
                              false,
                              false,
                              false,
                              false,
                              false,
                              false,
                              false,
                              false,
                              false,
                              false,
                              false,
                              false,
                              false,
                              false,
                              false,
                              false,
                              false,
                              false,
                              false,
                              true
                            ]
                          }
                        ],
                        "label": "Dallas-Fort Worth",
                        "method": "update"
                      },
                      {
                        "args": [
                          {
                            "visible": [
                              false,
                              false,
                              false,
                              false,
                              false,
                              false,
                              false,
                              false,
                              false,
                              true,
                              false,
                              false,
                              false,
                              false,
                              false,
                              false,
                              false,
                              false,
                              false,
                              false,
                              false,
                              false,
                              false,
                              false,
                              false,
                              false,
                              false,
                              false,
                              false,
                              false,
                              false,
                              false,
                              false,
                              false,
                              true
                            ]
                          }
                        ],
                        "label": "Denver",
                        "method": "update"
                      },
                      {
                        "args": [
                          {
                            "visible": [
                              false,
                              false,
                              false,
                              false,
                              false,
                              false,
                              false,
                              false,
                              false,
                              false,
                              true,
                              false,
                              false,
                              false,
                              false,
                              false,
                              false,
                              false,
                              false,
                              false,
                              false,
                              false,
                              false,
                              false,
                              false,
                              false,
                              false,
                              false,
                              false,
                              false,
                              false,
                              false,
                              false,
                              false,
                              true
                            ]
                          }
                        ],
                        "label": "Detroit",
                        "method": "update"
                      },
                      {
                        "args": [
                          {
                            "visible": [
                              false,
                              false,
                              false,
                              false,
                              false,
                              false,
                              false,
                              false,
                              false,
                              false,
                              false,
                              true,
                              false,
                              false,
                              false,
                              false,
                              false,
                              false,
                              false,
                              false,
                              false,
                              false,
                              false,
                              false,
                              false,
                              false,
                              false,
                              false,
                              false,
                              false,
                              false,
                              false,
                              false,
                              false,
                              true
                            ]
                          }
                        ],
                        "label": "Houston",
                        "method": "update"
                      },
                      {
                        "args": [
                          {
                            "visible": [
                              false,
                              false,
                              false,
                              false,
                              false,
                              false,
                              false,
                              false,
                              false,
                              false,
                              false,
                              false,
                              true,
                              false,
                              false,
                              false,
                              false,
                              false,
                              false,
                              false,
                              false,
                              false,
                              false,
                              false,
                              false,
                              false,
                              false,
                              false,
                              false,
                              false,
                              false,
                              false,
                              false,
                              false,
                              true
                            ]
                          }
                        ],
                        "label": "Indianapolis",
                        "method": "update"
                      },
                      {
                        "args": [
                          {
                            "visible": [
                              false,
                              false,
                              false,
                              false,
                              false,
                              false,
                              false,
                              false,
                              false,
                              false,
                              false,
                              false,
                              false,
                              true,
                              false,
                              false,
                              false,
                              false,
                              false,
                              false,
                              false,
                              false,
                              false,
                              false,
                              false,
                              false,
                              false,
                              false,
                              false,
                              false,
                              false,
                              false,
                              false,
                              false,
                              true
                            ]
                          }
                        ],
                        "label": "Kansas City",
                        "method": "update"
                      },
                      {
                        "args": [
                          {
                            "visible": [
                              false,
                              false,
                              false,
                              false,
                              false,
                              false,
                              false,
                              false,
                              false,
                              false,
                              false,
                              false,
                              false,
                              false,
                              true,
                              false,
                              false,
                              false,
                              false,
                              false,
                              false,
                              false,
                              false,
                              false,
                              false,
                              false,
                              false,
                              false,
                              false,
                              false,
                              false,
                              false,
                              false,
                              false,
                              true
                            ]
                          }
                        ],
                        "label": "Las Vegas",
                        "method": "update"
                      },
                      {
                        "args": [
                          {
                            "visible": [
                              false,
                              false,
                              false,
                              false,
                              false,
                              false,
                              false,
                              false,
                              false,
                              false,
                              false,
                              false,
                              false,
                              false,
                              false,
                              true,
                              false,
                              false,
                              false,
                              false,
                              false,
                              false,
                              false,
                              false,
                              false,
                              false,
                              false,
                              false,
                              false,
                              false,
                              false,
                              false,
                              false,
                              false,
                              true
                            ]
                          }
                        ],
                        "label": "Los Angeles",
                        "method": "update"
                      },
                      {
                        "args": [
                          {
                            "visible": [
                              false,
                              false,
                              false,
                              false,
                              false,
                              false,
                              false,
                              false,
                              false,
                              false,
                              false,
                              false,
                              false,
                              false,
                              false,
                              false,
                              true,
                              false,
                              false,
                              false,
                              false,
                              false,
                              false,
                              false,
                              false,
                              false,
                              false,
                              false,
                              false,
                              false,
                              false,
                              false,
                              false,
                              false,
                              true
                            ]
                          }
                        ],
                        "label": "Miami",
                        "method": "update"
                      },
                      {
                        "args": [
                          {
                            "visible": [
                              false,
                              false,
                              false,
                              false,
                              false,
                              false,
                              false,
                              false,
                              false,
                              false,
                              false,
                              false,
                              false,
                              false,
                              false,
                              false,
                              false,
                              true,
                              false,
                              false,
                              false,
                              false,
                              false,
                              false,
                              false,
                              false,
                              false,
                              false,
                              false,
                              false,
                              false,
                              false,
                              false,
                              false,
                              true
                            ]
                          }
                        ],
                        "label": "Minneapolis-St. Paul",
                        "method": "update"
                      },
                      {
                        "args": [
                          {
                            "visible": [
                              false,
                              false,
                              false,
                              false,
                              false,
                              false,
                              false,
                              false,
                              false,
                              false,
                              false,
                              false,
                              false,
                              false,
                              false,
                              false,
                              false,
                              false,
                              true,
                              false,
                              false,
                              false,
                              false,
                              false,
                              false,
                              false,
                              false,
                              false,
                              false,
                              false,
                              false,
                              false,
                              false,
                              false,
                              true
                            ]
                          }
                        ],
                        "label": "Nashville",
                        "method": "update"
                      },
                      {
                        "args": [
                          {
                            "visible": [
                              false,
                              false,
                              false,
                              false,
                              false,
                              false,
                              false,
                              false,
                              false,
                              false,
                              false,
                              false,
                              false,
                              false,
                              false,
                              false,
                              false,
                              false,
                              false,
                              true,
                              false,
                              false,
                              false,
                              false,
                              false,
                              false,
                              false,
                              false,
                              false,
                              false,
                              false,
                              false,
                              false,
                              false,
                              true
                            ]
                          }
                        ],
                        "label": "New York",
                        "method": "update"
                      },
                      {
                        "args": [
                          {
                            "visible": [
                              false,
                              false,
                              false,
                              false,
                              false,
                              false,
                              false,
                              false,
                              false,
                              false,
                              false,
                              false,
                              false,
                              false,
                              false,
                              false,
                              false,
                              false,
                              false,
                              false,
                              true,
                              false,
                              false,
                              false,
                              false,
                              false,
                              false,
                              false,
                              false,
                              false,
                              false,
                              false,
                              false,
                              false,
                              true
                            ]
                          }
                        ],
                        "label": "Orlando",
                        "method": "update"
                      },
                      {
                        "args": [
                          {
                            "visible": [
                              false,
                              false,
                              false,
                              false,
                              false,
                              false,
                              false,
                              false,
                              false,
                              false,
                              false,
                              false,
                              false,
                              false,
                              false,
                              false,
                              false,
                              false,
                              false,
                              false,
                              false,
                              true,
                              false,
                              false,
                              false,
                              false,
                              false,
                              false,
                              false,
                              false,
                              false,
                              false,
                              false,
                              false,
                              true
                            ]
                          }
                        ],
                        "label": "Philadelphia",
                        "method": "update"
                      },
                      {
                        "args": [
                          {
                            "visible": [
                              false,
                              false,
                              false,
                              false,
                              false,
                              false,
                              false,
                              false,
                              false,
                              false,
                              false,
                              false,
                              false,
                              false,
                              false,
                              false,
                              false,
                              false,
                              false,
                              false,
                              false,
                              false,
                              true,
                              false,
                              false,
                              false,
                              false,
                              false,
                              false,
                              false,
                              false,
                              false,
                              false,
                              false,
                              true
                            ]
                          }
                        ],
                        "label": "Phoenix",
                        "method": "update"
                      },
                      {
                        "args": [
                          {
                            "visible": [
                              false,
                              false,
                              false,
                              false,
                              false,
                              false,
                              false,
                              false,
                              false,
                              false,
                              false,
                              false,
                              false,
                              false,
                              false,
                              false,
                              false,
                              false,
                              false,
                              false,
                              false,
                              false,
                              false,
                              true,
                              false,
                              false,
                              false,
                              false,
                              false,
                              false,
                              false,
                              false,
                              false,
                              false,
                              true
                            ]
                          }
                        ],
                        "label": "Pittsburgh",
                        "method": "update"
                      },
                      {
                        "args": [
                          {
                            "visible": [
                              false,
                              false,
                              false,
                              false,
                              false,
                              false,
                              false,
                              false,
                              false,
                              false,
                              false,
                              false,
                              false,
                              false,
                              false,
                              false,
                              false,
                              false,
                              false,
                              false,
                              false,
                              false,
                              false,
                              false,
                              true,
                              false,
                              false,
                              false,
                              false,
                              false,
                              false,
                              false,
                              false,
                              false,
                              true
                            ]
                          }
                        ],
                        "label": "Portland",
                        "method": "update"
                      },
                      {
                        "args": [
                          {
                            "visible": [
                              false,
                              false,
                              false,
                              false,
                              false,
                              false,
                              false,
                              false,
                              false,
                              false,
                              false,
                              false,
                              false,
                              false,
                              false,
                              false,
                              false,
                              false,
                              false,
                              false,
                              false,
                              false,
                              false,
                              false,
                              false,
                              true,
                              false,
                              false,
                              false,
                              false,
                              false,
                              false,
                              false,
                              false,
                              true
                            ]
                          }
                        ],
                        "label": "Sacramento",
                        "method": "update"
                      },
                      {
                        "args": [
                          {
                            "visible": [
                              false,
                              false,
                              false,
                              false,
                              false,
                              false,
                              false,
                              false,
                              false,
                              false,
                              false,
                              false,
                              false,
                              false,
                              false,
                              false,
                              false,
                              false,
                              false,
                              false,
                              false,
                              false,
                              false,
                              false,
                              false,
                              false,
                              true,
                              false,
                              false,
                              false,
                              false,
                              false,
                              false,
                              false,
                              true
                            ]
                          }
                        ],
                        "label": "San Antonio",
                        "method": "update"
                      },
                      {
                        "args": [
                          {
                            "visible": [
                              false,
                              false,
                              false,
                              false,
                              false,
                              false,
                              false,
                              false,
                              false,
                              false,
                              false,
                              false,
                              false,
                              false,
                              false,
                              false,
                              false,
                              false,
                              false,
                              false,
                              false,
                              false,
                              false,
                              false,
                              false,
                              false,
                              false,
                              true,
                              false,
                              false,
                              false,
                              false,
                              false,
                              false,
                              true
                            ]
                          }
                        ],
                        "label": "San Diego",
                        "method": "update"
                      },
                      {
                        "args": [
                          {
                            "visible": [
                              false,
                              false,
                              false,
                              false,
                              false,
                              false,
                              false,
                              false,
                              false,
                              false,
                              false,
                              false,
                              false,
                              false,
                              false,
                              false,
                              false,
                              false,
                              false,
                              false,
                              false,
                              false,
                              false,
                              false,
                              false,
                              false,
                              false,
                              false,
                              true,
                              false,
                              false,
                              false,
                              false,
                              false,
                              true
                            ]
                          }
                        ],
                        "label": "San Francisco",
                        "method": "update"
                      },
                      {
                        "args": [
                          {
                            "visible": [
                              false,
                              false,
                              false,
                              false,
                              false,
                              false,
                              false,
                              false,
                              false,
                              false,
                              false,
                              false,
                              false,
                              false,
                              false,
                              false,
                              false,
                              false,
                              false,
                              false,
                              false,
                              false,
                              false,
                              false,
                              false,
                              false,
                              false,
                              false,
                              false,
                              true,
                              false,
                              false,
                              false,
                              false,
                              true
                            ]
                          }
                        ],
                        "label": "Seattle",
                        "method": "update"
                      },
                      {
                        "args": [
                          {
                            "visible": [
                              false,
                              false,
                              false,
                              false,
                              false,
                              false,
                              false,
                              false,
                              false,
                              false,
                              false,
                              false,
                              false,
                              false,
                              false,
                              false,
                              false,
                              false,
                              false,
                              false,
                              false,
                              false,
                              false,
                              false,
                              false,
                              false,
                              false,
                              false,
                              false,
                              false,
                              true,
                              false,
                              false,
                              false,
                              true
                            ]
                          }
                        ],
                        "label": "St. Louis",
                        "method": "update"
                      },
                      {
                        "args": [
                          {
                            "visible": [
                              false,
                              false,
                              false,
                              false,
                              false,
                              false,
                              false,
                              false,
                              false,
                              false,
                              false,
                              false,
                              false,
                              false,
                              false,
                              false,
                              false,
                              false,
                              false,
                              false,
                              false,
                              false,
                              false,
                              false,
                              false,
                              false,
                              false,
                              false,
                              false,
                              false,
                              false,
                              true,
                              false,
                              false,
                              true
                            ]
                          }
                        ],
                        "label": "Tampa",
                        "method": "update"
                      },
                      {
                        "args": [
                          {
                            "visible": [
                              false,
                              false,
                              false,
                              false,
                              false,
                              false,
                              false,
                              false,
                              false,
                              false,
                              false,
                              false,
                              false,
                              false,
                              false,
                              false,
                              false,
                              false,
                              false,
                              false,
                              false,
                              false,
                              false,
                              false,
                              false,
                              false,
                              false,
                              false,
                              false,
                              false,
                              false,
                              false,
                              true,
                              false,
                              true
                            ]
                          }
                        ],
                        "label": "Virginia Beach",
                        "method": "update"
                      },
                      {
                        "args": [
                          {
                            "visible": [
                              false,
                              false,
                              false,
                              false,
                              false,
                              false,
                              false,
                              false,
                              false,
                              false,
                              false,
                              false,
                              false,
                              false,
                              false,
                              false,
                              false,
                              false,
                              false,
                              false,
                              false,
                              false,
                              false,
                              false,
                              false,
                              false,
                              false,
                              false,
                              false,
                              false,
                              false,
                              false,
                              false,
                              true,
                              true
                            ]
                          }
                        ],
                        "label": "Washington, DC",
                        "method": "update"
                      }
                    ],
                    "direction": "down",
                    "pad": {
                      "r": 10,
                      "t": 10
                    },
                    "showactive": true,
                    "x": 0,
                    "xanchor": "left",
                    "y": 1.5,
                    "yanchor": "top"
                  }
                ]
              }
            },
            "text/html": [
              "<div>                            <div id=\"29833916-b852-4dd8-9b7b-53ba1dcde485\" class=\"plotly-graph-div\" style=\"height:525px; width:100%;\"></div>            <script type=\"text/javascript\">                require([\"plotly\"], function(Plotly) {                    window.PLOTLYENV=window.PLOTLYENV || {};                                    if (document.getElementById(\"29833916-b852-4dd8-9b7b-53ba1dcde485\")) {                    Plotly.newPlot(                        \"29833916-b852-4dd8-9b7b-53ba1dcde485\",                        [{\"fill\":\"toself\",\"name\":\"Atlanta\",\"r\":[0.7554322265073841,0.20090293453724603,0.3020689655172414,0.7419354838709677,0.7478559176672386,0.39684912640586245,0.2948639984065873],\"theta\":[\"Median Rent\",\"Median Sale Price\",\"Walkability\",\"Unemployment\",\"Purchasing Power\",\"Violent Crime Rate\",\"Non-Violent Crime Rate\"],\"visible\":true,\"type\":\"scatterpolar\"},{\"fill\":\"toself\",\"name\":\"Austin\",\"r\":[0.8214655253503903,0.3072799097065463,0.31034482758620696,0.5161290322580644,0.707975986277873,0.737979815572779,0.6311037561739447],\"theta\":[\"Median Rent\",\"Median Sale Price\",\"Walkability\",\"Unemployment\",\"Purchasing Power\",\"Violent Crime Rate\",\"Non-Violent Crime Rate\"],\"visible\":false,\"type\":\"scatterpolar\"},{\"fill\":\"toself\",\"name\":\"Baltimore\",\"r\":[0.8049101683755056,0.16534988713318285,0.23724137931034484,0.8064516129032259,0.5051457975986278,0.19201170167816528,0.2627245239361533],\"theta\":[\"Median Rent\",\"Median Sale Price\",\"Walkability\",\"Unemployment\",\"Purchasing Power\",\"Violent Crime Rate\",\"Non-Violent Crime Rate\"],\"visible\":false,\"type\":\"scatterpolar\"},{\"fill\":\"toself\",\"name\":\"Boston\",\"r\":[0.06819678299313325,0.47516930022573367,0.6455172413793103,0.6451612903225806,0.33104631217838776,0.8757051486738852,0.8642992903804061],\"theta\":[\"Median Rent\",\"Median Sale Price\",\"Walkability\",\"Unemployment\",\"Purchasing Power\",\"Violent Crime Rate\",\"Non-Violent Crime Rate\"],\"visible\":false,\"type\":\"scatterpolar\"},{\"fill\":\"toself\",\"name\":\"Charlotte\",\"r\":[0.8267331389333082,0.20993227990970656,0.33379310344827595,0.5483870967741934,0.8606346483704979,0.7018297579997486,0.49854325628306806],\"theta\":[\"Median Rent\",\"Median Sale Price\",\"Walkability\",\"Unemployment\",\"Purchasing Power\",\"Violent Crime Rate\",\"Non-Violent Crime Rate\"],\"visible\":false,\"type\":\"scatterpolar\"},{\"fill\":\"toself\",\"name\":\"Chicago\",\"r\":[0.6634371178628539,0.1252821670428894,0.5296551724137932,0.0,0.489279588336192,0.6138962266280912,0.6153751618309837],\"theta\":[\"Median Rent\",\"Median Sale Price\",\"Walkability\",\"Unemployment\",\"Purchasing Power\",\"Violent Crime Rate\",\"Non-Violent Crime Rate\"],\"visible\":false,\"type\":\"scatterpolar\"},{\"fill\":\"toself\",\"name\":\"Cincinnati\",\"r\":[0.9311447653090019,0.07674943566591422,0.1724137931034483,0.3870967741935484,0.966981132075472,0.3533903580494193,0.23692267922185506],\"theta\":[\"Median Rent\",\"Median Sale Price\",\"Walkability\",\"Unemployment\",\"Purchasing Power\",\"Violent Crime Rate\",\"Non-Violent Crime Rate\"],\"visible\":false,\"type\":\"scatterpolar\"},{\"fill\":\"toself\",\"name\":\"Cleveland\",\"r\":[0.9968958705672091,0.0,0.2689655172413793,0.22580645161290336,0.9734133790737571,0.26607126154282845,0.26528203617809787],\"theta\":[\"Median Rent\",\"Median Sale Price\",\"Walkability\",\"Unemployment\",\"Purchasing Power\",\"Violent Crime Rate\",\"Non-Violent Crime Rate\"],\"visible\":false,\"type\":\"scatterpolar\"},{\"fill\":\"toself\",\"name\":\"Dallas-Fort Worth\",\"r\":[0.7302229329319913,0.22686230248306996,0.15724137931034476,0.35483870967741915,0.5506003430531736,0.6777103673385134,0.6320530233523963],\"theta\":[\"Median Rent\",\"Median Sale Price\",\"Walkability\",\"Unemployment\",\"Purchasing Power\",\"Violent Crime Rate\",\"Non-Violent Crime Rate\"],\"visible\":false,\"type\":\"scatterpolar\"},{\"fill\":\"toself\",\"name\":\"Denver\",\"r\":[0.5432226507384065,0.4255079006772009,0.2924137931034483,0.35483870967741915,0.3499142367066894,0.6172377201724932,0.5299284023706252],\"theta\":[\"Median Rent\",\"Median Sale Price\",\"Walkability\",\"Unemployment\",\"Purchasing Power\",\"Violent Crime Rate\",\"Non-Violent Crime Rate\"],\"visible\":false,\"type\":\"scatterpolar\"},{\"fill\":\"toself\",\"name\":\"Detroit\",\"r\":[0.941021540776973,0.05756207674943567,0.16137931034482766,0.4193548387096774,0.8833619210977703,0.23569302124557745,0.3448340159722677],\"theta\":[\"Median Rent\",\"Median Sale Price\",\"Walkability\",\"Unemployment\",\"Purchasing Power\",\"Violent Crime Rate\",\"Non-Violent Crime Rate\"],\"visible\":false,\"type\":\"scatterpolar\"},{\"fill\":\"toself\",\"name\":\"Houston\",\"r\":[0.9567303169974603,0.16478555304740408,0.263448275862069,0.22580645161290336,0.7208404802744433,0.4735228566544425,0.43217295308967396],\"theta\":[\"Median Rent\",\"Median Sale Price\",\"Walkability\",\"Unemployment\",\"Purchasing Power\",\"Violent Crime Rate\",\"Non-Violent Crime Rate\"],\"visible\":false,\"type\":\"scatterpolar\"},{\"fill\":\"toself\",\"name\":\"Indianapolis\",\"r\":[0.9621860596369108,0.08013544018058691,0.12275862068965515,0.5161290322580644,0.933962264150944,0.3891549827280909,0.37211061505308907],\"theta\":[\"Median Rent\",\"Median Sale Price\",\"Walkability\",\"Unemployment\",\"Purchasing Power\",\"Violent Crime Rate\",\"Non-Violent Crime Rate\"],\"visible\":false,\"type\":\"scatterpolar\"},{\"fill\":\"toself\",\"name\":\"Kansas City\",\"r\":[0.916000376258113,0.11286681715575622,0.22896551724137937,0.5483870967741934,1.0,0.302985734144839,0.3441580868876114],\"theta\":[\"Median Rent\",\"Median Sale Price\",\"Walkability\",\"Unemployment\",\"Purchasing Power\",\"Violent Crime Rate\",\"Non-Violent Crime Rate\"],\"visible\":false,\"type\":\"scatterpolar\"},{\"fill\":\"toself\",\"name\":\"Las Vegas\",\"r\":[0.9236196030476906,0.2663656884875847,0.0,0.03225806451612889,0.9095197255574616,0.7451337081224743,0.6832689540897947],\"theta\":[\"Median Rent\",\"Median Sale Price\",\"Walkability\",\"Unemployment\",\"Purchasing Power\",\"Violent Crime Rate\",\"Non-Violent Crime Rate\"],\"visible\":false,\"type\":\"scatterpolar\"},{\"fill\":\"toself\",\"name\":\"Los Angeles\",\"r\":[0.2007337033204778,0.8363431151241536,0.43448275862068964,0.16129032258064513,0.1891080617495713,0.7830883657322742,0.7696056515299516],\"theta\":[\"Median Rent\",\"Median Sale Price\",\"Walkability\",\"Unemployment\",\"Purchasing Power\",\"Violent Crime Rate\",\"Non-Violent Crime Rate\"],\"visible\":false,\"type\":\"scatterpolar\"},{\"fill\":\"toself\",\"name\":\"Miami\",\"r\":[0.40043269683002547,0.32279909706546284,0.36827586206896556,0.9032258064516129,0.3224699828473412,0.5543492634845069,0.4563771472402388],\"theta\":[\"Median Rent\",\"Median Sale Price\",\"Walkability\",\"Unemployment\",\"Purchasing Power\",\"Violent Crime Rate\",\"Non-Violent Crime Rate\"],\"visible\":false,\"type\":\"scatterpolar\"},{\"fill\":\"toself\",\"name\":\"Minneapolis-St. Paul\",\"r\":[0.8368921079860784,0.1760722347629797,0.3710344827586207,0.6451612903225806,0.5613207547169816,0.39029192913195354,0.32348186115696176],\"theta\":[\"Median Rent\",\"Median Sale Price\",\"Walkability\",\"Unemployment\",\"Purchasing Power\",\"Violent Crime Rate\",\"Non-Violent Crime Rate\"],\"visible\":false,\"type\":\"scatterpolar\"},{\"fill\":\"toself\",\"name\":\"Nashville\",\"r\":[0.8342583011946194,0.2718961625282167,0.2206896551724138,1.0,0.9103773584905666,0.5195780558055225,0.4979542020964396],\"theta\":[\"Median Rent\",\"Median Sale Price\",\"Walkability\",\"Unemployment\",\"Purchasing Power\",\"Violent Crime Rate\",\"Non-Violent Crime Rate\"],\"visible\":false,\"type\":\"scatterpolar\"},{\"fill\":\"toself\",\"name\":\"New York\",\"r\":[0.0,0.43566591422121903,1.0,0.19354838709677413,0.16423670668953694,1.0,1.0],\"theta\":[\"Median Rent\",\"Median Sale Price\",\"Walkability\",\"Unemployment\",\"Purchasing Power\",\"Violent Crime Rate\",\"Non-Violent Crime Rate\"],\"visible\":false,\"type\":\"scatterpolar\"},{\"fill\":\"toself\",\"name\":\"Orlando\",\"r\":[0.7052017684131313,0.22686230248306996,0.0675862068965517,0.6774193548387096,0.717838765008576,0.31962385619966405,0.15117291706837488],\"theta\":[\"Median Rent\",\"Median Sale Price\",\"Walkability\",\"Unemployment\",\"Purchasing Power\",\"Violent Crime Rate\",\"Non-Violent Crime Rate\"],\"visible\":false,\"type\":\"scatterpolar\"},{\"fill\":\"toself\",\"name\":\"Philadelphia\",\"r\":[0.6699275703132348,0.13797968397291197,0.3806896551724138,0.4838709677419356,0.7439965694682673,0.6694340425943666,0.6578209656674641],\"theta\":[\"Median Rent\",\"Median Sale Price\",\"Walkability\",\"Unemployment\",\"Purchasing Power\",\"Violent Crime Rate\",\"Non-Violent Crime Rate\"],\"visible\":false,\"type\":\"scatterpolar\"},{\"fill\":\"toself\",\"name\":\"Phoenix\",\"r\":[0.7293763521775938,0.3047404063205418,0.0841379310344828,0.6451612903225806,0.7452830188679247,0.6039701200808927,0.5291550038881814],\"theta\":[\"Median Rent\",\"Median Sale Price\",\"Walkability\",\"Unemployment\",\"Purchasing Power\",\"Violent Crime Rate\",\"Non-Violent Crime Rate\"],\"visible\":false,\"type\":\"scatterpolar\"},{\"fill\":\"toself\",\"name\":\"Pittsburgh\",\"r\":[0.872918822312106,0.015237020316027083,0.4096551724137931,0.5483870967741934,0.9279588336192113,0.7052422099012712,0.6470272893124805],\"theta\":[\"Median Rent\",\"Median Sale Price\",\"Walkability\",\"Unemployment\",\"Purchasing Power\",\"Violent Crime Rate\",\"Non-Violent Crime Rate\"],\"visible\":false,\"type\":\"scatterpolar\"},{\"fill\":\"toself\",\"name\":\"Portland\",\"r\":[0.6726554416329602,0.3792325056433409,0.5655172413793104,0.16129032258064513,0.49099485420240185,0.3142036053296178,0.10403798763833749],\"theta\":[\"Median Rent\",\"Median Sale Price\",\"Walkability\",\"Unemployment\",\"Purchasing Power\",\"Violent Crime Rate\",\"Non-Violent Crime Rate\"],\"visible\":false,\"type\":\"scatterpolar\"},{\"fill\":\"toself\",\"name\":\"Sacramento\",\"r\":[0.5668328473332706,0.40970654627539504,0.1779310344827586,0.03225806451612889,0.4558319039451115,0.7312403843362651,0.6847013304572798],\"theta\":[\"Median Rent\",\"Median Sale Price\",\"Walkability\",\"Unemployment\",\"Purchasing Power\",\"Violent Crime Rate\",\"Non-Violent Crime Rate\"],\"visible\":false,\"type\":\"scatterpolar\"},{\"fill\":\"toself\",\"name\":\"San Antonio\",\"r\":[1.0,0.13318284424379231,0.026206896551724146,0.3870967741935484,0.8709262435677534,0.4229053576785007,0.28036860383563256],\"theta\":[\"Median Rent\",\"Median Sale Price\",\"Walkability\",\"Unemployment\",\"Purchasing Power\",\"Violent Crime Rate\",\"Non-Violent Crime Rate\"],\"visible\":false,\"type\":\"scatterpolar\"},{\"fill\":\"toself\",\"name\":\"San Diego\",\"r\":[0.2710939704637382,0.7686230248306998,0.13103448275862073,0.19354838709677413,0.14536878216123528,0.9623952961059989,0.9164348236969295],\"theta\":[\"Median Rent\",\"Median Sale Price\",\"Walkability\",\"Unemployment\",\"Purchasing Power\",\"Violent Crime Rate\",\"Non-Violent Crime Rate\"],\"visible\":false,\"type\":\"scatterpolar\"},{\"fill\":\"toself\",\"name\":\"San Francisco\",\"r\":[0.12491769353776683,1.0,0.5337931034482759,0.29032258064516114,0.0,0.20495837647278936,0.0],\"theta\":[\"Median Rent\",\"Median Sale Price\",\"Walkability\",\"Unemployment\",\"Purchasing Power\",\"Violent Crime Rate\",\"Non-Violent Crime Rate\"],\"visible\":false,\"type\":\"scatterpolar\"},{\"fill\":\"toself\",\"name\":\"Seattle\",\"r\":[0.44200921832377016,0.5485327313769752,0.5779310344827587,0.19354838709677413,0.16423670668953694,0.36709983518308875,0.19268852382597035],\"theta\":[\"Median Rent\",\"Median Sale Price\",\"Walkability\",\"Unemployment\",\"Purchasing Power\",\"Violent Crime Rate\",\"Non-Violent Crime Rate\"],\"visible\":false,\"type\":\"scatterpolar\"},{\"fill\":\"toself\",\"name\":\"St. Louis\",\"r\":[0.91816386040824,0.044018058690744905,0.2206896551724138,0.4193548387096774,0.8769296740994861,0.0,0.026863413590200613],\"theta\":[\"Median Rent\",\"Median Sale Price\",\"Walkability\",\"Unemployment\",\"Purchasing Power\",\"Violent Crime Rate\",\"Non-Violent Crime Rate\"],\"visible\":false,\"type\":\"scatterpolar\"},{\"fill\":\"toself\",\"name\":\"Tampa\",\"r\":[0.7198758348226884,0.20993227990970656,0.10896551724137932,0.6451612903225806,0.7542881646655237,0.9627871797600963,0.9374733813193542],\"theta\":[\"Median Rent\",\"Median Sale Price\",\"Walkability\",\"Unemployment\",\"Purchasing Power\",\"Violent Crime Rate\",\"Non-Violent Crime Rate\"],\"visible\":false,\"type\":\"scatterpolar\"},{\"fill\":\"toself\",\"name\":\"Virginia Beach\",\"r\":[0.8634183049572006,0.1475733634311512,0.09655172413793106,0.7419354838709677,0.8066037735849063,0.9845326908376635,0.8970151056377571],\"theta\":[\"Median Rent\",\"Median Sale Price\",\"Walkability\",\"Unemployment\",\"Purchasing Power\",\"Violent Crime Rate\",\"Non-Violent Crime Rate\"],\"visible\":false,\"type\":\"scatterpolar\"},{\"fill\":\"toself\",\"name\":\"Washington, DC\",\"r\":[0.5506537484714514,0.3792325056433409,0.6220689655172412,0.7419354838709677,0.27315608919382495,0.49724875097164567,0.42628029232343734],\"theta\":[\"Median Rent\",\"Median Sale Price\",\"Walkability\",\"Unemployment\",\"Purchasing Power\",\"Violent Crime Rate\",\"Non-Violent Crime Rate\"],\"visible\":false,\"type\":\"scatterpolar\"},{\"fill\":\"toself\",\"name\":\"Average\",\"r\":[0.6829582740819025,0.2835994555835879,0.3065720081135903,0.452561669829222,0.6191605287054791,0.546238856075392,0.485473507456222],\"theta\":[\"Median Rent\",\"Median Sale Price\",\"Walkability\",\"Unemployment\",\"Purchasing Power\",\"Violent Crime Rate\",\"Non-Violent Crime Rate\"],\"type\":\"scatterpolar\"}],                        {\"polar\":{\"radialaxis\":{\"range\":[0,1],\"visible\":true}},\"showlegend\":true,\"template\":{\"data\":{\"barpolar\":[{\"marker\":{\"line\":{\"color\":\"#E5ECF6\",\"width\":0.5},\"pattern\":{\"fillmode\":\"overlay\",\"size\":10,\"solidity\":0.2}},\"type\":\"barpolar\"}],\"bar\":[{\"error_x\":{\"color\":\"#2a3f5f\"},\"error_y\":{\"color\":\"#2a3f5f\"},\"marker\":{\"line\":{\"color\":\"#E5ECF6\",\"width\":0.5},\"pattern\":{\"fillmode\":\"overlay\",\"size\":10,\"solidity\":0.2}},\"type\":\"bar\"}],\"carpet\":[{\"aaxis\":{\"endlinecolor\":\"#2a3f5f\",\"gridcolor\":\"white\",\"linecolor\":\"white\",\"minorgridcolor\":\"white\",\"startlinecolor\":\"#2a3f5f\"},\"baxis\":{\"endlinecolor\":\"#2a3f5f\",\"gridcolor\":\"white\",\"linecolor\":\"white\",\"minorgridcolor\":\"white\",\"startlinecolor\":\"#2a3f5f\"},\"type\":\"carpet\"}],\"choropleth\":[{\"colorbar\":{\"outlinewidth\":0,\"ticks\":\"\"},\"type\":\"choropleth\"}],\"contourcarpet\":[{\"colorbar\":{\"outlinewidth\":0,\"ticks\":\"\"},\"type\":\"contourcarpet\"}],\"contour\":[{\"colorbar\":{\"outlinewidth\":0,\"ticks\":\"\"},\"colorscale\":[[0.0,\"#0d0887\"],[0.1111111111111111,\"#46039f\"],[0.2222222222222222,\"#7201a8\"],[0.3333333333333333,\"#9c179e\"],[0.4444444444444444,\"#bd3786\"],[0.5555555555555556,\"#d8576b\"],[0.6666666666666666,\"#ed7953\"],[0.7777777777777778,\"#fb9f3a\"],[0.8888888888888888,\"#fdca26\"],[1.0,\"#f0f921\"]],\"type\":\"contour\"}],\"heatmapgl\":[{\"colorbar\":{\"outlinewidth\":0,\"ticks\":\"\"},\"colorscale\":[[0.0,\"#0d0887\"],[0.1111111111111111,\"#46039f\"],[0.2222222222222222,\"#7201a8\"],[0.3333333333333333,\"#9c179e\"],[0.4444444444444444,\"#bd3786\"],[0.5555555555555556,\"#d8576b\"],[0.6666666666666666,\"#ed7953\"],[0.7777777777777778,\"#fb9f3a\"],[0.8888888888888888,\"#fdca26\"],[1.0,\"#f0f921\"]],\"type\":\"heatmapgl\"}],\"heatmap\":[{\"colorbar\":{\"outlinewidth\":0,\"ticks\":\"\"},\"colorscale\":[[0.0,\"#0d0887\"],[0.1111111111111111,\"#46039f\"],[0.2222222222222222,\"#7201a8\"],[0.3333333333333333,\"#9c179e\"],[0.4444444444444444,\"#bd3786\"],[0.5555555555555556,\"#d8576b\"],[0.6666666666666666,\"#ed7953\"],[0.7777777777777778,\"#fb9f3a\"],[0.8888888888888888,\"#fdca26\"],[1.0,\"#f0f921\"]],\"type\":\"heatmap\"}],\"histogram2dcontour\":[{\"colorbar\":{\"outlinewidth\":0,\"ticks\":\"\"},\"colorscale\":[[0.0,\"#0d0887\"],[0.1111111111111111,\"#46039f\"],[0.2222222222222222,\"#7201a8\"],[0.3333333333333333,\"#9c179e\"],[0.4444444444444444,\"#bd3786\"],[0.5555555555555556,\"#d8576b\"],[0.6666666666666666,\"#ed7953\"],[0.7777777777777778,\"#fb9f3a\"],[0.8888888888888888,\"#fdca26\"],[1.0,\"#f0f921\"]],\"type\":\"histogram2dcontour\"}],\"histogram2d\":[{\"colorbar\":{\"outlinewidth\":0,\"ticks\":\"\"},\"colorscale\":[[0.0,\"#0d0887\"],[0.1111111111111111,\"#46039f\"],[0.2222222222222222,\"#7201a8\"],[0.3333333333333333,\"#9c179e\"],[0.4444444444444444,\"#bd3786\"],[0.5555555555555556,\"#d8576b\"],[0.6666666666666666,\"#ed7953\"],[0.7777777777777778,\"#fb9f3a\"],[0.8888888888888888,\"#fdca26\"],[1.0,\"#f0f921\"]],\"type\":\"histogram2d\"}],\"histogram\":[{\"marker\":{\"pattern\":{\"fillmode\":\"overlay\",\"size\":10,\"solidity\":0.2}},\"type\":\"histogram\"}],\"mesh3d\":[{\"colorbar\":{\"outlinewidth\":0,\"ticks\":\"\"},\"type\":\"mesh3d\"}],\"parcoords\":[{\"line\":{\"colorbar\":{\"outlinewidth\":0,\"ticks\":\"\"}},\"type\":\"parcoords\"}],\"pie\":[{\"automargin\":true,\"type\":\"pie\"}],\"scatter3d\":[{\"line\":{\"colorbar\":{\"outlinewidth\":0,\"ticks\":\"\"}},\"marker\":{\"colorbar\":{\"outlinewidth\":0,\"ticks\":\"\"}},\"type\":\"scatter3d\"}],\"scattercarpet\":[{\"marker\":{\"colorbar\":{\"outlinewidth\":0,\"ticks\":\"\"}},\"type\":\"scattercarpet\"}],\"scattergeo\":[{\"marker\":{\"colorbar\":{\"outlinewidth\":0,\"ticks\":\"\"}},\"type\":\"scattergeo\"}],\"scattergl\":[{\"marker\":{\"colorbar\":{\"outlinewidth\":0,\"ticks\":\"\"}},\"type\":\"scattergl\"}],\"scattermapbox\":[{\"marker\":{\"colorbar\":{\"outlinewidth\":0,\"ticks\":\"\"}},\"type\":\"scattermapbox\"}],\"scatterpolargl\":[{\"marker\":{\"colorbar\":{\"outlinewidth\":0,\"ticks\":\"\"}},\"type\":\"scatterpolargl\"}],\"scatterpolar\":[{\"marker\":{\"colorbar\":{\"outlinewidth\":0,\"ticks\":\"\"}},\"type\":\"scatterpolar\"}],\"scatter\":[{\"fillpattern\":{\"fillmode\":\"overlay\",\"size\":10,\"solidity\":0.2},\"type\":\"scatter\"}],\"scatterternary\":[{\"marker\":{\"colorbar\":{\"outlinewidth\":0,\"ticks\":\"\"}},\"type\":\"scatterternary\"}],\"surface\":[{\"colorbar\":{\"outlinewidth\":0,\"ticks\":\"\"},\"colorscale\":[[0.0,\"#0d0887\"],[0.1111111111111111,\"#46039f\"],[0.2222222222222222,\"#7201a8\"],[0.3333333333333333,\"#9c179e\"],[0.4444444444444444,\"#bd3786\"],[0.5555555555555556,\"#d8576b\"],[0.6666666666666666,\"#ed7953\"],[0.7777777777777778,\"#fb9f3a\"],[0.8888888888888888,\"#fdca26\"],[1.0,\"#f0f921\"]],\"type\":\"surface\"}],\"table\":[{\"cells\":{\"fill\":{\"color\":\"#EBF0F8\"},\"line\":{\"color\":\"white\"}},\"header\":{\"fill\":{\"color\":\"#C8D4E3\"},\"line\":{\"color\":\"white\"}},\"type\":\"table\"}]},\"layout\":{\"annotationdefaults\":{\"arrowcolor\":\"#2a3f5f\",\"arrowhead\":0,\"arrowwidth\":1},\"autotypenumbers\":\"strict\",\"coloraxis\":{\"colorbar\":{\"outlinewidth\":0,\"ticks\":\"\"}},\"colorscale\":{\"diverging\":[[0,\"#8e0152\"],[0.1,\"#c51b7d\"],[0.2,\"#de77ae\"],[0.3,\"#f1b6da\"],[0.4,\"#fde0ef\"],[0.5,\"#f7f7f7\"],[0.6,\"#e6f5d0\"],[0.7,\"#b8e186\"],[0.8,\"#7fbc41\"],[0.9,\"#4d9221\"],[1,\"#276419\"]],\"sequential\":[[0.0,\"#0d0887\"],[0.1111111111111111,\"#46039f\"],[0.2222222222222222,\"#7201a8\"],[0.3333333333333333,\"#9c179e\"],[0.4444444444444444,\"#bd3786\"],[0.5555555555555556,\"#d8576b\"],[0.6666666666666666,\"#ed7953\"],[0.7777777777777778,\"#fb9f3a\"],[0.8888888888888888,\"#fdca26\"],[1.0,\"#f0f921\"]],\"sequentialminus\":[[0.0,\"#0d0887\"],[0.1111111111111111,\"#46039f\"],[0.2222222222222222,\"#7201a8\"],[0.3333333333333333,\"#9c179e\"],[0.4444444444444444,\"#bd3786\"],[0.5555555555555556,\"#d8576b\"],[0.6666666666666666,\"#ed7953\"],[0.7777777777777778,\"#fb9f3a\"],[0.8888888888888888,\"#fdca26\"],[1.0,\"#f0f921\"]]},\"colorway\":[\"#636efa\",\"#EF553B\",\"#00cc96\",\"#ab63fa\",\"#FFA15A\",\"#19d3f3\",\"#FF6692\",\"#B6E880\",\"#FF97FF\",\"#FECB52\"],\"font\":{\"color\":\"#2a3f5f\"},\"geo\":{\"bgcolor\":\"white\",\"lakecolor\":\"white\",\"landcolor\":\"#E5ECF6\",\"showlakes\":true,\"showland\":true,\"subunitcolor\":\"white\"},\"hoverlabel\":{\"align\":\"left\"},\"hovermode\":\"closest\",\"mapbox\":{\"style\":\"light\"},\"paper_bgcolor\":\"white\",\"plot_bgcolor\":\"#E5ECF6\",\"polar\":{\"angularaxis\":{\"gridcolor\":\"white\",\"linecolor\":\"white\",\"ticks\":\"\"},\"bgcolor\":\"#E5ECF6\",\"radialaxis\":{\"gridcolor\":\"white\",\"linecolor\":\"white\",\"ticks\":\"\"}},\"scene\":{\"xaxis\":{\"backgroundcolor\":\"#E5ECF6\",\"gridcolor\":\"white\",\"gridwidth\":2,\"linecolor\":\"white\",\"showbackground\":true,\"ticks\":\"\",\"zerolinecolor\":\"white\"},\"yaxis\":{\"backgroundcolor\":\"#E5ECF6\",\"gridcolor\":\"white\",\"gridwidth\":2,\"linecolor\":\"white\",\"showbackground\":true,\"ticks\":\"\",\"zerolinecolor\":\"white\"},\"zaxis\":{\"backgroundcolor\":\"#E5ECF6\",\"gridcolor\":\"white\",\"gridwidth\":2,\"linecolor\":\"white\",\"showbackground\":true,\"ticks\":\"\",\"zerolinecolor\":\"white\"}},\"shapedefaults\":{\"line\":{\"color\":\"#2a3f5f\"}},\"ternary\":{\"aaxis\":{\"gridcolor\":\"white\",\"linecolor\":\"white\",\"ticks\":\"\"},\"baxis\":{\"gridcolor\":\"white\",\"linecolor\":\"white\",\"ticks\":\"\"},\"bgcolor\":\"#E5ECF6\",\"caxis\":{\"gridcolor\":\"white\",\"linecolor\":\"white\",\"ticks\":\"\"}},\"title\":{\"x\":0.05},\"xaxis\":{\"automargin\":true,\"gridcolor\":\"white\",\"linecolor\":\"white\",\"ticks\":\"\",\"title\":{\"standoff\":15},\"zerolinecolor\":\"white\",\"zerolinewidth\":2},\"yaxis\":{\"automargin\":true,\"gridcolor\":\"white\",\"linecolor\":\"white\",\"ticks\":\"\",\"title\":{\"standoff\":15},\"zerolinecolor\":\"white\",\"zerolinewidth\":2}}},\"updatemenus\":[{\"buttons\":[{\"args\":[{\"visible\":[true,false,false,false,false,false,false,false,false,false,false,false,false,false,false,false,false,false,false,false,false,false,false,false,false,false,false,false,false,false,false,false,false,false,true]}],\"label\":\"Atlanta\",\"method\":\"update\"},{\"args\":[{\"visible\":[false,true,false,false,false,false,false,false,false,false,false,false,false,false,false,false,false,false,false,false,false,false,false,false,false,false,false,false,false,false,false,false,false,false,true]}],\"label\":\"Austin\",\"method\":\"update\"},{\"args\":[{\"visible\":[false,false,true,false,false,false,false,false,false,false,false,false,false,false,false,false,false,false,false,false,false,false,false,false,false,false,false,false,false,false,false,false,false,false,true]}],\"label\":\"Baltimore\",\"method\":\"update\"},{\"args\":[{\"visible\":[false,false,false,true,false,false,false,false,false,false,false,false,false,false,false,false,false,false,false,false,false,false,false,false,false,false,false,false,false,false,false,false,false,false,true]}],\"label\":\"Boston\",\"method\":\"update\"},{\"args\":[{\"visible\":[false,false,false,false,true,false,false,false,false,false,false,false,false,false,false,false,false,false,false,false,false,false,false,false,false,false,false,false,false,false,false,false,false,false,true]}],\"label\":\"Charlotte\",\"method\":\"update\"},{\"args\":[{\"visible\":[false,false,false,false,false,true,false,false,false,false,false,false,false,false,false,false,false,false,false,false,false,false,false,false,false,false,false,false,false,false,false,false,false,false,true]}],\"label\":\"Chicago\",\"method\":\"update\"},{\"args\":[{\"visible\":[false,false,false,false,false,false,true,false,false,false,false,false,false,false,false,false,false,false,false,false,false,false,false,false,false,false,false,false,false,false,false,false,false,false,true]}],\"label\":\"Cincinnati\",\"method\":\"update\"},{\"args\":[{\"visible\":[false,false,false,false,false,false,false,true,false,false,false,false,false,false,false,false,false,false,false,false,false,false,false,false,false,false,false,false,false,false,false,false,false,false,true]}],\"label\":\"Cleveland\",\"method\":\"update\"},{\"args\":[{\"visible\":[false,false,false,false,false,false,false,false,true,false,false,false,false,false,false,false,false,false,false,false,false,false,false,false,false,false,false,false,false,false,false,false,false,false,true]}],\"label\":\"Dallas-Fort Worth\",\"method\":\"update\"},{\"args\":[{\"visible\":[false,false,false,false,false,false,false,false,false,true,false,false,false,false,false,false,false,false,false,false,false,false,false,false,false,false,false,false,false,false,false,false,false,false,true]}],\"label\":\"Denver\",\"method\":\"update\"},{\"args\":[{\"visible\":[false,false,false,false,false,false,false,false,false,false,true,false,false,false,false,false,false,false,false,false,false,false,false,false,false,false,false,false,false,false,false,false,false,false,true]}],\"label\":\"Detroit\",\"method\":\"update\"},{\"args\":[{\"visible\":[false,false,false,false,false,false,false,false,false,false,false,true,false,false,false,false,false,false,false,false,false,false,false,false,false,false,false,false,false,false,false,false,false,false,true]}],\"label\":\"Houston\",\"method\":\"update\"},{\"args\":[{\"visible\":[false,false,false,false,false,false,false,false,false,false,false,false,true,false,false,false,false,false,false,false,false,false,false,false,false,false,false,false,false,false,false,false,false,false,true]}],\"label\":\"Indianapolis\",\"method\":\"update\"},{\"args\":[{\"visible\":[false,false,false,false,false,false,false,false,false,false,false,false,false,true,false,false,false,false,false,false,false,false,false,false,false,false,false,false,false,false,false,false,false,false,true]}],\"label\":\"Kansas City\",\"method\":\"update\"},{\"args\":[{\"visible\":[false,false,false,false,false,false,false,false,false,false,false,false,false,false,true,false,false,false,false,false,false,false,false,false,false,false,false,false,false,false,false,false,false,false,true]}],\"label\":\"Las Vegas\",\"method\":\"update\"},{\"args\":[{\"visible\":[false,false,false,false,false,false,false,false,false,false,false,false,false,false,false,true,false,false,false,false,false,false,false,false,false,false,false,false,false,false,false,false,false,false,true]}],\"label\":\"Los Angeles\",\"method\":\"update\"},{\"args\":[{\"visible\":[false,false,false,false,false,false,false,false,false,false,false,false,false,false,false,false,true,false,false,false,false,false,false,false,false,false,false,false,false,false,false,false,false,false,true]}],\"label\":\"Miami\",\"method\":\"update\"},{\"args\":[{\"visible\":[false,false,false,false,false,false,false,false,false,false,false,false,false,false,false,false,false,true,false,false,false,false,false,false,false,false,false,false,false,false,false,false,false,false,true]}],\"label\":\"Minneapolis-St. Paul\",\"method\":\"update\"},{\"args\":[{\"visible\":[false,false,false,false,false,false,false,false,false,false,false,false,false,false,false,false,false,false,true,false,false,false,false,false,false,false,false,false,false,false,false,false,false,false,true]}],\"label\":\"Nashville\",\"method\":\"update\"},{\"args\":[{\"visible\":[false,false,false,false,false,false,false,false,false,false,false,false,false,false,false,false,false,false,false,true,false,false,false,false,false,false,false,false,false,false,false,false,false,false,true]}],\"label\":\"New York\",\"method\":\"update\"},{\"args\":[{\"visible\":[false,false,false,false,false,false,false,false,false,false,false,false,false,false,false,false,false,false,false,false,true,false,false,false,false,false,false,false,false,false,false,false,false,false,true]}],\"label\":\"Orlando\",\"method\":\"update\"},{\"args\":[{\"visible\":[false,false,false,false,false,false,false,false,false,false,false,false,false,false,false,false,false,false,false,false,false,true,false,false,false,false,false,false,false,false,false,false,false,false,true]}],\"label\":\"Philadelphia\",\"method\":\"update\"},{\"args\":[{\"visible\":[false,false,false,false,false,false,false,false,false,false,false,false,false,false,false,false,false,false,false,false,false,false,true,false,false,false,false,false,false,false,false,false,false,false,true]}],\"label\":\"Phoenix\",\"method\":\"update\"},{\"args\":[{\"visible\":[false,false,false,false,false,false,false,false,false,false,false,false,false,false,false,false,false,false,false,false,false,false,false,true,false,false,false,false,false,false,false,false,false,false,true]}],\"label\":\"Pittsburgh\",\"method\":\"update\"},{\"args\":[{\"visible\":[false,false,false,false,false,false,false,false,false,false,false,false,false,false,false,false,false,false,false,false,false,false,false,false,true,false,false,false,false,false,false,false,false,false,true]}],\"label\":\"Portland\",\"method\":\"update\"},{\"args\":[{\"visible\":[false,false,false,false,false,false,false,false,false,false,false,false,false,false,false,false,false,false,false,false,false,false,false,false,false,true,false,false,false,false,false,false,false,false,true]}],\"label\":\"Sacramento\",\"method\":\"update\"},{\"args\":[{\"visible\":[false,false,false,false,false,false,false,false,false,false,false,false,false,false,false,false,false,false,false,false,false,false,false,false,false,false,true,false,false,false,false,false,false,false,true]}],\"label\":\"San Antonio\",\"method\":\"update\"},{\"args\":[{\"visible\":[false,false,false,false,false,false,false,false,false,false,false,false,false,false,false,false,false,false,false,false,false,false,false,false,false,false,false,true,false,false,false,false,false,false,true]}],\"label\":\"San Diego\",\"method\":\"update\"},{\"args\":[{\"visible\":[false,false,false,false,false,false,false,false,false,false,false,false,false,false,false,false,false,false,false,false,false,false,false,false,false,false,false,false,true,false,false,false,false,false,true]}],\"label\":\"San Francisco\",\"method\":\"update\"},{\"args\":[{\"visible\":[false,false,false,false,false,false,false,false,false,false,false,false,false,false,false,false,false,false,false,false,false,false,false,false,false,false,false,false,false,true,false,false,false,false,true]}],\"label\":\"Seattle\",\"method\":\"update\"},{\"args\":[{\"visible\":[false,false,false,false,false,false,false,false,false,false,false,false,false,false,false,false,false,false,false,false,false,false,false,false,false,false,false,false,false,false,true,false,false,false,true]}],\"label\":\"St. Louis\",\"method\":\"update\"},{\"args\":[{\"visible\":[false,false,false,false,false,false,false,false,false,false,false,false,false,false,false,false,false,false,false,false,false,false,false,false,false,false,false,false,false,false,false,true,false,false,true]}],\"label\":\"Tampa\",\"method\":\"update\"},{\"args\":[{\"visible\":[false,false,false,false,false,false,false,false,false,false,false,false,false,false,false,false,false,false,false,false,false,false,false,false,false,false,false,false,false,false,false,false,true,false,true]}],\"label\":\"Virginia Beach\",\"method\":\"update\"},{\"args\":[{\"visible\":[false,false,false,false,false,false,false,false,false,false,false,false,false,false,false,false,false,false,false,false,false,false,false,false,false,false,false,false,false,false,false,false,false,true,true]}],\"label\":\"Washington, DC\",\"method\":\"update\"}],\"direction\":\"down\",\"pad\":{\"r\":10,\"t\":10},\"showactive\":true,\"x\":0,\"xanchor\":\"left\",\"y\":1.5,\"yanchor\":\"top\"}]},                        {\"responsive\": true}                    ).then(function(){\n",
              "                            \n",
              "var gd = document.getElementById('29833916-b852-4dd8-9b7b-53ba1dcde485');\n",
              "var x = new MutationObserver(function (mutations, observer) {{\n",
              "        var display = window.getComputedStyle(gd).display;\n",
              "        if (!display || display === 'none') {{\n",
              "            console.log([gd, 'removed!']);\n",
              "            Plotly.purge(gd);\n",
              "            observer.disconnect();\n",
              "        }}\n",
              "}});\n",
              "\n",
              "// Listen for the removal of the full notebook cells\n",
              "var notebookContainer = gd.closest('#notebook-container');\n",
              "if (notebookContainer) {{\n",
              "    x.observe(notebookContainer, {childList: true});\n",
              "}}\n",
              "\n",
              "// Listen for the clearing of the current output cell\n",
              "var outputEl = gd.closest('.output');\n",
              "if (outputEl) {{\n",
              "    x.observe(outputEl, {childList: true});\n",
              "}}\n",
              "\n",
              "                        })                };                });            </script>        </div>"
            ]
          },
          "metadata": {},
          "output_type": "display_data"
        }
      ],
      "source": [
        "categories = df.columns[2:13]\n",
        "\n",
        "remove_elements = ['Latitude', 'Longitude', 'Political Affiliation', 'Average Yearly Temperature(F)']\n",
        "\n",
        "mask = np.isin(categories, remove_elements, invert=True)\n",
        "\n",
        "categories = categories[mask]\n",
        "\n",
        "fig = go.Figure()\n",
        "\n",
        "# Add a trace for each region\n",
        "for region in regions:\n",
        "    region_df = df[df['Region'] == region]\n",
        "    fig.add_trace(go.Scatterpolar(\n",
        "        r=region_df[categories].values[0],\n",
        "        theta=categories,\n",
        "        fill='toself',\n",
        "        name=region,\n",
        "        visible=(region == regions[0]) \n",
        "    ))\n",
        "\n",
        "# Add a trace for the average of each category\n",
        "average_values = df[categories].mean()\n",
        "fig.add_trace(go.Scatterpolar(\n",
        "    r=average_values,\n",
        "    theta=categories,\n",
        "    fill='toself',\n",
        "    name='Average',\n",
        "))\n",
        "\n",
        "# Update layout to add a dropdown menu\n",
        "fig.update_layout(\n",
        "    updatemenus=[\n",
        "        dict(\n",
        "            buttons=list([\n",
        "                dict(label=region,\n",
        "                     method=\"update\",\n",
        "                     args=[{\"visible\": [(region == r.name or 'Average' == r.name) for r in fig.data]}])\n",
        "                for region in regions\n",
        "            ]),\n",
        "            direction=\"down\",\n",
        "            pad={\"r\": 10, \"t\": 10},\n",
        "            showactive=True,\n",
        "            x=0,\n",
        "            xanchor=\"left\",\n",
        "            y=1.5,\n",
        "            yanchor=\"top\"\n",
        "        ),\n",
        "    ],\n",
        "    polar=dict(\n",
        "        radialaxis=dict(\n",
        "            visible=True,\n",
        "            range=[0, 1] \n",
        "        )\n",
        "    ),\n",
        "    showlegend=True\n",
        ")\n",
        "\n",
        "# Show the figure\n",
        "iplot(fig)"
      ]
    },
    {
      "cell_type": "markdown",
      "id": "771050cd",
      "metadata": {},
      "source": [
        "-------------"
      ]
    },
    {
      "cell_type": "markdown",
      "id": "346598dd",
      "metadata": {},
      "source": [
        "## A closer look at crime"
      ]
    },
    {
      "cell_type": "markdown",
      "id": "e9a07efe",
      "metadata": {},
      "source": [
        "<div>\n",
        "\n",
        "For some people, money cannot buy happiness. They worry less about material needs and more about feeling safe and secure. Below are plots showing the violent and non-violent crime rates for each region. The crime rates used in these plots and everywhere else on the page are self-reported by law enforcement agencies with jurisdiction over the area. Ask yourself if you trust the people who originate the data before looking too closely at it. \n",
        "\n",
        "> **How to use this viz**<br>\n",
        "> All values for violent and non-violent crime per 100,000 people are shown in the chart below. You can hover over each point to see the actual value for each metropolitan area. They are sorted from highest to lowest value for each crime type.\n",
        "\n",
        "</div>"
      ]
    },
    {
      "cell_type": "code",
      "execution_count": 7,
      "id": "45029ee9",
      "metadata": {},
      "outputs": [
        {
          "data": {
            "application/vnd.plotly.v1+json": {
              "config": {
                "linkText": "Export to plot.ly",
                "plotlyServerURL": "https://plot.ly",
                "showLink": false
              },
              "data": [
                {
                  "marker": {
                    "size": 10
                  },
                  "mode": "markers",
                  "name": "Violent Crime Rate",
                  "type": "scatter",
                  "x": [
                    1987.49,
                    2083.4,
                    2218.24,
                    2220.67,
                    2758.22,
                    3332.52,
                    3567.87,
                    3612.23,
                    3654.02,
                    3815.23,
                    3836.39,
                    3985.95,
                    4037.27,
                    4360.93,
                    4381.65,
                    4443.2,
                    4750.89,
                    4966.5,
                    5104.96,
                    5252.08,
                    5565.95,
                    5727.52,
                    5768.18,
                    5775.23,
                    5911.99,
                    5997,
                    6206.38,
                    6239.99,
                    6309.55,
                    6538.45,
                    6726.82,
                    6917.4,
                    6997.68,
                    8188.31
                  ],
                  "xaxis": "x",
                  "y": [
                    "New York",
                    "Virginia Beach",
                    "Tampa",
                    "San Diego",
                    "Boston",
                    "Los Angeles",
                    "Las Vegas",
                    "Austin",
                    "Sacramento",
                    "Pittsburgh",
                    "Charlotte",
                    "Dallas-Fort Worth",
                    "Philadelphia",
                    "Denver",
                    "Chicago",
                    "Phoenix",
                    "Miami",
                    "Nashville",
                    "Washington, DC",
                    "Houston",
                    "San Antonio",
                    "Atlanta",
                    "Minneapolis-St. Paul",
                    "Indianapolis",
                    "Seattle",
                    "Cincinnati",
                    "Orlando",
                    "Portland",
                    "Kansas City",
                    "Cleveland",
                    "Detroit",
                    "San Francisco",
                    "Baltimore",
                    "St. Louis"
                  ],
                  "yaxis": "y"
                },
                {
                  "mode": "lines",
                  "showlegend": false,
                  "type": "scatter",
                  "x": [
                    0,
                    1987.49
                  ],
                  "xaxis": "x",
                  "y": [
                    "New York",
                    "New York"
                  ],
                  "yaxis": "y"
                },
                {
                  "mode": "lines",
                  "showlegend": false,
                  "type": "scatter",
                  "x": [
                    0,
                    2083.4
                  ],
                  "xaxis": "x",
                  "y": [
                    "Virginia Beach",
                    "Virginia Beach"
                  ],
                  "yaxis": "y"
                },
                {
                  "mode": "lines",
                  "showlegend": false,
                  "type": "scatter",
                  "x": [
                    0,
                    2218.24
                  ],
                  "xaxis": "x",
                  "y": [
                    "Tampa",
                    "Tampa"
                  ],
                  "yaxis": "y"
                },
                {
                  "mode": "lines",
                  "showlegend": false,
                  "type": "scatter",
                  "x": [
                    0,
                    2220.67
                  ],
                  "xaxis": "x",
                  "y": [
                    "San Diego",
                    "San Diego"
                  ],
                  "yaxis": "y"
                },
                {
                  "mode": "lines",
                  "showlegend": false,
                  "type": "scatter",
                  "x": [
                    0,
                    2758.22
                  ],
                  "xaxis": "x",
                  "y": [
                    "Boston",
                    "Boston"
                  ],
                  "yaxis": "y"
                },
                {
                  "mode": "lines",
                  "showlegend": false,
                  "type": "scatter",
                  "x": [
                    0,
                    3332.52
                  ],
                  "xaxis": "x",
                  "y": [
                    "Los Angeles",
                    "Los Angeles"
                  ],
                  "yaxis": "y"
                },
                {
                  "mode": "lines",
                  "showlegend": false,
                  "type": "scatter",
                  "x": [
                    0,
                    3567.87
                  ],
                  "xaxis": "x",
                  "y": [
                    "Las Vegas",
                    "Las Vegas"
                  ],
                  "yaxis": "y"
                },
                {
                  "mode": "lines",
                  "showlegend": false,
                  "type": "scatter",
                  "x": [
                    0,
                    3612.23
                  ],
                  "xaxis": "x",
                  "y": [
                    "Austin",
                    "Austin"
                  ],
                  "yaxis": "y"
                },
                {
                  "mode": "lines",
                  "showlegend": false,
                  "type": "scatter",
                  "x": [
                    0,
                    3654.02
                  ],
                  "xaxis": "x",
                  "y": [
                    "Sacramento",
                    "Sacramento"
                  ],
                  "yaxis": "y"
                },
                {
                  "mode": "lines",
                  "showlegend": false,
                  "type": "scatter",
                  "x": [
                    0,
                    3815.23
                  ],
                  "xaxis": "x",
                  "y": [
                    "Pittsburgh",
                    "Pittsburgh"
                  ],
                  "yaxis": "y"
                },
                {
                  "mode": "lines",
                  "showlegend": false,
                  "type": "scatter",
                  "x": [
                    0,
                    3836.39
                  ],
                  "xaxis": "x",
                  "y": [
                    "Charlotte",
                    "Charlotte"
                  ],
                  "yaxis": "y"
                },
                {
                  "mode": "lines",
                  "showlegend": false,
                  "type": "scatter",
                  "x": [
                    0,
                    3985.95
                  ],
                  "xaxis": "x",
                  "y": [
                    "Dallas-Fort Worth",
                    "Dallas-Fort Worth"
                  ],
                  "yaxis": "y"
                },
                {
                  "mode": "lines",
                  "showlegend": false,
                  "type": "scatter",
                  "x": [
                    0,
                    4037.27
                  ],
                  "xaxis": "x",
                  "y": [
                    "Philadelphia",
                    "Philadelphia"
                  ],
                  "yaxis": "y"
                },
                {
                  "mode": "lines",
                  "showlegend": false,
                  "type": "scatter",
                  "x": [
                    0,
                    4360.93
                  ],
                  "xaxis": "x",
                  "y": [
                    "Denver",
                    "Denver"
                  ],
                  "yaxis": "y"
                },
                {
                  "mode": "lines",
                  "showlegend": false,
                  "type": "scatter",
                  "x": [
                    0,
                    4381.65
                  ],
                  "xaxis": "x",
                  "y": [
                    "Chicago",
                    "Chicago"
                  ],
                  "yaxis": "y"
                },
                {
                  "mode": "lines",
                  "showlegend": false,
                  "type": "scatter",
                  "x": [
                    0,
                    4443.2
                  ],
                  "xaxis": "x",
                  "y": [
                    "Phoenix",
                    "Phoenix"
                  ],
                  "yaxis": "y"
                },
                {
                  "mode": "lines",
                  "showlegend": false,
                  "type": "scatter",
                  "x": [
                    0,
                    4750.89
                  ],
                  "xaxis": "x",
                  "y": [
                    "Miami",
                    "Miami"
                  ],
                  "yaxis": "y"
                },
                {
                  "mode": "lines",
                  "showlegend": false,
                  "type": "scatter",
                  "x": [
                    0,
                    4966.5
                  ],
                  "xaxis": "x",
                  "y": [
                    "Nashville",
                    "Nashville"
                  ],
                  "yaxis": "y"
                },
                {
                  "mode": "lines",
                  "showlegend": false,
                  "type": "scatter",
                  "x": [
                    0,
                    5104.96
                  ],
                  "xaxis": "x",
                  "y": [
                    "Washington, DC",
                    "Washington, DC"
                  ],
                  "yaxis": "y"
                },
                {
                  "mode": "lines",
                  "showlegend": false,
                  "type": "scatter",
                  "x": [
                    0,
                    5252.08
                  ],
                  "xaxis": "x",
                  "y": [
                    "Houston",
                    "Houston"
                  ],
                  "yaxis": "y"
                },
                {
                  "mode": "lines",
                  "showlegend": false,
                  "type": "scatter",
                  "x": [
                    0,
                    5565.95
                  ],
                  "xaxis": "x",
                  "y": [
                    "San Antonio",
                    "San Antonio"
                  ],
                  "yaxis": "y"
                },
                {
                  "mode": "lines",
                  "showlegend": false,
                  "type": "scatter",
                  "x": [
                    0,
                    5727.52
                  ],
                  "xaxis": "x",
                  "y": [
                    "Atlanta",
                    "Atlanta"
                  ],
                  "yaxis": "y"
                },
                {
                  "mode": "lines",
                  "showlegend": false,
                  "type": "scatter",
                  "x": [
                    0,
                    5768.18
                  ],
                  "xaxis": "x",
                  "y": [
                    "Minneapolis-St. Paul",
                    "Minneapolis-St. Paul"
                  ],
                  "yaxis": "y"
                },
                {
                  "mode": "lines",
                  "showlegend": false,
                  "type": "scatter",
                  "x": [
                    0,
                    5775.23
                  ],
                  "xaxis": "x",
                  "y": [
                    "Indianapolis",
                    "Indianapolis"
                  ],
                  "yaxis": "y"
                },
                {
                  "mode": "lines",
                  "showlegend": false,
                  "type": "scatter",
                  "x": [
                    0,
                    5911.99
                  ],
                  "xaxis": "x",
                  "y": [
                    "Seattle",
                    "Seattle"
                  ],
                  "yaxis": "y"
                },
                {
                  "mode": "lines",
                  "showlegend": false,
                  "type": "scatter",
                  "x": [
                    0,
                    5997
                  ],
                  "xaxis": "x",
                  "y": [
                    "Cincinnati",
                    "Cincinnati"
                  ],
                  "yaxis": "y"
                },
                {
                  "mode": "lines",
                  "showlegend": false,
                  "type": "scatter",
                  "x": [
                    0,
                    6206.38
                  ],
                  "xaxis": "x",
                  "y": [
                    "Orlando",
                    "Orlando"
                  ],
                  "yaxis": "y"
                },
                {
                  "mode": "lines",
                  "showlegend": false,
                  "type": "scatter",
                  "x": [
                    0,
                    6239.99
                  ],
                  "xaxis": "x",
                  "y": [
                    "Portland",
                    "Portland"
                  ],
                  "yaxis": "y"
                },
                {
                  "mode": "lines",
                  "showlegend": false,
                  "type": "scatter",
                  "x": [
                    0,
                    6309.55
                  ],
                  "xaxis": "x",
                  "y": [
                    "Kansas City",
                    "Kansas City"
                  ],
                  "yaxis": "y"
                },
                {
                  "mode": "lines",
                  "showlegend": false,
                  "type": "scatter",
                  "x": [
                    0,
                    6538.45
                  ],
                  "xaxis": "x",
                  "y": [
                    "Cleveland",
                    "Cleveland"
                  ],
                  "yaxis": "y"
                },
                {
                  "mode": "lines",
                  "showlegend": false,
                  "type": "scatter",
                  "x": [
                    0,
                    6726.82
                  ],
                  "xaxis": "x",
                  "y": [
                    "Detroit",
                    "Detroit"
                  ],
                  "yaxis": "y"
                },
                {
                  "mode": "lines",
                  "showlegend": false,
                  "type": "scatter",
                  "x": [
                    0,
                    6917.4
                  ],
                  "xaxis": "x",
                  "y": [
                    "San Francisco",
                    "San Francisco"
                  ],
                  "yaxis": "y"
                },
                {
                  "mode": "lines",
                  "showlegend": false,
                  "type": "scatter",
                  "x": [
                    0,
                    6997.68
                  ],
                  "xaxis": "x",
                  "y": [
                    "Baltimore",
                    "Baltimore"
                  ],
                  "yaxis": "y"
                },
                {
                  "mode": "lines",
                  "showlegend": false,
                  "type": "scatter",
                  "x": [
                    0,
                    8188.31
                  ],
                  "xaxis": "x",
                  "y": [
                    "St. Louis",
                    "St. Louis"
                  ],
                  "yaxis": "y"
                },
                {
                  "marker": {
                    "size": 10
                  },
                  "mode": "markers",
                  "name": "Non-Violent Crime Rate",
                  "type": "scatter",
                  "x": [
                    1448.59,
                    1743.68,
                    1842.97,
                    1934.62,
                    2089.02,
                    2535.92,
                    2936.62,
                    2943.38,
                    3063.48,
                    3114.42,
                    3185.09,
                    3189.57,
                    3263.8,
                    3667.06,
                    3670.71,
                    3815.18,
                    3817.96,
                    4014.18,
                    4128.41,
                    4156.22,
                    4411.87,
                    4540.6,
                    4543.79,
                    4641.37,
                    4776.43,
                    4844.84,
                    4916.04,
                    4928.11,
                    5049.88,
                    5258.64,
                    5454.57,
                    5677.02,
                    6041.24,
                    6168.02
                  ],
                  "xaxis": "x2",
                  "y": [
                    "New York",
                    "Tampa",
                    "San Diego",
                    "Virginia Beach",
                    "Boston",
                    "Los Angeles",
                    "Sacramento",
                    "Las Vegas",
                    "Philadelphia",
                    "Pittsburgh",
                    "Dallas-Fort Worth",
                    "Austin",
                    "Chicago",
                    "Denver",
                    "Phoenix",
                    "Charlotte",
                    "Nashville",
                    "Miami",
                    "Houston",
                    "Washington, DC",
                    "Indianapolis",
                    "Detroit",
                    "Kansas City",
                    "Minneapolis-St. Paul",
                    "Atlanta",
                    "San Antonio",
                    "Cleveland",
                    "Baltimore",
                    "Cincinnati",
                    "Seattle",
                    "Orlando",
                    "Portland",
                    "St. Louis",
                    "San Francisco"
                  ],
                  "yaxis": "y2"
                },
                {
                  "mode": "lines",
                  "showlegend": false,
                  "type": "scatter",
                  "x": [
                    0,
                    1448.59
                  ],
                  "xaxis": "x2",
                  "y": [
                    "New York",
                    "New York"
                  ],
                  "yaxis": "y2"
                },
                {
                  "mode": "lines",
                  "showlegend": false,
                  "type": "scatter",
                  "x": [
                    0,
                    1743.68
                  ],
                  "xaxis": "x2",
                  "y": [
                    "Tampa",
                    "Tampa"
                  ],
                  "yaxis": "y2"
                },
                {
                  "mode": "lines",
                  "showlegend": false,
                  "type": "scatter",
                  "x": [
                    0,
                    1842.97
                  ],
                  "xaxis": "x2",
                  "y": [
                    "San Diego",
                    "San Diego"
                  ],
                  "yaxis": "y2"
                },
                {
                  "mode": "lines",
                  "showlegend": false,
                  "type": "scatter",
                  "x": [
                    0,
                    1934.62
                  ],
                  "xaxis": "x2",
                  "y": [
                    "Virginia Beach",
                    "Virginia Beach"
                  ],
                  "yaxis": "y2"
                },
                {
                  "mode": "lines",
                  "showlegend": false,
                  "type": "scatter",
                  "x": [
                    0,
                    2089.02
                  ],
                  "xaxis": "x2",
                  "y": [
                    "Boston",
                    "Boston"
                  ],
                  "yaxis": "y2"
                },
                {
                  "mode": "lines",
                  "showlegend": false,
                  "type": "scatter",
                  "x": [
                    0,
                    2535.92
                  ],
                  "xaxis": "x2",
                  "y": [
                    "Los Angeles",
                    "Los Angeles"
                  ],
                  "yaxis": "y2"
                },
                {
                  "mode": "lines",
                  "showlegend": false,
                  "type": "scatter",
                  "x": [
                    0,
                    2936.62
                  ],
                  "xaxis": "x2",
                  "y": [
                    "Sacramento",
                    "Sacramento"
                  ],
                  "yaxis": "y2"
                },
                {
                  "mode": "lines",
                  "showlegend": false,
                  "type": "scatter",
                  "x": [
                    0,
                    2943.38
                  ],
                  "xaxis": "x2",
                  "y": [
                    "Las Vegas",
                    "Las Vegas"
                  ],
                  "yaxis": "y2"
                },
                {
                  "mode": "lines",
                  "showlegend": false,
                  "type": "scatter",
                  "x": [
                    0,
                    3063.48
                  ],
                  "xaxis": "x2",
                  "y": [
                    "Philadelphia",
                    "Philadelphia"
                  ],
                  "yaxis": "y2"
                },
                {
                  "mode": "lines",
                  "showlegend": false,
                  "type": "scatter",
                  "x": [
                    0,
                    3114.42
                  ],
                  "xaxis": "x2",
                  "y": [
                    "Pittsburgh",
                    "Pittsburgh"
                  ],
                  "yaxis": "y2"
                },
                {
                  "mode": "lines",
                  "showlegend": false,
                  "type": "scatter",
                  "x": [
                    0,
                    3185.09
                  ],
                  "xaxis": "x2",
                  "y": [
                    "Dallas-Fort Worth",
                    "Dallas-Fort Worth"
                  ],
                  "yaxis": "y2"
                },
                {
                  "mode": "lines",
                  "showlegend": false,
                  "type": "scatter",
                  "x": [
                    0,
                    3189.57
                  ],
                  "xaxis": "x2",
                  "y": [
                    "Austin",
                    "Austin"
                  ],
                  "yaxis": "y2"
                },
                {
                  "mode": "lines",
                  "showlegend": false,
                  "type": "scatter",
                  "x": [
                    0,
                    3263.8
                  ],
                  "xaxis": "x2",
                  "y": [
                    "Chicago",
                    "Chicago"
                  ],
                  "yaxis": "y2"
                },
                {
                  "mode": "lines",
                  "showlegend": false,
                  "type": "scatter",
                  "x": [
                    0,
                    3667.06
                  ],
                  "xaxis": "x2",
                  "y": [
                    "Denver",
                    "Denver"
                  ],
                  "yaxis": "y2"
                },
                {
                  "mode": "lines",
                  "showlegend": false,
                  "type": "scatter",
                  "x": [
                    0,
                    3670.71
                  ],
                  "xaxis": "x2",
                  "y": [
                    "Phoenix",
                    "Phoenix"
                  ],
                  "yaxis": "y2"
                },
                {
                  "mode": "lines",
                  "showlegend": false,
                  "type": "scatter",
                  "x": [
                    0,
                    3815.18
                  ],
                  "xaxis": "x2",
                  "y": [
                    "Charlotte",
                    "Charlotte"
                  ],
                  "yaxis": "y2"
                },
                {
                  "mode": "lines",
                  "showlegend": false,
                  "type": "scatter",
                  "x": [
                    0,
                    3817.96
                  ],
                  "xaxis": "x2",
                  "y": [
                    "Nashville",
                    "Nashville"
                  ],
                  "yaxis": "y2"
                },
                {
                  "mode": "lines",
                  "showlegend": false,
                  "type": "scatter",
                  "x": [
                    0,
                    4014.18
                  ],
                  "xaxis": "x2",
                  "y": [
                    "Miami",
                    "Miami"
                  ],
                  "yaxis": "y2"
                },
                {
                  "mode": "lines",
                  "showlegend": false,
                  "type": "scatter",
                  "x": [
                    0,
                    4128.41
                  ],
                  "xaxis": "x2",
                  "y": [
                    "Houston",
                    "Houston"
                  ],
                  "yaxis": "y2"
                },
                {
                  "mode": "lines",
                  "showlegend": false,
                  "type": "scatter",
                  "x": [
                    0,
                    4156.22
                  ],
                  "xaxis": "x2",
                  "y": [
                    "Washington, DC",
                    "Washington, DC"
                  ],
                  "yaxis": "y2"
                },
                {
                  "mode": "lines",
                  "showlegend": false,
                  "type": "scatter",
                  "x": [
                    0,
                    4411.87
                  ],
                  "xaxis": "x2",
                  "y": [
                    "Indianapolis",
                    "Indianapolis"
                  ],
                  "yaxis": "y2"
                },
                {
                  "mode": "lines",
                  "showlegend": false,
                  "type": "scatter",
                  "x": [
                    0,
                    4540.6
                  ],
                  "xaxis": "x2",
                  "y": [
                    "Detroit",
                    "Detroit"
                  ],
                  "yaxis": "y2"
                },
                {
                  "mode": "lines",
                  "showlegend": false,
                  "type": "scatter",
                  "x": [
                    0,
                    4543.79
                  ],
                  "xaxis": "x2",
                  "y": [
                    "Kansas City",
                    "Kansas City"
                  ],
                  "yaxis": "y2"
                },
                {
                  "mode": "lines",
                  "showlegend": false,
                  "type": "scatter",
                  "x": [
                    0,
                    4641.37
                  ],
                  "xaxis": "x2",
                  "y": [
                    "Minneapolis-St. Paul",
                    "Minneapolis-St. Paul"
                  ],
                  "yaxis": "y2"
                },
                {
                  "mode": "lines",
                  "showlegend": false,
                  "type": "scatter",
                  "x": [
                    0,
                    4776.43
                  ],
                  "xaxis": "x2",
                  "y": [
                    "Atlanta",
                    "Atlanta"
                  ],
                  "yaxis": "y2"
                },
                {
                  "mode": "lines",
                  "showlegend": false,
                  "type": "scatter",
                  "x": [
                    0,
                    4844.84
                  ],
                  "xaxis": "x2",
                  "y": [
                    "San Antonio",
                    "San Antonio"
                  ],
                  "yaxis": "y2"
                },
                {
                  "mode": "lines",
                  "showlegend": false,
                  "type": "scatter",
                  "x": [
                    0,
                    4916.04
                  ],
                  "xaxis": "x2",
                  "y": [
                    "Cleveland",
                    "Cleveland"
                  ],
                  "yaxis": "y2"
                },
                {
                  "mode": "lines",
                  "showlegend": false,
                  "type": "scatter",
                  "x": [
                    0,
                    4928.11
                  ],
                  "xaxis": "x2",
                  "y": [
                    "Baltimore",
                    "Baltimore"
                  ],
                  "yaxis": "y2"
                },
                {
                  "mode": "lines",
                  "showlegend": false,
                  "type": "scatter",
                  "x": [
                    0,
                    5049.88
                  ],
                  "xaxis": "x2",
                  "y": [
                    "Cincinnati",
                    "Cincinnati"
                  ],
                  "yaxis": "y2"
                },
                {
                  "mode": "lines",
                  "showlegend": false,
                  "type": "scatter",
                  "x": [
                    0,
                    5258.64
                  ],
                  "xaxis": "x2",
                  "y": [
                    "Seattle",
                    "Seattle"
                  ],
                  "yaxis": "y2"
                },
                {
                  "mode": "lines",
                  "showlegend": false,
                  "type": "scatter",
                  "x": [
                    0,
                    5454.57
                  ],
                  "xaxis": "x2",
                  "y": [
                    "Orlando",
                    "Orlando"
                  ],
                  "yaxis": "y2"
                },
                {
                  "mode": "lines",
                  "showlegend": false,
                  "type": "scatter",
                  "x": [
                    0,
                    5677.02
                  ],
                  "xaxis": "x2",
                  "y": [
                    "Portland",
                    "Portland"
                  ],
                  "yaxis": "y2"
                },
                {
                  "mode": "lines",
                  "showlegend": false,
                  "type": "scatter",
                  "x": [
                    0,
                    6041.24
                  ],
                  "xaxis": "x2",
                  "y": [
                    "St. Louis",
                    "St. Louis"
                  ],
                  "yaxis": "y2"
                },
                {
                  "mode": "lines",
                  "showlegend": false,
                  "type": "scatter",
                  "x": [
                    0,
                    6168.02
                  ],
                  "xaxis": "x2",
                  "y": [
                    "San Francisco",
                    "San Francisco"
                  ],
                  "yaxis": "y2"
                }
              ],
              "layout": {
                "annotations": [
                  {
                    "font": {
                      "size": 16
                    },
                    "showarrow": false,
                    "text": "Violent Crime Rate (per 100k)",
                    "x": 0.225,
                    "xanchor": "center",
                    "xref": "paper",
                    "y": 1,
                    "yanchor": "bottom",
                    "yref": "paper"
                  },
                  {
                    "font": {
                      "size": 16
                    },
                    "showarrow": false,
                    "text": "Non-Violent Crime Rate (per 100k)",
                    "x": 0.775,
                    "xanchor": "center",
                    "xref": "paper",
                    "y": 1,
                    "yanchor": "bottom",
                    "yref": "paper"
                  }
                ],
                "height": 900,
                "showlegend": false,
                "template": {
                  "data": {
                    "bar": [
                      {
                        "error_x": {
                          "color": "#2a3f5f"
                        },
                        "error_y": {
                          "color": "#2a3f5f"
                        },
                        "marker": {
                          "line": {
                            "color": "#E5ECF6",
                            "width": 0.5
                          },
                          "pattern": {
                            "fillmode": "overlay",
                            "size": 10,
                            "solidity": 0.2
                          }
                        },
                        "type": "bar"
                      }
                    ],
                    "barpolar": [
                      {
                        "marker": {
                          "line": {
                            "color": "#E5ECF6",
                            "width": 0.5
                          },
                          "pattern": {
                            "fillmode": "overlay",
                            "size": 10,
                            "solidity": 0.2
                          }
                        },
                        "type": "barpolar"
                      }
                    ],
                    "carpet": [
                      {
                        "aaxis": {
                          "endlinecolor": "#2a3f5f",
                          "gridcolor": "white",
                          "linecolor": "white",
                          "minorgridcolor": "white",
                          "startlinecolor": "#2a3f5f"
                        },
                        "baxis": {
                          "endlinecolor": "#2a3f5f",
                          "gridcolor": "white",
                          "linecolor": "white",
                          "minorgridcolor": "white",
                          "startlinecolor": "#2a3f5f"
                        },
                        "type": "carpet"
                      }
                    ],
                    "choropleth": [
                      {
                        "colorbar": {
                          "outlinewidth": 0,
                          "ticks": ""
                        },
                        "type": "choropleth"
                      }
                    ],
                    "contour": [
                      {
                        "colorbar": {
                          "outlinewidth": 0,
                          "ticks": ""
                        },
                        "colorscale": [
                          [
                            0,
                            "#0d0887"
                          ],
                          [
                            0.1111111111111111,
                            "#46039f"
                          ],
                          [
                            0.2222222222222222,
                            "#7201a8"
                          ],
                          [
                            0.3333333333333333,
                            "#9c179e"
                          ],
                          [
                            0.4444444444444444,
                            "#bd3786"
                          ],
                          [
                            0.5555555555555556,
                            "#d8576b"
                          ],
                          [
                            0.6666666666666666,
                            "#ed7953"
                          ],
                          [
                            0.7777777777777778,
                            "#fb9f3a"
                          ],
                          [
                            0.8888888888888888,
                            "#fdca26"
                          ],
                          [
                            1,
                            "#f0f921"
                          ]
                        ],
                        "type": "contour"
                      }
                    ],
                    "contourcarpet": [
                      {
                        "colorbar": {
                          "outlinewidth": 0,
                          "ticks": ""
                        },
                        "type": "contourcarpet"
                      }
                    ],
                    "heatmap": [
                      {
                        "colorbar": {
                          "outlinewidth": 0,
                          "ticks": ""
                        },
                        "colorscale": [
                          [
                            0,
                            "#0d0887"
                          ],
                          [
                            0.1111111111111111,
                            "#46039f"
                          ],
                          [
                            0.2222222222222222,
                            "#7201a8"
                          ],
                          [
                            0.3333333333333333,
                            "#9c179e"
                          ],
                          [
                            0.4444444444444444,
                            "#bd3786"
                          ],
                          [
                            0.5555555555555556,
                            "#d8576b"
                          ],
                          [
                            0.6666666666666666,
                            "#ed7953"
                          ],
                          [
                            0.7777777777777778,
                            "#fb9f3a"
                          ],
                          [
                            0.8888888888888888,
                            "#fdca26"
                          ],
                          [
                            1,
                            "#f0f921"
                          ]
                        ],
                        "type": "heatmap"
                      }
                    ],
                    "heatmapgl": [
                      {
                        "colorbar": {
                          "outlinewidth": 0,
                          "ticks": ""
                        },
                        "colorscale": [
                          [
                            0,
                            "#0d0887"
                          ],
                          [
                            0.1111111111111111,
                            "#46039f"
                          ],
                          [
                            0.2222222222222222,
                            "#7201a8"
                          ],
                          [
                            0.3333333333333333,
                            "#9c179e"
                          ],
                          [
                            0.4444444444444444,
                            "#bd3786"
                          ],
                          [
                            0.5555555555555556,
                            "#d8576b"
                          ],
                          [
                            0.6666666666666666,
                            "#ed7953"
                          ],
                          [
                            0.7777777777777778,
                            "#fb9f3a"
                          ],
                          [
                            0.8888888888888888,
                            "#fdca26"
                          ],
                          [
                            1,
                            "#f0f921"
                          ]
                        ],
                        "type": "heatmapgl"
                      }
                    ],
                    "histogram": [
                      {
                        "marker": {
                          "pattern": {
                            "fillmode": "overlay",
                            "size": 10,
                            "solidity": 0.2
                          }
                        },
                        "type": "histogram"
                      }
                    ],
                    "histogram2d": [
                      {
                        "colorbar": {
                          "outlinewidth": 0,
                          "ticks": ""
                        },
                        "colorscale": [
                          [
                            0,
                            "#0d0887"
                          ],
                          [
                            0.1111111111111111,
                            "#46039f"
                          ],
                          [
                            0.2222222222222222,
                            "#7201a8"
                          ],
                          [
                            0.3333333333333333,
                            "#9c179e"
                          ],
                          [
                            0.4444444444444444,
                            "#bd3786"
                          ],
                          [
                            0.5555555555555556,
                            "#d8576b"
                          ],
                          [
                            0.6666666666666666,
                            "#ed7953"
                          ],
                          [
                            0.7777777777777778,
                            "#fb9f3a"
                          ],
                          [
                            0.8888888888888888,
                            "#fdca26"
                          ],
                          [
                            1,
                            "#f0f921"
                          ]
                        ],
                        "type": "histogram2d"
                      }
                    ],
                    "histogram2dcontour": [
                      {
                        "colorbar": {
                          "outlinewidth": 0,
                          "ticks": ""
                        },
                        "colorscale": [
                          [
                            0,
                            "#0d0887"
                          ],
                          [
                            0.1111111111111111,
                            "#46039f"
                          ],
                          [
                            0.2222222222222222,
                            "#7201a8"
                          ],
                          [
                            0.3333333333333333,
                            "#9c179e"
                          ],
                          [
                            0.4444444444444444,
                            "#bd3786"
                          ],
                          [
                            0.5555555555555556,
                            "#d8576b"
                          ],
                          [
                            0.6666666666666666,
                            "#ed7953"
                          ],
                          [
                            0.7777777777777778,
                            "#fb9f3a"
                          ],
                          [
                            0.8888888888888888,
                            "#fdca26"
                          ],
                          [
                            1,
                            "#f0f921"
                          ]
                        ],
                        "type": "histogram2dcontour"
                      }
                    ],
                    "mesh3d": [
                      {
                        "colorbar": {
                          "outlinewidth": 0,
                          "ticks": ""
                        },
                        "type": "mesh3d"
                      }
                    ],
                    "parcoords": [
                      {
                        "line": {
                          "colorbar": {
                            "outlinewidth": 0,
                            "ticks": ""
                          }
                        },
                        "type": "parcoords"
                      }
                    ],
                    "pie": [
                      {
                        "automargin": true,
                        "type": "pie"
                      }
                    ],
                    "scatter": [
                      {
                        "fillpattern": {
                          "fillmode": "overlay",
                          "size": 10,
                          "solidity": 0.2
                        },
                        "type": "scatter"
                      }
                    ],
                    "scatter3d": [
                      {
                        "line": {
                          "colorbar": {
                            "outlinewidth": 0,
                            "ticks": ""
                          }
                        },
                        "marker": {
                          "colorbar": {
                            "outlinewidth": 0,
                            "ticks": ""
                          }
                        },
                        "type": "scatter3d"
                      }
                    ],
                    "scattercarpet": [
                      {
                        "marker": {
                          "colorbar": {
                            "outlinewidth": 0,
                            "ticks": ""
                          }
                        },
                        "type": "scattercarpet"
                      }
                    ],
                    "scattergeo": [
                      {
                        "marker": {
                          "colorbar": {
                            "outlinewidth": 0,
                            "ticks": ""
                          }
                        },
                        "type": "scattergeo"
                      }
                    ],
                    "scattergl": [
                      {
                        "marker": {
                          "colorbar": {
                            "outlinewidth": 0,
                            "ticks": ""
                          }
                        },
                        "type": "scattergl"
                      }
                    ],
                    "scattermapbox": [
                      {
                        "marker": {
                          "colorbar": {
                            "outlinewidth": 0,
                            "ticks": ""
                          }
                        },
                        "type": "scattermapbox"
                      }
                    ],
                    "scatterpolar": [
                      {
                        "marker": {
                          "colorbar": {
                            "outlinewidth": 0,
                            "ticks": ""
                          }
                        },
                        "type": "scatterpolar"
                      }
                    ],
                    "scatterpolargl": [
                      {
                        "marker": {
                          "colorbar": {
                            "outlinewidth": 0,
                            "ticks": ""
                          }
                        },
                        "type": "scatterpolargl"
                      }
                    ],
                    "scatterternary": [
                      {
                        "marker": {
                          "colorbar": {
                            "outlinewidth": 0,
                            "ticks": ""
                          }
                        },
                        "type": "scatterternary"
                      }
                    ],
                    "surface": [
                      {
                        "colorbar": {
                          "outlinewidth": 0,
                          "ticks": ""
                        },
                        "colorscale": [
                          [
                            0,
                            "#0d0887"
                          ],
                          [
                            0.1111111111111111,
                            "#46039f"
                          ],
                          [
                            0.2222222222222222,
                            "#7201a8"
                          ],
                          [
                            0.3333333333333333,
                            "#9c179e"
                          ],
                          [
                            0.4444444444444444,
                            "#bd3786"
                          ],
                          [
                            0.5555555555555556,
                            "#d8576b"
                          ],
                          [
                            0.6666666666666666,
                            "#ed7953"
                          ],
                          [
                            0.7777777777777778,
                            "#fb9f3a"
                          ],
                          [
                            0.8888888888888888,
                            "#fdca26"
                          ],
                          [
                            1,
                            "#f0f921"
                          ]
                        ],
                        "type": "surface"
                      }
                    ],
                    "table": [
                      {
                        "cells": {
                          "fill": {
                            "color": "#EBF0F8"
                          },
                          "line": {
                            "color": "white"
                          }
                        },
                        "header": {
                          "fill": {
                            "color": "#C8D4E3"
                          },
                          "line": {
                            "color": "white"
                          }
                        },
                        "type": "table"
                      }
                    ]
                  },
                  "layout": {
                    "annotationdefaults": {
                      "arrowcolor": "#2a3f5f",
                      "arrowhead": 0,
                      "arrowwidth": 1
                    },
                    "autotypenumbers": "strict",
                    "coloraxis": {
                      "colorbar": {
                        "outlinewidth": 0,
                        "ticks": ""
                      }
                    },
                    "colorscale": {
                      "diverging": [
                        [
                          0,
                          "#8e0152"
                        ],
                        [
                          0.1,
                          "#c51b7d"
                        ],
                        [
                          0.2,
                          "#de77ae"
                        ],
                        [
                          0.3,
                          "#f1b6da"
                        ],
                        [
                          0.4,
                          "#fde0ef"
                        ],
                        [
                          0.5,
                          "#f7f7f7"
                        ],
                        [
                          0.6,
                          "#e6f5d0"
                        ],
                        [
                          0.7,
                          "#b8e186"
                        ],
                        [
                          0.8,
                          "#7fbc41"
                        ],
                        [
                          0.9,
                          "#4d9221"
                        ],
                        [
                          1,
                          "#276419"
                        ]
                      ],
                      "sequential": [
                        [
                          0,
                          "#0d0887"
                        ],
                        [
                          0.1111111111111111,
                          "#46039f"
                        ],
                        [
                          0.2222222222222222,
                          "#7201a8"
                        ],
                        [
                          0.3333333333333333,
                          "#9c179e"
                        ],
                        [
                          0.4444444444444444,
                          "#bd3786"
                        ],
                        [
                          0.5555555555555556,
                          "#d8576b"
                        ],
                        [
                          0.6666666666666666,
                          "#ed7953"
                        ],
                        [
                          0.7777777777777778,
                          "#fb9f3a"
                        ],
                        [
                          0.8888888888888888,
                          "#fdca26"
                        ],
                        [
                          1,
                          "#f0f921"
                        ]
                      ],
                      "sequentialminus": [
                        [
                          0,
                          "#0d0887"
                        ],
                        [
                          0.1111111111111111,
                          "#46039f"
                        ],
                        [
                          0.2222222222222222,
                          "#7201a8"
                        ],
                        [
                          0.3333333333333333,
                          "#9c179e"
                        ],
                        [
                          0.4444444444444444,
                          "#bd3786"
                        ],
                        [
                          0.5555555555555556,
                          "#d8576b"
                        ],
                        [
                          0.6666666666666666,
                          "#ed7953"
                        ],
                        [
                          0.7777777777777778,
                          "#fb9f3a"
                        ],
                        [
                          0.8888888888888888,
                          "#fdca26"
                        ],
                        [
                          1,
                          "#f0f921"
                        ]
                      ]
                    },
                    "colorway": [
                      "#636efa",
                      "#EF553B",
                      "#00cc96",
                      "#ab63fa",
                      "#FFA15A",
                      "#19d3f3",
                      "#FF6692",
                      "#B6E880",
                      "#FF97FF",
                      "#FECB52"
                    ],
                    "font": {
                      "color": "#2a3f5f"
                    },
                    "geo": {
                      "bgcolor": "white",
                      "lakecolor": "white",
                      "landcolor": "#E5ECF6",
                      "showlakes": true,
                      "showland": true,
                      "subunitcolor": "white"
                    },
                    "hoverlabel": {
                      "align": "left"
                    },
                    "hovermode": "closest",
                    "mapbox": {
                      "style": "light"
                    },
                    "paper_bgcolor": "white",
                    "plot_bgcolor": "#E5ECF6",
                    "polar": {
                      "angularaxis": {
                        "gridcolor": "white",
                        "linecolor": "white",
                        "ticks": ""
                      },
                      "bgcolor": "#E5ECF6",
                      "radialaxis": {
                        "gridcolor": "white",
                        "linecolor": "white",
                        "ticks": ""
                      }
                    },
                    "scene": {
                      "xaxis": {
                        "backgroundcolor": "#E5ECF6",
                        "gridcolor": "white",
                        "gridwidth": 2,
                        "linecolor": "white",
                        "showbackground": true,
                        "ticks": "",
                        "zerolinecolor": "white"
                      },
                      "yaxis": {
                        "backgroundcolor": "#E5ECF6",
                        "gridcolor": "white",
                        "gridwidth": 2,
                        "linecolor": "white",
                        "showbackground": true,
                        "ticks": "",
                        "zerolinecolor": "white"
                      },
                      "zaxis": {
                        "backgroundcolor": "#E5ECF6",
                        "gridcolor": "white",
                        "gridwidth": 2,
                        "linecolor": "white",
                        "showbackground": true,
                        "ticks": "",
                        "zerolinecolor": "white"
                      }
                    },
                    "shapedefaults": {
                      "line": {
                        "color": "#2a3f5f"
                      }
                    },
                    "ternary": {
                      "aaxis": {
                        "gridcolor": "white",
                        "linecolor": "white",
                        "ticks": ""
                      },
                      "baxis": {
                        "gridcolor": "white",
                        "linecolor": "white",
                        "ticks": ""
                      },
                      "bgcolor": "#E5ECF6",
                      "caxis": {
                        "gridcolor": "white",
                        "linecolor": "white",
                        "ticks": ""
                      }
                    },
                    "title": {
                      "x": 0.05
                    },
                    "xaxis": {
                      "automargin": true,
                      "gridcolor": "white",
                      "linecolor": "white",
                      "ticks": "",
                      "title": {
                        "standoff": 15
                      },
                      "zerolinecolor": "white",
                      "zerolinewidth": 2
                    },
                    "yaxis": {
                      "automargin": true,
                      "gridcolor": "white",
                      "linecolor": "white",
                      "ticks": "",
                      "title": {
                        "standoff": 15
                      },
                      "zerolinecolor": "white",
                      "zerolinewidth": 2
                    }
                  }
                },
                "title": {
                  "text": "Crime Rates by Region"
                },
                "width": 1400,
                "xaxis": {
                  "anchor": "y",
                  "domain": [
                    0,
                    0.45
                  ]
                },
                "xaxis2": {
                  "anchor": "y2",
                  "domain": [
                    0.55,
                    1
                  ]
                },
                "yaxis": {
                  "anchor": "x",
                  "domain": [
                    0,
                    1
                  ]
                },
                "yaxis2": {
                  "anchor": "x2",
                  "domain": [
                    0,
                    1
                  ]
                }
              }
            },
            "text/html": [
              "<div>                            <div id=\"ac153b79-cf40-4e51-a0b6-3a0d8e67f52b\" class=\"plotly-graph-div\" style=\"height:900px; width:1400px;\"></div>            <script type=\"text/javascript\">                require([\"plotly\"], function(Plotly) {                    window.PLOTLYENV=window.PLOTLYENV || {};                                    if (document.getElementById(\"ac153b79-cf40-4e51-a0b6-3a0d8e67f52b\")) {                    Plotly.newPlot(                        \"ac153b79-cf40-4e51-a0b6-3a0d8e67f52b\",                        [{\"marker\":{\"size\":10},\"mode\":\"markers\",\"name\":\"Violent Crime Rate\",\"x\":[1987.49,2083.4,2218.24,2220.67,2758.22,3332.52,3567.87,3612.23,3654.02,3815.23,3836.39,3985.95,4037.27,4360.93,4381.65,4443.2,4750.89,4966.5,5104.96,5252.08,5565.95,5727.52,5768.18,5775.23,5911.99,5997.0,6206.38,6239.99,6309.55,6538.45,6726.82,6917.4,6997.68,8188.31],\"xaxis\":\"x\",\"y\":[\"New York\",\"Virginia Beach\",\"Tampa\",\"San Diego\",\"Boston\",\"Los Angeles\",\"Las Vegas\",\"Austin\",\"Sacramento\",\"Pittsburgh\",\"Charlotte\",\"Dallas-Fort Worth\",\"Philadelphia\",\"Denver\",\"Chicago\",\"Phoenix\",\"Miami\",\"Nashville\",\"Washington, DC\",\"Houston\",\"San Antonio\",\"Atlanta\",\"Minneapolis-St. Paul\",\"Indianapolis\",\"Seattle\",\"Cincinnati\",\"Orlando\",\"Portland\",\"Kansas City\",\"Cleveland\",\"Detroit\",\"San Francisco\",\"Baltimore\",\"St. Louis\"],\"yaxis\":\"y\",\"type\":\"scatter\"},{\"mode\":\"lines\",\"showlegend\":false,\"x\":[0,1987.49],\"xaxis\":\"x\",\"y\":[\"New York\",\"New York\"],\"yaxis\":\"y\",\"type\":\"scatter\"},{\"mode\":\"lines\",\"showlegend\":false,\"x\":[0,2083.4],\"xaxis\":\"x\",\"y\":[\"Virginia Beach\",\"Virginia Beach\"],\"yaxis\":\"y\",\"type\":\"scatter\"},{\"mode\":\"lines\",\"showlegend\":false,\"x\":[0,2218.24],\"xaxis\":\"x\",\"y\":[\"Tampa\",\"Tampa\"],\"yaxis\":\"y\",\"type\":\"scatter\"},{\"mode\":\"lines\",\"showlegend\":false,\"x\":[0,2220.67],\"xaxis\":\"x\",\"y\":[\"San Diego\",\"San Diego\"],\"yaxis\":\"y\",\"type\":\"scatter\"},{\"mode\":\"lines\",\"showlegend\":false,\"x\":[0,2758.22],\"xaxis\":\"x\",\"y\":[\"Boston\",\"Boston\"],\"yaxis\":\"y\",\"type\":\"scatter\"},{\"mode\":\"lines\",\"showlegend\":false,\"x\":[0,3332.52],\"xaxis\":\"x\",\"y\":[\"Los Angeles\",\"Los Angeles\"],\"yaxis\":\"y\",\"type\":\"scatter\"},{\"mode\":\"lines\",\"showlegend\":false,\"x\":[0,3567.87],\"xaxis\":\"x\",\"y\":[\"Las Vegas\",\"Las Vegas\"],\"yaxis\":\"y\",\"type\":\"scatter\"},{\"mode\":\"lines\",\"showlegend\":false,\"x\":[0,3612.23],\"xaxis\":\"x\",\"y\":[\"Austin\",\"Austin\"],\"yaxis\":\"y\",\"type\":\"scatter\"},{\"mode\":\"lines\",\"showlegend\":false,\"x\":[0,3654.02],\"xaxis\":\"x\",\"y\":[\"Sacramento\",\"Sacramento\"],\"yaxis\":\"y\",\"type\":\"scatter\"},{\"mode\":\"lines\",\"showlegend\":false,\"x\":[0,3815.23],\"xaxis\":\"x\",\"y\":[\"Pittsburgh\",\"Pittsburgh\"],\"yaxis\":\"y\",\"type\":\"scatter\"},{\"mode\":\"lines\",\"showlegend\":false,\"x\":[0,3836.39],\"xaxis\":\"x\",\"y\":[\"Charlotte\",\"Charlotte\"],\"yaxis\":\"y\",\"type\":\"scatter\"},{\"mode\":\"lines\",\"showlegend\":false,\"x\":[0,3985.95],\"xaxis\":\"x\",\"y\":[\"Dallas-Fort Worth\",\"Dallas-Fort Worth\"],\"yaxis\":\"y\",\"type\":\"scatter\"},{\"mode\":\"lines\",\"showlegend\":false,\"x\":[0,4037.27],\"xaxis\":\"x\",\"y\":[\"Philadelphia\",\"Philadelphia\"],\"yaxis\":\"y\",\"type\":\"scatter\"},{\"mode\":\"lines\",\"showlegend\":false,\"x\":[0,4360.93],\"xaxis\":\"x\",\"y\":[\"Denver\",\"Denver\"],\"yaxis\":\"y\",\"type\":\"scatter\"},{\"mode\":\"lines\",\"showlegend\":false,\"x\":[0,4381.65],\"xaxis\":\"x\",\"y\":[\"Chicago\",\"Chicago\"],\"yaxis\":\"y\",\"type\":\"scatter\"},{\"mode\":\"lines\",\"showlegend\":false,\"x\":[0,4443.2],\"xaxis\":\"x\",\"y\":[\"Phoenix\",\"Phoenix\"],\"yaxis\":\"y\",\"type\":\"scatter\"},{\"mode\":\"lines\",\"showlegend\":false,\"x\":[0,4750.89],\"xaxis\":\"x\",\"y\":[\"Miami\",\"Miami\"],\"yaxis\":\"y\",\"type\":\"scatter\"},{\"mode\":\"lines\",\"showlegend\":false,\"x\":[0,4966.5],\"xaxis\":\"x\",\"y\":[\"Nashville\",\"Nashville\"],\"yaxis\":\"y\",\"type\":\"scatter\"},{\"mode\":\"lines\",\"showlegend\":false,\"x\":[0,5104.96],\"xaxis\":\"x\",\"y\":[\"Washington, DC\",\"Washington, DC\"],\"yaxis\":\"y\",\"type\":\"scatter\"},{\"mode\":\"lines\",\"showlegend\":false,\"x\":[0,5252.08],\"xaxis\":\"x\",\"y\":[\"Houston\",\"Houston\"],\"yaxis\":\"y\",\"type\":\"scatter\"},{\"mode\":\"lines\",\"showlegend\":false,\"x\":[0,5565.95],\"xaxis\":\"x\",\"y\":[\"San Antonio\",\"San Antonio\"],\"yaxis\":\"y\",\"type\":\"scatter\"},{\"mode\":\"lines\",\"showlegend\":false,\"x\":[0,5727.52],\"xaxis\":\"x\",\"y\":[\"Atlanta\",\"Atlanta\"],\"yaxis\":\"y\",\"type\":\"scatter\"},{\"mode\":\"lines\",\"showlegend\":false,\"x\":[0,5768.18],\"xaxis\":\"x\",\"y\":[\"Minneapolis-St. Paul\",\"Minneapolis-St. Paul\"],\"yaxis\":\"y\",\"type\":\"scatter\"},{\"mode\":\"lines\",\"showlegend\":false,\"x\":[0,5775.23],\"xaxis\":\"x\",\"y\":[\"Indianapolis\",\"Indianapolis\"],\"yaxis\":\"y\",\"type\":\"scatter\"},{\"mode\":\"lines\",\"showlegend\":false,\"x\":[0,5911.99],\"xaxis\":\"x\",\"y\":[\"Seattle\",\"Seattle\"],\"yaxis\":\"y\",\"type\":\"scatter\"},{\"mode\":\"lines\",\"showlegend\":false,\"x\":[0,5997.0],\"xaxis\":\"x\",\"y\":[\"Cincinnati\",\"Cincinnati\"],\"yaxis\":\"y\",\"type\":\"scatter\"},{\"mode\":\"lines\",\"showlegend\":false,\"x\":[0,6206.38],\"xaxis\":\"x\",\"y\":[\"Orlando\",\"Orlando\"],\"yaxis\":\"y\",\"type\":\"scatter\"},{\"mode\":\"lines\",\"showlegend\":false,\"x\":[0,6239.99],\"xaxis\":\"x\",\"y\":[\"Portland\",\"Portland\"],\"yaxis\":\"y\",\"type\":\"scatter\"},{\"mode\":\"lines\",\"showlegend\":false,\"x\":[0,6309.55],\"xaxis\":\"x\",\"y\":[\"Kansas City\",\"Kansas City\"],\"yaxis\":\"y\",\"type\":\"scatter\"},{\"mode\":\"lines\",\"showlegend\":false,\"x\":[0,6538.45],\"xaxis\":\"x\",\"y\":[\"Cleveland\",\"Cleveland\"],\"yaxis\":\"y\",\"type\":\"scatter\"},{\"mode\":\"lines\",\"showlegend\":false,\"x\":[0,6726.82],\"xaxis\":\"x\",\"y\":[\"Detroit\",\"Detroit\"],\"yaxis\":\"y\",\"type\":\"scatter\"},{\"mode\":\"lines\",\"showlegend\":false,\"x\":[0,6917.4],\"xaxis\":\"x\",\"y\":[\"San Francisco\",\"San Francisco\"],\"yaxis\":\"y\",\"type\":\"scatter\"},{\"mode\":\"lines\",\"showlegend\":false,\"x\":[0,6997.68],\"xaxis\":\"x\",\"y\":[\"Baltimore\",\"Baltimore\"],\"yaxis\":\"y\",\"type\":\"scatter\"},{\"mode\":\"lines\",\"showlegend\":false,\"x\":[0,8188.31],\"xaxis\":\"x\",\"y\":[\"St. Louis\",\"St. Louis\"],\"yaxis\":\"y\",\"type\":\"scatter\"},{\"marker\":{\"size\":10},\"mode\":\"markers\",\"name\":\"Non-Violent Crime Rate\",\"x\":[1448.59,1743.68,1842.97,1934.62,2089.02,2535.92,2936.62,2943.38,3063.48,3114.42,3185.09,3189.57,3263.8,3667.06,3670.71,3815.18,3817.96,4014.18,4128.41,4156.22,4411.87,4540.6,4543.79,4641.37,4776.43,4844.84,4916.04,4928.11,5049.88,5258.64,5454.57,5677.02,6041.24,6168.02],\"xaxis\":\"x2\",\"y\":[\"New York\",\"Tampa\",\"San Diego\",\"Virginia Beach\",\"Boston\",\"Los Angeles\",\"Sacramento\",\"Las Vegas\",\"Philadelphia\",\"Pittsburgh\",\"Dallas-Fort Worth\",\"Austin\",\"Chicago\",\"Denver\",\"Phoenix\",\"Charlotte\",\"Nashville\",\"Miami\",\"Houston\",\"Washington, DC\",\"Indianapolis\",\"Detroit\",\"Kansas City\",\"Minneapolis-St. Paul\",\"Atlanta\",\"San Antonio\",\"Cleveland\",\"Baltimore\",\"Cincinnati\",\"Seattle\",\"Orlando\",\"Portland\",\"St. Louis\",\"San Francisco\"],\"yaxis\":\"y2\",\"type\":\"scatter\"},{\"mode\":\"lines\",\"showlegend\":false,\"x\":[0,1448.59],\"xaxis\":\"x2\",\"y\":[\"New York\",\"New York\"],\"yaxis\":\"y2\",\"type\":\"scatter\"},{\"mode\":\"lines\",\"showlegend\":false,\"x\":[0,1743.68],\"xaxis\":\"x2\",\"y\":[\"Tampa\",\"Tampa\"],\"yaxis\":\"y2\",\"type\":\"scatter\"},{\"mode\":\"lines\",\"showlegend\":false,\"x\":[0,1842.97],\"xaxis\":\"x2\",\"y\":[\"San Diego\",\"San Diego\"],\"yaxis\":\"y2\",\"type\":\"scatter\"},{\"mode\":\"lines\",\"showlegend\":false,\"x\":[0,1934.62],\"xaxis\":\"x2\",\"y\":[\"Virginia Beach\",\"Virginia Beach\"],\"yaxis\":\"y2\",\"type\":\"scatter\"},{\"mode\":\"lines\",\"showlegend\":false,\"x\":[0,2089.02],\"xaxis\":\"x2\",\"y\":[\"Boston\",\"Boston\"],\"yaxis\":\"y2\",\"type\":\"scatter\"},{\"mode\":\"lines\",\"showlegend\":false,\"x\":[0,2535.92],\"xaxis\":\"x2\",\"y\":[\"Los Angeles\",\"Los Angeles\"],\"yaxis\":\"y2\",\"type\":\"scatter\"},{\"mode\":\"lines\",\"showlegend\":false,\"x\":[0,2936.62],\"xaxis\":\"x2\",\"y\":[\"Sacramento\",\"Sacramento\"],\"yaxis\":\"y2\",\"type\":\"scatter\"},{\"mode\":\"lines\",\"showlegend\":false,\"x\":[0,2943.38],\"xaxis\":\"x2\",\"y\":[\"Las Vegas\",\"Las Vegas\"],\"yaxis\":\"y2\",\"type\":\"scatter\"},{\"mode\":\"lines\",\"showlegend\":false,\"x\":[0,3063.48],\"xaxis\":\"x2\",\"y\":[\"Philadelphia\",\"Philadelphia\"],\"yaxis\":\"y2\",\"type\":\"scatter\"},{\"mode\":\"lines\",\"showlegend\":false,\"x\":[0,3114.42],\"xaxis\":\"x2\",\"y\":[\"Pittsburgh\",\"Pittsburgh\"],\"yaxis\":\"y2\",\"type\":\"scatter\"},{\"mode\":\"lines\",\"showlegend\":false,\"x\":[0,3185.09],\"xaxis\":\"x2\",\"y\":[\"Dallas-Fort Worth\",\"Dallas-Fort Worth\"],\"yaxis\":\"y2\",\"type\":\"scatter\"},{\"mode\":\"lines\",\"showlegend\":false,\"x\":[0,3189.57],\"xaxis\":\"x2\",\"y\":[\"Austin\",\"Austin\"],\"yaxis\":\"y2\",\"type\":\"scatter\"},{\"mode\":\"lines\",\"showlegend\":false,\"x\":[0,3263.8],\"xaxis\":\"x2\",\"y\":[\"Chicago\",\"Chicago\"],\"yaxis\":\"y2\",\"type\":\"scatter\"},{\"mode\":\"lines\",\"showlegend\":false,\"x\":[0,3667.06],\"xaxis\":\"x2\",\"y\":[\"Denver\",\"Denver\"],\"yaxis\":\"y2\",\"type\":\"scatter\"},{\"mode\":\"lines\",\"showlegend\":false,\"x\":[0,3670.71],\"xaxis\":\"x2\",\"y\":[\"Phoenix\",\"Phoenix\"],\"yaxis\":\"y2\",\"type\":\"scatter\"},{\"mode\":\"lines\",\"showlegend\":false,\"x\":[0,3815.18],\"xaxis\":\"x2\",\"y\":[\"Charlotte\",\"Charlotte\"],\"yaxis\":\"y2\",\"type\":\"scatter\"},{\"mode\":\"lines\",\"showlegend\":false,\"x\":[0,3817.96],\"xaxis\":\"x2\",\"y\":[\"Nashville\",\"Nashville\"],\"yaxis\":\"y2\",\"type\":\"scatter\"},{\"mode\":\"lines\",\"showlegend\":false,\"x\":[0,4014.18],\"xaxis\":\"x2\",\"y\":[\"Miami\",\"Miami\"],\"yaxis\":\"y2\",\"type\":\"scatter\"},{\"mode\":\"lines\",\"showlegend\":false,\"x\":[0,4128.41],\"xaxis\":\"x2\",\"y\":[\"Houston\",\"Houston\"],\"yaxis\":\"y2\",\"type\":\"scatter\"},{\"mode\":\"lines\",\"showlegend\":false,\"x\":[0,4156.22],\"xaxis\":\"x2\",\"y\":[\"Washington, DC\",\"Washington, DC\"],\"yaxis\":\"y2\",\"type\":\"scatter\"},{\"mode\":\"lines\",\"showlegend\":false,\"x\":[0,4411.87],\"xaxis\":\"x2\",\"y\":[\"Indianapolis\",\"Indianapolis\"],\"yaxis\":\"y2\",\"type\":\"scatter\"},{\"mode\":\"lines\",\"showlegend\":false,\"x\":[0,4540.6],\"xaxis\":\"x2\",\"y\":[\"Detroit\",\"Detroit\"],\"yaxis\":\"y2\",\"type\":\"scatter\"},{\"mode\":\"lines\",\"showlegend\":false,\"x\":[0,4543.79],\"xaxis\":\"x2\",\"y\":[\"Kansas City\",\"Kansas City\"],\"yaxis\":\"y2\",\"type\":\"scatter\"},{\"mode\":\"lines\",\"showlegend\":false,\"x\":[0,4641.37],\"xaxis\":\"x2\",\"y\":[\"Minneapolis-St. Paul\",\"Minneapolis-St. Paul\"],\"yaxis\":\"y2\",\"type\":\"scatter\"},{\"mode\":\"lines\",\"showlegend\":false,\"x\":[0,4776.43],\"xaxis\":\"x2\",\"y\":[\"Atlanta\",\"Atlanta\"],\"yaxis\":\"y2\",\"type\":\"scatter\"},{\"mode\":\"lines\",\"showlegend\":false,\"x\":[0,4844.84],\"xaxis\":\"x2\",\"y\":[\"San Antonio\",\"San Antonio\"],\"yaxis\":\"y2\",\"type\":\"scatter\"},{\"mode\":\"lines\",\"showlegend\":false,\"x\":[0,4916.04],\"xaxis\":\"x2\",\"y\":[\"Cleveland\",\"Cleveland\"],\"yaxis\":\"y2\",\"type\":\"scatter\"},{\"mode\":\"lines\",\"showlegend\":false,\"x\":[0,4928.11],\"xaxis\":\"x2\",\"y\":[\"Baltimore\",\"Baltimore\"],\"yaxis\":\"y2\",\"type\":\"scatter\"},{\"mode\":\"lines\",\"showlegend\":false,\"x\":[0,5049.88],\"xaxis\":\"x2\",\"y\":[\"Cincinnati\",\"Cincinnati\"],\"yaxis\":\"y2\",\"type\":\"scatter\"},{\"mode\":\"lines\",\"showlegend\":false,\"x\":[0,5258.64],\"xaxis\":\"x2\",\"y\":[\"Seattle\",\"Seattle\"],\"yaxis\":\"y2\",\"type\":\"scatter\"},{\"mode\":\"lines\",\"showlegend\":false,\"x\":[0,5454.57],\"xaxis\":\"x2\",\"y\":[\"Orlando\",\"Orlando\"],\"yaxis\":\"y2\",\"type\":\"scatter\"},{\"mode\":\"lines\",\"showlegend\":false,\"x\":[0,5677.02],\"xaxis\":\"x2\",\"y\":[\"Portland\",\"Portland\"],\"yaxis\":\"y2\",\"type\":\"scatter\"},{\"mode\":\"lines\",\"showlegend\":false,\"x\":[0,6041.24],\"xaxis\":\"x2\",\"y\":[\"St. Louis\",\"St. Louis\"],\"yaxis\":\"y2\",\"type\":\"scatter\"},{\"mode\":\"lines\",\"showlegend\":false,\"x\":[0,6168.02],\"xaxis\":\"x2\",\"y\":[\"San Francisco\",\"San Francisco\"],\"yaxis\":\"y2\",\"type\":\"scatter\"}],                        {\"annotations\":[{\"font\":{\"size\":16},\"showarrow\":false,\"text\":\"Violent Crime Rate (per 100k)\",\"x\":0.225,\"xanchor\":\"center\",\"xref\":\"paper\",\"y\":1.0,\"yanchor\":\"bottom\",\"yref\":\"paper\"},{\"font\":{\"size\":16},\"showarrow\":false,\"text\":\"Non-Violent Crime Rate (per 100k)\",\"x\":0.775,\"xanchor\":\"center\",\"xref\":\"paper\",\"y\":1.0,\"yanchor\":\"bottom\",\"yref\":\"paper\"}],\"height\":900,\"showlegend\":false,\"template\":{\"data\":{\"barpolar\":[{\"marker\":{\"line\":{\"color\":\"#E5ECF6\",\"width\":0.5},\"pattern\":{\"fillmode\":\"overlay\",\"size\":10,\"solidity\":0.2}},\"type\":\"barpolar\"}],\"bar\":[{\"error_x\":{\"color\":\"#2a3f5f\"},\"error_y\":{\"color\":\"#2a3f5f\"},\"marker\":{\"line\":{\"color\":\"#E5ECF6\",\"width\":0.5},\"pattern\":{\"fillmode\":\"overlay\",\"size\":10,\"solidity\":0.2}},\"type\":\"bar\"}],\"carpet\":[{\"aaxis\":{\"endlinecolor\":\"#2a3f5f\",\"gridcolor\":\"white\",\"linecolor\":\"white\",\"minorgridcolor\":\"white\",\"startlinecolor\":\"#2a3f5f\"},\"baxis\":{\"endlinecolor\":\"#2a3f5f\",\"gridcolor\":\"white\",\"linecolor\":\"white\",\"minorgridcolor\":\"white\",\"startlinecolor\":\"#2a3f5f\"},\"type\":\"carpet\"}],\"choropleth\":[{\"colorbar\":{\"outlinewidth\":0,\"ticks\":\"\"},\"type\":\"choropleth\"}],\"contourcarpet\":[{\"colorbar\":{\"outlinewidth\":0,\"ticks\":\"\"},\"type\":\"contourcarpet\"}],\"contour\":[{\"colorbar\":{\"outlinewidth\":0,\"ticks\":\"\"},\"colorscale\":[[0.0,\"#0d0887\"],[0.1111111111111111,\"#46039f\"],[0.2222222222222222,\"#7201a8\"],[0.3333333333333333,\"#9c179e\"],[0.4444444444444444,\"#bd3786\"],[0.5555555555555556,\"#d8576b\"],[0.6666666666666666,\"#ed7953\"],[0.7777777777777778,\"#fb9f3a\"],[0.8888888888888888,\"#fdca26\"],[1.0,\"#f0f921\"]],\"type\":\"contour\"}],\"heatmapgl\":[{\"colorbar\":{\"outlinewidth\":0,\"ticks\":\"\"},\"colorscale\":[[0.0,\"#0d0887\"],[0.1111111111111111,\"#46039f\"],[0.2222222222222222,\"#7201a8\"],[0.3333333333333333,\"#9c179e\"],[0.4444444444444444,\"#bd3786\"],[0.5555555555555556,\"#d8576b\"],[0.6666666666666666,\"#ed7953\"],[0.7777777777777778,\"#fb9f3a\"],[0.8888888888888888,\"#fdca26\"],[1.0,\"#f0f921\"]],\"type\":\"heatmapgl\"}],\"heatmap\":[{\"colorbar\":{\"outlinewidth\":0,\"ticks\":\"\"},\"colorscale\":[[0.0,\"#0d0887\"],[0.1111111111111111,\"#46039f\"],[0.2222222222222222,\"#7201a8\"],[0.3333333333333333,\"#9c179e\"],[0.4444444444444444,\"#bd3786\"],[0.5555555555555556,\"#d8576b\"],[0.6666666666666666,\"#ed7953\"],[0.7777777777777778,\"#fb9f3a\"],[0.8888888888888888,\"#fdca26\"],[1.0,\"#f0f921\"]],\"type\":\"heatmap\"}],\"histogram2dcontour\":[{\"colorbar\":{\"outlinewidth\":0,\"ticks\":\"\"},\"colorscale\":[[0.0,\"#0d0887\"],[0.1111111111111111,\"#46039f\"],[0.2222222222222222,\"#7201a8\"],[0.3333333333333333,\"#9c179e\"],[0.4444444444444444,\"#bd3786\"],[0.5555555555555556,\"#d8576b\"],[0.6666666666666666,\"#ed7953\"],[0.7777777777777778,\"#fb9f3a\"],[0.8888888888888888,\"#fdca26\"],[1.0,\"#f0f921\"]],\"type\":\"histogram2dcontour\"}],\"histogram2d\":[{\"colorbar\":{\"outlinewidth\":0,\"ticks\":\"\"},\"colorscale\":[[0.0,\"#0d0887\"],[0.1111111111111111,\"#46039f\"],[0.2222222222222222,\"#7201a8\"],[0.3333333333333333,\"#9c179e\"],[0.4444444444444444,\"#bd3786\"],[0.5555555555555556,\"#d8576b\"],[0.6666666666666666,\"#ed7953\"],[0.7777777777777778,\"#fb9f3a\"],[0.8888888888888888,\"#fdca26\"],[1.0,\"#f0f921\"]],\"type\":\"histogram2d\"}],\"histogram\":[{\"marker\":{\"pattern\":{\"fillmode\":\"overlay\",\"size\":10,\"solidity\":0.2}},\"type\":\"histogram\"}],\"mesh3d\":[{\"colorbar\":{\"outlinewidth\":0,\"ticks\":\"\"},\"type\":\"mesh3d\"}],\"parcoords\":[{\"line\":{\"colorbar\":{\"outlinewidth\":0,\"ticks\":\"\"}},\"type\":\"parcoords\"}],\"pie\":[{\"automargin\":true,\"type\":\"pie\"}],\"scatter3d\":[{\"line\":{\"colorbar\":{\"outlinewidth\":0,\"ticks\":\"\"}},\"marker\":{\"colorbar\":{\"outlinewidth\":0,\"ticks\":\"\"}},\"type\":\"scatter3d\"}],\"scattercarpet\":[{\"marker\":{\"colorbar\":{\"outlinewidth\":0,\"ticks\":\"\"}},\"type\":\"scattercarpet\"}],\"scattergeo\":[{\"marker\":{\"colorbar\":{\"outlinewidth\":0,\"ticks\":\"\"}},\"type\":\"scattergeo\"}],\"scattergl\":[{\"marker\":{\"colorbar\":{\"outlinewidth\":0,\"ticks\":\"\"}},\"type\":\"scattergl\"}],\"scattermapbox\":[{\"marker\":{\"colorbar\":{\"outlinewidth\":0,\"ticks\":\"\"}},\"type\":\"scattermapbox\"}],\"scatterpolargl\":[{\"marker\":{\"colorbar\":{\"outlinewidth\":0,\"ticks\":\"\"}},\"type\":\"scatterpolargl\"}],\"scatterpolar\":[{\"marker\":{\"colorbar\":{\"outlinewidth\":0,\"ticks\":\"\"}},\"type\":\"scatterpolar\"}],\"scatter\":[{\"fillpattern\":{\"fillmode\":\"overlay\",\"size\":10,\"solidity\":0.2},\"type\":\"scatter\"}],\"scatterternary\":[{\"marker\":{\"colorbar\":{\"outlinewidth\":0,\"ticks\":\"\"}},\"type\":\"scatterternary\"}],\"surface\":[{\"colorbar\":{\"outlinewidth\":0,\"ticks\":\"\"},\"colorscale\":[[0.0,\"#0d0887\"],[0.1111111111111111,\"#46039f\"],[0.2222222222222222,\"#7201a8\"],[0.3333333333333333,\"#9c179e\"],[0.4444444444444444,\"#bd3786\"],[0.5555555555555556,\"#d8576b\"],[0.6666666666666666,\"#ed7953\"],[0.7777777777777778,\"#fb9f3a\"],[0.8888888888888888,\"#fdca26\"],[1.0,\"#f0f921\"]],\"type\":\"surface\"}],\"table\":[{\"cells\":{\"fill\":{\"color\":\"#EBF0F8\"},\"line\":{\"color\":\"white\"}},\"header\":{\"fill\":{\"color\":\"#C8D4E3\"},\"line\":{\"color\":\"white\"}},\"type\":\"table\"}]},\"layout\":{\"annotationdefaults\":{\"arrowcolor\":\"#2a3f5f\",\"arrowhead\":0,\"arrowwidth\":1},\"autotypenumbers\":\"strict\",\"coloraxis\":{\"colorbar\":{\"outlinewidth\":0,\"ticks\":\"\"}},\"colorscale\":{\"diverging\":[[0,\"#8e0152\"],[0.1,\"#c51b7d\"],[0.2,\"#de77ae\"],[0.3,\"#f1b6da\"],[0.4,\"#fde0ef\"],[0.5,\"#f7f7f7\"],[0.6,\"#e6f5d0\"],[0.7,\"#b8e186\"],[0.8,\"#7fbc41\"],[0.9,\"#4d9221\"],[1,\"#276419\"]],\"sequential\":[[0.0,\"#0d0887\"],[0.1111111111111111,\"#46039f\"],[0.2222222222222222,\"#7201a8\"],[0.3333333333333333,\"#9c179e\"],[0.4444444444444444,\"#bd3786\"],[0.5555555555555556,\"#d8576b\"],[0.6666666666666666,\"#ed7953\"],[0.7777777777777778,\"#fb9f3a\"],[0.8888888888888888,\"#fdca26\"],[1.0,\"#f0f921\"]],\"sequentialminus\":[[0.0,\"#0d0887\"],[0.1111111111111111,\"#46039f\"],[0.2222222222222222,\"#7201a8\"],[0.3333333333333333,\"#9c179e\"],[0.4444444444444444,\"#bd3786\"],[0.5555555555555556,\"#d8576b\"],[0.6666666666666666,\"#ed7953\"],[0.7777777777777778,\"#fb9f3a\"],[0.8888888888888888,\"#fdca26\"],[1.0,\"#f0f921\"]]},\"colorway\":[\"#636efa\",\"#EF553B\",\"#00cc96\",\"#ab63fa\",\"#FFA15A\",\"#19d3f3\",\"#FF6692\",\"#B6E880\",\"#FF97FF\",\"#FECB52\"],\"font\":{\"color\":\"#2a3f5f\"},\"geo\":{\"bgcolor\":\"white\",\"lakecolor\":\"white\",\"landcolor\":\"#E5ECF6\",\"showlakes\":true,\"showland\":true,\"subunitcolor\":\"white\"},\"hoverlabel\":{\"align\":\"left\"},\"hovermode\":\"closest\",\"mapbox\":{\"style\":\"light\"},\"paper_bgcolor\":\"white\",\"plot_bgcolor\":\"#E5ECF6\",\"polar\":{\"angularaxis\":{\"gridcolor\":\"white\",\"linecolor\":\"white\",\"ticks\":\"\"},\"bgcolor\":\"#E5ECF6\",\"radialaxis\":{\"gridcolor\":\"white\",\"linecolor\":\"white\",\"ticks\":\"\"}},\"scene\":{\"xaxis\":{\"backgroundcolor\":\"#E5ECF6\",\"gridcolor\":\"white\",\"gridwidth\":2,\"linecolor\":\"white\",\"showbackground\":true,\"ticks\":\"\",\"zerolinecolor\":\"white\"},\"yaxis\":{\"backgroundcolor\":\"#E5ECF6\",\"gridcolor\":\"white\",\"gridwidth\":2,\"linecolor\":\"white\",\"showbackground\":true,\"ticks\":\"\",\"zerolinecolor\":\"white\"},\"zaxis\":{\"backgroundcolor\":\"#E5ECF6\",\"gridcolor\":\"white\",\"gridwidth\":2,\"linecolor\":\"white\",\"showbackground\":true,\"ticks\":\"\",\"zerolinecolor\":\"white\"}},\"shapedefaults\":{\"line\":{\"color\":\"#2a3f5f\"}},\"ternary\":{\"aaxis\":{\"gridcolor\":\"white\",\"linecolor\":\"white\",\"ticks\":\"\"},\"baxis\":{\"gridcolor\":\"white\",\"linecolor\":\"white\",\"ticks\":\"\"},\"bgcolor\":\"#E5ECF6\",\"caxis\":{\"gridcolor\":\"white\",\"linecolor\":\"white\",\"ticks\":\"\"}},\"title\":{\"x\":0.05},\"xaxis\":{\"automargin\":true,\"gridcolor\":\"white\",\"linecolor\":\"white\",\"ticks\":\"\",\"title\":{\"standoff\":15},\"zerolinecolor\":\"white\",\"zerolinewidth\":2},\"yaxis\":{\"automargin\":true,\"gridcolor\":\"white\",\"linecolor\":\"white\",\"ticks\":\"\",\"title\":{\"standoff\":15},\"zerolinecolor\":\"white\",\"zerolinewidth\":2}}},\"title\":{\"text\":\"Crime Rates by Region\"},\"width\":1400,\"xaxis\":{\"anchor\":\"y\",\"domain\":[0.0,0.45]},\"yaxis\":{\"anchor\":\"x\",\"domain\":[0.0,1.0]},\"xaxis2\":{\"anchor\":\"y2\",\"domain\":[0.55,1.0]},\"yaxis2\":{\"anchor\":\"x2\",\"domain\":[0.0,1.0]}},                        {\"responsive\": true}                    ).then(function(){\n",
              "                            \n",
              "var gd = document.getElementById('ac153b79-cf40-4e51-a0b6-3a0d8e67f52b');\n",
              "var x = new MutationObserver(function (mutations, observer) {{\n",
              "        var display = window.getComputedStyle(gd).display;\n",
              "        if (!display || display === 'none') {{\n",
              "            console.log([gd, 'removed!']);\n",
              "            Plotly.purge(gd);\n",
              "            observer.disconnect();\n",
              "        }}\n",
              "}});\n",
              "\n",
              "// Listen for the removal of the full notebook cells\n",
              "var notebookContainer = gd.closest('#notebook-container');\n",
              "if (notebookContainer) {{\n",
              "    x.observe(notebookContainer, {childList: true});\n",
              "}}\n",
              "\n",
              "// Listen for the clearing of the current output cell\n",
              "var outputEl = gd.closest('.output');\n",
              "if (outputEl) {{\n",
              "    x.observe(outputEl, {childList: true});\n",
              "}}\n",
              "\n",
              "                        })                };                });            </script>        </div>"
            ]
          },
          "metadata": {},
          "output_type": "display_data"
        }
      ],
      "source": [
        "# Sort the dfs\n",
        "df_sorted_violent = df.sort_values('Violent Crime Rate (per 100k)')\n",
        "df_sorted_non_violent = df.sort_values('Non-Violent Crime Rate (per 100k)')\n",
        "\n",
        "# Create a subplot with 1 row and 2 columns\n",
        "fig = make_subplots(rows=1, cols=2, subplot_titles=(\"Violent Crime Rate (per 100k)\", \"Non-Violent Crime Rate (per 100k)\"))\n",
        "\n",
        "# Add a lollipop chart for 'Violent Crime Rate (per 100k)' to the first column\n",
        "fig.add_trace(go.Scatter(y=df_sorted_violent['Region'], x=df_sorted_violent['Violent Crime Rate (per 100k)'], mode='markers', name='Violent Crime Rate', marker=dict(size=10)), row=1, col=1)\n",
        "\n",
        "# Add a line for each point\n",
        "for i in range(len(df_sorted_violent)):\n",
        "    fig.add_trace(go.Scatter(y=[df_sorted_violent['Region'].iloc[i], df_sorted_violent['Region'].iloc[i]], x=[0, df_sorted_violent['Violent Crime Rate (per 100k)'].iloc[i]], mode='lines', showlegend=False), row=1, col=1)\n",
        "\n",
        "# Add a lollipop chart for 'Non-Violent Crime Rate (per 100k)' to the second column\n",
        "fig.add_trace(go.Scatter(y=df_sorted_non_violent['Region'], x=df_sorted_non_violent['Non-Violent Crime Rate (per 100k)'], mode='markers', name='Non-Violent Crime Rate', marker=dict(size=10)), row=1, col=2)\n",
        "\n",
        "# Add a line for each point\n",
        "for i in range(len(df_sorted_non_violent)):\n",
        "    fig.add_trace(go.Scatter(y=[df_sorted_non_violent['Region'].iloc[i], df_sorted_non_violent['Region'].iloc[i]], x=[0, df_sorted_non_violent['Non-Violent Crime Rate (per 100k)'].iloc[i]], mode='lines', showlegend=False), row=1, col=2)\n",
        "\n",
        "\n",
        "fig.update_layout(title_text=\"Crime Rates by Region\", width=1400, height=900, showlegend=False)\n",
        "\n",
        "iplot(fig)"
      ]
    }
  ],
  "metadata": {
    "kernelspec": {
      "display_name": "Python 3 (ipykernel)",
      "language": "python",
      "name": "python3"
    },
    "language_info": {
      "codemirror_mode": {
        "name": "ipython",
        "version": 3
      },
      "file_extension": ".py",
      "mimetype": "text/x-python",
      "name": "python",
      "nbconvert_exporter": "python",
      "pygments_lexer": "ipython3",
      "version": "3.11.5"
    }
  },
  "nbformat": 4,
  "nbformat_minor": 5
}
