{
 "cells": [
  {
   "cell_type": "markdown",
   "metadata": {},
   "source": [
    "---\n",
    "title: \"Leave No Trace\"\n",
    "format:\n",
    "    html:\n",
    "        link-external-icon: true\n",
    "        embed-resources: true\n",
    "bibliography: ./reference.bib\n",
    "---"
   ]
  },
  {
   "cell_type": "code",
   "execution_count": 1,
   "metadata": {},
   "outputs": [],
   "source": [
    "#| echo: false\n",
    "#import libraries\n",
    "import pandas as pd\n",
    "import warnings\n",
    "import plotly.express as px\n",
    "import plotly.io as pio\n",
    "import plotly.graph_objects as go\n",
    "import numpy as np\n",
    "from scipy.interpolate import griddata\n",
    "\n",
    "#remove warnings\n",
    "warnings.filterwarnings('ignore')\n",
    "\n",
    "#import data\n",
    "df = pd.read_csv('../data/data.csv', dtype={'RCP': 'category'})\n",
    "\n",
    "#set plotly theme\n",
    "pio.templates.default = 'none'\n",
    "#setting to render plotly in notebook\n",
    "pio.renderers.default = \"notebook\""
   ]
  },
  {
   "cell_type": "markdown",
   "metadata": {},
   "source": [
    "Many hikers, campers, and other outdoor enthusiasts know the saying, \"Leave No Trace\". The National Park Service publishes websites and physical cards explaining the principles of Leave No Trace [-@no_trace]. The seven principles are:<br> \n",
    "&nbsp;&nbsp;&nbsp;&nbsp;&nbsp;&nbsp;- Plan Ahead and Prepare<br>\n",
    "&nbsp;&nbsp;&nbsp;&nbsp;&nbsp;&nbsp;- Travel and Camp on Durable Surfaces<br>\n",
    "&nbsp;&nbsp;&nbsp;&nbsp;&nbsp;&nbsp;- Dispose of Waste Properly<br>\n",
    "&nbsp;&nbsp;&nbsp;&nbsp;&nbsp;&nbsp;- Leave What You Find<br>\n",
    "&nbsp;&nbsp;&nbsp;&nbsp;&nbsp;&nbsp;- Minimize Campfire Impacts<br>\n",
    "&nbsp;&nbsp;&nbsp;&nbsp;&nbsp;&nbsp;- Respect Wildlife<br>\n",
    "&nbsp;&nbsp;&nbsp;&nbsp;&nbsp;&nbsp;- Be Considerate of Other Visitors<br>\n",
    "&nbsp;&nbsp;&nbsp;&nbsp;&nbsp;&nbsp;[-@no_trace]\n",
    "\n",
    "You can find more information about the principles [here](https://www.nps.gov/articles/leave-no-trace-seven-principles.htm). While everyone exploring national parks and nature should know them all, the idea is to leave things the way you found them and ensure others can enjoy natural spaces as you did after you left.\n",
    "\n",
    "Unfortunately, we live in a world where people affect change in areas beyond where they live and visit. Industry changes have impacted the climate and conditions on the other side of the world. We can no longer ensure that future generations will be able to enjoy the outdoors like we have without making some changes.  \n",
    "\n",
    "![Sipapu Bridge, NPS photo by Jacob W. Frannk [-@nb]](./images/sip.jpg)\n",
    "\n",
    "# Predicted Data\n",
    "\n",
    "This page uses data from predicted data. The projected data is split into two terms: near-term from 2021 to 2059 and long-term from 2060 to 2099. The near-term and long-term data were predicted using two Representative Concentration Pathways (RCPs) and twenty General Circulation Model (GCM) scenarios [-@meta]. The two RCPs are based on a medium mitigation and stabilization scenario, RCP4.5, and a high baseline, no-policy scenario, RCP8.5 [-@meta]. The twenty GCM scenarios are built based on models from SOILWAT2. You can find more information on the models [here](https://github.com/DrylandEcology/SOILWAT2). [-@soil]. The predicted data shown in the plots below are from the twenty GCMs are averaged together to give a single value for each observation for the RCP4.5 and RCP8.5 predictions.\n",
    "\n",
    "\n",
    "# Water Availability\n",
    "\n",
    "All life on Earth needs water to survive. In this section, we will compare annual precipitation and the amount of water available in the top 50 cm of soil. These two features should provide valuable insights into whether water is available to animals and plants in the area. \n",
    "\n",
    "## Precipitation"
   ]
  },
  {
   "cell_type": "code",
   "execution_count": null,
   "metadata": {},
   "outputs": [],
   "source": [
    "# annual rain fall\n"
   ]
  },
  {
   "cell_type": "markdown",
   "metadata": {},
   "source": [
    "## Soil Water"
   ]
  },
  {
   "cell_type": "code",
   "execution_count": null,
   "metadata": {},
   "outputs": [],
   "source": [
    "# seasonal swa50"
   ]
  },
  {
   "cell_type": "markdown",
   "metadata": {},
   "source": [
    "# temperature"
   ]
  },
  {
   "cell_type": "code",
   "execution_count": null,
   "metadata": {},
   "outputs": [],
   "source": [
    "# Mean Temperature"
   ]
  },
  {
   "cell_type": "code",
   "execution_count": null,
   "metadata": {},
   "outputs": [],
   "source": [
    "# Max summer Temerature"
   ]
  },
  {
   "cell_type": "markdown",
   "metadata": {},
   "source": [
    "# Conclusion"
   ]
  }
 ],
 "metadata": {
  "kernelspec": {
   "display_name": "DSAN",
   "language": "python",
   "name": "python3"
  },
  "language_info": {
   "codemirror_mode": {
    "name": "ipython",
    "version": 3
   },
   "file_extension": ".py",
   "mimetype": "text/x-python",
   "name": "python",
   "nbconvert_exporter": "python",
   "pygments_lexer": "ipython3",
   "version": "3.11.5"
  }
 },
 "nbformat": 4,
 "nbformat_minor": 2
}
