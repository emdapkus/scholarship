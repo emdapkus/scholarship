{
 "cells": [
  {
   "cell_type": "code",
   "execution_count": 39,
   "metadata": {},
   "outputs": [],
   "source": [
    "#import libraries\n",
    "import pandas as pd\n",
    "import numpy as np\n",
    "import seaborn as sns\n",
    "from matplotlib import pyplot as plt\n",
    "import warnings\n",
    "import plotly.express as px\n",
    "import plotly.io as pio\n",
    "\n",
    "#pandas settings\n",
    "pd.set_option(\"display.max_columns\", None)\n",
    "pd.set_option('display.max_rows', None)"
   ]
  },
  {
   "cell_type": "code",
   "execution_count": 40,
   "metadata": {},
   "outputs": [],
   "source": [
    "# import data\n",
    "df = pd.read_csv('../data/data.csv', dtype={'RCP': 'category'})"
   ]
  },
  {
   "cell_type": "code",
   "execution_count": 41,
   "metadata": {},
   "outputs": [
    {
     "name": "stdout",
     "output_type": "stream",
     "text": [
      "Number of unique values per column:\n",
      "Park                                 1\n",
      "long                                92\n",
      "lat                                 90\n",
      "veg                                  4\n",
      "year                               118\n",
      "TimePeriod                           3\n",
      "RCP                                  3\n",
      "scenario                            41\n",
      "treecanopy                          25\n",
      "Ann_Herb                             3\n",
      "Bare                                56\n",
      "Herb                                19\n",
      "Litter                              24\n",
      "Shrub                               34\n",
      "El                                 113\n",
      "Sa                                 113\n",
      "Cl                                 113\n",
      "RF                                 113\n",
      "RL                                 113\n",
      "Slope                              113\n",
      "E                                  113\n",
      "S                                  113\n",
      "T_P_Corr                         22343\n",
      "DrySoilDays_Winter_top50            89\n",
      "DrySoilDays_Spring_top50            89\n",
      "DrySoilDays_Summer_top50            93\n",
      "DrySoilDays_Fall_top50              92\n",
      "DrySoilDays_Winter_whole            85\n",
      "DrySoilDays_Spring_whole            88\n",
      "DrySoilDays_Summer_whole            93\n",
      "DrySoilDays_Fall_whole              92\n",
      "Evap_Winter                     343685\n",
      "Evap_Spring                     348713\n",
      "Evap_Summer                     349063\n",
      "Evap_Fall                       347236\n",
      "FrostDays_Winter                    90\n",
      "FrostDays_Spring                    54\n",
      "FrostDays_Summer                     2\n",
      "FrostDays_Fall                      41\n",
      "PET_Winter                      353652\n",
      "PET_Spring                      302026\n",
      "PET_Summer                      292669\n",
      "PET_Fall                        318552\n",
      "PPT_Winter                        1970\n",
      "PPT_Spring                        1641\n",
      "PPT_Summer                        2340\n",
      "PPT_Fall                          2460\n",
      "PPT_Annual                        5404\n",
      "SemiDryDuration_Annual_top50      3374\n",
      "SemiDryDuration_Annual_whole      3369\n",
      "SWA_Winter_top50                351506\n",
      "SWA_Spring_top50                352817\n",
      "SWA_Summer_top50                346948\n",
      "SWA_Fall_top50                  353256\n",
      "SWA_Winter_whole                354843\n",
      "SWA_Spring_whole                355863\n",
      "SWA_Summer_whole                351289\n",
      "SWA_Fall_whole                  354604\n",
      "T_Winter                         18238\n",
      "T_Spring                         17847\n",
      "T_Summer                         17721\n",
      "T_Fall                           17702\n",
      "T_Annual                         19150\n",
      "Tmax_Winter                       1695\n",
      "Tmax_Spring                       1807\n",
      "Tmax_Summer                       1645\n",
      "Tmax_Fall                         1604\n",
      "Tmin_Winter                       2169\n",
      "Tmin_Spring                       1671\n",
      "Tmin_Summer                       1693\n",
      "Tmin_Fall                         1576\n",
      "Transp_Winter                   353043\n",
      "Transp_Spring                   354324\n",
      "Transp_Summer                   353480\n",
      "Transp_Fall                     349640\n",
      "VWC_Winter_top50                325897\n",
      "VWC_Spring_top50                339951\n",
      "VWC_Summer_top50                350536\n",
      "VWC_Fall_top50                  340149\n",
      "VWC_Winter_whole                325720\n",
      "VWC_Spring_whole                340408\n",
      "VWC_Summer_whole                350135\n",
      "VWC_Fall_whole                  340248\n",
      "WetSoilDays_Winter_top50            92\n",
      "WetSoilDays_Spring_top50            93\n",
      "WetSoilDays_Summer_top50            93\n",
      "WetSoilDays_Fall_top50              92\n",
      "WetSoilDays_Winter_whole            92\n",
      "WetSoilDays_Spring_whole            93\n",
      "WetSoilDays_Summer_whole            93\n",
      "WetSoilDays_Fall_whole              92\n",
      "dtype: int64\n"
     ]
    }
   ],
   "source": [
    "unique_values_per_column = df.nunique()\n",
    "\n",
    "print(\"Number of unique values per column:\")\n",
    "print(unique_values_per_column)"
   ]
  },
  {
   "cell_type": "code",
   "execution_count": 42,
   "metadata": {},
   "outputs": [
    {
     "data": {
      "text/html": [
       "<div>\n",
       "<style scoped>\n",
       "    .dataframe tbody tr th:only-of-type {\n",
       "        vertical-align: middle;\n",
       "    }\n",
       "\n",
       "    .dataframe tbody tr th {\n",
       "        vertical-align: top;\n",
       "    }\n",
       "\n",
       "    .dataframe thead th {\n",
       "        text-align: right;\n",
       "    }\n",
       "</style>\n",
       "<table border=\"1\" class=\"dataframe\">\n",
       "  <thead>\n",
       "    <tr style=\"text-align: right;\">\n",
       "      <th></th>\n",
       "      <th>Park</th>\n",
       "      <th>long</th>\n",
       "      <th>lat</th>\n",
       "      <th>veg</th>\n",
       "      <th>year</th>\n",
       "      <th>TimePeriod</th>\n",
       "      <th>RCP</th>\n",
       "      <th>scenario</th>\n",
       "      <th>treecanopy</th>\n",
       "      <th>Ann_Herb</th>\n",
       "      <th>Bare</th>\n",
       "      <th>Herb</th>\n",
       "      <th>Litter</th>\n",
       "      <th>Shrub</th>\n",
       "      <th>El</th>\n",
       "      <th>Sa</th>\n",
       "      <th>Cl</th>\n",
       "      <th>RF</th>\n",
       "      <th>RL</th>\n",
       "      <th>Slope</th>\n",
       "      <th>E</th>\n",
       "      <th>S</th>\n",
       "      <th>T_P_Corr</th>\n",
       "      <th>DrySoilDays_Winter_top50</th>\n",
       "      <th>DrySoilDays_Spring_top50</th>\n",
       "      <th>DrySoilDays_Summer_top50</th>\n",
       "      <th>DrySoilDays_Fall_top50</th>\n",
       "      <th>DrySoilDays_Winter_whole</th>\n",
       "      <th>DrySoilDays_Spring_whole</th>\n",
       "      <th>DrySoilDays_Summer_whole</th>\n",
       "      <th>DrySoilDays_Fall_whole</th>\n",
       "      <th>Evap_Winter</th>\n",
       "      <th>Evap_Spring</th>\n",
       "      <th>Evap_Summer</th>\n",
       "      <th>Evap_Fall</th>\n",
       "      <th>FrostDays_Winter</th>\n",
       "      <th>FrostDays_Spring</th>\n",
       "      <th>FrostDays_Summer</th>\n",
       "      <th>FrostDays_Fall</th>\n",
       "      <th>PET_Winter</th>\n",
       "      <th>PET_Spring</th>\n",
       "      <th>PET_Summer</th>\n",
       "      <th>PET_Fall</th>\n",
       "      <th>PPT_Winter</th>\n",
       "      <th>PPT_Spring</th>\n",
       "      <th>PPT_Summer</th>\n",
       "      <th>PPT_Fall</th>\n",
       "      <th>PPT_Annual</th>\n",
       "      <th>SemiDryDuration_Annual_top50</th>\n",
       "      <th>SemiDryDuration_Annual_whole</th>\n",
       "      <th>SWA_Winter_top50</th>\n",
       "      <th>SWA_Spring_top50</th>\n",
       "      <th>SWA_Summer_top50</th>\n",
       "      <th>SWA_Fall_top50</th>\n",
       "      <th>SWA_Winter_whole</th>\n",
       "      <th>SWA_Spring_whole</th>\n",
       "      <th>SWA_Summer_whole</th>\n",
       "      <th>SWA_Fall_whole</th>\n",
       "      <th>T_Winter</th>\n",
       "      <th>T_Spring</th>\n",
       "      <th>T_Summer</th>\n",
       "      <th>T_Fall</th>\n",
       "      <th>T_Annual</th>\n",
       "      <th>Tmax_Winter</th>\n",
       "      <th>Tmax_Spring</th>\n",
       "      <th>Tmax_Summer</th>\n",
       "      <th>Tmax_Fall</th>\n",
       "      <th>Tmin_Winter</th>\n",
       "      <th>Tmin_Spring</th>\n",
       "      <th>Tmin_Summer</th>\n",
       "      <th>Tmin_Fall</th>\n",
       "      <th>Transp_Winter</th>\n",
       "      <th>Transp_Spring</th>\n",
       "      <th>Transp_Summer</th>\n",
       "      <th>Transp_Fall</th>\n",
       "      <th>VWC_Winter_top50</th>\n",
       "      <th>VWC_Spring_top50</th>\n",
       "      <th>VWC_Summer_top50</th>\n",
       "      <th>VWC_Fall_top50</th>\n",
       "      <th>VWC_Winter_whole</th>\n",
       "      <th>VWC_Spring_whole</th>\n",
       "      <th>VWC_Summer_whole</th>\n",
       "      <th>VWC_Fall_whole</th>\n",
       "      <th>WetSoilDays_Winter_top50</th>\n",
       "      <th>WetSoilDays_Spring_top50</th>\n",
       "      <th>WetSoilDays_Summer_top50</th>\n",
       "      <th>WetSoilDays_Fall_top50</th>\n",
       "      <th>WetSoilDays_Winter_whole</th>\n",
       "      <th>WetSoilDays_Spring_whole</th>\n",
       "      <th>WetSoilDays_Summer_whole</th>\n",
       "      <th>WetSoilDays_Fall_whole</th>\n",
       "    </tr>\n",
       "  </thead>\n",
       "  <tbody>\n",
       "    <tr>\n",
       "      <th>43758</th>\n",
       "      <td>NABR</td>\n",
       "      <td>-110.0341</td>\n",
       "      <td>37.60440</td>\n",
       "      <td>Grassland</td>\n",
       "      <td>2074</td>\n",
       "      <td>LT</td>\n",
       "      <td>4.5</td>\n",
       "      <td>sc34</td>\n",
       "      <td>15</td>\n",
       "      <td>0</td>\n",
       "      <td>58</td>\n",
       "      <td>9</td>\n",
       "      <td>10</td>\n",
       "      <td>15</td>\n",
       "      <td>1834.140</td>\n",
       "      <td>78.11364</td>\n",
       "      <td>7.928107</td>\n",
       "      <td>1.967486</td>\n",
       "      <td>32.03765</td>\n",
       "      <td>449.6723</td>\n",
       "      <td>-6871.4170</td>\n",
       "      <td>7171.555</td>\n",
       "      <td>0.632270</td>\n",
       "      <td>0.0</td>\n",
       "      <td>0.0</td>\n",
       "      <td>0.0</td>\n",
       "      <td>0.0</td>\n",
       "      <td>0.0</td>\n",
       "      <td>0.0</td>\n",
       "      <td>0.0</td>\n",
       "      <td>0.0</td>\n",
       "      <td>1.465510</td>\n",
       "      <td>4.449662</td>\n",
       "      <td>5.879717</td>\n",
       "      <td>3.623656</td>\n",
       "      <td>56.0</td>\n",
       "      <td>17.0</td>\n",
       "      <td>0.0</td>\n",
       "      <td>13.0</td>\n",
       "      <td>6.850220</td>\n",
       "      <td>33.87449</td>\n",
       "      <td>50.91388</td>\n",
       "      <td>22.11534</td>\n",
       "      <td>1.53</td>\n",
       "      <td>8.05</td>\n",
       "      <td>15.71</td>\n",
       "      <td>11.18</td>\n",
       "      <td>36.47</td>\n",
       "      <td>15.11111</td>\n",
       "      <td>15.11111</td>\n",
       "      <td>1.554769</td>\n",
       "      <td>0.316042</td>\n",
       "      <td>0.678955</td>\n",
       "      <td>0.917846</td>\n",
       "      <td>1.554769</td>\n",
       "      <td>0.316042</td>\n",
       "      <td>0.678955</td>\n",
       "      <td>0.917846</td>\n",
       "      <td>3.209389</td>\n",
       "      <td>12.22261</td>\n",
       "      <td>24.74440</td>\n",
       "      <td>14.85319</td>\n",
       "      <td>13.757397</td>\n",
       "      <td>18.30</td>\n",
       "      <td>33.86</td>\n",
       "      <td>37.49</td>\n",
       "      <td>32.99</td>\n",
       "      <td>-9.68</td>\n",
       "      <td>-4.82</td>\n",
       "      <td>6.91</td>\n",
       "      <td>-5.28</td>\n",
       "      <td>1.069377</td>\n",
       "      <td>3.723831</td>\n",
       "      <td>8.635639</td>\n",
       "      <td>2.772109</td>\n",
       "      <td>0.102869</td>\n",
       "      <td>0.060566</td>\n",
       "      <td>0.072953</td>\n",
       "      <td>0.081027</td>\n",
       "      <td>0.102869</td>\n",
       "      <td>0.060566</td>\n",
       "      <td>0.072953</td>\n",
       "      <td>0.081027</td>\n",
       "      <td>90.0</td>\n",
       "      <td>36.0</td>\n",
       "      <td>42.0</td>\n",
       "      <td>61.0</td>\n",
       "      <td>90.0</td>\n",
       "      <td>36.0</td>\n",
       "      <td>42.0</td>\n",
       "      <td>61.0</td>\n",
       "    </tr>\n",
       "    <tr>\n",
       "      <th>204446</th>\n",
       "      <td>NABR</td>\n",
       "      <td>-110.0022</td>\n",
       "      <td>37.57324</td>\n",
       "      <td>Woodland</td>\n",
       "      <td>2092</td>\n",
       "      <td>LT</td>\n",
       "      <td>8.5</td>\n",
       "      <td>sc52</td>\n",
       "      <td>19</td>\n",
       "      <td>0</td>\n",
       "      <td>54</td>\n",
       "      <td>10</td>\n",
       "      <td>8</td>\n",
       "      <td>17</td>\n",
       "      <td>1893.251</td>\n",
       "      <td>69.82050</td>\n",
       "      <td>10.078780</td>\n",
       "      <td>2.118338</td>\n",
       "      <td>50.63004</td>\n",
       "      <td>349.0782</td>\n",
       "      <td>-9453.6460</td>\n",
       "      <td>2989.556</td>\n",
       "      <td>0.085151</td>\n",
       "      <td>0.0</td>\n",
       "      <td>0.0</td>\n",
       "      <td>0.0</td>\n",
       "      <td>0.0</td>\n",
       "      <td>0.0</td>\n",
       "      <td>0.0</td>\n",
       "      <td>0.0</td>\n",
       "      <td>0.0</td>\n",
       "      <td>1.753797</td>\n",
       "      <td>2.282881</td>\n",
       "      <td>4.053939</td>\n",
       "      <td>5.531412</td>\n",
       "      <td>45.0</td>\n",
       "      <td>2.0</td>\n",
       "      <td>0.0</td>\n",
       "      <td>7.0</td>\n",
       "      <td>6.757124</td>\n",
       "      <td>36.91229</td>\n",
       "      <td>54.35601</td>\n",
       "      <td>22.94586</td>\n",
       "      <td>1.73</td>\n",
       "      <td>2.84</td>\n",
       "      <td>6.39</td>\n",
       "      <td>18.73</td>\n",
       "      <td>29.69</td>\n",
       "      <td>22.75000</td>\n",
       "      <td>22.75000</td>\n",
       "      <td>2.505142</td>\n",
       "      <td>0.304228</td>\n",
       "      <td>0.042683</td>\n",
       "      <td>1.845611</td>\n",
       "      <td>2.505142</td>\n",
       "      <td>0.304228</td>\n",
       "      <td>0.042683</td>\n",
       "      <td>1.845611</td>\n",
       "      <td>5.803681</td>\n",
       "      <td>16.62310</td>\n",
       "      <td>29.26913</td>\n",
       "      <td>18.44775</td>\n",
       "      <td>17.535915</td>\n",
       "      <td>19.42</td>\n",
       "      <td>38.10</td>\n",
       "      <td>42.73</td>\n",
       "      <td>36.70</td>\n",
       "      <td>-7.01</td>\n",
       "      <td>-3.12</td>\n",
       "      <td>12.04</td>\n",
       "      <td>-3.99</td>\n",
       "      <td>1.017045</td>\n",
       "      <td>1.801328</td>\n",
       "      <td>2.367548</td>\n",
       "      <td>2.372641</td>\n",
       "      <td>0.114475</td>\n",
       "      <td>0.068883</td>\n",
       "      <td>0.063660</td>\n",
       "      <td>0.100869</td>\n",
       "      <td>0.114475</td>\n",
       "      <td>0.068883</td>\n",
       "      <td>0.063660</td>\n",
       "      <td>0.100869</td>\n",
       "      <td>91.0</td>\n",
       "      <td>27.0</td>\n",
       "      <td>11.0</td>\n",
       "      <td>55.0</td>\n",
       "      <td>91.0</td>\n",
       "      <td>27.0</td>\n",
       "      <td>11.0</td>\n",
       "      <td>55.0</td>\n",
       "    </tr>\n",
       "    <tr>\n",
       "      <th>114613</th>\n",
       "      <td>NABR</td>\n",
       "      <td>-110.0218</td>\n",
       "      <td>37.59595</td>\n",
       "      <td>Shrubland</td>\n",
       "      <td>2086</td>\n",
       "      <td>LT</td>\n",
       "      <td>4.5</td>\n",
       "      <td>sc31</td>\n",
       "      <td>0</td>\n",
       "      <td>0</td>\n",
       "      <td>87</td>\n",
       "      <td>3</td>\n",
       "      <td>6</td>\n",
       "      <td>4</td>\n",
       "      <td>1830.649</td>\n",
       "      <td>76.78589</td>\n",
       "      <td>6.457736</td>\n",
       "      <td>2.401987</td>\n",
       "      <td>29.41275</td>\n",
       "      <td>1793.2040</td>\n",
       "      <td>-5207.4010</td>\n",
       "      <td>8528.921</td>\n",
       "      <td>0.386218</td>\n",
       "      <td>0.0</td>\n",
       "      <td>0.0</td>\n",
       "      <td>0.0</td>\n",
       "      <td>0.0</td>\n",
       "      <td>0.0</td>\n",
       "      <td>0.0</td>\n",
       "      <td>0.0</td>\n",
       "      <td>0.0</td>\n",
       "      <td>3.879666</td>\n",
       "      <td>2.904118</td>\n",
       "      <td>5.524690</td>\n",
       "      <td>4.043060</td>\n",
       "      <td>54.0</td>\n",
       "      <td>17.0</td>\n",
       "      <td>0.0</td>\n",
       "      <td>15.0</td>\n",
       "      <td>10.256370</td>\n",
       "      <td>36.07170</td>\n",
       "      <td>50.48955</td>\n",
       "      <td>25.91184</td>\n",
       "      <td>7.82</td>\n",
       "      <td>2.59</td>\n",
       "      <td>12.73</td>\n",
       "      <td>9.31</td>\n",
       "      <td>32.45</td>\n",
       "      <td>20.85714</td>\n",
       "      <td>20.85714</td>\n",
       "      <td>0.753034</td>\n",
       "      <td>0.415737</td>\n",
       "      <td>0.160276</td>\n",
       "      <td>0.724117</td>\n",
       "      <td>0.753034</td>\n",
       "      <td>0.415737</td>\n",
       "      <td>0.160276</td>\n",
       "      <td>0.724117</td>\n",
       "      <td>3.267778</td>\n",
       "      <td>14.02038</td>\n",
       "      <td>26.00027</td>\n",
       "      <td>14.59225</td>\n",
       "      <td>14.470170</td>\n",
       "      <td>18.47</td>\n",
       "      <td>34.44</td>\n",
       "      <td>37.02</td>\n",
       "      <td>33.94</td>\n",
       "      <td>-10.37</td>\n",
       "      <td>-6.34</td>\n",
       "      <td>9.54</td>\n",
       "      <td>-6.54</td>\n",
       "      <td>0.369003</td>\n",
       "      <td>1.003964</td>\n",
       "      <td>6.169301</td>\n",
       "      <td>1.381080</td>\n",
       "      <td>0.084370</td>\n",
       "      <td>0.065312</td>\n",
       "      <td>0.053186</td>\n",
       "      <td>0.083118</td>\n",
       "      <td>0.084370</td>\n",
       "      <td>0.065312</td>\n",
       "      <td>0.053186</td>\n",
       "      <td>0.083118</td>\n",
       "      <td>62.0</td>\n",
       "      <td>68.0</td>\n",
       "      <td>22.0</td>\n",
       "      <td>67.0</td>\n",
       "      <td>62.0</td>\n",
       "      <td>68.0</td>\n",
       "      <td>22.0</td>\n",
       "      <td>67.0</td>\n",
       "    </tr>\n",
       "    <tr>\n",
       "      <th>349261</th>\n",
       "      <td>NABR</td>\n",
       "      <td>-109.9669</td>\n",
       "      <td>37.62446</td>\n",
       "      <td>Shrubland</td>\n",
       "      <td>2034</td>\n",
       "      <td>NT</td>\n",
       "      <td>4.5</td>\n",
       "      <td>sc33</td>\n",
       "      <td>0</td>\n",
       "      <td>0</td>\n",
       "      <td>93</td>\n",
       "      <td>1</td>\n",
       "      <td>1</td>\n",
       "      <td>0</td>\n",
       "      <td>1961.457</td>\n",
       "      <td>60.32825</td>\n",
       "      <td>12.479430</td>\n",
       "      <td>3.074981</td>\n",
       "      <td>102.66330</td>\n",
       "      <td>2822.9000</td>\n",
       "      <td>8898.9960</td>\n",
       "      <td>-4555.257</td>\n",
       "      <td>0.053601</td>\n",
       "      <td>0.0</td>\n",
       "      <td>0.0</td>\n",
       "      <td>0.0</td>\n",
       "      <td>0.0</td>\n",
       "      <td>0.0</td>\n",
       "      <td>0.0</td>\n",
       "      <td>0.0</td>\n",
       "      <td>0.0</td>\n",
       "      <td>1.114022</td>\n",
       "      <td>4.104220</td>\n",
       "      <td>3.645077</td>\n",
       "      <td>3.131526</td>\n",
       "      <td>74.0</td>\n",
       "      <td>22.0</td>\n",
       "      <td>0.0</td>\n",
       "      <td>21.0</td>\n",
       "      <td>1.979444</td>\n",
       "      <td>26.21050</td>\n",
       "      <td>43.17952</td>\n",
       "      <td>12.29451</td>\n",
       "      <td>6.42</td>\n",
       "      <td>6.10</td>\n",
       "      <td>10.51</td>\n",
       "      <td>10.98</td>\n",
       "      <td>34.01</td>\n",
       "      <td>17.00000</td>\n",
       "      <td>18.00000</td>\n",
       "      <td>4.588531</td>\n",
       "      <td>4.421410</td>\n",
       "      <td>1.290623</td>\n",
       "      <td>2.658131</td>\n",
       "      <td>7.139179</td>\n",
       "      <td>9.380199</td>\n",
       "      <td>2.679401</td>\n",
       "      <td>3.910441</td>\n",
       "      <td>0.976722</td>\n",
       "      <td>10.49326</td>\n",
       "      <td>23.00853</td>\n",
       "      <td>11.73247</td>\n",
       "      <td>11.552746</td>\n",
       "      <td>14.79</td>\n",
       "      <td>31.31</td>\n",
       "      <td>37.15</td>\n",
       "      <td>30.14</td>\n",
       "      <td>-14.64</td>\n",
       "      <td>-6.23</td>\n",
       "      <td>2.46</td>\n",
       "      <td>-11.02</td>\n",
       "      <td>0.102727</td>\n",
       "      <td>5.347052</td>\n",
       "      <td>11.412190</td>\n",
       "      <td>1.079015</td>\n",
       "      <td>0.189367</td>\n",
       "      <td>0.185302</td>\n",
       "      <td>0.120358</td>\n",
       "      <td>0.149128</td>\n",
       "      <td>0.173251</td>\n",
       "      <td>0.196380</td>\n",
       "      <td>0.126623</td>\n",
       "      <td>0.139570</td>\n",
       "      <td>90.0</td>\n",
       "      <td>92.0</td>\n",
       "      <td>48.0</td>\n",
       "      <td>67.0</td>\n",
       "      <td>90.0</td>\n",
       "      <td>92.0</td>\n",
       "      <td>62.0</td>\n",
       "      <td>67.0</td>\n",
       "    </tr>\n",
       "    <tr>\n",
       "      <th>76416</th>\n",
       "      <td>NABR</td>\n",
       "      <td>-110.0290</td>\n",
       "      <td>37.61179</td>\n",
       "      <td>Woodland</td>\n",
       "      <td>2091</td>\n",
       "      <td>LT</td>\n",
       "      <td>4.5</td>\n",
       "      <td>sc22</td>\n",
       "      <td>20</td>\n",
       "      <td>0</td>\n",
       "      <td>53</td>\n",
       "      <td>7</td>\n",
       "      <td>10</td>\n",
       "      <td>13</td>\n",
       "      <td>1874.656</td>\n",
       "      <td>72.66425</td>\n",
       "      <td>10.336840</td>\n",
       "      <td>2.582548</td>\n",
       "      <td>84.58140</td>\n",
       "      <td>304.8323</td>\n",
       "      <td>-5032.0580</td>\n",
       "      <td>8639.636</td>\n",
       "      <td>0.271323</td>\n",
       "      <td>0.0</td>\n",
       "      <td>24.0</td>\n",
       "      <td>60.0</td>\n",
       "      <td>17.0</td>\n",
       "      <td>0.0</td>\n",
       "      <td>0.0</td>\n",
       "      <td>0.0</td>\n",
       "      <td>0.0</td>\n",
       "      <td>1.831493</td>\n",
       "      <td>3.127858</td>\n",
       "      <td>4.289460</td>\n",
       "      <td>3.664832</td>\n",
       "      <td>69.0</td>\n",
       "      <td>3.0</td>\n",
       "      <td>0.0</td>\n",
       "      <td>6.0</td>\n",
       "      <td>6.346114</td>\n",
       "      <td>35.49829</td>\n",
       "      <td>51.99746</td>\n",
       "      <td>22.56421</td>\n",
       "      <td>2.93</td>\n",
       "      <td>3.34</td>\n",
       "      <td>8.20</td>\n",
       "      <td>9.21</td>\n",
       "      <td>23.68</td>\n",
       "      <td>28.80000</td>\n",
       "      <td>28.80000</td>\n",
       "      <td>3.338768</td>\n",
       "      <td>0.967037</td>\n",
       "      <td>0.151779</td>\n",
       "      <td>1.365635</td>\n",
       "      <td>5.120559</td>\n",
       "      <td>1.628027</td>\n",
       "      <td>0.191826</td>\n",
       "      <td>1.975104</td>\n",
       "      <td>2.064111</td>\n",
       "      <td>14.16832</td>\n",
       "      <td>25.70473</td>\n",
       "      <td>16.09071</td>\n",
       "      <td>14.506968</td>\n",
       "      <td>18.64</td>\n",
       "      <td>33.24</td>\n",
       "      <td>38.55</td>\n",
       "      <td>34.12</td>\n",
       "      <td>-10.35</td>\n",
       "      <td>-3.04</td>\n",
       "      <td>7.94</td>\n",
       "      <td>-3.02</td>\n",
       "      <td>1.241513</td>\n",
       "      <td>4.371132</td>\n",
       "      <td>3.567712</td>\n",
       "      <td>2.592429</td>\n",
       "      <td>0.129362</td>\n",
       "      <td>0.080314</td>\n",
       "      <td>0.063491</td>\n",
       "      <td>0.088763</td>\n",
       "      <td>0.125095</td>\n",
       "      <td>0.080226</td>\n",
       "      <td>0.061837</td>\n",
       "      <td>0.084853</td>\n",
       "      <td>90.0</td>\n",
       "      <td>54.0</td>\n",
       "      <td>17.0</td>\n",
       "      <td>60.0</td>\n",
       "      <td>90.0</td>\n",
       "      <td>54.0</td>\n",
       "      <td>17.0</td>\n",
       "      <td>60.0</td>\n",
       "    </tr>\n",
       "    <tr>\n",
       "      <th>96760</th>\n",
       "      <td>NABR</td>\n",
       "      <td>-110.0259</td>\n",
       "      <td>37.60809</td>\n",
       "      <td>Shrubland</td>\n",
       "      <td>2039</td>\n",
       "      <td>NT</td>\n",
       "      <td>8.5</td>\n",
       "      <td>sc53</td>\n",
       "      <td>0</td>\n",
       "      <td>0</td>\n",
       "      <td>91</td>\n",
       "      <td>2</td>\n",
       "      <td>2</td>\n",
       "      <td>4</td>\n",
       "      <td>1844.902</td>\n",
       "      <td>79.01456</td>\n",
       "      <td>6.137869</td>\n",
       "      <td>2.131363</td>\n",
       "      <td>39.94540</td>\n",
       "      <td>829.1554</td>\n",
       "      <td>-975.7321</td>\n",
       "      <td>9940.600</td>\n",
       "      <td>0.296229</td>\n",
       "      <td>0.0</td>\n",
       "      <td>26.0</td>\n",
       "      <td>69.0</td>\n",
       "      <td>6.0</td>\n",
       "      <td>0.0</td>\n",
       "      <td>26.0</td>\n",
       "      <td>69.0</td>\n",
       "      <td>6.0</td>\n",
       "      <td>2.957690</td>\n",
       "      <td>3.778705</td>\n",
       "      <td>3.707036</td>\n",
       "      <td>3.986573</td>\n",
       "      <td>79.0</td>\n",
       "      <td>17.0</td>\n",
       "      <td>0.0</td>\n",
       "      <td>19.0</td>\n",
       "      <td>7.792152</td>\n",
       "      <td>32.55445</td>\n",
       "      <td>50.19857</td>\n",
       "      <td>22.71169</td>\n",
       "      <td>4.04</td>\n",
       "      <td>5.61</td>\n",
       "      <td>7.27</td>\n",
       "      <td>14.23</td>\n",
       "      <td>31.15</td>\n",
       "      <td>28.25000</td>\n",
       "      <td>28.25000</td>\n",
       "      <td>2.288545</td>\n",
       "      <td>1.378764</td>\n",
       "      <td>0.123343</td>\n",
       "      <td>1.419013</td>\n",
       "      <td>2.288545</td>\n",
       "      <td>1.378764</td>\n",
       "      <td>0.123343</td>\n",
       "      <td>1.419013</td>\n",
       "      <td>1.745222</td>\n",
       "      <td>10.35413</td>\n",
       "      <td>24.84891</td>\n",
       "      <td>12.80978</td>\n",
       "      <td>12.439511</td>\n",
       "      <td>14.75</td>\n",
       "      <td>31.56</td>\n",
       "      <td>38.24</td>\n",
       "      <td>31.93</td>\n",
       "      <td>-11.48</td>\n",
       "      <td>-5.63</td>\n",
       "      <td>9.27</td>\n",
       "      <td>-11.09</td>\n",
       "      <td>0.292389</td>\n",
       "      <td>2.749500</td>\n",
       "      <td>3.480722</td>\n",
       "      <td>2.428730</td>\n",
       "      <td>0.101574</td>\n",
       "      <td>0.077839</td>\n",
       "      <td>0.045009</td>\n",
       "      <td>0.079082</td>\n",
       "      <td>0.101574</td>\n",
       "      <td>0.077839</td>\n",
       "      <td>0.045009</td>\n",
       "      <td>0.079082</td>\n",
       "      <td>90.0</td>\n",
       "      <td>62.0</td>\n",
       "      <td>15.0</td>\n",
       "      <td>85.0</td>\n",
       "      <td>90.0</td>\n",
       "      <td>62.0</td>\n",
       "      <td>15.0</td>\n",
       "      <td>85.0</td>\n",
       "    </tr>\n",
       "    <tr>\n",
       "      <th>184149</th>\n",
       "      <td>NABR</td>\n",
       "      <td>-110.0050</td>\n",
       "      <td>37.61892</td>\n",
       "      <td>Shrubland</td>\n",
       "      <td>2065</td>\n",
       "      <td>LT</td>\n",
       "      <td>4.5</td>\n",
       "      <td>sc29</td>\n",
       "      <td>0</td>\n",
       "      <td>0</td>\n",
       "      <td>65</td>\n",
       "      <td>6</td>\n",
       "      <td>12</td>\n",
       "      <td>8</td>\n",
       "      <td>1817.292</td>\n",
       "      <td>74.21373</td>\n",
       "      <td>8.479420</td>\n",
       "      <td>1.802854</td>\n",
       "      <td>98.58077</td>\n",
       "      <td>918.3029</td>\n",
       "      <td>5150.4900</td>\n",
       "      <td>-8286.519</td>\n",
       "      <td>-0.303503</td>\n",
       "      <td>0.0</td>\n",
       "      <td>0.0</td>\n",
       "      <td>0.0</td>\n",
       "      <td>0.0</td>\n",
       "      <td>0.0</td>\n",
       "      <td>0.0</td>\n",
       "      <td>0.0</td>\n",
       "      <td>0.0</td>\n",
       "      <td>1.585052</td>\n",
       "      <td>3.906221</td>\n",
       "      <td>2.823054</td>\n",
       "      <td>2.168288</td>\n",
       "      <td>52.0</td>\n",
       "      <td>4.0</td>\n",
       "      <td>0.0</td>\n",
       "      <td>15.0</td>\n",
       "      <td>3.016378</td>\n",
       "      <td>31.43250</td>\n",
       "      <td>48.32849</td>\n",
       "      <td>15.85791</td>\n",
       "      <td>10.17</td>\n",
       "      <td>6.92</td>\n",
       "      <td>5.59</td>\n",
       "      <td>7.16</td>\n",
       "      <td>29.84</td>\n",
       "      <td>21.83333</td>\n",
       "      <td>21.33333</td>\n",
       "      <td>4.804753</td>\n",
       "      <td>3.338823</td>\n",
       "      <td>0.023915</td>\n",
       "      <td>0.998043</td>\n",
       "      <td>8.865641</td>\n",
       "      <td>6.607107</td>\n",
       "      <td>0.027281</td>\n",
       "      <td>1.449388</td>\n",
       "      <td>2.538444</td>\n",
       "      <td>13.53832</td>\n",
       "      <td>24.39223</td>\n",
       "      <td>13.60181</td>\n",
       "      <td>13.517701</td>\n",
       "      <td>15.71</td>\n",
       "      <td>34.11</td>\n",
       "      <td>39.76</td>\n",
       "      <td>32.60</td>\n",
       "      <td>-16.05</td>\n",
       "      <td>-2.06</td>\n",
       "      <td>2.68</td>\n",
       "      <td>-4.72</td>\n",
       "      <td>0.136400</td>\n",
       "      <td>8.195568</td>\n",
       "      <td>2.783371</td>\n",
       "      <td>1.551594</td>\n",
       "      <td>0.154466</td>\n",
       "      <td>0.123989</td>\n",
       "      <td>0.056275</td>\n",
       "      <td>0.076916</td>\n",
       "      <td>0.157382</td>\n",
       "      <td>0.131478</td>\n",
       "      <td>0.056899</td>\n",
       "      <td>0.073437</td>\n",
       "      <td>90.0</td>\n",
       "      <td>84.0</td>\n",
       "      <td>9.0</td>\n",
       "      <td>51.0</td>\n",
       "      <td>90.0</td>\n",
       "      <td>87.0</td>\n",
       "      <td>9.0</td>\n",
       "      <td>51.0</td>\n",
       "    </tr>\n",
       "    <tr>\n",
       "      <th>246808</th>\n",
       "      <td>NABR</td>\n",
       "      <td>-109.9940</td>\n",
       "      <td>37.62499</td>\n",
       "      <td>Shrubland</td>\n",
       "      <td>2032</td>\n",
       "      <td>NT</td>\n",
       "      <td>4.5</td>\n",
       "      <td>sc28</td>\n",
       "      <td>0</td>\n",
       "      <td>0</td>\n",
       "      <td>92</td>\n",
       "      <td>2</td>\n",
       "      <td>3</td>\n",
       "      <td>0</td>\n",
       "      <td>1938.640</td>\n",
       "      <td>67.39587</td>\n",
       "      <td>9.543583</td>\n",
       "      <td>1.961793</td>\n",
       "      <td>57.15355</td>\n",
       "      <td>1086.3480</td>\n",
       "      <td>6773.4330</td>\n",
       "      <td>7306.730</td>\n",
       "      <td>0.302580</td>\n",
       "      <td>0.0</td>\n",
       "      <td>0.0</td>\n",
       "      <td>0.0</td>\n",
       "      <td>0.0</td>\n",
       "      <td>0.0</td>\n",
       "      <td>0.0</td>\n",
       "      <td>0.0</td>\n",
       "      <td>0.0</td>\n",
       "      <td>2.077948</td>\n",
       "      <td>4.585601</td>\n",
       "      <td>4.198509</td>\n",
       "      <td>4.437311</td>\n",
       "      <td>88.0</td>\n",
       "      <td>25.0</td>\n",
       "      <td>0.0</td>\n",
       "      <td>30.0</td>\n",
       "      <td>6.720911</td>\n",
       "      <td>31.97346</td>\n",
       "      <td>47.87343</td>\n",
       "      <td>21.06654</td>\n",
       "      <td>2.43</td>\n",
       "      <td>5.89</td>\n",
       "      <td>10.43</td>\n",
       "      <td>12.77</td>\n",
       "      <td>31.52</td>\n",
       "      <td>29.77778</td>\n",
       "      <td>29.77778</td>\n",
       "      <td>0.040510</td>\n",
       "      <td>0.177221</td>\n",
       "      <td>0.452974</td>\n",
       "      <td>2.316032</td>\n",
       "      <td>0.040510</td>\n",
       "      <td>0.177221</td>\n",
       "      <td>0.452974</td>\n",
       "      <td>2.316032</td>\n",
       "      <td>-1.780220</td>\n",
       "      <td>10.24120</td>\n",
       "      <td>23.31707</td>\n",
       "      <td>11.20253</td>\n",
       "      <td>10.745145</td>\n",
       "      <td>15.81</td>\n",
       "      <td>31.12</td>\n",
       "      <td>38.02</td>\n",
       "      <td>31.91</td>\n",
       "      <td>-16.39</td>\n",
       "      <td>-7.98</td>\n",
       "      <td>3.82</td>\n",
       "      <td>-6.89</td>\n",
       "      <td>0.026932</td>\n",
       "      <td>1.575172</td>\n",
       "      <td>5.590834</td>\n",
       "      <td>1.213473</td>\n",
       "      <td>0.068593</td>\n",
       "      <td>0.072493</td>\n",
       "      <td>0.077631</td>\n",
       "      <td>0.116825</td>\n",
       "      <td>0.068593</td>\n",
       "      <td>0.072493</td>\n",
       "      <td>0.077631</td>\n",
       "      <td>0.116825</td>\n",
       "      <td>3.0</td>\n",
       "      <td>22.0</td>\n",
       "      <td>25.0</td>\n",
       "      <td>48.0</td>\n",
       "      <td>3.0</td>\n",
       "      <td>22.0</td>\n",
       "      <td>25.0</td>\n",
       "      <td>48.0</td>\n",
       "    </tr>\n",
       "    <tr>\n",
       "      <th>276281</th>\n",
       "      <td>NABR</td>\n",
       "      <td>-109.9878</td>\n",
       "      <td>37.62235</td>\n",
       "      <td>Woodland</td>\n",
       "      <td>2049</td>\n",
       "      <td>NT</td>\n",
       "      <td>4.5</td>\n",
       "      <td>sc30</td>\n",
       "      <td>23</td>\n",
       "      <td>0</td>\n",
       "      <td>48</td>\n",
       "      <td>12</td>\n",
       "      <td>13</td>\n",
       "      <td>19</td>\n",
       "      <td>1955.635</td>\n",
       "      <td>63.07019</td>\n",
       "      <td>12.110800</td>\n",
       "      <td>2.335881</td>\n",
       "      <td>61.68465</td>\n",
       "      <td>873.7194</td>\n",
       "      <td>-9572.4310</td>\n",
       "      <td>-2826.654</td>\n",
       "      <td>-0.015057</td>\n",
       "      <td>0.0</td>\n",
       "      <td>1.0</td>\n",
       "      <td>75.0</td>\n",
       "      <td>17.0</td>\n",
       "      <td>0.0</td>\n",
       "      <td>0.0</td>\n",
       "      <td>69.0</td>\n",
       "      <td>17.0</td>\n",
       "      <td>2.053221</td>\n",
       "      <td>3.444814</td>\n",
       "      <td>2.912432</td>\n",
       "      <td>2.277421</td>\n",
       "      <td>80.0</td>\n",
       "      <td>8.0</td>\n",
       "      <td>0.0</td>\n",
       "      <td>27.0</td>\n",
       "      <td>4.253155</td>\n",
       "      <td>32.93879</td>\n",
       "      <td>49.82434</td>\n",
       "      <td>18.51673</td>\n",
       "      <td>8.05</td>\n",
       "      <td>3.06</td>\n",
       "      <td>4.24</td>\n",
       "      <td>6.00</td>\n",
       "      <td>21.35</td>\n",
       "      <td>29.60000</td>\n",
       "      <td>29.60000</td>\n",
       "      <td>5.221940</td>\n",
       "      <td>2.269644</td>\n",
       "      <td>0.000000</td>\n",
       "      <td>0.913694</td>\n",
       "      <td>6.220057</td>\n",
       "      <td>2.828535</td>\n",
       "      <td>0.000000</td>\n",
       "      <td>1.080025</td>\n",
       "      <td>0.205778</td>\n",
       "      <td>12.74913</td>\n",
       "      <td>24.10380</td>\n",
       "      <td>12.27330</td>\n",
       "      <td>12.333002</td>\n",
       "      <td>12.03</td>\n",
       "      <td>29.95</td>\n",
       "      <td>38.08</td>\n",
       "      <td>33.45</td>\n",
       "      <td>-18.91</td>\n",
       "      <td>-2.91</td>\n",
       "      <td>6.94</td>\n",
       "      <td>-11.12</td>\n",
       "      <td>0.725703</td>\n",
       "      <td>5.618449</td>\n",
       "      <td>1.261224</td>\n",
       "      <td>2.533502</td>\n",
       "      <td>0.188221</td>\n",
       "      <td>0.127454</td>\n",
       "      <td>0.078005</td>\n",
       "      <td>0.099357</td>\n",
       "      <td>0.188454</td>\n",
       "      <td>0.130268</td>\n",
       "      <td>0.078964</td>\n",
       "      <td>0.100108</td>\n",
       "      <td>90.0</td>\n",
       "      <td>63.0</td>\n",
       "      <td>2.0</td>\n",
       "      <td>62.0</td>\n",
       "      <td>90.0</td>\n",
       "      <td>63.0</td>\n",
       "      <td>2.0</td>\n",
       "      <td>62.0</td>\n",
       "    </tr>\n",
       "    <tr>\n",
       "      <th>6154</th>\n",
       "      <td>NABR</td>\n",
       "      <td>-110.0461</td>\n",
       "      <td>37.60334</td>\n",
       "      <td>Grassland</td>\n",
       "      <td>2093</td>\n",
       "      <td>LT</td>\n",
       "      <td>8.5</td>\n",
       "      <td>sc58</td>\n",
       "      <td>6</td>\n",
       "      <td>0</td>\n",
       "      <td>77</td>\n",
       "      <td>7</td>\n",
       "      <td>6</td>\n",
       "      <td>10</td>\n",
       "      <td>1772.476</td>\n",
       "      <td>76.05293</td>\n",
       "      <td>7.145646</td>\n",
       "      <td>2.367719</td>\n",
       "      <td>45.59670</td>\n",
       "      <td>1788.6000</td>\n",
       "      <td>-9006.7460</td>\n",
       "      <td>4343.799</td>\n",
       "      <td>-0.157488</td>\n",
       "      <td>0.0</td>\n",
       "      <td>0.0</td>\n",
       "      <td>0.0</td>\n",
       "      <td>0.0</td>\n",
       "      <td>0.0</td>\n",
       "      <td>0.0</td>\n",
       "      <td>0.0</td>\n",
       "      <td>0.0</td>\n",
       "      <td>2.971023</td>\n",
       "      <td>5.177842</td>\n",
       "      <td>2.356154</td>\n",
       "      <td>3.758486</td>\n",
       "      <td>11.0</td>\n",
       "      <td>0.0</td>\n",
       "      <td>0.0</td>\n",
       "      <td>2.0</td>\n",
       "      <td>9.530694</td>\n",
       "      <td>38.31856</td>\n",
       "      <td>58.28690</td>\n",
       "      <td>26.89631</td>\n",
       "      <td>4.76</td>\n",
       "      <td>7.62</td>\n",
       "      <td>3.84</td>\n",
       "      <td>6.00</td>\n",
       "      <td>22.22</td>\n",
       "      <td>24.57143</td>\n",
       "      <td>24.57143</td>\n",
       "      <td>2.042201</td>\n",
       "      <td>1.037226</td>\n",
       "      <td>0.041182</td>\n",
       "      <td>0.346350</td>\n",
       "      <td>2.042201</td>\n",
       "      <td>1.037226</td>\n",
       "      <td>0.041182</td>\n",
       "      <td>0.346350</td>\n",
       "      <td>8.851944</td>\n",
       "      <td>18.16777</td>\n",
       "      <td>34.80098</td>\n",
       "      <td>20.94802</td>\n",
       "      <td>20.692179</td>\n",
       "      <td>24.84</td>\n",
       "      <td>42.43</td>\n",
       "      <td>54.73</td>\n",
       "      <td>46.07</td>\n",
       "      <td>-5.10</td>\n",
       "      <td>1.53</td>\n",
       "      <td>14.16</td>\n",
       "      <td>-4.91</td>\n",
       "      <td>1.080872</td>\n",
       "      <td>4.222988</td>\n",
       "      <td>1.434035</td>\n",
       "      <td>1.765043</td>\n",
       "      <td>0.100105</td>\n",
       "      <td>0.074058</td>\n",
       "      <td>0.047805</td>\n",
       "      <td>0.056586</td>\n",
       "      <td>0.100105</td>\n",
       "      <td>0.074058</td>\n",
       "      <td>0.047805</td>\n",
       "      <td>0.056586</td>\n",
       "      <td>90.0</td>\n",
       "      <td>59.0</td>\n",
       "      <td>7.0</td>\n",
       "      <td>37.0</td>\n",
       "      <td>90.0</td>\n",
       "      <td>59.0</td>\n",
       "      <td>7.0</td>\n",
       "      <td>37.0</td>\n",
       "    </tr>\n",
       "  </tbody>\n",
       "</table>\n",
       "</div>"
      ],
      "text/plain": [
       "        Park      long       lat        veg  year TimePeriod  RCP scenario  \\\n",
       "43758   NABR -110.0341  37.60440  Grassland  2074         LT  4.5     sc34   \n",
       "204446  NABR -110.0022  37.57324   Woodland  2092         LT  8.5     sc52   \n",
       "114613  NABR -110.0218  37.59595  Shrubland  2086         LT  4.5     sc31   \n",
       "349261  NABR -109.9669  37.62446  Shrubland  2034         NT  4.5     sc33   \n",
       "76416   NABR -110.0290  37.61179   Woodland  2091         LT  4.5     sc22   \n",
       "96760   NABR -110.0259  37.60809  Shrubland  2039         NT  8.5     sc53   \n",
       "184149  NABR -110.0050  37.61892  Shrubland  2065         LT  4.5     sc29   \n",
       "246808  NABR -109.9940  37.62499  Shrubland  2032         NT  4.5     sc28   \n",
       "276281  NABR -109.9878  37.62235   Woodland  2049         NT  4.5     sc30   \n",
       "6154    NABR -110.0461  37.60334  Grassland  2093         LT  8.5     sc58   \n",
       "\n",
       "        treecanopy  Ann_Herb  Bare  Herb  Litter  Shrub        El        Sa  \\\n",
       "43758           15         0    58     9      10     15  1834.140  78.11364   \n",
       "204446          19         0    54    10       8     17  1893.251  69.82050   \n",
       "114613           0         0    87     3       6      4  1830.649  76.78589   \n",
       "349261           0         0    93     1       1      0  1961.457  60.32825   \n",
       "76416           20         0    53     7      10     13  1874.656  72.66425   \n",
       "96760            0         0    91     2       2      4  1844.902  79.01456   \n",
       "184149           0         0    65     6      12      8  1817.292  74.21373   \n",
       "246808           0         0    92     2       3      0  1938.640  67.39587   \n",
       "276281          23         0    48    12      13     19  1955.635  63.07019   \n",
       "6154             6         0    77     7       6     10  1772.476  76.05293   \n",
       "\n",
       "               Cl        RF         RL      Slope          E         S  \\\n",
       "43758    7.928107  1.967486   32.03765   449.6723 -6871.4170  7171.555   \n",
       "204446  10.078780  2.118338   50.63004   349.0782 -9453.6460  2989.556   \n",
       "114613   6.457736  2.401987   29.41275  1793.2040 -5207.4010  8528.921   \n",
       "349261  12.479430  3.074981  102.66330  2822.9000  8898.9960 -4555.257   \n",
       "76416   10.336840  2.582548   84.58140   304.8323 -5032.0580  8639.636   \n",
       "96760    6.137869  2.131363   39.94540   829.1554  -975.7321  9940.600   \n",
       "184149   8.479420  1.802854   98.58077   918.3029  5150.4900 -8286.519   \n",
       "246808   9.543583  1.961793   57.15355  1086.3480  6773.4330  7306.730   \n",
       "276281  12.110800  2.335881   61.68465   873.7194 -9572.4310 -2826.654   \n",
       "6154     7.145646  2.367719   45.59670  1788.6000 -9006.7460  4343.799   \n",
       "\n",
       "        T_P_Corr  DrySoilDays_Winter_top50  DrySoilDays_Spring_top50  \\\n",
       "43758   0.632270                       0.0                       0.0   \n",
       "204446  0.085151                       0.0                       0.0   \n",
       "114613  0.386218                       0.0                       0.0   \n",
       "349261  0.053601                       0.0                       0.0   \n",
       "76416   0.271323                       0.0                      24.0   \n",
       "96760   0.296229                       0.0                      26.0   \n",
       "184149 -0.303503                       0.0                       0.0   \n",
       "246808  0.302580                       0.0                       0.0   \n",
       "276281 -0.015057                       0.0                       1.0   \n",
       "6154   -0.157488                       0.0                       0.0   \n",
       "\n",
       "        DrySoilDays_Summer_top50  DrySoilDays_Fall_top50  \\\n",
       "43758                        0.0                     0.0   \n",
       "204446                       0.0                     0.0   \n",
       "114613                       0.0                     0.0   \n",
       "349261                       0.0                     0.0   \n",
       "76416                       60.0                    17.0   \n",
       "96760                       69.0                     6.0   \n",
       "184149                       0.0                     0.0   \n",
       "246808                       0.0                     0.0   \n",
       "276281                      75.0                    17.0   \n",
       "6154                         0.0                     0.0   \n",
       "\n",
       "        DrySoilDays_Winter_whole  DrySoilDays_Spring_whole  \\\n",
       "43758                        0.0                       0.0   \n",
       "204446                       0.0                       0.0   \n",
       "114613                       0.0                       0.0   \n",
       "349261                       0.0                       0.0   \n",
       "76416                        0.0                       0.0   \n",
       "96760                        0.0                      26.0   \n",
       "184149                       0.0                       0.0   \n",
       "246808                       0.0                       0.0   \n",
       "276281                       0.0                       0.0   \n",
       "6154                         0.0                       0.0   \n",
       "\n",
       "        DrySoilDays_Summer_whole  DrySoilDays_Fall_whole  Evap_Winter  \\\n",
       "43758                        0.0                     0.0     1.465510   \n",
       "204446                       0.0                     0.0     1.753797   \n",
       "114613                       0.0                     0.0     3.879666   \n",
       "349261                       0.0                     0.0     1.114022   \n",
       "76416                        0.0                     0.0     1.831493   \n",
       "96760                       69.0                     6.0     2.957690   \n",
       "184149                       0.0                     0.0     1.585052   \n",
       "246808                       0.0                     0.0     2.077948   \n",
       "276281                      69.0                    17.0     2.053221   \n",
       "6154                         0.0                     0.0     2.971023   \n",
       "\n",
       "        Evap_Spring  Evap_Summer  Evap_Fall  FrostDays_Winter  \\\n",
       "43758      4.449662     5.879717   3.623656              56.0   \n",
       "204446     2.282881     4.053939   5.531412              45.0   \n",
       "114613     2.904118     5.524690   4.043060              54.0   \n",
       "349261     4.104220     3.645077   3.131526              74.0   \n",
       "76416      3.127858     4.289460   3.664832              69.0   \n",
       "96760      3.778705     3.707036   3.986573              79.0   \n",
       "184149     3.906221     2.823054   2.168288              52.0   \n",
       "246808     4.585601     4.198509   4.437311              88.0   \n",
       "276281     3.444814     2.912432   2.277421              80.0   \n",
       "6154       5.177842     2.356154   3.758486              11.0   \n",
       "\n",
       "        FrostDays_Spring  FrostDays_Summer  FrostDays_Fall  PET_Winter  \\\n",
       "43758               17.0               0.0            13.0    6.850220   \n",
       "204446               2.0               0.0             7.0    6.757124   \n",
       "114613              17.0               0.0            15.0   10.256370   \n",
       "349261              22.0               0.0            21.0    1.979444   \n",
       "76416                3.0               0.0             6.0    6.346114   \n",
       "96760               17.0               0.0            19.0    7.792152   \n",
       "184149               4.0               0.0            15.0    3.016378   \n",
       "246808              25.0               0.0            30.0    6.720911   \n",
       "276281               8.0               0.0            27.0    4.253155   \n",
       "6154                 0.0               0.0             2.0    9.530694   \n",
       "\n",
       "        PET_Spring  PET_Summer  PET_Fall  PPT_Winter  PPT_Spring  PPT_Summer  \\\n",
       "43758     33.87449    50.91388  22.11534        1.53        8.05       15.71   \n",
       "204446    36.91229    54.35601  22.94586        1.73        2.84        6.39   \n",
       "114613    36.07170    50.48955  25.91184        7.82        2.59       12.73   \n",
       "349261    26.21050    43.17952  12.29451        6.42        6.10       10.51   \n",
       "76416     35.49829    51.99746  22.56421        2.93        3.34        8.20   \n",
       "96760     32.55445    50.19857  22.71169        4.04        5.61        7.27   \n",
       "184149    31.43250    48.32849  15.85791       10.17        6.92        5.59   \n",
       "246808    31.97346    47.87343  21.06654        2.43        5.89       10.43   \n",
       "276281    32.93879    49.82434  18.51673        8.05        3.06        4.24   \n",
       "6154      38.31856    58.28690  26.89631        4.76        7.62        3.84   \n",
       "\n",
       "        PPT_Fall  PPT_Annual  SemiDryDuration_Annual_top50  \\\n",
       "43758      11.18       36.47                      15.11111   \n",
       "204446     18.73       29.69                      22.75000   \n",
       "114613      9.31       32.45                      20.85714   \n",
       "349261     10.98       34.01                      17.00000   \n",
       "76416       9.21       23.68                      28.80000   \n",
       "96760      14.23       31.15                      28.25000   \n",
       "184149      7.16       29.84                      21.83333   \n",
       "246808     12.77       31.52                      29.77778   \n",
       "276281      6.00       21.35                      29.60000   \n",
       "6154        6.00       22.22                      24.57143   \n",
       "\n",
       "        SemiDryDuration_Annual_whole  SWA_Winter_top50  SWA_Spring_top50  \\\n",
       "43758                       15.11111          1.554769          0.316042   \n",
       "204446                      22.75000          2.505142          0.304228   \n",
       "114613                      20.85714          0.753034          0.415737   \n",
       "349261                      18.00000          4.588531          4.421410   \n",
       "76416                       28.80000          3.338768          0.967037   \n",
       "96760                       28.25000          2.288545          1.378764   \n",
       "184149                      21.33333          4.804753          3.338823   \n",
       "246808                      29.77778          0.040510          0.177221   \n",
       "276281                      29.60000          5.221940          2.269644   \n",
       "6154                        24.57143          2.042201          1.037226   \n",
       "\n",
       "        SWA_Summer_top50  SWA_Fall_top50  SWA_Winter_whole  SWA_Spring_whole  \\\n",
       "43758           0.678955        0.917846          1.554769          0.316042   \n",
       "204446          0.042683        1.845611          2.505142          0.304228   \n",
       "114613          0.160276        0.724117          0.753034          0.415737   \n",
       "349261          1.290623        2.658131          7.139179          9.380199   \n",
       "76416           0.151779        1.365635          5.120559          1.628027   \n",
       "96760           0.123343        1.419013          2.288545          1.378764   \n",
       "184149          0.023915        0.998043          8.865641          6.607107   \n",
       "246808          0.452974        2.316032          0.040510          0.177221   \n",
       "276281          0.000000        0.913694          6.220057          2.828535   \n",
       "6154            0.041182        0.346350          2.042201          1.037226   \n",
       "\n",
       "        SWA_Summer_whole  SWA_Fall_whole  T_Winter  T_Spring  T_Summer  \\\n",
       "43758           0.678955        0.917846  3.209389  12.22261  24.74440   \n",
       "204446          0.042683        1.845611  5.803681  16.62310  29.26913   \n",
       "114613          0.160276        0.724117  3.267778  14.02038  26.00027   \n",
       "349261          2.679401        3.910441  0.976722  10.49326  23.00853   \n",
       "76416           0.191826        1.975104  2.064111  14.16832  25.70473   \n",
       "96760           0.123343        1.419013  1.745222  10.35413  24.84891   \n",
       "184149          0.027281        1.449388  2.538444  13.53832  24.39223   \n",
       "246808          0.452974        2.316032 -1.780220  10.24120  23.31707   \n",
       "276281          0.000000        1.080025  0.205778  12.74913  24.10380   \n",
       "6154            0.041182        0.346350  8.851944  18.16777  34.80098   \n",
       "\n",
       "          T_Fall   T_Annual  Tmax_Winter  Tmax_Spring  Tmax_Summer  Tmax_Fall  \\\n",
       "43758   14.85319  13.757397        18.30        33.86        37.49      32.99   \n",
       "204446  18.44775  17.535915        19.42        38.10        42.73      36.70   \n",
       "114613  14.59225  14.470170        18.47        34.44        37.02      33.94   \n",
       "349261  11.73247  11.552746        14.79        31.31        37.15      30.14   \n",
       "76416   16.09071  14.506968        18.64        33.24        38.55      34.12   \n",
       "96760   12.80978  12.439511        14.75        31.56        38.24      31.93   \n",
       "184149  13.60181  13.517701        15.71        34.11        39.76      32.60   \n",
       "246808  11.20253  10.745145        15.81        31.12        38.02      31.91   \n",
       "276281  12.27330  12.333002        12.03        29.95        38.08      33.45   \n",
       "6154    20.94802  20.692179        24.84        42.43        54.73      46.07   \n",
       "\n",
       "        Tmin_Winter  Tmin_Spring  Tmin_Summer  Tmin_Fall  Transp_Winter  \\\n",
       "43758         -9.68        -4.82         6.91      -5.28       1.069377   \n",
       "204446        -7.01        -3.12        12.04      -3.99       1.017045   \n",
       "114613       -10.37        -6.34         9.54      -6.54       0.369003   \n",
       "349261       -14.64        -6.23         2.46     -11.02       0.102727   \n",
       "76416        -10.35        -3.04         7.94      -3.02       1.241513   \n",
       "96760        -11.48        -5.63         9.27     -11.09       0.292389   \n",
       "184149       -16.05        -2.06         2.68      -4.72       0.136400   \n",
       "246808       -16.39        -7.98         3.82      -6.89       0.026932   \n",
       "276281       -18.91        -2.91         6.94     -11.12       0.725703   \n",
       "6154          -5.10         1.53        14.16      -4.91       1.080872   \n",
       "\n",
       "        Transp_Spring  Transp_Summer  Transp_Fall  VWC_Winter_top50  \\\n",
       "43758        3.723831       8.635639     2.772109          0.102869   \n",
       "204446       1.801328       2.367548     2.372641          0.114475   \n",
       "114613       1.003964       6.169301     1.381080          0.084370   \n",
       "349261       5.347052      11.412190     1.079015          0.189367   \n",
       "76416        4.371132       3.567712     2.592429          0.129362   \n",
       "96760        2.749500       3.480722     2.428730          0.101574   \n",
       "184149       8.195568       2.783371     1.551594          0.154466   \n",
       "246808       1.575172       5.590834     1.213473          0.068593   \n",
       "276281       5.618449       1.261224     2.533502          0.188221   \n",
       "6154         4.222988       1.434035     1.765043          0.100105   \n",
       "\n",
       "        VWC_Spring_top50  VWC_Summer_top50  VWC_Fall_top50  VWC_Winter_whole  \\\n",
       "43758           0.060566          0.072953        0.081027          0.102869   \n",
       "204446          0.068883          0.063660        0.100869          0.114475   \n",
       "114613          0.065312          0.053186        0.083118          0.084370   \n",
       "349261          0.185302          0.120358        0.149128          0.173251   \n",
       "76416           0.080314          0.063491        0.088763          0.125095   \n",
       "96760           0.077839          0.045009        0.079082          0.101574   \n",
       "184149          0.123989          0.056275        0.076916          0.157382   \n",
       "246808          0.072493          0.077631        0.116825          0.068593   \n",
       "276281          0.127454          0.078005        0.099357          0.188454   \n",
       "6154            0.074058          0.047805        0.056586          0.100105   \n",
       "\n",
       "        VWC_Spring_whole  VWC_Summer_whole  VWC_Fall_whole  \\\n",
       "43758           0.060566          0.072953        0.081027   \n",
       "204446          0.068883          0.063660        0.100869   \n",
       "114613          0.065312          0.053186        0.083118   \n",
       "349261          0.196380          0.126623        0.139570   \n",
       "76416           0.080226          0.061837        0.084853   \n",
       "96760           0.077839          0.045009        0.079082   \n",
       "184149          0.131478          0.056899        0.073437   \n",
       "246808          0.072493          0.077631        0.116825   \n",
       "276281          0.130268          0.078964        0.100108   \n",
       "6154            0.074058          0.047805        0.056586   \n",
       "\n",
       "        WetSoilDays_Winter_top50  WetSoilDays_Spring_top50  \\\n",
       "43758                       90.0                      36.0   \n",
       "204446                      91.0                      27.0   \n",
       "114613                      62.0                      68.0   \n",
       "349261                      90.0                      92.0   \n",
       "76416                       90.0                      54.0   \n",
       "96760                       90.0                      62.0   \n",
       "184149                      90.0                      84.0   \n",
       "246808                       3.0                      22.0   \n",
       "276281                      90.0                      63.0   \n",
       "6154                        90.0                      59.0   \n",
       "\n",
       "        WetSoilDays_Summer_top50  WetSoilDays_Fall_top50  \\\n",
       "43758                       42.0                    61.0   \n",
       "204446                      11.0                    55.0   \n",
       "114613                      22.0                    67.0   \n",
       "349261                      48.0                    67.0   \n",
       "76416                       17.0                    60.0   \n",
       "96760                       15.0                    85.0   \n",
       "184149                       9.0                    51.0   \n",
       "246808                      25.0                    48.0   \n",
       "276281                       2.0                    62.0   \n",
       "6154                         7.0                    37.0   \n",
       "\n",
       "        WetSoilDays_Winter_whole  WetSoilDays_Spring_whole  \\\n",
       "43758                       90.0                      36.0   \n",
       "204446                      91.0                      27.0   \n",
       "114613                      62.0                      68.0   \n",
       "349261                      90.0                      92.0   \n",
       "76416                       90.0                      54.0   \n",
       "96760                       90.0                      62.0   \n",
       "184149                      90.0                      87.0   \n",
       "246808                       3.0                      22.0   \n",
       "276281                      90.0                      63.0   \n",
       "6154                        90.0                      59.0   \n",
       "\n",
       "        WetSoilDays_Summer_whole  WetSoilDays_Fall_whole  \n",
       "43758                       42.0                    61.0  \n",
       "204446                      11.0                    55.0  \n",
       "114613                      22.0                    67.0  \n",
       "349261                      62.0                    67.0  \n",
       "76416                       17.0                    60.0  \n",
       "96760                       15.0                    85.0  \n",
       "184149                       9.0                    51.0  \n",
       "246808                      25.0                    48.0  \n",
       "276281                       2.0                    62.0  \n",
       "6154                         7.0                    37.0  "
      ]
     },
     "execution_count": 42,
     "metadata": {},
     "output_type": "execute_result"
    }
   ],
   "source": [
    "#display a sample of the df\n",
    "df.sample(10)"
   ]
  },
  {
   "cell_type": "code",
   "execution_count": 43,
   "metadata": {},
   "outputs": [
    {
     "data": {
      "text/plain": [
       "Park                              object\n",
       "long                             float64\n",
       "lat                              float64\n",
       "veg                               object\n",
       "year                               int64\n",
       "TimePeriod                        object\n",
       "RCP                             category\n",
       "scenario                          object\n",
       "treecanopy                         int64\n",
       "Ann_Herb                           int64\n",
       "Bare                               int64\n",
       "Herb                               int64\n",
       "Litter                             int64\n",
       "Shrub                              int64\n",
       "El                               float64\n",
       "Sa                               float64\n",
       "Cl                               float64\n",
       "RF                               float64\n",
       "RL                               float64\n",
       "Slope                            float64\n",
       "E                                float64\n",
       "S                                float64\n",
       "T_P_Corr                         float64\n",
       "DrySoilDays_Winter_top50         float64\n",
       "DrySoilDays_Spring_top50         float64\n",
       "DrySoilDays_Summer_top50         float64\n",
       "DrySoilDays_Fall_top50           float64\n",
       "DrySoilDays_Winter_whole         float64\n",
       "DrySoilDays_Spring_whole         float64\n",
       "DrySoilDays_Summer_whole         float64\n",
       "DrySoilDays_Fall_whole           float64\n",
       "Evap_Winter                      float64\n",
       "Evap_Spring                      float64\n",
       "Evap_Summer                      float64\n",
       "Evap_Fall                        float64\n",
       "FrostDays_Winter                 float64\n",
       "FrostDays_Spring                 float64\n",
       "FrostDays_Summer                 float64\n",
       "FrostDays_Fall                   float64\n",
       "PET_Winter                       float64\n",
       "PET_Spring                       float64\n",
       "PET_Summer                       float64\n",
       "PET_Fall                         float64\n",
       "PPT_Winter                       float64\n",
       "PPT_Spring                       float64\n",
       "PPT_Summer                       float64\n",
       "PPT_Fall                         float64\n",
       "PPT_Annual                       float64\n",
       "SemiDryDuration_Annual_top50     float64\n",
       "SemiDryDuration_Annual_whole     float64\n",
       "SWA_Winter_top50                 float64\n",
       "SWA_Spring_top50                 float64\n",
       "SWA_Summer_top50                 float64\n",
       "SWA_Fall_top50                   float64\n",
       "SWA_Winter_whole                 float64\n",
       "SWA_Spring_whole                 float64\n",
       "SWA_Summer_whole                 float64\n",
       "SWA_Fall_whole                   float64\n",
       "T_Winter                         float64\n",
       "T_Spring                         float64\n",
       "T_Summer                         float64\n",
       "T_Fall                           float64\n",
       "T_Annual                         float64\n",
       "Tmax_Winter                      float64\n",
       "Tmax_Spring                      float64\n",
       "Tmax_Summer                      float64\n",
       "Tmax_Fall                        float64\n",
       "Tmin_Winter                      float64\n",
       "Tmin_Spring                      float64\n",
       "Tmin_Summer                      float64\n",
       "Tmin_Fall                        float64\n",
       "Transp_Winter                    float64\n",
       "Transp_Spring                    float64\n",
       "Transp_Summer                    float64\n",
       "Transp_Fall                      float64\n",
       "VWC_Winter_top50                 float64\n",
       "VWC_Spring_top50                 float64\n",
       "VWC_Summer_top50                 float64\n",
       "VWC_Fall_top50                   float64\n",
       "VWC_Winter_whole                 float64\n",
       "VWC_Spring_whole                 float64\n",
       "VWC_Summer_whole                 float64\n",
       "VWC_Fall_whole                   float64\n",
       "WetSoilDays_Winter_top50         float64\n",
       "WetSoilDays_Spring_top50         float64\n",
       "WetSoilDays_Summer_top50         float64\n",
       "WetSoilDays_Fall_top50           float64\n",
       "WetSoilDays_Winter_whole         float64\n",
       "WetSoilDays_Spring_whole         float64\n",
       "WetSoilDays_Summer_whole         float64\n",
       "WetSoilDays_Fall_whole           float64\n",
       "dtype: object"
      ]
     },
     "execution_count": 43,
     "metadata": {},
     "output_type": "execute_result"
    }
   ],
   "source": [
    "#show dtypes\n",
    "df.dtypes"
   ]
  },
  {
   "cell_type": "code",
   "execution_count": 44,
   "metadata": {},
   "outputs": [
    {
     "data": {
      "text/html": [
       "<div>\n",
       "<style scoped>\n",
       "    .dataframe tbody tr th:only-of-type {\n",
       "        vertical-align: middle;\n",
       "    }\n",
       "\n",
       "    .dataframe tbody tr th {\n",
       "        vertical-align: top;\n",
       "    }\n",
       "\n",
       "    .dataframe thead th {\n",
       "        text-align: right;\n",
       "    }\n",
       "</style>\n",
       "<table border=\"1\" class=\"dataframe\">\n",
       "  <thead>\n",
       "    <tr style=\"text-align: right;\">\n",
       "      <th></th>\n",
       "      <th>long</th>\n",
       "      <th>lat</th>\n",
       "      <th>year</th>\n",
       "      <th>treecanopy</th>\n",
       "      <th>Ann_Herb</th>\n",
       "      <th>Bare</th>\n",
       "      <th>Herb</th>\n",
       "      <th>Litter</th>\n",
       "      <th>Shrub</th>\n",
       "      <th>El</th>\n",
       "      <th>Sa</th>\n",
       "      <th>Cl</th>\n",
       "      <th>RF</th>\n",
       "      <th>RL</th>\n",
       "      <th>Slope</th>\n",
       "      <th>E</th>\n",
       "      <th>S</th>\n",
       "      <th>T_P_Corr</th>\n",
       "      <th>DrySoilDays_Winter_top50</th>\n",
       "      <th>DrySoilDays_Spring_top50</th>\n",
       "      <th>DrySoilDays_Summer_top50</th>\n",
       "      <th>DrySoilDays_Fall_top50</th>\n",
       "      <th>DrySoilDays_Winter_whole</th>\n",
       "      <th>DrySoilDays_Spring_whole</th>\n",
       "      <th>DrySoilDays_Summer_whole</th>\n",
       "      <th>DrySoilDays_Fall_whole</th>\n",
       "      <th>Evap_Winter</th>\n",
       "      <th>Evap_Spring</th>\n",
       "      <th>Evap_Summer</th>\n",
       "      <th>Evap_Fall</th>\n",
       "      <th>FrostDays_Winter</th>\n",
       "      <th>FrostDays_Spring</th>\n",
       "      <th>FrostDays_Summer</th>\n",
       "      <th>FrostDays_Fall</th>\n",
       "      <th>PET_Winter</th>\n",
       "      <th>PET_Spring</th>\n",
       "      <th>PET_Summer</th>\n",
       "      <th>PET_Fall</th>\n",
       "      <th>PPT_Winter</th>\n",
       "      <th>PPT_Spring</th>\n",
       "      <th>PPT_Summer</th>\n",
       "      <th>PPT_Fall</th>\n",
       "      <th>PPT_Annual</th>\n",
       "      <th>SemiDryDuration_Annual_top50</th>\n",
       "      <th>SemiDryDuration_Annual_whole</th>\n",
       "      <th>SWA_Winter_top50</th>\n",
       "      <th>SWA_Spring_top50</th>\n",
       "      <th>SWA_Summer_top50</th>\n",
       "      <th>SWA_Fall_top50</th>\n",
       "      <th>SWA_Winter_whole</th>\n",
       "      <th>SWA_Spring_whole</th>\n",
       "      <th>SWA_Summer_whole</th>\n",
       "      <th>SWA_Fall_whole</th>\n",
       "      <th>T_Winter</th>\n",
       "      <th>T_Spring</th>\n",
       "      <th>T_Summer</th>\n",
       "      <th>T_Fall</th>\n",
       "      <th>T_Annual</th>\n",
       "      <th>Tmax_Winter</th>\n",
       "      <th>Tmax_Spring</th>\n",
       "      <th>Tmax_Summer</th>\n",
       "      <th>Tmax_Fall</th>\n",
       "      <th>Tmin_Winter</th>\n",
       "      <th>Tmin_Spring</th>\n",
       "      <th>Tmin_Summer</th>\n",
       "      <th>Tmin_Fall</th>\n",
       "      <th>Transp_Winter</th>\n",
       "      <th>Transp_Spring</th>\n",
       "      <th>Transp_Summer</th>\n",
       "      <th>Transp_Fall</th>\n",
       "      <th>VWC_Winter_top50</th>\n",
       "      <th>VWC_Spring_top50</th>\n",
       "      <th>VWC_Summer_top50</th>\n",
       "      <th>VWC_Fall_top50</th>\n",
       "      <th>VWC_Winter_whole</th>\n",
       "      <th>VWC_Spring_whole</th>\n",
       "      <th>VWC_Summer_whole</th>\n",
       "      <th>VWC_Fall_whole</th>\n",
       "      <th>WetSoilDays_Winter_top50</th>\n",
       "      <th>WetSoilDays_Spring_top50</th>\n",
       "      <th>WetSoilDays_Summer_top50</th>\n",
       "      <th>WetSoilDays_Fall_top50</th>\n",
       "      <th>WetSoilDays_Winter_whole</th>\n",
       "      <th>WetSoilDays_Spring_whole</th>\n",
       "      <th>WetSoilDays_Summer_whole</th>\n",
       "      <th>WetSoilDays_Fall_whole</th>\n",
       "    </tr>\n",
       "  </thead>\n",
       "  <tbody>\n",
       "    <tr>\n",
       "      <th>count</th>\n",
       "      <td>361487.000000</td>\n",
       "      <td>361487.000000</td>\n",
       "      <td>361487.000000</td>\n",
       "      <td>361487.000000</td>\n",
       "      <td>361487.000000</td>\n",
       "      <td>361487.000000</td>\n",
       "      <td>361487.000000</td>\n",
       "      <td>361487.000000</td>\n",
       "      <td>361487.000000</td>\n",
       "      <td>361487.000000</td>\n",
       "      <td>361487.000000</td>\n",
       "      <td>361487.000000</td>\n",
       "      <td>361487.000000</td>\n",
       "      <td>361487.000000</td>\n",
       "      <td>361487.000000</td>\n",
       "      <td>361487.000000</td>\n",
       "      <td>361487.000000</td>\n",
       "      <td>361487.000000</td>\n",
       "      <td>361487.000000</td>\n",
       "      <td>361487.000000</td>\n",
       "      <td>361487.000000</td>\n",
       "      <td>361487.000000</td>\n",
       "      <td>361487.000000</td>\n",
       "      <td>361487.000000</td>\n",
       "      <td>361487.000000</td>\n",
       "      <td>361487.000000</td>\n",
       "      <td>361487.000000</td>\n",
       "      <td>361487.000000</td>\n",
       "      <td>361487.000000</td>\n",
       "      <td>361487.000000</td>\n",
       "      <td>361487.000000</td>\n",
       "      <td>361487.000000</td>\n",
       "      <td>361487.000000</td>\n",
       "      <td>361487.000000</td>\n",
       "      <td>361487.000000</td>\n",
       "      <td>361487.000000</td>\n",
       "      <td>361487.000000</td>\n",
       "      <td>361487.000000</td>\n",
       "      <td>361487.000000</td>\n",
       "      <td>361487.000000</td>\n",
       "      <td>361487.000000</td>\n",
       "      <td>361487.000000</td>\n",
       "      <td>361487.000000</td>\n",
       "      <td>361487.000000</td>\n",
       "      <td>361487.000000</td>\n",
       "      <td>361487.000000</td>\n",
       "      <td>361487.000000</td>\n",
       "      <td>361487.000000</td>\n",
       "      <td>361487.000000</td>\n",
       "      <td>361487.000000</td>\n",
       "      <td>361487.000000</td>\n",
       "      <td>361487.000000</td>\n",
       "      <td>361487.000000</td>\n",
       "      <td>361487.000000</td>\n",
       "      <td>361487.000000</td>\n",
       "      <td>361487.000000</td>\n",
       "      <td>361487.000000</td>\n",
       "      <td>361487.000000</td>\n",
       "      <td>361487.000000</td>\n",
       "      <td>361487.000000</td>\n",
       "      <td>361487.000000</td>\n",
       "      <td>361487.000000</td>\n",
       "      <td>361487.000000</td>\n",
       "      <td>361487.000000</td>\n",
       "      <td>361487.000000</td>\n",
       "      <td>361487.000000</td>\n",
       "      <td>361487.000000</td>\n",
       "      <td>361487.000000</td>\n",
       "      <td>361487.000000</td>\n",
       "      <td>361487.000000</td>\n",
       "      <td>361487.000000</td>\n",
       "      <td>361487.000000</td>\n",
       "      <td>361487.000000</td>\n",
       "      <td>361487.000000</td>\n",
       "      <td>361487.000000</td>\n",
       "      <td>361487.000000</td>\n",
       "      <td>361487.000000</td>\n",
       "      <td>361487.000000</td>\n",
       "      <td>361487.000000</td>\n",
       "      <td>361487.000000</td>\n",
       "      <td>361487.00000</td>\n",
       "      <td>361487.000000</td>\n",
       "      <td>361487.000000</td>\n",
       "      <td>361487.000000</td>\n",
       "      <td>361487.000000</td>\n",
       "      <td>361487.000000</td>\n",
       "    </tr>\n",
       "    <tr>\n",
       "      <th>mean</th>\n",
       "      <td>-110.006370</td>\n",
       "      <td>37.608165</td>\n",
       "      <td>2059.256330</td>\n",
       "      <td>9.681416</td>\n",
       "      <td>0.230088</td>\n",
       "      <td>56.628319</td>\n",
       "      <td>9.513274</td>\n",
       "      <td>11.725664</td>\n",
       "      <td>15.353982</td>\n",
       "      <td>1869.543372</td>\n",
       "      <td>68.923141</td>\n",
       "      <td>10.045003</td>\n",
       "      <td>2.540820</td>\n",
       "      <td>80.205135</td>\n",
       "      <td>1102.243454</td>\n",
       "      <td>-2148.201356</td>\n",
       "      <td>865.203628</td>\n",
       "      <td>0.030043</td>\n",
       "      <td>0.220583</td>\n",
       "      <td>2.429139</td>\n",
       "      <td>15.129723</td>\n",
       "      <td>4.626324</td>\n",
       "      <td>0.091685</td>\n",
       "      <td>1.668572</td>\n",
       "      <td>6.890306</td>\n",
       "      <td>2.128373</td>\n",
       "      <td>2.271223</td>\n",
       "      <td>4.335438</td>\n",
       "      <td>3.566937</td>\n",
       "      <td>3.394016</td>\n",
       "      <td>59.709461</td>\n",
       "      <td>9.664007</td>\n",
       "      <td>0.000174</td>\n",
       "      <td>13.832044</td>\n",
       "      <td>5.663827</td>\n",
       "      <td>32.637407</td>\n",
       "      <td>49.978498</td>\n",
       "      <td>19.475135</td>\n",
       "      <td>7.438334</td>\n",
       "      <td>6.452871</td>\n",
       "      <td>8.206016</td>\n",
       "      <td>9.666901</td>\n",
       "      <td>31.764121</td>\n",
       "      <td>28.781481</td>\n",
       "      <td>28.635021</td>\n",
       "      <td>3.140236</td>\n",
       "      <td>2.167537</td>\n",
       "      <td>0.244533</td>\n",
       "      <td>1.549662</td>\n",
       "      <td>4.555233</td>\n",
       "      <td>3.686093</td>\n",
       "      <td>0.383971</td>\n",
       "      <td>2.156510</td>\n",
       "      <td>2.799289</td>\n",
       "      <td>12.897935</td>\n",
       "      <td>25.580826</td>\n",
       "      <td>14.037587</td>\n",
       "      <td>13.828909</td>\n",
       "      <td>17.242196</td>\n",
       "      <td>32.713527</td>\n",
       "      <td>39.308059</td>\n",
       "      <td>33.869340</td>\n",
       "      <td>-11.488461</td>\n",
       "      <td>-3.630644</td>\n",
       "      <td>8.174887</td>\n",
       "      <td>-6.675544</td>\n",
       "      <td>0.583190</td>\n",
       "      <td>5.611185</td>\n",
       "      <td>4.315243</td>\n",
       "      <td>2.235142</td>\n",
       "      <td>0.136993</td>\n",
       "      <td>0.113242</td>\n",
       "      <td>0.071087</td>\n",
       "      <td>0.101126</td>\n",
       "      <td>0.133197</td>\n",
       "      <td>0.114088</td>\n",
       "      <td>0.070851</td>\n",
       "      <td>0.098183</td>\n",
       "      <td>85.138392</td>\n",
       "      <td>66.740608</td>\n",
       "      <td>17.80864</td>\n",
       "      <td>60.146041</td>\n",
       "      <td>85.154824</td>\n",
       "      <td>67.373994</td>\n",
       "      <td>18.598475</td>\n",
       "      <td>60.269456</td>\n",
       "    </tr>\n",
       "    <tr>\n",
       "      <th>std</th>\n",
       "      <td>0.022623</td>\n",
       "      <td>0.016189</td>\n",
       "      <td>23.664681</td>\n",
       "      <td>8.766668</td>\n",
       "      <td>1.072661</td>\n",
       "      <td>18.428646</td>\n",
       "      <td>3.894897</td>\n",
       "      <td>6.082404</td>\n",
       "      <td>8.545487</td>\n",
       "      <td>57.236770</td>\n",
       "      <td>7.254012</td>\n",
       "      <td>2.592872</td>\n",
       "      <td>1.035572</td>\n",
       "      <td>38.595782</td>\n",
       "      <td>790.899228</td>\n",
       "      <td>6188.276350</td>\n",
       "      <td>7258.579932</td>\n",
       "      <td>0.314489</td>\n",
       "      <td>2.866963</td>\n",
       "      <td>8.022850</td>\n",
       "      <td>26.099634</td>\n",
       "      <td>12.417239</td>\n",
       "      <td>1.791754</td>\n",
       "      <td>7.007666</td>\n",
       "      <td>19.973210</td>\n",
       "      <td>8.730736</td>\n",
       "      <td>0.911252</td>\n",
       "      <td>1.358844</td>\n",
       "      <td>1.385918</td>\n",
       "      <td>1.189147</td>\n",
       "      <td>18.078396</td>\n",
       "      <td>8.820725</td>\n",
       "      <td>0.013200</td>\n",
       "      <td>6.647465</td>\n",
       "      <td>2.592574</td>\n",
       "      <td>3.222462</td>\n",
       "      <td>2.578142</td>\n",
       "      <td>4.616860</td>\n",
       "      <td>3.964706</td>\n",
       "      <td>3.201914</td>\n",
       "      <td>4.968161</td>\n",
       "      <td>5.142850</td>\n",
       "      <td>9.708677</td>\n",
       "      <td>18.553419</td>\n",
       "      <td>18.552235</td>\n",
       "      <td>1.628268</td>\n",
       "      <td>1.446062</td>\n",
       "      <td>0.365266</td>\n",
       "      <td>1.301541</td>\n",
       "      <td>3.152670</td>\n",
       "      <td>3.266708</td>\n",
       "      <td>0.670261</td>\n",
       "      <td>2.198945</td>\n",
       "      <td>2.058282</td>\n",
       "      <td>2.077262</td>\n",
       "      <td>1.988020</td>\n",
       "      <td>1.956094</td>\n",
       "      <td>1.762985</td>\n",
       "      <td>3.112943</td>\n",
       "      <td>3.271326</td>\n",
       "      <td>2.849182</td>\n",
       "      <td>2.740378</td>\n",
       "      <td>4.267718</td>\n",
       "      <td>3.040943</td>\n",
       "      <td>3.288514</td>\n",
       "      <td>2.801552</td>\n",
       "      <td>0.377567</td>\n",
       "      <td>2.528256</td>\n",
       "      <td>3.139154</td>\n",
       "      <td>1.270697</td>\n",
       "      <td>0.040477</td>\n",
       "      <td>0.040900</td>\n",
       "      <td>0.020400</td>\n",
       "      <td>0.034816</td>\n",
       "      <td>0.039725</td>\n",
       "      <td>0.042057</td>\n",
       "      <td>0.020720</td>\n",
       "      <td>0.033179</td>\n",
       "      <td>13.996200</td>\n",
       "      <td>21.726700</td>\n",
       "      <td>14.15980</td>\n",
       "      <td>23.759345</td>\n",
       "      <td>13.978476</td>\n",
       "      <td>21.955248</td>\n",
       "      <td>15.088808</td>\n",
       "      <td>23.786494</td>\n",
       "    </tr>\n",
       "    <tr>\n",
       "      <th>min</th>\n",
       "      <td>-110.047200</td>\n",
       "      <td>37.570340</td>\n",
       "      <td>1980.000000</td>\n",
       "      <td>0.000000</td>\n",
       "      <td>0.000000</td>\n",
       "      <td>11.000000</td>\n",
       "      <td>1.000000</td>\n",
       "      <td>1.000000</td>\n",
       "      <td>0.000000</td>\n",
       "      <td>1740.206000</td>\n",
       "      <td>54.702610</td>\n",
       "      <td>4.842324</td>\n",
       "      <td>0.526710</td>\n",
       "      <td>25.410720</td>\n",
       "      <td>137.625500</td>\n",
       "      <td>-9981.017000</td>\n",
       "      <td>-9973.848000</td>\n",
       "      <td>-0.892364</td>\n",
       "      <td>0.000000</td>\n",
       "      <td>0.000000</td>\n",
       "      <td>0.000000</td>\n",
       "      <td>0.000000</td>\n",
       "      <td>0.000000</td>\n",
       "      <td>0.000000</td>\n",
       "      <td>0.000000</td>\n",
       "      <td>0.000000</td>\n",
       "      <td>0.233727</td>\n",
       "      <td>0.087904</td>\n",
       "      <td>0.147033</td>\n",
       "      <td>0.153714</td>\n",
       "      <td>2.000000</td>\n",
       "      <td>0.000000</td>\n",
       "      <td>0.000000</td>\n",
       "      <td>0.000000</td>\n",
       "      <td>0.900000</td>\n",
       "      <td>18.755450</td>\n",
       "      <td>38.926380</td>\n",
       "      <td>6.249340</td>\n",
       "      <td>0.170000</td>\n",
       "      <td>0.000000</td>\n",
       "      <td>0.110000</td>\n",
       "      <td>0.230000</td>\n",
       "      <td>4.840000</td>\n",
       "      <td>0.000000</td>\n",
       "      <td>0.000000</td>\n",
       "      <td>0.000000</td>\n",
       "      <td>0.000000</td>\n",
       "      <td>0.000000</td>\n",
       "      <td>0.000000</td>\n",
       "      <td>0.000000</td>\n",
       "      <td>0.000000</td>\n",
       "      <td>0.000000</td>\n",
       "      <td>0.000000</td>\n",
       "      <td>-5.392722</td>\n",
       "      <td>4.092500</td>\n",
       "      <td>19.264730</td>\n",
       "      <td>8.111538</td>\n",
       "      <td>8.237818</td>\n",
       "      <td>6.490000</td>\n",
       "      <td>20.780000</td>\n",
       "      <td>31.370000</td>\n",
       "      <td>23.290000</td>\n",
       "      <td>-31.230000</td>\n",
       "      <td>-20.150000</td>\n",
       "      <td>-1.490000</td>\n",
       "      <td>-21.820000</td>\n",
       "      <td>0.000000</td>\n",
       "      <td>0.000000</td>\n",
       "      <td>0.000000</td>\n",
       "      <td>0.000000</td>\n",
       "      <td>0.035135</td>\n",
       "      <td>0.035125</td>\n",
       "      <td>0.032873</td>\n",
       "      <td>0.033547</td>\n",
       "      <td>0.030772</td>\n",
       "      <td>0.031090</td>\n",
       "      <td>0.029641</td>\n",
       "      <td>0.029978</td>\n",
       "      <td>0.000000</td>\n",
       "      <td>0.000000</td>\n",
       "      <td>0.00000</td>\n",
       "      <td>0.000000</td>\n",
       "      <td>0.000000</td>\n",
       "      <td>0.000000</td>\n",
       "      <td>0.000000</td>\n",
       "      <td>0.000000</td>\n",
       "    </tr>\n",
       "    <tr>\n",
       "      <th>25%</th>\n",
       "      <td>-110.027300</td>\n",
       "      <td>37.598060</td>\n",
       "      <td>2040.000000</td>\n",
       "      <td>0.000000</td>\n",
       "      <td>0.000000</td>\n",
       "      <td>45.000000</td>\n",
       "      <td>8.000000</td>\n",
       "      <td>8.000000</td>\n",
       "      <td>10.000000</td>\n",
       "      <td>1830.649000</td>\n",
       "      <td>62.963340</td>\n",
       "      <td>8.014318</td>\n",
       "      <td>1.918516</td>\n",
       "      <td>49.915230</td>\n",
       "      <td>380.872700</td>\n",
       "      <td>-8112.145000</td>\n",
       "      <td>-6447.018000</td>\n",
       "      <td>-0.192571</td>\n",
       "      <td>0.000000</td>\n",
       "      <td>0.000000</td>\n",
       "      <td>0.000000</td>\n",
       "      <td>0.000000</td>\n",
       "      <td>0.000000</td>\n",
       "      <td>0.000000</td>\n",
       "      <td>0.000000</td>\n",
       "      <td>0.000000</td>\n",
       "      <td>1.558178</td>\n",
       "      <td>3.374248</td>\n",
       "      <td>2.567915</td>\n",
       "      <td>2.533764</td>\n",
       "      <td>49.000000</td>\n",
       "      <td>2.000000</td>\n",
       "      <td>0.000000</td>\n",
       "      <td>9.000000</td>\n",
       "      <td>3.750309</td>\n",
       "      <td>31.379015</td>\n",
       "      <td>48.834440</td>\n",
       "      <td>17.491435</td>\n",
       "      <td>4.500000</td>\n",
       "      <td>4.060000</td>\n",
       "      <td>4.620000</td>\n",
       "      <td>5.960000</td>\n",
       "      <td>24.800000</td>\n",
       "      <td>17.727270</td>\n",
       "      <td>17.600000</td>\n",
       "      <td>1.822817</td>\n",
       "      <td>0.888147</td>\n",
       "      <td>0.026303</td>\n",
       "      <td>0.533631</td>\n",
       "      <td>2.131172</td>\n",
       "      <td>1.035732</td>\n",
       "      <td>0.032300</td>\n",
       "      <td>0.612649</td>\n",
       "      <td>1.352000</td>\n",
       "      <td>11.472070</td>\n",
       "      <td>24.244020</td>\n",
       "      <td>12.696100</td>\n",
       "      <td>12.600902</td>\n",
       "      <td>15.090000</td>\n",
       "      <td>30.490000</td>\n",
       "      <td>37.560000</td>\n",
       "      <td>32.050000</td>\n",
       "      <td>-14.020000</td>\n",
       "      <td>-5.610000</td>\n",
       "      <td>5.860000</td>\n",
       "      <td>-8.330000</td>\n",
       "      <td>0.261545</td>\n",
       "      <td>3.528046</td>\n",
       "      <td>1.954106</td>\n",
       "      <td>1.232415</td>\n",
       "      <td>0.108471</td>\n",
       "      <td>0.079789</td>\n",
       "      <td>0.053699</td>\n",
       "      <td>0.075852</td>\n",
       "      <td>0.105219</td>\n",
       "      <td>0.079743</td>\n",
       "      <td>0.053380</td>\n",
       "      <td>0.074418</td>\n",
       "      <td>90.000000</td>\n",
       "      <td>53.000000</td>\n",
       "      <td>7.00000</td>\n",
       "      <td>43.000000</td>\n",
       "      <td>90.000000</td>\n",
       "      <td>54.000000</td>\n",
       "      <td>7.000000</td>\n",
       "      <td>43.000000</td>\n",
       "    </tr>\n",
       "    <tr>\n",
       "      <th>50%</th>\n",
       "      <td>-110.005700</td>\n",
       "      <td>37.608620</td>\n",
       "      <td>2060.000000</td>\n",
       "      <td>9.000000</td>\n",
       "      <td>0.000000</td>\n",
       "      <td>56.000000</td>\n",
       "      <td>10.000000</td>\n",
       "      <td>10.000000</td>\n",
       "      <td>14.000000</td>\n",
       "      <td>1863.628000</td>\n",
       "      <td>68.272420</td>\n",
       "      <td>10.137930</td>\n",
       "      <td>2.302660</td>\n",
       "      <td>72.295410</td>\n",
       "      <td>873.719400</td>\n",
       "      <td>-3258.032000</td>\n",
       "      <td>1938.931000</td>\n",
       "      <td>0.055929</td>\n",
       "      <td>0.000000</td>\n",
       "      <td>0.000000</td>\n",
       "      <td>0.000000</td>\n",
       "      <td>0.000000</td>\n",
       "      <td>0.000000</td>\n",
       "      <td>0.000000</td>\n",
       "      <td>0.000000</td>\n",
       "      <td>0.000000</td>\n",
       "      <td>2.349661</td>\n",
       "      <td>4.318098</td>\n",
       "      <td>3.505439</td>\n",
       "      <td>3.371230</td>\n",
       "      <td>64.000000</td>\n",
       "      <td>8.000000</td>\n",
       "      <td>0.000000</td>\n",
       "      <td>14.000000</td>\n",
       "      <td>5.979960</td>\n",
       "      <td>33.309310</td>\n",
       "      <td>50.325080</td>\n",
       "      <td>20.588690</td>\n",
       "      <td>6.790000</td>\n",
       "      <td>6.030000</td>\n",
       "      <td>7.300000</td>\n",
       "      <td>8.870000</td>\n",
       "      <td>30.830000</td>\n",
       "      <td>24.000000</td>\n",
       "      <td>24.000000</td>\n",
       "      <td>3.019208</td>\n",
       "      <td>1.999837</td>\n",
       "      <td>0.112749</td>\n",
       "      <td>1.172305</td>\n",
       "      <td>3.819979</td>\n",
       "      <td>2.744117</td>\n",
       "      <td>0.144603</td>\n",
       "      <td>1.437592</td>\n",
       "      <td>2.678022</td>\n",
       "      <td>12.735600</td>\n",
       "      <td>25.370330</td>\n",
       "      <td>13.843080</td>\n",
       "      <td>13.636480</td>\n",
       "      <td>17.040000</td>\n",
       "      <td>32.490000</td>\n",
       "      <td>38.960000</td>\n",
       "      <td>33.660000</td>\n",
       "      <td>-11.020000</td>\n",
       "      <td>-3.750000</td>\n",
       "      <td>8.110000</td>\n",
       "      <td>-6.500000</td>\n",
       "      <td>0.543242</td>\n",
       "      <td>5.692500</td>\n",
       "      <td>3.676749</td>\n",
       "      <td>2.106709</td>\n",
       "      <td>0.134828</td>\n",
       "      <td>0.106445</td>\n",
       "      <td>0.070954</td>\n",
       "      <td>0.096180</td>\n",
       "      <td>0.131368</td>\n",
       "      <td>0.107218</td>\n",
       "      <td>0.070464</td>\n",
       "      <td>0.094237</td>\n",
       "      <td>90.000000</td>\n",
       "      <td>70.000000</td>\n",
       "      <td>15.00000</td>\n",
       "      <td>63.000000</td>\n",
       "      <td>90.000000</td>\n",
       "      <td>71.000000</td>\n",
       "      <td>15.000000</td>\n",
       "      <td>64.000000</td>\n",
       "    </tr>\n",
       "    <tr>\n",
       "      <th>75%</th>\n",
       "      <td>-109.990900</td>\n",
       "      <td>37.621560</td>\n",
       "      <td>2080.000000</td>\n",
       "      <td>18.000000</td>\n",
       "      <td>0.000000</td>\n",
       "      <td>67.000000</td>\n",
       "      <td>11.000000</td>\n",
       "      <td>16.000000</td>\n",
       "      <td>20.000000</td>\n",
       "      <td>1911.437000</td>\n",
       "      <td>76.029850</td>\n",
       "      <td>12.345460</td>\n",
       "      <td>2.670737</td>\n",
       "      <td>102.663300</td>\n",
       "      <td>1675.031000</td>\n",
       "      <td>2693.216000</td>\n",
       "      <td>7829.363000</td>\n",
       "      <td>0.272663</td>\n",
       "      <td>0.000000</td>\n",
       "      <td>0.000000</td>\n",
       "      <td>26.000000</td>\n",
       "      <td>0.000000</td>\n",
       "      <td>0.000000</td>\n",
       "      <td>0.000000</td>\n",
       "      <td>0.000000</td>\n",
       "      <td>0.000000</td>\n",
       "      <td>2.921302</td>\n",
       "      <td>5.268996</td>\n",
       "      <td>4.494690</td>\n",
       "      <td>4.228456</td>\n",
       "      <td>73.000000</td>\n",
       "      <td>15.000000</td>\n",
       "      <td>0.000000</td>\n",
       "      <td>18.000000</td>\n",
       "      <td>7.420431</td>\n",
       "      <td>34.733470</td>\n",
       "      <td>51.561920</td>\n",
       "      <td>22.505180</td>\n",
       "      <td>9.620000</td>\n",
       "      <td>8.350000</td>\n",
       "      <td>10.830000</td>\n",
       "      <td>12.390000</td>\n",
       "      <td>37.600000</td>\n",
       "      <td>33.750000</td>\n",
       "      <td>33.666670</td>\n",
       "      <td>4.489856</td>\n",
       "      <td>3.325924</td>\n",
       "      <td>0.306845</td>\n",
       "      <td>2.243930</td>\n",
       "      <td>6.480175</td>\n",
       "      <td>5.581955</td>\n",
       "      <td>0.434667</td>\n",
       "      <td>2.945867</td>\n",
       "      <td>4.096944</td>\n",
       "      <td>14.194460</td>\n",
       "      <td>26.679080</td>\n",
       "      <td>15.156100</td>\n",
       "      <td>14.812633</td>\n",
       "      <td>19.160000</td>\n",
       "      <td>34.740000</td>\n",
       "      <td>40.570000</td>\n",
       "      <td>35.380000</td>\n",
       "      <td>-8.370000</td>\n",
       "      <td>-1.760000</td>\n",
       "      <td>10.370000</td>\n",
       "      <td>-4.800000</td>\n",
       "      <td>0.886009</td>\n",
       "      <td>7.742646</td>\n",
       "      <td>6.002476</td>\n",
       "      <td>3.131443</td>\n",
       "      <td>0.165727</td>\n",
       "      <td>0.144764</td>\n",
       "      <td>0.085604</td>\n",
       "      <td>0.120526</td>\n",
       "      <td>0.159760</td>\n",
       "      <td>0.145147</td>\n",
       "      <td>0.086220</td>\n",
       "      <td>0.116242</td>\n",
       "      <td>90.000000</td>\n",
       "      <td>86.000000</td>\n",
       "      <td>25.00000</td>\n",
       "      <td>80.000000</td>\n",
       "      <td>90.000000</td>\n",
       "      <td>88.000000</td>\n",
       "      <td>26.000000</td>\n",
       "      <td>81.000000</td>\n",
       "    </tr>\n",
       "    <tr>\n",
       "      <th>max</th>\n",
       "      <td>-109.965900</td>\n",
       "      <td>37.634760</td>\n",
       "      <td>2099.000000</td>\n",
       "      <td>29.000000</td>\n",
       "      <td>6.000000</td>\n",
       "      <td>94.000000</td>\n",
       "      <td>20.000000</td>\n",
       "      <td>26.000000</td>\n",
       "      <td>46.000000</td>\n",
       "      <td>2004.064000</td>\n",
       "      <td>80.710780</td>\n",
       "      <td>16.347870</td>\n",
       "      <td>6.163254</td>\n",
       "      <td>175.411100</td>\n",
       "      <td>2940.777000</td>\n",
       "      <td>9886.349000</td>\n",
       "      <td>9988.666000</td>\n",
       "      <td>0.836821</td>\n",
       "      <td>89.000000</td>\n",
       "      <td>89.000000</td>\n",
       "      <td>92.000000</td>\n",
       "      <td>91.000000</td>\n",
       "      <td>89.000000</td>\n",
       "      <td>89.000000</td>\n",
       "      <td>92.000000</td>\n",
       "      <td>91.000000</td>\n",
       "      <td>6.381347</td>\n",
       "      <td>11.438000</td>\n",
       "      <td>9.749717</td>\n",
       "      <td>8.357403</td>\n",
       "      <td>91.000000</td>\n",
       "      <td>61.000000</td>\n",
       "      <td>1.000000</td>\n",
       "      <td>40.000000</td>\n",
       "      <td>14.282130</td>\n",
       "      <td>43.300360</td>\n",
       "      <td>59.533280</td>\n",
       "      <td>32.502470</td>\n",
       "      <td>33.240000</td>\n",
       "      <td>23.230000</td>\n",
       "      <td>42.070000</td>\n",
       "      <td>42.720000</td>\n",
       "      <td>92.220000</td>\n",
       "      <td>269.000000</td>\n",
       "      <td>269.000000</td>\n",
       "      <td>6.784597</td>\n",
       "      <td>6.189849</td>\n",
       "      <td>4.861824</td>\n",
       "      <td>6.527130</td>\n",
       "      <td>19.377390</td>\n",
       "      <td>18.419540</td>\n",
       "      <td>14.432510</td>\n",
       "      <td>19.007200</td>\n",
       "      <td>10.313780</td>\n",
       "      <td>22.892930</td>\n",
       "      <td>35.191850</td>\n",
       "      <td>23.339400</td>\n",
       "      <td>22.171122</td>\n",
       "      <td>29.540000</td>\n",
       "      <td>50.660000</td>\n",
       "      <td>59.430000</td>\n",
       "      <td>50.780000</td>\n",
       "      <td>-1.680000</td>\n",
       "      <td>6.380000</td>\n",
       "      <td>20.720000</td>\n",
       "      <td>5.490000</td>\n",
       "      <td>2.146895</td>\n",
       "      <td>12.191290</td>\n",
       "      <td>21.127350</td>\n",
       "      <td>6.989832</td>\n",
       "      <td>0.246990</td>\n",
       "      <td>0.234924</td>\n",
       "      <td>0.197455</td>\n",
       "      <td>0.241773</td>\n",
       "      <td>0.243185</td>\n",
       "      <td>0.232212</td>\n",
       "      <td>0.193166</td>\n",
       "      <td>0.239675</td>\n",
       "      <td>91.000000</td>\n",
       "      <td>92.000000</td>\n",
       "      <td>92.00000</td>\n",
       "      <td>91.000000</td>\n",
       "      <td>91.000000</td>\n",
       "      <td>92.000000</td>\n",
       "      <td>92.000000</td>\n",
       "      <td>91.000000</td>\n",
       "    </tr>\n",
       "  </tbody>\n",
       "</table>\n",
       "</div>"
      ],
      "text/plain": [
       "                long            lat           year     treecanopy  \\\n",
       "count  361487.000000  361487.000000  361487.000000  361487.000000   \n",
       "mean     -110.006370      37.608165    2059.256330       9.681416   \n",
       "std         0.022623       0.016189      23.664681       8.766668   \n",
       "min      -110.047200      37.570340    1980.000000       0.000000   \n",
       "25%      -110.027300      37.598060    2040.000000       0.000000   \n",
       "50%      -110.005700      37.608620    2060.000000       9.000000   \n",
       "75%      -109.990900      37.621560    2080.000000      18.000000   \n",
       "max      -109.965900      37.634760    2099.000000      29.000000   \n",
       "\n",
       "            Ann_Herb           Bare           Herb         Litter  \\\n",
       "count  361487.000000  361487.000000  361487.000000  361487.000000   \n",
       "mean        0.230088      56.628319       9.513274      11.725664   \n",
       "std         1.072661      18.428646       3.894897       6.082404   \n",
       "min         0.000000      11.000000       1.000000       1.000000   \n",
       "25%         0.000000      45.000000       8.000000       8.000000   \n",
       "50%         0.000000      56.000000      10.000000      10.000000   \n",
       "75%         0.000000      67.000000      11.000000      16.000000   \n",
       "max         6.000000      94.000000      20.000000      26.000000   \n",
       "\n",
       "               Shrub             El             Sa             Cl  \\\n",
       "count  361487.000000  361487.000000  361487.000000  361487.000000   \n",
       "mean       15.353982    1869.543372      68.923141      10.045003   \n",
       "std         8.545487      57.236770       7.254012       2.592872   \n",
       "min         0.000000    1740.206000      54.702610       4.842324   \n",
       "25%        10.000000    1830.649000      62.963340       8.014318   \n",
       "50%        14.000000    1863.628000      68.272420      10.137930   \n",
       "75%        20.000000    1911.437000      76.029850      12.345460   \n",
       "max        46.000000    2004.064000      80.710780      16.347870   \n",
       "\n",
       "                  RF             RL          Slope              E  \\\n",
       "count  361487.000000  361487.000000  361487.000000  361487.000000   \n",
       "mean        2.540820      80.205135    1102.243454   -2148.201356   \n",
       "std         1.035572      38.595782     790.899228    6188.276350   \n",
       "min         0.526710      25.410720     137.625500   -9981.017000   \n",
       "25%         1.918516      49.915230     380.872700   -8112.145000   \n",
       "50%         2.302660      72.295410     873.719400   -3258.032000   \n",
       "75%         2.670737     102.663300    1675.031000    2693.216000   \n",
       "max         6.163254     175.411100    2940.777000    9886.349000   \n",
       "\n",
       "                   S       T_P_Corr  DrySoilDays_Winter_top50  \\\n",
       "count  361487.000000  361487.000000             361487.000000   \n",
       "mean      865.203628       0.030043                  0.220583   \n",
       "std      7258.579932       0.314489                  2.866963   \n",
       "min     -9973.848000      -0.892364                  0.000000   \n",
       "25%     -6447.018000      -0.192571                  0.000000   \n",
       "50%      1938.931000       0.055929                  0.000000   \n",
       "75%      7829.363000       0.272663                  0.000000   \n",
       "max      9988.666000       0.836821                 89.000000   \n",
       "\n",
       "       DrySoilDays_Spring_top50  DrySoilDays_Summer_top50  \\\n",
       "count             361487.000000             361487.000000   \n",
       "mean                   2.429139                 15.129723   \n",
       "std                    8.022850                 26.099634   \n",
       "min                    0.000000                  0.000000   \n",
       "25%                    0.000000                  0.000000   \n",
       "50%                    0.000000                  0.000000   \n",
       "75%                    0.000000                 26.000000   \n",
       "max                   89.000000                 92.000000   \n",
       "\n",
       "       DrySoilDays_Fall_top50  DrySoilDays_Winter_whole  \\\n",
       "count           361487.000000             361487.000000   \n",
       "mean                 4.626324                  0.091685   \n",
       "std                 12.417239                  1.791754   \n",
       "min                  0.000000                  0.000000   \n",
       "25%                  0.000000                  0.000000   \n",
       "50%                  0.000000                  0.000000   \n",
       "75%                  0.000000                  0.000000   \n",
       "max                 91.000000                 89.000000   \n",
       "\n",
       "       DrySoilDays_Spring_whole  DrySoilDays_Summer_whole  \\\n",
       "count             361487.000000             361487.000000   \n",
       "mean                   1.668572                  6.890306   \n",
       "std                    7.007666                 19.973210   \n",
       "min                    0.000000                  0.000000   \n",
       "25%                    0.000000                  0.000000   \n",
       "50%                    0.000000                  0.000000   \n",
       "75%                    0.000000                  0.000000   \n",
       "max                   89.000000                 92.000000   \n",
       "\n",
       "       DrySoilDays_Fall_whole    Evap_Winter    Evap_Spring    Evap_Summer  \\\n",
       "count           361487.000000  361487.000000  361487.000000  361487.000000   \n",
       "mean                 2.128373       2.271223       4.335438       3.566937   \n",
       "std                  8.730736       0.911252       1.358844       1.385918   \n",
       "min                  0.000000       0.233727       0.087904       0.147033   \n",
       "25%                  0.000000       1.558178       3.374248       2.567915   \n",
       "50%                  0.000000       2.349661       4.318098       3.505439   \n",
       "75%                  0.000000       2.921302       5.268996       4.494690   \n",
       "max                 91.000000       6.381347      11.438000       9.749717   \n",
       "\n",
       "           Evap_Fall  FrostDays_Winter  FrostDays_Spring  FrostDays_Summer  \\\n",
       "count  361487.000000     361487.000000     361487.000000     361487.000000   \n",
       "mean        3.394016         59.709461          9.664007          0.000174   \n",
       "std         1.189147         18.078396          8.820725          0.013200   \n",
       "min         0.153714          2.000000          0.000000          0.000000   \n",
       "25%         2.533764         49.000000          2.000000          0.000000   \n",
       "50%         3.371230         64.000000          8.000000          0.000000   \n",
       "75%         4.228456         73.000000         15.000000          0.000000   \n",
       "max         8.357403         91.000000         61.000000          1.000000   \n",
       "\n",
       "       FrostDays_Fall     PET_Winter     PET_Spring     PET_Summer  \\\n",
       "count   361487.000000  361487.000000  361487.000000  361487.000000   \n",
       "mean        13.832044       5.663827      32.637407      49.978498   \n",
       "std          6.647465       2.592574       3.222462       2.578142   \n",
       "min          0.000000       0.900000      18.755450      38.926380   \n",
       "25%          9.000000       3.750309      31.379015      48.834440   \n",
       "50%         14.000000       5.979960      33.309310      50.325080   \n",
       "75%         18.000000       7.420431      34.733470      51.561920   \n",
       "max         40.000000      14.282130      43.300360      59.533280   \n",
       "\n",
       "            PET_Fall     PPT_Winter     PPT_Spring     PPT_Summer  \\\n",
       "count  361487.000000  361487.000000  361487.000000  361487.000000   \n",
       "mean       19.475135       7.438334       6.452871       8.206016   \n",
       "std         4.616860       3.964706       3.201914       4.968161   \n",
       "min         6.249340       0.170000       0.000000       0.110000   \n",
       "25%        17.491435       4.500000       4.060000       4.620000   \n",
       "50%        20.588690       6.790000       6.030000       7.300000   \n",
       "75%        22.505180       9.620000       8.350000      10.830000   \n",
       "max        32.502470      33.240000      23.230000      42.070000   \n",
       "\n",
       "            PPT_Fall     PPT_Annual  SemiDryDuration_Annual_top50  \\\n",
       "count  361487.000000  361487.000000                 361487.000000   \n",
       "mean        9.666901      31.764121                     28.781481   \n",
       "std         5.142850       9.708677                     18.553419   \n",
       "min         0.230000       4.840000                      0.000000   \n",
       "25%         5.960000      24.800000                     17.727270   \n",
       "50%         8.870000      30.830000                     24.000000   \n",
       "75%        12.390000      37.600000                     33.750000   \n",
       "max        42.720000      92.220000                    269.000000   \n",
       "\n",
       "       SemiDryDuration_Annual_whole  SWA_Winter_top50  SWA_Spring_top50  \\\n",
       "count                 361487.000000     361487.000000     361487.000000   \n",
       "mean                      28.635021          3.140236          2.167537   \n",
       "std                       18.552235          1.628268          1.446062   \n",
       "min                        0.000000          0.000000          0.000000   \n",
       "25%                       17.600000          1.822817          0.888147   \n",
       "50%                       24.000000          3.019208          1.999837   \n",
       "75%                       33.666670          4.489856          3.325924   \n",
       "max                      269.000000          6.784597          6.189849   \n",
       "\n",
       "       SWA_Summer_top50  SWA_Fall_top50  SWA_Winter_whole  SWA_Spring_whole  \\\n",
       "count     361487.000000   361487.000000     361487.000000     361487.000000   \n",
       "mean           0.244533        1.549662          4.555233          3.686093   \n",
       "std            0.365266        1.301541          3.152670          3.266708   \n",
       "min            0.000000        0.000000          0.000000          0.000000   \n",
       "25%            0.026303        0.533631          2.131172          1.035732   \n",
       "50%            0.112749        1.172305          3.819979          2.744117   \n",
       "75%            0.306845        2.243930          6.480175          5.581955   \n",
       "max            4.861824        6.527130         19.377390         18.419540   \n",
       "\n",
       "       SWA_Summer_whole  SWA_Fall_whole       T_Winter       T_Spring  \\\n",
       "count     361487.000000   361487.000000  361487.000000  361487.000000   \n",
       "mean           0.383971        2.156510       2.799289      12.897935   \n",
       "std            0.670261        2.198945       2.058282       2.077262   \n",
       "min            0.000000        0.000000      -5.392722       4.092500   \n",
       "25%            0.032300        0.612649       1.352000      11.472070   \n",
       "50%            0.144603        1.437592       2.678022      12.735600   \n",
       "75%            0.434667        2.945867       4.096944      14.194460   \n",
       "max           14.432510       19.007200      10.313780      22.892930   \n",
       "\n",
       "            T_Summer         T_Fall       T_Annual    Tmax_Winter  \\\n",
       "count  361487.000000  361487.000000  361487.000000  361487.000000   \n",
       "mean       25.580826      14.037587      13.828909      17.242196   \n",
       "std         1.988020       1.956094       1.762985       3.112943   \n",
       "min        19.264730       8.111538       8.237818       6.490000   \n",
       "25%        24.244020      12.696100      12.600902      15.090000   \n",
       "50%        25.370330      13.843080      13.636480      17.040000   \n",
       "75%        26.679080      15.156100      14.812633      19.160000   \n",
       "max        35.191850      23.339400      22.171122      29.540000   \n",
       "\n",
       "         Tmax_Spring    Tmax_Summer      Tmax_Fall    Tmin_Winter  \\\n",
       "count  361487.000000  361487.000000  361487.000000  361487.000000   \n",
       "mean       32.713527      39.308059      33.869340     -11.488461   \n",
       "std         3.271326       2.849182       2.740378       4.267718   \n",
       "min        20.780000      31.370000      23.290000     -31.230000   \n",
       "25%        30.490000      37.560000      32.050000     -14.020000   \n",
       "50%        32.490000      38.960000      33.660000     -11.020000   \n",
       "75%        34.740000      40.570000      35.380000      -8.370000   \n",
       "max        50.660000      59.430000      50.780000      -1.680000   \n",
       "\n",
       "         Tmin_Spring    Tmin_Summer      Tmin_Fall  Transp_Winter  \\\n",
       "count  361487.000000  361487.000000  361487.000000  361487.000000   \n",
       "mean       -3.630644       8.174887      -6.675544       0.583190   \n",
       "std         3.040943       3.288514       2.801552       0.377567   \n",
       "min       -20.150000      -1.490000     -21.820000       0.000000   \n",
       "25%        -5.610000       5.860000      -8.330000       0.261545   \n",
       "50%        -3.750000       8.110000      -6.500000       0.543242   \n",
       "75%        -1.760000      10.370000      -4.800000       0.886009   \n",
       "max         6.380000      20.720000       5.490000       2.146895   \n",
       "\n",
       "       Transp_Spring  Transp_Summer    Transp_Fall  VWC_Winter_top50  \\\n",
       "count  361487.000000  361487.000000  361487.000000     361487.000000   \n",
       "mean        5.611185       4.315243       2.235142          0.136993   \n",
       "std         2.528256       3.139154       1.270697          0.040477   \n",
       "min         0.000000       0.000000       0.000000          0.035135   \n",
       "25%         3.528046       1.954106       1.232415          0.108471   \n",
       "50%         5.692500       3.676749       2.106709          0.134828   \n",
       "75%         7.742646       6.002476       3.131443          0.165727   \n",
       "max        12.191290      21.127350       6.989832          0.246990   \n",
       "\n",
       "       VWC_Spring_top50  VWC_Summer_top50  VWC_Fall_top50  VWC_Winter_whole  \\\n",
       "count     361487.000000     361487.000000   361487.000000     361487.000000   \n",
       "mean           0.113242          0.071087        0.101126          0.133197   \n",
       "std            0.040900          0.020400        0.034816          0.039725   \n",
       "min            0.035125          0.032873        0.033547          0.030772   \n",
       "25%            0.079789          0.053699        0.075852          0.105219   \n",
       "50%            0.106445          0.070954        0.096180          0.131368   \n",
       "75%            0.144764          0.085604        0.120526          0.159760   \n",
       "max            0.234924          0.197455        0.241773          0.243185   \n",
       "\n",
       "       VWC_Spring_whole  VWC_Summer_whole  VWC_Fall_whole  \\\n",
       "count     361487.000000     361487.000000   361487.000000   \n",
       "mean           0.114088          0.070851        0.098183   \n",
       "std            0.042057          0.020720        0.033179   \n",
       "min            0.031090          0.029641        0.029978   \n",
       "25%            0.079743          0.053380        0.074418   \n",
       "50%            0.107218          0.070464        0.094237   \n",
       "75%            0.145147          0.086220        0.116242   \n",
       "max            0.232212          0.193166        0.239675   \n",
       "\n",
       "       WetSoilDays_Winter_top50  WetSoilDays_Spring_top50  \\\n",
       "count             361487.000000             361487.000000   \n",
       "mean                  85.138392                 66.740608   \n",
       "std                   13.996200                 21.726700   \n",
       "min                    0.000000                  0.000000   \n",
       "25%                   90.000000                 53.000000   \n",
       "50%                   90.000000                 70.000000   \n",
       "75%                   90.000000                 86.000000   \n",
       "max                   91.000000                 92.000000   \n",
       "\n",
       "       WetSoilDays_Summer_top50  WetSoilDays_Fall_top50  \\\n",
       "count              361487.00000           361487.000000   \n",
       "mean                   17.80864               60.146041   \n",
       "std                    14.15980               23.759345   \n",
       "min                     0.00000                0.000000   \n",
       "25%                     7.00000               43.000000   \n",
       "50%                    15.00000               63.000000   \n",
       "75%                    25.00000               80.000000   \n",
       "max                    92.00000               91.000000   \n",
       "\n",
       "       WetSoilDays_Winter_whole  WetSoilDays_Spring_whole  \\\n",
       "count             361487.000000             361487.000000   \n",
       "mean                  85.154824                 67.373994   \n",
       "std                   13.978476                 21.955248   \n",
       "min                    0.000000                  0.000000   \n",
       "25%                   90.000000                 54.000000   \n",
       "50%                   90.000000                 71.000000   \n",
       "75%                   90.000000                 88.000000   \n",
       "max                   91.000000                 92.000000   \n",
       "\n",
       "       WetSoilDays_Summer_whole  WetSoilDays_Fall_whole  \n",
       "count             361487.000000           361487.000000  \n",
       "mean                  18.598475               60.269456  \n",
       "std                   15.088808               23.786494  \n",
       "min                    0.000000                0.000000  \n",
       "25%                    7.000000               43.000000  \n",
       "50%                   15.000000               64.000000  \n",
       "75%                   26.000000               81.000000  \n",
       "max                   92.000000               91.000000  "
      ]
     },
     "execution_count": 44,
     "metadata": {},
     "output_type": "execute_result"
    }
   ],
   "source": [
    "# get basic stats for the dataframe\n",
    "df.describe()"
   ]
  },
  {
   "cell_type": "code",
   "execution_count": 45,
   "metadata": {},
   "outputs": [
    {
     "data": {
      "text/html": [
       "<div>\n",
       "<style scoped>\n",
       "    .dataframe tbody tr th:only-of-type {\n",
       "        vertical-align: middle;\n",
       "    }\n",
       "\n",
       "    .dataframe tbody tr th {\n",
       "        vertical-align: top;\n",
       "    }\n",
       "\n",
       "    .dataframe thead th {\n",
       "        text-align: right;\n",
       "    }\n",
       "</style>\n",
       "<table border=\"1\" class=\"dataframe\">\n",
       "  <thead>\n",
       "    <tr style=\"text-align: right;\">\n",
       "      <th></th>\n",
       "      <th>long</th>\n",
       "      <th>lat</th>\n",
       "      <th>year</th>\n",
       "      <th>treecanopy</th>\n",
       "      <th>Ann_Herb</th>\n",
       "      <th>Bare</th>\n",
       "      <th>Herb</th>\n",
       "      <th>Litter</th>\n",
       "      <th>Shrub</th>\n",
       "      <th>El</th>\n",
       "      <th>Sa</th>\n",
       "      <th>Cl</th>\n",
       "      <th>RF</th>\n",
       "      <th>RL</th>\n",
       "      <th>Slope</th>\n",
       "      <th>E</th>\n",
       "      <th>S</th>\n",
       "      <th>T_P_Corr</th>\n",
       "      <th>DrySoilDays_Winter_top50</th>\n",
       "      <th>DrySoilDays_Spring_top50</th>\n",
       "      <th>DrySoilDays_Summer_top50</th>\n",
       "      <th>DrySoilDays_Fall_top50</th>\n",
       "      <th>DrySoilDays_Winter_whole</th>\n",
       "      <th>DrySoilDays_Spring_whole</th>\n",
       "      <th>DrySoilDays_Summer_whole</th>\n",
       "      <th>DrySoilDays_Fall_whole</th>\n",
       "      <th>Evap_Winter</th>\n",
       "      <th>Evap_Spring</th>\n",
       "      <th>Evap_Summer</th>\n",
       "      <th>Evap_Fall</th>\n",
       "      <th>FrostDays_Winter</th>\n",
       "      <th>FrostDays_Spring</th>\n",
       "      <th>FrostDays_Summer</th>\n",
       "      <th>FrostDays_Fall</th>\n",
       "      <th>PET_Winter</th>\n",
       "      <th>PET_Spring</th>\n",
       "      <th>PET_Summer</th>\n",
       "      <th>PET_Fall</th>\n",
       "      <th>PPT_Winter</th>\n",
       "      <th>PPT_Spring</th>\n",
       "      <th>PPT_Summer</th>\n",
       "      <th>PPT_Fall</th>\n",
       "      <th>PPT_Annual</th>\n",
       "      <th>SemiDryDuration_Annual_top50</th>\n",
       "      <th>SemiDryDuration_Annual_whole</th>\n",
       "      <th>SWA_Winter_top50</th>\n",
       "      <th>SWA_Spring_top50</th>\n",
       "      <th>SWA_Summer_top50</th>\n",
       "      <th>SWA_Fall_top50</th>\n",
       "      <th>SWA_Winter_whole</th>\n",
       "      <th>SWA_Spring_whole</th>\n",
       "      <th>SWA_Summer_whole</th>\n",
       "      <th>SWA_Fall_whole</th>\n",
       "      <th>T_Winter</th>\n",
       "      <th>T_Spring</th>\n",
       "      <th>T_Summer</th>\n",
       "      <th>T_Fall</th>\n",
       "      <th>T_Annual</th>\n",
       "      <th>Tmax_Winter</th>\n",
       "      <th>Tmax_Spring</th>\n",
       "      <th>Tmax_Summer</th>\n",
       "      <th>Tmax_Fall</th>\n",
       "      <th>Tmin_Winter</th>\n",
       "      <th>Tmin_Spring</th>\n",
       "      <th>Tmin_Summer</th>\n",
       "      <th>Tmin_Fall</th>\n",
       "      <th>Transp_Winter</th>\n",
       "      <th>Transp_Spring</th>\n",
       "      <th>Transp_Summer</th>\n",
       "      <th>Transp_Fall</th>\n",
       "      <th>VWC_Winter_top50</th>\n",
       "      <th>VWC_Spring_top50</th>\n",
       "      <th>VWC_Summer_top50</th>\n",
       "      <th>VWC_Fall_top50</th>\n",
       "      <th>VWC_Winter_whole</th>\n",
       "      <th>VWC_Spring_whole</th>\n",
       "      <th>VWC_Summer_whole</th>\n",
       "      <th>VWC_Fall_whole</th>\n",
       "      <th>WetSoilDays_Winter_top50</th>\n",
       "      <th>WetSoilDays_Spring_top50</th>\n",
       "      <th>WetSoilDays_Summer_top50</th>\n",
       "      <th>WetSoilDays_Fall_top50</th>\n",
       "      <th>WetSoilDays_Winter_whole</th>\n",
       "      <th>WetSoilDays_Spring_whole</th>\n",
       "      <th>WetSoilDays_Summer_whole</th>\n",
       "      <th>WetSoilDays_Fall_whole</th>\n",
       "    </tr>\n",
       "  </thead>\n",
       "  <tbody>\n",
       "    <tr>\n",
       "      <th>count</th>\n",
       "      <td>4407.000000</td>\n",
       "      <td>4407.000000</td>\n",
       "      <td>4407.000000</td>\n",
       "      <td>4407.000000</td>\n",
       "      <td>4407.000000</td>\n",
       "      <td>4407.000000</td>\n",
       "      <td>4407.000000</td>\n",
       "      <td>4407.000000</td>\n",
       "      <td>4407.000000</td>\n",
       "      <td>4407.000000</td>\n",
       "      <td>4407.000000</td>\n",
       "      <td>4407.000000</td>\n",
       "      <td>4407.000000</td>\n",
       "      <td>4407.000000</td>\n",
       "      <td>4407.000000</td>\n",
       "      <td>4407.000000</td>\n",
       "      <td>4407.000000</td>\n",
       "      <td>4407.000000</td>\n",
       "      <td>4407.000000</td>\n",
       "      <td>4407.000000</td>\n",
       "      <td>4407.000000</td>\n",
       "      <td>4407.000000</td>\n",
       "      <td>4407.000000</td>\n",
       "      <td>4407.000000</td>\n",
       "      <td>4407.000000</td>\n",
       "      <td>4407.000000</td>\n",
       "      <td>4407.000000</td>\n",
       "      <td>4407.000000</td>\n",
       "      <td>4407.000000</td>\n",
       "      <td>4407.000000</td>\n",
       "      <td>4407.000000</td>\n",
       "      <td>4407.000000</td>\n",
       "      <td>4407.0</td>\n",
       "      <td>4407.000000</td>\n",
       "      <td>4407.000000</td>\n",
       "      <td>4407.000000</td>\n",
       "      <td>4407.000000</td>\n",
       "      <td>4407.000000</td>\n",
       "      <td>4407.000000</td>\n",
       "      <td>4407.000000</td>\n",
       "      <td>4407.000000</td>\n",
       "      <td>4407.000000</td>\n",
       "      <td>4407.000000</td>\n",
       "      <td>4407.000000</td>\n",
       "      <td>4407.000000</td>\n",
       "      <td>4407.000000</td>\n",
       "      <td>4407.000000</td>\n",
       "      <td>4407.000000</td>\n",
       "      <td>4407.000000</td>\n",
       "      <td>4407.000000</td>\n",
       "      <td>4407.000000</td>\n",
       "      <td>4407.000000</td>\n",
       "      <td>4407.000000</td>\n",
       "      <td>4407.000000</td>\n",
       "      <td>4407.000000</td>\n",
       "      <td>4407.000000</td>\n",
       "      <td>4407.000000</td>\n",
       "      <td>4407.000000</td>\n",
       "      <td>4407.000000</td>\n",
       "      <td>4407.000000</td>\n",
       "      <td>4407.000000</td>\n",
       "      <td>4407.000000</td>\n",
       "      <td>4407.000000</td>\n",
       "      <td>4407.000000</td>\n",
       "      <td>4407.000000</td>\n",
       "      <td>4407.000000</td>\n",
       "      <td>4407.000000</td>\n",
       "      <td>4407.000000</td>\n",
       "      <td>4407.000000</td>\n",
       "      <td>4407.000000</td>\n",
       "      <td>4407.000000</td>\n",
       "      <td>4407.000000</td>\n",
       "      <td>4407.000000</td>\n",
       "      <td>4407.000000</td>\n",
       "      <td>4407.000000</td>\n",
       "      <td>4407.000000</td>\n",
       "      <td>4407.000000</td>\n",
       "      <td>4407.000000</td>\n",
       "      <td>4407.000000</td>\n",
       "      <td>4407.000000</td>\n",
       "      <td>4407.000000</td>\n",
       "      <td>4407.000000</td>\n",
       "      <td>4407.000000</td>\n",
       "      <td>4407.000000</td>\n",
       "      <td>4407.000000</td>\n",
       "      <td>4407.000000</td>\n",
       "    </tr>\n",
       "    <tr>\n",
       "      <th>mean</th>\n",
       "      <td>-110.006370</td>\n",
       "      <td>37.608165</td>\n",
       "      <td>1999.000000</td>\n",
       "      <td>9.681416</td>\n",
       "      <td>0.230088</td>\n",
       "      <td>56.628319</td>\n",
       "      <td>9.513274</td>\n",
       "      <td>11.725664</td>\n",
       "      <td>15.353982</td>\n",
       "      <td>1869.543372</td>\n",
       "      <td>68.923141</td>\n",
       "      <td>10.045003</td>\n",
       "      <td>2.540820</td>\n",
       "      <td>80.205135</td>\n",
       "      <td>1102.243454</td>\n",
       "      <td>-2148.201356</td>\n",
       "      <td>865.203628</td>\n",
       "      <td>0.084867</td>\n",
       "      <td>0.749036</td>\n",
       "      <td>2.870660</td>\n",
       "      <td>16.628545</td>\n",
       "      <td>3.727479</td>\n",
       "      <td>0.280917</td>\n",
       "      <td>1.839346</td>\n",
       "      <td>7.563876</td>\n",
       "      <td>1.758339</td>\n",
       "      <td>2.312170</td>\n",
       "      <td>4.423524</td>\n",
       "      <td>3.695538</td>\n",
       "      <td>3.458713</td>\n",
       "      <td>79.021557</td>\n",
       "      <td>21.508509</td>\n",
       "      <td>0.0</td>\n",
       "      <td>20.628999</td>\n",
       "      <td>5.102521</td>\n",
       "      <td>30.561301</td>\n",
       "      <td>47.524626</td>\n",
       "      <td>18.084740</td>\n",
       "      <td>6.534697</td>\n",
       "      <td>6.043363</td>\n",
       "      <td>7.477377</td>\n",
       "      <td>9.090123</td>\n",
       "      <td>29.145559</td>\n",
       "      <td>24.164344</td>\n",
       "      <td>24.050598</td>\n",
       "      <td>2.498197</td>\n",
       "      <td>1.987975</td>\n",
       "      <td>0.126330</td>\n",
       "      <td>1.348573</td>\n",
       "      <td>3.529563</td>\n",
       "      <td>3.243395</td>\n",
       "      <td>0.197647</td>\n",
       "      <td>1.794250</td>\n",
       "      <td>-0.114861</td>\n",
       "      <td>10.015123</td>\n",
       "      <td>22.433501</td>\n",
       "      <td>11.009691</td>\n",
       "      <td>10.835863</td>\n",
       "      <td>14.070513</td>\n",
       "      <td>29.334910</td>\n",
       "      <td>35.909020</td>\n",
       "      <td>30.742966</td>\n",
       "      <td>-15.539766</td>\n",
       "      <td>-8.143556</td>\n",
       "      <td>4.868198</td>\n",
       "      <td>-9.854084</td>\n",
       "      <td>0.488405</td>\n",
       "      <td>5.321564</td>\n",
       "      <td>3.786052</td>\n",
       "      <td>2.052977</td>\n",
       "      <td>0.122822</td>\n",
       "      <td>0.109650</td>\n",
       "      <td>0.068414</td>\n",
       "      <td>0.097045</td>\n",
       "      <td>0.119380</td>\n",
       "      <td>0.109526</td>\n",
       "      <td>0.068333</td>\n",
       "      <td>0.093986</td>\n",
       "      <td>80.616292</td>\n",
       "      <td>64.751985</td>\n",
       "      <td>15.356025</td>\n",
       "      <td>58.671886</td>\n",
       "      <td>80.619923</td>\n",
       "      <td>65.402995</td>\n",
       "      <td>15.913320</td>\n",
       "      <td>58.745405</td>\n",
       "    </tr>\n",
       "    <tr>\n",
       "      <th>std</th>\n",
       "      <td>0.022626</td>\n",
       "      <td>0.016191</td>\n",
       "      <td>11.255906</td>\n",
       "      <td>8.767651</td>\n",
       "      <td>1.072782</td>\n",
       "      <td>18.430712</td>\n",
       "      <td>3.895333</td>\n",
       "      <td>6.083086</td>\n",
       "      <td>8.546444</td>\n",
       "      <td>57.243186</td>\n",
       "      <td>7.254825</td>\n",
       "      <td>2.593162</td>\n",
       "      <td>1.035688</td>\n",
       "      <td>38.600108</td>\n",
       "      <td>790.987881</td>\n",
       "      <td>6188.970005</td>\n",
       "      <td>7259.393560</td>\n",
       "      <td>0.272866</td>\n",
       "      <td>5.416440</td>\n",
       "      <td>8.945722</td>\n",
       "      <td>26.912810</td>\n",
       "      <td>10.317912</td>\n",
       "      <td>3.311359</td>\n",
       "      <td>7.460598</td>\n",
       "      <td>20.904837</td>\n",
       "      <td>7.177151</td>\n",
       "      <td>0.957601</td>\n",
       "      <td>1.318764</td>\n",
       "      <td>1.116111</td>\n",
       "      <td>1.194756</td>\n",
       "      <td>7.858845</td>\n",
       "      <td>8.005380</td>\n",
       "      <td>0.0</td>\n",
       "      <td>5.881768</td>\n",
       "      <td>2.328280</td>\n",
       "      <td>2.783498</td>\n",
       "      <td>2.069208</td>\n",
       "      <td>4.276862</td>\n",
       "      <td>3.446036</td>\n",
       "      <td>2.591723</td>\n",
       "      <td>2.980412</td>\n",
       "      <td>4.360950</td>\n",
       "      <td>6.367936</td>\n",
       "      <td>15.648558</td>\n",
       "      <td>15.608724</td>\n",
       "      <td>1.538933</td>\n",
       "      <td>1.396604</td>\n",
       "      <td>0.133984</td>\n",
       "      <td>1.091600</td>\n",
       "      <td>2.662330</td>\n",
       "      <td>2.907429</td>\n",
       "      <td>0.293901</td>\n",
       "      <td>1.653818</td>\n",
       "      <td>1.407704</td>\n",
       "      <td>1.152537</td>\n",
       "      <td>1.029838</td>\n",
       "      <td>1.066566</td>\n",
       "      <td>0.771189</td>\n",
       "      <td>2.347040</td>\n",
       "      <td>2.236603</td>\n",
       "      <td>1.335224</td>\n",
       "      <td>1.371730</td>\n",
       "      <td>3.130615</td>\n",
       "      <td>2.334832</td>\n",
       "      <td>2.611216</td>\n",
       "      <td>2.496251</td>\n",
       "      <td>0.365719</td>\n",
       "      <td>2.444135</td>\n",
       "      <td>2.214833</td>\n",
       "      <td>1.069354</td>\n",
       "      <td>0.038833</td>\n",
       "      <td>0.039200</td>\n",
       "      <td>0.018364</td>\n",
       "      <td>0.030645</td>\n",
       "      <td>0.037843</td>\n",
       "      <td>0.039650</td>\n",
       "      <td>0.018992</td>\n",
       "      <td>0.028628</td>\n",
       "      <td>21.066558</td>\n",
       "      <td>22.984630</td>\n",
       "      <td>9.347340</td>\n",
       "      <td>24.885455</td>\n",
       "      <td>21.062378</td>\n",
       "      <td>23.266413</td>\n",
       "      <td>10.178601</td>\n",
       "      <td>24.896182</td>\n",
       "    </tr>\n",
       "    <tr>\n",
       "      <th>min</th>\n",
       "      <td>-110.047200</td>\n",
       "      <td>37.570340</td>\n",
       "      <td>1980.000000</td>\n",
       "      <td>0.000000</td>\n",
       "      <td>0.000000</td>\n",
       "      <td>11.000000</td>\n",
       "      <td>1.000000</td>\n",
       "      <td>1.000000</td>\n",
       "      <td>0.000000</td>\n",
       "      <td>1740.206000</td>\n",
       "      <td>54.702610</td>\n",
       "      <td>4.842324</td>\n",
       "      <td>0.526710</td>\n",
       "      <td>25.410720</td>\n",
       "      <td>137.625500</td>\n",
       "      <td>-9981.017000</td>\n",
       "      <td>-9973.848000</td>\n",
       "      <td>-0.681358</td>\n",
       "      <td>0.000000</td>\n",
       "      <td>0.000000</td>\n",
       "      <td>0.000000</td>\n",
       "      <td>0.000000</td>\n",
       "      <td>0.000000</td>\n",
       "      <td>0.000000</td>\n",
       "      <td>0.000000</td>\n",
       "      <td>0.000000</td>\n",
       "      <td>0.468152</td>\n",
       "      <td>1.632170</td>\n",
       "      <td>1.358631</td>\n",
       "      <td>0.851057</td>\n",
       "      <td>56.000000</td>\n",
       "      <td>8.000000</td>\n",
       "      <td>0.0</td>\n",
       "      <td>8.000000</td>\n",
       "      <td>0.901749</td>\n",
       "      <td>20.662840</td>\n",
       "      <td>39.846160</td>\n",
       "      <td>6.287119</td>\n",
       "      <td>1.830000</td>\n",
       "      <td>1.760000</td>\n",
       "      <td>2.480000</td>\n",
       "      <td>1.810000</td>\n",
       "      <td>15.950000</td>\n",
       "      <td>6.375000</td>\n",
       "      <td>6.428571</td>\n",
       "      <td>0.009561</td>\n",
       "      <td>0.000000</td>\n",
       "      <td>0.000000</td>\n",
       "      <td>0.002444</td>\n",
       "      <td>0.029996</td>\n",
       "      <td>0.000000</td>\n",
       "      <td>0.000000</td>\n",
       "      <td>0.002444</td>\n",
       "      <td>-3.434615</td>\n",
       "      <td>6.340217</td>\n",
       "      <td>19.554890</td>\n",
       "      <td>8.111538</td>\n",
       "      <td>8.560175</td>\n",
       "      <td>7.750000</td>\n",
       "      <td>22.650000</td>\n",
       "      <td>32.150000</td>\n",
       "      <td>27.250000</td>\n",
       "      <td>-26.250000</td>\n",
       "      <td>-14.550000</td>\n",
       "      <td>-0.750000</td>\n",
       "      <td>-16.650000</td>\n",
       "      <td>0.000000</td>\n",
       "      <td>0.127578</td>\n",
       "      <td>0.302113</td>\n",
       "      <td>0.072203</td>\n",
       "      <td>0.038552</td>\n",
       "      <td>0.037541</td>\n",
       "      <td>0.034153</td>\n",
       "      <td>0.036088</td>\n",
       "      <td>0.032807</td>\n",
       "      <td>0.034724</td>\n",
       "      <td>0.030281</td>\n",
       "      <td>0.031248</td>\n",
       "      <td>0.000000</td>\n",
       "      <td>0.000000</td>\n",
       "      <td>0.000000</td>\n",
       "      <td>3.000000</td>\n",
       "      <td>0.000000</td>\n",
       "      <td>0.000000</td>\n",
       "      <td>0.000000</td>\n",
       "      <td>3.000000</td>\n",
       "    </tr>\n",
       "    <tr>\n",
       "      <th>25%</th>\n",
       "      <td>-110.027300</td>\n",
       "      <td>37.598060</td>\n",
       "      <td>1989.000000</td>\n",
       "      <td>0.000000</td>\n",
       "      <td>0.000000</td>\n",
       "      <td>45.000000</td>\n",
       "      <td>8.000000</td>\n",
       "      <td>8.000000</td>\n",
       "      <td>10.000000</td>\n",
       "      <td>1830.649000</td>\n",
       "      <td>62.963340</td>\n",
       "      <td>8.014318</td>\n",
       "      <td>1.918516</td>\n",
       "      <td>49.915230</td>\n",
       "      <td>380.872700</td>\n",
       "      <td>-8112.145000</td>\n",
       "      <td>-6447.018000</td>\n",
       "      <td>-0.069680</td>\n",
       "      <td>0.000000</td>\n",
       "      <td>0.000000</td>\n",
       "      <td>0.000000</td>\n",
       "      <td>0.000000</td>\n",
       "      <td>0.000000</td>\n",
       "      <td>0.000000</td>\n",
       "      <td>0.000000</td>\n",
       "      <td>0.000000</td>\n",
       "      <td>1.623686</td>\n",
       "      <td>3.449381</td>\n",
       "      <td>3.022755</td>\n",
       "      <td>2.594704</td>\n",
       "      <td>74.000000</td>\n",
       "      <td>17.000000</td>\n",
       "      <td>0.0</td>\n",
       "      <td>16.000000</td>\n",
       "      <td>3.338901</td>\n",
       "      <td>29.616985</td>\n",
       "      <td>46.881450</td>\n",
       "      <td>16.177140</td>\n",
       "      <td>3.850000</td>\n",
       "      <td>4.250000</td>\n",
       "      <td>5.710000</td>\n",
       "      <td>5.960000</td>\n",
       "      <td>24.750000</td>\n",
       "      <td>16.444440</td>\n",
       "      <td>16.333330</td>\n",
       "      <td>1.204292</td>\n",
       "      <td>0.812046</td>\n",
       "      <td>0.029055</td>\n",
       "      <td>0.468754</td>\n",
       "      <td>1.409069</td>\n",
       "      <td>0.948473</td>\n",
       "      <td>0.032691</td>\n",
       "      <td>0.545111</td>\n",
       "      <td>-1.217778</td>\n",
       "      <td>9.279891</td>\n",
       "      <td>21.714670</td>\n",
       "      <td>10.074180</td>\n",
       "      <td>10.235815</td>\n",
       "      <td>12.750000</td>\n",
       "      <td>27.850000</td>\n",
       "      <td>34.950000</td>\n",
       "      <td>29.750000</td>\n",
       "      <td>-17.250000</td>\n",
       "      <td>-9.850000</td>\n",
       "      <td>2.950000</td>\n",
       "      <td>-12.050000</td>\n",
       "      <td>0.163348</td>\n",
       "      <td>3.394111</td>\n",
       "      <td>2.397169</td>\n",
       "      <td>1.270234</td>\n",
       "      <td>0.094347</td>\n",
       "      <td>0.079568</td>\n",
       "      <td>0.052632</td>\n",
       "      <td>0.075520</td>\n",
       "      <td>0.091445</td>\n",
       "      <td>0.079385</td>\n",
       "      <td>0.052404</td>\n",
       "      <td>0.074172</td>\n",
       "      <td>88.000000</td>\n",
       "      <td>52.000000</td>\n",
       "      <td>9.000000</td>\n",
       "      <td>45.000000</td>\n",
       "      <td>88.000000</td>\n",
       "      <td>52.000000</td>\n",
       "      <td>9.000000</td>\n",
       "      <td>45.500000</td>\n",
       "    </tr>\n",
       "    <tr>\n",
       "      <th>50%</th>\n",
       "      <td>-110.005700</td>\n",
       "      <td>37.608620</td>\n",
       "      <td>1999.000000</td>\n",
       "      <td>9.000000</td>\n",
       "      <td>0.000000</td>\n",
       "      <td>56.000000</td>\n",
       "      <td>10.000000</td>\n",
       "      <td>10.000000</td>\n",
       "      <td>14.000000</td>\n",
       "      <td>1863.628000</td>\n",
       "      <td>68.272420</td>\n",
       "      <td>10.137930</td>\n",
       "      <td>2.302660</td>\n",
       "      <td>72.295410</td>\n",
       "      <td>873.719400</td>\n",
       "      <td>-3258.032000</td>\n",
       "      <td>1938.931000</td>\n",
       "      <td>0.114631</td>\n",
       "      <td>0.000000</td>\n",
       "      <td>0.000000</td>\n",
       "      <td>0.000000</td>\n",
       "      <td>0.000000</td>\n",
       "      <td>0.000000</td>\n",
       "      <td>0.000000</td>\n",
       "      <td>0.000000</td>\n",
       "      <td>0.000000</td>\n",
       "      <td>2.391696</td>\n",
       "      <td>4.383012</td>\n",
       "      <td>3.683059</td>\n",
       "      <td>3.452091</td>\n",
       "      <td>81.000000</td>\n",
       "      <td>20.000000</td>\n",
       "      <td>0.0</td>\n",
       "      <td>21.000000</td>\n",
       "      <td>5.401924</td>\n",
       "      <td>31.395980</td>\n",
       "      <td>48.036540</td>\n",
       "      <td>19.174790</td>\n",
       "      <td>6.150000</td>\n",
       "      <td>5.710000</td>\n",
       "      <td>7.130000</td>\n",
       "      <td>9.530000</td>\n",
       "      <td>28.790000</td>\n",
       "      <td>20.800000</td>\n",
       "      <td>20.750000</td>\n",
       "      <td>2.493765</td>\n",
       "      <td>1.667513</td>\n",
       "      <td>0.090956</td>\n",
       "      <td>1.163920</td>\n",
       "      <td>3.032787</td>\n",
       "      <td>2.258461</td>\n",
       "      <td>0.105146</td>\n",
       "      <td>1.401951</td>\n",
       "      <td>-0.134615</td>\n",
       "      <td>10.170650</td>\n",
       "      <td>22.327170</td>\n",
       "      <td>11.125820</td>\n",
       "      <td>10.805210</td>\n",
       "      <td>14.150000</td>\n",
       "      <td>28.950000</td>\n",
       "      <td>35.950000</td>\n",
       "      <td>30.850000</td>\n",
       "      <td>-14.950000</td>\n",
       "      <td>-8.250000</td>\n",
       "      <td>4.850000</td>\n",
       "      <td>-10.150000</td>\n",
       "      <td>0.404757</td>\n",
       "      <td>5.377460</td>\n",
       "      <td>3.447940</td>\n",
       "      <td>1.972424</td>\n",
       "      <td>0.121784</td>\n",
       "      <td>0.102069</td>\n",
       "      <td>0.068619</td>\n",
       "      <td>0.094690</td>\n",
       "      <td>0.119091</td>\n",
       "      <td>0.102109</td>\n",
       "      <td>0.066738</td>\n",
       "      <td>0.092953</td>\n",
       "      <td>90.000000</td>\n",
       "      <td>69.000000</td>\n",
       "      <td>15.000000</td>\n",
       "      <td>63.000000</td>\n",
       "      <td>90.000000</td>\n",
       "      <td>69.000000</td>\n",
       "      <td>15.000000</td>\n",
       "      <td>63.000000</td>\n",
       "    </tr>\n",
       "    <tr>\n",
       "      <th>75%</th>\n",
       "      <td>-109.990900</td>\n",
       "      <td>37.621560</td>\n",
       "      <td>2009.000000</td>\n",
       "      <td>18.000000</td>\n",
       "      <td>0.000000</td>\n",
       "      <td>67.000000</td>\n",
       "      <td>11.000000</td>\n",
       "      <td>16.000000</td>\n",
       "      <td>20.000000</td>\n",
       "      <td>1911.437000</td>\n",
       "      <td>76.029850</td>\n",
       "      <td>12.345460</td>\n",
       "      <td>2.670737</td>\n",
       "      <td>102.663300</td>\n",
       "      <td>1675.031000</td>\n",
       "      <td>2693.216000</td>\n",
       "      <td>7829.363000</td>\n",
       "      <td>0.227757</td>\n",
       "      <td>0.000000</td>\n",
       "      <td>0.000000</td>\n",
       "      <td>35.000000</td>\n",
       "      <td>0.000000</td>\n",
       "      <td>0.000000</td>\n",
       "      <td>0.000000</td>\n",
       "      <td>0.000000</td>\n",
       "      <td>0.000000</td>\n",
       "      <td>2.967946</td>\n",
       "      <td>5.332901</td>\n",
       "      <td>4.409546</td>\n",
       "      <td>4.307771</td>\n",
       "      <td>85.000000</td>\n",
       "      <td>27.000000</td>\n",
       "      <td>0.0</td>\n",
       "      <td>24.000000</td>\n",
       "      <td>6.675501</td>\n",
       "      <td>32.421655</td>\n",
       "      <td>48.879015</td>\n",
       "      <td>20.827760</td>\n",
       "      <td>7.530000</td>\n",
       "      <td>7.250000</td>\n",
       "      <td>9.480000</td>\n",
       "      <td>11.710000</td>\n",
       "      <td>34.540000</td>\n",
       "      <td>27.142860</td>\n",
       "      <td>27.000000</td>\n",
       "      <td>3.579390</td>\n",
       "      <td>3.109595</td>\n",
       "      <td>0.168393</td>\n",
       "      <td>1.944246</td>\n",
       "      <td>5.104349</td>\n",
       "      <td>4.961984</td>\n",
       "      <td>0.242514</td>\n",
       "      <td>2.537691</td>\n",
       "      <td>0.969231</td>\n",
       "      <td>10.882610</td>\n",
       "      <td>23.206520</td>\n",
       "      <td>11.768680</td>\n",
       "      <td>11.346636</td>\n",
       "      <td>16.050000</td>\n",
       "      <td>30.650000</td>\n",
       "      <td>37.050000</td>\n",
       "      <td>31.450000</td>\n",
       "      <td>-13.800000</td>\n",
       "      <td>-6.150000</td>\n",
       "      <td>6.750000</td>\n",
       "      <td>-7.550000</td>\n",
       "      <td>0.802154</td>\n",
       "      <td>7.428896</td>\n",
       "      <td>4.803935</td>\n",
       "      <td>2.710430</td>\n",
       "      <td>0.148882</td>\n",
       "      <td>0.139429</td>\n",
       "      <td>0.082863</td>\n",
       "      <td>0.115330</td>\n",
       "      <td>0.144491</td>\n",
       "      <td>0.139020</td>\n",
       "      <td>0.083391</td>\n",
       "      <td>0.111354</td>\n",
       "      <td>90.000000</td>\n",
       "      <td>83.000000</td>\n",
       "      <td>20.000000</td>\n",
       "      <td>81.000000</td>\n",
       "      <td>90.000000</td>\n",
       "      <td>85.000000</td>\n",
       "      <td>21.000000</td>\n",
       "      <td>81.000000</td>\n",
       "    </tr>\n",
       "    <tr>\n",
       "      <th>max</th>\n",
       "      <td>-109.965900</td>\n",
       "      <td>37.634760</td>\n",
       "      <td>2018.000000</td>\n",
       "      <td>29.000000</td>\n",
       "      <td>6.000000</td>\n",
       "      <td>94.000000</td>\n",
       "      <td>20.000000</td>\n",
       "      <td>26.000000</td>\n",
       "      <td>46.000000</td>\n",
       "      <td>2004.064000</td>\n",
       "      <td>80.710780</td>\n",
       "      <td>16.347870</td>\n",
       "      <td>6.163254</td>\n",
       "      <td>175.411100</td>\n",
       "      <td>2940.777000</td>\n",
       "      <td>9886.349000</td>\n",
       "      <td>9988.666000</td>\n",
       "      <td>0.636232</td>\n",
       "      <td>66.000000</td>\n",
       "      <td>77.000000</td>\n",
       "      <td>89.000000</td>\n",
       "      <td>79.000000</td>\n",
       "      <td>65.000000</td>\n",
       "      <td>73.000000</td>\n",
       "      <td>89.000000</td>\n",
       "      <td>71.000000</td>\n",
       "      <td>5.303436</td>\n",
       "      <td>8.375455</td>\n",
       "      <td>7.955731</td>\n",
       "      <td>6.763244</td>\n",
       "      <td>91.000000</td>\n",
       "      <td>48.000000</td>\n",
       "      <td>0.0</td>\n",
       "      <td>40.000000</td>\n",
       "      <td>11.377390</td>\n",
       "      <td>35.385120</td>\n",
       "      <td>50.931440</td>\n",
       "      <td>26.656480</td>\n",
       "      <td>17.270000</td>\n",
       "      <td>14.390000</td>\n",
       "      <td>17.890000</td>\n",
       "      <td>20.630000</td>\n",
       "      <td>46.990000</td>\n",
       "      <td>231.000000</td>\n",
       "      <td>231.000000</td>\n",
       "      <td>6.524251</td>\n",
       "      <td>5.323664</td>\n",
       "      <td>1.140108</td>\n",
       "      <td>5.706727</td>\n",
       "      <td>16.890210</td>\n",
       "      <td>16.460290</td>\n",
       "      <td>3.383157</td>\n",
       "      <td>10.707780</td>\n",
       "      <td>3.393333</td>\n",
       "      <td>12.490760</td>\n",
       "      <td>24.550000</td>\n",
       "      <td>13.428020</td>\n",
       "      <td>12.410352</td>\n",
       "      <td>19.150000</td>\n",
       "      <td>35.750000</td>\n",
       "      <td>38.550000</td>\n",
       "      <td>35.150000</td>\n",
       "      <td>-9.350000</td>\n",
       "      <td>-3.050000</td>\n",
       "      <td>10.350000</td>\n",
       "      <td>-5.250000</td>\n",
       "      <td>1.852467</td>\n",
       "      <td>10.573020</td>\n",
       "      <td>15.417380</td>\n",
       "      <td>5.810863</td>\n",
       "      <td>0.241708</td>\n",
       "      <td>0.216506</td>\n",
       "      <td>0.119369</td>\n",
       "      <td>0.214768</td>\n",
       "      <td>0.232833</td>\n",
       "      <td>0.214546</td>\n",
       "      <td>0.119182</td>\n",
       "      <td>0.205399</td>\n",
       "      <td>91.000000</td>\n",
       "      <td>92.000000</td>\n",
       "      <td>57.000000</td>\n",
       "      <td>91.000000</td>\n",
       "      <td>91.000000</td>\n",
       "      <td>92.000000</td>\n",
       "      <td>67.000000</td>\n",
       "      <td>91.000000</td>\n",
       "    </tr>\n",
       "  </tbody>\n",
       "</table>\n",
       "</div>"
      ],
      "text/plain": [
       "              long          lat         year   treecanopy     Ann_Herb  \\\n",
       "count  4407.000000  4407.000000  4407.000000  4407.000000  4407.000000   \n",
       "mean   -110.006370    37.608165  1999.000000     9.681416     0.230088   \n",
       "std       0.022626     0.016191    11.255906     8.767651     1.072782   \n",
       "min    -110.047200    37.570340  1980.000000     0.000000     0.000000   \n",
       "25%    -110.027300    37.598060  1989.000000     0.000000     0.000000   \n",
       "50%    -110.005700    37.608620  1999.000000     9.000000     0.000000   \n",
       "75%    -109.990900    37.621560  2009.000000    18.000000     0.000000   \n",
       "max    -109.965900    37.634760  2018.000000    29.000000     6.000000   \n",
       "\n",
       "              Bare         Herb       Litter        Shrub           El  \\\n",
       "count  4407.000000  4407.000000  4407.000000  4407.000000  4407.000000   \n",
       "mean     56.628319     9.513274    11.725664    15.353982  1869.543372   \n",
       "std      18.430712     3.895333     6.083086     8.546444    57.243186   \n",
       "min      11.000000     1.000000     1.000000     0.000000  1740.206000   \n",
       "25%      45.000000     8.000000     8.000000    10.000000  1830.649000   \n",
       "50%      56.000000    10.000000    10.000000    14.000000  1863.628000   \n",
       "75%      67.000000    11.000000    16.000000    20.000000  1911.437000   \n",
       "max      94.000000    20.000000    26.000000    46.000000  2004.064000   \n",
       "\n",
       "                Sa           Cl           RF           RL        Slope  \\\n",
       "count  4407.000000  4407.000000  4407.000000  4407.000000  4407.000000   \n",
       "mean     68.923141    10.045003     2.540820    80.205135  1102.243454   \n",
       "std       7.254825     2.593162     1.035688    38.600108   790.987881   \n",
       "min      54.702610     4.842324     0.526710    25.410720   137.625500   \n",
       "25%      62.963340     8.014318     1.918516    49.915230   380.872700   \n",
       "50%      68.272420    10.137930     2.302660    72.295410   873.719400   \n",
       "75%      76.029850    12.345460     2.670737   102.663300  1675.031000   \n",
       "max      80.710780    16.347870     6.163254   175.411100  2940.777000   \n",
       "\n",
       "                 E            S     T_P_Corr  DrySoilDays_Winter_top50  \\\n",
       "count  4407.000000  4407.000000  4407.000000               4407.000000   \n",
       "mean  -2148.201356   865.203628     0.084867                  0.749036   \n",
       "std    6188.970005  7259.393560     0.272866                  5.416440   \n",
       "min   -9981.017000 -9973.848000    -0.681358                  0.000000   \n",
       "25%   -8112.145000 -6447.018000    -0.069680                  0.000000   \n",
       "50%   -3258.032000  1938.931000     0.114631                  0.000000   \n",
       "75%    2693.216000  7829.363000     0.227757                  0.000000   \n",
       "max    9886.349000  9988.666000     0.636232                 66.000000   \n",
       "\n",
       "       DrySoilDays_Spring_top50  DrySoilDays_Summer_top50  \\\n",
       "count               4407.000000               4407.000000   \n",
       "mean                   2.870660                 16.628545   \n",
       "std                    8.945722                 26.912810   \n",
       "min                    0.000000                  0.000000   \n",
       "25%                    0.000000                  0.000000   \n",
       "50%                    0.000000                  0.000000   \n",
       "75%                    0.000000                 35.000000   \n",
       "max                   77.000000                 89.000000   \n",
       "\n",
       "       DrySoilDays_Fall_top50  DrySoilDays_Winter_whole  \\\n",
       "count             4407.000000               4407.000000   \n",
       "mean                 3.727479                  0.280917   \n",
       "std                 10.317912                  3.311359   \n",
       "min                  0.000000                  0.000000   \n",
       "25%                  0.000000                  0.000000   \n",
       "50%                  0.000000                  0.000000   \n",
       "75%                  0.000000                  0.000000   \n",
       "max                 79.000000                 65.000000   \n",
       "\n",
       "       DrySoilDays_Spring_whole  DrySoilDays_Summer_whole  \\\n",
       "count               4407.000000               4407.000000   \n",
       "mean                   1.839346                  7.563876   \n",
       "std                    7.460598                 20.904837   \n",
       "min                    0.000000                  0.000000   \n",
       "25%                    0.000000                  0.000000   \n",
       "50%                    0.000000                  0.000000   \n",
       "75%                    0.000000                  0.000000   \n",
       "max                   73.000000                 89.000000   \n",
       "\n",
       "       DrySoilDays_Fall_whole  Evap_Winter  Evap_Spring  Evap_Summer  \\\n",
       "count             4407.000000  4407.000000  4407.000000  4407.000000   \n",
       "mean                 1.758339     2.312170     4.423524     3.695538   \n",
       "std                  7.177151     0.957601     1.318764     1.116111   \n",
       "min                  0.000000     0.468152     1.632170     1.358631   \n",
       "25%                  0.000000     1.623686     3.449381     3.022755   \n",
       "50%                  0.000000     2.391696     4.383012     3.683059   \n",
       "75%                  0.000000     2.967946     5.332901     4.409546   \n",
       "max                 71.000000     5.303436     8.375455     7.955731   \n",
       "\n",
       "         Evap_Fall  FrostDays_Winter  FrostDays_Spring  FrostDays_Summer  \\\n",
       "count  4407.000000       4407.000000       4407.000000            4407.0   \n",
       "mean      3.458713         79.021557         21.508509               0.0   \n",
       "std       1.194756          7.858845          8.005380               0.0   \n",
       "min       0.851057         56.000000          8.000000               0.0   \n",
       "25%       2.594704         74.000000         17.000000               0.0   \n",
       "50%       3.452091         81.000000         20.000000               0.0   \n",
       "75%       4.307771         85.000000         27.000000               0.0   \n",
       "max       6.763244         91.000000         48.000000               0.0   \n",
       "\n",
       "       FrostDays_Fall   PET_Winter   PET_Spring   PET_Summer     PET_Fall  \\\n",
       "count     4407.000000  4407.000000  4407.000000  4407.000000  4407.000000   \n",
       "mean        20.628999     5.102521    30.561301    47.524626    18.084740   \n",
       "std          5.881768     2.328280     2.783498     2.069208     4.276862   \n",
       "min          8.000000     0.901749    20.662840    39.846160     6.287119   \n",
       "25%         16.000000     3.338901    29.616985    46.881450    16.177140   \n",
       "50%         21.000000     5.401924    31.395980    48.036540    19.174790   \n",
       "75%         24.000000     6.675501    32.421655    48.879015    20.827760   \n",
       "max         40.000000    11.377390    35.385120    50.931440    26.656480   \n",
       "\n",
       "        PPT_Winter   PPT_Spring   PPT_Summer     PPT_Fall   PPT_Annual  \\\n",
       "count  4407.000000  4407.000000  4407.000000  4407.000000  4407.000000   \n",
       "mean      6.534697     6.043363     7.477377     9.090123    29.145559   \n",
       "std       3.446036     2.591723     2.980412     4.360950     6.367936   \n",
       "min       1.830000     1.760000     2.480000     1.810000    15.950000   \n",
       "25%       3.850000     4.250000     5.710000     5.960000    24.750000   \n",
       "50%       6.150000     5.710000     7.130000     9.530000    28.790000   \n",
       "75%       7.530000     7.250000     9.480000    11.710000    34.540000   \n",
       "max      17.270000    14.390000    17.890000    20.630000    46.990000   \n",
       "\n",
       "       SemiDryDuration_Annual_top50  SemiDryDuration_Annual_whole  \\\n",
       "count                   4407.000000                   4407.000000   \n",
       "mean                      24.164344                     24.050598   \n",
       "std                       15.648558                     15.608724   \n",
       "min                        6.375000                      6.428571   \n",
       "25%                       16.444440                     16.333330   \n",
       "50%                       20.800000                     20.750000   \n",
       "75%                       27.142860                     27.000000   \n",
       "max                      231.000000                    231.000000   \n",
       "\n",
       "       SWA_Winter_top50  SWA_Spring_top50  SWA_Summer_top50  SWA_Fall_top50  \\\n",
       "count       4407.000000       4407.000000       4407.000000     4407.000000   \n",
       "mean           2.498197          1.987975          0.126330        1.348573   \n",
       "std            1.538933          1.396604          0.133984        1.091600   \n",
       "min            0.009561          0.000000          0.000000        0.002444   \n",
       "25%            1.204292          0.812046          0.029055        0.468754   \n",
       "50%            2.493765          1.667513          0.090956        1.163920   \n",
       "75%            3.579390          3.109595          0.168393        1.944246   \n",
       "max            6.524251          5.323664          1.140108        5.706727   \n",
       "\n",
       "       SWA_Winter_whole  SWA_Spring_whole  SWA_Summer_whole  SWA_Fall_whole  \\\n",
       "count       4407.000000       4407.000000       4407.000000     4407.000000   \n",
       "mean           3.529563          3.243395          0.197647        1.794250   \n",
       "std            2.662330          2.907429          0.293901        1.653818   \n",
       "min            0.029996          0.000000          0.000000        0.002444   \n",
       "25%            1.409069          0.948473          0.032691        0.545111   \n",
       "50%            3.032787          2.258461          0.105146        1.401951   \n",
       "75%            5.104349          4.961984          0.242514        2.537691   \n",
       "max           16.890210         16.460290          3.383157       10.707780   \n",
       "\n",
       "          T_Winter     T_Spring     T_Summer       T_Fall     T_Annual  \\\n",
       "count  4407.000000  4407.000000  4407.000000  4407.000000  4407.000000   \n",
       "mean     -0.114861    10.015123    22.433501    11.009691    10.835863   \n",
       "std       1.407704     1.152537     1.029838     1.066566     0.771189   \n",
       "min      -3.434615     6.340217    19.554890     8.111538     8.560175   \n",
       "25%      -1.217778     9.279891    21.714670    10.074180    10.235815   \n",
       "50%      -0.134615    10.170650    22.327170    11.125820    10.805210   \n",
       "75%       0.969231    10.882610    23.206520    11.768680    11.346636   \n",
       "max       3.393333    12.490760    24.550000    13.428020    12.410352   \n",
       "\n",
       "       Tmax_Winter  Tmax_Spring  Tmax_Summer    Tmax_Fall  Tmin_Winter  \\\n",
       "count  4407.000000  4407.000000  4407.000000  4407.000000  4407.000000   \n",
       "mean     14.070513    29.334910    35.909020    30.742966   -15.539766   \n",
       "std       2.347040     2.236603     1.335224     1.371730     3.130615   \n",
       "min       7.750000    22.650000    32.150000    27.250000   -26.250000   \n",
       "25%      12.750000    27.850000    34.950000    29.750000   -17.250000   \n",
       "50%      14.150000    28.950000    35.950000    30.850000   -14.950000   \n",
       "75%      16.050000    30.650000    37.050000    31.450000   -13.800000   \n",
       "max      19.150000    35.750000    38.550000    35.150000    -9.350000   \n",
       "\n",
       "       Tmin_Spring  Tmin_Summer    Tmin_Fall  Transp_Winter  Transp_Spring  \\\n",
       "count  4407.000000  4407.000000  4407.000000    4407.000000    4407.000000   \n",
       "mean     -8.143556     4.868198    -9.854084       0.488405       5.321564   \n",
       "std       2.334832     2.611216     2.496251       0.365719       2.444135   \n",
       "min     -14.550000    -0.750000   -16.650000       0.000000       0.127578   \n",
       "25%      -9.850000     2.950000   -12.050000       0.163348       3.394111   \n",
       "50%      -8.250000     4.850000   -10.150000       0.404757       5.377460   \n",
       "75%      -6.150000     6.750000    -7.550000       0.802154       7.428896   \n",
       "max      -3.050000    10.350000    -5.250000       1.852467      10.573020   \n",
       "\n",
       "       Transp_Summer  Transp_Fall  VWC_Winter_top50  VWC_Spring_top50  \\\n",
       "count    4407.000000  4407.000000       4407.000000       4407.000000   \n",
       "mean        3.786052     2.052977          0.122822          0.109650   \n",
       "std         2.214833     1.069354          0.038833          0.039200   \n",
       "min         0.302113     0.072203          0.038552          0.037541   \n",
       "25%         2.397169     1.270234          0.094347          0.079568   \n",
       "50%         3.447940     1.972424          0.121784          0.102069   \n",
       "75%         4.803935     2.710430          0.148882          0.139429   \n",
       "max        15.417380     5.810863          0.241708          0.216506   \n",
       "\n",
       "       VWC_Summer_top50  VWC_Fall_top50  VWC_Winter_whole  VWC_Spring_whole  \\\n",
       "count       4407.000000     4407.000000       4407.000000       4407.000000   \n",
       "mean           0.068414        0.097045          0.119380          0.109526   \n",
       "std            0.018364        0.030645          0.037843          0.039650   \n",
       "min            0.034153        0.036088          0.032807          0.034724   \n",
       "25%            0.052632        0.075520          0.091445          0.079385   \n",
       "50%            0.068619        0.094690          0.119091          0.102109   \n",
       "75%            0.082863        0.115330          0.144491          0.139020   \n",
       "max            0.119369        0.214768          0.232833          0.214546   \n",
       "\n",
       "       VWC_Summer_whole  VWC_Fall_whole  WetSoilDays_Winter_top50  \\\n",
       "count       4407.000000     4407.000000               4407.000000   \n",
       "mean           0.068333        0.093986                 80.616292   \n",
       "std            0.018992        0.028628                 21.066558   \n",
       "min            0.030281        0.031248                  0.000000   \n",
       "25%            0.052404        0.074172                 88.000000   \n",
       "50%            0.066738        0.092953                 90.000000   \n",
       "75%            0.083391        0.111354                 90.000000   \n",
       "max            0.119182        0.205399                 91.000000   \n",
       "\n",
       "       WetSoilDays_Spring_top50  WetSoilDays_Summer_top50  \\\n",
       "count               4407.000000               4407.000000   \n",
       "mean                  64.751985                 15.356025   \n",
       "std                   22.984630                  9.347340   \n",
       "min                    0.000000                  0.000000   \n",
       "25%                   52.000000                  9.000000   \n",
       "50%                   69.000000                 15.000000   \n",
       "75%                   83.000000                 20.000000   \n",
       "max                   92.000000                 57.000000   \n",
       "\n",
       "       WetSoilDays_Fall_top50  WetSoilDays_Winter_whole  \\\n",
       "count             4407.000000               4407.000000   \n",
       "mean                58.671886                 80.619923   \n",
       "std                 24.885455                 21.062378   \n",
       "min                  3.000000                  0.000000   \n",
       "25%                 45.000000                 88.000000   \n",
       "50%                 63.000000                 90.000000   \n",
       "75%                 81.000000                 90.000000   \n",
       "max                 91.000000                 91.000000   \n",
       "\n",
       "       WetSoilDays_Spring_whole  WetSoilDays_Summer_whole  \\\n",
       "count               4407.000000               4407.000000   \n",
       "mean                  65.402995                 15.913320   \n",
       "std                   23.266413                 10.178601   \n",
       "min                    0.000000                  0.000000   \n",
       "25%                   52.000000                  9.000000   \n",
       "50%                   69.000000                 15.000000   \n",
       "75%                   85.000000                 21.000000   \n",
       "max                   92.000000                 67.000000   \n",
       "\n",
       "       WetSoilDays_Fall_whole  \n",
       "count             4407.000000  \n",
       "mean                58.745405  \n",
       "std                 24.896182  \n",
       "min                  3.000000  \n",
       "25%                 45.500000  \n",
       "50%                 63.000000  \n",
       "75%                 81.000000  \n",
       "max                 91.000000  "
      ]
     },
     "execution_count": 45,
     "metadata": {},
     "output_type": "execute_result"
    }
   ],
   "source": [
    "#historical  decription\n",
    "plot_df = df[df['TimePeriod'] == 'Hist']\n",
    "plot_df.describe()"
   ]
  },
  {
   "cell_type": "code",
   "execution_count": 46,
   "metadata": {},
   "outputs": [
    {
     "data": {
      "text/html": [
       "<div>\n",
       "<style scoped>\n",
       "    .dataframe tbody tr th:only-of-type {\n",
       "        vertical-align: middle;\n",
       "    }\n",
       "\n",
       "    .dataframe tbody tr th {\n",
       "        vertical-align: top;\n",
       "    }\n",
       "\n",
       "    .dataframe thead th {\n",
       "        text-align: right;\n",
       "    }\n",
       "</style>\n",
       "<table border=\"1\" class=\"dataframe\">\n",
       "  <thead>\n",
       "    <tr style=\"text-align: right;\">\n",
       "      <th></th>\n",
       "      <th>long</th>\n",
       "      <th>lat</th>\n",
       "      <th>year</th>\n",
       "      <th>treecanopy</th>\n",
       "      <th>Ann_Herb</th>\n",
       "      <th>Bare</th>\n",
       "      <th>Herb</th>\n",
       "      <th>Litter</th>\n",
       "      <th>Shrub</th>\n",
       "      <th>El</th>\n",
       "      <th>Sa</th>\n",
       "      <th>Cl</th>\n",
       "      <th>RF</th>\n",
       "      <th>RL</th>\n",
       "      <th>Slope</th>\n",
       "      <th>E</th>\n",
       "      <th>S</th>\n",
       "      <th>T_P_Corr</th>\n",
       "      <th>DrySoilDays_Winter_top50</th>\n",
       "      <th>DrySoilDays_Spring_top50</th>\n",
       "      <th>DrySoilDays_Summer_top50</th>\n",
       "      <th>DrySoilDays_Fall_top50</th>\n",
       "      <th>DrySoilDays_Winter_whole</th>\n",
       "      <th>DrySoilDays_Spring_whole</th>\n",
       "      <th>DrySoilDays_Summer_whole</th>\n",
       "      <th>DrySoilDays_Fall_whole</th>\n",
       "      <th>Evap_Winter</th>\n",
       "      <th>Evap_Spring</th>\n",
       "      <th>Evap_Summer</th>\n",
       "      <th>Evap_Fall</th>\n",
       "      <th>FrostDays_Winter</th>\n",
       "      <th>FrostDays_Spring</th>\n",
       "      <th>FrostDays_Summer</th>\n",
       "      <th>FrostDays_Fall</th>\n",
       "      <th>PET_Winter</th>\n",
       "      <th>PET_Spring</th>\n",
       "      <th>PET_Summer</th>\n",
       "      <th>PET_Fall</th>\n",
       "      <th>PPT_Winter</th>\n",
       "      <th>PPT_Spring</th>\n",
       "      <th>PPT_Summer</th>\n",
       "      <th>PPT_Fall</th>\n",
       "      <th>PPT_Annual</th>\n",
       "      <th>SemiDryDuration_Annual_top50</th>\n",
       "      <th>SemiDryDuration_Annual_whole</th>\n",
       "      <th>SWA_Winter_top50</th>\n",
       "      <th>SWA_Spring_top50</th>\n",
       "      <th>SWA_Summer_top50</th>\n",
       "      <th>SWA_Fall_top50</th>\n",
       "      <th>SWA_Winter_whole</th>\n",
       "      <th>SWA_Spring_whole</th>\n",
       "      <th>SWA_Summer_whole</th>\n",
       "      <th>SWA_Fall_whole</th>\n",
       "      <th>T_Winter</th>\n",
       "      <th>T_Spring</th>\n",
       "      <th>T_Summer</th>\n",
       "      <th>T_Fall</th>\n",
       "      <th>T_Annual</th>\n",
       "      <th>Tmax_Winter</th>\n",
       "      <th>Tmax_Spring</th>\n",
       "      <th>Tmax_Summer</th>\n",
       "      <th>Tmax_Fall</th>\n",
       "      <th>Tmin_Winter</th>\n",
       "      <th>Tmin_Spring</th>\n",
       "      <th>Tmin_Summer</th>\n",
       "      <th>Tmin_Fall</th>\n",
       "      <th>Transp_Winter</th>\n",
       "      <th>Transp_Spring</th>\n",
       "      <th>Transp_Summer</th>\n",
       "      <th>Transp_Fall</th>\n",
       "      <th>VWC_Winter_top50</th>\n",
       "      <th>VWC_Spring_top50</th>\n",
       "      <th>VWC_Summer_top50</th>\n",
       "      <th>VWC_Fall_top50</th>\n",
       "      <th>VWC_Winter_whole</th>\n",
       "      <th>VWC_Spring_whole</th>\n",
       "      <th>VWC_Summer_whole</th>\n",
       "      <th>VWC_Fall_whole</th>\n",
       "      <th>WetSoilDays_Winter_top50</th>\n",
       "      <th>WetSoilDays_Spring_top50</th>\n",
       "      <th>WetSoilDays_Summer_top50</th>\n",
       "      <th>WetSoilDays_Fall_top50</th>\n",
       "      <th>WetSoilDays_Winter_whole</th>\n",
       "      <th>WetSoilDays_Spring_whole</th>\n",
       "      <th>WetSoilDays_Summer_whole</th>\n",
       "      <th>WetSoilDays_Fall_whole</th>\n",
       "    </tr>\n",
       "  </thead>\n",
       "  <tbody>\n",
       "    <tr>\n",
       "      <th>count</th>\n",
       "      <td>176280.000000</td>\n",
       "      <td>176280.000000</td>\n",
       "      <td>176280.000000</td>\n",
       "      <td>176280.000000</td>\n",
       "      <td>176280.000000</td>\n",
       "      <td>176280.000000</td>\n",
       "      <td>176280.000000</td>\n",
       "      <td>176280.000000</td>\n",
       "      <td>176280.000000</td>\n",
       "      <td>176280.000000</td>\n",
       "      <td>176280.000000</td>\n",
       "      <td>176280.000000</td>\n",
       "      <td>176280.000000</td>\n",
       "      <td>176280.000000</td>\n",
       "      <td>176280.000000</td>\n",
       "      <td>176280.000000</td>\n",
       "      <td>176280.000000</td>\n",
       "      <td>176280.000000</td>\n",
       "      <td>176280.000000</td>\n",
       "      <td>176280.000000</td>\n",
       "      <td>176280.000000</td>\n",
       "      <td>176280.000000</td>\n",
       "      <td>176280.000000</td>\n",
       "      <td>176280.000000</td>\n",
       "      <td>176280.000000</td>\n",
       "      <td>176280.000000</td>\n",
       "      <td>176280.000000</td>\n",
       "      <td>176280.000000</td>\n",
       "      <td>176280.000000</td>\n",
       "      <td>176280.000000</td>\n",
       "      <td>176280.000000</td>\n",
       "      <td>176280.000000</td>\n",
       "      <td>176280.000000</td>\n",
       "      <td>176280.000000</td>\n",
       "      <td>176280.000000</td>\n",
       "      <td>176280.000000</td>\n",
       "      <td>176280.000000</td>\n",
       "      <td>176280.000000</td>\n",
       "      <td>176280.000000</td>\n",
       "      <td>176280.000000</td>\n",
       "      <td>176280.000000</td>\n",
       "      <td>176280.000000</td>\n",
       "      <td>176280.000000</td>\n",
       "      <td>176280.000000</td>\n",
       "      <td>176280.000000</td>\n",
       "      <td>176280.000000</td>\n",
       "      <td>176280.000000</td>\n",
       "      <td>176280.000000</td>\n",
       "      <td>176280.000000</td>\n",
       "      <td>176280.000000</td>\n",
       "      <td>176280.000000</td>\n",
       "      <td>176280.000000</td>\n",
       "      <td>176280.000000</td>\n",
       "      <td>176280.000000</td>\n",
       "      <td>176280.000000</td>\n",
       "      <td>176280.000000</td>\n",
       "      <td>176280.000000</td>\n",
       "      <td>176280.000000</td>\n",
       "      <td>176280.000000</td>\n",
       "      <td>176280.000000</td>\n",
       "      <td>176280.000000</td>\n",
       "      <td>176280.000000</td>\n",
       "      <td>176280.000000</td>\n",
       "      <td>176280.000000</td>\n",
       "      <td>176280.000000</td>\n",
       "      <td>176280.000000</td>\n",
       "      <td>176280.000000</td>\n",
       "      <td>176280.000000</td>\n",
       "      <td>176280.000000</td>\n",
       "      <td>176280.000000</td>\n",
       "      <td>176280.000000</td>\n",
       "      <td>176280.000000</td>\n",
       "      <td>176280.000000</td>\n",
       "      <td>176280.000000</td>\n",
       "      <td>176280.000000</td>\n",
       "      <td>176280.000000</td>\n",
       "      <td>176280.000000</td>\n",
       "      <td>176280.000000</td>\n",
       "      <td>176280.000000</td>\n",
       "      <td>176280.00000</td>\n",
       "      <td>176280.000000</td>\n",
       "      <td>176280.000000</td>\n",
       "      <td>176280.000000</td>\n",
       "      <td>176280.000000</td>\n",
       "      <td>176280.000000</td>\n",
       "      <td>176280.000000</td>\n",
       "    </tr>\n",
       "    <tr>\n",
       "      <th>mean</th>\n",
       "      <td>-110.006370</td>\n",
       "      <td>37.608165</td>\n",
       "      <td>2040.000000</td>\n",
       "      <td>9.681416</td>\n",
       "      <td>0.230088</td>\n",
       "      <td>56.628319</td>\n",
       "      <td>9.513274</td>\n",
       "      <td>11.725664</td>\n",
       "      <td>15.353982</td>\n",
       "      <td>1869.543372</td>\n",
       "      <td>68.923141</td>\n",
       "      <td>10.045003</td>\n",
       "      <td>2.540820</td>\n",
       "      <td>80.205135</td>\n",
       "      <td>1102.243454</td>\n",
       "      <td>-2148.201356</td>\n",
       "      <td>865.203628</td>\n",
       "      <td>0.028383</td>\n",
       "      <td>0.197413</td>\n",
       "      <td>2.505202</td>\n",
       "      <td>15.698451</td>\n",
       "      <td>4.839545</td>\n",
       "      <td>0.082375</td>\n",
       "      <td>1.707602</td>\n",
       "      <td>7.095297</td>\n",
       "      <td>2.207397</td>\n",
       "      <td>2.283910</td>\n",
       "      <td>4.403886</td>\n",
       "      <td>3.531475</td>\n",
       "      <td>3.384205</td>\n",
       "      <td>67.353897</td>\n",
       "      <td>11.912520</td>\n",
       "      <td>0.000357</td>\n",
       "      <td>15.982965</td>\n",
       "      <td>5.488821</td>\n",
       "      <td>32.081233</td>\n",
       "      <td>49.280618</td>\n",
       "      <td>19.052772</td>\n",
       "      <td>7.392430</td>\n",
       "      <td>6.543425</td>\n",
       "      <td>8.017226</td>\n",
       "      <td>9.718424</td>\n",
       "      <td>31.671506</td>\n",
       "      <td>29.210858</td>\n",
       "      <td>29.068091</td>\n",
       "      <td>3.121882</td>\n",
       "      <td>2.153445</td>\n",
       "      <td>0.219574</td>\n",
       "      <td>1.533198</td>\n",
       "      <td>4.518105</td>\n",
       "      <td>3.652728</td>\n",
       "      <td>0.346078</td>\n",
       "      <td>2.124042</td>\n",
       "      <td>1.939956</td>\n",
       "      <td>12.115274</td>\n",
       "      <td>24.689107</td>\n",
       "      <td>13.110296</td>\n",
       "      <td>12.963658</td>\n",
       "      <td>16.276126</td>\n",
       "      <td>31.698909</td>\n",
       "      <td>38.325951</td>\n",
       "      <td>32.946791</td>\n",
       "      <td>-12.750184</td>\n",
       "      <td>-4.368244</td>\n",
       "      <td>7.274078</td>\n",
       "      <td>-7.411464</td>\n",
       "      <td>0.581363</td>\n",
       "      <td>5.699164</td>\n",
       "      <td>4.214863</td>\n",
       "      <td>2.218793</td>\n",
       "      <td>0.136640</td>\n",
       "      <td>0.112948</td>\n",
       "      <td>0.070486</td>\n",
       "      <td>0.100771</td>\n",
       "      <td>0.132844</td>\n",
       "      <td>0.113709</td>\n",
       "      <td>0.070296</td>\n",
       "      <td>0.097799</td>\n",
       "      <td>85.113722</td>\n",
       "      <td>66.34271</td>\n",
       "      <td>16.760869</td>\n",
       "      <td>59.549932</td>\n",
       "      <td>85.127332</td>\n",
       "      <td>66.985773</td>\n",
       "      <td>17.518913</td>\n",
       "      <td>59.664505</td>\n",
       "    </tr>\n",
       "    <tr>\n",
       "      <th>std</th>\n",
       "      <td>0.022623</td>\n",
       "      <td>0.016189</td>\n",
       "      <td>11.254661</td>\n",
       "      <td>8.766681</td>\n",
       "      <td>1.072663</td>\n",
       "      <td>18.428673</td>\n",
       "      <td>3.894902</td>\n",
       "      <td>6.082413</td>\n",
       "      <td>8.545499</td>\n",
       "      <td>57.236854</td>\n",
       "      <td>7.254022</td>\n",
       "      <td>2.592875</td>\n",
       "      <td>1.035573</td>\n",
       "      <td>38.595838</td>\n",
       "      <td>790.900377</td>\n",
       "      <td>6188.285343</td>\n",
       "      <td>7258.590481</td>\n",
       "      <td>0.309583</td>\n",
       "      <td>2.691874</td>\n",
       "      <td>8.204223</td>\n",
       "      <td>26.629278</td>\n",
       "      <td>12.532878</td>\n",
       "      <td>1.666457</td>\n",
       "      <td>7.139710</td>\n",
       "      <td>20.335391</td>\n",
       "      <td>8.805767</td>\n",
       "      <td>0.919878</td>\n",
       "      <td>1.373564</td>\n",
       "      <td>1.392125</td>\n",
       "      <td>1.187843</td>\n",
       "      <td>13.010036</td>\n",
       "      <td>9.245348</td>\n",
       "      <td>0.018901</td>\n",
       "      <td>6.046841</td>\n",
       "      <td>2.507754</td>\n",
       "      <td>3.067101</td>\n",
       "      <td>2.305216</td>\n",
       "      <td>4.494673</td>\n",
       "      <td>3.831333</td>\n",
       "      <td>3.239866</td>\n",
       "      <td>4.837485</td>\n",
       "      <td>5.180476</td>\n",
       "      <td>9.673741</td>\n",
       "      <td>18.858710</td>\n",
       "      <td>18.845706</td>\n",
       "      <td>1.638784</td>\n",
       "      <td>1.440891</td>\n",
       "      <td>0.328595</td>\n",
       "      <td>1.298623</td>\n",
       "      <td>3.152052</td>\n",
       "      <td>3.245808</td>\n",
       "      <td>0.609121</td>\n",
       "      <td>2.180247</td>\n",
       "      <td>1.651260</td>\n",
       "      <td>1.677793</td>\n",
       "      <td>1.380884</td>\n",
       "      <td>1.342654</td>\n",
       "      <td>1.171585</td>\n",
       "      <td>2.717887</td>\n",
       "      <td>2.776177</td>\n",
       "      <td>2.144416</td>\n",
       "      <td>2.247272</td>\n",
       "      <td>4.186036</td>\n",
       "      <td>2.836128</td>\n",
       "      <td>2.953143</td>\n",
       "      <td>2.633483</td>\n",
       "      <td>0.379498</td>\n",
       "      <td>2.575833</td>\n",
       "      <td>3.096946</td>\n",
       "      <td>1.283519</td>\n",
       "      <td>0.040546</td>\n",
       "      <td>0.040782</td>\n",
       "      <td>0.020005</td>\n",
       "      <td>0.034682</td>\n",
       "      <td>0.039874</td>\n",
       "      <td>0.041888</td>\n",
       "      <td>0.020387</td>\n",
       "      <td>0.033027</td>\n",
       "      <td>14.122440</td>\n",
       "      <td>21.79837</td>\n",
       "      <td>13.356141</td>\n",
       "      <td>23.507859</td>\n",
       "      <td>14.108912</td>\n",
       "      <td>22.040899</td>\n",
       "      <td>14.282394</td>\n",
       "      <td>23.534494</td>\n",
       "    </tr>\n",
       "    <tr>\n",
       "      <th>min</th>\n",
       "      <td>-110.047200</td>\n",
       "      <td>37.570340</td>\n",
       "      <td>2021.000000</td>\n",
       "      <td>0.000000</td>\n",
       "      <td>0.000000</td>\n",
       "      <td>11.000000</td>\n",
       "      <td>1.000000</td>\n",
       "      <td>1.000000</td>\n",
       "      <td>0.000000</td>\n",
       "      <td>1740.206000</td>\n",
       "      <td>54.702610</td>\n",
       "      <td>4.842324</td>\n",
       "      <td>0.526710</td>\n",
       "      <td>25.410720</td>\n",
       "      <td>137.625500</td>\n",
       "      <td>-9981.017000</td>\n",
       "      <td>-9973.848000</td>\n",
       "      <td>-0.892364</td>\n",
       "      <td>0.000000</td>\n",
       "      <td>0.000000</td>\n",
       "      <td>0.000000</td>\n",
       "      <td>0.000000</td>\n",
       "      <td>0.000000</td>\n",
       "      <td>0.000000</td>\n",
       "      <td>0.000000</td>\n",
       "      <td>0.000000</td>\n",
       "      <td>0.393313</td>\n",
       "      <td>0.257222</td>\n",
       "      <td>0.267196</td>\n",
       "      <td>0.169294</td>\n",
       "      <td>13.000000</td>\n",
       "      <td>0.000000</td>\n",
       "      <td>0.000000</td>\n",
       "      <td>0.000000</td>\n",
       "      <td>0.900000</td>\n",
       "      <td>18.755450</td>\n",
       "      <td>38.926380</td>\n",
       "      <td>6.249340</td>\n",
       "      <td>0.430000</td>\n",
       "      <td>0.210000</td>\n",
       "      <td>0.220000</td>\n",
       "      <td>0.250000</td>\n",
       "      <td>6.410000</td>\n",
       "      <td>0.000000</td>\n",
       "      <td>0.000000</td>\n",
       "      <td>0.000000</td>\n",
       "      <td>0.000000</td>\n",
       "      <td>0.000000</td>\n",
       "      <td>0.000000</td>\n",
       "      <td>0.000000</td>\n",
       "      <td>0.000000</td>\n",
       "      <td>0.000000</td>\n",
       "      <td>0.000000</td>\n",
       "      <td>-5.392722</td>\n",
       "      <td>4.092500</td>\n",
       "      <td>19.264730</td>\n",
       "      <td>8.448132</td>\n",
       "      <td>8.237818</td>\n",
       "      <td>6.490000</td>\n",
       "      <td>20.780000</td>\n",
       "      <td>31.370000</td>\n",
       "      <td>23.290000</td>\n",
       "      <td>-31.230000</td>\n",
       "      <td>-20.150000</td>\n",
       "      <td>-1.490000</td>\n",
       "      <td>-21.820000</td>\n",
       "      <td>0.000000</td>\n",
       "      <td>0.000000</td>\n",
       "      <td>0.000000</td>\n",
       "      <td>0.000000</td>\n",
       "      <td>0.036764</td>\n",
       "      <td>0.035125</td>\n",
       "      <td>0.033142</td>\n",
       "      <td>0.034144</td>\n",
       "      <td>0.031852</td>\n",
       "      <td>0.031090</td>\n",
       "      <td>0.029775</td>\n",
       "      <td>0.030276</td>\n",
       "      <td>0.000000</td>\n",
       "      <td>0.00000</td>\n",
       "      <td>0.000000</td>\n",
       "      <td>0.000000</td>\n",
       "      <td>0.000000</td>\n",
       "      <td>0.000000</td>\n",
       "      <td>0.000000</td>\n",
       "      <td>0.000000</td>\n",
       "    </tr>\n",
       "    <tr>\n",
       "      <th>25%</th>\n",
       "      <td>-110.027300</td>\n",
       "      <td>37.598060</td>\n",
       "      <td>2030.000000</td>\n",
       "      <td>0.000000</td>\n",
       "      <td>0.000000</td>\n",
       "      <td>45.000000</td>\n",
       "      <td>8.000000</td>\n",
       "      <td>8.000000</td>\n",
       "      <td>10.000000</td>\n",
       "      <td>1830.649000</td>\n",
       "      <td>62.963340</td>\n",
       "      <td>8.014318</td>\n",
       "      <td>1.918516</td>\n",
       "      <td>49.915230</td>\n",
       "      <td>380.872700</td>\n",
       "      <td>-8112.145000</td>\n",
       "      <td>-6447.018000</td>\n",
       "      <td>-0.185986</td>\n",
       "      <td>0.000000</td>\n",
       "      <td>0.000000</td>\n",
       "      <td>0.000000</td>\n",
       "      <td>0.000000</td>\n",
       "      <td>0.000000</td>\n",
       "      <td>0.000000</td>\n",
       "      <td>0.000000</td>\n",
       "      <td>0.000000</td>\n",
       "      <td>1.563163</td>\n",
       "      <td>3.429545</td>\n",
       "      <td>2.548521</td>\n",
       "      <td>2.509484</td>\n",
       "      <td>60.000000</td>\n",
       "      <td>4.000000</td>\n",
       "      <td>0.000000</td>\n",
       "      <td>12.000000</td>\n",
       "      <td>3.620609</td>\n",
       "      <td>31.008038</td>\n",
       "      <td>48.439842</td>\n",
       "      <td>17.166792</td>\n",
       "      <td>4.530000</td>\n",
       "      <td>4.090000</td>\n",
       "      <td>4.510000</td>\n",
       "      <td>5.920000</td>\n",
       "      <td>24.800000</td>\n",
       "      <td>18.000000</td>\n",
       "      <td>17.800000</td>\n",
       "      <td>1.780136</td>\n",
       "      <td>0.878093</td>\n",
       "      <td>0.024201</td>\n",
       "      <td>0.526040</td>\n",
       "      <td>2.086412</td>\n",
       "      <td>1.022676</td>\n",
       "      <td>0.030158</td>\n",
       "      <td>0.600487</td>\n",
       "      <td>0.819011</td>\n",
       "      <td>10.953750</td>\n",
       "      <td>23.778150</td>\n",
       "      <td>12.184230</td>\n",
       "      <td>12.172756</td>\n",
       "      <td>14.380000</td>\n",
       "      <td>29.790000</td>\n",
       "      <td>37.040000</td>\n",
       "      <td>31.460000</td>\n",
       "      <td>-15.100000</td>\n",
       "      <td>-6.210000</td>\n",
       "      <td>5.180000</td>\n",
       "      <td>-8.970000</td>\n",
       "      <td>0.253677</td>\n",
       "      <td>3.577367</td>\n",
       "      <td>1.910093</td>\n",
       "      <td>1.193303</td>\n",
       "      <td>0.107983</td>\n",
       "      <td>0.079548</td>\n",
       "      <td>0.053410</td>\n",
       "      <td>0.075612</td>\n",
       "      <td>0.104623</td>\n",
       "      <td>0.079483</td>\n",
       "      <td>0.053105</td>\n",
       "      <td>0.074194</td>\n",
       "      <td>90.000000</td>\n",
       "      <td>53.00000</td>\n",
       "      <td>7.000000</td>\n",
       "      <td>42.000000</td>\n",
       "      <td>90.000000</td>\n",
       "      <td>53.000000</td>\n",
       "      <td>7.000000</td>\n",
       "      <td>42.000000</td>\n",
       "    </tr>\n",
       "    <tr>\n",
       "      <th>50%</th>\n",
       "      <td>-110.005700</td>\n",
       "      <td>37.608620</td>\n",
       "      <td>2040.000000</td>\n",
       "      <td>9.000000</td>\n",
       "      <td>0.000000</td>\n",
       "      <td>56.000000</td>\n",
       "      <td>10.000000</td>\n",
       "      <td>10.000000</td>\n",
       "      <td>14.000000</td>\n",
       "      <td>1863.628000</td>\n",
       "      <td>68.272420</td>\n",
       "      <td>10.137930</td>\n",
       "      <td>2.302660</td>\n",
       "      <td>72.295410</td>\n",
       "      <td>873.719400</td>\n",
       "      <td>-3258.032000</td>\n",
       "      <td>1938.931000</td>\n",
       "      <td>0.056548</td>\n",
       "      <td>0.000000</td>\n",
       "      <td>0.000000</td>\n",
       "      <td>0.000000</td>\n",
       "      <td>0.000000</td>\n",
       "      <td>0.000000</td>\n",
       "      <td>0.000000</td>\n",
       "      <td>0.000000</td>\n",
       "      <td>0.000000</td>\n",
       "      <td>2.368256</td>\n",
       "      <td>4.386521</td>\n",
       "      <td>3.467256</td>\n",
       "      <td>3.362343</td>\n",
       "      <td>69.000000</td>\n",
       "      <td>11.000000</td>\n",
       "      <td>0.000000</td>\n",
       "      <td>16.000000</td>\n",
       "      <td>5.812053</td>\n",
       "      <td>32.855580</td>\n",
       "      <td>49.830535</td>\n",
       "      <td>20.219825</td>\n",
       "      <td>6.720000</td>\n",
       "      <td>6.130000</td>\n",
       "      <td>7.240000</td>\n",
       "      <td>8.870000</td>\n",
       "      <td>30.850000</td>\n",
       "      <td>24.428570</td>\n",
       "      <td>24.333330</td>\n",
       "      <td>2.985447</td>\n",
       "      <td>1.987563</td>\n",
       "      <td>0.103335</td>\n",
       "      <td>1.145081</td>\n",
       "      <td>3.763793</td>\n",
       "      <td>2.716861</td>\n",
       "      <td>0.130565</td>\n",
       "      <td>1.399017</td>\n",
       "      <td>1.895659</td>\n",
       "      <td>12.074400</td>\n",
       "      <td>24.661850</td>\n",
       "      <td>13.116810</td>\n",
       "      <td>12.930281</td>\n",
       "      <td>16.170000</td>\n",
       "      <td>31.560000</td>\n",
       "      <td>38.220000</td>\n",
       "      <td>32.880000</td>\n",
       "      <td>-12.240000</td>\n",
       "      <td>-4.460000</td>\n",
       "      <td>7.310000</td>\n",
       "      <td>-7.120000</td>\n",
       "      <td>0.538239</td>\n",
       "      <td>5.758803</td>\n",
       "      <td>3.597470</td>\n",
       "      <td>2.069964</td>\n",
       "      <td>0.134599</td>\n",
       "      <td>0.106090</td>\n",
       "      <td>0.070473</td>\n",
       "      <td>0.095840</td>\n",
       "      <td>0.131047</td>\n",
       "      <td>0.106775</td>\n",
       "      <td>0.069804</td>\n",
       "      <td>0.093890</td>\n",
       "      <td>90.000000</td>\n",
       "      <td>70.00000</td>\n",
       "      <td>14.000000</td>\n",
       "      <td>62.000000</td>\n",
       "      <td>90.000000</td>\n",
       "      <td>70.000000</td>\n",
       "      <td>14.000000</td>\n",
       "      <td>62.000000</td>\n",
       "    </tr>\n",
       "    <tr>\n",
       "      <th>75%</th>\n",
       "      <td>-109.990900</td>\n",
       "      <td>37.621560</td>\n",
       "      <td>2050.000000</td>\n",
       "      <td>18.000000</td>\n",
       "      <td>0.000000</td>\n",
       "      <td>67.000000</td>\n",
       "      <td>11.000000</td>\n",
       "      <td>16.000000</td>\n",
       "      <td>20.000000</td>\n",
       "      <td>1911.437000</td>\n",
       "      <td>76.029850</td>\n",
       "      <td>12.345460</td>\n",
       "      <td>2.670737</td>\n",
       "      <td>102.663300</td>\n",
       "      <td>1675.031000</td>\n",
       "      <td>2693.216000</td>\n",
       "      <td>7829.363000</td>\n",
       "      <td>0.261313</td>\n",
       "      <td>0.000000</td>\n",
       "      <td>0.000000</td>\n",
       "      <td>28.000000</td>\n",
       "      <td>0.000000</td>\n",
       "      <td>0.000000</td>\n",
       "      <td>0.000000</td>\n",
       "      <td>0.000000</td>\n",
       "      <td>0.000000</td>\n",
       "      <td>2.933713</td>\n",
       "      <td>5.336330</td>\n",
       "      <td>4.442315</td>\n",
       "      <td>4.217700</td>\n",
       "      <td>77.000000</td>\n",
       "      <td>18.000000</td>\n",
       "      <td>0.000000</td>\n",
       "      <td>20.000000</td>\n",
       "      <td>7.178831</td>\n",
       "      <td>34.107930</td>\n",
       "      <td>50.795343</td>\n",
       "      <td>21.982490</td>\n",
       "      <td>9.540000</td>\n",
       "      <td>8.430000</td>\n",
       "      <td>10.530000</td>\n",
       "      <td>12.550000</td>\n",
       "      <td>37.490000</td>\n",
       "      <td>34.000000</td>\n",
       "      <td>34.000000</td>\n",
       "      <td>4.485584</td>\n",
       "      <td>3.304307</td>\n",
       "      <td>0.276991</td>\n",
       "      <td>2.226248</td>\n",
       "      <td>6.457026</td>\n",
       "      <td>5.526135</td>\n",
       "      <td>0.389539</td>\n",
       "      <td>2.899762</td>\n",
       "      <td>3.038944</td>\n",
       "      <td>13.234180</td>\n",
       "      <td>25.586360</td>\n",
       "      <td>14.019560</td>\n",
       "      <td>13.756565</td>\n",
       "      <td>17.930000</td>\n",
       "      <td>33.500000</td>\n",
       "      <td>39.390000</td>\n",
       "      <td>34.310000</td>\n",
       "      <td>-9.800000</td>\n",
       "      <td>-2.570000</td>\n",
       "      <td>9.320000</td>\n",
       "      <td>-5.570000</td>\n",
       "      <td>0.886737</td>\n",
       "      <td>7.885286</td>\n",
       "      <td>5.809220</td>\n",
       "      <td>3.117117</td>\n",
       "      <td>0.165207</td>\n",
       "      <td>0.144363</td>\n",
       "      <td>0.084970</td>\n",
       "      <td>0.119859</td>\n",
       "      <td>0.159491</td>\n",
       "      <td>0.144581</td>\n",
       "      <td>0.085675</td>\n",
       "      <td>0.115512</td>\n",
       "      <td>90.000000</td>\n",
       "      <td>85.00000</td>\n",
       "      <td>24.000000</td>\n",
       "      <td>79.000000</td>\n",
       "      <td>90.000000</td>\n",
       "      <td>87.000000</td>\n",
       "      <td>25.000000</td>\n",
       "      <td>80.000000</td>\n",
       "    </tr>\n",
       "    <tr>\n",
       "      <th>max</th>\n",
       "      <td>-109.965900</td>\n",
       "      <td>37.634760</td>\n",
       "      <td>2059.000000</td>\n",
       "      <td>29.000000</td>\n",
       "      <td>6.000000</td>\n",
       "      <td>94.000000</td>\n",
       "      <td>20.000000</td>\n",
       "      <td>26.000000</td>\n",
       "      <td>46.000000</td>\n",
       "      <td>2004.064000</td>\n",
       "      <td>80.710780</td>\n",
       "      <td>16.347870</td>\n",
       "      <td>6.163254</td>\n",
       "      <td>175.411100</td>\n",
       "      <td>2940.777000</td>\n",
       "      <td>9886.349000</td>\n",
       "      <td>9988.666000</td>\n",
       "      <td>0.777732</td>\n",
       "      <td>88.000000</td>\n",
       "      <td>89.000000</td>\n",
       "      <td>92.000000</td>\n",
       "      <td>91.000000</td>\n",
       "      <td>88.000000</td>\n",
       "      <td>89.000000</td>\n",
       "      <td>92.000000</td>\n",
       "      <td>91.000000</td>\n",
       "      <td>5.960072</td>\n",
       "      <td>11.438000</td>\n",
       "      <td>9.749717</td>\n",
       "      <td>7.840873</td>\n",
       "      <td>91.000000</td>\n",
       "      <td>61.000000</td>\n",
       "      <td>1.000000</td>\n",
       "      <td>40.000000</td>\n",
       "      <td>13.231020</td>\n",
       "      <td>39.659350</td>\n",
       "      <td>55.501540</td>\n",
       "      <td>29.145450</td>\n",
       "      <td>29.050000</td>\n",
       "      <td>22.400000</td>\n",
       "      <td>42.070000</td>\n",
       "      <td>42.720000</td>\n",
       "      <td>77.450000</td>\n",
       "      <td>269.000000</td>\n",
       "      <td>269.000000</td>\n",
       "      <td>6.784597</td>\n",
       "      <td>6.189849</td>\n",
       "      <td>4.703831</td>\n",
       "      <td>6.296938</td>\n",
       "      <td>19.377390</td>\n",
       "      <td>18.419540</td>\n",
       "      <td>11.955880</td>\n",
       "      <td>18.611320</td>\n",
       "      <td>8.296778</td>\n",
       "      <td>17.823480</td>\n",
       "      <td>30.292170</td>\n",
       "      <td>17.762860</td>\n",
       "      <td>17.424409</td>\n",
       "      <td>26.750000</td>\n",
       "      <td>43.100000</td>\n",
       "      <td>52.180000</td>\n",
       "      <td>45.950000</td>\n",
       "      <td>-3.240000</td>\n",
       "      <td>3.320000</td>\n",
       "      <td>16.600000</td>\n",
       "      <td>0.170000</td>\n",
       "      <td>2.146895</td>\n",
       "      <td>12.191290</td>\n",
       "      <td>21.127350</td>\n",
       "      <td>6.989832</td>\n",
       "      <td>0.246990</td>\n",
       "      <td>0.234924</td>\n",
       "      <td>0.193440</td>\n",
       "      <td>0.236603</td>\n",
       "      <td>0.243092</td>\n",
       "      <td>0.232212</td>\n",
       "      <td>0.184186</td>\n",
       "      <td>0.234366</td>\n",
       "      <td>91.000000</td>\n",
       "      <td>92.00000</td>\n",
       "      <td>92.000000</td>\n",
       "      <td>91.000000</td>\n",
       "      <td>91.000000</td>\n",
       "      <td>92.000000</td>\n",
       "      <td>92.000000</td>\n",
       "      <td>91.000000</td>\n",
       "    </tr>\n",
       "  </tbody>\n",
       "</table>\n",
       "</div>"
      ],
      "text/plain": [
       "                long            lat           year     treecanopy  \\\n",
       "count  176280.000000  176280.000000  176280.000000  176280.000000   \n",
       "mean     -110.006370      37.608165    2040.000000       9.681416   \n",
       "std         0.022623       0.016189      11.254661       8.766681   \n",
       "min      -110.047200      37.570340    2021.000000       0.000000   \n",
       "25%      -110.027300      37.598060    2030.000000       0.000000   \n",
       "50%      -110.005700      37.608620    2040.000000       9.000000   \n",
       "75%      -109.990900      37.621560    2050.000000      18.000000   \n",
       "max      -109.965900      37.634760    2059.000000      29.000000   \n",
       "\n",
       "            Ann_Herb           Bare           Herb         Litter  \\\n",
       "count  176280.000000  176280.000000  176280.000000  176280.000000   \n",
       "mean        0.230088      56.628319       9.513274      11.725664   \n",
       "std         1.072663      18.428673       3.894902       6.082413   \n",
       "min         0.000000      11.000000       1.000000       1.000000   \n",
       "25%         0.000000      45.000000       8.000000       8.000000   \n",
       "50%         0.000000      56.000000      10.000000      10.000000   \n",
       "75%         0.000000      67.000000      11.000000      16.000000   \n",
       "max         6.000000      94.000000      20.000000      26.000000   \n",
       "\n",
       "               Shrub             El             Sa             Cl  \\\n",
       "count  176280.000000  176280.000000  176280.000000  176280.000000   \n",
       "mean       15.353982    1869.543372      68.923141      10.045003   \n",
       "std         8.545499      57.236854       7.254022       2.592875   \n",
       "min         0.000000    1740.206000      54.702610       4.842324   \n",
       "25%        10.000000    1830.649000      62.963340       8.014318   \n",
       "50%        14.000000    1863.628000      68.272420      10.137930   \n",
       "75%        20.000000    1911.437000      76.029850      12.345460   \n",
       "max        46.000000    2004.064000      80.710780      16.347870   \n",
       "\n",
       "                  RF             RL          Slope              E  \\\n",
       "count  176280.000000  176280.000000  176280.000000  176280.000000   \n",
       "mean        2.540820      80.205135    1102.243454   -2148.201356   \n",
       "std         1.035573      38.595838     790.900377    6188.285343   \n",
       "min         0.526710      25.410720     137.625500   -9981.017000   \n",
       "25%         1.918516      49.915230     380.872700   -8112.145000   \n",
       "50%         2.302660      72.295410     873.719400   -3258.032000   \n",
       "75%         2.670737     102.663300    1675.031000    2693.216000   \n",
       "max         6.163254     175.411100    2940.777000    9886.349000   \n",
       "\n",
       "                   S       T_P_Corr  DrySoilDays_Winter_top50  \\\n",
       "count  176280.000000  176280.000000             176280.000000   \n",
       "mean      865.203628       0.028383                  0.197413   \n",
       "std      7258.590481       0.309583                  2.691874   \n",
       "min     -9973.848000      -0.892364                  0.000000   \n",
       "25%     -6447.018000      -0.185986                  0.000000   \n",
       "50%      1938.931000       0.056548                  0.000000   \n",
       "75%      7829.363000       0.261313                  0.000000   \n",
       "max      9988.666000       0.777732                 88.000000   \n",
       "\n",
       "       DrySoilDays_Spring_top50  DrySoilDays_Summer_top50  \\\n",
       "count             176280.000000             176280.000000   \n",
       "mean                   2.505202                 15.698451   \n",
       "std                    8.204223                 26.629278   \n",
       "min                    0.000000                  0.000000   \n",
       "25%                    0.000000                  0.000000   \n",
       "50%                    0.000000                  0.000000   \n",
       "75%                    0.000000                 28.000000   \n",
       "max                   89.000000                 92.000000   \n",
       "\n",
       "       DrySoilDays_Fall_top50  DrySoilDays_Winter_whole  \\\n",
       "count           176280.000000             176280.000000   \n",
       "mean                 4.839545                  0.082375   \n",
       "std                 12.532878                  1.666457   \n",
       "min                  0.000000                  0.000000   \n",
       "25%                  0.000000                  0.000000   \n",
       "50%                  0.000000                  0.000000   \n",
       "75%                  0.000000                  0.000000   \n",
       "max                 91.000000                 88.000000   \n",
       "\n",
       "       DrySoilDays_Spring_whole  DrySoilDays_Summer_whole  \\\n",
       "count             176280.000000             176280.000000   \n",
       "mean                   1.707602                  7.095297   \n",
       "std                    7.139710                 20.335391   \n",
       "min                    0.000000                  0.000000   \n",
       "25%                    0.000000                  0.000000   \n",
       "50%                    0.000000                  0.000000   \n",
       "75%                    0.000000                  0.000000   \n",
       "max                   89.000000                 92.000000   \n",
       "\n",
       "       DrySoilDays_Fall_whole    Evap_Winter    Evap_Spring    Evap_Summer  \\\n",
       "count           176280.000000  176280.000000  176280.000000  176280.000000   \n",
       "mean                 2.207397       2.283910       4.403886       3.531475   \n",
       "std                  8.805767       0.919878       1.373564       1.392125   \n",
       "min                  0.000000       0.393313       0.257222       0.267196   \n",
       "25%                  0.000000       1.563163       3.429545       2.548521   \n",
       "50%                  0.000000       2.368256       4.386521       3.467256   \n",
       "75%                  0.000000       2.933713       5.336330       4.442315   \n",
       "max                 91.000000       5.960072      11.438000       9.749717   \n",
       "\n",
       "           Evap_Fall  FrostDays_Winter  FrostDays_Spring  FrostDays_Summer  \\\n",
       "count  176280.000000     176280.000000     176280.000000     176280.000000   \n",
       "mean        3.384205         67.353897         11.912520          0.000357   \n",
       "std         1.187843         13.010036          9.245348          0.018901   \n",
       "min         0.169294         13.000000          0.000000          0.000000   \n",
       "25%         2.509484         60.000000          4.000000          0.000000   \n",
       "50%         3.362343         69.000000         11.000000          0.000000   \n",
       "75%         4.217700         77.000000         18.000000          0.000000   \n",
       "max         7.840873         91.000000         61.000000          1.000000   \n",
       "\n",
       "       FrostDays_Fall     PET_Winter     PET_Spring     PET_Summer  \\\n",
       "count   176280.000000  176280.000000  176280.000000  176280.000000   \n",
       "mean        15.982965       5.488821      32.081233      49.280618   \n",
       "std          6.046841       2.507754       3.067101       2.305216   \n",
       "min          0.000000       0.900000      18.755450      38.926380   \n",
       "25%         12.000000       3.620609      31.008038      48.439842   \n",
       "50%         16.000000       5.812053      32.855580      49.830535   \n",
       "75%         20.000000       7.178831      34.107930      50.795343   \n",
       "max         40.000000      13.231020      39.659350      55.501540   \n",
       "\n",
       "            PET_Fall     PPT_Winter     PPT_Spring     PPT_Summer  \\\n",
       "count  176280.000000  176280.000000  176280.000000  176280.000000   \n",
       "mean       19.052772       7.392430       6.543425       8.017226   \n",
       "std         4.494673       3.831333       3.239866       4.837485   \n",
       "min         6.249340       0.430000       0.210000       0.220000   \n",
       "25%        17.166792       4.530000       4.090000       4.510000   \n",
       "50%        20.219825       6.720000       6.130000       7.240000   \n",
       "75%        21.982490       9.540000       8.430000      10.530000   \n",
       "max        29.145450      29.050000      22.400000      42.070000   \n",
       "\n",
       "            PPT_Fall     PPT_Annual  SemiDryDuration_Annual_top50  \\\n",
       "count  176280.000000  176280.000000                 176280.000000   \n",
       "mean        9.718424      31.671506                     29.210858   \n",
       "std         5.180476       9.673741                     18.858710   \n",
       "min         0.250000       6.410000                      0.000000   \n",
       "25%         5.920000      24.800000                     18.000000   \n",
       "50%         8.870000      30.850000                     24.428570   \n",
       "75%        12.550000      37.490000                     34.000000   \n",
       "max        42.720000      77.450000                    269.000000   \n",
       "\n",
       "       SemiDryDuration_Annual_whole  SWA_Winter_top50  SWA_Spring_top50  \\\n",
       "count                 176280.000000     176280.000000     176280.000000   \n",
       "mean                      29.068091          3.121882          2.153445   \n",
       "std                       18.845706          1.638784          1.440891   \n",
       "min                        0.000000          0.000000          0.000000   \n",
       "25%                       17.800000          1.780136          0.878093   \n",
       "50%                       24.333330          2.985447          1.987563   \n",
       "75%                       34.000000          4.485584          3.304307   \n",
       "max                      269.000000          6.784597          6.189849   \n",
       "\n",
       "       SWA_Summer_top50  SWA_Fall_top50  SWA_Winter_whole  SWA_Spring_whole  \\\n",
       "count     176280.000000   176280.000000     176280.000000     176280.000000   \n",
       "mean           0.219574        1.533198          4.518105          3.652728   \n",
       "std            0.328595        1.298623          3.152052          3.245808   \n",
       "min            0.000000        0.000000          0.000000          0.000000   \n",
       "25%            0.024201        0.526040          2.086412          1.022676   \n",
       "50%            0.103335        1.145081          3.763793          2.716861   \n",
       "75%            0.276991        2.226248          6.457026          5.526135   \n",
       "max            4.703831        6.296938         19.377390         18.419540   \n",
       "\n",
       "       SWA_Summer_whole  SWA_Fall_whole       T_Winter       T_Spring  \\\n",
       "count     176280.000000   176280.000000  176280.000000  176280.000000   \n",
       "mean           0.346078        2.124042       1.939956      12.115274   \n",
       "std            0.609121        2.180247       1.651260       1.677793   \n",
       "min            0.000000        0.000000      -5.392722       4.092500   \n",
       "25%            0.030158        0.600487       0.819011      10.953750   \n",
       "50%            0.130565        1.399017       1.895659      12.074400   \n",
       "75%            0.389539        2.899762       3.038944      13.234180   \n",
       "max           11.955880       18.611320       8.296778      17.823480   \n",
       "\n",
       "            T_Summer         T_Fall       T_Annual    Tmax_Winter  \\\n",
       "count  176280.000000  176280.000000  176280.000000  176280.000000   \n",
       "mean       24.689107      13.110296      12.963658      16.276126   \n",
       "std         1.380884       1.342654       1.171585       2.717887   \n",
       "min        19.264730       8.448132       8.237818       6.490000   \n",
       "25%        23.778150      12.184230      12.172756      14.380000   \n",
       "50%        24.661850      13.116810      12.930281      16.170000   \n",
       "75%        25.586360      14.019560      13.756565      17.930000   \n",
       "max        30.292170      17.762860      17.424409      26.750000   \n",
       "\n",
       "         Tmax_Spring    Tmax_Summer      Tmax_Fall    Tmin_Winter  \\\n",
       "count  176280.000000  176280.000000  176280.000000  176280.000000   \n",
       "mean       31.698909      38.325951      32.946791     -12.750184   \n",
       "std         2.776177       2.144416       2.247272       4.186036   \n",
       "min        20.780000      31.370000      23.290000     -31.230000   \n",
       "25%        29.790000      37.040000      31.460000     -15.100000   \n",
       "50%        31.560000      38.220000      32.880000     -12.240000   \n",
       "75%        33.500000      39.390000      34.310000      -9.800000   \n",
       "max        43.100000      52.180000      45.950000      -3.240000   \n",
       "\n",
       "         Tmin_Spring    Tmin_Summer      Tmin_Fall  Transp_Winter  \\\n",
       "count  176280.000000  176280.000000  176280.000000  176280.000000   \n",
       "mean       -4.368244       7.274078      -7.411464       0.581363   \n",
       "std         2.836128       2.953143       2.633483       0.379498   \n",
       "min       -20.150000      -1.490000     -21.820000       0.000000   \n",
       "25%        -6.210000       5.180000      -8.970000       0.253677   \n",
       "50%        -4.460000       7.310000      -7.120000       0.538239   \n",
       "75%        -2.570000       9.320000      -5.570000       0.886737   \n",
       "max         3.320000      16.600000       0.170000       2.146895   \n",
       "\n",
       "       Transp_Spring  Transp_Summer    Transp_Fall  VWC_Winter_top50  \\\n",
       "count  176280.000000  176280.000000  176280.000000     176280.000000   \n",
       "mean        5.699164       4.214863       2.218793          0.136640   \n",
       "std         2.575833       3.096946       1.283519          0.040546   \n",
       "min         0.000000       0.000000       0.000000          0.036764   \n",
       "25%         3.577367       1.910093       1.193303          0.107983   \n",
       "50%         5.758803       3.597470       2.069964          0.134599   \n",
       "75%         7.885286       5.809220       3.117117          0.165207   \n",
       "max        12.191290      21.127350       6.989832          0.246990   \n",
       "\n",
       "       VWC_Spring_top50  VWC_Summer_top50  VWC_Fall_top50  VWC_Winter_whole  \\\n",
       "count     176280.000000     176280.000000   176280.000000     176280.000000   \n",
       "mean           0.112948          0.070486        0.100771          0.132844   \n",
       "std            0.040782          0.020005        0.034682          0.039874   \n",
       "min            0.035125          0.033142        0.034144          0.031852   \n",
       "25%            0.079548          0.053410        0.075612          0.104623   \n",
       "50%            0.106090          0.070473        0.095840          0.131047   \n",
       "75%            0.144363          0.084970        0.119859          0.159491   \n",
       "max            0.234924          0.193440        0.236603          0.243092   \n",
       "\n",
       "       VWC_Spring_whole  VWC_Summer_whole  VWC_Fall_whole  \\\n",
       "count     176280.000000     176280.000000   176280.000000   \n",
       "mean           0.113709          0.070296        0.097799   \n",
       "std            0.041888          0.020387        0.033027   \n",
       "min            0.031090          0.029775        0.030276   \n",
       "25%            0.079483          0.053105        0.074194   \n",
       "50%            0.106775          0.069804        0.093890   \n",
       "75%            0.144581          0.085675        0.115512   \n",
       "max            0.232212          0.184186        0.234366   \n",
       "\n",
       "       WetSoilDays_Winter_top50  WetSoilDays_Spring_top50  \\\n",
       "count             176280.000000              176280.00000   \n",
       "mean                  85.113722                  66.34271   \n",
       "std                   14.122440                  21.79837   \n",
       "min                    0.000000                   0.00000   \n",
       "25%                   90.000000                  53.00000   \n",
       "50%                   90.000000                  70.00000   \n",
       "75%                   90.000000                  85.00000   \n",
       "max                   91.000000                  92.00000   \n",
       "\n",
       "       WetSoilDays_Summer_top50  WetSoilDays_Fall_top50  \\\n",
       "count             176280.000000           176280.000000   \n",
       "mean                  16.760869               59.549932   \n",
       "std                   13.356141               23.507859   \n",
       "min                    0.000000                0.000000   \n",
       "25%                    7.000000               42.000000   \n",
       "50%                   14.000000               62.000000   \n",
       "75%                   24.000000               79.000000   \n",
       "max                   92.000000               91.000000   \n",
       "\n",
       "       WetSoilDays_Winter_whole  WetSoilDays_Spring_whole  \\\n",
       "count             176280.000000             176280.000000   \n",
       "mean                  85.127332                 66.985773   \n",
       "std                   14.108912                 22.040899   \n",
       "min                    0.000000                  0.000000   \n",
       "25%                   90.000000                 53.000000   \n",
       "50%                   90.000000                 70.000000   \n",
       "75%                   90.000000                 87.000000   \n",
       "max                   91.000000                 92.000000   \n",
       "\n",
       "       WetSoilDays_Summer_whole  WetSoilDays_Fall_whole  \n",
       "count             176280.000000           176280.000000  \n",
       "mean                  17.518913               59.664505  \n",
       "std                   14.282394               23.534494  \n",
       "min                    0.000000                0.000000  \n",
       "25%                    7.000000               42.000000  \n",
       "50%                   14.000000               62.000000  \n",
       "75%                   25.000000               80.000000  \n",
       "max                   92.000000               91.000000  "
      ]
     },
     "execution_count": 46,
     "metadata": {},
     "output_type": "execute_result"
    }
   ],
   "source": [
    "#NT  decription\n",
    "plot_df = df[df['TimePeriod'] == 'NT']\n",
    "plot_df.describe()"
   ]
  },
  {
   "cell_type": "code",
   "execution_count": 47,
   "metadata": {},
   "outputs": [
    {
     "data": {
      "text/html": [
       "<div>\n",
       "<style scoped>\n",
       "    .dataframe tbody tr th:only-of-type {\n",
       "        vertical-align: middle;\n",
       "    }\n",
       "\n",
       "    .dataframe tbody tr th {\n",
       "        vertical-align: top;\n",
       "    }\n",
       "\n",
       "    .dataframe thead th {\n",
       "        text-align: right;\n",
       "    }\n",
       "</style>\n",
       "<table border=\"1\" class=\"dataframe\">\n",
       "  <thead>\n",
       "    <tr style=\"text-align: right;\">\n",
       "      <th></th>\n",
       "      <th>long</th>\n",
       "      <th>lat</th>\n",
       "      <th>year</th>\n",
       "      <th>treecanopy</th>\n",
       "      <th>Ann_Herb</th>\n",
       "      <th>Bare</th>\n",
       "      <th>Herb</th>\n",
       "      <th>Litter</th>\n",
       "      <th>Shrub</th>\n",
       "      <th>El</th>\n",
       "      <th>Sa</th>\n",
       "      <th>Cl</th>\n",
       "      <th>RF</th>\n",
       "      <th>RL</th>\n",
       "      <th>Slope</th>\n",
       "      <th>E</th>\n",
       "      <th>S</th>\n",
       "      <th>T_P_Corr</th>\n",
       "      <th>DrySoilDays_Winter_top50</th>\n",
       "      <th>DrySoilDays_Spring_top50</th>\n",
       "      <th>DrySoilDays_Summer_top50</th>\n",
       "      <th>DrySoilDays_Fall_top50</th>\n",
       "      <th>DrySoilDays_Winter_whole</th>\n",
       "      <th>DrySoilDays_Spring_whole</th>\n",
       "      <th>DrySoilDays_Summer_whole</th>\n",
       "      <th>DrySoilDays_Fall_whole</th>\n",
       "      <th>Evap_Winter</th>\n",
       "      <th>Evap_Spring</th>\n",
       "      <th>Evap_Summer</th>\n",
       "      <th>Evap_Fall</th>\n",
       "      <th>FrostDays_Winter</th>\n",
       "      <th>FrostDays_Spring</th>\n",
       "      <th>FrostDays_Summer</th>\n",
       "      <th>FrostDays_Fall</th>\n",
       "      <th>PET_Winter</th>\n",
       "      <th>PET_Spring</th>\n",
       "      <th>PET_Summer</th>\n",
       "      <th>PET_Fall</th>\n",
       "      <th>PPT_Winter</th>\n",
       "      <th>PPT_Spring</th>\n",
       "      <th>PPT_Summer</th>\n",
       "      <th>PPT_Fall</th>\n",
       "      <th>PPT_Annual</th>\n",
       "      <th>SemiDryDuration_Annual_top50</th>\n",
       "      <th>SemiDryDuration_Annual_whole</th>\n",
       "      <th>SWA_Winter_top50</th>\n",
       "      <th>SWA_Spring_top50</th>\n",
       "      <th>SWA_Summer_top50</th>\n",
       "      <th>SWA_Fall_top50</th>\n",
       "      <th>SWA_Winter_whole</th>\n",
       "      <th>SWA_Spring_whole</th>\n",
       "      <th>SWA_Summer_whole</th>\n",
       "      <th>SWA_Fall_whole</th>\n",
       "      <th>T_Winter</th>\n",
       "      <th>T_Spring</th>\n",
       "      <th>T_Summer</th>\n",
       "      <th>T_Fall</th>\n",
       "      <th>T_Annual</th>\n",
       "      <th>Tmax_Winter</th>\n",
       "      <th>Tmax_Spring</th>\n",
       "      <th>Tmax_Summer</th>\n",
       "      <th>Tmax_Fall</th>\n",
       "      <th>Tmin_Winter</th>\n",
       "      <th>Tmin_Spring</th>\n",
       "      <th>Tmin_Summer</th>\n",
       "      <th>Tmin_Fall</th>\n",
       "      <th>Transp_Winter</th>\n",
       "      <th>Transp_Spring</th>\n",
       "      <th>Transp_Summer</th>\n",
       "      <th>Transp_Fall</th>\n",
       "      <th>VWC_Winter_top50</th>\n",
       "      <th>VWC_Spring_top50</th>\n",
       "      <th>VWC_Summer_top50</th>\n",
       "      <th>VWC_Fall_top50</th>\n",
       "      <th>VWC_Winter_whole</th>\n",
       "      <th>VWC_Spring_whole</th>\n",
       "      <th>VWC_Summer_whole</th>\n",
       "      <th>VWC_Fall_whole</th>\n",
       "      <th>WetSoilDays_Winter_top50</th>\n",
       "      <th>WetSoilDays_Spring_top50</th>\n",
       "      <th>WetSoilDays_Summer_top50</th>\n",
       "      <th>WetSoilDays_Fall_top50</th>\n",
       "      <th>WetSoilDays_Winter_whole</th>\n",
       "      <th>WetSoilDays_Spring_whole</th>\n",
       "      <th>WetSoilDays_Summer_whole</th>\n",
       "      <th>WetSoilDays_Fall_whole</th>\n",
       "    </tr>\n",
       "  </thead>\n",
       "  <tbody>\n",
       "    <tr>\n",
       "      <th>count</th>\n",
       "      <td>180800.000000</td>\n",
       "      <td>180800.000000</td>\n",
       "      <td>180800.000000</td>\n",
       "      <td>180800.000000</td>\n",
       "      <td>180800.000000</td>\n",
       "      <td>180800.000000</td>\n",
       "      <td>180800.000000</td>\n",
       "      <td>180800.000000</td>\n",
       "      <td>180800.000000</td>\n",
       "      <td>180800.000000</td>\n",
       "      <td>180800.000000</td>\n",
       "      <td>180800.000000</td>\n",
       "      <td>180800.000000</td>\n",
       "      <td>180800.000000</td>\n",
       "      <td>180800.000000</td>\n",
       "      <td>180800.000000</td>\n",
       "      <td>180800.000000</td>\n",
       "      <td>180800.000000</td>\n",
       "      <td>180800.000000</td>\n",
       "      <td>180800.000000</td>\n",
       "      <td>180800.000000</td>\n",
       "      <td>180800.000000</td>\n",
       "      <td>180800.000000</td>\n",
       "      <td>180800.000000</td>\n",
       "      <td>180800.000000</td>\n",
       "      <td>180800.000000</td>\n",
       "      <td>180800.000000</td>\n",
       "      <td>180800.000000</td>\n",
       "      <td>180800.000000</td>\n",
       "      <td>180800.000000</td>\n",
       "      <td>180800.000000</td>\n",
       "      <td>180800.000000</td>\n",
       "      <td>180800.0</td>\n",
       "      <td>180800.000000</td>\n",
       "      <td>180800.000000</td>\n",
       "      <td>180800.000000</td>\n",
       "      <td>180800.000000</td>\n",
       "      <td>180800.000000</td>\n",
       "      <td>180800.000000</td>\n",
       "      <td>180800.000000</td>\n",
       "      <td>180800.000000</td>\n",
       "      <td>180800.000000</td>\n",
       "      <td>180800.000000</td>\n",
       "      <td>180800.000000</td>\n",
       "      <td>180800.000000</td>\n",
       "      <td>180800.000000</td>\n",
       "      <td>180800.000000</td>\n",
       "      <td>180800.000000</td>\n",
       "      <td>180800.000000</td>\n",
       "      <td>180800.000000</td>\n",
       "      <td>180800.000000</td>\n",
       "      <td>180800.000000</td>\n",
       "      <td>180800.000000</td>\n",
       "      <td>180800.000000</td>\n",
       "      <td>180800.000000</td>\n",
       "      <td>180800.000000</td>\n",
       "      <td>180800.000000</td>\n",
       "      <td>180800.000000</td>\n",
       "      <td>180800.000000</td>\n",
       "      <td>180800.000000</td>\n",
       "      <td>180800.000000</td>\n",
       "      <td>180800.00000</td>\n",
       "      <td>180800.000000</td>\n",
       "      <td>180800.000000</td>\n",
       "      <td>180800.000000</td>\n",
       "      <td>180800.000000</td>\n",
       "      <td>180800.000000</td>\n",
       "      <td>180800.000000</td>\n",
       "      <td>180800.000000</td>\n",
       "      <td>180800.000000</td>\n",
       "      <td>180800.000000</td>\n",
       "      <td>180800.000000</td>\n",
       "      <td>180800.000000</td>\n",
       "      <td>180800.000000</td>\n",
       "      <td>180800.000000</td>\n",
       "      <td>180800.000000</td>\n",
       "      <td>180800.000000</td>\n",
       "      <td>180800.000000</td>\n",
       "      <td>180800.000000</td>\n",
       "      <td>180800.000000</td>\n",
       "      <td>180800.000000</td>\n",
       "      <td>180800.000000</td>\n",
       "      <td>180800.000000</td>\n",
       "      <td>180800.000000</td>\n",
       "      <td>180800.000000</td>\n",
       "      <td>180800.000000</td>\n",
       "    </tr>\n",
       "    <tr>\n",
       "      <th>mean</th>\n",
       "      <td>-110.006370</td>\n",
       "      <td>37.608165</td>\n",
       "      <td>2079.500000</td>\n",
       "      <td>9.681416</td>\n",
       "      <td>0.230088</td>\n",
       "      <td>56.628319</td>\n",
       "      <td>9.513274</td>\n",
       "      <td>11.725664</td>\n",
       "      <td>15.353982</td>\n",
       "      <td>1869.543372</td>\n",
       "      <td>68.923141</td>\n",
       "      <td>10.045003</td>\n",
       "      <td>2.540820</td>\n",
       "      <td>80.205135</td>\n",
       "      <td>1102.243454</td>\n",
       "      <td>-2148.201356</td>\n",
       "      <td>865.203628</td>\n",
       "      <td>0.030325</td>\n",
       "      <td>0.230293</td>\n",
       "      <td>2.344215</td>\n",
       "      <td>14.538678</td>\n",
       "      <td>4.440343</td>\n",
       "      <td>0.096150</td>\n",
       "      <td>1.626355</td>\n",
       "      <td>6.674021</td>\n",
       "      <td>2.060343</td>\n",
       "      <td>2.257854</td>\n",
       "      <td>4.266554</td>\n",
       "      <td>3.598377</td>\n",
       "      <td>3.402004</td>\n",
       "      <td>51.785404</td>\n",
       "      <td>7.182998</td>\n",
       "      <td>0.0</td>\n",
       "      <td>11.569220</td>\n",
       "      <td>5.848140</td>\n",
       "      <td>33.230281</td>\n",
       "      <td>50.718745</td>\n",
       "      <td>19.920830</td>\n",
       "      <td>7.505116</td>\n",
       "      <td>6.374562</td>\n",
       "      <td>8.407846</td>\n",
       "      <td>9.630725</td>\n",
       "      <td>31.918249</td>\n",
       "      <td>28.475382</td>\n",
       "      <td>28.324522</td>\n",
       "      <td>3.173780</td>\n",
       "      <td>2.185654</td>\n",
       "      <td>0.271750</td>\n",
       "      <td>1.570615</td>\n",
       "      <td>4.616434</td>\n",
       "      <td>3.729414</td>\n",
       "      <td>0.425459</td>\n",
       "      <td>2.196997</td>\n",
       "      <td>3.708171</td>\n",
       "      <td>13.731297</td>\n",
       "      <td>26.526969</td>\n",
       "      <td>15.015500</td>\n",
       "      <td>14.745484</td>\n",
       "      <td>18.261424</td>\n",
       "      <td>33.785133</td>\n",
       "      <td>40.348466</td>\n",
       "      <td>34.84503</td>\n",
       "      <td>-10.159530</td>\n",
       "      <td>-2.801483</td>\n",
       "      <td>9.133776</td>\n",
       "      <td>-5.880545</td>\n",
       "      <td>0.587281</td>\n",
       "      <td>5.532466</td>\n",
       "      <td>4.426012</td>\n",
       "      <td>2.255521</td>\n",
       "      <td>0.137683</td>\n",
       "      <td>0.113616</td>\n",
       "      <td>0.071738</td>\n",
       "      <td>0.101571</td>\n",
       "      <td>0.133878</td>\n",
       "      <td>0.114569</td>\n",
       "      <td>0.071454</td>\n",
       "      <td>0.098660</td>\n",
       "      <td>85.272671</td>\n",
       "      <td>67.177030</td>\n",
       "      <td>18.890000</td>\n",
       "      <td>60.763180</td>\n",
       "      <td>85.292168</td>\n",
       "      <td>67.800553</td>\n",
       "      <td>19.716499</td>\n",
       "      <td>60.896433</td>\n",
       "    </tr>\n",
       "    <tr>\n",
       "      <th>std</th>\n",
       "      <td>0.022623</td>\n",
       "      <td>0.016189</td>\n",
       "      <td>11.543428</td>\n",
       "      <td>8.766680</td>\n",
       "      <td>1.072663</td>\n",
       "      <td>18.428672</td>\n",
       "      <td>3.894902</td>\n",
       "      <td>6.082412</td>\n",
       "      <td>8.545498</td>\n",
       "      <td>57.236850</td>\n",
       "      <td>7.254022</td>\n",
       "      <td>2.592875</td>\n",
       "      <td>1.035573</td>\n",
       "      <td>38.595835</td>\n",
       "      <td>790.900321</td>\n",
       "      <td>6188.284904</td>\n",
       "      <td>7258.589966</td>\n",
       "      <td>0.320015</td>\n",
       "      <td>2.940485</td>\n",
       "      <td>7.816524</td>\n",
       "      <td>25.538189</td>\n",
       "      <td>12.346700</td>\n",
       "      <td>1.855514</td>\n",
       "      <td>6.864611</td>\n",
       "      <td>19.587564</td>\n",
       "      <td>8.690911</td>\n",
       "      <td>0.901389</td>\n",
       "      <td>1.341780</td>\n",
       "      <td>1.384849</td>\n",
       "      <td>1.190177</td>\n",
       "      <td>18.922502</td>\n",
       "      <td>7.493756</td>\n",
       "      <td>0.0</td>\n",
       "      <td>6.410901</td>\n",
       "      <td>2.665237</td>\n",
       "      <td>3.262389</td>\n",
       "      <td>2.614269</td>\n",
       "      <td>4.696285</td>\n",
       "      <td>4.098794</td>\n",
       "      <td>3.175206</td>\n",
       "      <td>5.121409</td>\n",
       "      <td>5.122457</td>\n",
       "      <td>9.799451</td>\n",
       "      <td>18.295497</td>\n",
       "      <td>18.307030</td>\n",
       "      <td>1.616535</td>\n",
       "      <td>1.451825</td>\n",
       "      <td>0.399192</td>\n",
       "      <td>1.308426</td>\n",
       "      <td>3.159429</td>\n",
       "      <td>3.294014</td>\n",
       "      <td>0.728282</td>\n",
       "      <td>2.227232</td>\n",
       "      <td>2.002642</td>\n",
       "      <td>2.087118</td>\n",
       "      <td>2.026093</td>\n",
       "      <td>1.961300</td>\n",
       "      <td>1.753026</td>\n",
       "      <td>3.137570</td>\n",
       "      <td>3.365981</td>\n",
       "      <td>3.065804</td>\n",
       "      <td>2.83281</td>\n",
       "      <td>3.920918</td>\n",
       "      <td>2.966339</td>\n",
       "      <td>3.312943</td>\n",
       "      <td>2.715233</td>\n",
       "      <td>0.375645</td>\n",
       "      <td>2.479875</td>\n",
       "      <td>3.194167</td>\n",
       "      <td>1.262044</td>\n",
       "      <td>0.040381</td>\n",
       "      <td>0.041048</td>\n",
       "      <td>0.020802</td>\n",
       "      <td>0.035031</td>\n",
       "      <td>0.039559</td>\n",
       "      <td>0.042269</td>\n",
       "      <td>0.021061</td>\n",
       "      <td>0.033419</td>\n",
       "      <td>13.633649</td>\n",
       "      <td>21.614842</td>\n",
       "      <td>14.914196</td>\n",
       "      <td>23.958033</td>\n",
       "      <td>13.610947</td>\n",
       "      <td>21.828780</td>\n",
       "      <td>15.850215</td>\n",
       "      <td>23.985564</td>\n",
       "    </tr>\n",
       "    <tr>\n",
       "      <th>min</th>\n",
       "      <td>-110.047200</td>\n",
       "      <td>37.570340</td>\n",
       "      <td>2060.000000</td>\n",
       "      <td>0.000000</td>\n",
       "      <td>0.000000</td>\n",
       "      <td>11.000000</td>\n",
       "      <td>1.000000</td>\n",
       "      <td>1.000000</td>\n",
       "      <td>0.000000</td>\n",
       "      <td>1740.206000</td>\n",
       "      <td>54.702610</td>\n",
       "      <td>4.842324</td>\n",
       "      <td>0.526710</td>\n",
       "      <td>25.410720</td>\n",
       "      <td>137.625500</td>\n",
       "      <td>-9981.017000</td>\n",
       "      <td>-9973.848000</td>\n",
       "      <td>-0.797084</td>\n",
       "      <td>0.000000</td>\n",
       "      <td>0.000000</td>\n",
       "      <td>0.000000</td>\n",
       "      <td>0.000000</td>\n",
       "      <td>0.000000</td>\n",
       "      <td>0.000000</td>\n",
       "      <td>0.000000</td>\n",
       "      <td>0.000000</td>\n",
       "      <td>0.233727</td>\n",
       "      <td>0.087904</td>\n",
       "      <td>0.147033</td>\n",
       "      <td>0.153714</td>\n",
       "      <td>2.000000</td>\n",
       "      <td>0.000000</td>\n",
       "      <td>0.0</td>\n",
       "      <td>0.000000</td>\n",
       "      <td>0.904984</td>\n",
       "      <td>20.808200</td>\n",
       "      <td>39.744360</td>\n",
       "      <td>6.394923</td>\n",
       "      <td>0.170000</td>\n",
       "      <td>0.000000</td>\n",
       "      <td>0.110000</td>\n",
       "      <td>0.230000</td>\n",
       "      <td>4.840000</td>\n",
       "      <td>0.000000</td>\n",
       "      <td>0.000000</td>\n",
       "      <td>0.000000</td>\n",
       "      <td>0.000000</td>\n",
       "      <td>0.000000</td>\n",
       "      <td>0.000000</td>\n",
       "      <td>0.000000</td>\n",
       "      <td>0.000000</td>\n",
       "      <td>0.000000</td>\n",
       "      <td>0.000000</td>\n",
       "      <td>-2.746444</td>\n",
       "      <td>7.026087</td>\n",
       "      <td>20.108320</td>\n",
       "      <td>8.646593</td>\n",
       "      <td>9.991444</td>\n",
       "      <td>7.400000</td>\n",
       "      <td>22.880000</td>\n",
       "      <td>31.410000</td>\n",
       "      <td>24.55000</td>\n",
       "      <td>-26.920000</td>\n",
       "      <td>-15.610000</td>\n",
       "      <td>-0.230000</td>\n",
       "      <td>-18.620000</td>\n",
       "      <td>0.000000</td>\n",
       "      <td>0.000014</td>\n",
       "      <td>0.000000</td>\n",
       "      <td>0.000000</td>\n",
       "      <td>0.035135</td>\n",
       "      <td>0.035721</td>\n",
       "      <td>0.032873</td>\n",
       "      <td>0.033547</td>\n",
       "      <td>0.030772</td>\n",
       "      <td>0.031274</td>\n",
       "      <td>0.029641</td>\n",
       "      <td>0.029978</td>\n",
       "      <td>0.000000</td>\n",
       "      <td>0.000000</td>\n",
       "      <td>0.000000</td>\n",
       "      <td>0.000000</td>\n",
       "      <td>0.000000</td>\n",
       "      <td>0.000000</td>\n",
       "      <td>0.000000</td>\n",
       "      <td>0.000000</td>\n",
       "    </tr>\n",
       "    <tr>\n",
       "      <th>25%</th>\n",
       "      <td>-110.027300</td>\n",
       "      <td>37.598060</td>\n",
       "      <td>2069.750000</td>\n",
       "      <td>0.000000</td>\n",
       "      <td>0.000000</td>\n",
       "      <td>45.000000</td>\n",
       "      <td>8.000000</td>\n",
       "      <td>8.000000</td>\n",
       "      <td>10.000000</td>\n",
       "      <td>1830.649000</td>\n",
       "      <td>62.963340</td>\n",
       "      <td>8.014318</td>\n",
       "      <td>1.918516</td>\n",
       "      <td>49.915230</td>\n",
       "      <td>380.872700</td>\n",
       "      <td>-8112.145000</td>\n",
       "      <td>-6447.018000</td>\n",
       "      <td>-0.204843</td>\n",
       "      <td>0.000000</td>\n",
       "      <td>0.000000</td>\n",
       "      <td>0.000000</td>\n",
       "      <td>0.000000</td>\n",
       "      <td>0.000000</td>\n",
       "      <td>0.000000</td>\n",
       "      <td>0.000000</td>\n",
       "      <td>0.000000</td>\n",
       "      <td>1.553318</td>\n",
       "      <td>3.321445</td>\n",
       "      <td>2.577430</td>\n",
       "      <td>2.556875</td>\n",
       "      <td>38.000000</td>\n",
       "      <td>1.000000</td>\n",
       "      <td>0.0</td>\n",
       "      <td>7.000000</td>\n",
       "      <td>3.900032</td>\n",
       "      <td>31.964417</td>\n",
       "      <td>49.516155</td>\n",
       "      <td>17.906420</td>\n",
       "      <td>4.460000</td>\n",
       "      <td>4.020000</td>\n",
       "      <td>4.670000</td>\n",
       "      <td>6.000000</td>\n",
       "      <td>24.800000</td>\n",
       "      <td>17.571430</td>\n",
       "      <td>17.444440</td>\n",
       "      <td>1.878999</td>\n",
       "      <td>0.900830</td>\n",
       "      <td>0.028260</td>\n",
       "      <td>0.543143</td>\n",
       "      <td>2.190621</td>\n",
       "      <td>1.050402</td>\n",
       "      <td>0.034451</td>\n",
       "      <td>0.626309</td>\n",
       "      <td>2.276111</td>\n",
       "      <td>12.261520</td>\n",
       "      <td>25.151410</td>\n",
       "      <td>13.640097</td>\n",
       "      <td>13.507076</td>\n",
       "      <td>16.050000</td>\n",
       "      <td>31.480000</td>\n",
       "      <td>38.510000</td>\n",
       "      <td>33.01000</td>\n",
       "      <td>-12.570000</td>\n",
       "      <td>-4.740000</td>\n",
       "      <td>6.840000</td>\n",
       "      <td>-7.600000</td>\n",
       "      <td>0.272008</td>\n",
       "      <td>3.483520</td>\n",
       "      <td>1.985393</td>\n",
       "      <td>1.268405</td>\n",
       "      <td>0.109260</td>\n",
       "      <td>0.080058</td>\n",
       "      <td>0.054054</td>\n",
       "      <td>0.076105</td>\n",
       "      <td>0.106152</td>\n",
       "      <td>0.080032</td>\n",
       "      <td>0.053706</td>\n",
       "      <td>0.074656</td>\n",
       "      <td>90.000000</td>\n",
       "      <td>54.000000</td>\n",
       "      <td>7.000000</td>\n",
       "      <td>44.000000</td>\n",
       "      <td>90.000000</td>\n",
       "      <td>54.000000</td>\n",
       "      <td>8.000000</td>\n",
       "      <td>44.000000</td>\n",
       "    </tr>\n",
       "    <tr>\n",
       "      <th>50%</th>\n",
       "      <td>-110.005700</td>\n",
       "      <td>37.608620</td>\n",
       "      <td>2079.500000</td>\n",
       "      <td>9.000000</td>\n",
       "      <td>0.000000</td>\n",
       "      <td>56.000000</td>\n",
       "      <td>10.000000</td>\n",
       "      <td>10.000000</td>\n",
       "      <td>14.000000</td>\n",
       "      <td>1863.628000</td>\n",
       "      <td>68.272420</td>\n",
       "      <td>10.137930</td>\n",
       "      <td>2.302660</td>\n",
       "      <td>72.295410</td>\n",
       "      <td>873.719400</td>\n",
       "      <td>-3258.032000</td>\n",
       "      <td>1938.931000</td>\n",
       "      <td>0.052096</td>\n",
       "      <td>0.000000</td>\n",
       "      <td>0.000000</td>\n",
       "      <td>0.000000</td>\n",
       "      <td>0.000000</td>\n",
       "      <td>0.000000</td>\n",
       "      <td>0.000000</td>\n",
       "      <td>0.000000</td>\n",
       "      <td>0.000000</td>\n",
       "      <td>2.331188</td>\n",
       "      <td>4.253816</td>\n",
       "      <td>3.542035</td>\n",
       "      <td>3.377797</td>\n",
       "      <td>54.000000</td>\n",
       "      <td>5.000000</td>\n",
       "      <td>0.0</td>\n",
       "      <td>11.000000</td>\n",
       "      <td>6.184292</td>\n",
       "      <td>33.915800</td>\n",
       "      <td>51.066015</td>\n",
       "      <td>21.050360</td>\n",
       "      <td>6.920000</td>\n",
       "      <td>5.990000</td>\n",
       "      <td>7.350000</td>\n",
       "      <td>8.850000</td>\n",
       "      <td>30.850000</td>\n",
       "      <td>23.857140</td>\n",
       "      <td>23.750000</td>\n",
       "      <td>3.073087</td>\n",
       "      <td>2.018651</td>\n",
       "      <td>0.125581</td>\n",
       "      <td>1.200623</td>\n",
       "      <td>3.901361</td>\n",
       "      <td>2.782634</td>\n",
       "      <td>0.163286</td>\n",
       "      <td>1.474890</td>\n",
       "      <td>3.629389</td>\n",
       "      <td>13.549460</td>\n",
       "      <td>26.316790</td>\n",
       "      <td>14.829070</td>\n",
       "      <td>14.560023</td>\n",
       "      <td>18.050000</td>\n",
       "      <td>33.550000</td>\n",
       "      <td>39.960000</td>\n",
       "      <td>34.62000</td>\n",
       "      <td>-9.680000</td>\n",
       "      <td>-3.020000</td>\n",
       "      <td>9.090000</td>\n",
       "      <td>-5.770000</td>\n",
       "      <td>0.552120</td>\n",
       "      <td>5.637814</td>\n",
       "      <td>3.774797</td>\n",
       "      <td>2.144809</td>\n",
       "      <td>0.135371</td>\n",
       "      <td>0.106906</td>\n",
       "      <td>0.071432</td>\n",
       "      <td>0.096556</td>\n",
       "      <td>0.131976</td>\n",
       "      <td>0.107816</td>\n",
       "      <td>0.071089</td>\n",
       "      <td>0.094636</td>\n",
       "      <td>90.000000</td>\n",
       "      <td>70.000000</td>\n",
       "      <td>16.000000</td>\n",
       "      <td>65.000000</td>\n",
       "      <td>90.000000</td>\n",
       "      <td>71.000000</td>\n",
       "      <td>16.000000</td>\n",
       "      <td>65.000000</td>\n",
       "    </tr>\n",
       "    <tr>\n",
       "      <th>75%</th>\n",
       "      <td>-109.990900</td>\n",
       "      <td>37.621560</td>\n",
       "      <td>2089.250000</td>\n",
       "      <td>18.000000</td>\n",
       "      <td>0.000000</td>\n",
       "      <td>67.000000</td>\n",
       "      <td>11.000000</td>\n",
       "      <td>16.000000</td>\n",
       "      <td>20.000000</td>\n",
       "      <td>1911.437000</td>\n",
       "      <td>76.029850</td>\n",
       "      <td>12.345460</td>\n",
       "      <td>2.670737</td>\n",
       "      <td>102.663300</td>\n",
       "      <td>1675.031000</td>\n",
       "      <td>2693.216000</td>\n",
       "      <td>7829.363000</td>\n",
       "      <td>0.281739</td>\n",
       "      <td>0.000000</td>\n",
       "      <td>0.000000</td>\n",
       "      <td>23.000000</td>\n",
       "      <td>0.000000</td>\n",
       "      <td>0.000000</td>\n",
       "      <td>0.000000</td>\n",
       "      <td>0.000000</td>\n",
       "      <td>0.000000</td>\n",
       "      <td>2.907394</td>\n",
       "      <td>5.201563</td>\n",
       "      <td>4.549916</td>\n",
       "      <td>4.237310</td>\n",
       "      <td>67.000000</td>\n",
       "      <td>12.000000</td>\n",
       "      <td>0.0</td>\n",
       "      <td>16.000000</td>\n",
       "      <td>7.653019</td>\n",
       "      <td>35.370360</td>\n",
       "      <td>52.369415</td>\n",
       "      <td>23.007150</td>\n",
       "      <td>9.750000</td>\n",
       "      <td>8.280000</td>\n",
       "      <td>11.250000</td>\n",
       "      <td>12.210000</td>\n",
       "      <td>37.840000</td>\n",
       "      <td>33.666670</td>\n",
       "      <td>33.500000</td>\n",
       "      <td>4.513685</td>\n",
       "      <td>3.352054</td>\n",
       "      <td>0.344414</td>\n",
       "      <td>2.271981</td>\n",
       "      <td>6.537519</td>\n",
       "      <td>5.649048</td>\n",
       "      <td>0.490318</td>\n",
       "      <td>3.004652</td>\n",
       "      <td>5.084111</td>\n",
       "      <td>15.057070</td>\n",
       "      <td>27.756250</td>\n",
       "      <td>16.202690</td>\n",
       "      <td>15.833287</td>\n",
       "      <td>20.240000</td>\n",
       "      <td>35.930000</td>\n",
       "      <td>41.610000</td>\n",
       "      <td>36.35000</td>\n",
       "      <td>-7.250000</td>\n",
       "      <td>-1.040000</td>\n",
       "      <td>11.440000</td>\n",
       "      <td>-3.930000</td>\n",
       "      <td>0.887248</td>\n",
       "      <td>7.612501</td>\n",
       "      <td>6.218059</td>\n",
       "      <td>3.153349</td>\n",
       "      <td>0.166728</td>\n",
       "      <td>0.145330</td>\n",
       "      <td>0.086330</td>\n",
       "      <td>0.121248</td>\n",
       "      <td>0.160440</td>\n",
       "      <td>0.145907</td>\n",
       "      <td>0.086855</td>\n",
       "      <td>0.117108</td>\n",
       "      <td>90.000000</td>\n",
       "      <td>86.000000</td>\n",
       "      <td>27.000000</td>\n",
       "      <td>81.000000</td>\n",
       "      <td>90.000000</td>\n",
       "      <td>88.000000</td>\n",
       "      <td>28.000000</td>\n",
       "      <td>81.000000</td>\n",
       "    </tr>\n",
       "    <tr>\n",
       "      <th>max</th>\n",
       "      <td>-109.965900</td>\n",
       "      <td>37.634760</td>\n",
       "      <td>2099.000000</td>\n",
       "      <td>29.000000</td>\n",
       "      <td>6.000000</td>\n",
       "      <td>94.000000</td>\n",
       "      <td>20.000000</td>\n",
       "      <td>26.000000</td>\n",
       "      <td>46.000000</td>\n",
       "      <td>2004.064000</td>\n",
       "      <td>80.710780</td>\n",
       "      <td>16.347870</td>\n",
       "      <td>6.163254</td>\n",
       "      <td>175.411100</td>\n",
       "      <td>2940.777000</td>\n",
       "      <td>9886.349000</td>\n",
       "      <td>9988.666000</td>\n",
       "      <td>0.836821</td>\n",
       "      <td>89.000000</td>\n",
       "      <td>82.000000</td>\n",
       "      <td>92.000000</td>\n",
       "      <td>91.000000</td>\n",
       "      <td>89.000000</td>\n",
       "      <td>82.000000</td>\n",
       "      <td>92.000000</td>\n",
       "      <td>91.000000</td>\n",
       "      <td>6.381347</td>\n",
       "      <td>10.686780</td>\n",
       "      <td>9.400018</td>\n",
       "      <td>8.357403</td>\n",
       "      <td>89.000000</td>\n",
       "      <td>45.000000</td>\n",
       "      <td>0.0</td>\n",
       "      <td>36.000000</td>\n",
       "      <td>14.282130</td>\n",
       "      <td>43.300360</td>\n",
       "      <td>59.533280</td>\n",
       "      <td>32.502470</td>\n",
       "      <td>33.240000</td>\n",
       "      <td>23.230000</td>\n",
       "      <td>40.370000</td>\n",
       "      <td>39.280000</td>\n",
       "      <td>92.220000</td>\n",
       "      <td>258.000000</td>\n",
       "      <td>258.000000</td>\n",
       "      <td>6.773911</td>\n",
       "      <td>6.038285</td>\n",
       "      <td>4.861824</td>\n",
       "      <td>6.527130</td>\n",
       "      <td>19.322810</td>\n",
       "      <td>18.153230</td>\n",
       "      <td>14.432510</td>\n",
       "      <td>19.007200</td>\n",
       "      <td>10.313780</td>\n",
       "      <td>22.892930</td>\n",
       "      <td>35.191850</td>\n",
       "      <td>23.339400</td>\n",
       "      <td>22.171122</td>\n",
       "      <td>29.540000</td>\n",
       "      <td>50.660000</td>\n",
       "      <td>59.430000</td>\n",
       "      <td>50.78000</td>\n",
       "      <td>-1.680000</td>\n",
       "      <td>6.380000</td>\n",
       "      <td>20.720000</td>\n",
       "      <td>5.490000</td>\n",
       "      <td>2.117038</td>\n",
       "      <td>11.810270</td>\n",
       "      <td>20.930040</td>\n",
       "      <td>6.777850</td>\n",
       "      <td>0.246775</td>\n",
       "      <td>0.231782</td>\n",
       "      <td>0.197455</td>\n",
       "      <td>0.241773</td>\n",
       "      <td>0.243185</td>\n",
       "      <td>0.230919</td>\n",
       "      <td>0.193166</td>\n",
       "      <td>0.239675</td>\n",
       "      <td>91.000000</td>\n",
       "      <td>92.000000</td>\n",
       "      <td>92.000000</td>\n",
       "      <td>91.000000</td>\n",
       "      <td>91.000000</td>\n",
       "      <td>92.000000</td>\n",
       "      <td>92.000000</td>\n",
       "      <td>91.000000</td>\n",
       "    </tr>\n",
       "  </tbody>\n",
       "</table>\n",
       "</div>"
      ],
      "text/plain": [
       "                long            lat           year     treecanopy  \\\n",
       "count  180800.000000  180800.000000  180800.000000  180800.000000   \n",
       "mean     -110.006370      37.608165    2079.500000       9.681416   \n",
       "std         0.022623       0.016189      11.543428       8.766680   \n",
       "min      -110.047200      37.570340    2060.000000       0.000000   \n",
       "25%      -110.027300      37.598060    2069.750000       0.000000   \n",
       "50%      -110.005700      37.608620    2079.500000       9.000000   \n",
       "75%      -109.990900      37.621560    2089.250000      18.000000   \n",
       "max      -109.965900      37.634760    2099.000000      29.000000   \n",
       "\n",
       "            Ann_Herb           Bare           Herb         Litter  \\\n",
       "count  180800.000000  180800.000000  180800.000000  180800.000000   \n",
       "mean        0.230088      56.628319       9.513274      11.725664   \n",
       "std         1.072663      18.428672       3.894902       6.082412   \n",
       "min         0.000000      11.000000       1.000000       1.000000   \n",
       "25%         0.000000      45.000000       8.000000       8.000000   \n",
       "50%         0.000000      56.000000      10.000000      10.000000   \n",
       "75%         0.000000      67.000000      11.000000      16.000000   \n",
       "max         6.000000      94.000000      20.000000      26.000000   \n",
       "\n",
       "               Shrub             El             Sa             Cl  \\\n",
       "count  180800.000000  180800.000000  180800.000000  180800.000000   \n",
       "mean       15.353982    1869.543372      68.923141      10.045003   \n",
       "std         8.545498      57.236850       7.254022       2.592875   \n",
       "min         0.000000    1740.206000      54.702610       4.842324   \n",
       "25%        10.000000    1830.649000      62.963340       8.014318   \n",
       "50%        14.000000    1863.628000      68.272420      10.137930   \n",
       "75%        20.000000    1911.437000      76.029850      12.345460   \n",
       "max        46.000000    2004.064000      80.710780      16.347870   \n",
       "\n",
       "                  RF             RL          Slope              E  \\\n",
       "count  180800.000000  180800.000000  180800.000000  180800.000000   \n",
       "mean        2.540820      80.205135    1102.243454   -2148.201356   \n",
       "std         1.035573      38.595835     790.900321    6188.284904   \n",
       "min         0.526710      25.410720     137.625500   -9981.017000   \n",
       "25%         1.918516      49.915230     380.872700   -8112.145000   \n",
       "50%         2.302660      72.295410     873.719400   -3258.032000   \n",
       "75%         2.670737     102.663300    1675.031000    2693.216000   \n",
       "max         6.163254     175.411100    2940.777000    9886.349000   \n",
       "\n",
       "                   S       T_P_Corr  DrySoilDays_Winter_top50  \\\n",
       "count  180800.000000  180800.000000             180800.000000   \n",
       "mean      865.203628       0.030325                  0.230293   \n",
       "std      7258.589966       0.320015                  2.940485   \n",
       "min     -9973.848000      -0.797084                  0.000000   \n",
       "25%     -6447.018000      -0.204843                  0.000000   \n",
       "50%      1938.931000       0.052096                  0.000000   \n",
       "75%      7829.363000       0.281739                  0.000000   \n",
       "max      9988.666000       0.836821                 89.000000   \n",
       "\n",
       "       DrySoilDays_Spring_top50  DrySoilDays_Summer_top50  \\\n",
       "count             180800.000000             180800.000000   \n",
       "mean                   2.344215                 14.538678   \n",
       "std                    7.816524                 25.538189   \n",
       "min                    0.000000                  0.000000   \n",
       "25%                    0.000000                  0.000000   \n",
       "50%                    0.000000                  0.000000   \n",
       "75%                    0.000000                 23.000000   \n",
       "max                   82.000000                 92.000000   \n",
       "\n",
       "       DrySoilDays_Fall_top50  DrySoilDays_Winter_whole  \\\n",
       "count           180800.000000             180800.000000   \n",
       "mean                 4.440343                  0.096150   \n",
       "std                 12.346700                  1.855514   \n",
       "min                  0.000000                  0.000000   \n",
       "25%                  0.000000                  0.000000   \n",
       "50%                  0.000000                  0.000000   \n",
       "75%                  0.000000                  0.000000   \n",
       "max                 91.000000                 89.000000   \n",
       "\n",
       "       DrySoilDays_Spring_whole  DrySoilDays_Summer_whole  \\\n",
       "count             180800.000000             180800.000000   \n",
       "mean                   1.626355                  6.674021   \n",
       "std                    6.864611                 19.587564   \n",
       "min                    0.000000                  0.000000   \n",
       "25%                    0.000000                  0.000000   \n",
       "50%                    0.000000                  0.000000   \n",
       "75%                    0.000000                  0.000000   \n",
       "max                   82.000000                 92.000000   \n",
       "\n",
       "       DrySoilDays_Fall_whole    Evap_Winter    Evap_Spring    Evap_Summer  \\\n",
       "count           180800.000000  180800.000000  180800.000000  180800.000000   \n",
       "mean                 2.060343       2.257854       4.266554       3.598377   \n",
       "std                  8.690911       0.901389       1.341780       1.384849   \n",
       "min                  0.000000       0.233727       0.087904       0.147033   \n",
       "25%                  0.000000       1.553318       3.321445       2.577430   \n",
       "50%                  0.000000       2.331188       4.253816       3.542035   \n",
       "75%                  0.000000       2.907394       5.201563       4.549916   \n",
       "max                 91.000000       6.381347      10.686780       9.400018   \n",
       "\n",
       "           Evap_Fall  FrostDays_Winter  FrostDays_Spring  FrostDays_Summer  \\\n",
       "count  180800.000000     180800.000000     180800.000000          180800.0   \n",
       "mean        3.402004         51.785404          7.182998               0.0   \n",
       "std         1.190177         18.922502          7.493756               0.0   \n",
       "min         0.153714          2.000000          0.000000               0.0   \n",
       "25%         2.556875         38.000000          1.000000               0.0   \n",
       "50%         3.377797         54.000000          5.000000               0.0   \n",
       "75%         4.237310         67.000000         12.000000               0.0   \n",
       "max         8.357403         89.000000         45.000000               0.0   \n",
       "\n",
       "       FrostDays_Fall     PET_Winter     PET_Spring     PET_Summer  \\\n",
       "count   180800.000000  180800.000000  180800.000000  180800.000000   \n",
       "mean        11.569220       5.848140      33.230281      50.718745   \n",
       "std          6.410901       2.665237       3.262389       2.614269   \n",
       "min          0.000000       0.904984      20.808200      39.744360   \n",
       "25%          7.000000       3.900032      31.964417      49.516155   \n",
       "50%         11.000000       6.184292      33.915800      51.066015   \n",
       "75%         16.000000       7.653019      35.370360      52.369415   \n",
       "max         36.000000      14.282130      43.300360      59.533280   \n",
       "\n",
       "            PET_Fall     PPT_Winter     PPT_Spring     PPT_Summer  \\\n",
       "count  180800.000000  180800.000000  180800.000000  180800.000000   \n",
       "mean       19.920830       7.505116       6.374562       8.407846   \n",
       "std         4.696285       4.098794       3.175206       5.121409   \n",
       "min         6.394923       0.170000       0.000000       0.110000   \n",
       "25%        17.906420       4.460000       4.020000       4.670000   \n",
       "50%        21.050360       6.920000       5.990000       7.350000   \n",
       "75%        23.007150       9.750000       8.280000      11.250000   \n",
       "max        32.502470      33.240000      23.230000      40.370000   \n",
       "\n",
       "            PPT_Fall     PPT_Annual  SemiDryDuration_Annual_top50  \\\n",
       "count  180800.000000  180800.000000                 180800.000000   \n",
       "mean        9.630725      31.918249                     28.475382   \n",
       "std         5.122457       9.799451                     18.295497   \n",
       "min         0.230000       4.840000                      0.000000   \n",
       "25%         6.000000      24.800000                     17.571430   \n",
       "50%         8.850000      30.850000                     23.857140   \n",
       "75%        12.210000      37.840000                     33.666670   \n",
       "max        39.280000      92.220000                    258.000000   \n",
       "\n",
       "       SemiDryDuration_Annual_whole  SWA_Winter_top50  SWA_Spring_top50  \\\n",
       "count                 180800.000000     180800.000000     180800.000000   \n",
       "mean                      28.324522          3.173780          2.185654   \n",
       "std                       18.307030          1.616535          1.451825   \n",
       "min                        0.000000          0.000000          0.000000   \n",
       "25%                       17.444440          1.878999          0.900830   \n",
       "50%                       23.750000          3.073087          2.018651   \n",
       "75%                       33.500000          4.513685          3.352054   \n",
       "max                      258.000000          6.773911          6.038285   \n",
       "\n",
       "       SWA_Summer_top50  SWA_Fall_top50  SWA_Winter_whole  SWA_Spring_whole  \\\n",
       "count     180800.000000   180800.000000     180800.000000     180800.000000   \n",
       "mean           0.271750        1.570615          4.616434          3.729414   \n",
       "std            0.399192        1.308426          3.159429          3.294014   \n",
       "min            0.000000        0.000000          0.000000          0.000000   \n",
       "25%            0.028260        0.543143          2.190621          1.050402   \n",
       "50%            0.125581        1.200623          3.901361          2.782634   \n",
       "75%            0.344414        2.271981          6.537519          5.649048   \n",
       "max            4.861824        6.527130         19.322810         18.153230   \n",
       "\n",
       "       SWA_Summer_whole  SWA_Fall_whole       T_Winter       T_Spring  \\\n",
       "count     180800.000000   180800.000000  180800.000000  180800.000000   \n",
       "mean           0.425459        2.196997       3.708171      13.731297   \n",
       "std            0.728282        2.227232       2.002642       2.087118   \n",
       "min            0.000000        0.000000      -2.746444       7.026087   \n",
       "25%            0.034451        0.626309       2.276111      12.261520   \n",
       "50%            0.163286        1.474890       3.629389      13.549460   \n",
       "75%            0.490318        3.004652       5.084111      15.057070   \n",
       "max           14.432510       19.007200      10.313780      22.892930   \n",
       "\n",
       "            T_Summer         T_Fall       T_Annual    Tmax_Winter  \\\n",
       "count  180800.000000  180800.000000  180800.000000  180800.000000   \n",
       "mean       26.526969      15.015500      14.745484      18.261424   \n",
       "std         2.026093       1.961300       1.753026       3.137570   \n",
       "min        20.108320       8.646593       9.991444       7.400000   \n",
       "25%        25.151410      13.640097      13.507076      16.050000   \n",
       "50%        26.316790      14.829070      14.560023      18.050000   \n",
       "75%        27.756250      16.202690      15.833287      20.240000   \n",
       "max        35.191850      23.339400      22.171122      29.540000   \n",
       "\n",
       "         Tmax_Spring    Tmax_Summer     Tmax_Fall    Tmin_Winter  \\\n",
       "count  180800.000000  180800.000000  180800.00000  180800.000000   \n",
       "mean       33.785133      40.348466      34.84503     -10.159530   \n",
       "std         3.365981       3.065804       2.83281       3.920918   \n",
       "min        22.880000      31.410000      24.55000     -26.920000   \n",
       "25%        31.480000      38.510000      33.01000     -12.570000   \n",
       "50%        33.550000      39.960000      34.62000      -9.680000   \n",
       "75%        35.930000      41.610000      36.35000      -7.250000   \n",
       "max        50.660000      59.430000      50.78000      -1.680000   \n",
       "\n",
       "         Tmin_Spring    Tmin_Summer      Tmin_Fall  Transp_Winter  \\\n",
       "count  180800.000000  180800.000000  180800.000000  180800.000000   \n",
       "mean       -2.801483       9.133776      -5.880545       0.587281   \n",
       "std         2.966339       3.312943       2.715233       0.375645   \n",
       "min       -15.610000      -0.230000     -18.620000       0.000000   \n",
       "25%        -4.740000       6.840000      -7.600000       0.272008   \n",
       "50%        -3.020000       9.090000      -5.770000       0.552120   \n",
       "75%        -1.040000      11.440000      -3.930000       0.887248   \n",
       "max         6.380000      20.720000       5.490000       2.117038   \n",
       "\n",
       "       Transp_Spring  Transp_Summer    Transp_Fall  VWC_Winter_top50  \\\n",
       "count  180800.000000  180800.000000  180800.000000     180800.000000   \n",
       "mean        5.532466       4.426012       2.255521          0.137683   \n",
       "std         2.479875       3.194167       1.262044          0.040381   \n",
       "min         0.000014       0.000000       0.000000          0.035135   \n",
       "25%         3.483520       1.985393       1.268405          0.109260   \n",
       "50%         5.637814       3.774797       2.144809          0.135371   \n",
       "75%         7.612501       6.218059       3.153349          0.166728   \n",
       "max        11.810270      20.930040       6.777850          0.246775   \n",
       "\n",
       "       VWC_Spring_top50  VWC_Summer_top50  VWC_Fall_top50  VWC_Winter_whole  \\\n",
       "count     180800.000000     180800.000000   180800.000000     180800.000000   \n",
       "mean           0.113616          0.071738        0.101571          0.133878   \n",
       "std            0.041048          0.020802        0.035031          0.039559   \n",
       "min            0.035721          0.032873        0.033547          0.030772   \n",
       "25%            0.080058          0.054054        0.076105          0.106152   \n",
       "50%            0.106906          0.071432        0.096556          0.131976   \n",
       "75%            0.145330          0.086330        0.121248          0.160440   \n",
       "max            0.231782          0.197455        0.241773          0.243185   \n",
       "\n",
       "       VWC_Spring_whole  VWC_Summer_whole  VWC_Fall_whole  \\\n",
       "count     180800.000000     180800.000000   180800.000000   \n",
       "mean           0.114569          0.071454        0.098660   \n",
       "std            0.042269          0.021061        0.033419   \n",
       "min            0.031274          0.029641        0.029978   \n",
       "25%            0.080032          0.053706        0.074656   \n",
       "50%            0.107816          0.071089        0.094636   \n",
       "75%            0.145907          0.086855        0.117108   \n",
       "max            0.230919          0.193166        0.239675   \n",
       "\n",
       "       WetSoilDays_Winter_top50  WetSoilDays_Spring_top50  \\\n",
       "count             180800.000000             180800.000000   \n",
       "mean                  85.272671                 67.177030   \n",
       "std                   13.633649                 21.614842   \n",
       "min                    0.000000                  0.000000   \n",
       "25%                   90.000000                 54.000000   \n",
       "50%                   90.000000                 70.000000   \n",
       "75%                   90.000000                 86.000000   \n",
       "max                   91.000000                 92.000000   \n",
       "\n",
       "       WetSoilDays_Summer_top50  WetSoilDays_Fall_top50  \\\n",
       "count             180800.000000           180800.000000   \n",
       "mean                  18.890000               60.763180   \n",
       "std                   14.914196               23.958033   \n",
       "min                    0.000000                0.000000   \n",
       "25%                    7.000000               44.000000   \n",
       "50%                   16.000000               65.000000   \n",
       "75%                   27.000000               81.000000   \n",
       "max                   92.000000               91.000000   \n",
       "\n",
       "       WetSoilDays_Winter_whole  WetSoilDays_Spring_whole  \\\n",
       "count             180800.000000             180800.000000   \n",
       "mean                  85.292168                 67.800553   \n",
       "std                   13.610947                 21.828780   \n",
       "min                    0.000000                  0.000000   \n",
       "25%                   90.000000                 54.000000   \n",
       "50%                   90.000000                 71.000000   \n",
       "75%                   90.000000                 88.000000   \n",
       "max                   91.000000                 92.000000   \n",
       "\n",
       "       WetSoilDays_Summer_whole  WetSoilDays_Fall_whole  \n",
       "count             180800.000000           180800.000000  \n",
       "mean                  19.716499               60.896433  \n",
       "std                   15.850215               23.985564  \n",
       "min                    0.000000                0.000000  \n",
       "25%                    8.000000               44.000000  \n",
       "50%                   16.000000               65.000000  \n",
       "75%                   28.000000               81.000000  \n",
       "max                   92.000000               91.000000  "
      ]
     },
     "execution_count": 47,
     "metadata": {},
     "output_type": "execute_result"
    }
   ],
   "source": [
    "#LT  decription\n",
    "plot_df = df[df['TimePeriod'] == 'LT']\n",
    "plot_df.describe()"
   ]
  },
  {
   "cell_type": "code",
   "execution_count": 48,
   "metadata": {},
   "outputs": [
    {
     "data": {
      "text/html": [
       "<div>\n",
       "<style scoped>\n",
       "    .dataframe tbody tr th:only-of-type {\n",
       "        vertical-align: middle;\n",
       "    }\n",
       "\n",
       "    .dataframe tbody tr th {\n",
       "        vertical-align: top;\n",
       "    }\n",
       "\n",
       "    .dataframe thead th {\n",
       "        text-align: right;\n",
       "    }\n",
       "</style>\n",
       "<table border=\"1\" class=\"dataframe\">\n",
       "  <thead>\n",
       "    <tr style=\"text-align: right;\">\n",
       "      <th></th>\n",
       "      <th>Park</th>\n",
       "      <th>long</th>\n",
       "      <th>lat</th>\n",
       "      <th>veg</th>\n",
       "      <th>year</th>\n",
       "      <th>TimePeriod</th>\n",
       "      <th>RCP</th>\n",
       "      <th>scenario</th>\n",
       "      <th>treecanopy</th>\n",
       "      <th>Ann_Herb</th>\n",
       "      <th>Bare</th>\n",
       "      <th>Herb</th>\n",
       "      <th>Litter</th>\n",
       "      <th>Shrub</th>\n",
       "      <th>El</th>\n",
       "      <th>Sa</th>\n",
       "      <th>Cl</th>\n",
       "      <th>RF</th>\n",
       "      <th>RL</th>\n",
       "      <th>Slope</th>\n",
       "      <th>E</th>\n",
       "      <th>S</th>\n",
       "      <th>T_P_Corr</th>\n",
       "      <th>DrySoilDays_Winter_top50</th>\n",
       "      <th>DrySoilDays_Spring_top50</th>\n",
       "      <th>DrySoilDays_Summer_top50</th>\n",
       "      <th>DrySoilDays_Fall_top50</th>\n",
       "      <th>DrySoilDays_Winter_whole</th>\n",
       "      <th>DrySoilDays_Spring_whole</th>\n",
       "      <th>DrySoilDays_Summer_whole</th>\n",
       "      <th>DrySoilDays_Fall_whole</th>\n",
       "      <th>Evap_Winter</th>\n",
       "      <th>Evap_Spring</th>\n",
       "      <th>Evap_Summer</th>\n",
       "      <th>Evap_Fall</th>\n",
       "      <th>FrostDays_Winter</th>\n",
       "      <th>FrostDays_Spring</th>\n",
       "      <th>FrostDays_Summer</th>\n",
       "      <th>FrostDays_Fall</th>\n",
       "      <th>PET_Winter</th>\n",
       "      <th>PET_Spring</th>\n",
       "      <th>PET_Summer</th>\n",
       "      <th>PET_Fall</th>\n",
       "      <th>PPT_Winter</th>\n",
       "      <th>PPT_Spring</th>\n",
       "      <th>PPT_Summer</th>\n",
       "      <th>PPT_Fall</th>\n",
       "      <th>PPT_Annual</th>\n",
       "      <th>SemiDryDuration_Annual_top50</th>\n",
       "      <th>SemiDryDuration_Annual_whole</th>\n",
       "      <th>SWA_Winter_top50</th>\n",
       "      <th>SWA_Spring_top50</th>\n",
       "      <th>SWA_Summer_top50</th>\n",
       "      <th>SWA_Fall_top50</th>\n",
       "      <th>SWA_Winter_whole</th>\n",
       "      <th>SWA_Spring_whole</th>\n",
       "      <th>SWA_Summer_whole</th>\n",
       "      <th>SWA_Fall_whole</th>\n",
       "      <th>T_Winter</th>\n",
       "      <th>T_Spring</th>\n",
       "      <th>T_Summer</th>\n",
       "      <th>T_Fall</th>\n",
       "      <th>T_Annual</th>\n",
       "      <th>Tmax_Winter</th>\n",
       "      <th>Tmax_Spring</th>\n",
       "      <th>Tmax_Summer</th>\n",
       "      <th>Tmax_Fall</th>\n",
       "      <th>Tmin_Winter</th>\n",
       "      <th>Tmin_Spring</th>\n",
       "      <th>Tmin_Summer</th>\n",
       "      <th>Tmin_Fall</th>\n",
       "      <th>Transp_Winter</th>\n",
       "      <th>Transp_Spring</th>\n",
       "      <th>Transp_Summer</th>\n",
       "      <th>Transp_Fall</th>\n",
       "      <th>VWC_Winter_top50</th>\n",
       "      <th>VWC_Spring_top50</th>\n",
       "      <th>VWC_Summer_top50</th>\n",
       "      <th>VWC_Fall_top50</th>\n",
       "      <th>VWC_Winter_whole</th>\n",
       "      <th>VWC_Spring_whole</th>\n",
       "      <th>VWC_Summer_whole</th>\n",
       "      <th>VWC_Fall_whole</th>\n",
       "      <th>WetSoilDays_Winter_top50</th>\n",
       "      <th>WetSoilDays_Spring_top50</th>\n",
       "      <th>WetSoilDays_Summer_top50</th>\n",
       "      <th>WetSoilDays_Fall_top50</th>\n",
       "      <th>WetSoilDays_Winter_whole</th>\n",
       "      <th>WetSoilDays_Spring_whole</th>\n",
       "      <th>WetSoilDays_Summer_whole</th>\n",
       "      <th>WetSoilDays_Fall_whole</th>\n",
       "    </tr>\n",
       "  </thead>\n",
       "  <tbody>\n",
       "    <tr>\n",
       "      <th>0</th>\n",
       "      <td>NABR</td>\n",
       "      <td>-110.0472</td>\n",
       "      <td>37.60413</td>\n",
       "      <td>Shrubland</td>\n",
       "      <td>1980</td>\n",
       "      <td>Hist</td>\n",
       "      <td>historical</td>\n",
       "      <td>sc1</td>\n",
       "      <td>0</td>\n",
       "      <td>0</td>\n",
       "      <td>84</td>\n",
       "      <td>5</td>\n",
       "      <td>11</td>\n",
       "      <td>7</td>\n",
       "      <td>1764.955</td>\n",
       "      <td>77.03307</td>\n",
       "      <td>6.082058</td>\n",
       "      <td>2.285707</td>\n",
       "      <td>54.57202</td>\n",
       "      <td>1949.283</td>\n",
       "      <td>-8753.784</td>\n",
       "      <td>4834.13</td>\n",
       "      <td>-0.663676</td>\n",
       "      <td>0.0</td>\n",
       "      <td>0.0</td>\n",
       "      <td>0.0</td>\n",
       "      <td>0.0</td>\n",
       "      <td>0.0</td>\n",
       "      <td>0.0</td>\n",
       "      <td>0.0</td>\n",
       "      <td>0.0</td>\n",
       "      <td>3.714066</td>\n",
       "      <td>6.399531</td>\n",
       "      <td>1.559807</td>\n",
       "      <td>3.363278</td>\n",
       "      <td>75.0</td>\n",
       "      <td>34.0</td>\n",
       "      <td>0.0</td>\n",
       "      <td>26.0</td>\n",
       "      <td>7.781163</td>\n",
       "      <td>31.139453</td>\n",
       "      <td>48.017748</td>\n",
       "      <td>21.915683</td>\n",
       "      <td>13.79</td>\n",
       "      <td>8.71</td>\n",
       "      <td>2.69</td>\n",
       "      <td>6.37</td>\n",
       "      <td>31.56</td>\n",
       "      <td>36.500000</td>\n",
       "      <td>36.500000</td>\n",
       "      <td>3.466881</td>\n",
       "      <td>2.654663</td>\n",
       "      <td>0.032114</td>\n",
       "      <td>0.488087</td>\n",
       "      <td>3.466881</td>\n",
       "      <td>2.654663</td>\n",
       "      <td>0.032114</td>\n",
       "      <td>0.488087</td>\n",
       "      <td>0.964835</td>\n",
       "      <td>8.767935</td>\n",
       "      <td>23.15924</td>\n",
       "      <td>11.962090</td>\n",
       "      <td>11.213525</td>\n",
       "      <td>14.15</td>\n",
       "      <td>28.75</td>\n",
       "      <td>37.05</td>\n",
       "      <td>31.15</td>\n",
       "      <td>-12.45</td>\n",
       "      <td>-7.35</td>\n",
       "      <td>5.55</td>\n",
       "      <td>-10.25</td>\n",
       "      <td>0.237081</td>\n",
       "      <td>5.296833</td>\n",
       "      <td>1.067496</td>\n",
       "      <td>1.966786</td>\n",
       "      <td>0.113447</td>\n",
       "      <td>0.096831</td>\n",
       "      <td>0.041876</td>\n",
       "      <td>0.052298</td>\n",
       "      <td>0.113447</td>\n",
       "      <td>0.096831</td>\n",
       "      <td>0.041876</td>\n",
       "      <td>0.052298</td>\n",
       "      <td>91.0</td>\n",
       "      <td>77.0</td>\n",
       "      <td>5.0</td>\n",
       "      <td>47.0</td>\n",
       "      <td>91.0</td>\n",
       "      <td>77.0</td>\n",
       "      <td>5.0</td>\n",
       "      <td>47.0</td>\n",
       "    </tr>\n",
       "    <tr>\n",
       "      <th>1</th>\n",
       "      <td>NABR</td>\n",
       "      <td>-110.0472</td>\n",
       "      <td>37.60413</td>\n",
       "      <td>Shrubland</td>\n",
       "      <td>1981</td>\n",
       "      <td>Hist</td>\n",
       "      <td>historical</td>\n",
       "      <td>sc1</td>\n",
       "      <td>0</td>\n",
       "      <td>0</td>\n",
       "      <td>84</td>\n",
       "      <td>5</td>\n",
       "      <td>11</td>\n",
       "      <td>7</td>\n",
       "      <td>1764.955</td>\n",
       "      <td>77.03307</td>\n",
       "      <td>6.082058</td>\n",
       "      <td>2.285707</td>\n",
       "      <td>54.57202</td>\n",
       "      <td>1949.283</td>\n",
       "      <td>-8753.784</td>\n",
       "      <td>4834.13</td>\n",
       "      <td>0.347801</td>\n",
       "      <td>0.0</td>\n",
       "      <td>0.0</td>\n",
       "      <td>0.0</td>\n",
       "      <td>0.0</td>\n",
       "      <td>0.0</td>\n",
       "      <td>0.0</td>\n",
       "      <td>0.0</td>\n",
       "      <td>0.0</td>\n",
       "      <td>2.181520</td>\n",
       "      <td>5.972338</td>\n",
       "      <td>5.042878</td>\n",
       "      <td>4.637403</td>\n",
       "      <td>79.0</td>\n",
       "      <td>26.0</td>\n",
       "      <td>0.0</td>\n",
       "      <td>13.0</td>\n",
       "      <td>8.122905</td>\n",
       "      <td>32.388256</td>\n",
       "      <td>48.177243</td>\n",
       "      <td>21.757574</td>\n",
       "      <td>2.25</td>\n",
       "      <td>9.81</td>\n",
       "      <td>9.39</td>\n",
       "      <td>11.75</td>\n",
       "      <td>33.20</td>\n",
       "      <td>13.250000</td>\n",
       "      <td>13.250000</td>\n",
       "      <td>0.346192</td>\n",
       "      <td>0.898275</td>\n",
       "      <td>0.033663</td>\n",
       "      <td>2.501336</td>\n",
       "      <td>0.346192</td>\n",
       "      <td>0.898275</td>\n",
       "      <td>0.033663</td>\n",
       "      <td>2.501336</td>\n",
       "      <td>3.334444</td>\n",
       "      <td>10.548370</td>\n",
       "      <td>23.27065</td>\n",
       "      <td>11.581320</td>\n",
       "      <td>12.183696</td>\n",
       "      <td>17.05</td>\n",
       "      <td>28.15</td>\n",
       "      <td>37.55</td>\n",
       "      <td>29.75</td>\n",
       "      <td>-9.35</td>\n",
       "      <td>-5.55</td>\n",
       "      <td>1.25</td>\n",
       "      <td>-7.25</td>\n",
       "      <td>0.293075</td>\n",
       "      <td>3.506108</td>\n",
       "      <td>3.916328</td>\n",
       "      <td>2.787547</td>\n",
       "      <td>0.049382</td>\n",
       "      <td>0.060727</td>\n",
       "      <td>0.042639</td>\n",
       "      <td>0.093671</td>\n",
       "      <td>0.049382</td>\n",
       "      <td>0.060727</td>\n",
       "      <td>0.042639</td>\n",
       "      <td>0.093671</td>\n",
       "      <td>48.0</td>\n",
       "      <td>60.0</td>\n",
       "      <td>13.0</td>\n",
       "      <td>85.0</td>\n",
       "      <td>48.0</td>\n",
       "      <td>60.0</td>\n",
       "      <td>13.0</td>\n",
       "      <td>85.0</td>\n",
       "    </tr>\n",
       "    <tr>\n",
       "      <th>2</th>\n",
       "      <td>NABR</td>\n",
       "      <td>-110.0472</td>\n",
       "      <td>37.60413</td>\n",
       "      <td>Shrubland</td>\n",
       "      <td>1982</td>\n",
       "      <td>Hist</td>\n",
       "      <td>historical</td>\n",
       "      <td>sc1</td>\n",
       "      <td>0</td>\n",
       "      <td>0</td>\n",
       "      <td>84</td>\n",
       "      <td>5</td>\n",
       "      <td>11</td>\n",
       "      <td>7</td>\n",
       "      <td>1764.955</td>\n",
       "      <td>77.03307</td>\n",
       "      <td>6.082058</td>\n",
       "      <td>2.285707</td>\n",
       "      <td>54.57202</td>\n",
       "      <td>1949.283</td>\n",
       "      <td>-8753.784</td>\n",
       "      <td>4834.13</td>\n",
       "      <td>0.326030</td>\n",
       "      <td>0.0</td>\n",
       "      <td>0.0</td>\n",
       "      <td>0.0</td>\n",
       "      <td>0.0</td>\n",
       "      <td>0.0</td>\n",
       "      <td>0.0</td>\n",
       "      <td>0.0</td>\n",
       "      <td>0.0</td>\n",
       "      <td>3.258995</td>\n",
       "      <td>4.717327</td>\n",
       "      <td>4.527636</td>\n",
       "      <td>4.247772</td>\n",
       "      <td>83.0</td>\n",
       "      <td>21.0</td>\n",
       "      <td>0.0</td>\n",
       "      <td>30.0</td>\n",
       "      <td>7.337953</td>\n",
       "      <td>31.489450</td>\n",
       "      <td>47.180077</td>\n",
       "      <td>21.068423</td>\n",
       "      <td>4.12</td>\n",
       "      <td>5.10</td>\n",
       "      <td>9.50</td>\n",
       "      <td>9.83</td>\n",
       "      <td>28.55</td>\n",
       "      <td>17.285714</td>\n",
       "      <td>17.285714</td>\n",
       "      <td>3.259984</td>\n",
       "      <td>1.599498</td>\n",
       "      <td>0.199382</td>\n",
       "      <td>1.243225</td>\n",
       "      <td>3.259984</td>\n",
       "      <td>1.599498</td>\n",
       "      <td>0.199382</td>\n",
       "      <td>1.243225</td>\n",
       "      <td>-0.015556</td>\n",
       "      <td>9.472283</td>\n",
       "      <td>22.05707</td>\n",
       "      <td>9.869231</td>\n",
       "      <td>10.345757</td>\n",
       "      <td>14.35</td>\n",
       "      <td>28.45</td>\n",
       "      <td>36.65</td>\n",
       "      <td>31.85</td>\n",
       "      <td>-16.55</td>\n",
       "      <td>-7.25</td>\n",
       "      <td>5.65</td>\n",
       "      <td>-6.25</td>\n",
       "      <td>0.245335</td>\n",
       "      <td>3.105047</td>\n",
       "      <td>3.523923</td>\n",
       "      <td>2.890099</td>\n",
       "      <td>0.109234</td>\n",
       "      <td>0.074817</td>\n",
       "      <td>0.045610</td>\n",
       "      <td>0.067789</td>\n",
       "      <td>0.109234</td>\n",
       "      <td>0.074817</td>\n",
       "      <td>0.045610</td>\n",
       "      <td>0.067789</td>\n",
       "      <td>90.0</td>\n",
       "      <td>62.0</td>\n",
       "      <td>19.0</td>\n",
       "      <td>73.0</td>\n",
       "      <td>90.0</td>\n",
       "      <td>62.0</td>\n",
       "      <td>19.0</td>\n",
       "      <td>73.0</td>\n",
       "    </tr>\n",
       "    <tr>\n",
       "      <th>3</th>\n",
       "      <td>NABR</td>\n",
       "      <td>-110.0472</td>\n",
       "      <td>37.60413</td>\n",
       "      <td>Shrubland</td>\n",
       "      <td>1983</td>\n",
       "      <td>Hist</td>\n",
       "      <td>historical</td>\n",
       "      <td>sc1</td>\n",
       "      <td>0</td>\n",
       "      <td>0</td>\n",
       "      <td>84</td>\n",
       "      <td>5</td>\n",
       "      <td>11</td>\n",
       "      <td>7</td>\n",
       "      <td>1764.955</td>\n",
       "      <td>77.03307</td>\n",
       "      <td>6.082058</td>\n",
       "      <td>2.285707</td>\n",
       "      <td>54.57202</td>\n",
       "      <td>1949.283</td>\n",
       "      <td>-8753.784</td>\n",
       "      <td>4834.13</td>\n",
       "      <td>0.038827</td>\n",
       "      <td>0.0</td>\n",
       "      <td>0.0</td>\n",
       "      <td>0.0</td>\n",
       "      <td>0.0</td>\n",
       "      <td>0.0</td>\n",
       "      <td>0.0</td>\n",
       "      <td>0.0</td>\n",
       "      <td>0.0</td>\n",
       "      <td>3.741992</td>\n",
       "      <td>6.267158</td>\n",
       "      <td>5.169576</td>\n",
       "      <td>3.775105</td>\n",
       "      <td>85.0</td>\n",
       "      <td>32.0</td>\n",
       "      <td>0.0</td>\n",
       "      <td>19.0</td>\n",
       "      <td>7.479846</td>\n",
       "      <td>30.312831</td>\n",
       "      <td>46.576237</td>\n",
       "      <td>21.847146</td>\n",
       "      <td>7.09</td>\n",
       "      <td>10.80</td>\n",
       "      <td>10.22</td>\n",
       "      <td>10.40</td>\n",
       "      <td>38.51</td>\n",
       "      <td>16.714286</td>\n",
       "      <td>16.714286</td>\n",
       "      <td>3.806448</td>\n",
       "      <td>2.945659</td>\n",
       "      <td>0.096044</td>\n",
       "      <td>1.583597</td>\n",
       "      <td>3.806448</td>\n",
       "      <td>2.945659</td>\n",
       "      <td>0.096044</td>\n",
       "      <td>1.583597</td>\n",
       "      <td>0.409444</td>\n",
       "      <td>8.020652</td>\n",
       "      <td>21.32826</td>\n",
       "      <td>11.325820</td>\n",
       "      <td>10.271044</td>\n",
       "      <td>13.35</td>\n",
       "      <td>30.65</td>\n",
       "      <td>34.55</td>\n",
       "      <td>33.15</td>\n",
       "      <td>-15.05</td>\n",
       "      <td>-7.25</td>\n",
       "      <td>3.85</td>\n",
       "      <td>-8.95</td>\n",
       "      <td>0.225273</td>\n",
       "      <td>4.962824</td>\n",
       "      <td>5.006576</td>\n",
       "      <td>1.195235</td>\n",
       "      <td>0.120418</td>\n",
       "      <td>0.102542</td>\n",
       "      <td>0.044141</td>\n",
       "      <td>0.074802</td>\n",
       "      <td>0.120418</td>\n",
       "      <td>0.102542</td>\n",
       "      <td>0.044141</td>\n",
       "      <td>0.074802</td>\n",
       "      <td>90.0</td>\n",
       "      <td>74.0</td>\n",
       "      <td>15.0</td>\n",
       "      <td>69.0</td>\n",
       "      <td>90.0</td>\n",
       "      <td>74.0</td>\n",
       "      <td>15.0</td>\n",
       "      <td>69.0</td>\n",
       "    </tr>\n",
       "    <tr>\n",
       "      <th>4</th>\n",
       "      <td>NABR</td>\n",
       "      <td>-110.0472</td>\n",
       "      <td>37.60413</td>\n",
       "      <td>Shrubland</td>\n",
       "      <td>1984</td>\n",
       "      <td>Hist</td>\n",
       "      <td>historical</td>\n",
       "      <td>sc1</td>\n",
       "      <td>0</td>\n",
       "      <td>0</td>\n",
       "      <td>84</td>\n",
       "      <td>5</td>\n",
       "      <td>11</td>\n",
       "      <td>7</td>\n",
       "      <td>1764.955</td>\n",
       "      <td>77.03307</td>\n",
       "      <td>6.082058</td>\n",
       "      <td>2.285707</td>\n",
       "      <td>54.57202</td>\n",
       "      <td>1949.283</td>\n",
       "      <td>-8753.784</td>\n",
       "      <td>4834.13</td>\n",
       "      <td>0.216660</td>\n",
       "      <td>0.0</td>\n",
       "      <td>0.0</td>\n",
       "      <td>0.0</td>\n",
       "      <td>0.0</td>\n",
       "      <td>0.0</td>\n",
       "      <td>0.0</td>\n",
       "      <td>0.0</td>\n",
       "      <td>0.0</td>\n",
       "      <td>3.627269</td>\n",
       "      <td>5.007860</td>\n",
       "      <td>5.230332</td>\n",
       "      <td>4.080337</td>\n",
       "      <td>91.0</td>\n",
       "      <td>35.0</td>\n",
       "      <td>0.0</td>\n",
       "      <td>30.0</td>\n",
       "      <td>7.173010</td>\n",
       "      <td>31.997242</td>\n",
       "      <td>47.038676</td>\n",
       "      <td>21.018398</td>\n",
       "      <td>4.77</td>\n",
       "      <td>4.32</td>\n",
       "      <td>9.49</td>\n",
       "      <td>8.17</td>\n",
       "      <td>26.75</td>\n",
       "      <td>16.500000</td>\n",
       "      <td>16.500000</td>\n",
       "      <td>3.794598</td>\n",
       "      <td>1.755533</td>\n",
       "      <td>0.045278</td>\n",
       "      <td>1.379258</td>\n",
       "      <td>3.794598</td>\n",
       "      <td>1.755533</td>\n",
       "      <td>0.045278</td>\n",
       "      <td>1.379258</td>\n",
       "      <td>-1.047253</td>\n",
       "      <td>9.853804</td>\n",
       "      <td>21.95978</td>\n",
       "      <td>10.034070</td>\n",
       "      <td>10.200100</td>\n",
       "      <td>10.25</td>\n",
       "      <td>32.75</td>\n",
       "      <td>35.35</td>\n",
       "      <td>31.35</td>\n",
       "      <td>-18.45</td>\n",
       "      <td>-8.45</td>\n",
       "      <td>2.95</td>\n",
       "      <td>-12.45</td>\n",
       "      <td>0.122687</td>\n",
       "      <td>3.120243</td>\n",
       "      <td>4.269040</td>\n",
       "      <td>0.927317</td>\n",
       "      <td>0.120209</td>\n",
       "      <td>0.077842</td>\n",
       "      <td>0.043179</td>\n",
       "      <td>0.070366</td>\n",
       "      <td>0.120209</td>\n",
       "      <td>0.077842</td>\n",
       "      <td>0.043179</td>\n",
       "      <td>0.070366</td>\n",
       "      <td>91.0</td>\n",
       "      <td>65.0</td>\n",
       "      <td>16.0</td>\n",
       "      <td>62.0</td>\n",
       "      <td>91.0</td>\n",
       "      <td>65.0</td>\n",
       "      <td>16.0</td>\n",
       "      <td>62.0</td>\n",
       "    </tr>\n",
       "  </tbody>\n",
       "</table>\n",
       "</div>"
      ],
      "text/plain": [
       "   Park      long       lat        veg  year TimePeriod         RCP scenario  \\\n",
       "0  NABR -110.0472  37.60413  Shrubland  1980       Hist  historical      sc1   \n",
       "1  NABR -110.0472  37.60413  Shrubland  1981       Hist  historical      sc1   \n",
       "2  NABR -110.0472  37.60413  Shrubland  1982       Hist  historical      sc1   \n",
       "3  NABR -110.0472  37.60413  Shrubland  1983       Hist  historical      sc1   \n",
       "4  NABR -110.0472  37.60413  Shrubland  1984       Hist  historical      sc1   \n",
       "\n",
       "   treecanopy  Ann_Herb  Bare  Herb  Litter  Shrub        El        Sa  \\\n",
       "0           0         0    84     5      11      7  1764.955  77.03307   \n",
       "1           0         0    84     5      11      7  1764.955  77.03307   \n",
       "2           0         0    84     5      11      7  1764.955  77.03307   \n",
       "3           0         0    84     5      11      7  1764.955  77.03307   \n",
       "4           0         0    84     5      11      7  1764.955  77.03307   \n",
       "\n",
       "         Cl        RF        RL     Slope         E        S  T_P_Corr  \\\n",
       "0  6.082058  2.285707  54.57202  1949.283 -8753.784  4834.13 -0.663676   \n",
       "1  6.082058  2.285707  54.57202  1949.283 -8753.784  4834.13  0.347801   \n",
       "2  6.082058  2.285707  54.57202  1949.283 -8753.784  4834.13  0.326030   \n",
       "3  6.082058  2.285707  54.57202  1949.283 -8753.784  4834.13  0.038827   \n",
       "4  6.082058  2.285707  54.57202  1949.283 -8753.784  4834.13  0.216660   \n",
       "\n",
       "   DrySoilDays_Winter_top50  DrySoilDays_Spring_top50  \\\n",
       "0                       0.0                       0.0   \n",
       "1                       0.0                       0.0   \n",
       "2                       0.0                       0.0   \n",
       "3                       0.0                       0.0   \n",
       "4                       0.0                       0.0   \n",
       "\n",
       "   DrySoilDays_Summer_top50  DrySoilDays_Fall_top50  DrySoilDays_Winter_whole  \\\n",
       "0                       0.0                     0.0                       0.0   \n",
       "1                       0.0                     0.0                       0.0   \n",
       "2                       0.0                     0.0                       0.0   \n",
       "3                       0.0                     0.0                       0.0   \n",
       "4                       0.0                     0.0                       0.0   \n",
       "\n",
       "   DrySoilDays_Spring_whole  DrySoilDays_Summer_whole  DrySoilDays_Fall_whole  \\\n",
       "0                       0.0                       0.0                     0.0   \n",
       "1                       0.0                       0.0                     0.0   \n",
       "2                       0.0                       0.0                     0.0   \n",
       "3                       0.0                       0.0                     0.0   \n",
       "4                       0.0                       0.0                     0.0   \n",
       "\n",
       "   Evap_Winter  Evap_Spring  Evap_Summer  Evap_Fall  FrostDays_Winter  \\\n",
       "0     3.714066     6.399531     1.559807   3.363278              75.0   \n",
       "1     2.181520     5.972338     5.042878   4.637403              79.0   \n",
       "2     3.258995     4.717327     4.527636   4.247772              83.0   \n",
       "3     3.741992     6.267158     5.169576   3.775105              85.0   \n",
       "4     3.627269     5.007860     5.230332   4.080337              91.0   \n",
       "\n",
       "   FrostDays_Spring  FrostDays_Summer  FrostDays_Fall  PET_Winter  PET_Spring  \\\n",
       "0              34.0               0.0            26.0    7.781163   31.139453   \n",
       "1              26.0               0.0            13.0    8.122905   32.388256   \n",
       "2              21.0               0.0            30.0    7.337953   31.489450   \n",
       "3              32.0               0.0            19.0    7.479846   30.312831   \n",
       "4              35.0               0.0            30.0    7.173010   31.997242   \n",
       "\n",
       "   PET_Summer   PET_Fall  PPT_Winter  PPT_Spring  PPT_Summer  PPT_Fall  \\\n",
       "0   48.017748  21.915683       13.79        8.71        2.69      6.37   \n",
       "1   48.177243  21.757574        2.25        9.81        9.39     11.75   \n",
       "2   47.180077  21.068423        4.12        5.10        9.50      9.83   \n",
       "3   46.576237  21.847146        7.09       10.80       10.22     10.40   \n",
       "4   47.038676  21.018398        4.77        4.32        9.49      8.17   \n",
       "\n",
       "   PPT_Annual  SemiDryDuration_Annual_top50  SemiDryDuration_Annual_whole  \\\n",
       "0       31.56                     36.500000                     36.500000   \n",
       "1       33.20                     13.250000                     13.250000   \n",
       "2       28.55                     17.285714                     17.285714   \n",
       "3       38.51                     16.714286                     16.714286   \n",
       "4       26.75                     16.500000                     16.500000   \n",
       "\n",
       "   SWA_Winter_top50  SWA_Spring_top50  SWA_Summer_top50  SWA_Fall_top50  \\\n",
       "0          3.466881          2.654663          0.032114        0.488087   \n",
       "1          0.346192          0.898275          0.033663        2.501336   \n",
       "2          3.259984          1.599498          0.199382        1.243225   \n",
       "3          3.806448          2.945659          0.096044        1.583597   \n",
       "4          3.794598          1.755533          0.045278        1.379258   \n",
       "\n",
       "   SWA_Winter_whole  SWA_Spring_whole  SWA_Summer_whole  SWA_Fall_whole  \\\n",
       "0          3.466881          2.654663          0.032114        0.488087   \n",
       "1          0.346192          0.898275          0.033663        2.501336   \n",
       "2          3.259984          1.599498          0.199382        1.243225   \n",
       "3          3.806448          2.945659          0.096044        1.583597   \n",
       "4          3.794598          1.755533          0.045278        1.379258   \n",
       "\n",
       "   T_Winter   T_Spring  T_Summer     T_Fall   T_Annual  Tmax_Winter  \\\n",
       "0  0.964835   8.767935  23.15924  11.962090  11.213525        14.15   \n",
       "1  3.334444  10.548370  23.27065  11.581320  12.183696        17.05   \n",
       "2 -0.015556   9.472283  22.05707   9.869231  10.345757        14.35   \n",
       "3  0.409444   8.020652  21.32826  11.325820  10.271044        13.35   \n",
       "4 -1.047253   9.853804  21.95978  10.034070  10.200100        10.25   \n",
       "\n",
       "   Tmax_Spring  Tmax_Summer  Tmax_Fall  Tmin_Winter  Tmin_Spring  Tmin_Summer  \\\n",
       "0        28.75        37.05      31.15       -12.45        -7.35         5.55   \n",
       "1        28.15        37.55      29.75        -9.35        -5.55         1.25   \n",
       "2        28.45        36.65      31.85       -16.55        -7.25         5.65   \n",
       "3        30.65        34.55      33.15       -15.05        -7.25         3.85   \n",
       "4        32.75        35.35      31.35       -18.45        -8.45         2.95   \n",
       "\n",
       "   Tmin_Fall  Transp_Winter  Transp_Spring  Transp_Summer  Transp_Fall  \\\n",
       "0     -10.25       0.237081       5.296833       1.067496     1.966786   \n",
       "1      -7.25       0.293075       3.506108       3.916328     2.787547   \n",
       "2      -6.25       0.245335       3.105047       3.523923     2.890099   \n",
       "3      -8.95       0.225273       4.962824       5.006576     1.195235   \n",
       "4     -12.45       0.122687       3.120243       4.269040     0.927317   \n",
       "\n",
       "   VWC_Winter_top50  VWC_Spring_top50  VWC_Summer_top50  VWC_Fall_top50  \\\n",
       "0          0.113447          0.096831          0.041876        0.052298   \n",
       "1          0.049382          0.060727          0.042639        0.093671   \n",
       "2          0.109234          0.074817          0.045610        0.067789   \n",
       "3          0.120418          0.102542          0.044141        0.074802   \n",
       "4          0.120209          0.077842          0.043179        0.070366   \n",
       "\n",
       "   VWC_Winter_whole  VWC_Spring_whole  VWC_Summer_whole  VWC_Fall_whole  \\\n",
       "0          0.113447          0.096831          0.041876        0.052298   \n",
       "1          0.049382          0.060727          0.042639        0.093671   \n",
       "2          0.109234          0.074817          0.045610        0.067789   \n",
       "3          0.120418          0.102542          0.044141        0.074802   \n",
       "4          0.120209          0.077842          0.043179        0.070366   \n",
       "\n",
       "   WetSoilDays_Winter_top50  WetSoilDays_Spring_top50  \\\n",
       "0                      91.0                      77.0   \n",
       "1                      48.0                      60.0   \n",
       "2                      90.0                      62.0   \n",
       "3                      90.0                      74.0   \n",
       "4                      91.0                      65.0   \n",
       "\n",
       "   WetSoilDays_Summer_top50  WetSoilDays_Fall_top50  WetSoilDays_Winter_whole  \\\n",
       "0                       5.0                    47.0                      91.0   \n",
       "1                      13.0                    85.0                      48.0   \n",
       "2                      19.0                    73.0                      90.0   \n",
       "3                      15.0                    69.0                      90.0   \n",
       "4                      16.0                    62.0                      91.0   \n",
       "\n",
       "   WetSoilDays_Spring_whole  WetSoilDays_Summer_whole  WetSoilDays_Fall_whole  \n",
       "0                      77.0                       5.0                    47.0  \n",
       "1                      60.0                      13.0                    85.0  \n",
       "2                      62.0                      19.0                    73.0  \n",
       "3                      74.0                      15.0                    69.0  \n",
       "4                      65.0                      16.0                    62.0  "
      ]
     },
     "execution_count": 48,
     "metadata": {},
     "output_type": "execute_result"
    }
   ],
   "source": [
    "#Hist  head\n",
    "plot_df = df[df['TimePeriod'] == 'Hist']\n",
    "plot_df.head()"
   ]
  },
  {
   "cell_type": "code",
   "execution_count": 49,
   "metadata": {},
   "outputs": [
    {
     "data": {
      "text/html": [
       "<div>\n",
       "<style scoped>\n",
       "    .dataframe tbody tr th:only-of-type {\n",
       "        vertical-align: middle;\n",
       "    }\n",
       "\n",
       "    .dataframe tbody tr th {\n",
       "        vertical-align: top;\n",
       "    }\n",
       "\n",
       "    .dataframe thead th {\n",
       "        text-align: right;\n",
       "    }\n",
       "</style>\n",
       "<table border=\"1\" class=\"dataframe\">\n",
       "  <thead>\n",
       "    <tr style=\"text-align: right;\">\n",
       "      <th></th>\n",
       "      <th>Park</th>\n",
       "      <th>long</th>\n",
       "      <th>lat</th>\n",
       "      <th>veg</th>\n",
       "      <th>year</th>\n",
       "      <th>TimePeriod</th>\n",
       "      <th>RCP</th>\n",
       "      <th>scenario</th>\n",
       "      <th>treecanopy</th>\n",
       "      <th>Ann_Herb</th>\n",
       "      <th>Bare</th>\n",
       "      <th>Herb</th>\n",
       "      <th>Litter</th>\n",
       "      <th>Shrub</th>\n",
       "      <th>El</th>\n",
       "      <th>Sa</th>\n",
       "      <th>Cl</th>\n",
       "      <th>RF</th>\n",
       "      <th>RL</th>\n",
       "      <th>Slope</th>\n",
       "      <th>E</th>\n",
       "      <th>S</th>\n",
       "      <th>T_P_Corr</th>\n",
       "      <th>DrySoilDays_Winter_top50</th>\n",
       "      <th>DrySoilDays_Spring_top50</th>\n",
       "      <th>DrySoilDays_Summer_top50</th>\n",
       "      <th>DrySoilDays_Fall_top50</th>\n",
       "      <th>DrySoilDays_Winter_whole</th>\n",
       "      <th>DrySoilDays_Spring_whole</th>\n",
       "      <th>DrySoilDays_Summer_whole</th>\n",
       "      <th>DrySoilDays_Fall_whole</th>\n",
       "      <th>Evap_Winter</th>\n",
       "      <th>Evap_Spring</th>\n",
       "      <th>Evap_Summer</th>\n",
       "      <th>Evap_Fall</th>\n",
       "      <th>FrostDays_Winter</th>\n",
       "      <th>FrostDays_Spring</th>\n",
       "      <th>FrostDays_Summer</th>\n",
       "      <th>FrostDays_Fall</th>\n",
       "      <th>PET_Winter</th>\n",
       "      <th>PET_Spring</th>\n",
       "      <th>PET_Summer</th>\n",
       "      <th>PET_Fall</th>\n",
       "      <th>PPT_Winter</th>\n",
       "      <th>PPT_Spring</th>\n",
       "      <th>PPT_Summer</th>\n",
       "      <th>PPT_Fall</th>\n",
       "      <th>PPT_Annual</th>\n",
       "      <th>SemiDryDuration_Annual_top50</th>\n",
       "      <th>SemiDryDuration_Annual_whole</th>\n",
       "      <th>SWA_Winter_top50</th>\n",
       "      <th>SWA_Spring_top50</th>\n",
       "      <th>SWA_Summer_top50</th>\n",
       "      <th>SWA_Fall_top50</th>\n",
       "      <th>SWA_Winter_whole</th>\n",
       "      <th>SWA_Spring_whole</th>\n",
       "      <th>SWA_Summer_whole</th>\n",
       "      <th>SWA_Fall_whole</th>\n",
       "      <th>T_Winter</th>\n",
       "      <th>T_Spring</th>\n",
       "      <th>T_Summer</th>\n",
       "      <th>T_Fall</th>\n",
       "      <th>T_Annual</th>\n",
       "      <th>Tmax_Winter</th>\n",
       "      <th>Tmax_Spring</th>\n",
       "      <th>Tmax_Summer</th>\n",
       "      <th>Tmax_Fall</th>\n",
       "      <th>Tmin_Winter</th>\n",
       "      <th>Tmin_Spring</th>\n",
       "      <th>Tmin_Summer</th>\n",
       "      <th>Tmin_Fall</th>\n",
       "      <th>Transp_Winter</th>\n",
       "      <th>Transp_Spring</th>\n",
       "      <th>Transp_Summer</th>\n",
       "      <th>Transp_Fall</th>\n",
       "      <th>VWC_Winter_top50</th>\n",
       "      <th>VWC_Spring_top50</th>\n",
       "      <th>VWC_Summer_top50</th>\n",
       "      <th>VWC_Fall_top50</th>\n",
       "      <th>VWC_Winter_whole</th>\n",
       "      <th>VWC_Spring_whole</th>\n",
       "      <th>VWC_Summer_whole</th>\n",
       "      <th>VWC_Fall_whole</th>\n",
       "      <th>WetSoilDays_Winter_top50</th>\n",
       "      <th>WetSoilDays_Spring_top50</th>\n",
       "      <th>WetSoilDays_Summer_top50</th>\n",
       "      <th>WetSoilDays_Fall_top50</th>\n",
       "      <th>WetSoilDays_Winter_whole</th>\n",
       "      <th>WetSoilDays_Spring_whole</th>\n",
       "      <th>WetSoilDays_Summer_whole</th>\n",
       "      <th>WetSoilDays_Fall_whole</th>\n",
       "    </tr>\n",
       "  </thead>\n",
       "  <tbody>\n",
       "    <tr>\n",
       "      <th>39</th>\n",
       "      <td>NABR</td>\n",
       "      <td>-110.0472</td>\n",
       "      <td>37.60413</td>\n",
       "      <td>Shrubland</td>\n",
       "      <td>2021</td>\n",
       "      <td>NT</td>\n",
       "      <td>4.5</td>\n",
       "      <td>sc22</td>\n",
       "      <td>0</td>\n",
       "      <td>0</td>\n",
       "      <td>84</td>\n",
       "      <td>5</td>\n",
       "      <td>11</td>\n",
       "      <td>7</td>\n",
       "      <td>1764.955</td>\n",
       "      <td>77.03307</td>\n",
       "      <td>6.082058</td>\n",
       "      <td>2.285707</td>\n",
       "      <td>54.57202</td>\n",
       "      <td>1949.283</td>\n",
       "      <td>-8753.784</td>\n",
       "      <td>4834.13</td>\n",
       "      <td>0.014812</td>\n",
       "      <td>0.0</td>\n",
       "      <td>0.0</td>\n",
       "      <td>0.0</td>\n",
       "      <td>0.0</td>\n",
       "      <td>0.0</td>\n",
       "      <td>0.0</td>\n",
       "      <td>0.0</td>\n",
       "      <td>0.0</td>\n",
       "      <td>3.139035</td>\n",
       "      <td>3.545866</td>\n",
       "      <td>3.242230</td>\n",
       "      <td>3.466115</td>\n",
       "      <td>73.0</td>\n",
       "      <td>16.0</td>\n",
       "      <td>0.0</td>\n",
       "      <td>14.0</td>\n",
       "      <td>7.709275</td>\n",
       "      <td>32.915602</td>\n",
       "      <td>49.100243</td>\n",
       "      <td>23.129662</td>\n",
       "      <td>5.94</td>\n",
       "      <td>4.24</td>\n",
       "      <td>6.37</td>\n",
       "      <td>5.84</td>\n",
       "      <td>22.39</td>\n",
       "      <td>23.714286</td>\n",
       "      <td>23.714286</td>\n",
       "      <td>3.523254</td>\n",
       "      <td>1.795909</td>\n",
       "      <td>0.092987</td>\n",
       "      <td>0.456547</td>\n",
       "      <td>3.523254</td>\n",
       "      <td>1.795909</td>\n",
       "      <td>0.092987</td>\n",
       "      <td>0.456547</td>\n",
       "      <td>1.630333</td>\n",
       "      <td>11.34261</td>\n",
       "      <td>24.50402</td>\n",
       "      <td>13.98099</td>\n",
       "      <td>12.864488</td>\n",
       "      <td>15.97</td>\n",
       "      <td>34.94</td>\n",
       "      <td>36.89</td>\n",
       "      <td>33.20</td>\n",
       "      <td>-12.77</td>\n",
       "      <td>-9.35</td>\n",
       "      <td>8.62</td>\n",
       "      <td>-6.97</td>\n",
       "      <td>0.298788</td>\n",
       "      <td>4.336494</td>\n",
       "      <td>3.038404</td>\n",
       "      <td>0.456522</td>\n",
       "      <td>0.114652</td>\n",
       "      <td>0.078764</td>\n",
       "      <td>0.043514</td>\n",
       "      <td>0.051281</td>\n",
       "      <td>0.114652</td>\n",
       "      <td>0.078764</td>\n",
       "      <td>0.043514</td>\n",
       "      <td>0.051281</td>\n",
       "      <td>90.0</td>\n",
       "      <td>66.0</td>\n",
       "      <td>11.0</td>\n",
       "      <td>32.0</td>\n",
       "      <td>90.0</td>\n",
       "      <td>66.0</td>\n",
       "      <td>11.0</td>\n",
       "      <td>32.0</td>\n",
       "    </tr>\n",
       "    <tr>\n",
       "      <th>40</th>\n",
       "      <td>NABR</td>\n",
       "      <td>-110.0472</td>\n",
       "      <td>37.60413</td>\n",
       "      <td>Shrubland</td>\n",
       "      <td>2021</td>\n",
       "      <td>NT</td>\n",
       "      <td>4.5</td>\n",
       "      <td>sc23</td>\n",
       "      <td>0</td>\n",
       "      <td>0</td>\n",
       "      <td>84</td>\n",
       "      <td>5</td>\n",
       "      <td>11</td>\n",
       "      <td>7</td>\n",
       "      <td>1764.955</td>\n",
       "      <td>77.03307</td>\n",
       "      <td>6.082058</td>\n",
       "      <td>2.285707</td>\n",
       "      <td>54.57202</td>\n",
       "      <td>1949.283</td>\n",
       "      <td>-8753.784</td>\n",
       "      <td>4834.13</td>\n",
       "      <td>-0.332470</td>\n",
       "      <td>0.0</td>\n",
       "      <td>0.0</td>\n",
       "      <td>0.0</td>\n",
       "      <td>0.0</td>\n",
       "      <td>0.0</td>\n",
       "      <td>0.0</td>\n",
       "      <td>0.0</td>\n",
       "      <td>0.0</td>\n",
       "      <td>3.276114</td>\n",
       "      <td>4.595810</td>\n",
       "      <td>2.401611</td>\n",
       "      <td>3.894913</td>\n",
       "      <td>71.0</td>\n",
       "      <td>6.0</td>\n",
       "      <td>0.0</td>\n",
       "      <td>20.0</td>\n",
       "      <td>7.762025</td>\n",
       "      <td>33.366229</td>\n",
       "      <td>48.801543</td>\n",
       "      <td>22.250068</td>\n",
       "      <td>6.44</td>\n",
       "      <td>6.36</td>\n",
       "      <td>3.09</td>\n",
       "      <td>10.07</td>\n",
       "      <td>25.96</td>\n",
       "      <td>141.000000</td>\n",
       "      <td>141.000000</td>\n",
       "      <td>4.282237</td>\n",
       "      <td>2.657316</td>\n",
       "      <td>0.000106</td>\n",
       "      <td>2.452662</td>\n",
       "      <td>4.282237</td>\n",
       "      <td>2.657316</td>\n",
       "      <td>0.000106</td>\n",
       "      <td>2.452662</td>\n",
       "      <td>1.389056</td>\n",
       "      <td>12.08120</td>\n",
       "      <td>24.11043</td>\n",
       "      <td>12.21929</td>\n",
       "      <td>12.449994</td>\n",
       "      <td>17.23</td>\n",
       "      <td>30.10</td>\n",
       "      <td>37.95</td>\n",
       "      <td>33.02</td>\n",
       "      <td>-18.96</td>\n",
       "      <td>-3.24</td>\n",
       "      <td>7.20</td>\n",
       "      <td>-4.67</td>\n",
       "      <td>0.298377</td>\n",
       "      <td>5.255288</td>\n",
       "      <td>0.546798</td>\n",
       "      <td>0.781926</td>\n",
       "      <td>0.130221</td>\n",
       "      <td>0.096412</td>\n",
       "      <td>0.041232</td>\n",
       "      <td>0.092241</td>\n",
       "      <td>0.130221</td>\n",
       "      <td>0.096412</td>\n",
       "      <td>0.041232</td>\n",
       "      <td>0.092241</td>\n",
       "      <td>90.0</td>\n",
       "      <td>75.0</td>\n",
       "      <td>0.0</td>\n",
       "      <td>59.0</td>\n",
       "      <td>90.0</td>\n",
       "      <td>75.0</td>\n",
       "      <td>0.0</td>\n",
       "      <td>59.0</td>\n",
       "    </tr>\n",
       "    <tr>\n",
       "      <th>41</th>\n",
       "      <td>NABR</td>\n",
       "      <td>-110.0472</td>\n",
       "      <td>37.60413</td>\n",
       "      <td>Shrubland</td>\n",
       "      <td>2021</td>\n",
       "      <td>NT</td>\n",
       "      <td>4.5</td>\n",
       "      <td>sc24</td>\n",
       "      <td>0</td>\n",
       "      <td>0</td>\n",
       "      <td>84</td>\n",
       "      <td>5</td>\n",
       "      <td>11</td>\n",
       "      <td>7</td>\n",
       "      <td>1764.955</td>\n",
       "      <td>77.03307</td>\n",
       "      <td>6.082058</td>\n",
       "      <td>2.285707</td>\n",
       "      <td>54.57202</td>\n",
       "      <td>1949.283</td>\n",
       "      <td>-8753.784</td>\n",
       "      <td>4834.13</td>\n",
       "      <td>-0.064576</td>\n",
       "      <td>0.0</td>\n",
       "      <td>0.0</td>\n",
       "      <td>0.0</td>\n",
       "      <td>0.0</td>\n",
       "      <td>0.0</td>\n",
       "      <td>0.0</td>\n",
       "      <td>0.0</td>\n",
       "      <td>0.0</td>\n",
       "      <td>2.982242</td>\n",
       "      <td>3.744145</td>\n",
       "      <td>2.681788</td>\n",
       "      <td>4.213860</td>\n",
       "      <td>87.0</td>\n",
       "      <td>20.0</td>\n",
       "      <td>0.0</td>\n",
       "      <td>16.0</td>\n",
       "      <td>7.190771</td>\n",
       "      <td>32.279263</td>\n",
       "      <td>49.942172</td>\n",
       "      <td>22.049116</td>\n",
       "      <td>5.35</td>\n",
       "      <td>6.87</td>\n",
       "      <td>5.32</td>\n",
       "      <td>11.58</td>\n",
       "      <td>29.12</td>\n",
       "      <td>30.500000</td>\n",
       "      <td>30.500000</td>\n",
       "      <td>1.736456</td>\n",
       "      <td>2.156796</td>\n",
       "      <td>0.026098</td>\n",
       "      <td>1.572440</td>\n",
       "      <td>1.736456</td>\n",
       "      <td>2.156796</td>\n",
       "      <td>0.026098</td>\n",
       "      <td>1.572440</td>\n",
       "      <td>-0.334389</td>\n",
       "      <td>10.31321</td>\n",
       "      <td>25.54266</td>\n",
       "      <td>11.83143</td>\n",
       "      <td>11.838228</td>\n",
       "      <td>11.36</td>\n",
       "      <td>30.49</td>\n",
       "      <td>37.74</td>\n",
       "      <td>30.29</td>\n",
       "      <td>-16.23</td>\n",
       "      <td>-5.52</td>\n",
       "      <td>3.68</td>\n",
       "      <td>-6.75</td>\n",
       "      <td>0.348485</td>\n",
       "      <td>4.099402</td>\n",
       "      <td>2.495426</td>\n",
       "      <td>3.129830</td>\n",
       "      <td>0.077886</td>\n",
       "      <td>0.086246</td>\n",
       "      <td>0.042104</td>\n",
       "      <td>0.074321</td>\n",
       "      <td>0.077886</td>\n",
       "      <td>0.086246</td>\n",
       "      <td>0.042104</td>\n",
       "      <td>0.074321</td>\n",
       "      <td>86.0</td>\n",
       "      <td>65.0</td>\n",
       "      <td>7.0</td>\n",
       "      <td>85.0</td>\n",
       "      <td>86.0</td>\n",
       "      <td>65.0</td>\n",
       "      <td>7.0</td>\n",
       "      <td>85.0</td>\n",
       "    </tr>\n",
       "    <tr>\n",
       "      <th>42</th>\n",
       "      <td>NABR</td>\n",
       "      <td>-110.0472</td>\n",
       "      <td>37.60413</td>\n",
       "      <td>Shrubland</td>\n",
       "      <td>2021</td>\n",
       "      <td>NT</td>\n",
       "      <td>4.5</td>\n",
       "      <td>sc25</td>\n",
       "      <td>0</td>\n",
       "      <td>0</td>\n",
       "      <td>84</td>\n",
       "      <td>5</td>\n",
       "      <td>11</td>\n",
       "      <td>7</td>\n",
       "      <td>1764.955</td>\n",
       "      <td>77.03307</td>\n",
       "      <td>6.082058</td>\n",
       "      <td>2.285707</td>\n",
       "      <td>54.57202</td>\n",
       "      <td>1949.283</td>\n",
       "      <td>-8753.784</td>\n",
       "      <td>4834.13</td>\n",
       "      <td>-0.136213</td>\n",
       "      <td>0.0</td>\n",
       "      <td>0.0</td>\n",
       "      <td>0.0</td>\n",
       "      <td>0.0</td>\n",
       "      <td>0.0</td>\n",
       "      <td>0.0</td>\n",
       "      <td>0.0</td>\n",
       "      <td>0.0</td>\n",
       "      <td>3.412942</td>\n",
       "      <td>4.838726</td>\n",
       "      <td>3.119694</td>\n",
       "      <td>3.958113</td>\n",
       "      <td>84.0</td>\n",
       "      <td>1.0</td>\n",
       "      <td>0.0</td>\n",
       "      <td>20.0</td>\n",
       "      <td>7.315652</td>\n",
       "      <td>34.990437</td>\n",
       "      <td>49.230749</td>\n",
       "      <td>22.725587</td>\n",
       "      <td>11.26</td>\n",
       "      <td>5.77</td>\n",
       "      <td>5.47</td>\n",
       "      <td>5.52</td>\n",
       "      <td>28.02</td>\n",
       "      <td>15.500000</td>\n",
       "      <td>15.500000</td>\n",
       "      <td>3.772102</td>\n",
       "      <td>2.148783</td>\n",
       "      <td>0.004469</td>\n",
       "      <td>0.056853</td>\n",
       "      <td>3.772102</td>\n",
       "      <td>2.148783</td>\n",
       "      <td>0.004469</td>\n",
       "      <td>0.056853</td>\n",
       "      <td>0.239722</td>\n",
       "      <td>14.10902</td>\n",
       "      <td>24.67777</td>\n",
       "      <td>12.88308</td>\n",
       "      <td>12.977398</td>\n",
       "      <td>14.91</td>\n",
       "      <td>35.63</td>\n",
       "      <td>38.19</td>\n",
       "      <td>34.55</td>\n",
       "      <td>-14.65</td>\n",
       "      <td>-2.65</td>\n",
       "      <td>6.20</td>\n",
       "      <td>-12.43</td>\n",
       "      <td>0.188907</td>\n",
       "      <td>5.257128</td>\n",
       "      <td>2.201266</td>\n",
       "      <td>1.695604</td>\n",
       "      <td>0.119739</td>\n",
       "      <td>0.086438</td>\n",
       "      <td>0.041665</td>\n",
       "      <td>0.042954</td>\n",
       "      <td>0.119739</td>\n",
       "      <td>0.086438</td>\n",
       "      <td>0.041665</td>\n",
       "      <td>0.042954</td>\n",
       "      <td>90.0</td>\n",
       "      <td>67.0</td>\n",
       "      <td>7.0</td>\n",
       "      <td>15.0</td>\n",
       "      <td>90.0</td>\n",
       "      <td>67.0</td>\n",
       "      <td>7.0</td>\n",
       "      <td>15.0</td>\n",
       "    </tr>\n",
       "    <tr>\n",
       "      <th>43</th>\n",
       "      <td>NABR</td>\n",
       "      <td>-110.0472</td>\n",
       "      <td>37.60413</td>\n",
       "      <td>Shrubland</td>\n",
       "      <td>2021</td>\n",
       "      <td>NT</td>\n",
       "      <td>4.5</td>\n",
       "      <td>sc26</td>\n",
       "      <td>0</td>\n",
       "      <td>0</td>\n",
       "      <td>84</td>\n",
       "      <td>5</td>\n",
       "      <td>11</td>\n",
       "      <td>7</td>\n",
       "      <td>1764.955</td>\n",
       "      <td>77.03307</td>\n",
       "      <td>6.082058</td>\n",
       "      <td>2.285707</td>\n",
       "      <td>54.57202</td>\n",
       "      <td>1949.283</td>\n",
       "      <td>-8753.784</td>\n",
       "      <td>4834.13</td>\n",
       "      <td>-0.530425</td>\n",
       "      <td>0.0</td>\n",
       "      <td>0.0</td>\n",
       "      <td>0.0</td>\n",
       "      <td>0.0</td>\n",
       "      <td>0.0</td>\n",
       "      <td>0.0</td>\n",
       "      <td>0.0</td>\n",
       "      <td>0.0</td>\n",
       "      <td>3.481367</td>\n",
       "      <td>5.940032</td>\n",
       "      <td>1.175710</td>\n",
       "      <td>3.742032</td>\n",
       "      <td>81.0</td>\n",
       "      <td>20.0</td>\n",
       "      <td>0.0</td>\n",
       "      <td>12.0</td>\n",
       "      <td>7.507803</td>\n",
       "      <td>32.697703</td>\n",
       "      <td>50.218534</td>\n",
       "      <td>23.457776</td>\n",
       "      <td>7.22</td>\n",
       "      <td>8.51</td>\n",
       "      <td>1.44</td>\n",
       "      <td>5.17</td>\n",
       "      <td>22.34</td>\n",
       "      <td>18.888889</td>\n",
       "      <td>18.888889</td>\n",
       "      <td>3.552116</td>\n",
       "      <td>2.732895</td>\n",
       "      <td>0.000056</td>\n",
       "      <td>0.147721</td>\n",
       "      <td>3.552116</td>\n",
       "      <td>2.732895</td>\n",
       "      <td>0.000056</td>\n",
       "      <td>0.147721</td>\n",
       "      <td>0.920944</td>\n",
       "      <td>10.88011</td>\n",
       "      <td>25.89082</td>\n",
       "      <td>14.30181</td>\n",
       "      <td>12.998421</td>\n",
       "      <td>18.39</td>\n",
       "      <td>30.23</td>\n",
       "      <td>38.06</td>\n",
       "      <td>35.44</td>\n",
       "      <td>-14.71</td>\n",
       "      <td>-5.84</td>\n",
       "      <td>9.92</td>\n",
       "      <td>-11.11</td>\n",
       "      <td>0.217692</td>\n",
       "      <td>4.952527</td>\n",
       "      <td>0.286016</td>\n",
       "      <td>1.210694</td>\n",
       "      <td>0.115214</td>\n",
       "      <td>0.098153</td>\n",
       "      <td>0.040846</td>\n",
       "      <td>0.045312</td>\n",
       "      <td>0.115214</td>\n",
       "      <td>0.098153</td>\n",
       "      <td>0.040846</td>\n",
       "      <td>0.045312</td>\n",
       "      <td>90.0</td>\n",
       "      <td>71.0</td>\n",
       "      <td>0.0</td>\n",
       "      <td>34.0</td>\n",
       "      <td>90.0</td>\n",
       "      <td>71.0</td>\n",
       "      <td>0.0</td>\n",
       "      <td>34.0</td>\n",
       "    </tr>\n",
       "  </tbody>\n",
       "</table>\n",
       "</div>"
      ],
      "text/plain": [
       "    Park      long       lat        veg  year TimePeriod  RCP scenario  \\\n",
       "39  NABR -110.0472  37.60413  Shrubland  2021         NT  4.5     sc22   \n",
       "40  NABR -110.0472  37.60413  Shrubland  2021         NT  4.5     sc23   \n",
       "41  NABR -110.0472  37.60413  Shrubland  2021         NT  4.5     sc24   \n",
       "42  NABR -110.0472  37.60413  Shrubland  2021         NT  4.5     sc25   \n",
       "43  NABR -110.0472  37.60413  Shrubland  2021         NT  4.5     sc26   \n",
       "\n",
       "    treecanopy  Ann_Herb  Bare  Herb  Litter  Shrub        El        Sa  \\\n",
       "39           0         0    84     5      11      7  1764.955  77.03307   \n",
       "40           0         0    84     5      11      7  1764.955  77.03307   \n",
       "41           0         0    84     5      11      7  1764.955  77.03307   \n",
       "42           0         0    84     5      11      7  1764.955  77.03307   \n",
       "43           0         0    84     5      11      7  1764.955  77.03307   \n",
       "\n",
       "          Cl        RF        RL     Slope         E        S  T_P_Corr  \\\n",
       "39  6.082058  2.285707  54.57202  1949.283 -8753.784  4834.13  0.014812   \n",
       "40  6.082058  2.285707  54.57202  1949.283 -8753.784  4834.13 -0.332470   \n",
       "41  6.082058  2.285707  54.57202  1949.283 -8753.784  4834.13 -0.064576   \n",
       "42  6.082058  2.285707  54.57202  1949.283 -8753.784  4834.13 -0.136213   \n",
       "43  6.082058  2.285707  54.57202  1949.283 -8753.784  4834.13 -0.530425   \n",
       "\n",
       "    DrySoilDays_Winter_top50  DrySoilDays_Spring_top50  \\\n",
       "39                       0.0                       0.0   \n",
       "40                       0.0                       0.0   \n",
       "41                       0.0                       0.0   \n",
       "42                       0.0                       0.0   \n",
       "43                       0.0                       0.0   \n",
       "\n",
       "    DrySoilDays_Summer_top50  DrySoilDays_Fall_top50  \\\n",
       "39                       0.0                     0.0   \n",
       "40                       0.0                     0.0   \n",
       "41                       0.0                     0.0   \n",
       "42                       0.0                     0.0   \n",
       "43                       0.0                     0.0   \n",
       "\n",
       "    DrySoilDays_Winter_whole  DrySoilDays_Spring_whole  \\\n",
       "39                       0.0                       0.0   \n",
       "40                       0.0                       0.0   \n",
       "41                       0.0                       0.0   \n",
       "42                       0.0                       0.0   \n",
       "43                       0.0                       0.0   \n",
       "\n",
       "    DrySoilDays_Summer_whole  DrySoilDays_Fall_whole  Evap_Winter  \\\n",
       "39                       0.0                     0.0     3.139035   \n",
       "40                       0.0                     0.0     3.276114   \n",
       "41                       0.0                     0.0     2.982242   \n",
       "42                       0.0                     0.0     3.412942   \n",
       "43                       0.0                     0.0     3.481367   \n",
       "\n",
       "    Evap_Spring  Evap_Summer  Evap_Fall  FrostDays_Winter  FrostDays_Spring  \\\n",
       "39     3.545866     3.242230   3.466115              73.0              16.0   \n",
       "40     4.595810     2.401611   3.894913              71.0               6.0   \n",
       "41     3.744145     2.681788   4.213860              87.0              20.0   \n",
       "42     4.838726     3.119694   3.958113              84.0               1.0   \n",
       "43     5.940032     1.175710   3.742032              81.0              20.0   \n",
       "\n",
       "    FrostDays_Summer  FrostDays_Fall  PET_Winter  PET_Spring  PET_Summer  \\\n",
       "39               0.0            14.0    7.709275   32.915602   49.100243   \n",
       "40               0.0            20.0    7.762025   33.366229   48.801543   \n",
       "41               0.0            16.0    7.190771   32.279263   49.942172   \n",
       "42               0.0            20.0    7.315652   34.990437   49.230749   \n",
       "43               0.0            12.0    7.507803   32.697703   50.218534   \n",
       "\n",
       "     PET_Fall  PPT_Winter  PPT_Spring  PPT_Summer  PPT_Fall  PPT_Annual  \\\n",
       "39  23.129662        5.94        4.24        6.37      5.84       22.39   \n",
       "40  22.250068        6.44        6.36        3.09     10.07       25.96   \n",
       "41  22.049116        5.35        6.87        5.32     11.58       29.12   \n",
       "42  22.725587       11.26        5.77        5.47      5.52       28.02   \n",
       "43  23.457776        7.22        8.51        1.44      5.17       22.34   \n",
       "\n",
       "    SemiDryDuration_Annual_top50  SemiDryDuration_Annual_whole  \\\n",
       "39                     23.714286                     23.714286   \n",
       "40                    141.000000                    141.000000   \n",
       "41                     30.500000                     30.500000   \n",
       "42                     15.500000                     15.500000   \n",
       "43                     18.888889                     18.888889   \n",
       "\n",
       "    SWA_Winter_top50  SWA_Spring_top50  SWA_Summer_top50  SWA_Fall_top50  \\\n",
       "39          3.523254          1.795909          0.092987        0.456547   \n",
       "40          4.282237          2.657316          0.000106        2.452662   \n",
       "41          1.736456          2.156796          0.026098        1.572440   \n",
       "42          3.772102          2.148783          0.004469        0.056853   \n",
       "43          3.552116          2.732895          0.000056        0.147721   \n",
       "\n",
       "    SWA_Winter_whole  SWA_Spring_whole  SWA_Summer_whole  SWA_Fall_whole  \\\n",
       "39          3.523254          1.795909          0.092987        0.456547   \n",
       "40          4.282237          2.657316          0.000106        2.452662   \n",
       "41          1.736456          2.156796          0.026098        1.572440   \n",
       "42          3.772102          2.148783          0.004469        0.056853   \n",
       "43          3.552116          2.732895          0.000056        0.147721   \n",
       "\n",
       "    T_Winter  T_Spring  T_Summer    T_Fall   T_Annual  Tmax_Winter  \\\n",
       "39  1.630333  11.34261  24.50402  13.98099  12.864488        15.97   \n",
       "40  1.389056  12.08120  24.11043  12.21929  12.449994        17.23   \n",
       "41 -0.334389  10.31321  25.54266  11.83143  11.838228        11.36   \n",
       "42  0.239722  14.10902  24.67777  12.88308  12.977398        14.91   \n",
       "43  0.920944  10.88011  25.89082  14.30181  12.998421        18.39   \n",
       "\n",
       "    Tmax_Spring  Tmax_Summer  Tmax_Fall  Tmin_Winter  Tmin_Spring  \\\n",
       "39        34.94        36.89      33.20       -12.77        -9.35   \n",
       "40        30.10        37.95      33.02       -18.96        -3.24   \n",
       "41        30.49        37.74      30.29       -16.23        -5.52   \n",
       "42        35.63        38.19      34.55       -14.65        -2.65   \n",
       "43        30.23        38.06      35.44       -14.71        -5.84   \n",
       "\n",
       "    Tmin_Summer  Tmin_Fall  Transp_Winter  Transp_Spring  Transp_Summer  \\\n",
       "39         8.62      -6.97       0.298788       4.336494       3.038404   \n",
       "40         7.20      -4.67       0.298377       5.255288       0.546798   \n",
       "41         3.68      -6.75       0.348485       4.099402       2.495426   \n",
       "42         6.20     -12.43       0.188907       5.257128       2.201266   \n",
       "43         9.92     -11.11       0.217692       4.952527       0.286016   \n",
       "\n",
       "    Transp_Fall  VWC_Winter_top50  VWC_Spring_top50  VWC_Summer_top50  \\\n",
       "39     0.456522          0.114652          0.078764          0.043514   \n",
       "40     0.781926          0.130221          0.096412          0.041232   \n",
       "41     3.129830          0.077886          0.086246          0.042104   \n",
       "42     1.695604          0.119739          0.086438          0.041665   \n",
       "43     1.210694          0.115214          0.098153          0.040846   \n",
       "\n",
       "    VWC_Fall_top50  VWC_Winter_whole  VWC_Spring_whole  VWC_Summer_whole  \\\n",
       "39        0.051281          0.114652          0.078764          0.043514   \n",
       "40        0.092241          0.130221          0.096412          0.041232   \n",
       "41        0.074321          0.077886          0.086246          0.042104   \n",
       "42        0.042954          0.119739          0.086438          0.041665   \n",
       "43        0.045312          0.115214          0.098153          0.040846   \n",
       "\n",
       "    VWC_Fall_whole  WetSoilDays_Winter_top50  WetSoilDays_Spring_top50  \\\n",
       "39        0.051281                      90.0                      66.0   \n",
       "40        0.092241                      90.0                      75.0   \n",
       "41        0.074321                      86.0                      65.0   \n",
       "42        0.042954                      90.0                      67.0   \n",
       "43        0.045312                      90.0                      71.0   \n",
       "\n",
       "    WetSoilDays_Summer_top50  WetSoilDays_Fall_top50  \\\n",
       "39                      11.0                    32.0   \n",
       "40                       0.0                    59.0   \n",
       "41                       7.0                    85.0   \n",
       "42                       7.0                    15.0   \n",
       "43                       0.0                    34.0   \n",
       "\n",
       "    WetSoilDays_Winter_whole  WetSoilDays_Spring_whole  \\\n",
       "39                      90.0                      66.0   \n",
       "40                      90.0                      75.0   \n",
       "41                      86.0                      65.0   \n",
       "42                      90.0                      67.0   \n",
       "43                      90.0                      71.0   \n",
       "\n",
       "    WetSoilDays_Summer_whole  WetSoilDays_Fall_whole  \n",
       "39                      11.0                    32.0  \n",
       "40                       0.0                    59.0  \n",
       "41                       7.0                    85.0  \n",
       "42                       7.0                    15.0  \n",
       "43                       0.0                    34.0  "
      ]
     },
     "execution_count": 49,
     "metadata": {},
     "output_type": "execute_result"
    }
   ],
   "source": [
    "#NT  head\n",
    "plot_df = df[df['TimePeriod'] == 'NT']\n",
    "plot_df.head()"
   ]
  },
  {
   "cell_type": "code",
   "execution_count": 50,
   "metadata": {},
   "outputs": [
    {
     "data": {
      "text/html": [
       "<div>\n",
       "<style scoped>\n",
       "    .dataframe tbody tr th:only-of-type {\n",
       "        vertical-align: middle;\n",
       "    }\n",
       "\n",
       "    .dataframe tbody tr th {\n",
       "        vertical-align: top;\n",
       "    }\n",
       "\n",
       "    .dataframe thead th {\n",
       "        text-align: right;\n",
       "    }\n",
       "</style>\n",
       "<table border=\"1\" class=\"dataframe\">\n",
       "  <thead>\n",
       "    <tr style=\"text-align: right;\">\n",
       "      <th></th>\n",
       "      <th>Park</th>\n",
       "      <th>long</th>\n",
       "      <th>lat</th>\n",
       "      <th>veg</th>\n",
       "      <th>year</th>\n",
       "      <th>TimePeriod</th>\n",
       "      <th>RCP</th>\n",
       "      <th>scenario</th>\n",
       "      <th>treecanopy</th>\n",
       "      <th>Ann_Herb</th>\n",
       "      <th>Bare</th>\n",
       "      <th>Herb</th>\n",
       "      <th>Litter</th>\n",
       "      <th>Shrub</th>\n",
       "      <th>El</th>\n",
       "      <th>Sa</th>\n",
       "      <th>Cl</th>\n",
       "      <th>RF</th>\n",
       "      <th>RL</th>\n",
       "      <th>Slope</th>\n",
       "      <th>E</th>\n",
       "      <th>S</th>\n",
       "      <th>T_P_Corr</th>\n",
       "      <th>DrySoilDays_Winter_top50</th>\n",
       "      <th>DrySoilDays_Spring_top50</th>\n",
       "      <th>DrySoilDays_Summer_top50</th>\n",
       "      <th>DrySoilDays_Fall_top50</th>\n",
       "      <th>DrySoilDays_Winter_whole</th>\n",
       "      <th>DrySoilDays_Spring_whole</th>\n",
       "      <th>DrySoilDays_Summer_whole</th>\n",
       "      <th>DrySoilDays_Fall_whole</th>\n",
       "      <th>Evap_Winter</th>\n",
       "      <th>Evap_Spring</th>\n",
       "      <th>Evap_Summer</th>\n",
       "      <th>Evap_Fall</th>\n",
       "      <th>FrostDays_Winter</th>\n",
       "      <th>FrostDays_Spring</th>\n",
       "      <th>FrostDays_Summer</th>\n",
       "      <th>FrostDays_Fall</th>\n",
       "      <th>PET_Winter</th>\n",
       "      <th>PET_Spring</th>\n",
       "      <th>PET_Summer</th>\n",
       "      <th>PET_Fall</th>\n",
       "      <th>PPT_Winter</th>\n",
       "      <th>PPT_Spring</th>\n",
       "      <th>PPT_Summer</th>\n",
       "      <th>PPT_Fall</th>\n",
       "      <th>PPT_Annual</th>\n",
       "      <th>SemiDryDuration_Annual_top50</th>\n",
       "      <th>SemiDryDuration_Annual_whole</th>\n",
       "      <th>SWA_Winter_top50</th>\n",
       "      <th>SWA_Spring_top50</th>\n",
       "      <th>SWA_Summer_top50</th>\n",
       "      <th>SWA_Fall_top50</th>\n",
       "      <th>SWA_Winter_whole</th>\n",
       "      <th>SWA_Spring_whole</th>\n",
       "      <th>SWA_Summer_whole</th>\n",
       "      <th>SWA_Fall_whole</th>\n",
       "      <th>T_Winter</th>\n",
       "      <th>T_Spring</th>\n",
       "      <th>T_Summer</th>\n",
       "      <th>T_Fall</th>\n",
       "      <th>T_Annual</th>\n",
       "      <th>Tmax_Winter</th>\n",
       "      <th>Tmax_Spring</th>\n",
       "      <th>Tmax_Summer</th>\n",
       "      <th>Tmax_Fall</th>\n",
       "      <th>Tmin_Winter</th>\n",
       "      <th>Tmin_Spring</th>\n",
       "      <th>Tmin_Summer</th>\n",
       "      <th>Tmin_Fall</th>\n",
       "      <th>Transp_Winter</th>\n",
       "      <th>Transp_Spring</th>\n",
       "      <th>Transp_Summer</th>\n",
       "      <th>Transp_Fall</th>\n",
       "      <th>VWC_Winter_top50</th>\n",
       "      <th>VWC_Spring_top50</th>\n",
       "      <th>VWC_Summer_top50</th>\n",
       "      <th>VWC_Fall_top50</th>\n",
       "      <th>VWC_Winter_whole</th>\n",
       "      <th>VWC_Spring_whole</th>\n",
       "      <th>VWC_Summer_whole</th>\n",
       "      <th>VWC_Fall_whole</th>\n",
       "      <th>WetSoilDays_Winter_top50</th>\n",
       "      <th>WetSoilDays_Spring_top50</th>\n",
       "      <th>WetSoilDays_Summer_top50</th>\n",
       "      <th>WetSoilDays_Fall_top50</th>\n",
       "      <th>WetSoilDays_Winter_whole</th>\n",
       "      <th>WetSoilDays_Spring_whole</th>\n",
       "      <th>WetSoilDays_Summer_whole</th>\n",
       "      <th>WetSoilDays_Fall_whole</th>\n",
       "    </tr>\n",
       "  </thead>\n",
       "  <tbody>\n",
       "    <tr>\n",
       "      <th>1599</th>\n",
       "      <td>NABR</td>\n",
       "      <td>-110.0472</td>\n",
       "      <td>37.60413</td>\n",
       "      <td>Shrubland</td>\n",
       "      <td>2060</td>\n",
       "      <td>LT</td>\n",
       "      <td>4.5</td>\n",
       "      <td>sc22</td>\n",
       "      <td>0</td>\n",
       "      <td>0</td>\n",
       "      <td>84</td>\n",
       "      <td>5</td>\n",
       "      <td>11</td>\n",
       "      <td>7</td>\n",
       "      <td>1764.955</td>\n",
       "      <td>77.03307</td>\n",
       "      <td>6.082058</td>\n",
       "      <td>2.285707</td>\n",
       "      <td>54.57202</td>\n",
       "      <td>1949.283</td>\n",
       "      <td>-8753.784</td>\n",
       "      <td>4834.13</td>\n",
       "      <td>-0.767645</td>\n",
       "      <td>0.0</td>\n",
       "      <td>0.0</td>\n",
       "      <td>0.0</td>\n",
       "      <td>0.0</td>\n",
       "      <td>0.0</td>\n",
       "      <td>0.0</td>\n",
       "      <td>0.0</td>\n",
       "      <td>0.0</td>\n",
       "      <td>2.907879</td>\n",
       "      <td>4.708859</td>\n",
       "      <td>0.642123</td>\n",
       "      <td>1.531366</td>\n",
       "      <td>70.0</td>\n",
       "      <td>10.0</td>\n",
       "      <td>0.0</td>\n",
       "      <td>13.0</td>\n",
       "      <td>7.781881</td>\n",
       "      <td>33.326834</td>\n",
       "      <td>50.763529</td>\n",
       "      <td>23.409773</td>\n",
       "      <td>8.44</td>\n",
       "      <td>4.97</td>\n",
       "      <td>0.61</td>\n",
       "      <td>3.61</td>\n",
       "      <td>17.63</td>\n",
       "      <td>63.000000</td>\n",
       "      <td>63.000000</td>\n",
       "      <td>3.119980</td>\n",
       "      <td>1.966886</td>\n",
       "      <td>1.607073e-08</td>\n",
       "      <td>0.363509</td>\n",
       "      <td>3.119980</td>\n",
       "      <td>1.966886</td>\n",
       "      <td>1.607073e-08</td>\n",
       "      <td>0.363509</td>\n",
       "      <td>1.523626</td>\n",
       "      <td>11.60120</td>\n",
       "      <td>26.64799</td>\n",
       "      <td>14.94319</td>\n",
       "      <td>13.679002</td>\n",
       "      <td>16.29</td>\n",
       "      <td>31.12</td>\n",
       "      <td>40.06</td>\n",
       "      <td>34.65</td>\n",
       "      <td>-13.88</td>\n",
       "      <td>-6.36</td>\n",
       "      <td>12.27</td>\n",
       "      <td>-6.42</td>\n",
       "      <td>0.280552</td>\n",
       "      <td>3.581023</td>\n",
       "      <td>0.000000</td>\n",
       "      <td>0.188298</td>\n",
       "      <td>0.106329</td>\n",
       "      <td>0.082319</td>\n",
       "      <td>0.040722</td>\n",
       "      <td>0.049086</td>\n",
       "      <td>0.106329</td>\n",
       "      <td>0.082319</td>\n",
       "      <td>0.040722</td>\n",
       "      <td>0.049086</td>\n",
       "      <td>87.0</td>\n",
       "      <td>65.0</td>\n",
       "      <td>0.0</td>\n",
       "      <td>25.0</td>\n",
       "      <td>87.0</td>\n",
       "      <td>65.0</td>\n",
       "      <td>0.0</td>\n",
       "      <td>25.0</td>\n",
       "    </tr>\n",
       "    <tr>\n",
       "      <th>1600</th>\n",
       "      <td>NABR</td>\n",
       "      <td>-110.0472</td>\n",
       "      <td>37.60413</td>\n",
       "      <td>Shrubland</td>\n",
       "      <td>2060</td>\n",
       "      <td>LT</td>\n",
       "      <td>4.5</td>\n",
       "      <td>sc23</td>\n",
       "      <td>0</td>\n",
       "      <td>0</td>\n",
       "      <td>84</td>\n",
       "      <td>5</td>\n",
       "      <td>11</td>\n",
       "      <td>7</td>\n",
       "      <td>1764.955</td>\n",
       "      <td>77.03307</td>\n",
       "      <td>6.082058</td>\n",
       "      <td>2.285707</td>\n",
       "      <td>54.57202</td>\n",
       "      <td>1949.283</td>\n",
       "      <td>-8753.784</td>\n",
       "      <td>4834.13</td>\n",
       "      <td>-0.217127</td>\n",
       "      <td>0.0</td>\n",
       "      <td>0.0</td>\n",
       "      <td>0.0</td>\n",
       "      <td>0.0</td>\n",
       "      <td>0.0</td>\n",
       "      <td>0.0</td>\n",
       "      <td>0.0</td>\n",
       "      <td>0.0</td>\n",
       "      <td>2.843635</td>\n",
       "      <td>3.461466</td>\n",
       "      <td>3.846861</td>\n",
       "      <td>1.454207</td>\n",
       "      <td>75.0</td>\n",
       "      <td>9.0</td>\n",
       "      <td>0.0</td>\n",
       "      <td>6.0</td>\n",
       "      <td>8.172592</td>\n",
       "      <td>34.158201</td>\n",
       "      <td>50.424866</td>\n",
       "      <td>22.640165</td>\n",
       "      <td>8.75</td>\n",
       "      <td>4.38</td>\n",
       "      <td>5.98</td>\n",
       "      <td>1.88</td>\n",
       "      <td>20.99</td>\n",
       "      <td>40.400000</td>\n",
       "      <td>40.400000</td>\n",
       "      <td>4.407571</td>\n",
       "      <td>1.737143</td>\n",
       "      <td>8.857336e-03</td>\n",
       "      <td>0.001893</td>\n",
       "      <td>4.407571</td>\n",
       "      <td>1.737143</td>\n",
       "      <td>8.857336e-03</td>\n",
       "      <td>0.001893</td>\n",
       "      <td>2.348407</td>\n",
       "      <td>12.76103</td>\n",
       "      <td>26.22141</td>\n",
       "      <td>13.95225</td>\n",
       "      <td>13.820774</td>\n",
       "      <td>19.29</td>\n",
       "      <td>33.70</td>\n",
       "      <td>40.04</td>\n",
       "      <td>30.81</td>\n",
       "      <td>-12.70</td>\n",
       "      <td>-4.63</td>\n",
       "      <td>11.82</td>\n",
       "      <td>-3.02</td>\n",
       "      <td>0.293733</td>\n",
       "      <td>3.307550</td>\n",
       "      <td>2.118463</td>\n",
       "      <td>0.181976</td>\n",
       "      <td>0.132816</td>\n",
       "      <td>0.077262</td>\n",
       "      <td>0.041817</td>\n",
       "      <td>0.041410</td>\n",
       "      <td>0.132816</td>\n",
       "      <td>0.077262</td>\n",
       "      <td>0.041817</td>\n",
       "      <td>0.041410</td>\n",
       "      <td>91.0</td>\n",
       "      <td>63.0</td>\n",
       "      <td>5.0</td>\n",
       "      <td>5.0</td>\n",
       "      <td>91.0</td>\n",
       "      <td>63.0</td>\n",
       "      <td>5.0</td>\n",
       "      <td>5.0</td>\n",
       "    </tr>\n",
       "    <tr>\n",
       "      <th>1601</th>\n",
       "      <td>NABR</td>\n",
       "      <td>-110.0472</td>\n",
       "      <td>37.60413</td>\n",
       "      <td>Shrubland</td>\n",
       "      <td>2060</td>\n",
       "      <td>LT</td>\n",
       "      <td>4.5</td>\n",
       "      <td>sc24</td>\n",
       "      <td>0</td>\n",
       "      <td>0</td>\n",
       "      <td>84</td>\n",
       "      <td>5</td>\n",
       "      <td>11</td>\n",
       "      <td>7</td>\n",
       "      <td>1764.955</td>\n",
       "      <td>77.03307</td>\n",
       "      <td>6.082058</td>\n",
       "      <td>2.285707</td>\n",
       "      <td>54.57202</td>\n",
       "      <td>1949.283</td>\n",
       "      <td>-8753.784</td>\n",
       "      <td>4834.13</td>\n",
       "      <td>0.366019</td>\n",
       "      <td>0.0</td>\n",
       "      <td>0.0</td>\n",
       "      <td>0.0</td>\n",
       "      <td>0.0</td>\n",
       "      <td>0.0</td>\n",
       "      <td>0.0</td>\n",
       "      <td>0.0</td>\n",
       "      <td>0.0</td>\n",
       "      <td>2.740742</td>\n",
       "      <td>4.679676</td>\n",
       "      <td>4.247483</td>\n",
       "      <td>3.697870</td>\n",
       "      <td>70.0</td>\n",
       "      <td>9.0</td>\n",
       "      <td>0.0</td>\n",
       "      <td>13.0</td>\n",
       "      <td>7.935811</td>\n",
       "      <td>34.536825</td>\n",
       "      <td>50.476456</td>\n",
       "      <td>23.282033</td>\n",
       "      <td>3.59</td>\n",
       "      <td>6.47</td>\n",
       "      <td>11.10</td>\n",
       "      <td>5.83</td>\n",
       "      <td>26.99</td>\n",
       "      <td>24.200000</td>\n",
       "      <td>24.200000</td>\n",
       "      <td>4.120687</td>\n",
       "      <td>1.511738</td>\n",
       "      <td>4.263323e-01</td>\n",
       "      <td>0.893099</td>\n",
       "      <td>4.120687</td>\n",
       "      <td>1.511738</td>\n",
       "      <td>4.263323e-01</td>\n",
       "      <td>0.893099</td>\n",
       "      <td>1.946538</td>\n",
       "      <td>13.04641</td>\n",
       "      <td>26.32337</td>\n",
       "      <td>14.39610</td>\n",
       "      <td>13.928104</td>\n",
       "      <td>11.32</td>\n",
       "      <td>34.23</td>\n",
       "      <td>37.95</td>\n",
       "      <td>32.78</td>\n",
       "      <td>-13.57</td>\n",
       "      <td>-4.62</td>\n",
       "      <td>11.80</td>\n",
       "      <td>-12.89</td>\n",
       "      <td>0.380315</td>\n",
       "      <td>4.173299</td>\n",
       "      <td>4.888816</td>\n",
       "      <td>2.521452</td>\n",
       "      <td>0.126933</td>\n",
       "      <td>0.073355</td>\n",
       "      <td>0.050374</td>\n",
       "      <td>0.060283</td>\n",
       "      <td>0.126933</td>\n",
       "      <td>0.073355</td>\n",
       "      <td>0.050374</td>\n",
       "      <td>0.060283</td>\n",
       "      <td>91.0</td>\n",
       "      <td>63.0</td>\n",
       "      <td>23.0</td>\n",
       "      <td>68.0</td>\n",
       "      <td>91.0</td>\n",
       "      <td>63.0</td>\n",
       "      <td>23.0</td>\n",
       "      <td>68.0</td>\n",
       "    </tr>\n",
       "    <tr>\n",
       "      <th>1602</th>\n",
       "      <td>NABR</td>\n",
       "      <td>-110.0472</td>\n",
       "      <td>37.60413</td>\n",
       "      <td>Shrubland</td>\n",
       "      <td>2060</td>\n",
       "      <td>LT</td>\n",
       "      <td>4.5</td>\n",
       "      <td>sc25</td>\n",
       "      <td>0</td>\n",
       "      <td>0</td>\n",
       "      <td>84</td>\n",
       "      <td>5</td>\n",
       "      <td>11</td>\n",
       "      <td>7</td>\n",
       "      <td>1764.955</td>\n",
       "      <td>77.03307</td>\n",
       "      <td>6.082058</td>\n",
       "      <td>2.285707</td>\n",
       "      <td>54.57202</td>\n",
       "      <td>1949.283</td>\n",
       "      <td>-8753.784</td>\n",
       "      <td>4834.13</td>\n",
       "      <td>-0.407403</td>\n",
       "      <td>0.0</td>\n",
       "      <td>0.0</td>\n",
       "      <td>0.0</td>\n",
       "      <td>0.0</td>\n",
       "      <td>0.0</td>\n",
       "      <td>0.0</td>\n",
       "      <td>0.0</td>\n",
       "      <td>0.0</td>\n",
       "      <td>3.613789</td>\n",
       "      <td>4.940038</td>\n",
       "      <td>3.564583</td>\n",
       "      <td>3.326827</td>\n",
       "      <td>63.0</td>\n",
       "      <td>0.0</td>\n",
       "      <td>0.0</td>\n",
       "      <td>15.0</td>\n",
       "      <td>8.008695</td>\n",
       "      <td>34.455424</td>\n",
       "      <td>49.131632</td>\n",
       "      <td>23.458115</td>\n",
       "      <td>15.58</td>\n",
       "      <td>6.33</td>\n",
       "      <td>8.15</td>\n",
       "      <td>7.44</td>\n",
       "      <td>37.50</td>\n",
       "      <td>23.666667</td>\n",
       "      <td>23.666667</td>\n",
       "      <td>2.395083</td>\n",
       "      <td>2.464127</td>\n",
       "      <td>2.493947e-01</td>\n",
       "      <td>1.760001</td>\n",
       "      <td>2.395083</td>\n",
       "      <td>2.464127</td>\n",
       "      <td>2.493947e-01</td>\n",
       "      <td>1.760001</td>\n",
       "      <td>1.689780</td>\n",
       "      <td>13.16804</td>\n",
       "      <td>24.61783</td>\n",
       "      <td>14.82115</td>\n",
       "      <td>13.574200</td>\n",
       "      <td>15.39</td>\n",
       "      <td>38.88</td>\n",
       "      <td>38.28</td>\n",
       "      <td>34.64</td>\n",
       "      <td>-13.29</td>\n",
       "      <td>0.37</td>\n",
       "      <td>8.03</td>\n",
       "      <td>-5.31</td>\n",
       "      <td>0.186387</td>\n",
       "      <td>4.341028</td>\n",
       "      <td>4.408786</td>\n",
       "      <td>1.029364</td>\n",
       "      <td>0.091438</td>\n",
       "      <td>0.092356</td>\n",
       "      <td>0.046602</td>\n",
       "      <td>0.078067</td>\n",
       "      <td>0.091438</td>\n",
       "      <td>0.092356</td>\n",
       "      <td>0.046602</td>\n",
       "      <td>0.078067</td>\n",
       "      <td>79.0</td>\n",
       "      <td>67.0</td>\n",
       "      <td>20.0</td>\n",
       "      <td>58.0</td>\n",
       "      <td>79.0</td>\n",
       "      <td>67.0</td>\n",
       "      <td>20.0</td>\n",
       "      <td>58.0</td>\n",
       "    </tr>\n",
       "    <tr>\n",
       "      <th>1603</th>\n",
       "      <td>NABR</td>\n",
       "      <td>-110.0472</td>\n",
       "      <td>37.60413</td>\n",
       "      <td>Shrubland</td>\n",
       "      <td>2060</td>\n",
       "      <td>LT</td>\n",
       "      <td>4.5</td>\n",
       "      <td>sc26</td>\n",
       "      <td>0</td>\n",
       "      <td>0</td>\n",
       "      <td>84</td>\n",
       "      <td>5</td>\n",
       "      <td>11</td>\n",
       "      <td>7</td>\n",
       "      <td>1764.955</td>\n",
       "      <td>77.03307</td>\n",
       "      <td>6.082058</td>\n",
       "      <td>2.285707</td>\n",
       "      <td>54.57202</td>\n",
       "      <td>1949.283</td>\n",
       "      <td>-8753.784</td>\n",
       "      <td>4834.13</td>\n",
       "      <td>-0.087216</td>\n",
       "      <td>0.0</td>\n",
       "      <td>0.0</td>\n",
       "      <td>0.0</td>\n",
       "      <td>0.0</td>\n",
       "      <td>0.0</td>\n",
       "      <td>0.0</td>\n",
       "      <td>0.0</td>\n",
       "      <td>0.0</td>\n",
       "      <td>3.395583</td>\n",
       "      <td>6.042531</td>\n",
       "      <td>3.705717</td>\n",
       "      <td>5.500204</td>\n",
       "      <td>72.0</td>\n",
       "      <td>14.0</td>\n",
       "      <td>0.0</td>\n",
       "      <td>12.0</td>\n",
       "      <td>8.261994</td>\n",
       "      <td>32.050555</td>\n",
       "      <td>49.149953</td>\n",
       "      <td>22.098350</td>\n",
       "      <td>15.65</td>\n",
       "      <td>6.78</td>\n",
       "      <td>11.48</td>\n",
       "      <td>10.27</td>\n",
       "      <td>44.18</td>\n",
       "      <td>25.500000</td>\n",
       "      <td>25.500000</td>\n",
       "      <td>3.407297</td>\n",
       "      <td>2.214748</td>\n",
       "      <td>4.426783e-01</td>\n",
       "      <td>3.777940</td>\n",
       "      <td>3.407297</td>\n",
       "      <td>2.214748</td>\n",
       "      <td>4.426783e-01</td>\n",
       "      <td>3.777940</td>\n",
       "      <td>2.741758</td>\n",
       "      <td>10.18060</td>\n",
       "      <td>24.65576</td>\n",
       "      <td>12.54440</td>\n",
       "      <td>12.530629</td>\n",
       "      <td>18.56</td>\n",
       "      <td>28.74</td>\n",
       "      <td>38.71</td>\n",
       "      <td>32.17</td>\n",
       "      <td>-11.23</td>\n",
       "      <td>-3.96</td>\n",
       "      <td>5.58</td>\n",
       "      <td>-6.34</td>\n",
       "      <td>0.315034</td>\n",
       "      <td>3.982649</td>\n",
       "      <td>2.075201</td>\n",
       "      <td>3.113481</td>\n",
       "      <td>0.112248</td>\n",
       "      <td>0.087767</td>\n",
       "      <td>0.050815</td>\n",
       "      <td>0.119898</td>\n",
       "      <td>0.112248</td>\n",
       "      <td>0.087767</td>\n",
       "      <td>0.050815</td>\n",
       "      <td>0.119898</td>\n",
       "      <td>90.0</td>\n",
       "      <td>70.0</td>\n",
       "      <td>13.0</td>\n",
       "      <td>91.0</td>\n",
       "      <td>90.0</td>\n",
       "      <td>70.0</td>\n",
       "      <td>13.0</td>\n",
       "      <td>91.0</td>\n",
       "    </tr>\n",
       "  </tbody>\n",
       "</table>\n",
       "</div>"
      ],
      "text/plain": [
       "      Park      long       lat        veg  year TimePeriod  RCP scenario  \\\n",
       "1599  NABR -110.0472  37.60413  Shrubland  2060         LT  4.5     sc22   \n",
       "1600  NABR -110.0472  37.60413  Shrubland  2060         LT  4.5     sc23   \n",
       "1601  NABR -110.0472  37.60413  Shrubland  2060         LT  4.5     sc24   \n",
       "1602  NABR -110.0472  37.60413  Shrubland  2060         LT  4.5     sc25   \n",
       "1603  NABR -110.0472  37.60413  Shrubland  2060         LT  4.5     sc26   \n",
       "\n",
       "      treecanopy  Ann_Herb  Bare  Herb  Litter  Shrub        El        Sa  \\\n",
       "1599           0         0    84     5      11      7  1764.955  77.03307   \n",
       "1600           0         0    84     5      11      7  1764.955  77.03307   \n",
       "1601           0         0    84     5      11      7  1764.955  77.03307   \n",
       "1602           0         0    84     5      11      7  1764.955  77.03307   \n",
       "1603           0         0    84     5      11      7  1764.955  77.03307   \n",
       "\n",
       "            Cl        RF        RL     Slope         E        S  T_P_Corr  \\\n",
       "1599  6.082058  2.285707  54.57202  1949.283 -8753.784  4834.13 -0.767645   \n",
       "1600  6.082058  2.285707  54.57202  1949.283 -8753.784  4834.13 -0.217127   \n",
       "1601  6.082058  2.285707  54.57202  1949.283 -8753.784  4834.13  0.366019   \n",
       "1602  6.082058  2.285707  54.57202  1949.283 -8753.784  4834.13 -0.407403   \n",
       "1603  6.082058  2.285707  54.57202  1949.283 -8753.784  4834.13 -0.087216   \n",
       "\n",
       "      DrySoilDays_Winter_top50  DrySoilDays_Spring_top50  \\\n",
       "1599                       0.0                       0.0   \n",
       "1600                       0.0                       0.0   \n",
       "1601                       0.0                       0.0   \n",
       "1602                       0.0                       0.0   \n",
       "1603                       0.0                       0.0   \n",
       "\n",
       "      DrySoilDays_Summer_top50  DrySoilDays_Fall_top50  \\\n",
       "1599                       0.0                     0.0   \n",
       "1600                       0.0                     0.0   \n",
       "1601                       0.0                     0.0   \n",
       "1602                       0.0                     0.0   \n",
       "1603                       0.0                     0.0   \n",
       "\n",
       "      DrySoilDays_Winter_whole  DrySoilDays_Spring_whole  \\\n",
       "1599                       0.0                       0.0   \n",
       "1600                       0.0                       0.0   \n",
       "1601                       0.0                       0.0   \n",
       "1602                       0.0                       0.0   \n",
       "1603                       0.0                       0.0   \n",
       "\n",
       "      DrySoilDays_Summer_whole  DrySoilDays_Fall_whole  Evap_Winter  \\\n",
       "1599                       0.0                     0.0     2.907879   \n",
       "1600                       0.0                     0.0     2.843635   \n",
       "1601                       0.0                     0.0     2.740742   \n",
       "1602                       0.0                     0.0     3.613789   \n",
       "1603                       0.0                     0.0     3.395583   \n",
       "\n",
       "      Evap_Spring  Evap_Summer  Evap_Fall  FrostDays_Winter  FrostDays_Spring  \\\n",
       "1599     4.708859     0.642123   1.531366              70.0              10.0   \n",
       "1600     3.461466     3.846861   1.454207              75.0               9.0   \n",
       "1601     4.679676     4.247483   3.697870              70.0               9.0   \n",
       "1602     4.940038     3.564583   3.326827              63.0               0.0   \n",
       "1603     6.042531     3.705717   5.500204              72.0              14.0   \n",
       "\n",
       "      FrostDays_Summer  FrostDays_Fall  PET_Winter  PET_Spring  PET_Summer  \\\n",
       "1599               0.0            13.0    7.781881   33.326834   50.763529   \n",
       "1600               0.0             6.0    8.172592   34.158201   50.424866   \n",
       "1601               0.0            13.0    7.935811   34.536825   50.476456   \n",
       "1602               0.0            15.0    8.008695   34.455424   49.131632   \n",
       "1603               0.0            12.0    8.261994   32.050555   49.149953   \n",
       "\n",
       "       PET_Fall  PPT_Winter  PPT_Spring  PPT_Summer  PPT_Fall  PPT_Annual  \\\n",
       "1599  23.409773        8.44        4.97        0.61      3.61       17.63   \n",
       "1600  22.640165        8.75        4.38        5.98      1.88       20.99   \n",
       "1601  23.282033        3.59        6.47       11.10      5.83       26.99   \n",
       "1602  23.458115       15.58        6.33        8.15      7.44       37.50   \n",
       "1603  22.098350       15.65        6.78       11.48     10.27       44.18   \n",
       "\n",
       "      SemiDryDuration_Annual_top50  SemiDryDuration_Annual_whole  \\\n",
       "1599                     63.000000                     63.000000   \n",
       "1600                     40.400000                     40.400000   \n",
       "1601                     24.200000                     24.200000   \n",
       "1602                     23.666667                     23.666667   \n",
       "1603                     25.500000                     25.500000   \n",
       "\n",
       "      SWA_Winter_top50  SWA_Spring_top50  SWA_Summer_top50  SWA_Fall_top50  \\\n",
       "1599          3.119980          1.966886      1.607073e-08        0.363509   \n",
       "1600          4.407571          1.737143      8.857336e-03        0.001893   \n",
       "1601          4.120687          1.511738      4.263323e-01        0.893099   \n",
       "1602          2.395083          2.464127      2.493947e-01        1.760001   \n",
       "1603          3.407297          2.214748      4.426783e-01        3.777940   \n",
       "\n",
       "      SWA_Winter_whole  SWA_Spring_whole  SWA_Summer_whole  SWA_Fall_whole  \\\n",
       "1599          3.119980          1.966886      1.607073e-08        0.363509   \n",
       "1600          4.407571          1.737143      8.857336e-03        0.001893   \n",
       "1601          4.120687          1.511738      4.263323e-01        0.893099   \n",
       "1602          2.395083          2.464127      2.493947e-01        1.760001   \n",
       "1603          3.407297          2.214748      4.426783e-01        3.777940   \n",
       "\n",
       "      T_Winter  T_Spring  T_Summer    T_Fall   T_Annual  Tmax_Winter  \\\n",
       "1599  1.523626  11.60120  26.64799  14.94319  13.679002        16.29   \n",
       "1600  2.348407  12.76103  26.22141  13.95225  13.820774        19.29   \n",
       "1601  1.946538  13.04641  26.32337  14.39610  13.928104        11.32   \n",
       "1602  1.689780  13.16804  24.61783  14.82115  13.574200        15.39   \n",
       "1603  2.741758  10.18060  24.65576  12.54440  12.530629        18.56   \n",
       "\n",
       "      Tmax_Spring  Tmax_Summer  Tmax_Fall  Tmin_Winter  Tmin_Spring  \\\n",
       "1599        31.12        40.06      34.65       -13.88        -6.36   \n",
       "1600        33.70        40.04      30.81       -12.70        -4.63   \n",
       "1601        34.23        37.95      32.78       -13.57        -4.62   \n",
       "1602        38.88        38.28      34.64       -13.29         0.37   \n",
       "1603        28.74        38.71      32.17       -11.23        -3.96   \n",
       "\n",
       "      Tmin_Summer  Tmin_Fall  Transp_Winter  Transp_Spring  Transp_Summer  \\\n",
       "1599        12.27      -6.42       0.280552       3.581023       0.000000   \n",
       "1600        11.82      -3.02       0.293733       3.307550       2.118463   \n",
       "1601        11.80     -12.89       0.380315       4.173299       4.888816   \n",
       "1602         8.03      -5.31       0.186387       4.341028       4.408786   \n",
       "1603         5.58      -6.34       0.315034       3.982649       2.075201   \n",
       "\n",
       "      Transp_Fall  VWC_Winter_top50  VWC_Spring_top50  VWC_Summer_top50  \\\n",
       "1599     0.188298          0.106329          0.082319          0.040722   \n",
       "1600     0.181976          0.132816          0.077262          0.041817   \n",
       "1601     2.521452          0.126933          0.073355          0.050374   \n",
       "1602     1.029364          0.091438          0.092356          0.046602   \n",
       "1603     3.113481          0.112248          0.087767          0.050815   \n",
       "\n",
       "      VWC_Fall_top50  VWC_Winter_whole  VWC_Spring_whole  VWC_Summer_whole  \\\n",
       "1599        0.049086          0.106329          0.082319          0.040722   \n",
       "1600        0.041410          0.132816          0.077262          0.041817   \n",
       "1601        0.060283          0.126933          0.073355          0.050374   \n",
       "1602        0.078067          0.091438          0.092356          0.046602   \n",
       "1603        0.119898          0.112248          0.087767          0.050815   \n",
       "\n",
       "      VWC_Fall_whole  WetSoilDays_Winter_top50  WetSoilDays_Spring_top50  \\\n",
       "1599        0.049086                      87.0                      65.0   \n",
       "1600        0.041410                      91.0                      63.0   \n",
       "1601        0.060283                      91.0                      63.0   \n",
       "1602        0.078067                      79.0                      67.0   \n",
       "1603        0.119898                      90.0                      70.0   \n",
       "\n",
       "      WetSoilDays_Summer_top50  WetSoilDays_Fall_top50  \\\n",
       "1599                       0.0                    25.0   \n",
       "1600                       5.0                     5.0   \n",
       "1601                      23.0                    68.0   \n",
       "1602                      20.0                    58.0   \n",
       "1603                      13.0                    91.0   \n",
       "\n",
       "      WetSoilDays_Winter_whole  WetSoilDays_Spring_whole  \\\n",
       "1599                      87.0                      65.0   \n",
       "1600                      91.0                      63.0   \n",
       "1601                      91.0                      63.0   \n",
       "1602                      79.0                      67.0   \n",
       "1603                      90.0                      70.0   \n",
       "\n",
       "      WetSoilDays_Summer_whole  WetSoilDays_Fall_whole  \n",
       "1599                       0.0                    25.0  \n",
       "1600                       5.0                     5.0  \n",
       "1601                      23.0                    68.0  \n",
       "1602                      20.0                    58.0  \n",
       "1603                      13.0                    91.0  "
      ]
     },
     "execution_count": 50,
     "metadata": {},
     "output_type": "execute_result"
    }
   ],
   "source": [
    "#LT  head\n",
    "plot_df = df[df['TimePeriod'] == 'LT']\n",
    "plot_df.head()"
   ]
  },
  {
   "cell_type": "code",
   "execution_count": 71,
   "metadata": {},
   "outputs": [
    {
     "data": {
      "text/html": [
       "<div>\n",
       "<style scoped>\n",
       "    .dataframe tbody tr th:only-of-type {\n",
       "        vertical-align: middle;\n",
       "    }\n",
       "\n",
       "    .dataframe tbody tr th {\n",
       "        vertical-align: top;\n",
       "    }\n",
       "\n",
       "    .dataframe thead th {\n",
       "        text-align: right;\n",
       "    }\n",
       "</style>\n",
       "<table border=\"1\" class=\"dataframe\">\n",
       "  <thead>\n",
       "    <tr style=\"text-align: right;\">\n",
       "      <th></th>\n",
       "      <th>year</th>\n",
       "      <th>PPT_Annual</th>\n",
       "    </tr>\n",
       "  </thead>\n",
       "  <tbody>\n",
       "    <tr>\n",
       "      <th>count</th>\n",
       "      <td>117.000000</td>\n",
       "      <td>78.000000</td>\n",
       "    </tr>\n",
       "    <tr>\n",
       "      <th>mean</th>\n",
       "      <td>2040.000000</td>\n",
       "      <td>31.671506</td>\n",
       "    </tr>\n",
       "    <tr>\n",
       "      <th>std</th>\n",
       "      <td>11.303036</td>\n",
       "      <td>2.247758</td>\n",
       "    </tr>\n",
       "    <tr>\n",
       "      <th>min</th>\n",
       "      <td>2021.000000</td>\n",
       "      <td>26.934442</td>\n",
       "    </tr>\n",
       "    <tr>\n",
       "      <th>25%</th>\n",
       "      <td>2030.000000</td>\n",
       "      <td>29.981002</td>\n",
       "    </tr>\n",
       "    <tr>\n",
       "      <th>50%</th>\n",
       "      <td>2040.000000</td>\n",
       "      <td>31.658378</td>\n",
       "    </tr>\n",
       "    <tr>\n",
       "      <th>75%</th>\n",
       "      <td>2050.000000</td>\n",
       "      <td>33.057490</td>\n",
       "    </tr>\n",
       "    <tr>\n",
       "      <th>max</th>\n",
       "      <td>2059.000000</td>\n",
       "      <td>37.228088</td>\n",
       "    </tr>\n",
       "  </tbody>\n",
       "</table>\n",
       "</div>"
      ],
      "text/plain": [
       "              year  PPT_Annual\n",
       "count   117.000000   78.000000\n",
       "mean   2040.000000   31.671506\n",
       "std      11.303036    2.247758\n",
       "min    2021.000000   26.934442\n",
       "25%    2030.000000   29.981002\n",
       "50%    2040.000000   31.658378\n",
       "75%    2050.000000   33.057490\n",
       "max    2059.000000   37.228088"
      ]
     },
     "execution_count": 71,
     "metadata": {},
     "output_type": "execute_result"
    }
   ],
   "source": [
    "#NT  decription average \n",
    "plot_df = df[df['TimePeriod'] == 'NT']\n",
    "plot_df = plot_df.groupby(['year', 'RCP'])['PPT_Annual'].mean().reset_index()\n",
    "plot_df.describe()"
   ]
  },
  {
   "cell_type": "code",
   "execution_count": 72,
   "metadata": {},
   "outputs": [
    {
     "data": {
      "text/html": [
       "<div>\n",
       "<style scoped>\n",
       "    .dataframe tbody tr th:only-of-type {\n",
       "        vertical-align: middle;\n",
       "    }\n",
       "\n",
       "    .dataframe tbody tr th {\n",
       "        vertical-align: top;\n",
       "    }\n",
       "\n",
       "    .dataframe thead th {\n",
       "        text-align: right;\n",
       "    }\n",
       "</style>\n",
       "<table border=\"1\" class=\"dataframe\">\n",
       "  <thead>\n",
       "    <tr style=\"text-align: right;\">\n",
       "      <th></th>\n",
       "      <th>year</th>\n",
       "      <th>PPT_Annual</th>\n",
       "    </tr>\n",
       "  </thead>\n",
       "  <tbody>\n",
       "    <tr>\n",
       "      <th>count</th>\n",
       "      <td>120.000000</td>\n",
       "      <td>80.000000</td>\n",
       "    </tr>\n",
       "    <tr>\n",
       "      <th>mean</th>\n",
       "      <td>2079.500000</td>\n",
       "      <td>31.918249</td>\n",
       "    </tr>\n",
       "    <tr>\n",
       "      <th>std</th>\n",
       "      <td>11.591797</td>\n",
       "      <td>2.215402</td>\n",
       "    </tr>\n",
       "    <tr>\n",
       "      <th>min</th>\n",
       "      <td>2060.000000</td>\n",
       "      <td>26.514252</td>\n",
       "    </tr>\n",
       "    <tr>\n",
       "      <th>25%</th>\n",
       "      <td>2069.750000</td>\n",
       "      <td>30.512907</td>\n",
       "    </tr>\n",
       "    <tr>\n",
       "      <th>50%</th>\n",
       "      <td>2079.500000</td>\n",
       "      <td>31.975617</td>\n",
       "    </tr>\n",
       "    <tr>\n",
       "      <th>75%</th>\n",
       "      <td>2089.250000</td>\n",
       "      <td>33.277389</td>\n",
       "    </tr>\n",
       "    <tr>\n",
       "      <th>max</th>\n",
       "      <td>2099.000000</td>\n",
       "      <td>37.224332</td>\n",
       "    </tr>\n",
       "  </tbody>\n",
       "</table>\n",
       "</div>"
      ],
      "text/plain": [
       "              year  PPT_Annual\n",
       "count   120.000000   80.000000\n",
       "mean   2079.500000   31.918249\n",
       "std      11.591797    2.215402\n",
       "min    2060.000000   26.514252\n",
       "25%    2069.750000   30.512907\n",
       "50%    2079.500000   31.975617\n",
       "75%    2089.250000   33.277389\n",
       "max    2099.000000   37.224332"
      ]
     },
     "execution_count": 72,
     "metadata": {},
     "output_type": "execute_result"
    }
   ],
   "source": [
    "#LT  decription average \n",
    "plot_df = df[df['TimePeriod'] == 'LT']\n",
    "plot_df = plot_df.groupby(['year', 'RCP'])['PPT_Annual'].mean().reset_index()\n",
    "plot_df.describe()"
   ]
  },
  {
   "cell_type": "code",
   "execution_count": 52,
   "metadata": {},
   "outputs": [
    {
     "name": "stdout",
     "output_type": "stream",
     "text": [
      "Hist: 39 | [1980 1981 1982 1983 1984 1985 1986 1987 1988 1989 1990 1991 1992 1993\n",
      " 1994 1995 1996 1997 1998 1999 2000 2001 2002 2003 2004 2005 2006 2007\n",
      " 2008 2009 2010 2011 2012 2013 2014 2015 2016 2017 2018]\n",
      "\n",
      "Near Term: 39 | [2021 2022 2023 2024 2025 2026 2027 2028 2029 2030 2031 2032 2033 2034\n",
      " 2035 2036 2037 2038 2039 2040 2041 2042 2043 2044 2045 2046 2047 2048\n",
      " 2049 2050 2051 2052 2053 2054 2055 2056 2057 2058 2059]\n",
      "\n",
      "Long Term: 40 | [2060 2061 2062 2063 2064 2065 2066 2067 2068 2069 2070 2071 2072 2073\n",
      " 2074 2075 2076 2077 2078 2079 2080 2081 2082 2083 2084 2085 2086 2087\n",
      " 2088 2089 2090 2091 2092 2093 2094 2095 2096 2097 2098 2099]\n"
     ]
    }
   ],
   "source": [
    "#find number of historic, near, and long term year\n",
    "period_years = df.groupby('TimePeriod')['year'].apply(lambda x: x.unique())\n",
    "# print the years per time period\n",
    "print('Hist:', len(period_years[0]), '|', period_years[0])\n",
    "print('\\nNear Term:', len(period_years[2]), '|', period_years[2])\n",
    "print('\\nLong Term:', len(period_years[1]), '|', period_years[1])"
   ]
  },
  {
   "cell_type": "code",
   "execution_count": 53,
   "metadata": {},
   "outputs": [
    {
     "name": "stdout",
     "output_type": "stream",
     "text": [
      "Number of collection sites: 113\n"
     ]
    }
   ],
   "source": [
    "#find the number of collection sites\n",
    "sites = len(df[['long', 'lat']].value_counts())\n",
    "print('Number of collection sites:', sites)"
   ]
  },
  {
   "cell_type": "code",
   "execution_count": 54,
   "metadata": {},
   "outputs": [
    {
     "name": "stdout",
     "output_type": "stream",
     "text": [
      "Hist: 1 | ['historical']\n",
      "Categories (3, object): ['4.5', '8.5', 'historical']\n",
      "\n",
      "Near Term: 2 | ['4.5', '8.5']\n",
      "Categories (3, object): ['4.5', '8.5', 'historical']\n",
      "\n",
      "Long Term: 2 | ['4.5', '8.5']\n",
      "Categories (3, object): ['4.5', '8.5', 'historical']\n"
     ]
    }
   ],
   "source": [
    "#find number of historic, near, and long term representative concentration pathways (RCP)\n",
    "period_years = df.groupby('TimePeriod')['RCP'].apply(lambda x: x.unique())\n",
    "# print the years per time period\n",
    "print('Hist:', len(period_years[0]), '|', period_years[0])\n",
    "print('\\nNear Term:', len(period_years[2]), '|', period_years[2])\n",
    "print('\\nLong Term:', len(period_years[1]), '|', period_years[1])"
   ]
  },
  {
   "cell_type": "code",
   "execution_count": 55,
   "metadata": {},
   "outputs": [
    {
     "name": "stdout",
     "output_type": "stream",
     "text": [
      "Hist: 1 | ['sc1']\n",
      "\n",
      "Near Term: 40 | ['sc22' 'sc23' 'sc24' 'sc25' 'sc26' 'sc27' 'sc28' 'sc29' 'sc30' 'sc31'\n",
      " 'sc32' 'sc33' 'sc34' 'sc35' 'sc36' 'sc37' 'sc38' 'sc39' 'sc40' 'sc41'\n",
      " 'sc42' 'sc43' 'sc44' 'sc45' 'sc46' 'sc47' 'sc48' 'sc49' 'sc50' 'sc51'\n",
      " 'sc52' 'sc53' 'sc54' 'sc55' 'sc56' 'sc57' 'sc58' 'sc59' 'sc60' 'sc61']\n",
      "\n",
      "Long Term: 40 | ['sc22' 'sc23' 'sc24' 'sc25' 'sc26' 'sc27' 'sc28' 'sc29' 'sc30' 'sc31'\n",
      " 'sc32' 'sc33' 'sc34' 'sc35' 'sc36' 'sc37' 'sc38' 'sc39' 'sc40' 'sc41'\n",
      " 'sc42' 'sc43' 'sc44' 'sc45' 'sc46' 'sc47' 'sc48' 'sc49' 'sc50' 'sc51'\n",
      " 'sc52' 'sc53' 'sc54' 'sc55' 'sc56' 'sc57' 'sc58' 'sc59' 'sc60' 'sc61']\n"
     ]
    }
   ],
   "source": [
    "#find number of historic, near, and long term scenario\n",
    "period_years = df.groupby('TimePeriod')['scenario'].apply(lambda x: x.unique())\n",
    "# print the years per time period\n",
    "print('Hist:', len(period_years[0]), '|', period_years[0])\n",
    "print('\\nNear Term:', len(period_years[2]), '|', period_years[2])\n",
    "print('\\nLong Term:', len(period_years[1]), '|', period_years[1])"
   ]
  },
  {
   "cell_type": "markdown",
   "metadata": {},
   "source": [
    "# Temperature"
   ]
  },
  {
   "cell_type": "code",
   "execution_count": 56,
   "metadata": {},
   "outputs": [
    {
     "data": {
      "application/vnd.plotly.v1+json": {
       "config": {
        "plotlyServerURL": "https://plot.ly"
       },
       "data": [
        {
         "hovertemplate": "Year=%{x}<br>Mean Anual Temperature (C)=%{y}<extra></extra>",
         "legendgroup": "",
         "line": {
          "color": "#636efa",
          "dash": "solid"
         },
         "marker": {
          "symbol": "circle"
         },
         "mode": "lines",
         "name": "",
         "orientation": "v",
         "showlegend": false,
         "type": "scatter",
         "x": [
          1980,
          1981,
          1982,
          1983,
          1984,
          1985,
          1986,
          1987,
          1988,
          1989,
          1990,
          1991,
          1992,
          1993,
          1994,
          1995,
          1996,
          1997,
          1998,
          1999,
          2000,
          2001,
          2002,
          2003,
          2004,
          2005,
          2006,
          2007,
          2008,
          2009,
          2010,
          2011,
          2012,
          2013,
          2014,
          2015,
          2016,
          2017,
          2018
         ],
         "xaxis": "x",
         "y": [
          10.925628456637167,
          11.879492278761061,
          10.026112953884956,
          9.885325243982301,
          9.80624325442478,
          10.257141047787611,
          10.954899457964602,
          10.453696257964602,
          10.493157309734514,
          10.889928294247788,
          11.015394886504424,
          9.693168688053097,
          10.466080336283186,
          9.775172756637167,
          11.141770851769913,
          10.872111778097345,
          11.645754519911506,
          10.891099096902655,
          10.561616754513274,
          11.199870054646016,
          11.44696709955752,
          11.670495122345132,
          10.92185996061947,
          11.72222578119469,
          10.553856576106195,
          11.025061617256638,
          11.04725642522124,
          11.529304378318583,
          9.867640668141592,
          10.610025465929203,
          9.86353742920354,
          10.345499139380532,
          11.786460098672567,
          10.265574497787611,
          10.982889488274337,
          11.175798915929205,
          10.981646712831859,
          11.955422425221238,
          12.013482265929204
         ],
         "yaxis": "y"
        }
       ],
       "layout": {
        "legend": {
         "tracegroupgap": 0
        },
        "template": {
         "data": {
          "bar": [
           {
            "error_x": {
             "color": "#2a3f5f"
            },
            "error_y": {
             "color": "#2a3f5f"
            },
            "marker": {
             "line": {
              "color": "#E5ECF6",
              "width": 0.5
             },
             "pattern": {
              "fillmode": "overlay",
              "size": 10,
              "solidity": 0.2
             }
            },
            "type": "bar"
           }
          ],
          "barpolar": [
           {
            "marker": {
             "line": {
              "color": "#E5ECF6",
              "width": 0.5
             },
             "pattern": {
              "fillmode": "overlay",
              "size": 10,
              "solidity": 0.2
             }
            },
            "type": "barpolar"
           }
          ],
          "carpet": [
           {
            "aaxis": {
             "endlinecolor": "#2a3f5f",
             "gridcolor": "white",
             "linecolor": "white",
             "minorgridcolor": "white",
             "startlinecolor": "#2a3f5f"
            },
            "baxis": {
             "endlinecolor": "#2a3f5f",
             "gridcolor": "white",
             "linecolor": "white",
             "minorgridcolor": "white",
             "startlinecolor": "#2a3f5f"
            },
            "type": "carpet"
           }
          ],
          "choropleth": [
           {
            "colorbar": {
             "outlinewidth": 0,
             "ticks": ""
            },
            "type": "choropleth"
           }
          ],
          "contour": [
           {
            "colorbar": {
             "outlinewidth": 0,
             "ticks": ""
            },
            "colorscale": [
             [
              0,
              "#0d0887"
             ],
             [
              0.1111111111111111,
              "#46039f"
             ],
             [
              0.2222222222222222,
              "#7201a8"
             ],
             [
              0.3333333333333333,
              "#9c179e"
             ],
             [
              0.4444444444444444,
              "#bd3786"
             ],
             [
              0.5555555555555556,
              "#d8576b"
             ],
             [
              0.6666666666666666,
              "#ed7953"
             ],
             [
              0.7777777777777778,
              "#fb9f3a"
             ],
             [
              0.8888888888888888,
              "#fdca26"
             ],
             [
              1,
              "#f0f921"
             ]
            ],
            "type": "contour"
           }
          ],
          "contourcarpet": [
           {
            "colorbar": {
             "outlinewidth": 0,
             "ticks": ""
            },
            "type": "contourcarpet"
           }
          ],
          "heatmap": [
           {
            "colorbar": {
             "outlinewidth": 0,
             "ticks": ""
            },
            "colorscale": [
             [
              0,
              "#0d0887"
             ],
             [
              0.1111111111111111,
              "#46039f"
             ],
             [
              0.2222222222222222,
              "#7201a8"
             ],
             [
              0.3333333333333333,
              "#9c179e"
             ],
             [
              0.4444444444444444,
              "#bd3786"
             ],
             [
              0.5555555555555556,
              "#d8576b"
             ],
             [
              0.6666666666666666,
              "#ed7953"
             ],
             [
              0.7777777777777778,
              "#fb9f3a"
             ],
             [
              0.8888888888888888,
              "#fdca26"
             ],
             [
              1,
              "#f0f921"
             ]
            ],
            "type": "heatmap"
           }
          ],
          "heatmapgl": [
           {
            "colorbar": {
             "outlinewidth": 0,
             "ticks": ""
            },
            "colorscale": [
             [
              0,
              "#0d0887"
             ],
             [
              0.1111111111111111,
              "#46039f"
             ],
             [
              0.2222222222222222,
              "#7201a8"
             ],
             [
              0.3333333333333333,
              "#9c179e"
             ],
             [
              0.4444444444444444,
              "#bd3786"
             ],
             [
              0.5555555555555556,
              "#d8576b"
             ],
             [
              0.6666666666666666,
              "#ed7953"
             ],
             [
              0.7777777777777778,
              "#fb9f3a"
             ],
             [
              0.8888888888888888,
              "#fdca26"
             ],
             [
              1,
              "#f0f921"
             ]
            ],
            "type": "heatmapgl"
           }
          ],
          "histogram": [
           {
            "marker": {
             "pattern": {
              "fillmode": "overlay",
              "size": 10,
              "solidity": 0.2
             }
            },
            "type": "histogram"
           }
          ],
          "histogram2d": [
           {
            "colorbar": {
             "outlinewidth": 0,
             "ticks": ""
            },
            "colorscale": [
             [
              0,
              "#0d0887"
             ],
             [
              0.1111111111111111,
              "#46039f"
             ],
             [
              0.2222222222222222,
              "#7201a8"
             ],
             [
              0.3333333333333333,
              "#9c179e"
             ],
             [
              0.4444444444444444,
              "#bd3786"
             ],
             [
              0.5555555555555556,
              "#d8576b"
             ],
             [
              0.6666666666666666,
              "#ed7953"
             ],
             [
              0.7777777777777778,
              "#fb9f3a"
             ],
             [
              0.8888888888888888,
              "#fdca26"
             ],
             [
              1,
              "#f0f921"
             ]
            ],
            "type": "histogram2d"
           }
          ],
          "histogram2dcontour": [
           {
            "colorbar": {
             "outlinewidth": 0,
             "ticks": ""
            },
            "colorscale": [
             [
              0,
              "#0d0887"
             ],
             [
              0.1111111111111111,
              "#46039f"
             ],
             [
              0.2222222222222222,
              "#7201a8"
             ],
             [
              0.3333333333333333,
              "#9c179e"
             ],
             [
              0.4444444444444444,
              "#bd3786"
             ],
             [
              0.5555555555555556,
              "#d8576b"
             ],
             [
              0.6666666666666666,
              "#ed7953"
             ],
             [
              0.7777777777777778,
              "#fb9f3a"
             ],
             [
              0.8888888888888888,
              "#fdca26"
             ],
             [
              1,
              "#f0f921"
             ]
            ],
            "type": "histogram2dcontour"
           }
          ],
          "mesh3d": [
           {
            "colorbar": {
             "outlinewidth": 0,
             "ticks": ""
            },
            "type": "mesh3d"
           }
          ],
          "parcoords": [
           {
            "line": {
             "colorbar": {
              "outlinewidth": 0,
              "ticks": ""
             }
            },
            "type": "parcoords"
           }
          ],
          "pie": [
           {
            "automargin": true,
            "type": "pie"
           }
          ],
          "scatter": [
           {
            "fillpattern": {
             "fillmode": "overlay",
             "size": 10,
             "solidity": 0.2
            },
            "type": "scatter"
           }
          ],
          "scatter3d": [
           {
            "line": {
             "colorbar": {
              "outlinewidth": 0,
              "ticks": ""
             }
            },
            "marker": {
             "colorbar": {
              "outlinewidth": 0,
              "ticks": ""
             }
            },
            "type": "scatter3d"
           }
          ],
          "scattercarpet": [
           {
            "marker": {
             "colorbar": {
              "outlinewidth": 0,
              "ticks": ""
             }
            },
            "type": "scattercarpet"
           }
          ],
          "scattergeo": [
           {
            "marker": {
             "colorbar": {
              "outlinewidth": 0,
              "ticks": ""
             }
            },
            "type": "scattergeo"
           }
          ],
          "scattergl": [
           {
            "marker": {
             "colorbar": {
              "outlinewidth": 0,
              "ticks": ""
             }
            },
            "type": "scattergl"
           }
          ],
          "scattermapbox": [
           {
            "marker": {
             "colorbar": {
              "outlinewidth": 0,
              "ticks": ""
             }
            },
            "type": "scattermapbox"
           }
          ],
          "scatterpolar": [
           {
            "marker": {
             "colorbar": {
              "outlinewidth": 0,
              "ticks": ""
             }
            },
            "type": "scatterpolar"
           }
          ],
          "scatterpolargl": [
           {
            "marker": {
             "colorbar": {
              "outlinewidth": 0,
              "ticks": ""
             }
            },
            "type": "scatterpolargl"
           }
          ],
          "scatterternary": [
           {
            "marker": {
             "colorbar": {
              "outlinewidth": 0,
              "ticks": ""
             }
            },
            "type": "scatterternary"
           }
          ],
          "surface": [
           {
            "colorbar": {
             "outlinewidth": 0,
             "ticks": ""
            },
            "colorscale": [
             [
              0,
              "#0d0887"
             ],
             [
              0.1111111111111111,
              "#46039f"
             ],
             [
              0.2222222222222222,
              "#7201a8"
             ],
             [
              0.3333333333333333,
              "#9c179e"
             ],
             [
              0.4444444444444444,
              "#bd3786"
             ],
             [
              0.5555555555555556,
              "#d8576b"
             ],
             [
              0.6666666666666666,
              "#ed7953"
             ],
             [
              0.7777777777777778,
              "#fb9f3a"
             ],
             [
              0.8888888888888888,
              "#fdca26"
             ],
             [
              1,
              "#f0f921"
             ]
            ],
            "type": "surface"
           }
          ],
          "table": [
           {
            "cells": {
             "fill": {
              "color": "#EBF0F8"
             },
             "line": {
              "color": "white"
             }
            },
            "header": {
             "fill": {
              "color": "#C8D4E3"
             },
             "line": {
              "color": "white"
             }
            },
            "type": "table"
           }
          ]
         },
         "layout": {
          "annotationdefaults": {
           "arrowcolor": "#2a3f5f",
           "arrowhead": 0,
           "arrowwidth": 1
          },
          "autotypenumbers": "strict",
          "coloraxis": {
           "colorbar": {
            "outlinewidth": 0,
            "ticks": ""
           }
          },
          "colorscale": {
           "diverging": [
            [
             0,
             "#8e0152"
            ],
            [
             0.1,
             "#c51b7d"
            ],
            [
             0.2,
             "#de77ae"
            ],
            [
             0.3,
             "#f1b6da"
            ],
            [
             0.4,
             "#fde0ef"
            ],
            [
             0.5,
             "#f7f7f7"
            ],
            [
             0.6,
             "#e6f5d0"
            ],
            [
             0.7,
             "#b8e186"
            ],
            [
             0.8,
             "#7fbc41"
            ],
            [
             0.9,
             "#4d9221"
            ],
            [
             1,
             "#276419"
            ]
           ],
           "sequential": [
            [
             0,
             "#0d0887"
            ],
            [
             0.1111111111111111,
             "#46039f"
            ],
            [
             0.2222222222222222,
             "#7201a8"
            ],
            [
             0.3333333333333333,
             "#9c179e"
            ],
            [
             0.4444444444444444,
             "#bd3786"
            ],
            [
             0.5555555555555556,
             "#d8576b"
            ],
            [
             0.6666666666666666,
             "#ed7953"
            ],
            [
             0.7777777777777778,
             "#fb9f3a"
            ],
            [
             0.8888888888888888,
             "#fdca26"
            ],
            [
             1,
             "#f0f921"
            ]
           ],
           "sequentialminus": [
            [
             0,
             "#0d0887"
            ],
            [
             0.1111111111111111,
             "#46039f"
            ],
            [
             0.2222222222222222,
             "#7201a8"
            ],
            [
             0.3333333333333333,
             "#9c179e"
            ],
            [
             0.4444444444444444,
             "#bd3786"
            ],
            [
             0.5555555555555556,
             "#d8576b"
            ],
            [
             0.6666666666666666,
             "#ed7953"
            ],
            [
             0.7777777777777778,
             "#fb9f3a"
            ],
            [
             0.8888888888888888,
             "#fdca26"
            ],
            [
             1,
             "#f0f921"
            ]
           ]
          },
          "colorway": [
           "#636efa",
           "#EF553B",
           "#00cc96",
           "#ab63fa",
           "#FFA15A",
           "#19d3f3",
           "#FF6692",
           "#B6E880",
           "#FF97FF",
           "#FECB52"
          ],
          "font": {
           "color": "#2a3f5f"
          },
          "geo": {
           "bgcolor": "white",
           "lakecolor": "white",
           "landcolor": "#E5ECF6",
           "showlakes": true,
           "showland": true,
           "subunitcolor": "white"
          },
          "hoverlabel": {
           "align": "left"
          },
          "hovermode": "closest",
          "mapbox": {
           "style": "light"
          },
          "paper_bgcolor": "white",
          "plot_bgcolor": "#E5ECF6",
          "polar": {
           "angularaxis": {
            "gridcolor": "white",
            "linecolor": "white",
            "ticks": ""
           },
           "bgcolor": "#E5ECF6",
           "radialaxis": {
            "gridcolor": "white",
            "linecolor": "white",
            "ticks": ""
           }
          },
          "scene": {
           "xaxis": {
            "backgroundcolor": "#E5ECF6",
            "gridcolor": "white",
            "gridwidth": 2,
            "linecolor": "white",
            "showbackground": true,
            "ticks": "",
            "zerolinecolor": "white"
           },
           "yaxis": {
            "backgroundcolor": "#E5ECF6",
            "gridcolor": "white",
            "gridwidth": 2,
            "linecolor": "white",
            "showbackground": true,
            "ticks": "",
            "zerolinecolor": "white"
           },
           "zaxis": {
            "backgroundcolor": "#E5ECF6",
            "gridcolor": "white",
            "gridwidth": 2,
            "linecolor": "white",
            "showbackground": true,
            "ticks": "",
            "zerolinecolor": "white"
           }
          },
          "shapedefaults": {
           "line": {
            "color": "#2a3f5f"
           }
          },
          "ternary": {
           "aaxis": {
            "gridcolor": "white",
            "linecolor": "white",
            "ticks": ""
           },
           "baxis": {
            "gridcolor": "white",
            "linecolor": "white",
            "ticks": ""
           },
           "bgcolor": "#E5ECF6",
           "caxis": {
            "gridcolor": "white",
            "linecolor": "white",
            "ticks": ""
           }
          },
          "title": {
           "x": 0.05
          },
          "xaxis": {
           "automargin": true,
           "gridcolor": "white",
           "linecolor": "white",
           "ticks": "",
           "title": {
            "standoff": 15
           },
           "zerolinecolor": "white",
           "zerolinewidth": 2
          },
          "yaxis": {
           "automargin": true,
           "gridcolor": "white",
           "linecolor": "white",
           "ticks": "",
           "title": {
            "standoff": 15
           },
           "zerolinecolor": "white",
           "zerolinewidth": 2
          }
         }
        },
        "title": {
         "text": "Mean Historical Temperature"
        },
        "xaxis": {
         "anchor": "y",
         "domain": [
          0,
          1
         ],
         "title": {
          "text": "Year"
         }
        },
        "yaxis": {
         "anchor": "x",
         "domain": [
          0,
          1
         ],
         "title": {
          "text": "Mean Anual Temperature (C)"
         }
        }
       }
      },
      "text/html": [
       "<div>                            <div id=\"060dd725-119f-46e8-a873-fe9a1b97172d\" class=\"plotly-graph-div\" style=\"height:525px; width:100%;\"></div>            <script type=\"text/javascript\">                require([\"plotly\"], function(Plotly) {                    window.PLOTLYENV=window.PLOTLYENV || {};                                    if (document.getElementById(\"060dd725-119f-46e8-a873-fe9a1b97172d\")) {                    Plotly.newPlot(                        \"060dd725-119f-46e8-a873-fe9a1b97172d\",                        [{\"hovertemplate\":\"Year=%{x}\\u003cbr\\u003eMean Anual Temperature (C)=%{y}\\u003cextra\\u003e\\u003c\\u002fextra\\u003e\",\"legendgroup\":\"\",\"line\":{\"color\":\"#636efa\",\"dash\":\"solid\"},\"marker\":{\"symbol\":\"circle\"},\"mode\":\"lines\",\"name\":\"\",\"orientation\":\"v\",\"showlegend\":false,\"x\":[1980,1981,1982,1983,1984,1985,1986,1987,1988,1989,1990,1991,1992,1993,1994,1995,1996,1997,1998,1999,2000,2001,2002,2003,2004,2005,2006,2007,2008,2009,2010,2011,2012,2013,2014,2015,2016,2017,2018],\"xaxis\":\"x\",\"y\":[10.925628456637167,11.879492278761061,10.026112953884956,9.885325243982301,9.80624325442478,10.257141047787611,10.954899457964602,10.453696257964602,10.493157309734514,10.889928294247788,11.015394886504424,9.693168688053097,10.466080336283186,9.775172756637167,11.141770851769913,10.872111778097345,11.645754519911506,10.891099096902655,10.561616754513274,11.199870054646016,11.44696709955752,11.670495122345132,10.92185996061947,11.72222578119469,10.553856576106195,11.025061617256638,11.04725642522124,11.529304378318583,9.867640668141592,10.610025465929203,9.86353742920354,10.345499139380532,11.786460098672567,10.265574497787611,10.982889488274337,11.175798915929205,10.981646712831859,11.955422425221238,12.013482265929204],\"yaxis\":\"y\",\"type\":\"scatter\"}],                        {\"template\":{\"data\":{\"histogram2dcontour\":[{\"type\":\"histogram2dcontour\",\"colorbar\":{\"outlinewidth\":0,\"ticks\":\"\"},\"colorscale\":[[0.0,\"#0d0887\"],[0.1111111111111111,\"#46039f\"],[0.2222222222222222,\"#7201a8\"],[0.3333333333333333,\"#9c179e\"],[0.4444444444444444,\"#bd3786\"],[0.5555555555555556,\"#d8576b\"],[0.6666666666666666,\"#ed7953\"],[0.7777777777777778,\"#fb9f3a\"],[0.8888888888888888,\"#fdca26\"],[1.0,\"#f0f921\"]]}],\"choropleth\":[{\"type\":\"choropleth\",\"colorbar\":{\"outlinewidth\":0,\"ticks\":\"\"}}],\"histogram2d\":[{\"type\":\"histogram2d\",\"colorbar\":{\"outlinewidth\":0,\"ticks\":\"\"},\"colorscale\":[[0.0,\"#0d0887\"],[0.1111111111111111,\"#46039f\"],[0.2222222222222222,\"#7201a8\"],[0.3333333333333333,\"#9c179e\"],[0.4444444444444444,\"#bd3786\"],[0.5555555555555556,\"#d8576b\"],[0.6666666666666666,\"#ed7953\"],[0.7777777777777778,\"#fb9f3a\"],[0.8888888888888888,\"#fdca26\"],[1.0,\"#f0f921\"]]}],\"heatmap\":[{\"type\":\"heatmap\",\"colorbar\":{\"outlinewidth\":0,\"ticks\":\"\"},\"colorscale\":[[0.0,\"#0d0887\"],[0.1111111111111111,\"#46039f\"],[0.2222222222222222,\"#7201a8\"],[0.3333333333333333,\"#9c179e\"],[0.4444444444444444,\"#bd3786\"],[0.5555555555555556,\"#d8576b\"],[0.6666666666666666,\"#ed7953\"],[0.7777777777777778,\"#fb9f3a\"],[0.8888888888888888,\"#fdca26\"],[1.0,\"#f0f921\"]]}],\"heatmapgl\":[{\"type\":\"heatmapgl\",\"colorbar\":{\"outlinewidth\":0,\"ticks\":\"\"},\"colorscale\":[[0.0,\"#0d0887\"],[0.1111111111111111,\"#46039f\"],[0.2222222222222222,\"#7201a8\"],[0.3333333333333333,\"#9c179e\"],[0.4444444444444444,\"#bd3786\"],[0.5555555555555556,\"#d8576b\"],[0.6666666666666666,\"#ed7953\"],[0.7777777777777778,\"#fb9f3a\"],[0.8888888888888888,\"#fdca26\"],[1.0,\"#f0f921\"]]}],\"contourcarpet\":[{\"type\":\"contourcarpet\",\"colorbar\":{\"outlinewidth\":0,\"ticks\":\"\"}}],\"contour\":[{\"type\":\"contour\",\"colorbar\":{\"outlinewidth\":0,\"ticks\":\"\"},\"colorscale\":[[0.0,\"#0d0887\"],[0.1111111111111111,\"#46039f\"],[0.2222222222222222,\"#7201a8\"],[0.3333333333333333,\"#9c179e\"],[0.4444444444444444,\"#bd3786\"],[0.5555555555555556,\"#d8576b\"],[0.6666666666666666,\"#ed7953\"],[0.7777777777777778,\"#fb9f3a\"],[0.8888888888888888,\"#fdca26\"],[1.0,\"#f0f921\"]]}],\"surface\":[{\"type\":\"surface\",\"colorbar\":{\"outlinewidth\":0,\"ticks\":\"\"},\"colorscale\":[[0.0,\"#0d0887\"],[0.1111111111111111,\"#46039f\"],[0.2222222222222222,\"#7201a8\"],[0.3333333333333333,\"#9c179e\"],[0.4444444444444444,\"#bd3786\"],[0.5555555555555556,\"#d8576b\"],[0.6666666666666666,\"#ed7953\"],[0.7777777777777778,\"#fb9f3a\"],[0.8888888888888888,\"#fdca26\"],[1.0,\"#f0f921\"]]}],\"mesh3d\":[{\"type\":\"mesh3d\",\"colorbar\":{\"outlinewidth\":0,\"ticks\":\"\"}}],\"scatter\":[{\"fillpattern\":{\"fillmode\":\"overlay\",\"size\":10,\"solidity\":0.2},\"type\":\"scatter\"}],\"parcoords\":[{\"type\":\"parcoords\",\"line\":{\"colorbar\":{\"outlinewidth\":0,\"ticks\":\"\"}}}],\"scatterpolargl\":[{\"type\":\"scatterpolargl\",\"marker\":{\"colorbar\":{\"outlinewidth\":0,\"ticks\":\"\"}}}],\"bar\":[{\"error_x\":{\"color\":\"#2a3f5f\"},\"error_y\":{\"color\":\"#2a3f5f\"},\"marker\":{\"line\":{\"color\":\"#E5ECF6\",\"width\":0.5},\"pattern\":{\"fillmode\":\"overlay\",\"size\":10,\"solidity\":0.2}},\"type\":\"bar\"}],\"scattergeo\":[{\"type\":\"scattergeo\",\"marker\":{\"colorbar\":{\"outlinewidth\":0,\"ticks\":\"\"}}}],\"scatterpolar\":[{\"type\":\"scatterpolar\",\"marker\":{\"colorbar\":{\"outlinewidth\":0,\"ticks\":\"\"}}}],\"histogram\":[{\"marker\":{\"pattern\":{\"fillmode\":\"overlay\",\"size\":10,\"solidity\":0.2}},\"type\":\"histogram\"}],\"scattergl\":[{\"type\":\"scattergl\",\"marker\":{\"colorbar\":{\"outlinewidth\":0,\"ticks\":\"\"}}}],\"scatter3d\":[{\"type\":\"scatter3d\",\"line\":{\"colorbar\":{\"outlinewidth\":0,\"ticks\":\"\"}},\"marker\":{\"colorbar\":{\"outlinewidth\":0,\"ticks\":\"\"}}}],\"scattermapbox\":[{\"type\":\"scattermapbox\",\"marker\":{\"colorbar\":{\"outlinewidth\":0,\"ticks\":\"\"}}}],\"scatterternary\":[{\"type\":\"scatterternary\",\"marker\":{\"colorbar\":{\"outlinewidth\":0,\"ticks\":\"\"}}}],\"scattercarpet\":[{\"type\":\"scattercarpet\",\"marker\":{\"colorbar\":{\"outlinewidth\":0,\"ticks\":\"\"}}}],\"carpet\":[{\"aaxis\":{\"endlinecolor\":\"#2a3f5f\",\"gridcolor\":\"white\",\"linecolor\":\"white\",\"minorgridcolor\":\"white\",\"startlinecolor\":\"#2a3f5f\"},\"baxis\":{\"endlinecolor\":\"#2a3f5f\",\"gridcolor\":\"white\",\"linecolor\":\"white\",\"minorgridcolor\":\"white\",\"startlinecolor\":\"#2a3f5f\"},\"type\":\"carpet\"}],\"table\":[{\"cells\":{\"fill\":{\"color\":\"#EBF0F8\"},\"line\":{\"color\":\"white\"}},\"header\":{\"fill\":{\"color\":\"#C8D4E3\"},\"line\":{\"color\":\"white\"}},\"type\":\"table\"}],\"barpolar\":[{\"marker\":{\"line\":{\"color\":\"#E5ECF6\",\"width\":0.5},\"pattern\":{\"fillmode\":\"overlay\",\"size\":10,\"solidity\":0.2}},\"type\":\"barpolar\"}],\"pie\":[{\"automargin\":true,\"type\":\"pie\"}]},\"layout\":{\"autotypenumbers\":\"strict\",\"colorway\":[\"#636efa\",\"#EF553B\",\"#00cc96\",\"#ab63fa\",\"#FFA15A\",\"#19d3f3\",\"#FF6692\",\"#B6E880\",\"#FF97FF\",\"#FECB52\"],\"font\":{\"color\":\"#2a3f5f\"},\"hovermode\":\"closest\",\"hoverlabel\":{\"align\":\"left\"},\"paper_bgcolor\":\"white\",\"plot_bgcolor\":\"#E5ECF6\",\"polar\":{\"bgcolor\":\"#E5ECF6\",\"angularaxis\":{\"gridcolor\":\"white\",\"linecolor\":\"white\",\"ticks\":\"\"},\"radialaxis\":{\"gridcolor\":\"white\",\"linecolor\":\"white\",\"ticks\":\"\"}},\"ternary\":{\"bgcolor\":\"#E5ECF6\",\"aaxis\":{\"gridcolor\":\"white\",\"linecolor\":\"white\",\"ticks\":\"\"},\"baxis\":{\"gridcolor\":\"white\",\"linecolor\":\"white\",\"ticks\":\"\"},\"caxis\":{\"gridcolor\":\"white\",\"linecolor\":\"white\",\"ticks\":\"\"}},\"coloraxis\":{\"colorbar\":{\"outlinewidth\":0,\"ticks\":\"\"}},\"colorscale\":{\"sequential\":[[0.0,\"#0d0887\"],[0.1111111111111111,\"#46039f\"],[0.2222222222222222,\"#7201a8\"],[0.3333333333333333,\"#9c179e\"],[0.4444444444444444,\"#bd3786\"],[0.5555555555555556,\"#d8576b\"],[0.6666666666666666,\"#ed7953\"],[0.7777777777777778,\"#fb9f3a\"],[0.8888888888888888,\"#fdca26\"],[1.0,\"#f0f921\"]],\"sequentialminus\":[[0.0,\"#0d0887\"],[0.1111111111111111,\"#46039f\"],[0.2222222222222222,\"#7201a8\"],[0.3333333333333333,\"#9c179e\"],[0.4444444444444444,\"#bd3786\"],[0.5555555555555556,\"#d8576b\"],[0.6666666666666666,\"#ed7953\"],[0.7777777777777778,\"#fb9f3a\"],[0.8888888888888888,\"#fdca26\"],[1.0,\"#f0f921\"]],\"diverging\":[[0,\"#8e0152\"],[0.1,\"#c51b7d\"],[0.2,\"#de77ae\"],[0.3,\"#f1b6da\"],[0.4,\"#fde0ef\"],[0.5,\"#f7f7f7\"],[0.6,\"#e6f5d0\"],[0.7,\"#b8e186\"],[0.8,\"#7fbc41\"],[0.9,\"#4d9221\"],[1,\"#276419\"]]},\"xaxis\":{\"gridcolor\":\"white\",\"linecolor\":\"white\",\"ticks\":\"\",\"title\":{\"standoff\":15},\"zerolinecolor\":\"white\",\"automargin\":true,\"zerolinewidth\":2},\"yaxis\":{\"gridcolor\":\"white\",\"linecolor\":\"white\",\"ticks\":\"\",\"title\":{\"standoff\":15},\"zerolinecolor\":\"white\",\"automargin\":true,\"zerolinewidth\":2},\"scene\":{\"xaxis\":{\"backgroundcolor\":\"#E5ECF6\",\"gridcolor\":\"white\",\"linecolor\":\"white\",\"showbackground\":true,\"ticks\":\"\",\"zerolinecolor\":\"white\",\"gridwidth\":2},\"yaxis\":{\"backgroundcolor\":\"#E5ECF6\",\"gridcolor\":\"white\",\"linecolor\":\"white\",\"showbackground\":true,\"ticks\":\"\",\"zerolinecolor\":\"white\",\"gridwidth\":2},\"zaxis\":{\"backgroundcolor\":\"#E5ECF6\",\"gridcolor\":\"white\",\"linecolor\":\"white\",\"showbackground\":true,\"ticks\":\"\",\"zerolinecolor\":\"white\",\"gridwidth\":2}},\"shapedefaults\":{\"line\":{\"color\":\"#2a3f5f\"}},\"annotationdefaults\":{\"arrowcolor\":\"#2a3f5f\",\"arrowhead\":0,\"arrowwidth\":1},\"geo\":{\"bgcolor\":\"white\",\"landcolor\":\"#E5ECF6\",\"subunitcolor\":\"white\",\"showland\":true,\"showlakes\":true,\"lakecolor\":\"white\"},\"title\":{\"x\":0.05},\"mapbox\":{\"style\":\"light\"}}},\"xaxis\":{\"anchor\":\"y\",\"domain\":[0.0,1.0],\"title\":{\"text\":\"Year\"}},\"yaxis\":{\"anchor\":\"x\",\"domain\":[0.0,1.0],\"title\":{\"text\":\"Mean Anual Temperature (C)\"}},\"legend\":{\"tracegroupgap\":0},\"title\":{\"text\":\"Mean Historical Temperature\"}},                        {\"responsive\": true}                    ).then(function(){\n",
       "                            \n",
       "var gd = document.getElementById('060dd725-119f-46e8-a873-fe9a1b97172d');\n",
       "var x = new MutationObserver(function (mutations, observer) {{\n",
       "        var display = window.getComputedStyle(gd).display;\n",
       "        if (!display || display === 'none') {{\n",
       "            console.log([gd, 'removed!']);\n",
       "            Plotly.purge(gd);\n",
       "            observer.disconnect();\n",
       "        }}\n",
       "}});\n",
       "\n",
       "// Listen for the removal of the full notebook cells\n",
       "var notebookContainer = gd.closest('#notebook-container');\n",
       "if (notebookContainer) {{\n",
       "    x.observe(notebookContainer, {childList: true});\n",
       "}}\n",
       "\n",
       "// Listen for the clearing of the current output cell\n",
       "var outputEl = gd.closest('.output');\n",
       "if (outputEl) {{\n",
       "    x.observe(outputEl, {childList: true});\n",
       "}}\n",
       "\n",
       "                        })                };                });            </script>        </div>"
      ]
     },
     "metadata": {},
     "output_type": "display_data"
    }
   ],
   "source": [
    "#plot annual mean temp\n",
    "# set temp df for plot\n",
    "plot_df = df[df['TimePeriod'] == 'Hist']\n",
    "# find mean temp of all collection site per year\n",
    "plot_df = plot_df.groupby('year')['T_Annual'].mean().reset_index()\n",
    "#plotly plot\n",
    "fig = px.line(plot_df,\n",
    "              x='year',\n",
    "              y='T_Annual',\n",
    "              title='Mean Historical Temperature',\n",
    "              labels={\n",
    "                     \"year\": \"Year\",\n",
    "                     \"T_Annual\": \"Mean Anual Temperature (C)\"\n",
    "                 }\n",
    "              )\n",
    "fig.show()"
   ]
  },
  {
   "cell_type": "code",
   "execution_count": 57,
   "metadata": {},
   "outputs": [
    {
     "data": {
      "application/vnd.plotly.v1+json": {
       "config": {
        "plotlyServerURL": "https://plot.ly"
       },
       "data": [
        {
         "hovertemplate": "RCP=4.5<br>Year=%{x}<br>Mean Anual Temperature (C)=%{y}<extra></extra>",
         "legendgroup": "4.5",
         "line": {
          "color": "#636efa",
          "dash": "solid"
         },
         "marker": {
          "symbol": "circle"
         },
         "mode": "lines",
         "name": "4.5",
         "orientation": "v",
         "showlegend": true,
         "type": "scatter",
         "x": [
          2021,
          2022,
          2023,
          2024,
          2025,
          2026,
          2027,
          2028,
          2029,
          2030,
          2031,
          2032,
          2033,
          2034,
          2035,
          2036,
          2037,
          2038,
          2039,
          2040,
          2041,
          2042,
          2043,
          2044,
          2045,
          2046,
          2047,
          2048,
          2049,
          2050,
          2051,
          2052,
          2053,
          2054,
          2055,
          2056,
          2057,
          2058,
          2059
         ],
         "xaxis": "x",
         "y": [
          11.693921111113937,
          12.198219570121681,
          12.007029070548782,
          12.231381399476106,
          12.389552268747787,
          12.44263264397124,
          12.273330714612833,
          12.406216692964602,
          12.446967798206416,
          12.242619212388053,
          12.407115912068583,
          12.478536397013274,
          12.709069218963274,
          12.382212583129425,
          12.543460785320796,
          12.720432416306416,
          12.797886766499667,
          12.676507046367258,
          12.76760792554425,
          12.617755311742256,
          12.940776691570797,
          12.790838118690266,
          12.895110709755532,
          12.729837857617257,
          12.93515212406969,
          13.092975434029867,
          13.102373951303097,
          12.882093282002213,
          13.109591574015486,
          13.10454180085177,
          12.983025790688053,
          13.262364031261063,
          13.23114275426991,
          13.442973089568586,
          13.231581397643806,
          13.301199043497787,
          13.209299295981195,
          13.4574661302323,
          13.37694829059624
         ],
         "yaxis": "y"
        },
        {
         "hovertemplate": "RCP=8.5<br>Year=%{x}<br>Mean Anual Temperature (C)=%{y}<extra></extra>",
         "legendgroup": "8.5",
         "line": {
          "color": "#EF553B",
          "dash": "solid"
         },
         "marker": {
          "symbol": "circle"
         },
         "mode": "lines",
         "name": "8.5",
         "orientation": "v",
         "showlegend": true,
         "type": "scatter",
         "x": [
          2021,
          2022,
          2023,
          2024,
          2025,
          2026,
          2027,
          2028,
          2029,
          2030,
          2031,
          2032,
          2033,
          2034,
          2035,
          2036,
          2037,
          2038,
          2039,
          2040,
          2041,
          2042,
          2043,
          2044,
          2045,
          2046,
          2047,
          2048,
          2049,
          2050,
          2051,
          2052,
          2053,
          2054,
          2055,
          2056,
          2057,
          2058,
          2059
         ],
         "xaxis": "x",
         "y": [
          11.797823619325222,
          12.34929162947655,
          12.213027981960952,
          12.515240473095133,
          12.267801410975443,
          12.289252256913274,
          12.280240122367257,
          12.462018599547566,
          12.503924993118362,
          12.84868296532301,
          12.366383132548671,
          12.334095743053428,
          12.870102742544248,
          12.855023382433629,
          12.941111340835398,
          12.78326938333197,
          13.079099124999999,
          13.080489983127324,
          13.057114231237831,
          13.241295623875,
          13.239093565993363,
          13.519241484776549,
          13.466681348550885,
          13.250970310359515,
          13.19155918329646,
          13.609582397149238,
          13.572521688030974,
          13.45724898809021,
          13.928035678897455,
          13.736229903126107,
          13.649948786414823,
          13.802867938701327,
          13.988717056736727,
          14.145078525663717,
          13.99378622195907,
          14.207524860752212,
          14.174985720211284,
          14.234395545453541,
          14.34984179347345
         ],
         "yaxis": "y"
        },
        {
         "hovertemplate": "RCP=historical<br>Year=%{x}<br>Mean Anual Temperature (C)=%{y}<extra></extra>",
         "legendgroup": "historical",
         "line": {
          "color": "#00cc96",
          "dash": "solid"
         },
         "marker": {
          "symbol": "circle"
         },
         "mode": "lines",
         "name": "historical",
         "orientation": "v",
         "showlegend": false,
         "type": "scatter",
         "x": [
          2021,
          2022,
          2023,
          2024,
          2025,
          2026,
          2027,
          2028,
          2029,
          2030,
          2031,
          2032,
          2033,
          2034,
          2035,
          2036,
          2037,
          2038,
          2039,
          2040,
          2041,
          2042,
          2043,
          2044,
          2045,
          2046,
          2047,
          2048,
          2049,
          2050,
          2051,
          2052,
          2053,
          2054,
          2055,
          2056,
          2057,
          2058,
          2059
         ],
         "xaxis": "x",
         "y": [
          null,
          null,
          null,
          null,
          null,
          null,
          null,
          null,
          null,
          null,
          null,
          null,
          null,
          null,
          null,
          null,
          null,
          null,
          null,
          null,
          null,
          null,
          null,
          null,
          null,
          null,
          null,
          null,
          null,
          null,
          null,
          null,
          null,
          null,
          null,
          null,
          null,
          null,
          null
         ],
         "yaxis": "y"
        }
       ],
       "layout": {
        "legend": {
         "title": {
          "text": "RCP"
         },
         "tracegroupgap": 0
        },
        "template": {
         "data": {
          "bar": [
           {
            "error_x": {
             "color": "#2a3f5f"
            },
            "error_y": {
             "color": "#2a3f5f"
            },
            "marker": {
             "line": {
              "color": "#E5ECF6",
              "width": 0.5
             },
             "pattern": {
              "fillmode": "overlay",
              "size": 10,
              "solidity": 0.2
             }
            },
            "type": "bar"
           }
          ],
          "barpolar": [
           {
            "marker": {
             "line": {
              "color": "#E5ECF6",
              "width": 0.5
             },
             "pattern": {
              "fillmode": "overlay",
              "size": 10,
              "solidity": 0.2
             }
            },
            "type": "barpolar"
           }
          ],
          "carpet": [
           {
            "aaxis": {
             "endlinecolor": "#2a3f5f",
             "gridcolor": "white",
             "linecolor": "white",
             "minorgridcolor": "white",
             "startlinecolor": "#2a3f5f"
            },
            "baxis": {
             "endlinecolor": "#2a3f5f",
             "gridcolor": "white",
             "linecolor": "white",
             "minorgridcolor": "white",
             "startlinecolor": "#2a3f5f"
            },
            "type": "carpet"
           }
          ],
          "choropleth": [
           {
            "colorbar": {
             "outlinewidth": 0,
             "ticks": ""
            },
            "type": "choropleth"
           }
          ],
          "contour": [
           {
            "colorbar": {
             "outlinewidth": 0,
             "ticks": ""
            },
            "colorscale": [
             [
              0,
              "#0d0887"
             ],
             [
              0.1111111111111111,
              "#46039f"
             ],
             [
              0.2222222222222222,
              "#7201a8"
             ],
             [
              0.3333333333333333,
              "#9c179e"
             ],
             [
              0.4444444444444444,
              "#bd3786"
             ],
             [
              0.5555555555555556,
              "#d8576b"
             ],
             [
              0.6666666666666666,
              "#ed7953"
             ],
             [
              0.7777777777777778,
              "#fb9f3a"
             ],
             [
              0.8888888888888888,
              "#fdca26"
             ],
             [
              1,
              "#f0f921"
             ]
            ],
            "type": "contour"
           }
          ],
          "contourcarpet": [
           {
            "colorbar": {
             "outlinewidth": 0,
             "ticks": ""
            },
            "type": "contourcarpet"
           }
          ],
          "heatmap": [
           {
            "colorbar": {
             "outlinewidth": 0,
             "ticks": ""
            },
            "colorscale": [
             [
              0,
              "#0d0887"
             ],
             [
              0.1111111111111111,
              "#46039f"
             ],
             [
              0.2222222222222222,
              "#7201a8"
             ],
             [
              0.3333333333333333,
              "#9c179e"
             ],
             [
              0.4444444444444444,
              "#bd3786"
             ],
             [
              0.5555555555555556,
              "#d8576b"
             ],
             [
              0.6666666666666666,
              "#ed7953"
             ],
             [
              0.7777777777777778,
              "#fb9f3a"
             ],
             [
              0.8888888888888888,
              "#fdca26"
             ],
             [
              1,
              "#f0f921"
             ]
            ],
            "type": "heatmap"
           }
          ],
          "heatmapgl": [
           {
            "colorbar": {
             "outlinewidth": 0,
             "ticks": ""
            },
            "colorscale": [
             [
              0,
              "#0d0887"
             ],
             [
              0.1111111111111111,
              "#46039f"
             ],
             [
              0.2222222222222222,
              "#7201a8"
             ],
             [
              0.3333333333333333,
              "#9c179e"
             ],
             [
              0.4444444444444444,
              "#bd3786"
             ],
             [
              0.5555555555555556,
              "#d8576b"
             ],
             [
              0.6666666666666666,
              "#ed7953"
             ],
             [
              0.7777777777777778,
              "#fb9f3a"
             ],
             [
              0.8888888888888888,
              "#fdca26"
             ],
             [
              1,
              "#f0f921"
             ]
            ],
            "type": "heatmapgl"
           }
          ],
          "histogram": [
           {
            "marker": {
             "pattern": {
              "fillmode": "overlay",
              "size": 10,
              "solidity": 0.2
             }
            },
            "type": "histogram"
           }
          ],
          "histogram2d": [
           {
            "colorbar": {
             "outlinewidth": 0,
             "ticks": ""
            },
            "colorscale": [
             [
              0,
              "#0d0887"
             ],
             [
              0.1111111111111111,
              "#46039f"
             ],
             [
              0.2222222222222222,
              "#7201a8"
             ],
             [
              0.3333333333333333,
              "#9c179e"
             ],
             [
              0.4444444444444444,
              "#bd3786"
             ],
             [
              0.5555555555555556,
              "#d8576b"
             ],
             [
              0.6666666666666666,
              "#ed7953"
             ],
             [
              0.7777777777777778,
              "#fb9f3a"
             ],
             [
              0.8888888888888888,
              "#fdca26"
             ],
             [
              1,
              "#f0f921"
             ]
            ],
            "type": "histogram2d"
           }
          ],
          "histogram2dcontour": [
           {
            "colorbar": {
             "outlinewidth": 0,
             "ticks": ""
            },
            "colorscale": [
             [
              0,
              "#0d0887"
             ],
             [
              0.1111111111111111,
              "#46039f"
             ],
             [
              0.2222222222222222,
              "#7201a8"
             ],
             [
              0.3333333333333333,
              "#9c179e"
             ],
             [
              0.4444444444444444,
              "#bd3786"
             ],
             [
              0.5555555555555556,
              "#d8576b"
             ],
             [
              0.6666666666666666,
              "#ed7953"
             ],
             [
              0.7777777777777778,
              "#fb9f3a"
             ],
             [
              0.8888888888888888,
              "#fdca26"
             ],
             [
              1,
              "#f0f921"
             ]
            ],
            "type": "histogram2dcontour"
           }
          ],
          "mesh3d": [
           {
            "colorbar": {
             "outlinewidth": 0,
             "ticks": ""
            },
            "type": "mesh3d"
           }
          ],
          "parcoords": [
           {
            "line": {
             "colorbar": {
              "outlinewidth": 0,
              "ticks": ""
             }
            },
            "type": "parcoords"
           }
          ],
          "pie": [
           {
            "automargin": true,
            "type": "pie"
           }
          ],
          "scatter": [
           {
            "fillpattern": {
             "fillmode": "overlay",
             "size": 10,
             "solidity": 0.2
            },
            "type": "scatter"
           }
          ],
          "scatter3d": [
           {
            "line": {
             "colorbar": {
              "outlinewidth": 0,
              "ticks": ""
             }
            },
            "marker": {
             "colorbar": {
              "outlinewidth": 0,
              "ticks": ""
             }
            },
            "type": "scatter3d"
           }
          ],
          "scattercarpet": [
           {
            "marker": {
             "colorbar": {
              "outlinewidth": 0,
              "ticks": ""
             }
            },
            "type": "scattercarpet"
           }
          ],
          "scattergeo": [
           {
            "marker": {
             "colorbar": {
              "outlinewidth": 0,
              "ticks": ""
             }
            },
            "type": "scattergeo"
           }
          ],
          "scattergl": [
           {
            "marker": {
             "colorbar": {
              "outlinewidth": 0,
              "ticks": ""
             }
            },
            "type": "scattergl"
           }
          ],
          "scattermapbox": [
           {
            "marker": {
             "colorbar": {
              "outlinewidth": 0,
              "ticks": ""
             }
            },
            "type": "scattermapbox"
           }
          ],
          "scatterpolar": [
           {
            "marker": {
             "colorbar": {
              "outlinewidth": 0,
              "ticks": ""
             }
            },
            "type": "scatterpolar"
           }
          ],
          "scatterpolargl": [
           {
            "marker": {
             "colorbar": {
              "outlinewidth": 0,
              "ticks": ""
             }
            },
            "type": "scatterpolargl"
           }
          ],
          "scatterternary": [
           {
            "marker": {
             "colorbar": {
              "outlinewidth": 0,
              "ticks": ""
             }
            },
            "type": "scatterternary"
           }
          ],
          "surface": [
           {
            "colorbar": {
             "outlinewidth": 0,
             "ticks": ""
            },
            "colorscale": [
             [
              0,
              "#0d0887"
             ],
             [
              0.1111111111111111,
              "#46039f"
             ],
             [
              0.2222222222222222,
              "#7201a8"
             ],
             [
              0.3333333333333333,
              "#9c179e"
             ],
             [
              0.4444444444444444,
              "#bd3786"
             ],
             [
              0.5555555555555556,
              "#d8576b"
             ],
             [
              0.6666666666666666,
              "#ed7953"
             ],
             [
              0.7777777777777778,
              "#fb9f3a"
             ],
             [
              0.8888888888888888,
              "#fdca26"
             ],
             [
              1,
              "#f0f921"
             ]
            ],
            "type": "surface"
           }
          ],
          "table": [
           {
            "cells": {
             "fill": {
              "color": "#EBF0F8"
             },
             "line": {
              "color": "white"
             }
            },
            "header": {
             "fill": {
              "color": "#C8D4E3"
             },
             "line": {
              "color": "white"
             }
            },
            "type": "table"
           }
          ]
         },
         "layout": {
          "annotationdefaults": {
           "arrowcolor": "#2a3f5f",
           "arrowhead": 0,
           "arrowwidth": 1
          },
          "autotypenumbers": "strict",
          "coloraxis": {
           "colorbar": {
            "outlinewidth": 0,
            "ticks": ""
           }
          },
          "colorscale": {
           "diverging": [
            [
             0,
             "#8e0152"
            ],
            [
             0.1,
             "#c51b7d"
            ],
            [
             0.2,
             "#de77ae"
            ],
            [
             0.3,
             "#f1b6da"
            ],
            [
             0.4,
             "#fde0ef"
            ],
            [
             0.5,
             "#f7f7f7"
            ],
            [
             0.6,
             "#e6f5d0"
            ],
            [
             0.7,
             "#b8e186"
            ],
            [
             0.8,
             "#7fbc41"
            ],
            [
             0.9,
             "#4d9221"
            ],
            [
             1,
             "#276419"
            ]
           ],
           "sequential": [
            [
             0,
             "#0d0887"
            ],
            [
             0.1111111111111111,
             "#46039f"
            ],
            [
             0.2222222222222222,
             "#7201a8"
            ],
            [
             0.3333333333333333,
             "#9c179e"
            ],
            [
             0.4444444444444444,
             "#bd3786"
            ],
            [
             0.5555555555555556,
             "#d8576b"
            ],
            [
             0.6666666666666666,
             "#ed7953"
            ],
            [
             0.7777777777777778,
             "#fb9f3a"
            ],
            [
             0.8888888888888888,
             "#fdca26"
            ],
            [
             1,
             "#f0f921"
            ]
           ],
           "sequentialminus": [
            [
             0,
             "#0d0887"
            ],
            [
             0.1111111111111111,
             "#46039f"
            ],
            [
             0.2222222222222222,
             "#7201a8"
            ],
            [
             0.3333333333333333,
             "#9c179e"
            ],
            [
             0.4444444444444444,
             "#bd3786"
            ],
            [
             0.5555555555555556,
             "#d8576b"
            ],
            [
             0.6666666666666666,
             "#ed7953"
            ],
            [
             0.7777777777777778,
             "#fb9f3a"
            ],
            [
             0.8888888888888888,
             "#fdca26"
            ],
            [
             1,
             "#f0f921"
            ]
           ]
          },
          "colorway": [
           "#636efa",
           "#EF553B",
           "#00cc96",
           "#ab63fa",
           "#FFA15A",
           "#19d3f3",
           "#FF6692",
           "#B6E880",
           "#FF97FF",
           "#FECB52"
          ],
          "font": {
           "color": "#2a3f5f"
          },
          "geo": {
           "bgcolor": "white",
           "lakecolor": "white",
           "landcolor": "#E5ECF6",
           "showlakes": true,
           "showland": true,
           "subunitcolor": "white"
          },
          "hoverlabel": {
           "align": "left"
          },
          "hovermode": "closest",
          "mapbox": {
           "style": "light"
          },
          "paper_bgcolor": "white",
          "plot_bgcolor": "#E5ECF6",
          "polar": {
           "angularaxis": {
            "gridcolor": "white",
            "linecolor": "white",
            "ticks": ""
           },
           "bgcolor": "#E5ECF6",
           "radialaxis": {
            "gridcolor": "white",
            "linecolor": "white",
            "ticks": ""
           }
          },
          "scene": {
           "xaxis": {
            "backgroundcolor": "#E5ECF6",
            "gridcolor": "white",
            "gridwidth": 2,
            "linecolor": "white",
            "showbackground": true,
            "ticks": "",
            "zerolinecolor": "white"
           },
           "yaxis": {
            "backgroundcolor": "#E5ECF6",
            "gridcolor": "white",
            "gridwidth": 2,
            "linecolor": "white",
            "showbackground": true,
            "ticks": "",
            "zerolinecolor": "white"
           },
           "zaxis": {
            "backgroundcolor": "#E5ECF6",
            "gridcolor": "white",
            "gridwidth": 2,
            "linecolor": "white",
            "showbackground": true,
            "ticks": "",
            "zerolinecolor": "white"
           }
          },
          "shapedefaults": {
           "line": {
            "color": "#2a3f5f"
           }
          },
          "ternary": {
           "aaxis": {
            "gridcolor": "white",
            "linecolor": "white",
            "ticks": ""
           },
           "baxis": {
            "gridcolor": "white",
            "linecolor": "white",
            "ticks": ""
           },
           "bgcolor": "#E5ECF6",
           "caxis": {
            "gridcolor": "white",
            "linecolor": "white",
            "ticks": ""
           }
          },
          "title": {
           "x": 0.05
          },
          "xaxis": {
           "automargin": true,
           "gridcolor": "white",
           "linecolor": "white",
           "ticks": "",
           "title": {
            "standoff": 15
           },
           "zerolinecolor": "white",
           "zerolinewidth": 2
          },
          "yaxis": {
           "automargin": true,
           "gridcolor": "white",
           "linecolor": "white",
           "ticks": "",
           "title": {
            "standoff": 15
           },
           "zerolinecolor": "white",
           "zerolinewidth": 2
          }
         }
        },
        "title": {
         "text": "Mean Near Term Temperature"
        },
        "xaxis": {
         "anchor": "y",
         "domain": [
          0,
          1
         ],
         "title": {
          "text": "Year"
         }
        },
        "yaxis": {
         "anchor": "x",
         "domain": [
          0,
          1
         ],
         "title": {
          "text": "Mean Anual Temperature (C)"
         }
        }
       }
      },
      "text/html": [
       "<div>                            <div id=\"5240e89e-de9f-4833-b29f-db9c0f952b45\" class=\"plotly-graph-div\" style=\"height:525px; width:100%;\"></div>            <script type=\"text/javascript\">                require([\"plotly\"], function(Plotly) {                    window.PLOTLYENV=window.PLOTLYENV || {};                                    if (document.getElementById(\"5240e89e-de9f-4833-b29f-db9c0f952b45\")) {                    Plotly.newPlot(                        \"5240e89e-de9f-4833-b29f-db9c0f952b45\",                        [{\"hovertemplate\":\"RCP=4.5\\u003cbr\\u003eYear=%{x}\\u003cbr\\u003eMean Anual Temperature (C)=%{y}\\u003cextra\\u003e\\u003c\\u002fextra\\u003e\",\"legendgroup\":\"4.5\",\"line\":{\"color\":\"#636efa\",\"dash\":\"solid\"},\"marker\":{\"symbol\":\"circle\"},\"mode\":\"lines\",\"name\":\"4.5\",\"orientation\":\"v\",\"showlegend\":true,\"x\":[2021,2022,2023,2024,2025,2026,2027,2028,2029,2030,2031,2032,2033,2034,2035,2036,2037,2038,2039,2040,2041,2042,2043,2044,2045,2046,2047,2048,2049,2050,2051,2052,2053,2054,2055,2056,2057,2058,2059],\"xaxis\":\"x\",\"y\":[11.693921111113937,12.198219570121681,12.007029070548782,12.231381399476106,12.389552268747787,12.44263264397124,12.273330714612833,12.406216692964602,12.446967798206416,12.242619212388053,12.407115912068583,12.478536397013274,12.709069218963274,12.382212583129425,12.543460785320796,12.720432416306416,12.797886766499667,12.676507046367258,12.76760792554425,12.617755311742256,12.940776691570797,12.790838118690266,12.895110709755532,12.729837857617257,12.93515212406969,13.092975434029867,13.102373951303097,12.882093282002213,13.109591574015486,13.10454180085177,12.983025790688053,13.262364031261063,13.23114275426991,13.442973089568586,13.231581397643806,13.301199043497787,13.209299295981195,13.4574661302323,13.37694829059624],\"yaxis\":\"y\",\"type\":\"scatter\"},{\"hovertemplate\":\"RCP=8.5\\u003cbr\\u003eYear=%{x}\\u003cbr\\u003eMean Anual Temperature (C)=%{y}\\u003cextra\\u003e\\u003c\\u002fextra\\u003e\",\"legendgroup\":\"8.5\",\"line\":{\"color\":\"#EF553B\",\"dash\":\"solid\"},\"marker\":{\"symbol\":\"circle\"},\"mode\":\"lines\",\"name\":\"8.5\",\"orientation\":\"v\",\"showlegend\":true,\"x\":[2021,2022,2023,2024,2025,2026,2027,2028,2029,2030,2031,2032,2033,2034,2035,2036,2037,2038,2039,2040,2041,2042,2043,2044,2045,2046,2047,2048,2049,2050,2051,2052,2053,2054,2055,2056,2057,2058,2059],\"xaxis\":\"x\",\"y\":[11.797823619325222,12.34929162947655,12.213027981960952,12.515240473095133,12.267801410975443,12.289252256913274,12.280240122367257,12.462018599547566,12.503924993118362,12.84868296532301,12.366383132548671,12.334095743053428,12.870102742544248,12.855023382433629,12.941111340835398,12.78326938333197,13.079099124999999,13.080489983127324,13.057114231237831,13.241295623875,13.239093565993363,13.519241484776549,13.466681348550885,13.250970310359515,13.19155918329646,13.609582397149238,13.572521688030974,13.45724898809021,13.928035678897455,13.736229903126107,13.649948786414823,13.802867938701327,13.988717056736727,14.145078525663717,13.99378622195907,14.207524860752212,14.174985720211284,14.234395545453541,14.34984179347345],\"yaxis\":\"y\",\"type\":\"scatter\"},{\"hovertemplate\":\"RCP=historical\\u003cbr\\u003eYear=%{x}\\u003cbr\\u003eMean Anual Temperature (C)=%{y}\\u003cextra\\u003e\\u003c\\u002fextra\\u003e\",\"legendgroup\":\"historical\",\"line\":{\"color\":\"#00cc96\",\"dash\":\"solid\"},\"marker\":{\"symbol\":\"circle\"},\"mode\":\"lines\",\"name\":\"historical\",\"orientation\":\"v\",\"showlegend\":false,\"x\":[2021,2022,2023,2024,2025,2026,2027,2028,2029,2030,2031,2032,2033,2034,2035,2036,2037,2038,2039,2040,2041,2042,2043,2044,2045,2046,2047,2048,2049,2050,2051,2052,2053,2054,2055,2056,2057,2058,2059],\"xaxis\":\"x\",\"y\":[null,null,null,null,null,null,null,null,null,null,null,null,null,null,null,null,null,null,null,null,null,null,null,null,null,null,null,null,null,null,null,null,null,null,null,null,null,null,null],\"yaxis\":\"y\",\"type\":\"scatter\"}],                        {\"template\":{\"data\":{\"histogram2dcontour\":[{\"type\":\"histogram2dcontour\",\"colorbar\":{\"outlinewidth\":0,\"ticks\":\"\"},\"colorscale\":[[0.0,\"#0d0887\"],[0.1111111111111111,\"#46039f\"],[0.2222222222222222,\"#7201a8\"],[0.3333333333333333,\"#9c179e\"],[0.4444444444444444,\"#bd3786\"],[0.5555555555555556,\"#d8576b\"],[0.6666666666666666,\"#ed7953\"],[0.7777777777777778,\"#fb9f3a\"],[0.8888888888888888,\"#fdca26\"],[1.0,\"#f0f921\"]]}],\"choropleth\":[{\"type\":\"choropleth\",\"colorbar\":{\"outlinewidth\":0,\"ticks\":\"\"}}],\"histogram2d\":[{\"type\":\"histogram2d\",\"colorbar\":{\"outlinewidth\":0,\"ticks\":\"\"},\"colorscale\":[[0.0,\"#0d0887\"],[0.1111111111111111,\"#46039f\"],[0.2222222222222222,\"#7201a8\"],[0.3333333333333333,\"#9c179e\"],[0.4444444444444444,\"#bd3786\"],[0.5555555555555556,\"#d8576b\"],[0.6666666666666666,\"#ed7953\"],[0.7777777777777778,\"#fb9f3a\"],[0.8888888888888888,\"#fdca26\"],[1.0,\"#f0f921\"]]}],\"heatmap\":[{\"type\":\"heatmap\",\"colorbar\":{\"outlinewidth\":0,\"ticks\":\"\"},\"colorscale\":[[0.0,\"#0d0887\"],[0.1111111111111111,\"#46039f\"],[0.2222222222222222,\"#7201a8\"],[0.3333333333333333,\"#9c179e\"],[0.4444444444444444,\"#bd3786\"],[0.5555555555555556,\"#d8576b\"],[0.6666666666666666,\"#ed7953\"],[0.7777777777777778,\"#fb9f3a\"],[0.8888888888888888,\"#fdca26\"],[1.0,\"#f0f921\"]]}],\"heatmapgl\":[{\"type\":\"heatmapgl\",\"colorbar\":{\"outlinewidth\":0,\"ticks\":\"\"},\"colorscale\":[[0.0,\"#0d0887\"],[0.1111111111111111,\"#46039f\"],[0.2222222222222222,\"#7201a8\"],[0.3333333333333333,\"#9c179e\"],[0.4444444444444444,\"#bd3786\"],[0.5555555555555556,\"#d8576b\"],[0.6666666666666666,\"#ed7953\"],[0.7777777777777778,\"#fb9f3a\"],[0.8888888888888888,\"#fdca26\"],[1.0,\"#f0f921\"]]}],\"contourcarpet\":[{\"type\":\"contourcarpet\",\"colorbar\":{\"outlinewidth\":0,\"ticks\":\"\"}}],\"contour\":[{\"type\":\"contour\",\"colorbar\":{\"outlinewidth\":0,\"ticks\":\"\"},\"colorscale\":[[0.0,\"#0d0887\"],[0.1111111111111111,\"#46039f\"],[0.2222222222222222,\"#7201a8\"],[0.3333333333333333,\"#9c179e\"],[0.4444444444444444,\"#bd3786\"],[0.5555555555555556,\"#d8576b\"],[0.6666666666666666,\"#ed7953\"],[0.7777777777777778,\"#fb9f3a\"],[0.8888888888888888,\"#fdca26\"],[1.0,\"#f0f921\"]]}],\"surface\":[{\"type\":\"surface\",\"colorbar\":{\"outlinewidth\":0,\"ticks\":\"\"},\"colorscale\":[[0.0,\"#0d0887\"],[0.1111111111111111,\"#46039f\"],[0.2222222222222222,\"#7201a8\"],[0.3333333333333333,\"#9c179e\"],[0.4444444444444444,\"#bd3786\"],[0.5555555555555556,\"#d8576b\"],[0.6666666666666666,\"#ed7953\"],[0.7777777777777778,\"#fb9f3a\"],[0.8888888888888888,\"#fdca26\"],[1.0,\"#f0f921\"]]}],\"mesh3d\":[{\"type\":\"mesh3d\",\"colorbar\":{\"outlinewidth\":0,\"ticks\":\"\"}}],\"scatter\":[{\"fillpattern\":{\"fillmode\":\"overlay\",\"size\":10,\"solidity\":0.2},\"type\":\"scatter\"}],\"parcoords\":[{\"type\":\"parcoords\",\"line\":{\"colorbar\":{\"outlinewidth\":0,\"ticks\":\"\"}}}],\"scatterpolargl\":[{\"type\":\"scatterpolargl\",\"marker\":{\"colorbar\":{\"outlinewidth\":0,\"ticks\":\"\"}}}],\"bar\":[{\"error_x\":{\"color\":\"#2a3f5f\"},\"error_y\":{\"color\":\"#2a3f5f\"},\"marker\":{\"line\":{\"color\":\"#E5ECF6\",\"width\":0.5},\"pattern\":{\"fillmode\":\"overlay\",\"size\":10,\"solidity\":0.2}},\"type\":\"bar\"}],\"scattergeo\":[{\"type\":\"scattergeo\",\"marker\":{\"colorbar\":{\"outlinewidth\":0,\"ticks\":\"\"}}}],\"scatterpolar\":[{\"type\":\"scatterpolar\",\"marker\":{\"colorbar\":{\"outlinewidth\":0,\"ticks\":\"\"}}}],\"histogram\":[{\"marker\":{\"pattern\":{\"fillmode\":\"overlay\",\"size\":10,\"solidity\":0.2}},\"type\":\"histogram\"}],\"scattergl\":[{\"type\":\"scattergl\",\"marker\":{\"colorbar\":{\"outlinewidth\":0,\"ticks\":\"\"}}}],\"scatter3d\":[{\"type\":\"scatter3d\",\"line\":{\"colorbar\":{\"outlinewidth\":0,\"ticks\":\"\"}},\"marker\":{\"colorbar\":{\"outlinewidth\":0,\"ticks\":\"\"}}}],\"scattermapbox\":[{\"type\":\"scattermapbox\",\"marker\":{\"colorbar\":{\"outlinewidth\":0,\"ticks\":\"\"}}}],\"scatterternary\":[{\"type\":\"scatterternary\",\"marker\":{\"colorbar\":{\"outlinewidth\":0,\"ticks\":\"\"}}}],\"scattercarpet\":[{\"type\":\"scattercarpet\",\"marker\":{\"colorbar\":{\"outlinewidth\":0,\"ticks\":\"\"}}}],\"carpet\":[{\"aaxis\":{\"endlinecolor\":\"#2a3f5f\",\"gridcolor\":\"white\",\"linecolor\":\"white\",\"minorgridcolor\":\"white\",\"startlinecolor\":\"#2a3f5f\"},\"baxis\":{\"endlinecolor\":\"#2a3f5f\",\"gridcolor\":\"white\",\"linecolor\":\"white\",\"minorgridcolor\":\"white\",\"startlinecolor\":\"#2a3f5f\"},\"type\":\"carpet\"}],\"table\":[{\"cells\":{\"fill\":{\"color\":\"#EBF0F8\"},\"line\":{\"color\":\"white\"}},\"header\":{\"fill\":{\"color\":\"#C8D4E3\"},\"line\":{\"color\":\"white\"}},\"type\":\"table\"}],\"barpolar\":[{\"marker\":{\"line\":{\"color\":\"#E5ECF6\",\"width\":0.5},\"pattern\":{\"fillmode\":\"overlay\",\"size\":10,\"solidity\":0.2}},\"type\":\"barpolar\"}],\"pie\":[{\"automargin\":true,\"type\":\"pie\"}]},\"layout\":{\"autotypenumbers\":\"strict\",\"colorway\":[\"#636efa\",\"#EF553B\",\"#00cc96\",\"#ab63fa\",\"#FFA15A\",\"#19d3f3\",\"#FF6692\",\"#B6E880\",\"#FF97FF\",\"#FECB52\"],\"font\":{\"color\":\"#2a3f5f\"},\"hovermode\":\"closest\",\"hoverlabel\":{\"align\":\"left\"},\"paper_bgcolor\":\"white\",\"plot_bgcolor\":\"#E5ECF6\",\"polar\":{\"bgcolor\":\"#E5ECF6\",\"angularaxis\":{\"gridcolor\":\"white\",\"linecolor\":\"white\",\"ticks\":\"\"},\"radialaxis\":{\"gridcolor\":\"white\",\"linecolor\":\"white\",\"ticks\":\"\"}},\"ternary\":{\"bgcolor\":\"#E5ECF6\",\"aaxis\":{\"gridcolor\":\"white\",\"linecolor\":\"white\",\"ticks\":\"\"},\"baxis\":{\"gridcolor\":\"white\",\"linecolor\":\"white\",\"ticks\":\"\"},\"caxis\":{\"gridcolor\":\"white\",\"linecolor\":\"white\",\"ticks\":\"\"}},\"coloraxis\":{\"colorbar\":{\"outlinewidth\":0,\"ticks\":\"\"}},\"colorscale\":{\"sequential\":[[0.0,\"#0d0887\"],[0.1111111111111111,\"#46039f\"],[0.2222222222222222,\"#7201a8\"],[0.3333333333333333,\"#9c179e\"],[0.4444444444444444,\"#bd3786\"],[0.5555555555555556,\"#d8576b\"],[0.6666666666666666,\"#ed7953\"],[0.7777777777777778,\"#fb9f3a\"],[0.8888888888888888,\"#fdca26\"],[1.0,\"#f0f921\"]],\"sequentialminus\":[[0.0,\"#0d0887\"],[0.1111111111111111,\"#46039f\"],[0.2222222222222222,\"#7201a8\"],[0.3333333333333333,\"#9c179e\"],[0.4444444444444444,\"#bd3786\"],[0.5555555555555556,\"#d8576b\"],[0.6666666666666666,\"#ed7953\"],[0.7777777777777778,\"#fb9f3a\"],[0.8888888888888888,\"#fdca26\"],[1.0,\"#f0f921\"]],\"diverging\":[[0,\"#8e0152\"],[0.1,\"#c51b7d\"],[0.2,\"#de77ae\"],[0.3,\"#f1b6da\"],[0.4,\"#fde0ef\"],[0.5,\"#f7f7f7\"],[0.6,\"#e6f5d0\"],[0.7,\"#b8e186\"],[0.8,\"#7fbc41\"],[0.9,\"#4d9221\"],[1,\"#276419\"]]},\"xaxis\":{\"gridcolor\":\"white\",\"linecolor\":\"white\",\"ticks\":\"\",\"title\":{\"standoff\":15},\"zerolinecolor\":\"white\",\"automargin\":true,\"zerolinewidth\":2},\"yaxis\":{\"gridcolor\":\"white\",\"linecolor\":\"white\",\"ticks\":\"\",\"title\":{\"standoff\":15},\"zerolinecolor\":\"white\",\"automargin\":true,\"zerolinewidth\":2},\"scene\":{\"xaxis\":{\"backgroundcolor\":\"#E5ECF6\",\"gridcolor\":\"white\",\"linecolor\":\"white\",\"showbackground\":true,\"ticks\":\"\",\"zerolinecolor\":\"white\",\"gridwidth\":2},\"yaxis\":{\"backgroundcolor\":\"#E5ECF6\",\"gridcolor\":\"white\",\"linecolor\":\"white\",\"showbackground\":true,\"ticks\":\"\",\"zerolinecolor\":\"white\",\"gridwidth\":2},\"zaxis\":{\"backgroundcolor\":\"#E5ECF6\",\"gridcolor\":\"white\",\"linecolor\":\"white\",\"showbackground\":true,\"ticks\":\"\",\"zerolinecolor\":\"white\",\"gridwidth\":2}},\"shapedefaults\":{\"line\":{\"color\":\"#2a3f5f\"}},\"annotationdefaults\":{\"arrowcolor\":\"#2a3f5f\",\"arrowhead\":0,\"arrowwidth\":1},\"geo\":{\"bgcolor\":\"white\",\"landcolor\":\"#E5ECF6\",\"subunitcolor\":\"white\",\"showland\":true,\"showlakes\":true,\"lakecolor\":\"white\"},\"title\":{\"x\":0.05},\"mapbox\":{\"style\":\"light\"}}},\"xaxis\":{\"anchor\":\"y\",\"domain\":[0.0,1.0],\"title\":{\"text\":\"Year\"}},\"yaxis\":{\"anchor\":\"x\",\"domain\":[0.0,1.0],\"title\":{\"text\":\"Mean Anual Temperature (C)\"}},\"legend\":{\"title\":{\"text\":\"RCP\"},\"tracegroupgap\":0},\"title\":{\"text\":\"Mean Near Term Temperature\"}},                        {\"responsive\": true}                    ).then(function(){\n",
       "                            \n",
       "var gd = document.getElementById('5240e89e-de9f-4833-b29f-db9c0f952b45');\n",
       "var x = new MutationObserver(function (mutations, observer) {{\n",
       "        var display = window.getComputedStyle(gd).display;\n",
       "        if (!display || display === 'none') {{\n",
       "            console.log([gd, 'removed!']);\n",
       "            Plotly.purge(gd);\n",
       "            observer.disconnect();\n",
       "        }}\n",
       "}});\n",
       "\n",
       "// Listen for the removal of the full notebook cells\n",
       "var notebookContainer = gd.closest('#notebook-container');\n",
       "if (notebookContainer) {{\n",
       "    x.observe(notebookContainer, {childList: true});\n",
       "}}\n",
       "\n",
       "// Listen for the clearing of the current output cell\n",
       "var outputEl = gd.closest('.output');\n",
       "if (outputEl) {{\n",
       "    x.observe(outputEl, {childList: true});\n",
       "}}\n",
       "\n",
       "                        })                };                });            </script>        </div>"
      ]
     },
     "metadata": {},
     "output_type": "display_data"
    }
   ],
   "source": [
    "#plot annual mean temp\n",
    "# set temp df for plot\n",
    "plot_df = df[df['TimePeriod'] == 'NT']\n",
    "# find mean temp of all collection site per year\n",
    "plot_df = plot_df.groupby(['year', 'RCP'])['T_Annual'].mean().reset_index()\n",
    "#plotly plot\n",
    "fig = px.line(plot_df,\n",
    "              x='year',\n",
    "              y='T_Annual',\n",
    "              color= 'RCP',\n",
    "              title='Mean Near Term Temperature',\n",
    "              labels={\n",
    "                     \"year\": \"Year\",\n",
    "                     \"T_Annual\": \"Mean Anual Temperature (C)\"\n",
    "                 }\n",
    "              )\n",
    "#remove hist from legend\n",
    "for trace in fig.data:\n",
    "    if trace.name == 'historical':\n",
    "        trace.showlegend = False\n",
    "#print fig\n",
    "fig.show()"
   ]
  },
  {
   "cell_type": "code",
   "execution_count": 58,
   "metadata": {},
   "outputs": [
    {
     "data": {
      "application/vnd.plotly.v1+json": {
       "config": {
        "plotlyServerURL": "https://plot.ly"
       },
       "data": [
        {
         "hovertemplate": "RCP=4.5<br>Year=%{x}<br>Mean Anual Temperature (C)=%{y}<extra></extra>",
         "legendgroup": "4.5",
         "line": {
          "color": "#636efa",
          "dash": "solid"
         },
         "marker": {
          "symbol": "circle"
         },
         "mode": "lines",
         "name": "4.5",
         "orientation": "v",
         "showlegend": true,
         "type": "scatter",
         "x": [
          2060,
          2061,
          2062,
          2063,
          2064,
          2065,
          2066,
          2067,
          2068,
          2069,
          2070,
          2071,
          2072,
          2073,
          2074,
          2075,
          2076,
          2077,
          2078,
          2079,
          2080,
          2081,
          2082,
          2083,
          2084,
          2085,
          2086,
          2087,
          2088,
          2089,
          2090,
          2091,
          2092,
          2093,
          2094,
          2095,
          2096,
          2097,
          2098,
          2099
         ],
         "xaxis": "x",
         "y": [
          13.165236766150443,
          13.25949982355531,
          13.442974922125,
          13.371525686277655,
          13.276840489280973,
          13.588398420478539,
          13.818191073396017,
          13.467958694701329,
          13.412381322766594,
          13.742395717201328,
          13.600599478611725,
          13.446791146570796,
          13.857044780517699,
          13.481448939449116,
          13.853924363746682,
          13.599140022548672,
          13.946423611911506,
          13.679382217352876,
          13.629552805542035,
          13.53621614709292,
          13.777855314082965,
          13.830462506252212,
          13.943445045108408,
          13.778009005830752,
          13.784706603606194,
          13.522663186981195,
          13.850944646006637,
          13.955237256150443,
          13.758296315873894,
          13.65864570954093,
          13.675699398573009,
          13.816708041471239,
          13.877994353222565,
          13.92245080829646,
          13.984422259288053,
          13.87484981199115,
          13.979832048285397,
          13.850943422873893,
          13.866599981710177,
          14.071631326371682
         ],
         "yaxis": "y"
        },
        {
         "hovertemplate": "RCP=8.5<br>Year=%{x}<br>Mean Anual Temperature (C)=%{y}<extra></extra>",
         "legendgroup": "8.5",
         "line": {
          "color": "#EF553B",
          "dash": "solid"
         },
         "marker": {
          "symbol": "circle"
         },
         "mode": "lines",
         "name": "8.5",
         "orientation": "v",
         "showlegend": true,
         "type": "scatter",
         "x": [
          2060,
          2061,
          2062,
          2063,
          2064,
          2065,
          2066,
          2067,
          2068,
          2069,
          2070,
          2071,
          2072,
          2073,
          2074,
          2075,
          2076,
          2077,
          2078,
          2079,
          2080,
          2081,
          2082,
          2083,
          2084,
          2085,
          2086,
          2087,
          2088,
          2089,
          2090,
          2091,
          2092,
          2093,
          2094,
          2095,
          2096,
          2097,
          2098,
          2099
         ],
         "xaxis": "x",
         "y": [
          14.518005300276549,
          14.274039476780972,
          14.646944682936946,
          14.874283783849558,
          14.692183830586284,
          14.906480710176991,
          14.814531315365045,
          15.047525736877432,
          15.216538166261062,
          15.1332383085177,
          15.23902147983407,
          15.366540943805308,
          15.412484282411507,
          15.354648503030974,
          15.307001732300884,
          15.391060524889381,
          15.623549545685842,
          15.658335806305308,
          15.872721087876105,
          16.012311328097343,
          15.571448807278761,
          15.85225884107301,
          16.154986940044246,
          15.81462528550885,
          16.085991377599555,
          16.006655490929205,
          16.273390203207963,
          16.20507482488938,
          16.38796168113938,
          16.35214427334071,
          16.212202266924777,
          16.44144005652655,
          16.645684734513274,
          16.75993480464602,
          16.874846472013274,
          16.523691602674777,
          16.979806874336283,
          16.748622686504426,
          17.32131155188053,
          17.107894891880534
         ],
         "yaxis": "y"
        },
        {
         "hovertemplate": "RCP=historical<br>Year=%{x}<br>Mean Anual Temperature (C)=%{y}<extra></extra>",
         "legendgroup": "historical",
         "line": {
          "color": "#00cc96",
          "dash": "solid"
         },
         "marker": {
          "symbol": "circle"
         },
         "mode": "lines",
         "name": "historical",
         "orientation": "v",
         "showlegend": false,
         "type": "scatter",
         "x": [
          2060,
          2061,
          2062,
          2063,
          2064,
          2065,
          2066,
          2067,
          2068,
          2069,
          2070,
          2071,
          2072,
          2073,
          2074,
          2075,
          2076,
          2077,
          2078,
          2079,
          2080,
          2081,
          2082,
          2083,
          2084,
          2085,
          2086,
          2087,
          2088,
          2089,
          2090,
          2091,
          2092,
          2093,
          2094,
          2095,
          2096,
          2097,
          2098,
          2099
         ],
         "xaxis": "x",
         "y": [
          null,
          null,
          null,
          null,
          null,
          null,
          null,
          null,
          null,
          null,
          null,
          null,
          null,
          null,
          null,
          null,
          null,
          null,
          null,
          null,
          null,
          null,
          null,
          null,
          null,
          null,
          null,
          null,
          null,
          null,
          null,
          null,
          null,
          null,
          null,
          null,
          null,
          null,
          null,
          null
         ],
         "yaxis": "y"
        }
       ],
       "layout": {
        "legend": {
         "title": {
          "text": "RCP"
         },
         "tracegroupgap": 0
        },
        "template": {
         "data": {
          "bar": [
           {
            "error_x": {
             "color": "#2a3f5f"
            },
            "error_y": {
             "color": "#2a3f5f"
            },
            "marker": {
             "line": {
              "color": "#E5ECF6",
              "width": 0.5
             },
             "pattern": {
              "fillmode": "overlay",
              "size": 10,
              "solidity": 0.2
             }
            },
            "type": "bar"
           }
          ],
          "barpolar": [
           {
            "marker": {
             "line": {
              "color": "#E5ECF6",
              "width": 0.5
             },
             "pattern": {
              "fillmode": "overlay",
              "size": 10,
              "solidity": 0.2
             }
            },
            "type": "barpolar"
           }
          ],
          "carpet": [
           {
            "aaxis": {
             "endlinecolor": "#2a3f5f",
             "gridcolor": "white",
             "linecolor": "white",
             "minorgridcolor": "white",
             "startlinecolor": "#2a3f5f"
            },
            "baxis": {
             "endlinecolor": "#2a3f5f",
             "gridcolor": "white",
             "linecolor": "white",
             "minorgridcolor": "white",
             "startlinecolor": "#2a3f5f"
            },
            "type": "carpet"
           }
          ],
          "choropleth": [
           {
            "colorbar": {
             "outlinewidth": 0,
             "ticks": ""
            },
            "type": "choropleth"
           }
          ],
          "contour": [
           {
            "colorbar": {
             "outlinewidth": 0,
             "ticks": ""
            },
            "colorscale": [
             [
              0,
              "#0d0887"
             ],
             [
              0.1111111111111111,
              "#46039f"
             ],
             [
              0.2222222222222222,
              "#7201a8"
             ],
             [
              0.3333333333333333,
              "#9c179e"
             ],
             [
              0.4444444444444444,
              "#bd3786"
             ],
             [
              0.5555555555555556,
              "#d8576b"
             ],
             [
              0.6666666666666666,
              "#ed7953"
             ],
             [
              0.7777777777777778,
              "#fb9f3a"
             ],
             [
              0.8888888888888888,
              "#fdca26"
             ],
             [
              1,
              "#f0f921"
             ]
            ],
            "type": "contour"
           }
          ],
          "contourcarpet": [
           {
            "colorbar": {
             "outlinewidth": 0,
             "ticks": ""
            },
            "type": "contourcarpet"
           }
          ],
          "heatmap": [
           {
            "colorbar": {
             "outlinewidth": 0,
             "ticks": ""
            },
            "colorscale": [
             [
              0,
              "#0d0887"
             ],
             [
              0.1111111111111111,
              "#46039f"
             ],
             [
              0.2222222222222222,
              "#7201a8"
             ],
             [
              0.3333333333333333,
              "#9c179e"
             ],
             [
              0.4444444444444444,
              "#bd3786"
             ],
             [
              0.5555555555555556,
              "#d8576b"
             ],
             [
              0.6666666666666666,
              "#ed7953"
             ],
             [
              0.7777777777777778,
              "#fb9f3a"
             ],
             [
              0.8888888888888888,
              "#fdca26"
             ],
             [
              1,
              "#f0f921"
             ]
            ],
            "type": "heatmap"
           }
          ],
          "heatmapgl": [
           {
            "colorbar": {
             "outlinewidth": 0,
             "ticks": ""
            },
            "colorscale": [
             [
              0,
              "#0d0887"
             ],
             [
              0.1111111111111111,
              "#46039f"
             ],
             [
              0.2222222222222222,
              "#7201a8"
             ],
             [
              0.3333333333333333,
              "#9c179e"
             ],
             [
              0.4444444444444444,
              "#bd3786"
             ],
             [
              0.5555555555555556,
              "#d8576b"
             ],
             [
              0.6666666666666666,
              "#ed7953"
             ],
             [
              0.7777777777777778,
              "#fb9f3a"
             ],
             [
              0.8888888888888888,
              "#fdca26"
             ],
             [
              1,
              "#f0f921"
             ]
            ],
            "type": "heatmapgl"
           }
          ],
          "histogram": [
           {
            "marker": {
             "pattern": {
              "fillmode": "overlay",
              "size": 10,
              "solidity": 0.2
             }
            },
            "type": "histogram"
           }
          ],
          "histogram2d": [
           {
            "colorbar": {
             "outlinewidth": 0,
             "ticks": ""
            },
            "colorscale": [
             [
              0,
              "#0d0887"
             ],
             [
              0.1111111111111111,
              "#46039f"
             ],
             [
              0.2222222222222222,
              "#7201a8"
             ],
             [
              0.3333333333333333,
              "#9c179e"
             ],
             [
              0.4444444444444444,
              "#bd3786"
             ],
             [
              0.5555555555555556,
              "#d8576b"
             ],
             [
              0.6666666666666666,
              "#ed7953"
             ],
             [
              0.7777777777777778,
              "#fb9f3a"
             ],
             [
              0.8888888888888888,
              "#fdca26"
             ],
             [
              1,
              "#f0f921"
             ]
            ],
            "type": "histogram2d"
           }
          ],
          "histogram2dcontour": [
           {
            "colorbar": {
             "outlinewidth": 0,
             "ticks": ""
            },
            "colorscale": [
             [
              0,
              "#0d0887"
             ],
             [
              0.1111111111111111,
              "#46039f"
             ],
             [
              0.2222222222222222,
              "#7201a8"
             ],
             [
              0.3333333333333333,
              "#9c179e"
             ],
             [
              0.4444444444444444,
              "#bd3786"
             ],
             [
              0.5555555555555556,
              "#d8576b"
             ],
             [
              0.6666666666666666,
              "#ed7953"
             ],
             [
              0.7777777777777778,
              "#fb9f3a"
             ],
             [
              0.8888888888888888,
              "#fdca26"
             ],
             [
              1,
              "#f0f921"
             ]
            ],
            "type": "histogram2dcontour"
           }
          ],
          "mesh3d": [
           {
            "colorbar": {
             "outlinewidth": 0,
             "ticks": ""
            },
            "type": "mesh3d"
           }
          ],
          "parcoords": [
           {
            "line": {
             "colorbar": {
              "outlinewidth": 0,
              "ticks": ""
             }
            },
            "type": "parcoords"
           }
          ],
          "pie": [
           {
            "automargin": true,
            "type": "pie"
           }
          ],
          "scatter": [
           {
            "fillpattern": {
             "fillmode": "overlay",
             "size": 10,
             "solidity": 0.2
            },
            "type": "scatter"
           }
          ],
          "scatter3d": [
           {
            "line": {
             "colorbar": {
              "outlinewidth": 0,
              "ticks": ""
             }
            },
            "marker": {
             "colorbar": {
              "outlinewidth": 0,
              "ticks": ""
             }
            },
            "type": "scatter3d"
           }
          ],
          "scattercarpet": [
           {
            "marker": {
             "colorbar": {
              "outlinewidth": 0,
              "ticks": ""
             }
            },
            "type": "scattercarpet"
           }
          ],
          "scattergeo": [
           {
            "marker": {
             "colorbar": {
              "outlinewidth": 0,
              "ticks": ""
             }
            },
            "type": "scattergeo"
           }
          ],
          "scattergl": [
           {
            "marker": {
             "colorbar": {
              "outlinewidth": 0,
              "ticks": ""
             }
            },
            "type": "scattergl"
           }
          ],
          "scattermapbox": [
           {
            "marker": {
             "colorbar": {
              "outlinewidth": 0,
              "ticks": ""
             }
            },
            "type": "scattermapbox"
           }
          ],
          "scatterpolar": [
           {
            "marker": {
             "colorbar": {
              "outlinewidth": 0,
              "ticks": ""
             }
            },
            "type": "scatterpolar"
           }
          ],
          "scatterpolargl": [
           {
            "marker": {
             "colorbar": {
              "outlinewidth": 0,
              "ticks": ""
             }
            },
            "type": "scatterpolargl"
           }
          ],
          "scatterternary": [
           {
            "marker": {
             "colorbar": {
              "outlinewidth": 0,
              "ticks": ""
             }
            },
            "type": "scatterternary"
           }
          ],
          "surface": [
           {
            "colorbar": {
             "outlinewidth": 0,
             "ticks": ""
            },
            "colorscale": [
             [
              0,
              "#0d0887"
             ],
             [
              0.1111111111111111,
              "#46039f"
             ],
             [
              0.2222222222222222,
              "#7201a8"
             ],
             [
              0.3333333333333333,
              "#9c179e"
             ],
             [
              0.4444444444444444,
              "#bd3786"
             ],
             [
              0.5555555555555556,
              "#d8576b"
             ],
             [
              0.6666666666666666,
              "#ed7953"
             ],
             [
              0.7777777777777778,
              "#fb9f3a"
             ],
             [
              0.8888888888888888,
              "#fdca26"
             ],
             [
              1,
              "#f0f921"
             ]
            ],
            "type": "surface"
           }
          ],
          "table": [
           {
            "cells": {
             "fill": {
              "color": "#EBF0F8"
             },
             "line": {
              "color": "white"
             }
            },
            "header": {
             "fill": {
              "color": "#C8D4E3"
             },
             "line": {
              "color": "white"
             }
            },
            "type": "table"
           }
          ]
         },
         "layout": {
          "annotationdefaults": {
           "arrowcolor": "#2a3f5f",
           "arrowhead": 0,
           "arrowwidth": 1
          },
          "autotypenumbers": "strict",
          "coloraxis": {
           "colorbar": {
            "outlinewidth": 0,
            "ticks": ""
           }
          },
          "colorscale": {
           "diverging": [
            [
             0,
             "#8e0152"
            ],
            [
             0.1,
             "#c51b7d"
            ],
            [
             0.2,
             "#de77ae"
            ],
            [
             0.3,
             "#f1b6da"
            ],
            [
             0.4,
             "#fde0ef"
            ],
            [
             0.5,
             "#f7f7f7"
            ],
            [
             0.6,
             "#e6f5d0"
            ],
            [
             0.7,
             "#b8e186"
            ],
            [
             0.8,
             "#7fbc41"
            ],
            [
             0.9,
             "#4d9221"
            ],
            [
             1,
             "#276419"
            ]
           ],
           "sequential": [
            [
             0,
             "#0d0887"
            ],
            [
             0.1111111111111111,
             "#46039f"
            ],
            [
             0.2222222222222222,
             "#7201a8"
            ],
            [
             0.3333333333333333,
             "#9c179e"
            ],
            [
             0.4444444444444444,
             "#bd3786"
            ],
            [
             0.5555555555555556,
             "#d8576b"
            ],
            [
             0.6666666666666666,
             "#ed7953"
            ],
            [
             0.7777777777777778,
             "#fb9f3a"
            ],
            [
             0.8888888888888888,
             "#fdca26"
            ],
            [
             1,
             "#f0f921"
            ]
           ],
           "sequentialminus": [
            [
             0,
             "#0d0887"
            ],
            [
             0.1111111111111111,
             "#46039f"
            ],
            [
             0.2222222222222222,
             "#7201a8"
            ],
            [
             0.3333333333333333,
             "#9c179e"
            ],
            [
             0.4444444444444444,
             "#bd3786"
            ],
            [
             0.5555555555555556,
             "#d8576b"
            ],
            [
             0.6666666666666666,
             "#ed7953"
            ],
            [
             0.7777777777777778,
             "#fb9f3a"
            ],
            [
             0.8888888888888888,
             "#fdca26"
            ],
            [
             1,
             "#f0f921"
            ]
           ]
          },
          "colorway": [
           "#636efa",
           "#EF553B",
           "#00cc96",
           "#ab63fa",
           "#FFA15A",
           "#19d3f3",
           "#FF6692",
           "#B6E880",
           "#FF97FF",
           "#FECB52"
          ],
          "font": {
           "color": "#2a3f5f"
          },
          "geo": {
           "bgcolor": "white",
           "lakecolor": "white",
           "landcolor": "#E5ECF6",
           "showlakes": true,
           "showland": true,
           "subunitcolor": "white"
          },
          "hoverlabel": {
           "align": "left"
          },
          "hovermode": "closest",
          "mapbox": {
           "style": "light"
          },
          "paper_bgcolor": "white",
          "plot_bgcolor": "#E5ECF6",
          "polar": {
           "angularaxis": {
            "gridcolor": "white",
            "linecolor": "white",
            "ticks": ""
           },
           "bgcolor": "#E5ECF6",
           "radialaxis": {
            "gridcolor": "white",
            "linecolor": "white",
            "ticks": ""
           }
          },
          "scene": {
           "xaxis": {
            "backgroundcolor": "#E5ECF6",
            "gridcolor": "white",
            "gridwidth": 2,
            "linecolor": "white",
            "showbackground": true,
            "ticks": "",
            "zerolinecolor": "white"
           },
           "yaxis": {
            "backgroundcolor": "#E5ECF6",
            "gridcolor": "white",
            "gridwidth": 2,
            "linecolor": "white",
            "showbackground": true,
            "ticks": "",
            "zerolinecolor": "white"
           },
           "zaxis": {
            "backgroundcolor": "#E5ECF6",
            "gridcolor": "white",
            "gridwidth": 2,
            "linecolor": "white",
            "showbackground": true,
            "ticks": "",
            "zerolinecolor": "white"
           }
          },
          "shapedefaults": {
           "line": {
            "color": "#2a3f5f"
           }
          },
          "ternary": {
           "aaxis": {
            "gridcolor": "white",
            "linecolor": "white",
            "ticks": ""
           },
           "baxis": {
            "gridcolor": "white",
            "linecolor": "white",
            "ticks": ""
           },
           "bgcolor": "#E5ECF6",
           "caxis": {
            "gridcolor": "white",
            "linecolor": "white",
            "ticks": ""
           }
          },
          "title": {
           "x": 0.05
          },
          "xaxis": {
           "automargin": true,
           "gridcolor": "white",
           "linecolor": "white",
           "ticks": "",
           "title": {
            "standoff": 15
           },
           "zerolinecolor": "white",
           "zerolinewidth": 2
          },
          "yaxis": {
           "automargin": true,
           "gridcolor": "white",
           "linecolor": "white",
           "ticks": "",
           "title": {
            "standoff": 15
           },
           "zerolinecolor": "white",
           "zerolinewidth": 2
          }
         }
        },
        "title": {
         "text": "Mean Long Term Temperature"
        },
        "xaxis": {
         "anchor": "y",
         "domain": [
          0,
          1
         ],
         "title": {
          "text": "Year"
         }
        },
        "yaxis": {
         "anchor": "x",
         "domain": [
          0,
          1
         ],
         "title": {
          "text": "Mean Anual Temperature (C)"
         }
        }
       }
      },
      "text/html": [
       "<div>                            <div id=\"ddc58383-89f7-466f-8b1c-87870a5bd6b2\" class=\"plotly-graph-div\" style=\"height:525px; width:100%;\"></div>            <script type=\"text/javascript\">                require([\"plotly\"], function(Plotly) {                    window.PLOTLYENV=window.PLOTLYENV || {};                                    if (document.getElementById(\"ddc58383-89f7-466f-8b1c-87870a5bd6b2\")) {                    Plotly.newPlot(                        \"ddc58383-89f7-466f-8b1c-87870a5bd6b2\",                        [{\"hovertemplate\":\"RCP=4.5\\u003cbr\\u003eYear=%{x}\\u003cbr\\u003eMean Anual Temperature (C)=%{y}\\u003cextra\\u003e\\u003c\\u002fextra\\u003e\",\"legendgroup\":\"4.5\",\"line\":{\"color\":\"#636efa\",\"dash\":\"solid\"},\"marker\":{\"symbol\":\"circle\"},\"mode\":\"lines\",\"name\":\"4.5\",\"orientation\":\"v\",\"showlegend\":true,\"x\":[2060,2061,2062,2063,2064,2065,2066,2067,2068,2069,2070,2071,2072,2073,2074,2075,2076,2077,2078,2079,2080,2081,2082,2083,2084,2085,2086,2087,2088,2089,2090,2091,2092,2093,2094,2095,2096,2097,2098,2099],\"xaxis\":\"x\",\"y\":[13.165236766150443,13.25949982355531,13.442974922125,13.371525686277655,13.276840489280973,13.588398420478539,13.818191073396017,13.467958694701329,13.412381322766594,13.742395717201328,13.600599478611725,13.446791146570796,13.857044780517699,13.481448939449116,13.853924363746682,13.599140022548672,13.946423611911506,13.679382217352876,13.629552805542035,13.53621614709292,13.777855314082965,13.830462506252212,13.943445045108408,13.778009005830752,13.784706603606194,13.522663186981195,13.850944646006637,13.955237256150443,13.758296315873894,13.65864570954093,13.675699398573009,13.816708041471239,13.877994353222565,13.92245080829646,13.984422259288053,13.87484981199115,13.979832048285397,13.850943422873893,13.866599981710177,14.071631326371682],\"yaxis\":\"y\",\"type\":\"scatter\"},{\"hovertemplate\":\"RCP=8.5\\u003cbr\\u003eYear=%{x}\\u003cbr\\u003eMean Anual Temperature (C)=%{y}\\u003cextra\\u003e\\u003c\\u002fextra\\u003e\",\"legendgroup\":\"8.5\",\"line\":{\"color\":\"#EF553B\",\"dash\":\"solid\"},\"marker\":{\"symbol\":\"circle\"},\"mode\":\"lines\",\"name\":\"8.5\",\"orientation\":\"v\",\"showlegend\":true,\"x\":[2060,2061,2062,2063,2064,2065,2066,2067,2068,2069,2070,2071,2072,2073,2074,2075,2076,2077,2078,2079,2080,2081,2082,2083,2084,2085,2086,2087,2088,2089,2090,2091,2092,2093,2094,2095,2096,2097,2098,2099],\"xaxis\":\"x\",\"y\":[14.518005300276549,14.274039476780972,14.646944682936946,14.874283783849558,14.692183830586284,14.906480710176991,14.814531315365045,15.047525736877432,15.216538166261062,15.1332383085177,15.23902147983407,15.366540943805308,15.412484282411507,15.354648503030974,15.307001732300884,15.391060524889381,15.623549545685842,15.658335806305308,15.872721087876105,16.012311328097343,15.571448807278761,15.85225884107301,16.154986940044246,15.81462528550885,16.085991377599555,16.006655490929205,16.273390203207963,16.20507482488938,16.38796168113938,16.35214427334071,16.212202266924777,16.44144005652655,16.645684734513274,16.75993480464602,16.874846472013274,16.523691602674777,16.979806874336283,16.748622686504426,17.32131155188053,17.107894891880534],\"yaxis\":\"y\",\"type\":\"scatter\"},{\"hovertemplate\":\"RCP=historical\\u003cbr\\u003eYear=%{x}\\u003cbr\\u003eMean Anual Temperature (C)=%{y}\\u003cextra\\u003e\\u003c\\u002fextra\\u003e\",\"legendgroup\":\"historical\",\"line\":{\"color\":\"#00cc96\",\"dash\":\"solid\"},\"marker\":{\"symbol\":\"circle\"},\"mode\":\"lines\",\"name\":\"historical\",\"orientation\":\"v\",\"showlegend\":false,\"x\":[2060,2061,2062,2063,2064,2065,2066,2067,2068,2069,2070,2071,2072,2073,2074,2075,2076,2077,2078,2079,2080,2081,2082,2083,2084,2085,2086,2087,2088,2089,2090,2091,2092,2093,2094,2095,2096,2097,2098,2099],\"xaxis\":\"x\",\"y\":[null,null,null,null,null,null,null,null,null,null,null,null,null,null,null,null,null,null,null,null,null,null,null,null,null,null,null,null,null,null,null,null,null,null,null,null,null,null,null,null],\"yaxis\":\"y\",\"type\":\"scatter\"}],                        {\"template\":{\"data\":{\"histogram2dcontour\":[{\"type\":\"histogram2dcontour\",\"colorbar\":{\"outlinewidth\":0,\"ticks\":\"\"},\"colorscale\":[[0.0,\"#0d0887\"],[0.1111111111111111,\"#46039f\"],[0.2222222222222222,\"#7201a8\"],[0.3333333333333333,\"#9c179e\"],[0.4444444444444444,\"#bd3786\"],[0.5555555555555556,\"#d8576b\"],[0.6666666666666666,\"#ed7953\"],[0.7777777777777778,\"#fb9f3a\"],[0.8888888888888888,\"#fdca26\"],[1.0,\"#f0f921\"]]}],\"choropleth\":[{\"type\":\"choropleth\",\"colorbar\":{\"outlinewidth\":0,\"ticks\":\"\"}}],\"histogram2d\":[{\"type\":\"histogram2d\",\"colorbar\":{\"outlinewidth\":0,\"ticks\":\"\"},\"colorscale\":[[0.0,\"#0d0887\"],[0.1111111111111111,\"#46039f\"],[0.2222222222222222,\"#7201a8\"],[0.3333333333333333,\"#9c179e\"],[0.4444444444444444,\"#bd3786\"],[0.5555555555555556,\"#d8576b\"],[0.6666666666666666,\"#ed7953\"],[0.7777777777777778,\"#fb9f3a\"],[0.8888888888888888,\"#fdca26\"],[1.0,\"#f0f921\"]]}],\"heatmap\":[{\"type\":\"heatmap\",\"colorbar\":{\"outlinewidth\":0,\"ticks\":\"\"},\"colorscale\":[[0.0,\"#0d0887\"],[0.1111111111111111,\"#46039f\"],[0.2222222222222222,\"#7201a8\"],[0.3333333333333333,\"#9c179e\"],[0.4444444444444444,\"#bd3786\"],[0.5555555555555556,\"#d8576b\"],[0.6666666666666666,\"#ed7953\"],[0.7777777777777778,\"#fb9f3a\"],[0.8888888888888888,\"#fdca26\"],[1.0,\"#f0f921\"]]}],\"heatmapgl\":[{\"type\":\"heatmapgl\",\"colorbar\":{\"outlinewidth\":0,\"ticks\":\"\"},\"colorscale\":[[0.0,\"#0d0887\"],[0.1111111111111111,\"#46039f\"],[0.2222222222222222,\"#7201a8\"],[0.3333333333333333,\"#9c179e\"],[0.4444444444444444,\"#bd3786\"],[0.5555555555555556,\"#d8576b\"],[0.6666666666666666,\"#ed7953\"],[0.7777777777777778,\"#fb9f3a\"],[0.8888888888888888,\"#fdca26\"],[1.0,\"#f0f921\"]]}],\"contourcarpet\":[{\"type\":\"contourcarpet\",\"colorbar\":{\"outlinewidth\":0,\"ticks\":\"\"}}],\"contour\":[{\"type\":\"contour\",\"colorbar\":{\"outlinewidth\":0,\"ticks\":\"\"},\"colorscale\":[[0.0,\"#0d0887\"],[0.1111111111111111,\"#46039f\"],[0.2222222222222222,\"#7201a8\"],[0.3333333333333333,\"#9c179e\"],[0.4444444444444444,\"#bd3786\"],[0.5555555555555556,\"#d8576b\"],[0.6666666666666666,\"#ed7953\"],[0.7777777777777778,\"#fb9f3a\"],[0.8888888888888888,\"#fdca26\"],[1.0,\"#f0f921\"]]}],\"surface\":[{\"type\":\"surface\",\"colorbar\":{\"outlinewidth\":0,\"ticks\":\"\"},\"colorscale\":[[0.0,\"#0d0887\"],[0.1111111111111111,\"#46039f\"],[0.2222222222222222,\"#7201a8\"],[0.3333333333333333,\"#9c179e\"],[0.4444444444444444,\"#bd3786\"],[0.5555555555555556,\"#d8576b\"],[0.6666666666666666,\"#ed7953\"],[0.7777777777777778,\"#fb9f3a\"],[0.8888888888888888,\"#fdca26\"],[1.0,\"#f0f921\"]]}],\"mesh3d\":[{\"type\":\"mesh3d\",\"colorbar\":{\"outlinewidth\":0,\"ticks\":\"\"}}],\"scatter\":[{\"fillpattern\":{\"fillmode\":\"overlay\",\"size\":10,\"solidity\":0.2},\"type\":\"scatter\"}],\"parcoords\":[{\"type\":\"parcoords\",\"line\":{\"colorbar\":{\"outlinewidth\":0,\"ticks\":\"\"}}}],\"scatterpolargl\":[{\"type\":\"scatterpolargl\",\"marker\":{\"colorbar\":{\"outlinewidth\":0,\"ticks\":\"\"}}}],\"bar\":[{\"error_x\":{\"color\":\"#2a3f5f\"},\"error_y\":{\"color\":\"#2a3f5f\"},\"marker\":{\"line\":{\"color\":\"#E5ECF6\",\"width\":0.5},\"pattern\":{\"fillmode\":\"overlay\",\"size\":10,\"solidity\":0.2}},\"type\":\"bar\"}],\"scattergeo\":[{\"type\":\"scattergeo\",\"marker\":{\"colorbar\":{\"outlinewidth\":0,\"ticks\":\"\"}}}],\"scatterpolar\":[{\"type\":\"scatterpolar\",\"marker\":{\"colorbar\":{\"outlinewidth\":0,\"ticks\":\"\"}}}],\"histogram\":[{\"marker\":{\"pattern\":{\"fillmode\":\"overlay\",\"size\":10,\"solidity\":0.2}},\"type\":\"histogram\"}],\"scattergl\":[{\"type\":\"scattergl\",\"marker\":{\"colorbar\":{\"outlinewidth\":0,\"ticks\":\"\"}}}],\"scatter3d\":[{\"type\":\"scatter3d\",\"line\":{\"colorbar\":{\"outlinewidth\":0,\"ticks\":\"\"}},\"marker\":{\"colorbar\":{\"outlinewidth\":0,\"ticks\":\"\"}}}],\"scattermapbox\":[{\"type\":\"scattermapbox\",\"marker\":{\"colorbar\":{\"outlinewidth\":0,\"ticks\":\"\"}}}],\"scatterternary\":[{\"type\":\"scatterternary\",\"marker\":{\"colorbar\":{\"outlinewidth\":0,\"ticks\":\"\"}}}],\"scattercarpet\":[{\"type\":\"scattercarpet\",\"marker\":{\"colorbar\":{\"outlinewidth\":0,\"ticks\":\"\"}}}],\"carpet\":[{\"aaxis\":{\"endlinecolor\":\"#2a3f5f\",\"gridcolor\":\"white\",\"linecolor\":\"white\",\"minorgridcolor\":\"white\",\"startlinecolor\":\"#2a3f5f\"},\"baxis\":{\"endlinecolor\":\"#2a3f5f\",\"gridcolor\":\"white\",\"linecolor\":\"white\",\"minorgridcolor\":\"white\",\"startlinecolor\":\"#2a3f5f\"},\"type\":\"carpet\"}],\"table\":[{\"cells\":{\"fill\":{\"color\":\"#EBF0F8\"},\"line\":{\"color\":\"white\"}},\"header\":{\"fill\":{\"color\":\"#C8D4E3\"},\"line\":{\"color\":\"white\"}},\"type\":\"table\"}],\"barpolar\":[{\"marker\":{\"line\":{\"color\":\"#E5ECF6\",\"width\":0.5},\"pattern\":{\"fillmode\":\"overlay\",\"size\":10,\"solidity\":0.2}},\"type\":\"barpolar\"}],\"pie\":[{\"automargin\":true,\"type\":\"pie\"}]},\"layout\":{\"autotypenumbers\":\"strict\",\"colorway\":[\"#636efa\",\"#EF553B\",\"#00cc96\",\"#ab63fa\",\"#FFA15A\",\"#19d3f3\",\"#FF6692\",\"#B6E880\",\"#FF97FF\",\"#FECB52\"],\"font\":{\"color\":\"#2a3f5f\"},\"hovermode\":\"closest\",\"hoverlabel\":{\"align\":\"left\"},\"paper_bgcolor\":\"white\",\"plot_bgcolor\":\"#E5ECF6\",\"polar\":{\"bgcolor\":\"#E5ECF6\",\"angularaxis\":{\"gridcolor\":\"white\",\"linecolor\":\"white\",\"ticks\":\"\"},\"radialaxis\":{\"gridcolor\":\"white\",\"linecolor\":\"white\",\"ticks\":\"\"}},\"ternary\":{\"bgcolor\":\"#E5ECF6\",\"aaxis\":{\"gridcolor\":\"white\",\"linecolor\":\"white\",\"ticks\":\"\"},\"baxis\":{\"gridcolor\":\"white\",\"linecolor\":\"white\",\"ticks\":\"\"},\"caxis\":{\"gridcolor\":\"white\",\"linecolor\":\"white\",\"ticks\":\"\"}},\"coloraxis\":{\"colorbar\":{\"outlinewidth\":0,\"ticks\":\"\"}},\"colorscale\":{\"sequential\":[[0.0,\"#0d0887\"],[0.1111111111111111,\"#46039f\"],[0.2222222222222222,\"#7201a8\"],[0.3333333333333333,\"#9c179e\"],[0.4444444444444444,\"#bd3786\"],[0.5555555555555556,\"#d8576b\"],[0.6666666666666666,\"#ed7953\"],[0.7777777777777778,\"#fb9f3a\"],[0.8888888888888888,\"#fdca26\"],[1.0,\"#f0f921\"]],\"sequentialminus\":[[0.0,\"#0d0887\"],[0.1111111111111111,\"#46039f\"],[0.2222222222222222,\"#7201a8\"],[0.3333333333333333,\"#9c179e\"],[0.4444444444444444,\"#bd3786\"],[0.5555555555555556,\"#d8576b\"],[0.6666666666666666,\"#ed7953\"],[0.7777777777777778,\"#fb9f3a\"],[0.8888888888888888,\"#fdca26\"],[1.0,\"#f0f921\"]],\"diverging\":[[0,\"#8e0152\"],[0.1,\"#c51b7d\"],[0.2,\"#de77ae\"],[0.3,\"#f1b6da\"],[0.4,\"#fde0ef\"],[0.5,\"#f7f7f7\"],[0.6,\"#e6f5d0\"],[0.7,\"#b8e186\"],[0.8,\"#7fbc41\"],[0.9,\"#4d9221\"],[1,\"#276419\"]]},\"xaxis\":{\"gridcolor\":\"white\",\"linecolor\":\"white\",\"ticks\":\"\",\"title\":{\"standoff\":15},\"zerolinecolor\":\"white\",\"automargin\":true,\"zerolinewidth\":2},\"yaxis\":{\"gridcolor\":\"white\",\"linecolor\":\"white\",\"ticks\":\"\",\"title\":{\"standoff\":15},\"zerolinecolor\":\"white\",\"automargin\":true,\"zerolinewidth\":2},\"scene\":{\"xaxis\":{\"backgroundcolor\":\"#E5ECF6\",\"gridcolor\":\"white\",\"linecolor\":\"white\",\"showbackground\":true,\"ticks\":\"\",\"zerolinecolor\":\"white\",\"gridwidth\":2},\"yaxis\":{\"backgroundcolor\":\"#E5ECF6\",\"gridcolor\":\"white\",\"linecolor\":\"white\",\"showbackground\":true,\"ticks\":\"\",\"zerolinecolor\":\"white\",\"gridwidth\":2},\"zaxis\":{\"backgroundcolor\":\"#E5ECF6\",\"gridcolor\":\"white\",\"linecolor\":\"white\",\"showbackground\":true,\"ticks\":\"\",\"zerolinecolor\":\"white\",\"gridwidth\":2}},\"shapedefaults\":{\"line\":{\"color\":\"#2a3f5f\"}},\"annotationdefaults\":{\"arrowcolor\":\"#2a3f5f\",\"arrowhead\":0,\"arrowwidth\":1},\"geo\":{\"bgcolor\":\"white\",\"landcolor\":\"#E5ECF6\",\"subunitcolor\":\"white\",\"showland\":true,\"showlakes\":true,\"lakecolor\":\"white\"},\"title\":{\"x\":0.05},\"mapbox\":{\"style\":\"light\"}}},\"xaxis\":{\"anchor\":\"y\",\"domain\":[0.0,1.0],\"title\":{\"text\":\"Year\"}},\"yaxis\":{\"anchor\":\"x\",\"domain\":[0.0,1.0],\"title\":{\"text\":\"Mean Anual Temperature (C)\"}},\"legend\":{\"title\":{\"text\":\"RCP\"},\"tracegroupgap\":0},\"title\":{\"text\":\"Mean Long Term Temperature\"}},                        {\"responsive\": true}                    ).then(function(){\n",
       "                            \n",
       "var gd = document.getElementById('ddc58383-89f7-466f-8b1c-87870a5bd6b2');\n",
       "var x = new MutationObserver(function (mutations, observer) {{\n",
       "        var display = window.getComputedStyle(gd).display;\n",
       "        if (!display || display === 'none') {{\n",
       "            console.log([gd, 'removed!']);\n",
       "            Plotly.purge(gd);\n",
       "            observer.disconnect();\n",
       "        }}\n",
       "}});\n",
       "\n",
       "// Listen for the removal of the full notebook cells\n",
       "var notebookContainer = gd.closest('#notebook-container');\n",
       "if (notebookContainer) {{\n",
       "    x.observe(notebookContainer, {childList: true});\n",
       "}}\n",
       "\n",
       "// Listen for the clearing of the current output cell\n",
       "var outputEl = gd.closest('.output');\n",
       "if (outputEl) {{\n",
       "    x.observe(outputEl, {childList: true});\n",
       "}}\n",
       "\n",
       "                        })                };                });            </script>        </div>"
      ]
     },
     "metadata": {},
     "output_type": "display_data"
    }
   ],
   "source": [
    "#plot annual mean temp\n",
    "# set temp df for plot\n",
    "plot_df = df[df['TimePeriod'] == 'LT']\n",
    "# find mean temp of all collection site per year\n",
    "plot_df = plot_df.groupby(['year', 'RCP'])['T_Annual'].mean().reset_index()\n",
    "#plotly plot\n",
    "fig = px.line(plot_df,\n",
    "              x='year',\n",
    "              y='T_Annual',\n",
    "              color= 'RCP',\n",
    "              title='Mean Long Term Temperature',\n",
    "              labels={\n",
    "                     \"year\": \"Year\",\n",
    "                     \"T_Annual\": \"Mean Anual Temperature (C)\"\n",
    "                 }\n",
    "              )\n",
    "#remove hist from legend\n",
    "for trace in fig.data:\n",
    "    if trace.name == 'historical':\n",
    "        trace.showlegend = False\n",
    "#print fig\n",
    "fig.show()"
   ]
  },
  {
   "cell_type": "markdown",
   "metadata": {},
   "source": [
    "# Annual Precipitation"
   ]
  },
  {
   "cell_type": "code",
   "execution_count": 59,
   "metadata": {},
   "outputs": [
    {
     "data": {
      "application/vnd.plotly.v1+json": {
       "config": {
        "plotlyServerURL": "https://plot.ly"
       },
       "data": [
        {
         "hovertemplate": "Year=%{x}<br>Precipitation (CM)=%{y}<extra></extra>",
         "legendgroup": "",
         "line": {
          "color": "#636efa",
          "dash": "solid"
         },
         "marker": {
          "symbol": "circle"
         },
         "mode": "lines",
         "name": "",
         "orientation": "v",
         "showlegend": false,
         "type": "scatter",
         "x": [
          1980,
          1981,
          1982,
          1983,
          1984,
          1985,
          1986,
          1987,
          1988,
          1989,
          1990,
          1991,
          1992,
          1993,
          1994,
          1995,
          1996,
          1997,
          1998,
          1999,
          2000,
          2001,
          2002,
          2003,
          2004,
          2005,
          2006,
          2007,
          2008,
          2009,
          2010,
          2011,
          2012,
          2013,
          2014,
          2015,
          2016,
          2017,
          2018
         ],
         "xaxis": "x",
         "y": [
          32.61858407079646,
          35.693982300884954,
          30.439557522123895,
          41.28769911504425,
          28.306106194690265,
          41.19477876106195,
          33.367610619469026,
          35.98575221238938,
          25.758849557522122,
          17.03734513274336,
          26.028495575221235,
          27.920442477876108,
          29.810442477876105,
          34.656371681415926,
          23.211769911504426,
          29.97495575221239,
          25.608938053097344,
          35.49637168141594,
          29.929557522123893,
          28.379026548672567,
          26.580530973451328,
          25.76283185840708,
          18.651150442477874,
          27.08513274336283,
          32.78504424778761,
          36.46690265486726,
          34.39477876106195,
          22.7283185840708,
          28.997610619469025,
          21.19991150442478,
          35.39858407079646,
          25.872566371681415,
          19.308141592920354,
          36.14362831858408,
          22.901858407079644,
          39.65929203539823,
          25.47407079646018,
          22.71433628318584,
          21.845486725663722
         ],
         "yaxis": "y"
        }
       ],
       "layout": {
        "legend": {
         "tracegroupgap": 0
        },
        "template": {
         "data": {
          "bar": [
           {
            "error_x": {
             "color": "#2a3f5f"
            },
            "error_y": {
             "color": "#2a3f5f"
            },
            "marker": {
             "line": {
              "color": "#E5ECF6",
              "width": 0.5
             },
             "pattern": {
              "fillmode": "overlay",
              "size": 10,
              "solidity": 0.2
             }
            },
            "type": "bar"
           }
          ],
          "barpolar": [
           {
            "marker": {
             "line": {
              "color": "#E5ECF6",
              "width": 0.5
             },
             "pattern": {
              "fillmode": "overlay",
              "size": 10,
              "solidity": 0.2
             }
            },
            "type": "barpolar"
           }
          ],
          "carpet": [
           {
            "aaxis": {
             "endlinecolor": "#2a3f5f",
             "gridcolor": "white",
             "linecolor": "white",
             "minorgridcolor": "white",
             "startlinecolor": "#2a3f5f"
            },
            "baxis": {
             "endlinecolor": "#2a3f5f",
             "gridcolor": "white",
             "linecolor": "white",
             "minorgridcolor": "white",
             "startlinecolor": "#2a3f5f"
            },
            "type": "carpet"
           }
          ],
          "choropleth": [
           {
            "colorbar": {
             "outlinewidth": 0,
             "ticks": ""
            },
            "type": "choropleth"
           }
          ],
          "contour": [
           {
            "colorbar": {
             "outlinewidth": 0,
             "ticks": ""
            },
            "colorscale": [
             [
              0,
              "#0d0887"
             ],
             [
              0.1111111111111111,
              "#46039f"
             ],
             [
              0.2222222222222222,
              "#7201a8"
             ],
             [
              0.3333333333333333,
              "#9c179e"
             ],
             [
              0.4444444444444444,
              "#bd3786"
             ],
             [
              0.5555555555555556,
              "#d8576b"
             ],
             [
              0.6666666666666666,
              "#ed7953"
             ],
             [
              0.7777777777777778,
              "#fb9f3a"
             ],
             [
              0.8888888888888888,
              "#fdca26"
             ],
             [
              1,
              "#f0f921"
             ]
            ],
            "type": "contour"
           }
          ],
          "contourcarpet": [
           {
            "colorbar": {
             "outlinewidth": 0,
             "ticks": ""
            },
            "type": "contourcarpet"
           }
          ],
          "heatmap": [
           {
            "colorbar": {
             "outlinewidth": 0,
             "ticks": ""
            },
            "colorscale": [
             [
              0,
              "#0d0887"
             ],
             [
              0.1111111111111111,
              "#46039f"
             ],
             [
              0.2222222222222222,
              "#7201a8"
             ],
             [
              0.3333333333333333,
              "#9c179e"
             ],
             [
              0.4444444444444444,
              "#bd3786"
             ],
             [
              0.5555555555555556,
              "#d8576b"
             ],
             [
              0.6666666666666666,
              "#ed7953"
             ],
             [
              0.7777777777777778,
              "#fb9f3a"
             ],
             [
              0.8888888888888888,
              "#fdca26"
             ],
             [
              1,
              "#f0f921"
             ]
            ],
            "type": "heatmap"
           }
          ],
          "heatmapgl": [
           {
            "colorbar": {
             "outlinewidth": 0,
             "ticks": ""
            },
            "colorscale": [
             [
              0,
              "#0d0887"
             ],
             [
              0.1111111111111111,
              "#46039f"
             ],
             [
              0.2222222222222222,
              "#7201a8"
             ],
             [
              0.3333333333333333,
              "#9c179e"
             ],
             [
              0.4444444444444444,
              "#bd3786"
             ],
             [
              0.5555555555555556,
              "#d8576b"
             ],
             [
              0.6666666666666666,
              "#ed7953"
             ],
             [
              0.7777777777777778,
              "#fb9f3a"
             ],
             [
              0.8888888888888888,
              "#fdca26"
             ],
             [
              1,
              "#f0f921"
             ]
            ],
            "type": "heatmapgl"
           }
          ],
          "histogram": [
           {
            "marker": {
             "pattern": {
              "fillmode": "overlay",
              "size": 10,
              "solidity": 0.2
             }
            },
            "type": "histogram"
           }
          ],
          "histogram2d": [
           {
            "colorbar": {
             "outlinewidth": 0,
             "ticks": ""
            },
            "colorscale": [
             [
              0,
              "#0d0887"
             ],
             [
              0.1111111111111111,
              "#46039f"
             ],
             [
              0.2222222222222222,
              "#7201a8"
             ],
             [
              0.3333333333333333,
              "#9c179e"
             ],
             [
              0.4444444444444444,
              "#bd3786"
             ],
             [
              0.5555555555555556,
              "#d8576b"
             ],
             [
              0.6666666666666666,
              "#ed7953"
             ],
             [
              0.7777777777777778,
              "#fb9f3a"
             ],
             [
              0.8888888888888888,
              "#fdca26"
             ],
             [
              1,
              "#f0f921"
             ]
            ],
            "type": "histogram2d"
           }
          ],
          "histogram2dcontour": [
           {
            "colorbar": {
             "outlinewidth": 0,
             "ticks": ""
            },
            "colorscale": [
             [
              0,
              "#0d0887"
             ],
             [
              0.1111111111111111,
              "#46039f"
             ],
             [
              0.2222222222222222,
              "#7201a8"
             ],
             [
              0.3333333333333333,
              "#9c179e"
             ],
             [
              0.4444444444444444,
              "#bd3786"
             ],
             [
              0.5555555555555556,
              "#d8576b"
             ],
             [
              0.6666666666666666,
              "#ed7953"
             ],
             [
              0.7777777777777778,
              "#fb9f3a"
             ],
             [
              0.8888888888888888,
              "#fdca26"
             ],
             [
              1,
              "#f0f921"
             ]
            ],
            "type": "histogram2dcontour"
           }
          ],
          "mesh3d": [
           {
            "colorbar": {
             "outlinewidth": 0,
             "ticks": ""
            },
            "type": "mesh3d"
           }
          ],
          "parcoords": [
           {
            "line": {
             "colorbar": {
              "outlinewidth": 0,
              "ticks": ""
             }
            },
            "type": "parcoords"
           }
          ],
          "pie": [
           {
            "automargin": true,
            "type": "pie"
           }
          ],
          "scatter": [
           {
            "fillpattern": {
             "fillmode": "overlay",
             "size": 10,
             "solidity": 0.2
            },
            "type": "scatter"
           }
          ],
          "scatter3d": [
           {
            "line": {
             "colorbar": {
              "outlinewidth": 0,
              "ticks": ""
             }
            },
            "marker": {
             "colorbar": {
              "outlinewidth": 0,
              "ticks": ""
             }
            },
            "type": "scatter3d"
           }
          ],
          "scattercarpet": [
           {
            "marker": {
             "colorbar": {
              "outlinewidth": 0,
              "ticks": ""
             }
            },
            "type": "scattercarpet"
           }
          ],
          "scattergeo": [
           {
            "marker": {
             "colorbar": {
              "outlinewidth": 0,
              "ticks": ""
             }
            },
            "type": "scattergeo"
           }
          ],
          "scattergl": [
           {
            "marker": {
             "colorbar": {
              "outlinewidth": 0,
              "ticks": ""
             }
            },
            "type": "scattergl"
           }
          ],
          "scattermapbox": [
           {
            "marker": {
             "colorbar": {
              "outlinewidth": 0,
              "ticks": ""
             }
            },
            "type": "scattermapbox"
           }
          ],
          "scatterpolar": [
           {
            "marker": {
             "colorbar": {
              "outlinewidth": 0,
              "ticks": ""
             }
            },
            "type": "scatterpolar"
           }
          ],
          "scatterpolargl": [
           {
            "marker": {
             "colorbar": {
              "outlinewidth": 0,
              "ticks": ""
             }
            },
            "type": "scatterpolargl"
           }
          ],
          "scatterternary": [
           {
            "marker": {
             "colorbar": {
              "outlinewidth": 0,
              "ticks": ""
             }
            },
            "type": "scatterternary"
           }
          ],
          "surface": [
           {
            "colorbar": {
             "outlinewidth": 0,
             "ticks": ""
            },
            "colorscale": [
             [
              0,
              "#0d0887"
             ],
             [
              0.1111111111111111,
              "#46039f"
             ],
             [
              0.2222222222222222,
              "#7201a8"
             ],
             [
              0.3333333333333333,
              "#9c179e"
             ],
             [
              0.4444444444444444,
              "#bd3786"
             ],
             [
              0.5555555555555556,
              "#d8576b"
             ],
             [
              0.6666666666666666,
              "#ed7953"
             ],
             [
              0.7777777777777778,
              "#fb9f3a"
             ],
             [
              0.8888888888888888,
              "#fdca26"
             ],
             [
              1,
              "#f0f921"
             ]
            ],
            "type": "surface"
           }
          ],
          "table": [
           {
            "cells": {
             "fill": {
              "color": "#EBF0F8"
             },
             "line": {
              "color": "white"
             }
            },
            "header": {
             "fill": {
              "color": "#C8D4E3"
             },
             "line": {
              "color": "white"
             }
            },
            "type": "table"
           }
          ]
         },
         "layout": {
          "annotationdefaults": {
           "arrowcolor": "#2a3f5f",
           "arrowhead": 0,
           "arrowwidth": 1
          },
          "autotypenumbers": "strict",
          "coloraxis": {
           "colorbar": {
            "outlinewidth": 0,
            "ticks": ""
           }
          },
          "colorscale": {
           "diverging": [
            [
             0,
             "#8e0152"
            ],
            [
             0.1,
             "#c51b7d"
            ],
            [
             0.2,
             "#de77ae"
            ],
            [
             0.3,
             "#f1b6da"
            ],
            [
             0.4,
             "#fde0ef"
            ],
            [
             0.5,
             "#f7f7f7"
            ],
            [
             0.6,
             "#e6f5d0"
            ],
            [
             0.7,
             "#b8e186"
            ],
            [
             0.8,
             "#7fbc41"
            ],
            [
             0.9,
             "#4d9221"
            ],
            [
             1,
             "#276419"
            ]
           ],
           "sequential": [
            [
             0,
             "#0d0887"
            ],
            [
             0.1111111111111111,
             "#46039f"
            ],
            [
             0.2222222222222222,
             "#7201a8"
            ],
            [
             0.3333333333333333,
             "#9c179e"
            ],
            [
             0.4444444444444444,
             "#bd3786"
            ],
            [
             0.5555555555555556,
             "#d8576b"
            ],
            [
             0.6666666666666666,
             "#ed7953"
            ],
            [
             0.7777777777777778,
             "#fb9f3a"
            ],
            [
             0.8888888888888888,
             "#fdca26"
            ],
            [
             1,
             "#f0f921"
            ]
           ],
           "sequentialminus": [
            [
             0,
             "#0d0887"
            ],
            [
             0.1111111111111111,
             "#46039f"
            ],
            [
             0.2222222222222222,
             "#7201a8"
            ],
            [
             0.3333333333333333,
             "#9c179e"
            ],
            [
             0.4444444444444444,
             "#bd3786"
            ],
            [
             0.5555555555555556,
             "#d8576b"
            ],
            [
             0.6666666666666666,
             "#ed7953"
            ],
            [
             0.7777777777777778,
             "#fb9f3a"
            ],
            [
             0.8888888888888888,
             "#fdca26"
            ],
            [
             1,
             "#f0f921"
            ]
           ]
          },
          "colorway": [
           "#636efa",
           "#EF553B",
           "#00cc96",
           "#ab63fa",
           "#FFA15A",
           "#19d3f3",
           "#FF6692",
           "#B6E880",
           "#FF97FF",
           "#FECB52"
          ],
          "font": {
           "color": "#2a3f5f"
          },
          "geo": {
           "bgcolor": "white",
           "lakecolor": "white",
           "landcolor": "#E5ECF6",
           "showlakes": true,
           "showland": true,
           "subunitcolor": "white"
          },
          "hoverlabel": {
           "align": "left"
          },
          "hovermode": "closest",
          "mapbox": {
           "style": "light"
          },
          "paper_bgcolor": "white",
          "plot_bgcolor": "#E5ECF6",
          "polar": {
           "angularaxis": {
            "gridcolor": "white",
            "linecolor": "white",
            "ticks": ""
           },
           "bgcolor": "#E5ECF6",
           "radialaxis": {
            "gridcolor": "white",
            "linecolor": "white",
            "ticks": ""
           }
          },
          "scene": {
           "xaxis": {
            "backgroundcolor": "#E5ECF6",
            "gridcolor": "white",
            "gridwidth": 2,
            "linecolor": "white",
            "showbackground": true,
            "ticks": "",
            "zerolinecolor": "white"
           },
           "yaxis": {
            "backgroundcolor": "#E5ECF6",
            "gridcolor": "white",
            "gridwidth": 2,
            "linecolor": "white",
            "showbackground": true,
            "ticks": "",
            "zerolinecolor": "white"
           },
           "zaxis": {
            "backgroundcolor": "#E5ECF6",
            "gridcolor": "white",
            "gridwidth": 2,
            "linecolor": "white",
            "showbackground": true,
            "ticks": "",
            "zerolinecolor": "white"
           }
          },
          "shapedefaults": {
           "line": {
            "color": "#2a3f5f"
           }
          },
          "ternary": {
           "aaxis": {
            "gridcolor": "white",
            "linecolor": "white",
            "ticks": ""
           },
           "baxis": {
            "gridcolor": "white",
            "linecolor": "white",
            "ticks": ""
           },
           "bgcolor": "#E5ECF6",
           "caxis": {
            "gridcolor": "white",
            "linecolor": "white",
            "ticks": ""
           }
          },
          "title": {
           "x": 0.05
          },
          "xaxis": {
           "automargin": true,
           "gridcolor": "white",
           "linecolor": "white",
           "ticks": "",
           "title": {
            "standoff": 15
           },
           "zerolinecolor": "white",
           "zerolinewidth": 2
          },
          "yaxis": {
           "automargin": true,
           "gridcolor": "white",
           "linecolor": "white",
           "ticks": "",
           "title": {
            "standoff": 15
           },
           "zerolinecolor": "white",
           "zerolinewidth": 2
          }
         }
        },
        "title": {
         "text": "Historical Annual Precipitation"
        },
        "xaxis": {
         "anchor": "y",
         "domain": [
          0,
          1
         ],
         "title": {
          "text": "Year"
         }
        },
        "yaxis": {
         "anchor": "x",
         "domain": [
          0,
          1
         ],
         "title": {
          "text": "Precipitation (CM)"
         }
        }
       }
      },
      "text/html": [
       "<div>                            <div id=\"65ed4e48-2e4c-4a44-ad03-f2970359067c\" class=\"plotly-graph-div\" style=\"height:525px; width:100%;\"></div>            <script type=\"text/javascript\">                require([\"plotly\"], function(Plotly) {                    window.PLOTLYENV=window.PLOTLYENV || {};                                    if (document.getElementById(\"65ed4e48-2e4c-4a44-ad03-f2970359067c\")) {                    Plotly.newPlot(                        \"65ed4e48-2e4c-4a44-ad03-f2970359067c\",                        [{\"hovertemplate\":\"Year=%{x}\\u003cbr\\u003ePrecipitation (CM)=%{y}\\u003cextra\\u003e\\u003c\\u002fextra\\u003e\",\"legendgroup\":\"\",\"line\":{\"color\":\"#636efa\",\"dash\":\"solid\"},\"marker\":{\"symbol\":\"circle\"},\"mode\":\"lines\",\"name\":\"\",\"orientation\":\"v\",\"showlegend\":false,\"x\":[1980,1981,1982,1983,1984,1985,1986,1987,1988,1989,1990,1991,1992,1993,1994,1995,1996,1997,1998,1999,2000,2001,2002,2003,2004,2005,2006,2007,2008,2009,2010,2011,2012,2013,2014,2015,2016,2017,2018],\"xaxis\":\"x\",\"y\":[32.61858407079646,35.693982300884954,30.439557522123895,41.28769911504425,28.306106194690265,41.19477876106195,33.367610619469026,35.98575221238938,25.758849557522122,17.03734513274336,26.028495575221235,27.920442477876108,29.810442477876105,34.656371681415926,23.211769911504426,29.97495575221239,25.608938053097344,35.49637168141594,29.929557522123893,28.379026548672567,26.580530973451328,25.76283185840708,18.651150442477874,27.08513274336283,32.78504424778761,36.46690265486726,34.39477876106195,22.7283185840708,28.997610619469025,21.19991150442478,35.39858407079646,25.872566371681415,19.308141592920354,36.14362831858408,22.901858407079644,39.65929203539823,25.47407079646018,22.71433628318584,21.845486725663722],\"yaxis\":\"y\",\"type\":\"scatter\"}],                        {\"template\":{\"data\":{\"histogram2dcontour\":[{\"type\":\"histogram2dcontour\",\"colorbar\":{\"outlinewidth\":0,\"ticks\":\"\"},\"colorscale\":[[0.0,\"#0d0887\"],[0.1111111111111111,\"#46039f\"],[0.2222222222222222,\"#7201a8\"],[0.3333333333333333,\"#9c179e\"],[0.4444444444444444,\"#bd3786\"],[0.5555555555555556,\"#d8576b\"],[0.6666666666666666,\"#ed7953\"],[0.7777777777777778,\"#fb9f3a\"],[0.8888888888888888,\"#fdca26\"],[1.0,\"#f0f921\"]]}],\"choropleth\":[{\"type\":\"choropleth\",\"colorbar\":{\"outlinewidth\":0,\"ticks\":\"\"}}],\"histogram2d\":[{\"type\":\"histogram2d\",\"colorbar\":{\"outlinewidth\":0,\"ticks\":\"\"},\"colorscale\":[[0.0,\"#0d0887\"],[0.1111111111111111,\"#46039f\"],[0.2222222222222222,\"#7201a8\"],[0.3333333333333333,\"#9c179e\"],[0.4444444444444444,\"#bd3786\"],[0.5555555555555556,\"#d8576b\"],[0.6666666666666666,\"#ed7953\"],[0.7777777777777778,\"#fb9f3a\"],[0.8888888888888888,\"#fdca26\"],[1.0,\"#f0f921\"]]}],\"heatmap\":[{\"type\":\"heatmap\",\"colorbar\":{\"outlinewidth\":0,\"ticks\":\"\"},\"colorscale\":[[0.0,\"#0d0887\"],[0.1111111111111111,\"#46039f\"],[0.2222222222222222,\"#7201a8\"],[0.3333333333333333,\"#9c179e\"],[0.4444444444444444,\"#bd3786\"],[0.5555555555555556,\"#d8576b\"],[0.6666666666666666,\"#ed7953\"],[0.7777777777777778,\"#fb9f3a\"],[0.8888888888888888,\"#fdca26\"],[1.0,\"#f0f921\"]]}],\"heatmapgl\":[{\"type\":\"heatmapgl\",\"colorbar\":{\"outlinewidth\":0,\"ticks\":\"\"},\"colorscale\":[[0.0,\"#0d0887\"],[0.1111111111111111,\"#46039f\"],[0.2222222222222222,\"#7201a8\"],[0.3333333333333333,\"#9c179e\"],[0.4444444444444444,\"#bd3786\"],[0.5555555555555556,\"#d8576b\"],[0.6666666666666666,\"#ed7953\"],[0.7777777777777778,\"#fb9f3a\"],[0.8888888888888888,\"#fdca26\"],[1.0,\"#f0f921\"]]}],\"contourcarpet\":[{\"type\":\"contourcarpet\",\"colorbar\":{\"outlinewidth\":0,\"ticks\":\"\"}}],\"contour\":[{\"type\":\"contour\",\"colorbar\":{\"outlinewidth\":0,\"ticks\":\"\"},\"colorscale\":[[0.0,\"#0d0887\"],[0.1111111111111111,\"#46039f\"],[0.2222222222222222,\"#7201a8\"],[0.3333333333333333,\"#9c179e\"],[0.4444444444444444,\"#bd3786\"],[0.5555555555555556,\"#d8576b\"],[0.6666666666666666,\"#ed7953\"],[0.7777777777777778,\"#fb9f3a\"],[0.8888888888888888,\"#fdca26\"],[1.0,\"#f0f921\"]]}],\"surface\":[{\"type\":\"surface\",\"colorbar\":{\"outlinewidth\":0,\"ticks\":\"\"},\"colorscale\":[[0.0,\"#0d0887\"],[0.1111111111111111,\"#46039f\"],[0.2222222222222222,\"#7201a8\"],[0.3333333333333333,\"#9c179e\"],[0.4444444444444444,\"#bd3786\"],[0.5555555555555556,\"#d8576b\"],[0.6666666666666666,\"#ed7953\"],[0.7777777777777778,\"#fb9f3a\"],[0.8888888888888888,\"#fdca26\"],[1.0,\"#f0f921\"]]}],\"mesh3d\":[{\"type\":\"mesh3d\",\"colorbar\":{\"outlinewidth\":0,\"ticks\":\"\"}}],\"scatter\":[{\"fillpattern\":{\"fillmode\":\"overlay\",\"size\":10,\"solidity\":0.2},\"type\":\"scatter\"}],\"parcoords\":[{\"type\":\"parcoords\",\"line\":{\"colorbar\":{\"outlinewidth\":0,\"ticks\":\"\"}}}],\"scatterpolargl\":[{\"type\":\"scatterpolargl\",\"marker\":{\"colorbar\":{\"outlinewidth\":0,\"ticks\":\"\"}}}],\"bar\":[{\"error_x\":{\"color\":\"#2a3f5f\"},\"error_y\":{\"color\":\"#2a3f5f\"},\"marker\":{\"line\":{\"color\":\"#E5ECF6\",\"width\":0.5},\"pattern\":{\"fillmode\":\"overlay\",\"size\":10,\"solidity\":0.2}},\"type\":\"bar\"}],\"scattergeo\":[{\"type\":\"scattergeo\",\"marker\":{\"colorbar\":{\"outlinewidth\":0,\"ticks\":\"\"}}}],\"scatterpolar\":[{\"type\":\"scatterpolar\",\"marker\":{\"colorbar\":{\"outlinewidth\":0,\"ticks\":\"\"}}}],\"histogram\":[{\"marker\":{\"pattern\":{\"fillmode\":\"overlay\",\"size\":10,\"solidity\":0.2}},\"type\":\"histogram\"}],\"scattergl\":[{\"type\":\"scattergl\",\"marker\":{\"colorbar\":{\"outlinewidth\":0,\"ticks\":\"\"}}}],\"scatter3d\":[{\"type\":\"scatter3d\",\"line\":{\"colorbar\":{\"outlinewidth\":0,\"ticks\":\"\"}},\"marker\":{\"colorbar\":{\"outlinewidth\":0,\"ticks\":\"\"}}}],\"scattermapbox\":[{\"type\":\"scattermapbox\",\"marker\":{\"colorbar\":{\"outlinewidth\":0,\"ticks\":\"\"}}}],\"scatterternary\":[{\"type\":\"scatterternary\",\"marker\":{\"colorbar\":{\"outlinewidth\":0,\"ticks\":\"\"}}}],\"scattercarpet\":[{\"type\":\"scattercarpet\",\"marker\":{\"colorbar\":{\"outlinewidth\":0,\"ticks\":\"\"}}}],\"carpet\":[{\"aaxis\":{\"endlinecolor\":\"#2a3f5f\",\"gridcolor\":\"white\",\"linecolor\":\"white\",\"minorgridcolor\":\"white\",\"startlinecolor\":\"#2a3f5f\"},\"baxis\":{\"endlinecolor\":\"#2a3f5f\",\"gridcolor\":\"white\",\"linecolor\":\"white\",\"minorgridcolor\":\"white\",\"startlinecolor\":\"#2a3f5f\"},\"type\":\"carpet\"}],\"table\":[{\"cells\":{\"fill\":{\"color\":\"#EBF0F8\"},\"line\":{\"color\":\"white\"}},\"header\":{\"fill\":{\"color\":\"#C8D4E3\"},\"line\":{\"color\":\"white\"}},\"type\":\"table\"}],\"barpolar\":[{\"marker\":{\"line\":{\"color\":\"#E5ECF6\",\"width\":0.5},\"pattern\":{\"fillmode\":\"overlay\",\"size\":10,\"solidity\":0.2}},\"type\":\"barpolar\"}],\"pie\":[{\"automargin\":true,\"type\":\"pie\"}]},\"layout\":{\"autotypenumbers\":\"strict\",\"colorway\":[\"#636efa\",\"#EF553B\",\"#00cc96\",\"#ab63fa\",\"#FFA15A\",\"#19d3f3\",\"#FF6692\",\"#B6E880\",\"#FF97FF\",\"#FECB52\"],\"font\":{\"color\":\"#2a3f5f\"},\"hovermode\":\"closest\",\"hoverlabel\":{\"align\":\"left\"},\"paper_bgcolor\":\"white\",\"plot_bgcolor\":\"#E5ECF6\",\"polar\":{\"bgcolor\":\"#E5ECF6\",\"angularaxis\":{\"gridcolor\":\"white\",\"linecolor\":\"white\",\"ticks\":\"\"},\"radialaxis\":{\"gridcolor\":\"white\",\"linecolor\":\"white\",\"ticks\":\"\"}},\"ternary\":{\"bgcolor\":\"#E5ECF6\",\"aaxis\":{\"gridcolor\":\"white\",\"linecolor\":\"white\",\"ticks\":\"\"},\"baxis\":{\"gridcolor\":\"white\",\"linecolor\":\"white\",\"ticks\":\"\"},\"caxis\":{\"gridcolor\":\"white\",\"linecolor\":\"white\",\"ticks\":\"\"}},\"coloraxis\":{\"colorbar\":{\"outlinewidth\":0,\"ticks\":\"\"}},\"colorscale\":{\"sequential\":[[0.0,\"#0d0887\"],[0.1111111111111111,\"#46039f\"],[0.2222222222222222,\"#7201a8\"],[0.3333333333333333,\"#9c179e\"],[0.4444444444444444,\"#bd3786\"],[0.5555555555555556,\"#d8576b\"],[0.6666666666666666,\"#ed7953\"],[0.7777777777777778,\"#fb9f3a\"],[0.8888888888888888,\"#fdca26\"],[1.0,\"#f0f921\"]],\"sequentialminus\":[[0.0,\"#0d0887\"],[0.1111111111111111,\"#46039f\"],[0.2222222222222222,\"#7201a8\"],[0.3333333333333333,\"#9c179e\"],[0.4444444444444444,\"#bd3786\"],[0.5555555555555556,\"#d8576b\"],[0.6666666666666666,\"#ed7953\"],[0.7777777777777778,\"#fb9f3a\"],[0.8888888888888888,\"#fdca26\"],[1.0,\"#f0f921\"]],\"diverging\":[[0,\"#8e0152\"],[0.1,\"#c51b7d\"],[0.2,\"#de77ae\"],[0.3,\"#f1b6da\"],[0.4,\"#fde0ef\"],[0.5,\"#f7f7f7\"],[0.6,\"#e6f5d0\"],[0.7,\"#b8e186\"],[0.8,\"#7fbc41\"],[0.9,\"#4d9221\"],[1,\"#276419\"]]},\"xaxis\":{\"gridcolor\":\"white\",\"linecolor\":\"white\",\"ticks\":\"\",\"title\":{\"standoff\":15},\"zerolinecolor\":\"white\",\"automargin\":true,\"zerolinewidth\":2},\"yaxis\":{\"gridcolor\":\"white\",\"linecolor\":\"white\",\"ticks\":\"\",\"title\":{\"standoff\":15},\"zerolinecolor\":\"white\",\"automargin\":true,\"zerolinewidth\":2},\"scene\":{\"xaxis\":{\"backgroundcolor\":\"#E5ECF6\",\"gridcolor\":\"white\",\"linecolor\":\"white\",\"showbackground\":true,\"ticks\":\"\",\"zerolinecolor\":\"white\",\"gridwidth\":2},\"yaxis\":{\"backgroundcolor\":\"#E5ECF6\",\"gridcolor\":\"white\",\"linecolor\":\"white\",\"showbackground\":true,\"ticks\":\"\",\"zerolinecolor\":\"white\",\"gridwidth\":2},\"zaxis\":{\"backgroundcolor\":\"#E5ECF6\",\"gridcolor\":\"white\",\"linecolor\":\"white\",\"showbackground\":true,\"ticks\":\"\",\"zerolinecolor\":\"white\",\"gridwidth\":2}},\"shapedefaults\":{\"line\":{\"color\":\"#2a3f5f\"}},\"annotationdefaults\":{\"arrowcolor\":\"#2a3f5f\",\"arrowhead\":0,\"arrowwidth\":1},\"geo\":{\"bgcolor\":\"white\",\"landcolor\":\"#E5ECF6\",\"subunitcolor\":\"white\",\"showland\":true,\"showlakes\":true,\"lakecolor\":\"white\"},\"title\":{\"x\":0.05},\"mapbox\":{\"style\":\"light\"}}},\"xaxis\":{\"anchor\":\"y\",\"domain\":[0.0,1.0],\"title\":{\"text\":\"Year\"}},\"yaxis\":{\"anchor\":\"x\",\"domain\":[0.0,1.0],\"title\":{\"text\":\"Precipitation (CM)\"}},\"legend\":{\"tracegroupgap\":0},\"title\":{\"text\":\"Historical Annual Precipitation\"}},                        {\"responsive\": true}                    ).then(function(){\n",
       "                            \n",
       "var gd = document.getElementById('65ed4e48-2e4c-4a44-ad03-f2970359067c');\n",
       "var x = new MutationObserver(function (mutations, observer) {{\n",
       "        var display = window.getComputedStyle(gd).display;\n",
       "        if (!display || display === 'none') {{\n",
       "            console.log([gd, 'removed!']);\n",
       "            Plotly.purge(gd);\n",
       "            observer.disconnect();\n",
       "        }}\n",
       "}});\n",
       "\n",
       "// Listen for the removal of the full notebook cells\n",
       "var notebookContainer = gd.closest('#notebook-container');\n",
       "if (notebookContainer) {{\n",
       "    x.observe(notebookContainer, {childList: true});\n",
       "}}\n",
       "\n",
       "// Listen for the clearing of the current output cell\n",
       "var outputEl = gd.closest('.output');\n",
       "if (outputEl) {{\n",
       "    x.observe(outputEl, {childList: true});\n",
       "}}\n",
       "\n",
       "                        })                };                });            </script>        </div>"
      ]
     },
     "metadata": {},
     "output_type": "display_data"
    }
   ],
   "source": [
    "#plot annual mean temp\n",
    "# set temp df for plot\n",
    "plot_df = df[df['TimePeriod'] == 'Hist']\n",
    "# find mean temp of all collection site per year\n",
    "plot_df = plot_df.groupby('year')['PPT_Annual'].mean().reset_index()\n",
    "#plotly plot\n",
    "fig = px.line(plot_df,\n",
    "              x='year',\n",
    "              y='PPT_Annual',\n",
    "              title='Historical Annual Precipitation',\n",
    "              labels={\n",
    "                     \"year\": \"Year\",\n",
    "                     \"PPT_Annual\": \"Precipitation (CM)\"\n",
    "                 }\n",
    "              )\n",
    "fig.show()"
   ]
  },
  {
   "cell_type": "code",
   "execution_count": 60,
   "metadata": {},
   "outputs": [
    {
     "data": {
      "application/vnd.plotly.v1+json": {
       "config": {
        "plotlyServerURL": "https://plot.ly"
       },
       "data": [
        {
         "hovertemplate": "RCP=4.5<br>Year=%{x}<br>Precipitation (CM)=%{y}<extra></extra>",
         "legendgroup": "4.5",
         "line": {
          "color": "#636efa",
          "dash": "solid"
         },
         "marker": {
          "symbol": "circle"
         },
         "mode": "lines",
         "name": "4.5",
         "orientation": "v",
         "showlegend": true,
         "type": "scatter",
         "x": [
          2021,
          2022,
          2023,
          2024,
          2025,
          2026,
          2027,
          2028,
          2029,
          2030,
          2031,
          2032,
          2033,
          2034,
          2035,
          2036,
          2037,
          2038,
          2039,
          2040,
          2041,
          2042,
          2043,
          2044,
          2045,
          2046,
          2047,
          2048,
          2049,
          2050,
          2051,
          2052,
          2053,
          2054,
          2055,
          2056,
          2057,
          2058,
          2059
         ],
         "xaxis": "x",
         "y": [
          30.733938053097344,
          27.770986725663718,
          32.75504424778761,
          32.25577433628319,
          30.090389380530972,
          29.68861946902655,
          31.805615044247787,
          29.503309734513273,
          31.47820796460177,
          33.14416814159292,
          31.87299557522124,
          31.269716814159292,
          29.944539823008853,
          31.159637168141593,
          30.56133185840708,
          35.86798672566372,
          31.318278761061947,
          28.390685840707963,
          31.538176991150443,
          34.41723451327434,
          27.567769911504428,
          30.966132743362834,
          34.654296460176994,
          33.21379646017699,
          27.385269911504423,
          26.934442477876104,
          33.09573451327434,
          32.52908407079646,
          28.806482300884955,
          32.03119469026549,
          29.598265486725666,
          32.50811061946903,
          31.54492477876106,
          32.31443805309735,
          30.57219026548672,
          29.268473451327434,
          32.92017699115045,
          31.968646017699115,
          32.28408407079646
         ],
         "yaxis": "y"
        },
        {
         "hovertemplate": "RCP=8.5<br>Year=%{x}<br>Precipitation (CM)=%{y}<extra></extra>",
         "legendgroup": "8.5",
         "line": {
          "color": "#EF553B",
          "dash": "solid"
         },
         "marker": {
          "symbol": "circle"
         },
         "mode": "lines",
         "name": "8.5",
         "orientation": "v",
         "showlegend": true,
         "type": "scatter",
         "x": [
          2021,
          2022,
          2023,
          2024,
          2025,
          2026,
          2027,
          2028,
          2029,
          2030,
          2031,
          2032,
          2033,
          2034,
          2035,
          2036,
          2037,
          2038,
          2039,
          2040,
          2041,
          2042,
          2043,
          2044,
          2045,
          2046,
          2047,
          2048,
          2049,
          2050,
          2051,
          2052,
          2053,
          2054,
          2055,
          2056,
          2057,
          2058,
          2059
         ],
         "xaxis": "x",
         "y": [
          34.133641592920355,
          29.37103982300885,
          34.8695221238938,
          29.192862831858406,
          37.22808849557522,
          28.462221238938053,
          37.18783185840708,
          31.432415929203536,
          29.57170353982301,
          29.225889380530973,
          32.4987610619469,
          35.708234513274334,
          31.651942477876105,
          29.34341150442478,
          33.50038495575221,
          31.75171238938053,
          29.716606194690264,
          32.942756637168145,
          30.31431415929204,
          31.11551769911505,
          28.675712389380532,
          28.32538938053097,
          30.89662389380531,
          31.183097345132744,
          31.399800884955752,
          33.547473451327434,
          33.27846017699115,
          36.45545132743363,
          33.114995575221236,
          33.46814601769911,
          34.4877610619469,
          34.66120796460177,
          32.04938938053097,
          31.335190265486727,
          31.664814159292035,
          32.91358407079646,
          33.8855575221239,
          31.923982300884955,
          32.16178318584071
         ],
         "yaxis": "y"
        },
        {
         "hovertemplate": "RCP=historical<br>Year=%{x}<br>Precipitation (CM)=%{y}<extra></extra>",
         "legendgroup": "historical",
         "line": {
          "color": "#00cc96",
          "dash": "solid"
         },
         "marker": {
          "symbol": "circle"
         },
         "mode": "lines",
         "name": "historical",
         "orientation": "v",
         "showlegend": false,
         "type": "scatter",
         "x": [
          2021,
          2022,
          2023,
          2024,
          2025,
          2026,
          2027,
          2028,
          2029,
          2030,
          2031,
          2032,
          2033,
          2034,
          2035,
          2036,
          2037,
          2038,
          2039,
          2040,
          2041,
          2042,
          2043,
          2044,
          2045,
          2046,
          2047,
          2048,
          2049,
          2050,
          2051,
          2052,
          2053,
          2054,
          2055,
          2056,
          2057,
          2058,
          2059
         ],
         "xaxis": "x",
         "y": [
          null,
          null,
          null,
          null,
          null,
          null,
          null,
          null,
          null,
          null,
          null,
          null,
          null,
          null,
          null,
          null,
          null,
          null,
          null,
          null,
          null,
          null,
          null,
          null,
          null,
          null,
          null,
          null,
          null,
          null,
          null,
          null,
          null,
          null,
          null,
          null,
          null,
          null,
          null
         ],
         "yaxis": "y"
        }
       ],
       "layout": {
        "legend": {
         "title": {
          "text": "RCP"
         },
         "tracegroupgap": 0
        },
        "template": {
         "data": {
          "bar": [
           {
            "error_x": {
             "color": "#2a3f5f"
            },
            "error_y": {
             "color": "#2a3f5f"
            },
            "marker": {
             "line": {
              "color": "#E5ECF6",
              "width": 0.5
             },
             "pattern": {
              "fillmode": "overlay",
              "size": 10,
              "solidity": 0.2
             }
            },
            "type": "bar"
           }
          ],
          "barpolar": [
           {
            "marker": {
             "line": {
              "color": "#E5ECF6",
              "width": 0.5
             },
             "pattern": {
              "fillmode": "overlay",
              "size": 10,
              "solidity": 0.2
             }
            },
            "type": "barpolar"
           }
          ],
          "carpet": [
           {
            "aaxis": {
             "endlinecolor": "#2a3f5f",
             "gridcolor": "white",
             "linecolor": "white",
             "minorgridcolor": "white",
             "startlinecolor": "#2a3f5f"
            },
            "baxis": {
             "endlinecolor": "#2a3f5f",
             "gridcolor": "white",
             "linecolor": "white",
             "minorgridcolor": "white",
             "startlinecolor": "#2a3f5f"
            },
            "type": "carpet"
           }
          ],
          "choropleth": [
           {
            "colorbar": {
             "outlinewidth": 0,
             "ticks": ""
            },
            "type": "choropleth"
           }
          ],
          "contour": [
           {
            "colorbar": {
             "outlinewidth": 0,
             "ticks": ""
            },
            "colorscale": [
             [
              0,
              "#0d0887"
             ],
             [
              0.1111111111111111,
              "#46039f"
             ],
             [
              0.2222222222222222,
              "#7201a8"
             ],
             [
              0.3333333333333333,
              "#9c179e"
             ],
             [
              0.4444444444444444,
              "#bd3786"
             ],
             [
              0.5555555555555556,
              "#d8576b"
             ],
             [
              0.6666666666666666,
              "#ed7953"
             ],
             [
              0.7777777777777778,
              "#fb9f3a"
             ],
             [
              0.8888888888888888,
              "#fdca26"
             ],
             [
              1,
              "#f0f921"
             ]
            ],
            "type": "contour"
           }
          ],
          "contourcarpet": [
           {
            "colorbar": {
             "outlinewidth": 0,
             "ticks": ""
            },
            "type": "contourcarpet"
           }
          ],
          "heatmap": [
           {
            "colorbar": {
             "outlinewidth": 0,
             "ticks": ""
            },
            "colorscale": [
             [
              0,
              "#0d0887"
             ],
             [
              0.1111111111111111,
              "#46039f"
             ],
             [
              0.2222222222222222,
              "#7201a8"
             ],
             [
              0.3333333333333333,
              "#9c179e"
             ],
             [
              0.4444444444444444,
              "#bd3786"
             ],
             [
              0.5555555555555556,
              "#d8576b"
             ],
             [
              0.6666666666666666,
              "#ed7953"
             ],
             [
              0.7777777777777778,
              "#fb9f3a"
             ],
             [
              0.8888888888888888,
              "#fdca26"
             ],
             [
              1,
              "#f0f921"
             ]
            ],
            "type": "heatmap"
           }
          ],
          "heatmapgl": [
           {
            "colorbar": {
             "outlinewidth": 0,
             "ticks": ""
            },
            "colorscale": [
             [
              0,
              "#0d0887"
             ],
             [
              0.1111111111111111,
              "#46039f"
             ],
             [
              0.2222222222222222,
              "#7201a8"
             ],
             [
              0.3333333333333333,
              "#9c179e"
             ],
             [
              0.4444444444444444,
              "#bd3786"
             ],
             [
              0.5555555555555556,
              "#d8576b"
             ],
             [
              0.6666666666666666,
              "#ed7953"
             ],
             [
              0.7777777777777778,
              "#fb9f3a"
             ],
             [
              0.8888888888888888,
              "#fdca26"
             ],
             [
              1,
              "#f0f921"
             ]
            ],
            "type": "heatmapgl"
           }
          ],
          "histogram": [
           {
            "marker": {
             "pattern": {
              "fillmode": "overlay",
              "size": 10,
              "solidity": 0.2
             }
            },
            "type": "histogram"
           }
          ],
          "histogram2d": [
           {
            "colorbar": {
             "outlinewidth": 0,
             "ticks": ""
            },
            "colorscale": [
             [
              0,
              "#0d0887"
             ],
             [
              0.1111111111111111,
              "#46039f"
             ],
             [
              0.2222222222222222,
              "#7201a8"
             ],
             [
              0.3333333333333333,
              "#9c179e"
             ],
             [
              0.4444444444444444,
              "#bd3786"
             ],
             [
              0.5555555555555556,
              "#d8576b"
             ],
             [
              0.6666666666666666,
              "#ed7953"
             ],
             [
              0.7777777777777778,
              "#fb9f3a"
             ],
             [
              0.8888888888888888,
              "#fdca26"
             ],
             [
              1,
              "#f0f921"
             ]
            ],
            "type": "histogram2d"
           }
          ],
          "histogram2dcontour": [
           {
            "colorbar": {
             "outlinewidth": 0,
             "ticks": ""
            },
            "colorscale": [
             [
              0,
              "#0d0887"
             ],
             [
              0.1111111111111111,
              "#46039f"
             ],
             [
              0.2222222222222222,
              "#7201a8"
             ],
             [
              0.3333333333333333,
              "#9c179e"
             ],
             [
              0.4444444444444444,
              "#bd3786"
             ],
             [
              0.5555555555555556,
              "#d8576b"
             ],
             [
              0.6666666666666666,
              "#ed7953"
             ],
             [
              0.7777777777777778,
              "#fb9f3a"
             ],
             [
              0.8888888888888888,
              "#fdca26"
             ],
             [
              1,
              "#f0f921"
             ]
            ],
            "type": "histogram2dcontour"
           }
          ],
          "mesh3d": [
           {
            "colorbar": {
             "outlinewidth": 0,
             "ticks": ""
            },
            "type": "mesh3d"
           }
          ],
          "parcoords": [
           {
            "line": {
             "colorbar": {
              "outlinewidth": 0,
              "ticks": ""
             }
            },
            "type": "parcoords"
           }
          ],
          "pie": [
           {
            "automargin": true,
            "type": "pie"
           }
          ],
          "scatter": [
           {
            "fillpattern": {
             "fillmode": "overlay",
             "size": 10,
             "solidity": 0.2
            },
            "type": "scatter"
           }
          ],
          "scatter3d": [
           {
            "line": {
             "colorbar": {
              "outlinewidth": 0,
              "ticks": ""
             }
            },
            "marker": {
             "colorbar": {
              "outlinewidth": 0,
              "ticks": ""
             }
            },
            "type": "scatter3d"
           }
          ],
          "scattercarpet": [
           {
            "marker": {
             "colorbar": {
              "outlinewidth": 0,
              "ticks": ""
             }
            },
            "type": "scattercarpet"
           }
          ],
          "scattergeo": [
           {
            "marker": {
             "colorbar": {
              "outlinewidth": 0,
              "ticks": ""
             }
            },
            "type": "scattergeo"
           }
          ],
          "scattergl": [
           {
            "marker": {
             "colorbar": {
              "outlinewidth": 0,
              "ticks": ""
             }
            },
            "type": "scattergl"
           }
          ],
          "scattermapbox": [
           {
            "marker": {
             "colorbar": {
              "outlinewidth": 0,
              "ticks": ""
             }
            },
            "type": "scattermapbox"
           }
          ],
          "scatterpolar": [
           {
            "marker": {
             "colorbar": {
              "outlinewidth": 0,
              "ticks": ""
             }
            },
            "type": "scatterpolar"
           }
          ],
          "scatterpolargl": [
           {
            "marker": {
             "colorbar": {
              "outlinewidth": 0,
              "ticks": ""
             }
            },
            "type": "scatterpolargl"
           }
          ],
          "scatterternary": [
           {
            "marker": {
             "colorbar": {
              "outlinewidth": 0,
              "ticks": ""
             }
            },
            "type": "scatterternary"
           }
          ],
          "surface": [
           {
            "colorbar": {
             "outlinewidth": 0,
             "ticks": ""
            },
            "colorscale": [
             [
              0,
              "#0d0887"
             ],
             [
              0.1111111111111111,
              "#46039f"
             ],
             [
              0.2222222222222222,
              "#7201a8"
             ],
             [
              0.3333333333333333,
              "#9c179e"
             ],
             [
              0.4444444444444444,
              "#bd3786"
             ],
             [
              0.5555555555555556,
              "#d8576b"
             ],
             [
              0.6666666666666666,
              "#ed7953"
             ],
             [
              0.7777777777777778,
              "#fb9f3a"
             ],
             [
              0.8888888888888888,
              "#fdca26"
             ],
             [
              1,
              "#f0f921"
             ]
            ],
            "type": "surface"
           }
          ],
          "table": [
           {
            "cells": {
             "fill": {
              "color": "#EBF0F8"
             },
             "line": {
              "color": "white"
             }
            },
            "header": {
             "fill": {
              "color": "#C8D4E3"
             },
             "line": {
              "color": "white"
             }
            },
            "type": "table"
           }
          ]
         },
         "layout": {
          "annotationdefaults": {
           "arrowcolor": "#2a3f5f",
           "arrowhead": 0,
           "arrowwidth": 1
          },
          "autotypenumbers": "strict",
          "coloraxis": {
           "colorbar": {
            "outlinewidth": 0,
            "ticks": ""
           }
          },
          "colorscale": {
           "diverging": [
            [
             0,
             "#8e0152"
            ],
            [
             0.1,
             "#c51b7d"
            ],
            [
             0.2,
             "#de77ae"
            ],
            [
             0.3,
             "#f1b6da"
            ],
            [
             0.4,
             "#fde0ef"
            ],
            [
             0.5,
             "#f7f7f7"
            ],
            [
             0.6,
             "#e6f5d0"
            ],
            [
             0.7,
             "#b8e186"
            ],
            [
             0.8,
             "#7fbc41"
            ],
            [
             0.9,
             "#4d9221"
            ],
            [
             1,
             "#276419"
            ]
           ],
           "sequential": [
            [
             0,
             "#0d0887"
            ],
            [
             0.1111111111111111,
             "#46039f"
            ],
            [
             0.2222222222222222,
             "#7201a8"
            ],
            [
             0.3333333333333333,
             "#9c179e"
            ],
            [
             0.4444444444444444,
             "#bd3786"
            ],
            [
             0.5555555555555556,
             "#d8576b"
            ],
            [
             0.6666666666666666,
             "#ed7953"
            ],
            [
             0.7777777777777778,
             "#fb9f3a"
            ],
            [
             0.8888888888888888,
             "#fdca26"
            ],
            [
             1,
             "#f0f921"
            ]
           ],
           "sequentialminus": [
            [
             0,
             "#0d0887"
            ],
            [
             0.1111111111111111,
             "#46039f"
            ],
            [
             0.2222222222222222,
             "#7201a8"
            ],
            [
             0.3333333333333333,
             "#9c179e"
            ],
            [
             0.4444444444444444,
             "#bd3786"
            ],
            [
             0.5555555555555556,
             "#d8576b"
            ],
            [
             0.6666666666666666,
             "#ed7953"
            ],
            [
             0.7777777777777778,
             "#fb9f3a"
            ],
            [
             0.8888888888888888,
             "#fdca26"
            ],
            [
             1,
             "#f0f921"
            ]
           ]
          },
          "colorway": [
           "#636efa",
           "#EF553B",
           "#00cc96",
           "#ab63fa",
           "#FFA15A",
           "#19d3f3",
           "#FF6692",
           "#B6E880",
           "#FF97FF",
           "#FECB52"
          ],
          "font": {
           "color": "#2a3f5f"
          },
          "geo": {
           "bgcolor": "white",
           "lakecolor": "white",
           "landcolor": "#E5ECF6",
           "showlakes": true,
           "showland": true,
           "subunitcolor": "white"
          },
          "hoverlabel": {
           "align": "left"
          },
          "hovermode": "closest",
          "mapbox": {
           "style": "light"
          },
          "paper_bgcolor": "white",
          "plot_bgcolor": "#E5ECF6",
          "polar": {
           "angularaxis": {
            "gridcolor": "white",
            "linecolor": "white",
            "ticks": ""
           },
           "bgcolor": "#E5ECF6",
           "radialaxis": {
            "gridcolor": "white",
            "linecolor": "white",
            "ticks": ""
           }
          },
          "scene": {
           "xaxis": {
            "backgroundcolor": "#E5ECF6",
            "gridcolor": "white",
            "gridwidth": 2,
            "linecolor": "white",
            "showbackground": true,
            "ticks": "",
            "zerolinecolor": "white"
           },
           "yaxis": {
            "backgroundcolor": "#E5ECF6",
            "gridcolor": "white",
            "gridwidth": 2,
            "linecolor": "white",
            "showbackground": true,
            "ticks": "",
            "zerolinecolor": "white"
           },
           "zaxis": {
            "backgroundcolor": "#E5ECF6",
            "gridcolor": "white",
            "gridwidth": 2,
            "linecolor": "white",
            "showbackground": true,
            "ticks": "",
            "zerolinecolor": "white"
           }
          },
          "shapedefaults": {
           "line": {
            "color": "#2a3f5f"
           }
          },
          "ternary": {
           "aaxis": {
            "gridcolor": "white",
            "linecolor": "white",
            "ticks": ""
           },
           "baxis": {
            "gridcolor": "white",
            "linecolor": "white",
            "ticks": ""
           },
           "bgcolor": "#E5ECF6",
           "caxis": {
            "gridcolor": "white",
            "linecolor": "white",
            "ticks": ""
           }
          },
          "title": {
           "x": 0.05
          },
          "xaxis": {
           "automargin": true,
           "gridcolor": "white",
           "linecolor": "white",
           "ticks": "",
           "title": {
            "standoff": 15
           },
           "zerolinecolor": "white",
           "zerolinewidth": 2
          },
          "yaxis": {
           "automargin": true,
           "gridcolor": "white",
           "linecolor": "white",
           "ticks": "",
           "title": {
            "standoff": 15
           },
           "zerolinecolor": "white",
           "zerolinewidth": 2
          }
         }
        },
        "title": {
         "text": "Near Term Annual Precipitation"
        },
        "xaxis": {
         "anchor": "y",
         "domain": [
          0,
          1
         ],
         "title": {
          "text": "Year"
         }
        },
        "yaxis": {
         "anchor": "x",
         "domain": [
          0,
          1
         ],
         "title": {
          "text": "Precipitation (CM)"
         }
        }
       }
      },
      "text/html": [
       "<div>                            <div id=\"2c2de247-eaa3-4e08-9b7d-47d2fc3c72a5\" class=\"plotly-graph-div\" style=\"height:525px; width:100%;\"></div>            <script type=\"text/javascript\">                require([\"plotly\"], function(Plotly) {                    window.PLOTLYENV=window.PLOTLYENV || {};                                    if (document.getElementById(\"2c2de247-eaa3-4e08-9b7d-47d2fc3c72a5\")) {                    Plotly.newPlot(                        \"2c2de247-eaa3-4e08-9b7d-47d2fc3c72a5\",                        [{\"hovertemplate\":\"RCP=4.5\\u003cbr\\u003eYear=%{x}\\u003cbr\\u003ePrecipitation (CM)=%{y}\\u003cextra\\u003e\\u003c\\u002fextra\\u003e\",\"legendgroup\":\"4.5\",\"line\":{\"color\":\"#636efa\",\"dash\":\"solid\"},\"marker\":{\"symbol\":\"circle\"},\"mode\":\"lines\",\"name\":\"4.5\",\"orientation\":\"v\",\"showlegend\":true,\"x\":[2021,2022,2023,2024,2025,2026,2027,2028,2029,2030,2031,2032,2033,2034,2035,2036,2037,2038,2039,2040,2041,2042,2043,2044,2045,2046,2047,2048,2049,2050,2051,2052,2053,2054,2055,2056,2057,2058,2059],\"xaxis\":\"x\",\"y\":[30.733938053097344,27.770986725663718,32.75504424778761,32.25577433628319,30.090389380530972,29.68861946902655,31.805615044247787,29.503309734513273,31.47820796460177,33.14416814159292,31.87299557522124,31.269716814159292,29.944539823008853,31.159637168141593,30.56133185840708,35.86798672566372,31.318278761061947,28.390685840707963,31.538176991150443,34.41723451327434,27.567769911504428,30.966132743362834,34.654296460176994,33.21379646017699,27.385269911504423,26.934442477876104,33.09573451327434,32.52908407079646,28.806482300884955,32.03119469026549,29.598265486725666,32.50811061946903,31.54492477876106,32.31443805309735,30.57219026548672,29.268473451327434,32.92017699115045,31.968646017699115,32.28408407079646],\"yaxis\":\"y\",\"type\":\"scatter\"},{\"hovertemplate\":\"RCP=8.5\\u003cbr\\u003eYear=%{x}\\u003cbr\\u003ePrecipitation (CM)=%{y}\\u003cextra\\u003e\\u003c\\u002fextra\\u003e\",\"legendgroup\":\"8.5\",\"line\":{\"color\":\"#EF553B\",\"dash\":\"solid\"},\"marker\":{\"symbol\":\"circle\"},\"mode\":\"lines\",\"name\":\"8.5\",\"orientation\":\"v\",\"showlegend\":true,\"x\":[2021,2022,2023,2024,2025,2026,2027,2028,2029,2030,2031,2032,2033,2034,2035,2036,2037,2038,2039,2040,2041,2042,2043,2044,2045,2046,2047,2048,2049,2050,2051,2052,2053,2054,2055,2056,2057,2058,2059],\"xaxis\":\"x\",\"y\":[34.133641592920355,29.37103982300885,34.8695221238938,29.192862831858406,37.22808849557522,28.462221238938053,37.18783185840708,31.432415929203536,29.57170353982301,29.225889380530973,32.4987610619469,35.708234513274334,31.651942477876105,29.34341150442478,33.50038495575221,31.75171238938053,29.716606194690264,32.942756637168145,30.31431415929204,31.11551769911505,28.675712389380532,28.32538938053097,30.89662389380531,31.183097345132744,31.399800884955752,33.547473451327434,33.27846017699115,36.45545132743363,33.114995575221236,33.46814601769911,34.4877610619469,34.66120796460177,32.04938938053097,31.335190265486727,31.664814159292035,32.91358407079646,33.8855575221239,31.923982300884955,32.16178318584071],\"yaxis\":\"y\",\"type\":\"scatter\"},{\"hovertemplate\":\"RCP=historical\\u003cbr\\u003eYear=%{x}\\u003cbr\\u003ePrecipitation (CM)=%{y}\\u003cextra\\u003e\\u003c\\u002fextra\\u003e\",\"legendgroup\":\"historical\",\"line\":{\"color\":\"#00cc96\",\"dash\":\"solid\"},\"marker\":{\"symbol\":\"circle\"},\"mode\":\"lines\",\"name\":\"historical\",\"orientation\":\"v\",\"showlegend\":false,\"x\":[2021,2022,2023,2024,2025,2026,2027,2028,2029,2030,2031,2032,2033,2034,2035,2036,2037,2038,2039,2040,2041,2042,2043,2044,2045,2046,2047,2048,2049,2050,2051,2052,2053,2054,2055,2056,2057,2058,2059],\"xaxis\":\"x\",\"y\":[null,null,null,null,null,null,null,null,null,null,null,null,null,null,null,null,null,null,null,null,null,null,null,null,null,null,null,null,null,null,null,null,null,null,null,null,null,null,null],\"yaxis\":\"y\",\"type\":\"scatter\"}],                        {\"template\":{\"data\":{\"histogram2dcontour\":[{\"type\":\"histogram2dcontour\",\"colorbar\":{\"outlinewidth\":0,\"ticks\":\"\"},\"colorscale\":[[0.0,\"#0d0887\"],[0.1111111111111111,\"#46039f\"],[0.2222222222222222,\"#7201a8\"],[0.3333333333333333,\"#9c179e\"],[0.4444444444444444,\"#bd3786\"],[0.5555555555555556,\"#d8576b\"],[0.6666666666666666,\"#ed7953\"],[0.7777777777777778,\"#fb9f3a\"],[0.8888888888888888,\"#fdca26\"],[1.0,\"#f0f921\"]]}],\"choropleth\":[{\"type\":\"choropleth\",\"colorbar\":{\"outlinewidth\":0,\"ticks\":\"\"}}],\"histogram2d\":[{\"type\":\"histogram2d\",\"colorbar\":{\"outlinewidth\":0,\"ticks\":\"\"},\"colorscale\":[[0.0,\"#0d0887\"],[0.1111111111111111,\"#46039f\"],[0.2222222222222222,\"#7201a8\"],[0.3333333333333333,\"#9c179e\"],[0.4444444444444444,\"#bd3786\"],[0.5555555555555556,\"#d8576b\"],[0.6666666666666666,\"#ed7953\"],[0.7777777777777778,\"#fb9f3a\"],[0.8888888888888888,\"#fdca26\"],[1.0,\"#f0f921\"]]}],\"heatmap\":[{\"type\":\"heatmap\",\"colorbar\":{\"outlinewidth\":0,\"ticks\":\"\"},\"colorscale\":[[0.0,\"#0d0887\"],[0.1111111111111111,\"#46039f\"],[0.2222222222222222,\"#7201a8\"],[0.3333333333333333,\"#9c179e\"],[0.4444444444444444,\"#bd3786\"],[0.5555555555555556,\"#d8576b\"],[0.6666666666666666,\"#ed7953\"],[0.7777777777777778,\"#fb9f3a\"],[0.8888888888888888,\"#fdca26\"],[1.0,\"#f0f921\"]]}],\"heatmapgl\":[{\"type\":\"heatmapgl\",\"colorbar\":{\"outlinewidth\":0,\"ticks\":\"\"},\"colorscale\":[[0.0,\"#0d0887\"],[0.1111111111111111,\"#46039f\"],[0.2222222222222222,\"#7201a8\"],[0.3333333333333333,\"#9c179e\"],[0.4444444444444444,\"#bd3786\"],[0.5555555555555556,\"#d8576b\"],[0.6666666666666666,\"#ed7953\"],[0.7777777777777778,\"#fb9f3a\"],[0.8888888888888888,\"#fdca26\"],[1.0,\"#f0f921\"]]}],\"contourcarpet\":[{\"type\":\"contourcarpet\",\"colorbar\":{\"outlinewidth\":0,\"ticks\":\"\"}}],\"contour\":[{\"type\":\"contour\",\"colorbar\":{\"outlinewidth\":0,\"ticks\":\"\"},\"colorscale\":[[0.0,\"#0d0887\"],[0.1111111111111111,\"#46039f\"],[0.2222222222222222,\"#7201a8\"],[0.3333333333333333,\"#9c179e\"],[0.4444444444444444,\"#bd3786\"],[0.5555555555555556,\"#d8576b\"],[0.6666666666666666,\"#ed7953\"],[0.7777777777777778,\"#fb9f3a\"],[0.8888888888888888,\"#fdca26\"],[1.0,\"#f0f921\"]]}],\"surface\":[{\"type\":\"surface\",\"colorbar\":{\"outlinewidth\":0,\"ticks\":\"\"},\"colorscale\":[[0.0,\"#0d0887\"],[0.1111111111111111,\"#46039f\"],[0.2222222222222222,\"#7201a8\"],[0.3333333333333333,\"#9c179e\"],[0.4444444444444444,\"#bd3786\"],[0.5555555555555556,\"#d8576b\"],[0.6666666666666666,\"#ed7953\"],[0.7777777777777778,\"#fb9f3a\"],[0.8888888888888888,\"#fdca26\"],[1.0,\"#f0f921\"]]}],\"mesh3d\":[{\"type\":\"mesh3d\",\"colorbar\":{\"outlinewidth\":0,\"ticks\":\"\"}}],\"scatter\":[{\"fillpattern\":{\"fillmode\":\"overlay\",\"size\":10,\"solidity\":0.2},\"type\":\"scatter\"}],\"parcoords\":[{\"type\":\"parcoords\",\"line\":{\"colorbar\":{\"outlinewidth\":0,\"ticks\":\"\"}}}],\"scatterpolargl\":[{\"type\":\"scatterpolargl\",\"marker\":{\"colorbar\":{\"outlinewidth\":0,\"ticks\":\"\"}}}],\"bar\":[{\"error_x\":{\"color\":\"#2a3f5f\"},\"error_y\":{\"color\":\"#2a3f5f\"},\"marker\":{\"line\":{\"color\":\"#E5ECF6\",\"width\":0.5},\"pattern\":{\"fillmode\":\"overlay\",\"size\":10,\"solidity\":0.2}},\"type\":\"bar\"}],\"scattergeo\":[{\"type\":\"scattergeo\",\"marker\":{\"colorbar\":{\"outlinewidth\":0,\"ticks\":\"\"}}}],\"scatterpolar\":[{\"type\":\"scatterpolar\",\"marker\":{\"colorbar\":{\"outlinewidth\":0,\"ticks\":\"\"}}}],\"histogram\":[{\"marker\":{\"pattern\":{\"fillmode\":\"overlay\",\"size\":10,\"solidity\":0.2}},\"type\":\"histogram\"}],\"scattergl\":[{\"type\":\"scattergl\",\"marker\":{\"colorbar\":{\"outlinewidth\":0,\"ticks\":\"\"}}}],\"scatter3d\":[{\"type\":\"scatter3d\",\"line\":{\"colorbar\":{\"outlinewidth\":0,\"ticks\":\"\"}},\"marker\":{\"colorbar\":{\"outlinewidth\":0,\"ticks\":\"\"}}}],\"scattermapbox\":[{\"type\":\"scattermapbox\",\"marker\":{\"colorbar\":{\"outlinewidth\":0,\"ticks\":\"\"}}}],\"scatterternary\":[{\"type\":\"scatterternary\",\"marker\":{\"colorbar\":{\"outlinewidth\":0,\"ticks\":\"\"}}}],\"scattercarpet\":[{\"type\":\"scattercarpet\",\"marker\":{\"colorbar\":{\"outlinewidth\":0,\"ticks\":\"\"}}}],\"carpet\":[{\"aaxis\":{\"endlinecolor\":\"#2a3f5f\",\"gridcolor\":\"white\",\"linecolor\":\"white\",\"minorgridcolor\":\"white\",\"startlinecolor\":\"#2a3f5f\"},\"baxis\":{\"endlinecolor\":\"#2a3f5f\",\"gridcolor\":\"white\",\"linecolor\":\"white\",\"minorgridcolor\":\"white\",\"startlinecolor\":\"#2a3f5f\"},\"type\":\"carpet\"}],\"table\":[{\"cells\":{\"fill\":{\"color\":\"#EBF0F8\"},\"line\":{\"color\":\"white\"}},\"header\":{\"fill\":{\"color\":\"#C8D4E3\"},\"line\":{\"color\":\"white\"}},\"type\":\"table\"}],\"barpolar\":[{\"marker\":{\"line\":{\"color\":\"#E5ECF6\",\"width\":0.5},\"pattern\":{\"fillmode\":\"overlay\",\"size\":10,\"solidity\":0.2}},\"type\":\"barpolar\"}],\"pie\":[{\"automargin\":true,\"type\":\"pie\"}]},\"layout\":{\"autotypenumbers\":\"strict\",\"colorway\":[\"#636efa\",\"#EF553B\",\"#00cc96\",\"#ab63fa\",\"#FFA15A\",\"#19d3f3\",\"#FF6692\",\"#B6E880\",\"#FF97FF\",\"#FECB52\"],\"font\":{\"color\":\"#2a3f5f\"},\"hovermode\":\"closest\",\"hoverlabel\":{\"align\":\"left\"},\"paper_bgcolor\":\"white\",\"plot_bgcolor\":\"#E5ECF6\",\"polar\":{\"bgcolor\":\"#E5ECF6\",\"angularaxis\":{\"gridcolor\":\"white\",\"linecolor\":\"white\",\"ticks\":\"\"},\"radialaxis\":{\"gridcolor\":\"white\",\"linecolor\":\"white\",\"ticks\":\"\"}},\"ternary\":{\"bgcolor\":\"#E5ECF6\",\"aaxis\":{\"gridcolor\":\"white\",\"linecolor\":\"white\",\"ticks\":\"\"},\"baxis\":{\"gridcolor\":\"white\",\"linecolor\":\"white\",\"ticks\":\"\"},\"caxis\":{\"gridcolor\":\"white\",\"linecolor\":\"white\",\"ticks\":\"\"}},\"coloraxis\":{\"colorbar\":{\"outlinewidth\":0,\"ticks\":\"\"}},\"colorscale\":{\"sequential\":[[0.0,\"#0d0887\"],[0.1111111111111111,\"#46039f\"],[0.2222222222222222,\"#7201a8\"],[0.3333333333333333,\"#9c179e\"],[0.4444444444444444,\"#bd3786\"],[0.5555555555555556,\"#d8576b\"],[0.6666666666666666,\"#ed7953\"],[0.7777777777777778,\"#fb9f3a\"],[0.8888888888888888,\"#fdca26\"],[1.0,\"#f0f921\"]],\"sequentialminus\":[[0.0,\"#0d0887\"],[0.1111111111111111,\"#46039f\"],[0.2222222222222222,\"#7201a8\"],[0.3333333333333333,\"#9c179e\"],[0.4444444444444444,\"#bd3786\"],[0.5555555555555556,\"#d8576b\"],[0.6666666666666666,\"#ed7953\"],[0.7777777777777778,\"#fb9f3a\"],[0.8888888888888888,\"#fdca26\"],[1.0,\"#f0f921\"]],\"diverging\":[[0,\"#8e0152\"],[0.1,\"#c51b7d\"],[0.2,\"#de77ae\"],[0.3,\"#f1b6da\"],[0.4,\"#fde0ef\"],[0.5,\"#f7f7f7\"],[0.6,\"#e6f5d0\"],[0.7,\"#b8e186\"],[0.8,\"#7fbc41\"],[0.9,\"#4d9221\"],[1,\"#276419\"]]},\"xaxis\":{\"gridcolor\":\"white\",\"linecolor\":\"white\",\"ticks\":\"\",\"title\":{\"standoff\":15},\"zerolinecolor\":\"white\",\"automargin\":true,\"zerolinewidth\":2},\"yaxis\":{\"gridcolor\":\"white\",\"linecolor\":\"white\",\"ticks\":\"\",\"title\":{\"standoff\":15},\"zerolinecolor\":\"white\",\"automargin\":true,\"zerolinewidth\":2},\"scene\":{\"xaxis\":{\"backgroundcolor\":\"#E5ECF6\",\"gridcolor\":\"white\",\"linecolor\":\"white\",\"showbackground\":true,\"ticks\":\"\",\"zerolinecolor\":\"white\",\"gridwidth\":2},\"yaxis\":{\"backgroundcolor\":\"#E5ECF6\",\"gridcolor\":\"white\",\"linecolor\":\"white\",\"showbackground\":true,\"ticks\":\"\",\"zerolinecolor\":\"white\",\"gridwidth\":2},\"zaxis\":{\"backgroundcolor\":\"#E5ECF6\",\"gridcolor\":\"white\",\"linecolor\":\"white\",\"showbackground\":true,\"ticks\":\"\",\"zerolinecolor\":\"white\",\"gridwidth\":2}},\"shapedefaults\":{\"line\":{\"color\":\"#2a3f5f\"}},\"annotationdefaults\":{\"arrowcolor\":\"#2a3f5f\",\"arrowhead\":0,\"arrowwidth\":1},\"geo\":{\"bgcolor\":\"white\",\"landcolor\":\"#E5ECF6\",\"subunitcolor\":\"white\",\"showland\":true,\"showlakes\":true,\"lakecolor\":\"white\"},\"title\":{\"x\":0.05},\"mapbox\":{\"style\":\"light\"}}},\"xaxis\":{\"anchor\":\"y\",\"domain\":[0.0,1.0],\"title\":{\"text\":\"Year\"}},\"yaxis\":{\"anchor\":\"x\",\"domain\":[0.0,1.0],\"title\":{\"text\":\"Precipitation (CM)\"}},\"legend\":{\"title\":{\"text\":\"RCP\"},\"tracegroupgap\":0},\"title\":{\"text\":\"Near Term Annual Precipitation\"}},                        {\"responsive\": true}                    ).then(function(){\n",
       "                            \n",
       "var gd = document.getElementById('2c2de247-eaa3-4e08-9b7d-47d2fc3c72a5');\n",
       "var x = new MutationObserver(function (mutations, observer) {{\n",
       "        var display = window.getComputedStyle(gd).display;\n",
       "        if (!display || display === 'none') {{\n",
       "            console.log([gd, 'removed!']);\n",
       "            Plotly.purge(gd);\n",
       "            observer.disconnect();\n",
       "        }}\n",
       "}});\n",
       "\n",
       "// Listen for the removal of the full notebook cells\n",
       "var notebookContainer = gd.closest('#notebook-container');\n",
       "if (notebookContainer) {{\n",
       "    x.observe(notebookContainer, {childList: true});\n",
       "}}\n",
       "\n",
       "// Listen for the clearing of the current output cell\n",
       "var outputEl = gd.closest('.output');\n",
       "if (outputEl) {{\n",
       "    x.observe(outputEl, {childList: true});\n",
       "}}\n",
       "\n",
       "                        })                };                });            </script>        </div>"
      ]
     },
     "metadata": {},
     "output_type": "display_data"
    }
   ],
   "source": [
    "#plot Annual Precipitation\n",
    "# set temp df for plot\n",
    "plot_df = df[df['TimePeriod'] == 'NT']\n",
    "# find mean temp of all collection site per year\n",
    "plot_df = plot_df.groupby(['year', 'RCP'])['PPT_Annual'].mean().reset_index()\n",
    "#plotly plot\n",
    "fig = px.line(plot_df,\n",
    "              x='year',\n",
    "              y='PPT_Annual',\n",
    "              color= 'RCP',\n",
    "              title='Near Term Annual Precipitation',\n",
    "              labels={\n",
    "                     \"year\": \"Year\",\n",
    "                     \"PPT_Annual\": \"Precipitation (CM)\"\n",
    "                 }\n",
    "              )\n",
    "#remove hist from legend\n",
    "for trace in fig.data:\n",
    "    if trace.name == 'historical':\n",
    "        trace.showlegend = False\n",
    "#print fig\n",
    "fig.show()"
   ]
  },
  {
   "cell_type": "code",
   "execution_count": 61,
   "metadata": {},
   "outputs": [
    {
     "data": {
      "application/vnd.plotly.v1+json": {
       "config": {
        "plotlyServerURL": "https://plot.ly"
       },
       "data": [
        {
         "hovertemplate": "RCP=4.5<br>Year=%{x}<br>Precipitation (CM)=%{y}<extra></extra>",
         "legendgroup": "4.5",
         "line": {
          "color": "#636efa",
          "dash": "solid"
         },
         "marker": {
          "symbol": "circle"
         },
         "mode": "lines",
         "name": "4.5",
         "orientation": "v",
         "showlegend": true,
         "type": "scatter",
         "x": [
          2060,
          2061,
          2062,
          2063,
          2064,
          2065,
          2066,
          2067,
          2068,
          2069,
          2070,
          2071,
          2072,
          2073,
          2074,
          2075,
          2076,
          2077,
          2078,
          2079,
          2080,
          2081,
          2082,
          2083,
          2084,
          2085,
          2086,
          2087,
          2088,
          2089,
          2090,
          2091,
          2092,
          2093,
          2094,
          2095,
          2096,
          2097,
          2098,
          2099
         ],
         "xaxis": "x",
         "y": [
          35.589199115044245,
          34.26980088495575,
          33.597203539823006,
          34.12458849557522,
          32.86448672566372,
          32.773278761061945,
          28.549517699115047,
          31.923946902654865,
          29.001699115044246,
          28.412004424778765,
          31.786442477876108,
          33.23890265486725,
          27.379172566371683,
          34.11192477876106,
          32.29369026548673,
          26.51425221238938,
          31.076384955752214,
          33.70270353982301,
          37.22433185840708,
          34.942933628318585,
          32.59492477876106,
          30.04565486725664,
          33.37557079646018,
          27.053969026548675,
          34.9756592920354,
          31.832911504424782,
          30.967526548672566,
          30.358867256637172,
          35.36060619469026,
          31.26127876106195,
          33.37283185840708,
          31.146477876106193,
          31.7205,
          29.64808407079646,
          29.613070796460175,
          32.04048672566372,
          32.272530973451325,
          35.23310176991151,
          32.88024336283186,
          34.70988495575221
         ],
         "yaxis": "y"
        },
        {
         "hovertemplate": "RCP=8.5<br>Year=%{x}<br>Precipitation (CM)=%{y}<extra></extra>",
         "legendgroup": "8.5",
         "line": {
          "color": "#EF553B",
          "dash": "solid"
         },
         "marker": {
          "symbol": "circle"
         },
         "mode": "lines",
         "name": "8.5",
         "orientation": "v",
         "showlegend": true,
         "type": "scatter",
         "x": [
          2060,
          2061,
          2062,
          2063,
          2064,
          2065,
          2066,
          2067,
          2068,
          2069,
          2070,
          2071,
          2072,
          2073,
          2074,
          2075,
          2076,
          2077,
          2078,
          2079,
          2080,
          2081,
          2082,
          2083,
          2084,
          2085,
          2086,
          2087,
          2088,
          2089,
          2090,
          2091,
          2092,
          2093,
          2094,
          2095,
          2096,
          2097,
          2098,
          2099
         ],
         "xaxis": "x",
         "y": [
          32.22245575221239,
          32.51632743362832,
          31.099800884955755,
          30.27691592920354,
          31.69319911504425,
          29.438893805309732,
          31.403367256637168,
          31.00536725663717,
          28.313942477876108,
          30.898946902654867,
          31.663362831858407,
          30.487893805309735,
          34.708858407079646,
          33.882504424778766,
          31.653491150442477,
          29.383517699115043,
          32.93662831858407,
          30.52102654867257,
          30.25569911504425,
          30.989725663716815,
          34.41972566371682,
          31.846486725663716,
          30.878287610619473,
          32.983384955752214,
          30.142548672566374,
          34.380694690265486,
          32.663190265486726,
          35.27428318584071,
          32.29019911504425,
          33.24557522123894,
          36.286849557522125,
          32.25502654867257,
          30.48854867256637,
          31.486761061946904,
          32.617769911504425,
          32.02728761061947,
          27.11157522123894,
          32.105384955752214,
          28.52357522123894,
          33.24015929203539
         ],
         "yaxis": "y"
        },
        {
         "hovertemplate": "RCP=historical<br>Year=%{x}<br>Precipitation (CM)=%{y}<extra></extra>",
         "legendgroup": "historical",
         "line": {
          "color": "#00cc96",
          "dash": "solid"
         },
         "marker": {
          "symbol": "circle"
         },
         "mode": "lines",
         "name": "historical",
         "orientation": "v",
         "showlegend": false,
         "type": "scatter",
         "x": [
          2060,
          2061,
          2062,
          2063,
          2064,
          2065,
          2066,
          2067,
          2068,
          2069,
          2070,
          2071,
          2072,
          2073,
          2074,
          2075,
          2076,
          2077,
          2078,
          2079,
          2080,
          2081,
          2082,
          2083,
          2084,
          2085,
          2086,
          2087,
          2088,
          2089,
          2090,
          2091,
          2092,
          2093,
          2094,
          2095,
          2096,
          2097,
          2098,
          2099
         ],
         "xaxis": "x",
         "y": [
          null,
          null,
          null,
          null,
          null,
          null,
          null,
          null,
          null,
          null,
          null,
          null,
          null,
          null,
          null,
          null,
          null,
          null,
          null,
          null,
          null,
          null,
          null,
          null,
          null,
          null,
          null,
          null,
          null,
          null,
          null,
          null,
          null,
          null,
          null,
          null,
          null,
          null,
          null,
          null
         ],
         "yaxis": "y"
        }
       ],
       "layout": {
        "legend": {
         "title": {
          "text": "RCP"
         },
         "tracegroupgap": 0
        },
        "template": {
         "data": {
          "bar": [
           {
            "error_x": {
             "color": "#2a3f5f"
            },
            "error_y": {
             "color": "#2a3f5f"
            },
            "marker": {
             "line": {
              "color": "#E5ECF6",
              "width": 0.5
             },
             "pattern": {
              "fillmode": "overlay",
              "size": 10,
              "solidity": 0.2
             }
            },
            "type": "bar"
           }
          ],
          "barpolar": [
           {
            "marker": {
             "line": {
              "color": "#E5ECF6",
              "width": 0.5
             },
             "pattern": {
              "fillmode": "overlay",
              "size": 10,
              "solidity": 0.2
             }
            },
            "type": "barpolar"
           }
          ],
          "carpet": [
           {
            "aaxis": {
             "endlinecolor": "#2a3f5f",
             "gridcolor": "white",
             "linecolor": "white",
             "minorgridcolor": "white",
             "startlinecolor": "#2a3f5f"
            },
            "baxis": {
             "endlinecolor": "#2a3f5f",
             "gridcolor": "white",
             "linecolor": "white",
             "minorgridcolor": "white",
             "startlinecolor": "#2a3f5f"
            },
            "type": "carpet"
           }
          ],
          "choropleth": [
           {
            "colorbar": {
             "outlinewidth": 0,
             "ticks": ""
            },
            "type": "choropleth"
           }
          ],
          "contour": [
           {
            "colorbar": {
             "outlinewidth": 0,
             "ticks": ""
            },
            "colorscale": [
             [
              0,
              "#0d0887"
             ],
             [
              0.1111111111111111,
              "#46039f"
             ],
             [
              0.2222222222222222,
              "#7201a8"
             ],
             [
              0.3333333333333333,
              "#9c179e"
             ],
             [
              0.4444444444444444,
              "#bd3786"
             ],
             [
              0.5555555555555556,
              "#d8576b"
             ],
             [
              0.6666666666666666,
              "#ed7953"
             ],
             [
              0.7777777777777778,
              "#fb9f3a"
             ],
             [
              0.8888888888888888,
              "#fdca26"
             ],
             [
              1,
              "#f0f921"
             ]
            ],
            "type": "contour"
           }
          ],
          "contourcarpet": [
           {
            "colorbar": {
             "outlinewidth": 0,
             "ticks": ""
            },
            "type": "contourcarpet"
           }
          ],
          "heatmap": [
           {
            "colorbar": {
             "outlinewidth": 0,
             "ticks": ""
            },
            "colorscale": [
             [
              0,
              "#0d0887"
             ],
             [
              0.1111111111111111,
              "#46039f"
             ],
             [
              0.2222222222222222,
              "#7201a8"
             ],
             [
              0.3333333333333333,
              "#9c179e"
             ],
             [
              0.4444444444444444,
              "#bd3786"
             ],
             [
              0.5555555555555556,
              "#d8576b"
             ],
             [
              0.6666666666666666,
              "#ed7953"
             ],
             [
              0.7777777777777778,
              "#fb9f3a"
             ],
             [
              0.8888888888888888,
              "#fdca26"
             ],
             [
              1,
              "#f0f921"
             ]
            ],
            "type": "heatmap"
           }
          ],
          "heatmapgl": [
           {
            "colorbar": {
             "outlinewidth": 0,
             "ticks": ""
            },
            "colorscale": [
             [
              0,
              "#0d0887"
             ],
             [
              0.1111111111111111,
              "#46039f"
             ],
             [
              0.2222222222222222,
              "#7201a8"
             ],
             [
              0.3333333333333333,
              "#9c179e"
             ],
             [
              0.4444444444444444,
              "#bd3786"
             ],
             [
              0.5555555555555556,
              "#d8576b"
             ],
             [
              0.6666666666666666,
              "#ed7953"
             ],
             [
              0.7777777777777778,
              "#fb9f3a"
             ],
             [
              0.8888888888888888,
              "#fdca26"
             ],
             [
              1,
              "#f0f921"
             ]
            ],
            "type": "heatmapgl"
           }
          ],
          "histogram": [
           {
            "marker": {
             "pattern": {
              "fillmode": "overlay",
              "size": 10,
              "solidity": 0.2
             }
            },
            "type": "histogram"
           }
          ],
          "histogram2d": [
           {
            "colorbar": {
             "outlinewidth": 0,
             "ticks": ""
            },
            "colorscale": [
             [
              0,
              "#0d0887"
             ],
             [
              0.1111111111111111,
              "#46039f"
             ],
             [
              0.2222222222222222,
              "#7201a8"
             ],
             [
              0.3333333333333333,
              "#9c179e"
             ],
             [
              0.4444444444444444,
              "#bd3786"
             ],
             [
              0.5555555555555556,
              "#d8576b"
             ],
             [
              0.6666666666666666,
              "#ed7953"
             ],
             [
              0.7777777777777778,
              "#fb9f3a"
             ],
             [
              0.8888888888888888,
              "#fdca26"
             ],
             [
              1,
              "#f0f921"
             ]
            ],
            "type": "histogram2d"
           }
          ],
          "histogram2dcontour": [
           {
            "colorbar": {
             "outlinewidth": 0,
             "ticks": ""
            },
            "colorscale": [
             [
              0,
              "#0d0887"
             ],
             [
              0.1111111111111111,
              "#46039f"
             ],
             [
              0.2222222222222222,
              "#7201a8"
             ],
             [
              0.3333333333333333,
              "#9c179e"
             ],
             [
              0.4444444444444444,
              "#bd3786"
             ],
             [
              0.5555555555555556,
              "#d8576b"
             ],
             [
              0.6666666666666666,
              "#ed7953"
             ],
             [
              0.7777777777777778,
              "#fb9f3a"
             ],
             [
              0.8888888888888888,
              "#fdca26"
             ],
             [
              1,
              "#f0f921"
             ]
            ],
            "type": "histogram2dcontour"
           }
          ],
          "mesh3d": [
           {
            "colorbar": {
             "outlinewidth": 0,
             "ticks": ""
            },
            "type": "mesh3d"
           }
          ],
          "parcoords": [
           {
            "line": {
             "colorbar": {
              "outlinewidth": 0,
              "ticks": ""
             }
            },
            "type": "parcoords"
           }
          ],
          "pie": [
           {
            "automargin": true,
            "type": "pie"
           }
          ],
          "scatter": [
           {
            "fillpattern": {
             "fillmode": "overlay",
             "size": 10,
             "solidity": 0.2
            },
            "type": "scatter"
           }
          ],
          "scatter3d": [
           {
            "line": {
             "colorbar": {
              "outlinewidth": 0,
              "ticks": ""
             }
            },
            "marker": {
             "colorbar": {
              "outlinewidth": 0,
              "ticks": ""
             }
            },
            "type": "scatter3d"
           }
          ],
          "scattercarpet": [
           {
            "marker": {
             "colorbar": {
              "outlinewidth": 0,
              "ticks": ""
             }
            },
            "type": "scattercarpet"
           }
          ],
          "scattergeo": [
           {
            "marker": {
             "colorbar": {
              "outlinewidth": 0,
              "ticks": ""
             }
            },
            "type": "scattergeo"
           }
          ],
          "scattergl": [
           {
            "marker": {
             "colorbar": {
              "outlinewidth": 0,
              "ticks": ""
             }
            },
            "type": "scattergl"
           }
          ],
          "scattermapbox": [
           {
            "marker": {
             "colorbar": {
              "outlinewidth": 0,
              "ticks": ""
             }
            },
            "type": "scattermapbox"
           }
          ],
          "scatterpolar": [
           {
            "marker": {
             "colorbar": {
              "outlinewidth": 0,
              "ticks": ""
             }
            },
            "type": "scatterpolar"
           }
          ],
          "scatterpolargl": [
           {
            "marker": {
             "colorbar": {
              "outlinewidth": 0,
              "ticks": ""
             }
            },
            "type": "scatterpolargl"
           }
          ],
          "scatterternary": [
           {
            "marker": {
             "colorbar": {
              "outlinewidth": 0,
              "ticks": ""
             }
            },
            "type": "scatterternary"
           }
          ],
          "surface": [
           {
            "colorbar": {
             "outlinewidth": 0,
             "ticks": ""
            },
            "colorscale": [
             [
              0,
              "#0d0887"
             ],
             [
              0.1111111111111111,
              "#46039f"
             ],
             [
              0.2222222222222222,
              "#7201a8"
             ],
             [
              0.3333333333333333,
              "#9c179e"
             ],
             [
              0.4444444444444444,
              "#bd3786"
             ],
             [
              0.5555555555555556,
              "#d8576b"
             ],
             [
              0.6666666666666666,
              "#ed7953"
             ],
             [
              0.7777777777777778,
              "#fb9f3a"
             ],
             [
              0.8888888888888888,
              "#fdca26"
             ],
             [
              1,
              "#f0f921"
             ]
            ],
            "type": "surface"
           }
          ],
          "table": [
           {
            "cells": {
             "fill": {
              "color": "#EBF0F8"
             },
             "line": {
              "color": "white"
             }
            },
            "header": {
             "fill": {
              "color": "#C8D4E3"
             },
             "line": {
              "color": "white"
             }
            },
            "type": "table"
           }
          ]
         },
         "layout": {
          "annotationdefaults": {
           "arrowcolor": "#2a3f5f",
           "arrowhead": 0,
           "arrowwidth": 1
          },
          "autotypenumbers": "strict",
          "coloraxis": {
           "colorbar": {
            "outlinewidth": 0,
            "ticks": ""
           }
          },
          "colorscale": {
           "diverging": [
            [
             0,
             "#8e0152"
            ],
            [
             0.1,
             "#c51b7d"
            ],
            [
             0.2,
             "#de77ae"
            ],
            [
             0.3,
             "#f1b6da"
            ],
            [
             0.4,
             "#fde0ef"
            ],
            [
             0.5,
             "#f7f7f7"
            ],
            [
             0.6,
             "#e6f5d0"
            ],
            [
             0.7,
             "#b8e186"
            ],
            [
             0.8,
             "#7fbc41"
            ],
            [
             0.9,
             "#4d9221"
            ],
            [
             1,
             "#276419"
            ]
           ],
           "sequential": [
            [
             0,
             "#0d0887"
            ],
            [
             0.1111111111111111,
             "#46039f"
            ],
            [
             0.2222222222222222,
             "#7201a8"
            ],
            [
             0.3333333333333333,
             "#9c179e"
            ],
            [
             0.4444444444444444,
             "#bd3786"
            ],
            [
             0.5555555555555556,
             "#d8576b"
            ],
            [
             0.6666666666666666,
             "#ed7953"
            ],
            [
             0.7777777777777778,
             "#fb9f3a"
            ],
            [
             0.8888888888888888,
             "#fdca26"
            ],
            [
             1,
             "#f0f921"
            ]
           ],
           "sequentialminus": [
            [
             0,
             "#0d0887"
            ],
            [
             0.1111111111111111,
             "#46039f"
            ],
            [
             0.2222222222222222,
             "#7201a8"
            ],
            [
             0.3333333333333333,
             "#9c179e"
            ],
            [
             0.4444444444444444,
             "#bd3786"
            ],
            [
             0.5555555555555556,
             "#d8576b"
            ],
            [
             0.6666666666666666,
             "#ed7953"
            ],
            [
             0.7777777777777778,
             "#fb9f3a"
            ],
            [
             0.8888888888888888,
             "#fdca26"
            ],
            [
             1,
             "#f0f921"
            ]
           ]
          },
          "colorway": [
           "#636efa",
           "#EF553B",
           "#00cc96",
           "#ab63fa",
           "#FFA15A",
           "#19d3f3",
           "#FF6692",
           "#B6E880",
           "#FF97FF",
           "#FECB52"
          ],
          "font": {
           "color": "#2a3f5f"
          },
          "geo": {
           "bgcolor": "white",
           "lakecolor": "white",
           "landcolor": "#E5ECF6",
           "showlakes": true,
           "showland": true,
           "subunitcolor": "white"
          },
          "hoverlabel": {
           "align": "left"
          },
          "hovermode": "closest",
          "mapbox": {
           "style": "light"
          },
          "paper_bgcolor": "white",
          "plot_bgcolor": "#E5ECF6",
          "polar": {
           "angularaxis": {
            "gridcolor": "white",
            "linecolor": "white",
            "ticks": ""
           },
           "bgcolor": "#E5ECF6",
           "radialaxis": {
            "gridcolor": "white",
            "linecolor": "white",
            "ticks": ""
           }
          },
          "scene": {
           "xaxis": {
            "backgroundcolor": "#E5ECF6",
            "gridcolor": "white",
            "gridwidth": 2,
            "linecolor": "white",
            "showbackground": true,
            "ticks": "",
            "zerolinecolor": "white"
           },
           "yaxis": {
            "backgroundcolor": "#E5ECF6",
            "gridcolor": "white",
            "gridwidth": 2,
            "linecolor": "white",
            "showbackground": true,
            "ticks": "",
            "zerolinecolor": "white"
           },
           "zaxis": {
            "backgroundcolor": "#E5ECF6",
            "gridcolor": "white",
            "gridwidth": 2,
            "linecolor": "white",
            "showbackground": true,
            "ticks": "",
            "zerolinecolor": "white"
           }
          },
          "shapedefaults": {
           "line": {
            "color": "#2a3f5f"
           }
          },
          "ternary": {
           "aaxis": {
            "gridcolor": "white",
            "linecolor": "white",
            "ticks": ""
           },
           "baxis": {
            "gridcolor": "white",
            "linecolor": "white",
            "ticks": ""
           },
           "bgcolor": "#E5ECF6",
           "caxis": {
            "gridcolor": "white",
            "linecolor": "white",
            "ticks": ""
           }
          },
          "title": {
           "x": 0.05
          },
          "xaxis": {
           "automargin": true,
           "gridcolor": "white",
           "linecolor": "white",
           "ticks": "",
           "title": {
            "standoff": 15
           },
           "zerolinecolor": "white",
           "zerolinewidth": 2
          },
          "yaxis": {
           "automargin": true,
           "gridcolor": "white",
           "linecolor": "white",
           "ticks": "",
           "title": {
            "standoff": 15
           },
           "zerolinecolor": "white",
           "zerolinewidth": 2
          }
         }
        },
        "title": {
         "text": "Long Term Annual Precipitation"
        },
        "xaxis": {
         "anchor": "y",
         "domain": [
          0,
          1
         ],
         "title": {
          "text": "Year"
         }
        },
        "yaxis": {
         "anchor": "x",
         "domain": [
          0,
          1
         ],
         "title": {
          "text": "Precipitation (CM)"
         }
        }
       }
      },
      "text/html": [
       "<div>                            <div id=\"9eb7e6ce-738d-4489-8e3d-6044d0c6baa7\" class=\"plotly-graph-div\" style=\"height:525px; width:100%;\"></div>            <script type=\"text/javascript\">                require([\"plotly\"], function(Plotly) {                    window.PLOTLYENV=window.PLOTLYENV || {};                                    if (document.getElementById(\"9eb7e6ce-738d-4489-8e3d-6044d0c6baa7\")) {                    Plotly.newPlot(                        \"9eb7e6ce-738d-4489-8e3d-6044d0c6baa7\",                        [{\"hovertemplate\":\"RCP=4.5\\u003cbr\\u003eYear=%{x}\\u003cbr\\u003ePrecipitation (CM)=%{y}\\u003cextra\\u003e\\u003c\\u002fextra\\u003e\",\"legendgroup\":\"4.5\",\"line\":{\"color\":\"#636efa\",\"dash\":\"solid\"},\"marker\":{\"symbol\":\"circle\"},\"mode\":\"lines\",\"name\":\"4.5\",\"orientation\":\"v\",\"showlegend\":true,\"x\":[2060,2061,2062,2063,2064,2065,2066,2067,2068,2069,2070,2071,2072,2073,2074,2075,2076,2077,2078,2079,2080,2081,2082,2083,2084,2085,2086,2087,2088,2089,2090,2091,2092,2093,2094,2095,2096,2097,2098,2099],\"xaxis\":\"x\",\"y\":[35.589199115044245,34.26980088495575,33.597203539823006,34.12458849557522,32.86448672566372,32.773278761061945,28.549517699115047,31.923946902654865,29.001699115044246,28.412004424778765,31.786442477876108,33.23890265486725,27.379172566371683,34.11192477876106,32.29369026548673,26.51425221238938,31.076384955752214,33.70270353982301,37.22433185840708,34.942933628318585,32.59492477876106,30.04565486725664,33.37557079646018,27.053969026548675,34.9756592920354,31.832911504424782,30.967526548672566,30.358867256637172,35.36060619469026,31.26127876106195,33.37283185840708,31.146477876106193,31.7205,29.64808407079646,29.613070796460175,32.04048672566372,32.272530973451325,35.23310176991151,32.88024336283186,34.70988495575221],\"yaxis\":\"y\",\"type\":\"scatter\"},{\"hovertemplate\":\"RCP=8.5\\u003cbr\\u003eYear=%{x}\\u003cbr\\u003ePrecipitation (CM)=%{y}\\u003cextra\\u003e\\u003c\\u002fextra\\u003e\",\"legendgroup\":\"8.5\",\"line\":{\"color\":\"#EF553B\",\"dash\":\"solid\"},\"marker\":{\"symbol\":\"circle\"},\"mode\":\"lines\",\"name\":\"8.5\",\"orientation\":\"v\",\"showlegend\":true,\"x\":[2060,2061,2062,2063,2064,2065,2066,2067,2068,2069,2070,2071,2072,2073,2074,2075,2076,2077,2078,2079,2080,2081,2082,2083,2084,2085,2086,2087,2088,2089,2090,2091,2092,2093,2094,2095,2096,2097,2098,2099],\"xaxis\":\"x\",\"y\":[32.22245575221239,32.51632743362832,31.099800884955755,30.27691592920354,31.69319911504425,29.438893805309732,31.403367256637168,31.00536725663717,28.313942477876108,30.898946902654867,31.663362831858407,30.487893805309735,34.708858407079646,33.882504424778766,31.653491150442477,29.383517699115043,32.93662831858407,30.52102654867257,30.25569911504425,30.989725663716815,34.41972566371682,31.846486725663716,30.878287610619473,32.983384955752214,30.142548672566374,34.380694690265486,32.663190265486726,35.27428318584071,32.29019911504425,33.24557522123894,36.286849557522125,32.25502654867257,30.48854867256637,31.486761061946904,32.617769911504425,32.02728761061947,27.11157522123894,32.105384955752214,28.52357522123894,33.24015929203539],\"yaxis\":\"y\",\"type\":\"scatter\"},{\"hovertemplate\":\"RCP=historical\\u003cbr\\u003eYear=%{x}\\u003cbr\\u003ePrecipitation (CM)=%{y}\\u003cextra\\u003e\\u003c\\u002fextra\\u003e\",\"legendgroup\":\"historical\",\"line\":{\"color\":\"#00cc96\",\"dash\":\"solid\"},\"marker\":{\"symbol\":\"circle\"},\"mode\":\"lines\",\"name\":\"historical\",\"orientation\":\"v\",\"showlegend\":false,\"x\":[2060,2061,2062,2063,2064,2065,2066,2067,2068,2069,2070,2071,2072,2073,2074,2075,2076,2077,2078,2079,2080,2081,2082,2083,2084,2085,2086,2087,2088,2089,2090,2091,2092,2093,2094,2095,2096,2097,2098,2099],\"xaxis\":\"x\",\"y\":[null,null,null,null,null,null,null,null,null,null,null,null,null,null,null,null,null,null,null,null,null,null,null,null,null,null,null,null,null,null,null,null,null,null,null,null,null,null,null,null],\"yaxis\":\"y\",\"type\":\"scatter\"}],                        {\"template\":{\"data\":{\"histogram2dcontour\":[{\"type\":\"histogram2dcontour\",\"colorbar\":{\"outlinewidth\":0,\"ticks\":\"\"},\"colorscale\":[[0.0,\"#0d0887\"],[0.1111111111111111,\"#46039f\"],[0.2222222222222222,\"#7201a8\"],[0.3333333333333333,\"#9c179e\"],[0.4444444444444444,\"#bd3786\"],[0.5555555555555556,\"#d8576b\"],[0.6666666666666666,\"#ed7953\"],[0.7777777777777778,\"#fb9f3a\"],[0.8888888888888888,\"#fdca26\"],[1.0,\"#f0f921\"]]}],\"choropleth\":[{\"type\":\"choropleth\",\"colorbar\":{\"outlinewidth\":0,\"ticks\":\"\"}}],\"histogram2d\":[{\"type\":\"histogram2d\",\"colorbar\":{\"outlinewidth\":0,\"ticks\":\"\"},\"colorscale\":[[0.0,\"#0d0887\"],[0.1111111111111111,\"#46039f\"],[0.2222222222222222,\"#7201a8\"],[0.3333333333333333,\"#9c179e\"],[0.4444444444444444,\"#bd3786\"],[0.5555555555555556,\"#d8576b\"],[0.6666666666666666,\"#ed7953\"],[0.7777777777777778,\"#fb9f3a\"],[0.8888888888888888,\"#fdca26\"],[1.0,\"#f0f921\"]]}],\"heatmap\":[{\"type\":\"heatmap\",\"colorbar\":{\"outlinewidth\":0,\"ticks\":\"\"},\"colorscale\":[[0.0,\"#0d0887\"],[0.1111111111111111,\"#46039f\"],[0.2222222222222222,\"#7201a8\"],[0.3333333333333333,\"#9c179e\"],[0.4444444444444444,\"#bd3786\"],[0.5555555555555556,\"#d8576b\"],[0.6666666666666666,\"#ed7953\"],[0.7777777777777778,\"#fb9f3a\"],[0.8888888888888888,\"#fdca26\"],[1.0,\"#f0f921\"]]}],\"heatmapgl\":[{\"type\":\"heatmapgl\",\"colorbar\":{\"outlinewidth\":0,\"ticks\":\"\"},\"colorscale\":[[0.0,\"#0d0887\"],[0.1111111111111111,\"#46039f\"],[0.2222222222222222,\"#7201a8\"],[0.3333333333333333,\"#9c179e\"],[0.4444444444444444,\"#bd3786\"],[0.5555555555555556,\"#d8576b\"],[0.6666666666666666,\"#ed7953\"],[0.7777777777777778,\"#fb9f3a\"],[0.8888888888888888,\"#fdca26\"],[1.0,\"#f0f921\"]]}],\"contourcarpet\":[{\"type\":\"contourcarpet\",\"colorbar\":{\"outlinewidth\":0,\"ticks\":\"\"}}],\"contour\":[{\"type\":\"contour\",\"colorbar\":{\"outlinewidth\":0,\"ticks\":\"\"},\"colorscale\":[[0.0,\"#0d0887\"],[0.1111111111111111,\"#46039f\"],[0.2222222222222222,\"#7201a8\"],[0.3333333333333333,\"#9c179e\"],[0.4444444444444444,\"#bd3786\"],[0.5555555555555556,\"#d8576b\"],[0.6666666666666666,\"#ed7953\"],[0.7777777777777778,\"#fb9f3a\"],[0.8888888888888888,\"#fdca26\"],[1.0,\"#f0f921\"]]}],\"surface\":[{\"type\":\"surface\",\"colorbar\":{\"outlinewidth\":0,\"ticks\":\"\"},\"colorscale\":[[0.0,\"#0d0887\"],[0.1111111111111111,\"#46039f\"],[0.2222222222222222,\"#7201a8\"],[0.3333333333333333,\"#9c179e\"],[0.4444444444444444,\"#bd3786\"],[0.5555555555555556,\"#d8576b\"],[0.6666666666666666,\"#ed7953\"],[0.7777777777777778,\"#fb9f3a\"],[0.8888888888888888,\"#fdca26\"],[1.0,\"#f0f921\"]]}],\"mesh3d\":[{\"type\":\"mesh3d\",\"colorbar\":{\"outlinewidth\":0,\"ticks\":\"\"}}],\"scatter\":[{\"fillpattern\":{\"fillmode\":\"overlay\",\"size\":10,\"solidity\":0.2},\"type\":\"scatter\"}],\"parcoords\":[{\"type\":\"parcoords\",\"line\":{\"colorbar\":{\"outlinewidth\":0,\"ticks\":\"\"}}}],\"scatterpolargl\":[{\"type\":\"scatterpolargl\",\"marker\":{\"colorbar\":{\"outlinewidth\":0,\"ticks\":\"\"}}}],\"bar\":[{\"error_x\":{\"color\":\"#2a3f5f\"},\"error_y\":{\"color\":\"#2a3f5f\"},\"marker\":{\"line\":{\"color\":\"#E5ECF6\",\"width\":0.5},\"pattern\":{\"fillmode\":\"overlay\",\"size\":10,\"solidity\":0.2}},\"type\":\"bar\"}],\"scattergeo\":[{\"type\":\"scattergeo\",\"marker\":{\"colorbar\":{\"outlinewidth\":0,\"ticks\":\"\"}}}],\"scatterpolar\":[{\"type\":\"scatterpolar\",\"marker\":{\"colorbar\":{\"outlinewidth\":0,\"ticks\":\"\"}}}],\"histogram\":[{\"marker\":{\"pattern\":{\"fillmode\":\"overlay\",\"size\":10,\"solidity\":0.2}},\"type\":\"histogram\"}],\"scattergl\":[{\"type\":\"scattergl\",\"marker\":{\"colorbar\":{\"outlinewidth\":0,\"ticks\":\"\"}}}],\"scatter3d\":[{\"type\":\"scatter3d\",\"line\":{\"colorbar\":{\"outlinewidth\":0,\"ticks\":\"\"}},\"marker\":{\"colorbar\":{\"outlinewidth\":0,\"ticks\":\"\"}}}],\"scattermapbox\":[{\"type\":\"scattermapbox\",\"marker\":{\"colorbar\":{\"outlinewidth\":0,\"ticks\":\"\"}}}],\"scatterternary\":[{\"type\":\"scatterternary\",\"marker\":{\"colorbar\":{\"outlinewidth\":0,\"ticks\":\"\"}}}],\"scattercarpet\":[{\"type\":\"scattercarpet\",\"marker\":{\"colorbar\":{\"outlinewidth\":0,\"ticks\":\"\"}}}],\"carpet\":[{\"aaxis\":{\"endlinecolor\":\"#2a3f5f\",\"gridcolor\":\"white\",\"linecolor\":\"white\",\"minorgridcolor\":\"white\",\"startlinecolor\":\"#2a3f5f\"},\"baxis\":{\"endlinecolor\":\"#2a3f5f\",\"gridcolor\":\"white\",\"linecolor\":\"white\",\"minorgridcolor\":\"white\",\"startlinecolor\":\"#2a3f5f\"},\"type\":\"carpet\"}],\"table\":[{\"cells\":{\"fill\":{\"color\":\"#EBF0F8\"},\"line\":{\"color\":\"white\"}},\"header\":{\"fill\":{\"color\":\"#C8D4E3\"},\"line\":{\"color\":\"white\"}},\"type\":\"table\"}],\"barpolar\":[{\"marker\":{\"line\":{\"color\":\"#E5ECF6\",\"width\":0.5},\"pattern\":{\"fillmode\":\"overlay\",\"size\":10,\"solidity\":0.2}},\"type\":\"barpolar\"}],\"pie\":[{\"automargin\":true,\"type\":\"pie\"}]},\"layout\":{\"autotypenumbers\":\"strict\",\"colorway\":[\"#636efa\",\"#EF553B\",\"#00cc96\",\"#ab63fa\",\"#FFA15A\",\"#19d3f3\",\"#FF6692\",\"#B6E880\",\"#FF97FF\",\"#FECB52\"],\"font\":{\"color\":\"#2a3f5f\"},\"hovermode\":\"closest\",\"hoverlabel\":{\"align\":\"left\"},\"paper_bgcolor\":\"white\",\"plot_bgcolor\":\"#E5ECF6\",\"polar\":{\"bgcolor\":\"#E5ECF6\",\"angularaxis\":{\"gridcolor\":\"white\",\"linecolor\":\"white\",\"ticks\":\"\"},\"radialaxis\":{\"gridcolor\":\"white\",\"linecolor\":\"white\",\"ticks\":\"\"}},\"ternary\":{\"bgcolor\":\"#E5ECF6\",\"aaxis\":{\"gridcolor\":\"white\",\"linecolor\":\"white\",\"ticks\":\"\"},\"baxis\":{\"gridcolor\":\"white\",\"linecolor\":\"white\",\"ticks\":\"\"},\"caxis\":{\"gridcolor\":\"white\",\"linecolor\":\"white\",\"ticks\":\"\"}},\"coloraxis\":{\"colorbar\":{\"outlinewidth\":0,\"ticks\":\"\"}},\"colorscale\":{\"sequential\":[[0.0,\"#0d0887\"],[0.1111111111111111,\"#46039f\"],[0.2222222222222222,\"#7201a8\"],[0.3333333333333333,\"#9c179e\"],[0.4444444444444444,\"#bd3786\"],[0.5555555555555556,\"#d8576b\"],[0.6666666666666666,\"#ed7953\"],[0.7777777777777778,\"#fb9f3a\"],[0.8888888888888888,\"#fdca26\"],[1.0,\"#f0f921\"]],\"sequentialminus\":[[0.0,\"#0d0887\"],[0.1111111111111111,\"#46039f\"],[0.2222222222222222,\"#7201a8\"],[0.3333333333333333,\"#9c179e\"],[0.4444444444444444,\"#bd3786\"],[0.5555555555555556,\"#d8576b\"],[0.6666666666666666,\"#ed7953\"],[0.7777777777777778,\"#fb9f3a\"],[0.8888888888888888,\"#fdca26\"],[1.0,\"#f0f921\"]],\"diverging\":[[0,\"#8e0152\"],[0.1,\"#c51b7d\"],[0.2,\"#de77ae\"],[0.3,\"#f1b6da\"],[0.4,\"#fde0ef\"],[0.5,\"#f7f7f7\"],[0.6,\"#e6f5d0\"],[0.7,\"#b8e186\"],[0.8,\"#7fbc41\"],[0.9,\"#4d9221\"],[1,\"#276419\"]]},\"xaxis\":{\"gridcolor\":\"white\",\"linecolor\":\"white\",\"ticks\":\"\",\"title\":{\"standoff\":15},\"zerolinecolor\":\"white\",\"automargin\":true,\"zerolinewidth\":2},\"yaxis\":{\"gridcolor\":\"white\",\"linecolor\":\"white\",\"ticks\":\"\",\"title\":{\"standoff\":15},\"zerolinecolor\":\"white\",\"automargin\":true,\"zerolinewidth\":2},\"scene\":{\"xaxis\":{\"backgroundcolor\":\"#E5ECF6\",\"gridcolor\":\"white\",\"linecolor\":\"white\",\"showbackground\":true,\"ticks\":\"\",\"zerolinecolor\":\"white\",\"gridwidth\":2},\"yaxis\":{\"backgroundcolor\":\"#E5ECF6\",\"gridcolor\":\"white\",\"linecolor\":\"white\",\"showbackground\":true,\"ticks\":\"\",\"zerolinecolor\":\"white\",\"gridwidth\":2},\"zaxis\":{\"backgroundcolor\":\"#E5ECF6\",\"gridcolor\":\"white\",\"linecolor\":\"white\",\"showbackground\":true,\"ticks\":\"\",\"zerolinecolor\":\"white\",\"gridwidth\":2}},\"shapedefaults\":{\"line\":{\"color\":\"#2a3f5f\"}},\"annotationdefaults\":{\"arrowcolor\":\"#2a3f5f\",\"arrowhead\":0,\"arrowwidth\":1},\"geo\":{\"bgcolor\":\"white\",\"landcolor\":\"#E5ECF6\",\"subunitcolor\":\"white\",\"showland\":true,\"showlakes\":true,\"lakecolor\":\"white\"},\"title\":{\"x\":0.05},\"mapbox\":{\"style\":\"light\"}}},\"xaxis\":{\"anchor\":\"y\",\"domain\":[0.0,1.0],\"title\":{\"text\":\"Year\"}},\"yaxis\":{\"anchor\":\"x\",\"domain\":[0.0,1.0],\"title\":{\"text\":\"Precipitation (CM)\"}},\"legend\":{\"title\":{\"text\":\"RCP\"},\"tracegroupgap\":0},\"title\":{\"text\":\"Long Term Annual Precipitation\"}},                        {\"responsive\": true}                    ).then(function(){\n",
       "                            \n",
       "var gd = document.getElementById('9eb7e6ce-738d-4489-8e3d-6044d0c6baa7');\n",
       "var x = new MutationObserver(function (mutations, observer) {{\n",
       "        var display = window.getComputedStyle(gd).display;\n",
       "        if (!display || display === 'none') {{\n",
       "            console.log([gd, 'removed!']);\n",
       "            Plotly.purge(gd);\n",
       "            observer.disconnect();\n",
       "        }}\n",
       "}});\n",
       "\n",
       "// Listen for the removal of the full notebook cells\n",
       "var notebookContainer = gd.closest('#notebook-container');\n",
       "if (notebookContainer) {{\n",
       "    x.observe(notebookContainer, {childList: true});\n",
       "}}\n",
       "\n",
       "// Listen for the clearing of the current output cell\n",
       "var outputEl = gd.closest('.output');\n",
       "if (outputEl) {{\n",
       "    x.observe(outputEl, {childList: true});\n",
       "}}\n",
       "\n",
       "                        })                };                });            </script>        </div>"
      ]
     },
     "metadata": {},
     "output_type": "display_data"
    }
   ],
   "source": [
    "#plot Annual Precipitation\n",
    "# set temp df for plot\n",
    "plot_df = df[df['TimePeriod'] == 'LT']\n",
    "# find mean temp of all collection site per year\n",
    "plot_df = plot_df.groupby(['year', 'RCP'])['PPT_Annual'].mean().reset_index()\n",
    "#plotly plot\n",
    "fig = px.line(plot_df,\n",
    "              x='year',\n",
    "              y='PPT_Annual',\n",
    "              color= 'RCP',\n",
    "              title='Long Term Annual Precipitation',\n",
    "              labels={\n",
    "                     \"year\": \"Year\",\n",
    "                     \"PPT_Annual\": \"Precipitation (CM)\"\n",
    "                 }\n",
    "              )\n",
    "#remove hist from legend\n",
    "for trace in fig.data:\n",
    "    if trace.name == 'historical':\n",
    "        trace.showlegend = False\n",
    "#print fig\n",
    "fig.show()"
   ]
  },
  {
   "cell_type": "markdown",
   "metadata": {},
   "source": [
    "# Max summer tempature"
   ]
  },
  {
   "cell_type": "code",
   "execution_count": 62,
   "metadata": {},
   "outputs": [
    {
     "data": {
      "application/vnd.plotly.v1+json": {
       "config": {
        "plotlyServerURL": "https://plot.ly"
       },
       "data": [
        {
         "hovertemplate": "Year=%{x}<br>Temperature (C)=%{y}<extra></extra>",
         "legendgroup": "",
         "line": {
          "color": "#636efa",
          "dash": "solid"
         },
         "marker": {
          "symbol": "circle"
         },
         "mode": "lines",
         "name": "",
         "orientation": "v",
         "showlegend": false,
         "type": "scatter",
         "x": [
          1980,
          1981,
          1982,
          1983,
          1984,
          1985,
          1986,
          1987,
          1988,
          1989,
          1990,
          1991,
          1992,
          1993,
          1994,
          1995,
          1996,
          1997,
          1998,
          1999,
          2000,
          2001,
          2002,
          2003,
          2004,
          2005,
          2006,
          2007,
          2008,
          2009,
          2010,
          2011,
          2012,
          2013,
          2014,
          2015,
          2016,
          2017,
          2018
         ],
         "xaxis": "x",
         "y": [
          36.68982300884956,
          37.18982300884956,
          36.28982300884956,
          34.08451327433629,
          34.79601769911504,
          37.109292035398234,
          34.58451327433629,
          33.79247787610619,
          35.20398230088496,
          37.73672566371681,
          36.80221238938053,
          34.219026548672566,
          33.88451327433628,
          34.284513274336284,
          36.87212389380531,
          36.86238938053097,
          35.60929203539823,
          34.936725663716814,
          36.73672566371681,
          33.820796460176986,
          36.36150442477876,
          35.536725663716815,
          36.77654867256637,
          37.60398230088496,
          34.71725663716814,
          37.80929203539823,
          36.52964601769912,
          35.84203539823009,
          34.728761061946905,
          35.780973451327434,
          37.30929203539823,
          35.417256637168144,
          35.31725663716814,
          38.072123893805305,
          35.44469026548673,
          35.96061946902655,
          37.412831858407074,
          37.01106194690266,
          35.314601769911505
         ],
         "yaxis": "y"
        }
       ],
       "layout": {
        "legend": {
         "tracegroupgap": 0
        },
        "template": {
         "data": {
          "bar": [
           {
            "error_x": {
             "color": "#2a3f5f"
            },
            "error_y": {
             "color": "#2a3f5f"
            },
            "marker": {
             "line": {
              "color": "#E5ECF6",
              "width": 0.5
             },
             "pattern": {
              "fillmode": "overlay",
              "size": 10,
              "solidity": 0.2
             }
            },
            "type": "bar"
           }
          ],
          "barpolar": [
           {
            "marker": {
             "line": {
              "color": "#E5ECF6",
              "width": 0.5
             },
             "pattern": {
              "fillmode": "overlay",
              "size": 10,
              "solidity": 0.2
             }
            },
            "type": "barpolar"
           }
          ],
          "carpet": [
           {
            "aaxis": {
             "endlinecolor": "#2a3f5f",
             "gridcolor": "white",
             "linecolor": "white",
             "minorgridcolor": "white",
             "startlinecolor": "#2a3f5f"
            },
            "baxis": {
             "endlinecolor": "#2a3f5f",
             "gridcolor": "white",
             "linecolor": "white",
             "minorgridcolor": "white",
             "startlinecolor": "#2a3f5f"
            },
            "type": "carpet"
           }
          ],
          "choropleth": [
           {
            "colorbar": {
             "outlinewidth": 0,
             "ticks": ""
            },
            "type": "choropleth"
           }
          ],
          "contour": [
           {
            "colorbar": {
             "outlinewidth": 0,
             "ticks": ""
            },
            "colorscale": [
             [
              0,
              "#0d0887"
             ],
             [
              0.1111111111111111,
              "#46039f"
             ],
             [
              0.2222222222222222,
              "#7201a8"
             ],
             [
              0.3333333333333333,
              "#9c179e"
             ],
             [
              0.4444444444444444,
              "#bd3786"
             ],
             [
              0.5555555555555556,
              "#d8576b"
             ],
             [
              0.6666666666666666,
              "#ed7953"
             ],
             [
              0.7777777777777778,
              "#fb9f3a"
             ],
             [
              0.8888888888888888,
              "#fdca26"
             ],
             [
              1,
              "#f0f921"
             ]
            ],
            "type": "contour"
           }
          ],
          "contourcarpet": [
           {
            "colorbar": {
             "outlinewidth": 0,
             "ticks": ""
            },
            "type": "contourcarpet"
           }
          ],
          "heatmap": [
           {
            "colorbar": {
             "outlinewidth": 0,
             "ticks": ""
            },
            "colorscale": [
             [
              0,
              "#0d0887"
             ],
             [
              0.1111111111111111,
              "#46039f"
             ],
             [
              0.2222222222222222,
              "#7201a8"
             ],
             [
              0.3333333333333333,
              "#9c179e"
             ],
             [
              0.4444444444444444,
              "#bd3786"
             ],
             [
              0.5555555555555556,
              "#d8576b"
             ],
             [
              0.6666666666666666,
              "#ed7953"
             ],
             [
              0.7777777777777778,
              "#fb9f3a"
             ],
             [
              0.8888888888888888,
              "#fdca26"
             ],
             [
              1,
              "#f0f921"
             ]
            ],
            "type": "heatmap"
           }
          ],
          "heatmapgl": [
           {
            "colorbar": {
             "outlinewidth": 0,
             "ticks": ""
            },
            "colorscale": [
             [
              0,
              "#0d0887"
             ],
             [
              0.1111111111111111,
              "#46039f"
             ],
             [
              0.2222222222222222,
              "#7201a8"
             ],
             [
              0.3333333333333333,
              "#9c179e"
             ],
             [
              0.4444444444444444,
              "#bd3786"
             ],
             [
              0.5555555555555556,
              "#d8576b"
             ],
             [
              0.6666666666666666,
              "#ed7953"
             ],
             [
              0.7777777777777778,
              "#fb9f3a"
             ],
             [
              0.8888888888888888,
              "#fdca26"
             ],
             [
              1,
              "#f0f921"
             ]
            ],
            "type": "heatmapgl"
           }
          ],
          "histogram": [
           {
            "marker": {
             "pattern": {
              "fillmode": "overlay",
              "size": 10,
              "solidity": 0.2
             }
            },
            "type": "histogram"
           }
          ],
          "histogram2d": [
           {
            "colorbar": {
             "outlinewidth": 0,
             "ticks": ""
            },
            "colorscale": [
             [
              0,
              "#0d0887"
             ],
             [
              0.1111111111111111,
              "#46039f"
             ],
             [
              0.2222222222222222,
              "#7201a8"
             ],
             [
              0.3333333333333333,
              "#9c179e"
             ],
             [
              0.4444444444444444,
              "#bd3786"
             ],
             [
              0.5555555555555556,
              "#d8576b"
             ],
             [
              0.6666666666666666,
              "#ed7953"
             ],
             [
              0.7777777777777778,
              "#fb9f3a"
             ],
             [
              0.8888888888888888,
              "#fdca26"
             ],
             [
              1,
              "#f0f921"
             ]
            ],
            "type": "histogram2d"
           }
          ],
          "histogram2dcontour": [
           {
            "colorbar": {
             "outlinewidth": 0,
             "ticks": ""
            },
            "colorscale": [
             [
              0,
              "#0d0887"
             ],
             [
              0.1111111111111111,
              "#46039f"
             ],
             [
              0.2222222222222222,
              "#7201a8"
             ],
             [
              0.3333333333333333,
              "#9c179e"
             ],
             [
              0.4444444444444444,
              "#bd3786"
             ],
             [
              0.5555555555555556,
              "#d8576b"
             ],
             [
              0.6666666666666666,
              "#ed7953"
             ],
             [
              0.7777777777777778,
              "#fb9f3a"
             ],
             [
              0.8888888888888888,
              "#fdca26"
             ],
             [
              1,
              "#f0f921"
             ]
            ],
            "type": "histogram2dcontour"
           }
          ],
          "mesh3d": [
           {
            "colorbar": {
             "outlinewidth": 0,
             "ticks": ""
            },
            "type": "mesh3d"
           }
          ],
          "parcoords": [
           {
            "line": {
             "colorbar": {
              "outlinewidth": 0,
              "ticks": ""
             }
            },
            "type": "parcoords"
           }
          ],
          "pie": [
           {
            "automargin": true,
            "type": "pie"
           }
          ],
          "scatter": [
           {
            "fillpattern": {
             "fillmode": "overlay",
             "size": 10,
             "solidity": 0.2
            },
            "type": "scatter"
           }
          ],
          "scatter3d": [
           {
            "line": {
             "colorbar": {
              "outlinewidth": 0,
              "ticks": ""
             }
            },
            "marker": {
             "colorbar": {
              "outlinewidth": 0,
              "ticks": ""
             }
            },
            "type": "scatter3d"
           }
          ],
          "scattercarpet": [
           {
            "marker": {
             "colorbar": {
              "outlinewidth": 0,
              "ticks": ""
             }
            },
            "type": "scattercarpet"
           }
          ],
          "scattergeo": [
           {
            "marker": {
             "colorbar": {
              "outlinewidth": 0,
              "ticks": ""
             }
            },
            "type": "scattergeo"
           }
          ],
          "scattergl": [
           {
            "marker": {
             "colorbar": {
              "outlinewidth": 0,
              "ticks": ""
             }
            },
            "type": "scattergl"
           }
          ],
          "scattermapbox": [
           {
            "marker": {
             "colorbar": {
              "outlinewidth": 0,
              "ticks": ""
             }
            },
            "type": "scattermapbox"
           }
          ],
          "scatterpolar": [
           {
            "marker": {
             "colorbar": {
              "outlinewidth": 0,
              "ticks": ""
             }
            },
            "type": "scatterpolar"
           }
          ],
          "scatterpolargl": [
           {
            "marker": {
             "colorbar": {
              "outlinewidth": 0,
              "ticks": ""
             }
            },
            "type": "scatterpolargl"
           }
          ],
          "scatterternary": [
           {
            "marker": {
             "colorbar": {
              "outlinewidth": 0,
              "ticks": ""
             }
            },
            "type": "scatterternary"
           }
          ],
          "surface": [
           {
            "colorbar": {
             "outlinewidth": 0,
             "ticks": ""
            },
            "colorscale": [
             [
              0,
              "#0d0887"
             ],
             [
              0.1111111111111111,
              "#46039f"
             ],
             [
              0.2222222222222222,
              "#7201a8"
             ],
             [
              0.3333333333333333,
              "#9c179e"
             ],
             [
              0.4444444444444444,
              "#bd3786"
             ],
             [
              0.5555555555555556,
              "#d8576b"
             ],
             [
              0.6666666666666666,
              "#ed7953"
             ],
             [
              0.7777777777777778,
              "#fb9f3a"
             ],
             [
              0.8888888888888888,
              "#fdca26"
             ],
             [
              1,
              "#f0f921"
             ]
            ],
            "type": "surface"
           }
          ],
          "table": [
           {
            "cells": {
             "fill": {
              "color": "#EBF0F8"
             },
             "line": {
              "color": "white"
             }
            },
            "header": {
             "fill": {
              "color": "#C8D4E3"
             },
             "line": {
              "color": "white"
             }
            },
            "type": "table"
           }
          ]
         },
         "layout": {
          "annotationdefaults": {
           "arrowcolor": "#2a3f5f",
           "arrowhead": 0,
           "arrowwidth": 1
          },
          "autotypenumbers": "strict",
          "coloraxis": {
           "colorbar": {
            "outlinewidth": 0,
            "ticks": ""
           }
          },
          "colorscale": {
           "diverging": [
            [
             0,
             "#8e0152"
            ],
            [
             0.1,
             "#c51b7d"
            ],
            [
             0.2,
             "#de77ae"
            ],
            [
             0.3,
             "#f1b6da"
            ],
            [
             0.4,
             "#fde0ef"
            ],
            [
             0.5,
             "#f7f7f7"
            ],
            [
             0.6,
             "#e6f5d0"
            ],
            [
             0.7,
             "#b8e186"
            ],
            [
             0.8,
             "#7fbc41"
            ],
            [
             0.9,
             "#4d9221"
            ],
            [
             1,
             "#276419"
            ]
           ],
           "sequential": [
            [
             0,
             "#0d0887"
            ],
            [
             0.1111111111111111,
             "#46039f"
            ],
            [
             0.2222222222222222,
             "#7201a8"
            ],
            [
             0.3333333333333333,
             "#9c179e"
            ],
            [
             0.4444444444444444,
             "#bd3786"
            ],
            [
             0.5555555555555556,
             "#d8576b"
            ],
            [
             0.6666666666666666,
             "#ed7953"
            ],
            [
             0.7777777777777778,
             "#fb9f3a"
            ],
            [
             0.8888888888888888,
             "#fdca26"
            ],
            [
             1,
             "#f0f921"
            ]
           ],
           "sequentialminus": [
            [
             0,
             "#0d0887"
            ],
            [
             0.1111111111111111,
             "#46039f"
            ],
            [
             0.2222222222222222,
             "#7201a8"
            ],
            [
             0.3333333333333333,
             "#9c179e"
            ],
            [
             0.4444444444444444,
             "#bd3786"
            ],
            [
             0.5555555555555556,
             "#d8576b"
            ],
            [
             0.6666666666666666,
             "#ed7953"
            ],
            [
             0.7777777777777778,
             "#fb9f3a"
            ],
            [
             0.8888888888888888,
             "#fdca26"
            ],
            [
             1,
             "#f0f921"
            ]
           ]
          },
          "colorway": [
           "#636efa",
           "#EF553B",
           "#00cc96",
           "#ab63fa",
           "#FFA15A",
           "#19d3f3",
           "#FF6692",
           "#B6E880",
           "#FF97FF",
           "#FECB52"
          ],
          "font": {
           "color": "#2a3f5f"
          },
          "geo": {
           "bgcolor": "white",
           "lakecolor": "white",
           "landcolor": "#E5ECF6",
           "showlakes": true,
           "showland": true,
           "subunitcolor": "white"
          },
          "hoverlabel": {
           "align": "left"
          },
          "hovermode": "closest",
          "mapbox": {
           "style": "light"
          },
          "paper_bgcolor": "white",
          "plot_bgcolor": "#E5ECF6",
          "polar": {
           "angularaxis": {
            "gridcolor": "white",
            "linecolor": "white",
            "ticks": ""
           },
           "bgcolor": "#E5ECF6",
           "radialaxis": {
            "gridcolor": "white",
            "linecolor": "white",
            "ticks": ""
           }
          },
          "scene": {
           "xaxis": {
            "backgroundcolor": "#E5ECF6",
            "gridcolor": "white",
            "gridwidth": 2,
            "linecolor": "white",
            "showbackground": true,
            "ticks": "",
            "zerolinecolor": "white"
           },
           "yaxis": {
            "backgroundcolor": "#E5ECF6",
            "gridcolor": "white",
            "gridwidth": 2,
            "linecolor": "white",
            "showbackground": true,
            "ticks": "",
            "zerolinecolor": "white"
           },
           "zaxis": {
            "backgroundcolor": "#E5ECF6",
            "gridcolor": "white",
            "gridwidth": 2,
            "linecolor": "white",
            "showbackground": true,
            "ticks": "",
            "zerolinecolor": "white"
           }
          },
          "shapedefaults": {
           "line": {
            "color": "#2a3f5f"
           }
          },
          "ternary": {
           "aaxis": {
            "gridcolor": "white",
            "linecolor": "white",
            "ticks": ""
           },
           "baxis": {
            "gridcolor": "white",
            "linecolor": "white",
            "ticks": ""
           },
           "bgcolor": "#E5ECF6",
           "caxis": {
            "gridcolor": "white",
            "linecolor": "white",
            "ticks": ""
           }
          },
          "title": {
           "x": 0.05
          },
          "xaxis": {
           "automargin": true,
           "gridcolor": "white",
           "linecolor": "white",
           "ticks": "",
           "title": {
            "standoff": 15
           },
           "zerolinecolor": "white",
           "zerolinewidth": 2
          },
          "yaxis": {
           "automargin": true,
           "gridcolor": "white",
           "linecolor": "white",
           "ticks": "",
           "title": {
            "standoff": 15
           },
           "zerolinecolor": "white",
           "zerolinewidth": 2
          }
         }
        },
        "title": {
         "text": "Historic Max Summer Temperature"
        },
        "xaxis": {
         "anchor": "y",
         "domain": [
          0,
          1
         ],
         "title": {
          "text": "Year"
         }
        },
        "yaxis": {
         "anchor": "x",
         "domain": [
          0,
          1
         ],
         "title": {
          "text": "Temperature (C)"
         }
        }
       }
      },
      "text/html": [
       "<div>                            <div id=\"18b1da3c-c30b-446f-b375-cd676901b5ac\" class=\"plotly-graph-div\" style=\"height:525px; width:100%;\"></div>            <script type=\"text/javascript\">                require([\"plotly\"], function(Plotly) {                    window.PLOTLYENV=window.PLOTLYENV || {};                                    if (document.getElementById(\"18b1da3c-c30b-446f-b375-cd676901b5ac\")) {                    Plotly.newPlot(                        \"18b1da3c-c30b-446f-b375-cd676901b5ac\",                        [{\"hovertemplate\":\"Year=%{x}\\u003cbr\\u003eTemperature (C)=%{y}\\u003cextra\\u003e\\u003c\\u002fextra\\u003e\",\"legendgroup\":\"\",\"line\":{\"color\":\"#636efa\",\"dash\":\"solid\"},\"marker\":{\"symbol\":\"circle\"},\"mode\":\"lines\",\"name\":\"\",\"orientation\":\"v\",\"showlegend\":false,\"x\":[1980,1981,1982,1983,1984,1985,1986,1987,1988,1989,1990,1991,1992,1993,1994,1995,1996,1997,1998,1999,2000,2001,2002,2003,2004,2005,2006,2007,2008,2009,2010,2011,2012,2013,2014,2015,2016,2017,2018],\"xaxis\":\"x\",\"y\":[36.68982300884956,37.18982300884956,36.28982300884956,34.08451327433629,34.79601769911504,37.109292035398234,34.58451327433629,33.79247787610619,35.20398230088496,37.73672566371681,36.80221238938053,34.219026548672566,33.88451327433628,34.284513274336284,36.87212389380531,36.86238938053097,35.60929203539823,34.936725663716814,36.73672566371681,33.820796460176986,36.36150442477876,35.536725663716815,36.77654867256637,37.60398230088496,34.71725663716814,37.80929203539823,36.52964601769912,35.84203539823009,34.728761061946905,35.780973451327434,37.30929203539823,35.417256637168144,35.31725663716814,38.072123893805305,35.44469026548673,35.96061946902655,37.412831858407074,37.01106194690266,35.314601769911505],\"yaxis\":\"y\",\"type\":\"scatter\"}],                        {\"template\":{\"data\":{\"histogram2dcontour\":[{\"type\":\"histogram2dcontour\",\"colorbar\":{\"outlinewidth\":0,\"ticks\":\"\"},\"colorscale\":[[0.0,\"#0d0887\"],[0.1111111111111111,\"#46039f\"],[0.2222222222222222,\"#7201a8\"],[0.3333333333333333,\"#9c179e\"],[0.4444444444444444,\"#bd3786\"],[0.5555555555555556,\"#d8576b\"],[0.6666666666666666,\"#ed7953\"],[0.7777777777777778,\"#fb9f3a\"],[0.8888888888888888,\"#fdca26\"],[1.0,\"#f0f921\"]]}],\"choropleth\":[{\"type\":\"choropleth\",\"colorbar\":{\"outlinewidth\":0,\"ticks\":\"\"}}],\"histogram2d\":[{\"type\":\"histogram2d\",\"colorbar\":{\"outlinewidth\":0,\"ticks\":\"\"},\"colorscale\":[[0.0,\"#0d0887\"],[0.1111111111111111,\"#46039f\"],[0.2222222222222222,\"#7201a8\"],[0.3333333333333333,\"#9c179e\"],[0.4444444444444444,\"#bd3786\"],[0.5555555555555556,\"#d8576b\"],[0.6666666666666666,\"#ed7953\"],[0.7777777777777778,\"#fb9f3a\"],[0.8888888888888888,\"#fdca26\"],[1.0,\"#f0f921\"]]}],\"heatmap\":[{\"type\":\"heatmap\",\"colorbar\":{\"outlinewidth\":0,\"ticks\":\"\"},\"colorscale\":[[0.0,\"#0d0887\"],[0.1111111111111111,\"#46039f\"],[0.2222222222222222,\"#7201a8\"],[0.3333333333333333,\"#9c179e\"],[0.4444444444444444,\"#bd3786\"],[0.5555555555555556,\"#d8576b\"],[0.6666666666666666,\"#ed7953\"],[0.7777777777777778,\"#fb9f3a\"],[0.8888888888888888,\"#fdca26\"],[1.0,\"#f0f921\"]]}],\"heatmapgl\":[{\"type\":\"heatmapgl\",\"colorbar\":{\"outlinewidth\":0,\"ticks\":\"\"},\"colorscale\":[[0.0,\"#0d0887\"],[0.1111111111111111,\"#46039f\"],[0.2222222222222222,\"#7201a8\"],[0.3333333333333333,\"#9c179e\"],[0.4444444444444444,\"#bd3786\"],[0.5555555555555556,\"#d8576b\"],[0.6666666666666666,\"#ed7953\"],[0.7777777777777778,\"#fb9f3a\"],[0.8888888888888888,\"#fdca26\"],[1.0,\"#f0f921\"]]}],\"contourcarpet\":[{\"type\":\"contourcarpet\",\"colorbar\":{\"outlinewidth\":0,\"ticks\":\"\"}}],\"contour\":[{\"type\":\"contour\",\"colorbar\":{\"outlinewidth\":0,\"ticks\":\"\"},\"colorscale\":[[0.0,\"#0d0887\"],[0.1111111111111111,\"#46039f\"],[0.2222222222222222,\"#7201a8\"],[0.3333333333333333,\"#9c179e\"],[0.4444444444444444,\"#bd3786\"],[0.5555555555555556,\"#d8576b\"],[0.6666666666666666,\"#ed7953\"],[0.7777777777777778,\"#fb9f3a\"],[0.8888888888888888,\"#fdca26\"],[1.0,\"#f0f921\"]]}],\"surface\":[{\"type\":\"surface\",\"colorbar\":{\"outlinewidth\":0,\"ticks\":\"\"},\"colorscale\":[[0.0,\"#0d0887\"],[0.1111111111111111,\"#46039f\"],[0.2222222222222222,\"#7201a8\"],[0.3333333333333333,\"#9c179e\"],[0.4444444444444444,\"#bd3786\"],[0.5555555555555556,\"#d8576b\"],[0.6666666666666666,\"#ed7953\"],[0.7777777777777778,\"#fb9f3a\"],[0.8888888888888888,\"#fdca26\"],[1.0,\"#f0f921\"]]}],\"mesh3d\":[{\"type\":\"mesh3d\",\"colorbar\":{\"outlinewidth\":0,\"ticks\":\"\"}}],\"scatter\":[{\"fillpattern\":{\"fillmode\":\"overlay\",\"size\":10,\"solidity\":0.2},\"type\":\"scatter\"}],\"parcoords\":[{\"type\":\"parcoords\",\"line\":{\"colorbar\":{\"outlinewidth\":0,\"ticks\":\"\"}}}],\"scatterpolargl\":[{\"type\":\"scatterpolargl\",\"marker\":{\"colorbar\":{\"outlinewidth\":0,\"ticks\":\"\"}}}],\"bar\":[{\"error_x\":{\"color\":\"#2a3f5f\"},\"error_y\":{\"color\":\"#2a3f5f\"},\"marker\":{\"line\":{\"color\":\"#E5ECF6\",\"width\":0.5},\"pattern\":{\"fillmode\":\"overlay\",\"size\":10,\"solidity\":0.2}},\"type\":\"bar\"}],\"scattergeo\":[{\"type\":\"scattergeo\",\"marker\":{\"colorbar\":{\"outlinewidth\":0,\"ticks\":\"\"}}}],\"scatterpolar\":[{\"type\":\"scatterpolar\",\"marker\":{\"colorbar\":{\"outlinewidth\":0,\"ticks\":\"\"}}}],\"histogram\":[{\"marker\":{\"pattern\":{\"fillmode\":\"overlay\",\"size\":10,\"solidity\":0.2}},\"type\":\"histogram\"}],\"scattergl\":[{\"type\":\"scattergl\",\"marker\":{\"colorbar\":{\"outlinewidth\":0,\"ticks\":\"\"}}}],\"scatter3d\":[{\"type\":\"scatter3d\",\"line\":{\"colorbar\":{\"outlinewidth\":0,\"ticks\":\"\"}},\"marker\":{\"colorbar\":{\"outlinewidth\":0,\"ticks\":\"\"}}}],\"scattermapbox\":[{\"type\":\"scattermapbox\",\"marker\":{\"colorbar\":{\"outlinewidth\":0,\"ticks\":\"\"}}}],\"scatterternary\":[{\"type\":\"scatterternary\",\"marker\":{\"colorbar\":{\"outlinewidth\":0,\"ticks\":\"\"}}}],\"scattercarpet\":[{\"type\":\"scattercarpet\",\"marker\":{\"colorbar\":{\"outlinewidth\":0,\"ticks\":\"\"}}}],\"carpet\":[{\"aaxis\":{\"endlinecolor\":\"#2a3f5f\",\"gridcolor\":\"white\",\"linecolor\":\"white\",\"minorgridcolor\":\"white\",\"startlinecolor\":\"#2a3f5f\"},\"baxis\":{\"endlinecolor\":\"#2a3f5f\",\"gridcolor\":\"white\",\"linecolor\":\"white\",\"minorgridcolor\":\"white\",\"startlinecolor\":\"#2a3f5f\"},\"type\":\"carpet\"}],\"table\":[{\"cells\":{\"fill\":{\"color\":\"#EBF0F8\"},\"line\":{\"color\":\"white\"}},\"header\":{\"fill\":{\"color\":\"#C8D4E3\"},\"line\":{\"color\":\"white\"}},\"type\":\"table\"}],\"barpolar\":[{\"marker\":{\"line\":{\"color\":\"#E5ECF6\",\"width\":0.5},\"pattern\":{\"fillmode\":\"overlay\",\"size\":10,\"solidity\":0.2}},\"type\":\"barpolar\"}],\"pie\":[{\"automargin\":true,\"type\":\"pie\"}]},\"layout\":{\"autotypenumbers\":\"strict\",\"colorway\":[\"#636efa\",\"#EF553B\",\"#00cc96\",\"#ab63fa\",\"#FFA15A\",\"#19d3f3\",\"#FF6692\",\"#B6E880\",\"#FF97FF\",\"#FECB52\"],\"font\":{\"color\":\"#2a3f5f\"},\"hovermode\":\"closest\",\"hoverlabel\":{\"align\":\"left\"},\"paper_bgcolor\":\"white\",\"plot_bgcolor\":\"#E5ECF6\",\"polar\":{\"bgcolor\":\"#E5ECF6\",\"angularaxis\":{\"gridcolor\":\"white\",\"linecolor\":\"white\",\"ticks\":\"\"},\"radialaxis\":{\"gridcolor\":\"white\",\"linecolor\":\"white\",\"ticks\":\"\"}},\"ternary\":{\"bgcolor\":\"#E5ECF6\",\"aaxis\":{\"gridcolor\":\"white\",\"linecolor\":\"white\",\"ticks\":\"\"},\"baxis\":{\"gridcolor\":\"white\",\"linecolor\":\"white\",\"ticks\":\"\"},\"caxis\":{\"gridcolor\":\"white\",\"linecolor\":\"white\",\"ticks\":\"\"}},\"coloraxis\":{\"colorbar\":{\"outlinewidth\":0,\"ticks\":\"\"}},\"colorscale\":{\"sequential\":[[0.0,\"#0d0887\"],[0.1111111111111111,\"#46039f\"],[0.2222222222222222,\"#7201a8\"],[0.3333333333333333,\"#9c179e\"],[0.4444444444444444,\"#bd3786\"],[0.5555555555555556,\"#d8576b\"],[0.6666666666666666,\"#ed7953\"],[0.7777777777777778,\"#fb9f3a\"],[0.8888888888888888,\"#fdca26\"],[1.0,\"#f0f921\"]],\"sequentialminus\":[[0.0,\"#0d0887\"],[0.1111111111111111,\"#46039f\"],[0.2222222222222222,\"#7201a8\"],[0.3333333333333333,\"#9c179e\"],[0.4444444444444444,\"#bd3786\"],[0.5555555555555556,\"#d8576b\"],[0.6666666666666666,\"#ed7953\"],[0.7777777777777778,\"#fb9f3a\"],[0.8888888888888888,\"#fdca26\"],[1.0,\"#f0f921\"]],\"diverging\":[[0,\"#8e0152\"],[0.1,\"#c51b7d\"],[0.2,\"#de77ae\"],[0.3,\"#f1b6da\"],[0.4,\"#fde0ef\"],[0.5,\"#f7f7f7\"],[0.6,\"#e6f5d0\"],[0.7,\"#b8e186\"],[0.8,\"#7fbc41\"],[0.9,\"#4d9221\"],[1,\"#276419\"]]},\"xaxis\":{\"gridcolor\":\"white\",\"linecolor\":\"white\",\"ticks\":\"\",\"title\":{\"standoff\":15},\"zerolinecolor\":\"white\",\"automargin\":true,\"zerolinewidth\":2},\"yaxis\":{\"gridcolor\":\"white\",\"linecolor\":\"white\",\"ticks\":\"\",\"title\":{\"standoff\":15},\"zerolinecolor\":\"white\",\"automargin\":true,\"zerolinewidth\":2},\"scene\":{\"xaxis\":{\"backgroundcolor\":\"#E5ECF6\",\"gridcolor\":\"white\",\"linecolor\":\"white\",\"showbackground\":true,\"ticks\":\"\",\"zerolinecolor\":\"white\",\"gridwidth\":2},\"yaxis\":{\"backgroundcolor\":\"#E5ECF6\",\"gridcolor\":\"white\",\"linecolor\":\"white\",\"showbackground\":true,\"ticks\":\"\",\"zerolinecolor\":\"white\",\"gridwidth\":2},\"zaxis\":{\"backgroundcolor\":\"#E5ECF6\",\"gridcolor\":\"white\",\"linecolor\":\"white\",\"showbackground\":true,\"ticks\":\"\",\"zerolinecolor\":\"white\",\"gridwidth\":2}},\"shapedefaults\":{\"line\":{\"color\":\"#2a3f5f\"}},\"annotationdefaults\":{\"arrowcolor\":\"#2a3f5f\",\"arrowhead\":0,\"arrowwidth\":1},\"geo\":{\"bgcolor\":\"white\",\"landcolor\":\"#E5ECF6\",\"subunitcolor\":\"white\",\"showland\":true,\"showlakes\":true,\"lakecolor\":\"white\"},\"title\":{\"x\":0.05},\"mapbox\":{\"style\":\"light\"}}},\"xaxis\":{\"anchor\":\"y\",\"domain\":[0.0,1.0],\"title\":{\"text\":\"Year\"}},\"yaxis\":{\"anchor\":\"x\",\"domain\":[0.0,1.0],\"title\":{\"text\":\"Temperature (C)\"}},\"legend\":{\"tracegroupgap\":0},\"title\":{\"text\":\"Historic Max Summer Temperature\"}},                        {\"responsive\": true}                    ).then(function(){\n",
       "                            \n",
       "var gd = document.getElementById('18b1da3c-c30b-446f-b375-cd676901b5ac');\n",
       "var x = new MutationObserver(function (mutations, observer) {{\n",
       "        var display = window.getComputedStyle(gd).display;\n",
       "        if (!display || display === 'none') {{\n",
       "            console.log([gd, 'removed!']);\n",
       "            Plotly.purge(gd);\n",
       "            observer.disconnect();\n",
       "        }}\n",
       "}});\n",
       "\n",
       "// Listen for the removal of the full notebook cells\n",
       "var notebookContainer = gd.closest('#notebook-container');\n",
       "if (notebookContainer) {{\n",
       "    x.observe(notebookContainer, {childList: true});\n",
       "}}\n",
       "\n",
       "// Listen for the clearing of the current output cell\n",
       "var outputEl = gd.closest('.output');\n",
       "if (outputEl) {{\n",
       "    x.observe(outputEl, {childList: true});\n",
       "}}\n",
       "\n",
       "                        })                };                });            </script>        </div>"
      ]
     },
     "metadata": {},
     "output_type": "display_data"
    }
   ],
   "source": [
    "#plot Annual Precipitation\n",
    "# set temp df for plot\n",
    "plot_df = df[df['TimePeriod'] == 'Hist']\n",
    "# find mean temp of all collection site per year\n",
    "plot_df = plot_df.groupby(['year'])['Tmax_Summer'].mean().reset_index()\n",
    "#plotly plot\n",
    "fig = px.line(plot_df,\n",
    "              x='year',\n",
    "              y='Tmax_Summer',\n",
    "              title='Historic Max Summer Temperature',\n",
    "              labels={\n",
    "                     \"year\": \"Year\",\n",
    "                     \"Tmax_Summer\": \"Temperature (C)\"\n",
    "                 }\n",
    "              )\n",
    "#remove hist from legend\n",
    "for trace in fig.data:\n",
    "    if trace.name == 'historical':\n",
    "        trace.showlegend = False\n",
    "#print fig\n",
    "fig.show()"
   ]
  },
  {
   "cell_type": "code",
   "execution_count": 63,
   "metadata": {},
   "outputs": [
    {
     "data": {
      "application/vnd.plotly.v1+json": {
       "config": {
        "plotlyServerURL": "https://plot.ly"
       },
       "data": [
        {
         "hovertemplate": "RCP=4.5<br>Year=%{x}<br>Temperature (C)=%{y}<extra></extra>",
         "legendgroup": "4.5",
         "line": {
          "color": "#636efa",
          "dash": "solid"
         },
         "marker": {
          "symbol": "circle"
         },
         "mode": "lines",
         "name": "4.5",
         "orientation": "v",
         "showlegend": true,
         "type": "scatter",
         "x": [
          2021,
          2022,
          2023,
          2024,
          2025,
          2026,
          2027,
          2028,
          2029,
          2030,
          2031,
          2032,
          2033,
          2034,
          2035,
          2036,
          2037,
          2038,
          2039,
          2040,
          2041,
          2042,
          2043,
          2044,
          2045,
          2046,
          2047,
          2048,
          2049,
          2050,
          2051,
          2052,
          2053,
          2054,
          2055,
          2056,
          2057,
          2058,
          2059
         ],
         "xaxis": "x",
         "y": [
          36.50700884955752,
          37.565960176991155,
          37.45567699115044,
          37.42583628318584,
          37.72672566371681,
          37.077769911504426,
          37.52950884955752,
          37.73634513274336,
          37.66762389380531,
          37.30166814159292,
          37.747057522123896,
          38.01689823008849,
          37.993469026548674,
          37.57703097345133,
          38.20989380530973,
          37.71669911504425,
          38.029973451327436,
          38.45914601769911,
          37.545814159292036,
          38.269039823008846,
          38.49180530973451,
          37.94795132743363,
          38.32480973451328,
          38.00929203539823,
          38.30562389380531,
          38.38623008849558,
          38.44557079646018,
          37.611075221238934,
          38.93274336283186,
          38.18673008849557,
          38.339650442477875,
          38.860796460176985,
          38.53153539823009,
          38.62297345132743,
          38.438429203539826,
          38.4932831858407,
          38.45559734513274,
          39.04772123893805,
          38.356676991150444
         ],
         "yaxis": "y"
        },
        {
         "hovertemplate": "RCP=8.5<br>Year=%{x}<br>Temperature (C)=%{y}<extra></extra>",
         "legendgroup": "8.5",
         "line": {
          "color": "#EF553B",
          "dash": "solid"
         },
         "marker": {
          "symbol": "circle"
         },
         "mode": "lines",
         "name": "8.5",
         "orientation": "v",
         "showlegend": true,
         "type": "scatter",
         "x": [
          2021,
          2022,
          2023,
          2024,
          2025,
          2026,
          2027,
          2028,
          2029,
          2030,
          2031,
          2032,
          2033,
          2034,
          2035,
          2036,
          2037,
          2038,
          2039,
          2040,
          2041,
          2042,
          2043,
          2044,
          2045,
          2046,
          2047,
          2048,
          2049,
          2050,
          2051,
          2052,
          2053,
          2054,
          2055,
          2056,
          2057,
          2058,
          2059
         ],
         "xaxis": "x",
         "y": [
          37.09654867256637,
          37.92375663716814,
          37.017225663716815,
          38.18408407079646,
          37.28299115044248,
          37.42113274336283,
          37.34678761061947,
          37.845269911504424,
          37.46490707964602,
          38.5938407079646,
          37.699473451327435,
          37.808778761061944,
          38.09774336283186,
          38.598442477876105,
          38.4029424778761,
          38.287128318584074,
          38.50475663716814,
          38.86322566371681,
          38.54901769911504,
          38.59119911504425,
          38.325800884955754,
          38.95211061946903,
          38.89536283185841,
          39.157172566371685,
          38.79599557522124,
          39.08455309734513,
          39.17164601769912,
          38.81949557522124,
          39.53773451327434,
          39.201061946902655,
          39.0596017699115,
          38.87672123893805,
          39.71633185840708,
          39.913960176991154,
          39.88125663716814,
          39.794716814159294,
          39.33528318584071,
          39.7672389380531,
          40.21120796460177
         ],
         "yaxis": "y"
        },
        {
         "hovertemplate": "RCP=historical<br>Year=%{x}<br>Temperature (C)=%{y}<extra></extra>",
         "legendgroup": "historical",
         "line": {
          "color": "#00cc96",
          "dash": "solid"
         },
         "marker": {
          "symbol": "circle"
         },
         "mode": "lines",
         "name": "historical",
         "orientation": "v",
         "showlegend": false,
         "type": "scatter",
         "x": [
          2021,
          2022,
          2023,
          2024,
          2025,
          2026,
          2027,
          2028,
          2029,
          2030,
          2031,
          2032,
          2033,
          2034,
          2035,
          2036,
          2037,
          2038,
          2039,
          2040,
          2041,
          2042,
          2043,
          2044,
          2045,
          2046,
          2047,
          2048,
          2049,
          2050,
          2051,
          2052,
          2053,
          2054,
          2055,
          2056,
          2057,
          2058,
          2059
         ],
         "xaxis": "x",
         "y": [
          null,
          null,
          null,
          null,
          null,
          null,
          null,
          null,
          null,
          null,
          null,
          null,
          null,
          null,
          null,
          null,
          null,
          null,
          null,
          null,
          null,
          null,
          null,
          null,
          null,
          null,
          null,
          null,
          null,
          null,
          null,
          null,
          null,
          null,
          null,
          null,
          null,
          null,
          null
         ],
         "yaxis": "y"
        }
       ],
       "layout": {
        "legend": {
         "title": {
          "text": "RCP"
         },
         "tracegroupgap": 0
        },
        "template": {
         "data": {
          "bar": [
           {
            "error_x": {
             "color": "#2a3f5f"
            },
            "error_y": {
             "color": "#2a3f5f"
            },
            "marker": {
             "line": {
              "color": "#E5ECF6",
              "width": 0.5
             },
             "pattern": {
              "fillmode": "overlay",
              "size": 10,
              "solidity": 0.2
             }
            },
            "type": "bar"
           }
          ],
          "barpolar": [
           {
            "marker": {
             "line": {
              "color": "#E5ECF6",
              "width": 0.5
             },
             "pattern": {
              "fillmode": "overlay",
              "size": 10,
              "solidity": 0.2
             }
            },
            "type": "barpolar"
           }
          ],
          "carpet": [
           {
            "aaxis": {
             "endlinecolor": "#2a3f5f",
             "gridcolor": "white",
             "linecolor": "white",
             "minorgridcolor": "white",
             "startlinecolor": "#2a3f5f"
            },
            "baxis": {
             "endlinecolor": "#2a3f5f",
             "gridcolor": "white",
             "linecolor": "white",
             "minorgridcolor": "white",
             "startlinecolor": "#2a3f5f"
            },
            "type": "carpet"
           }
          ],
          "choropleth": [
           {
            "colorbar": {
             "outlinewidth": 0,
             "ticks": ""
            },
            "type": "choropleth"
           }
          ],
          "contour": [
           {
            "colorbar": {
             "outlinewidth": 0,
             "ticks": ""
            },
            "colorscale": [
             [
              0,
              "#0d0887"
             ],
             [
              0.1111111111111111,
              "#46039f"
             ],
             [
              0.2222222222222222,
              "#7201a8"
             ],
             [
              0.3333333333333333,
              "#9c179e"
             ],
             [
              0.4444444444444444,
              "#bd3786"
             ],
             [
              0.5555555555555556,
              "#d8576b"
             ],
             [
              0.6666666666666666,
              "#ed7953"
             ],
             [
              0.7777777777777778,
              "#fb9f3a"
             ],
             [
              0.8888888888888888,
              "#fdca26"
             ],
             [
              1,
              "#f0f921"
             ]
            ],
            "type": "contour"
           }
          ],
          "contourcarpet": [
           {
            "colorbar": {
             "outlinewidth": 0,
             "ticks": ""
            },
            "type": "contourcarpet"
           }
          ],
          "heatmap": [
           {
            "colorbar": {
             "outlinewidth": 0,
             "ticks": ""
            },
            "colorscale": [
             [
              0,
              "#0d0887"
             ],
             [
              0.1111111111111111,
              "#46039f"
             ],
             [
              0.2222222222222222,
              "#7201a8"
             ],
             [
              0.3333333333333333,
              "#9c179e"
             ],
             [
              0.4444444444444444,
              "#bd3786"
             ],
             [
              0.5555555555555556,
              "#d8576b"
             ],
             [
              0.6666666666666666,
              "#ed7953"
             ],
             [
              0.7777777777777778,
              "#fb9f3a"
             ],
             [
              0.8888888888888888,
              "#fdca26"
             ],
             [
              1,
              "#f0f921"
             ]
            ],
            "type": "heatmap"
           }
          ],
          "heatmapgl": [
           {
            "colorbar": {
             "outlinewidth": 0,
             "ticks": ""
            },
            "colorscale": [
             [
              0,
              "#0d0887"
             ],
             [
              0.1111111111111111,
              "#46039f"
             ],
             [
              0.2222222222222222,
              "#7201a8"
             ],
             [
              0.3333333333333333,
              "#9c179e"
             ],
             [
              0.4444444444444444,
              "#bd3786"
             ],
             [
              0.5555555555555556,
              "#d8576b"
             ],
             [
              0.6666666666666666,
              "#ed7953"
             ],
             [
              0.7777777777777778,
              "#fb9f3a"
             ],
             [
              0.8888888888888888,
              "#fdca26"
             ],
             [
              1,
              "#f0f921"
             ]
            ],
            "type": "heatmapgl"
           }
          ],
          "histogram": [
           {
            "marker": {
             "pattern": {
              "fillmode": "overlay",
              "size": 10,
              "solidity": 0.2
             }
            },
            "type": "histogram"
           }
          ],
          "histogram2d": [
           {
            "colorbar": {
             "outlinewidth": 0,
             "ticks": ""
            },
            "colorscale": [
             [
              0,
              "#0d0887"
             ],
             [
              0.1111111111111111,
              "#46039f"
             ],
             [
              0.2222222222222222,
              "#7201a8"
             ],
             [
              0.3333333333333333,
              "#9c179e"
             ],
             [
              0.4444444444444444,
              "#bd3786"
             ],
             [
              0.5555555555555556,
              "#d8576b"
             ],
             [
              0.6666666666666666,
              "#ed7953"
             ],
             [
              0.7777777777777778,
              "#fb9f3a"
             ],
             [
              0.8888888888888888,
              "#fdca26"
             ],
             [
              1,
              "#f0f921"
             ]
            ],
            "type": "histogram2d"
           }
          ],
          "histogram2dcontour": [
           {
            "colorbar": {
             "outlinewidth": 0,
             "ticks": ""
            },
            "colorscale": [
             [
              0,
              "#0d0887"
             ],
             [
              0.1111111111111111,
              "#46039f"
             ],
             [
              0.2222222222222222,
              "#7201a8"
             ],
             [
              0.3333333333333333,
              "#9c179e"
             ],
             [
              0.4444444444444444,
              "#bd3786"
             ],
             [
              0.5555555555555556,
              "#d8576b"
             ],
             [
              0.6666666666666666,
              "#ed7953"
             ],
             [
              0.7777777777777778,
              "#fb9f3a"
             ],
             [
              0.8888888888888888,
              "#fdca26"
             ],
             [
              1,
              "#f0f921"
             ]
            ],
            "type": "histogram2dcontour"
           }
          ],
          "mesh3d": [
           {
            "colorbar": {
             "outlinewidth": 0,
             "ticks": ""
            },
            "type": "mesh3d"
           }
          ],
          "parcoords": [
           {
            "line": {
             "colorbar": {
              "outlinewidth": 0,
              "ticks": ""
             }
            },
            "type": "parcoords"
           }
          ],
          "pie": [
           {
            "automargin": true,
            "type": "pie"
           }
          ],
          "scatter": [
           {
            "fillpattern": {
             "fillmode": "overlay",
             "size": 10,
             "solidity": 0.2
            },
            "type": "scatter"
           }
          ],
          "scatter3d": [
           {
            "line": {
             "colorbar": {
              "outlinewidth": 0,
              "ticks": ""
             }
            },
            "marker": {
             "colorbar": {
              "outlinewidth": 0,
              "ticks": ""
             }
            },
            "type": "scatter3d"
           }
          ],
          "scattercarpet": [
           {
            "marker": {
             "colorbar": {
              "outlinewidth": 0,
              "ticks": ""
             }
            },
            "type": "scattercarpet"
           }
          ],
          "scattergeo": [
           {
            "marker": {
             "colorbar": {
              "outlinewidth": 0,
              "ticks": ""
             }
            },
            "type": "scattergeo"
           }
          ],
          "scattergl": [
           {
            "marker": {
             "colorbar": {
              "outlinewidth": 0,
              "ticks": ""
             }
            },
            "type": "scattergl"
           }
          ],
          "scattermapbox": [
           {
            "marker": {
             "colorbar": {
              "outlinewidth": 0,
              "ticks": ""
             }
            },
            "type": "scattermapbox"
           }
          ],
          "scatterpolar": [
           {
            "marker": {
             "colorbar": {
              "outlinewidth": 0,
              "ticks": ""
             }
            },
            "type": "scatterpolar"
           }
          ],
          "scatterpolargl": [
           {
            "marker": {
             "colorbar": {
              "outlinewidth": 0,
              "ticks": ""
             }
            },
            "type": "scatterpolargl"
           }
          ],
          "scatterternary": [
           {
            "marker": {
             "colorbar": {
              "outlinewidth": 0,
              "ticks": ""
             }
            },
            "type": "scatterternary"
           }
          ],
          "surface": [
           {
            "colorbar": {
             "outlinewidth": 0,
             "ticks": ""
            },
            "colorscale": [
             [
              0,
              "#0d0887"
             ],
             [
              0.1111111111111111,
              "#46039f"
             ],
             [
              0.2222222222222222,
              "#7201a8"
             ],
             [
              0.3333333333333333,
              "#9c179e"
             ],
             [
              0.4444444444444444,
              "#bd3786"
             ],
             [
              0.5555555555555556,
              "#d8576b"
             ],
             [
              0.6666666666666666,
              "#ed7953"
             ],
             [
              0.7777777777777778,
              "#fb9f3a"
             ],
             [
              0.8888888888888888,
              "#fdca26"
             ],
             [
              1,
              "#f0f921"
             ]
            ],
            "type": "surface"
           }
          ],
          "table": [
           {
            "cells": {
             "fill": {
              "color": "#EBF0F8"
             },
             "line": {
              "color": "white"
             }
            },
            "header": {
             "fill": {
              "color": "#C8D4E3"
             },
             "line": {
              "color": "white"
             }
            },
            "type": "table"
           }
          ]
         },
         "layout": {
          "annotationdefaults": {
           "arrowcolor": "#2a3f5f",
           "arrowhead": 0,
           "arrowwidth": 1
          },
          "autotypenumbers": "strict",
          "coloraxis": {
           "colorbar": {
            "outlinewidth": 0,
            "ticks": ""
           }
          },
          "colorscale": {
           "diverging": [
            [
             0,
             "#8e0152"
            ],
            [
             0.1,
             "#c51b7d"
            ],
            [
             0.2,
             "#de77ae"
            ],
            [
             0.3,
             "#f1b6da"
            ],
            [
             0.4,
             "#fde0ef"
            ],
            [
             0.5,
             "#f7f7f7"
            ],
            [
             0.6,
             "#e6f5d0"
            ],
            [
             0.7,
             "#b8e186"
            ],
            [
             0.8,
             "#7fbc41"
            ],
            [
             0.9,
             "#4d9221"
            ],
            [
             1,
             "#276419"
            ]
           ],
           "sequential": [
            [
             0,
             "#0d0887"
            ],
            [
             0.1111111111111111,
             "#46039f"
            ],
            [
             0.2222222222222222,
             "#7201a8"
            ],
            [
             0.3333333333333333,
             "#9c179e"
            ],
            [
             0.4444444444444444,
             "#bd3786"
            ],
            [
             0.5555555555555556,
             "#d8576b"
            ],
            [
             0.6666666666666666,
             "#ed7953"
            ],
            [
             0.7777777777777778,
             "#fb9f3a"
            ],
            [
             0.8888888888888888,
             "#fdca26"
            ],
            [
             1,
             "#f0f921"
            ]
           ],
           "sequentialminus": [
            [
             0,
             "#0d0887"
            ],
            [
             0.1111111111111111,
             "#46039f"
            ],
            [
             0.2222222222222222,
             "#7201a8"
            ],
            [
             0.3333333333333333,
             "#9c179e"
            ],
            [
             0.4444444444444444,
             "#bd3786"
            ],
            [
             0.5555555555555556,
             "#d8576b"
            ],
            [
             0.6666666666666666,
             "#ed7953"
            ],
            [
             0.7777777777777778,
             "#fb9f3a"
            ],
            [
             0.8888888888888888,
             "#fdca26"
            ],
            [
             1,
             "#f0f921"
            ]
           ]
          },
          "colorway": [
           "#636efa",
           "#EF553B",
           "#00cc96",
           "#ab63fa",
           "#FFA15A",
           "#19d3f3",
           "#FF6692",
           "#B6E880",
           "#FF97FF",
           "#FECB52"
          ],
          "font": {
           "color": "#2a3f5f"
          },
          "geo": {
           "bgcolor": "white",
           "lakecolor": "white",
           "landcolor": "#E5ECF6",
           "showlakes": true,
           "showland": true,
           "subunitcolor": "white"
          },
          "hoverlabel": {
           "align": "left"
          },
          "hovermode": "closest",
          "mapbox": {
           "style": "light"
          },
          "paper_bgcolor": "white",
          "plot_bgcolor": "#E5ECF6",
          "polar": {
           "angularaxis": {
            "gridcolor": "white",
            "linecolor": "white",
            "ticks": ""
           },
           "bgcolor": "#E5ECF6",
           "radialaxis": {
            "gridcolor": "white",
            "linecolor": "white",
            "ticks": ""
           }
          },
          "scene": {
           "xaxis": {
            "backgroundcolor": "#E5ECF6",
            "gridcolor": "white",
            "gridwidth": 2,
            "linecolor": "white",
            "showbackground": true,
            "ticks": "",
            "zerolinecolor": "white"
           },
           "yaxis": {
            "backgroundcolor": "#E5ECF6",
            "gridcolor": "white",
            "gridwidth": 2,
            "linecolor": "white",
            "showbackground": true,
            "ticks": "",
            "zerolinecolor": "white"
           },
           "zaxis": {
            "backgroundcolor": "#E5ECF6",
            "gridcolor": "white",
            "gridwidth": 2,
            "linecolor": "white",
            "showbackground": true,
            "ticks": "",
            "zerolinecolor": "white"
           }
          },
          "shapedefaults": {
           "line": {
            "color": "#2a3f5f"
           }
          },
          "ternary": {
           "aaxis": {
            "gridcolor": "white",
            "linecolor": "white",
            "ticks": ""
           },
           "baxis": {
            "gridcolor": "white",
            "linecolor": "white",
            "ticks": ""
           },
           "bgcolor": "#E5ECF6",
           "caxis": {
            "gridcolor": "white",
            "linecolor": "white",
            "ticks": ""
           }
          },
          "title": {
           "x": 0.05
          },
          "xaxis": {
           "automargin": true,
           "gridcolor": "white",
           "linecolor": "white",
           "ticks": "",
           "title": {
            "standoff": 15
           },
           "zerolinecolor": "white",
           "zerolinewidth": 2
          },
          "yaxis": {
           "automargin": true,
           "gridcolor": "white",
           "linecolor": "white",
           "ticks": "",
           "title": {
            "standoff": 15
           },
           "zerolinecolor": "white",
           "zerolinewidth": 2
          }
         }
        },
        "title": {
         "text": "Near Term Max Summer Temperature"
        },
        "xaxis": {
         "anchor": "y",
         "domain": [
          0,
          1
         ],
         "title": {
          "text": "Year"
         }
        },
        "yaxis": {
         "anchor": "x",
         "domain": [
          0,
          1
         ],
         "title": {
          "text": "Temperature (C)"
         }
        }
       }
      },
      "text/html": [
       "<div>                            <div id=\"f53e0998-4822-4ef2-8e1f-758fbb94abd8\" class=\"plotly-graph-div\" style=\"height:525px; width:100%;\"></div>            <script type=\"text/javascript\">                require([\"plotly\"], function(Plotly) {                    window.PLOTLYENV=window.PLOTLYENV || {};                                    if (document.getElementById(\"f53e0998-4822-4ef2-8e1f-758fbb94abd8\")) {                    Plotly.newPlot(                        \"f53e0998-4822-4ef2-8e1f-758fbb94abd8\",                        [{\"hovertemplate\":\"RCP=4.5\\u003cbr\\u003eYear=%{x}\\u003cbr\\u003eTemperature (C)=%{y}\\u003cextra\\u003e\\u003c\\u002fextra\\u003e\",\"legendgroup\":\"4.5\",\"line\":{\"color\":\"#636efa\",\"dash\":\"solid\"},\"marker\":{\"symbol\":\"circle\"},\"mode\":\"lines\",\"name\":\"4.5\",\"orientation\":\"v\",\"showlegend\":true,\"x\":[2021,2022,2023,2024,2025,2026,2027,2028,2029,2030,2031,2032,2033,2034,2035,2036,2037,2038,2039,2040,2041,2042,2043,2044,2045,2046,2047,2048,2049,2050,2051,2052,2053,2054,2055,2056,2057,2058,2059],\"xaxis\":\"x\",\"y\":[36.50700884955752,37.565960176991155,37.45567699115044,37.42583628318584,37.72672566371681,37.077769911504426,37.52950884955752,37.73634513274336,37.66762389380531,37.30166814159292,37.747057522123896,38.01689823008849,37.993469026548674,37.57703097345133,38.20989380530973,37.71669911504425,38.029973451327436,38.45914601769911,37.545814159292036,38.269039823008846,38.49180530973451,37.94795132743363,38.32480973451328,38.00929203539823,38.30562389380531,38.38623008849558,38.44557079646018,37.611075221238934,38.93274336283186,38.18673008849557,38.339650442477875,38.860796460176985,38.53153539823009,38.62297345132743,38.438429203539826,38.4932831858407,38.45559734513274,39.04772123893805,38.356676991150444],\"yaxis\":\"y\",\"type\":\"scatter\"},{\"hovertemplate\":\"RCP=8.5\\u003cbr\\u003eYear=%{x}\\u003cbr\\u003eTemperature (C)=%{y}\\u003cextra\\u003e\\u003c\\u002fextra\\u003e\",\"legendgroup\":\"8.5\",\"line\":{\"color\":\"#EF553B\",\"dash\":\"solid\"},\"marker\":{\"symbol\":\"circle\"},\"mode\":\"lines\",\"name\":\"8.5\",\"orientation\":\"v\",\"showlegend\":true,\"x\":[2021,2022,2023,2024,2025,2026,2027,2028,2029,2030,2031,2032,2033,2034,2035,2036,2037,2038,2039,2040,2041,2042,2043,2044,2045,2046,2047,2048,2049,2050,2051,2052,2053,2054,2055,2056,2057,2058,2059],\"xaxis\":\"x\",\"y\":[37.09654867256637,37.92375663716814,37.017225663716815,38.18408407079646,37.28299115044248,37.42113274336283,37.34678761061947,37.845269911504424,37.46490707964602,38.5938407079646,37.699473451327435,37.808778761061944,38.09774336283186,38.598442477876105,38.4029424778761,38.287128318584074,38.50475663716814,38.86322566371681,38.54901769911504,38.59119911504425,38.325800884955754,38.95211061946903,38.89536283185841,39.157172566371685,38.79599557522124,39.08455309734513,39.17164601769912,38.81949557522124,39.53773451327434,39.201061946902655,39.0596017699115,38.87672123893805,39.71633185840708,39.913960176991154,39.88125663716814,39.794716814159294,39.33528318584071,39.7672389380531,40.21120796460177],\"yaxis\":\"y\",\"type\":\"scatter\"},{\"hovertemplate\":\"RCP=historical\\u003cbr\\u003eYear=%{x}\\u003cbr\\u003eTemperature (C)=%{y}\\u003cextra\\u003e\\u003c\\u002fextra\\u003e\",\"legendgroup\":\"historical\",\"line\":{\"color\":\"#00cc96\",\"dash\":\"solid\"},\"marker\":{\"symbol\":\"circle\"},\"mode\":\"lines\",\"name\":\"historical\",\"orientation\":\"v\",\"showlegend\":false,\"x\":[2021,2022,2023,2024,2025,2026,2027,2028,2029,2030,2031,2032,2033,2034,2035,2036,2037,2038,2039,2040,2041,2042,2043,2044,2045,2046,2047,2048,2049,2050,2051,2052,2053,2054,2055,2056,2057,2058,2059],\"xaxis\":\"x\",\"y\":[null,null,null,null,null,null,null,null,null,null,null,null,null,null,null,null,null,null,null,null,null,null,null,null,null,null,null,null,null,null,null,null,null,null,null,null,null,null,null],\"yaxis\":\"y\",\"type\":\"scatter\"}],                        {\"template\":{\"data\":{\"histogram2dcontour\":[{\"type\":\"histogram2dcontour\",\"colorbar\":{\"outlinewidth\":0,\"ticks\":\"\"},\"colorscale\":[[0.0,\"#0d0887\"],[0.1111111111111111,\"#46039f\"],[0.2222222222222222,\"#7201a8\"],[0.3333333333333333,\"#9c179e\"],[0.4444444444444444,\"#bd3786\"],[0.5555555555555556,\"#d8576b\"],[0.6666666666666666,\"#ed7953\"],[0.7777777777777778,\"#fb9f3a\"],[0.8888888888888888,\"#fdca26\"],[1.0,\"#f0f921\"]]}],\"choropleth\":[{\"type\":\"choropleth\",\"colorbar\":{\"outlinewidth\":0,\"ticks\":\"\"}}],\"histogram2d\":[{\"type\":\"histogram2d\",\"colorbar\":{\"outlinewidth\":0,\"ticks\":\"\"},\"colorscale\":[[0.0,\"#0d0887\"],[0.1111111111111111,\"#46039f\"],[0.2222222222222222,\"#7201a8\"],[0.3333333333333333,\"#9c179e\"],[0.4444444444444444,\"#bd3786\"],[0.5555555555555556,\"#d8576b\"],[0.6666666666666666,\"#ed7953\"],[0.7777777777777778,\"#fb9f3a\"],[0.8888888888888888,\"#fdca26\"],[1.0,\"#f0f921\"]]}],\"heatmap\":[{\"type\":\"heatmap\",\"colorbar\":{\"outlinewidth\":0,\"ticks\":\"\"},\"colorscale\":[[0.0,\"#0d0887\"],[0.1111111111111111,\"#46039f\"],[0.2222222222222222,\"#7201a8\"],[0.3333333333333333,\"#9c179e\"],[0.4444444444444444,\"#bd3786\"],[0.5555555555555556,\"#d8576b\"],[0.6666666666666666,\"#ed7953\"],[0.7777777777777778,\"#fb9f3a\"],[0.8888888888888888,\"#fdca26\"],[1.0,\"#f0f921\"]]}],\"heatmapgl\":[{\"type\":\"heatmapgl\",\"colorbar\":{\"outlinewidth\":0,\"ticks\":\"\"},\"colorscale\":[[0.0,\"#0d0887\"],[0.1111111111111111,\"#46039f\"],[0.2222222222222222,\"#7201a8\"],[0.3333333333333333,\"#9c179e\"],[0.4444444444444444,\"#bd3786\"],[0.5555555555555556,\"#d8576b\"],[0.6666666666666666,\"#ed7953\"],[0.7777777777777778,\"#fb9f3a\"],[0.8888888888888888,\"#fdca26\"],[1.0,\"#f0f921\"]]}],\"contourcarpet\":[{\"type\":\"contourcarpet\",\"colorbar\":{\"outlinewidth\":0,\"ticks\":\"\"}}],\"contour\":[{\"type\":\"contour\",\"colorbar\":{\"outlinewidth\":0,\"ticks\":\"\"},\"colorscale\":[[0.0,\"#0d0887\"],[0.1111111111111111,\"#46039f\"],[0.2222222222222222,\"#7201a8\"],[0.3333333333333333,\"#9c179e\"],[0.4444444444444444,\"#bd3786\"],[0.5555555555555556,\"#d8576b\"],[0.6666666666666666,\"#ed7953\"],[0.7777777777777778,\"#fb9f3a\"],[0.8888888888888888,\"#fdca26\"],[1.0,\"#f0f921\"]]}],\"surface\":[{\"type\":\"surface\",\"colorbar\":{\"outlinewidth\":0,\"ticks\":\"\"},\"colorscale\":[[0.0,\"#0d0887\"],[0.1111111111111111,\"#46039f\"],[0.2222222222222222,\"#7201a8\"],[0.3333333333333333,\"#9c179e\"],[0.4444444444444444,\"#bd3786\"],[0.5555555555555556,\"#d8576b\"],[0.6666666666666666,\"#ed7953\"],[0.7777777777777778,\"#fb9f3a\"],[0.8888888888888888,\"#fdca26\"],[1.0,\"#f0f921\"]]}],\"mesh3d\":[{\"type\":\"mesh3d\",\"colorbar\":{\"outlinewidth\":0,\"ticks\":\"\"}}],\"scatter\":[{\"fillpattern\":{\"fillmode\":\"overlay\",\"size\":10,\"solidity\":0.2},\"type\":\"scatter\"}],\"parcoords\":[{\"type\":\"parcoords\",\"line\":{\"colorbar\":{\"outlinewidth\":0,\"ticks\":\"\"}}}],\"scatterpolargl\":[{\"type\":\"scatterpolargl\",\"marker\":{\"colorbar\":{\"outlinewidth\":0,\"ticks\":\"\"}}}],\"bar\":[{\"error_x\":{\"color\":\"#2a3f5f\"},\"error_y\":{\"color\":\"#2a3f5f\"},\"marker\":{\"line\":{\"color\":\"#E5ECF6\",\"width\":0.5},\"pattern\":{\"fillmode\":\"overlay\",\"size\":10,\"solidity\":0.2}},\"type\":\"bar\"}],\"scattergeo\":[{\"type\":\"scattergeo\",\"marker\":{\"colorbar\":{\"outlinewidth\":0,\"ticks\":\"\"}}}],\"scatterpolar\":[{\"type\":\"scatterpolar\",\"marker\":{\"colorbar\":{\"outlinewidth\":0,\"ticks\":\"\"}}}],\"histogram\":[{\"marker\":{\"pattern\":{\"fillmode\":\"overlay\",\"size\":10,\"solidity\":0.2}},\"type\":\"histogram\"}],\"scattergl\":[{\"type\":\"scattergl\",\"marker\":{\"colorbar\":{\"outlinewidth\":0,\"ticks\":\"\"}}}],\"scatter3d\":[{\"type\":\"scatter3d\",\"line\":{\"colorbar\":{\"outlinewidth\":0,\"ticks\":\"\"}},\"marker\":{\"colorbar\":{\"outlinewidth\":0,\"ticks\":\"\"}}}],\"scattermapbox\":[{\"type\":\"scattermapbox\",\"marker\":{\"colorbar\":{\"outlinewidth\":0,\"ticks\":\"\"}}}],\"scatterternary\":[{\"type\":\"scatterternary\",\"marker\":{\"colorbar\":{\"outlinewidth\":0,\"ticks\":\"\"}}}],\"scattercarpet\":[{\"type\":\"scattercarpet\",\"marker\":{\"colorbar\":{\"outlinewidth\":0,\"ticks\":\"\"}}}],\"carpet\":[{\"aaxis\":{\"endlinecolor\":\"#2a3f5f\",\"gridcolor\":\"white\",\"linecolor\":\"white\",\"minorgridcolor\":\"white\",\"startlinecolor\":\"#2a3f5f\"},\"baxis\":{\"endlinecolor\":\"#2a3f5f\",\"gridcolor\":\"white\",\"linecolor\":\"white\",\"minorgridcolor\":\"white\",\"startlinecolor\":\"#2a3f5f\"},\"type\":\"carpet\"}],\"table\":[{\"cells\":{\"fill\":{\"color\":\"#EBF0F8\"},\"line\":{\"color\":\"white\"}},\"header\":{\"fill\":{\"color\":\"#C8D4E3\"},\"line\":{\"color\":\"white\"}},\"type\":\"table\"}],\"barpolar\":[{\"marker\":{\"line\":{\"color\":\"#E5ECF6\",\"width\":0.5},\"pattern\":{\"fillmode\":\"overlay\",\"size\":10,\"solidity\":0.2}},\"type\":\"barpolar\"}],\"pie\":[{\"automargin\":true,\"type\":\"pie\"}]},\"layout\":{\"autotypenumbers\":\"strict\",\"colorway\":[\"#636efa\",\"#EF553B\",\"#00cc96\",\"#ab63fa\",\"#FFA15A\",\"#19d3f3\",\"#FF6692\",\"#B6E880\",\"#FF97FF\",\"#FECB52\"],\"font\":{\"color\":\"#2a3f5f\"},\"hovermode\":\"closest\",\"hoverlabel\":{\"align\":\"left\"},\"paper_bgcolor\":\"white\",\"plot_bgcolor\":\"#E5ECF6\",\"polar\":{\"bgcolor\":\"#E5ECF6\",\"angularaxis\":{\"gridcolor\":\"white\",\"linecolor\":\"white\",\"ticks\":\"\"},\"radialaxis\":{\"gridcolor\":\"white\",\"linecolor\":\"white\",\"ticks\":\"\"}},\"ternary\":{\"bgcolor\":\"#E5ECF6\",\"aaxis\":{\"gridcolor\":\"white\",\"linecolor\":\"white\",\"ticks\":\"\"},\"baxis\":{\"gridcolor\":\"white\",\"linecolor\":\"white\",\"ticks\":\"\"},\"caxis\":{\"gridcolor\":\"white\",\"linecolor\":\"white\",\"ticks\":\"\"}},\"coloraxis\":{\"colorbar\":{\"outlinewidth\":0,\"ticks\":\"\"}},\"colorscale\":{\"sequential\":[[0.0,\"#0d0887\"],[0.1111111111111111,\"#46039f\"],[0.2222222222222222,\"#7201a8\"],[0.3333333333333333,\"#9c179e\"],[0.4444444444444444,\"#bd3786\"],[0.5555555555555556,\"#d8576b\"],[0.6666666666666666,\"#ed7953\"],[0.7777777777777778,\"#fb9f3a\"],[0.8888888888888888,\"#fdca26\"],[1.0,\"#f0f921\"]],\"sequentialminus\":[[0.0,\"#0d0887\"],[0.1111111111111111,\"#46039f\"],[0.2222222222222222,\"#7201a8\"],[0.3333333333333333,\"#9c179e\"],[0.4444444444444444,\"#bd3786\"],[0.5555555555555556,\"#d8576b\"],[0.6666666666666666,\"#ed7953\"],[0.7777777777777778,\"#fb9f3a\"],[0.8888888888888888,\"#fdca26\"],[1.0,\"#f0f921\"]],\"diverging\":[[0,\"#8e0152\"],[0.1,\"#c51b7d\"],[0.2,\"#de77ae\"],[0.3,\"#f1b6da\"],[0.4,\"#fde0ef\"],[0.5,\"#f7f7f7\"],[0.6,\"#e6f5d0\"],[0.7,\"#b8e186\"],[0.8,\"#7fbc41\"],[0.9,\"#4d9221\"],[1,\"#276419\"]]},\"xaxis\":{\"gridcolor\":\"white\",\"linecolor\":\"white\",\"ticks\":\"\",\"title\":{\"standoff\":15},\"zerolinecolor\":\"white\",\"automargin\":true,\"zerolinewidth\":2},\"yaxis\":{\"gridcolor\":\"white\",\"linecolor\":\"white\",\"ticks\":\"\",\"title\":{\"standoff\":15},\"zerolinecolor\":\"white\",\"automargin\":true,\"zerolinewidth\":2},\"scene\":{\"xaxis\":{\"backgroundcolor\":\"#E5ECF6\",\"gridcolor\":\"white\",\"linecolor\":\"white\",\"showbackground\":true,\"ticks\":\"\",\"zerolinecolor\":\"white\",\"gridwidth\":2},\"yaxis\":{\"backgroundcolor\":\"#E5ECF6\",\"gridcolor\":\"white\",\"linecolor\":\"white\",\"showbackground\":true,\"ticks\":\"\",\"zerolinecolor\":\"white\",\"gridwidth\":2},\"zaxis\":{\"backgroundcolor\":\"#E5ECF6\",\"gridcolor\":\"white\",\"linecolor\":\"white\",\"showbackground\":true,\"ticks\":\"\",\"zerolinecolor\":\"white\",\"gridwidth\":2}},\"shapedefaults\":{\"line\":{\"color\":\"#2a3f5f\"}},\"annotationdefaults\":{\"arrowcolor\":\"#2a3f5f\",\"arrowhead\":0,\"arrowwidth\":1},\"geo\":{\"bgcolor\":\"white\",\"landcolor\":\"#E5ECF6\",\"subunitcolor\":\"white\",\"showland\":true,\"showlakes\":true,\"lakecolor\":\"white\"},\"title\":{\"x\":0.05},\"mapbox\":{\"style\":\"light\"}}},\"xaxis\":{\"anchor\":\"y\",\"domain\":[0.0,1.0],\"title\":{\"text\":\"Year\"}},\"yaxis\":{\"anchor\":\"x\",\"domain\":[0.0,1.0],\"title\":{\"text\":\"Temperature (C)\"}},\"legend\":{\"title\":{\"text\":\"RCP\"},\"tracegroupgap\":0},\"title\":{\"text\":\"Near Term Max Summer Temperature\"}},                        {\"responsive\": true}                    ).then(function(){\n",
       "                            \n",
       "var gd = document.getElementById('f53e0998-4822-4ef2-8e1f-758fbb94abd8');\n",
       "var x = new MutationObserver(function (mutations, observer) {{\n",
       "        var display = window.getComputedStyle(gd).display;\n",
       "        if (!display || display === 'none') {{\n",
       "            console.log([gd, 'removed!']);\n",
       "            Plotly.purge(gd);\n",
       "            observer.disconnect();\n",
       "        }}\n",
       "}});\n",
       "\n",
       "// Listen for the removal of the full notebook cells\n",
       "var notebookContainer = gd.closest('#notebook-container');\n",
       "if (notebookContainer) {{\n",
       "    x.observe(notebookContainer, {childList: true});\n",
       "}}\n",
       "\n",
       "// Listen for the clearing of the current output cell\n",
       "var outputEl = gd.closest('.output');\n",
       "if (outputEl) {{\n",
       "    x.observe(outputEl, {childList: true});\n",
       "}}\n",
       "\n",
       "                        })                };                });            </script>        </div>"
      ]
     },
     "metadata": {},
     "output_type": "display_data"
    }
   ],
   "source": [
    "#plot Annual Precipitation\n",
    "# set temp df for plot\n",
    "plot_df = df[df['TimePeriod'] == 'NT']\n",
    "# find mean temp of all collection site per year\n",
    "plot_df = plot_df.groupby(['year', 'RCP'])['Tmax_Summer'].mean().reset_index()\n",
    "#plotly plot\n",
    "fig = px.line(plot_df,\n",
    "              x='year',\n",
    "              y='Tmax_Summer',\n",
    "              color= 'RCP',\n",
    "              title='Near Term Max Summer Temperature',\n",
    "              labels={\n",
    "                     \"year\": \"Year\",\n",
    "                     \"Tmax_Summer\": \"Temperature (C)\"\n",
    "                 }\n",
    "              )\n",
    "#remove hist from legend\n",
    "for trace in fig.data:\n",
    "    if trace.name == 'historical':\n",
    "        trace.showlegend = False\n",
    "#print fig\n",
    "fig.show()"
   ]
  },
  {
   "cell_type": "code",
   "execution_count": 64,
   "metadata": {},
   "outputs": [
    {
     "data": {
      "application/vnd.plotly.v1+json": {
       "config": {
        "plotlyServerURL": "https://plot.ly"
       },
       "data": [
        {
         "hovertemplate": "RCP=4.5<br>Year=%{x}<br>Temperature (C)=%{y}<extra></extra>",
         "legendgroup": "4.5",
         "line": {
          "color": "#636efa",
          "dash": "solid"
         },
         "marker": {
          "symbol": "circle"
         },
         "mode": "lines",
         "name": "4.5",
         "orientation": "v",
         "showlegend": true,
         "type": "scatter",
         "x": [
          2060,
          2061,
          2062,
          2063,
          2064,
          2065,
          2066,
          2067,
          2068,
          2069,
          2070,
          2071,
          2072,
          2073,
          2074,
          2075,
          2076,
          2077,
          2078,
          2079,
          2080,
          2081,
          2082,
          2083,
          2084,
          2085,
          2086,
          2087,
          2088,
          2089,
          2090,
          2091,
          2092,
          2093,
          2094,
          2095,
          2096,
          2097,
          2098,
          2099
         ],
         "xaxis": "x",
         "y": [
          38.11720353982301,
          38.61709292035398,
          38.44808407079646,
          38.87429203539823,
          38.11030973451327,
          38.87830088495575,
          39.07740707964602,
          38.60052654867257,
          39.07659292035399,
          39.29599115044248,
          38.75239380530974,
          39.11170796460177,
          39.130522123893805,
          38.70647345132743,
          38.8114203539823,
          39.152061946902656,
          38.76189380530974,
          39.067654867256635,
          39.05698672566371,
          38.33658849557522,
          38.64830088495575,
          39.441309734513275,
          39.05756194690265,
          38.95663274336283,
          38.618747787610616,
          38.48963274336283,
          38.6375575221239,
          39.2451814159292,
          38.90538053097345,
          38.639553097345136,
          39.195092920353986,
          39.06111061946903,
          39.42147345132744,
          39.75815044247788,
          39.68913274336283,
          38.682539823008845,
          39.26679646017699,
          39.18117256637168,
          38.838809734513276,
          38.96427876106195
         ],
         "yaxis": "y"
        },
        {
         "hovertemplate": "RCP=8.5<br>Year=%{x}<br>Temperature (C)=%{y}<extra></extra>",
         "legendgroup": "8.5",
         "line": {
          "color": "#EF553B",
          "dash": "solid"
         },
         "marker": {
          "symbol": "circle"
         },
         "mode": "lines",
         "name": "8.5",
         "orientation": "v",
         "showlegend": true,
         "type": "scatter",
         "x": [
          2060,
          2061,
          2062,
          2063,
          2064,
          2065,
          2066,
          2067,
          2068,
          2069,
          2070,
          2071,
          2072,
          2073,
          2074,
          2075,
          2076,
          2077,
          2078,
          2079,
          2080,
          2081,
          2082,
          2083,
          2084,
          2085,
          2086,
          2087,
          2088,
          2089,
          2090,
          2091,
          2092,
          2093,
          2094,
          2095,
          2096,
          2097,
          2098,
          2099
         ],
         "xaxis": "x",
         "y": [
          40.55751327433628,
          39.71769911504425,
          40.90203982300885,
          40.63465486725664,
          40.556738938053094,
          40.57946902654867,
          40.316066371681416,
          40.98350884955752,
          40.79191592920354,
          40.57641150442478,
          41.11766814159292,
          41.19385398230089,
          41.25676548672566,
          41.24804867256637,
          41.69575221238938,
          41.809070796460176,
          40.96595132743363,
          41.65969911504425,
          42.16194690265487,
          41.72034513274336,
          41.66996460176991,
          41.92368584070796,
          42.11911946902655,
          41.91596017699115,
          42.56106637168141,
          42.041345132743366,
          42.31545132743363,
          42.32153982300885,
          41.8761371681416,
          42.65866371681416,
          42.545831858407084,
          42.93603982300885,
          42.93850884955752,
          42.9626592920354,
          42.946176991150445,
          42.489039823008845,
          43.09195132743363,
          42.881637168141594,
          43.15849115044248,
          43.396991150442474
         ],
         "yaxis": "y"
        },
        {
         "hovertemplate": "RCP=historical<br>Year=%{x}<br>Temperature (C)=%{y}<extra></extra>",
         "legendgroup": "historical",
         "line": {
          "color": "#00cc96",
          "dash": "solid"
         },
         "marker": {
          "symbol": "circle"
         },
         "mode": "lines",
         "name": "historical",
         "orientation": "v",
         "showlegend": false,
         "type": "scatter",
         "x": [
          2060,
          2061,
          2062,
          2063,
          2064,
          2065,
          2066,
          2067,
          2068,
          2069,
          2070,
          2071,
          2072,
          2073,
          2074,
          2075,
          2076,
          2077,
          2078,
          2079,
          2080,
          2081,
          2082,
          2083,
          2084,
          2085,
          2086,
          2087,
          2088,
          2089,
          2090,
          2091,
          2092,
          2093,
          2094,
          2095,
          2096,
          2097,
          2098,
          2099
         ],
         "xaxis": "x",
         "y": [
          null,
          null,
          null,
          null,
          null,
          null,
          null,
          null,
          null,
          null,
          null,
          null,
          null,
          null,
          null,
          null,
          null,
          null,
          null,
          null,
          null,
          null,
          null,
          null,
          null,
          null,
          null,
          null,
          null,
          null,
          null,
          null,
          null,
          null,
          null,
          null,
          null,
          null,
          null,
          null
         ],
         "yaxis": "y"
        }
       ],
       "layout": {
        "legend": {
         "title": {
          "text": "RCP"
         },
         "tracegroupgap": 0
        },
        "template": {
         "data": {
          "bar": [
           {
            "error_x": {
             "color": "#2a3f5f"
            },
            "error_y": {
             "color": "#2a3f5f"
            },
            "marker": {
             "line": {
              "color": "#E5ECF6",
              "width": 0.5
             },
             "pattern": {
              "fillmode": "overlay",
              "size": 10,
              "solidity": 0.2
             }
            },
            "type": "bar"
           }
          ],
          "barpolar": [
           {
            "marker": {
             "line": {
              "color": "#E5ECF6",
              "width": 0.5
             },
             "pattern": {
              "fillmode": "overlay",
              "size": 10,
              "solidity": 0.2
             }
            },
            "type": "barpolar"
           }
          ],
          "carpet": [
           {
            "aaxis": {
             "endlinecolor": "#2a3f5f",
             "gridcolor": "white",
             "linecolor": "white",
             "minorgridcolor": "white",
             "startlinecolor": "#2a3f5f"
            },
            "baxis": {
             "endlinecolor": "#2a3f5f",
             "gridcolor": "white",
             "linecolor": "white",
             "minorgridcolor": "white",
             "startlinecolor": "#2a3f5f"
            },
            "type": "carpet"
           }
          ],
          "choropleth": [
           {
            "colorbar": {
             "outlinewidth": 0,
             "ticks": ""
            },
            "type": "choropleth"
           }
          ],
          "contour": [
           {
            "colorbar": {
             "outlinewidth": 0,
             "ticks": ""
            },
            "colorscale": [
             [
              0,
              "#0d0887"
             ],
             [
              0.1111111111111111,
              "#46039f"
             ],
             [
              0.2222222222222222,
              "#7201a8"
             ],
             [
              0.3333333333333333,
              "#9c179e"
             ],
             [
              0.4444444444444444,
              "#bd3786"
             ],
             [
              0.5555555555555556,
              "#d8576b"
             ],
             [
              0.6666666666666666,
              "#ed7953"
             ],
             [
              0.7777777777777778,
              "#fb9f3a"
             ],
             [
              0.8888888888888888,
              "#fdca26"
             ],
             [
              1,
              "#f0f921"
             ]
            ],
            "type": "contour"
           }
          ],
          "contourcarpet": [
           {
            "colorbar": {
             "outlinewidth": 0,
             "ticks": ""
            },
            "type": "contourcarpet"
           }
          ],
          "heatmap": [
           {
            "colorbar": {
             "outlinewidth": 0,
             "ticks": ""
            },
            "colorscale": [
             [
              0,
              "#0d0887"
             ],
             [
              0.1111111111111111,
              "#46039f"
             ],
             [
              0.2222222222222222,
              "#7201a8"
             ],
             [
              0.3333333333333333,
              "#9c179e"
             ],
             [
              0.4444444444444444,
              "#bd3786"
             ],
             [
              0.5555555555555556,
              "#d8576b"
             ],
             [
              0.6666666666666666,
              "#ed7953"
             ],
             [
              0.7777777777777778,
              "#fb9f3a"
             ],
             [
              0.8888888888888888,
              "#fdca26"
             ],
             [
              1,
              "#f0f921"
             ]
            ],
            "type": "heatmap"
           }
          ],
          "heatmapgl": [
           {
            "colorbar": {
             "outlinewidth": 0,
             "ticks": ""
            },
            "colorscale": [
             [
              0,
              "#0d0887"
             ],
             [
              0.1111111111111111,
              "#46039f"
             ],
             [
              0.2222222222222222,
              "#7201a8"
             ],
             [
              0.3333333333333333,
              "#9c179e"
             ],
             [
              0.4444444444444444,
              "#bd3786"
             ],
             [
              0.5555555555555556,
              "#d8576b"
             ],
             [
              0.6666666666666666,
              "#ed7953"
             ],
             [
              0.7777777777777778,
              "#fb9f3a"
             ],
             [
              0.8888888888888888,
              "#fdca26"
             ],
             [
              1,
              "#f0f921"
             ]
            ],
            "type": "heatmapgl"
           }
          ],
          "histogram": [
           {
            "marker": {
             "pattern": {
              "fillmode": "overlay",
              "size": 10,
              "solidity": 0.2
             }
            },
            "type": "histogram"
           }
          ],
          "histogram2d": [
           {
            "colorbar": {
             "outlinewidth": 0,
             "ticks": ""
            },
            "colorscale": [
             [
              0,
              "#0d0887"
             ],
             [
              0.1111111111111111,
              "#46039f"
             ],
             [
              0.2222222222222222,
              "#7201a8"
             ],
             [
              0.3333333333333333,
              "#9c179e"
             ],
             [
              0.4444444444444444,
              "#bd3786"
             ],
             [
              0.5555555555555556,
              "#d8576b"
             ],
             [
              0.6666666666666666,
              "#ed7953"
             ],
             [
              0.7777777777777778,
              "#fb9f3a"
             ],
             [
              0.8888888888888888,
              "#fdca26"
             ],
             [
              1,
              "#f0f921"
             ]
            ],
            "type": "histogram2d"
           }
          ],
          "histogram2dcontour": [
           {
            "colorbar": {
             "outlinewidth": 0,
             "ticks": ""
            },
            "colorscale": [
             [
              0,
              "#0d0887"
             ],
             [
              0.1111111111111111,
              "#46039f"
             ],
             [
              0.2222222222222222,
              "#7201a8"
             ],
             [
              0.3333333333333333,
              "#9c179e"
             ],
             [
              0.4444444444444444,
              "#bd3786"
             ],
             [
              0.5555555555555556,
              "#d8576b"
             ],
             [
              0.6666666666666666,
              "#ed7953"
             ],
             [
              0.7777777777777778,
              "#fb9f3a"
             ],
             [
              0.8888888888888888,
              "#fdca26"
             ],
             [
              1,
              "#f0f921"
             ]
            ],
            "type": "histogram2dcontour"
           }
          ],
          "mesh3d": [
           {
            "colorbar": {
             "outlinewidth": 0,
             "ticks": ""
            },
            "type": "mesh3d"
           }
          ],
          "parcoords": [
           {
            "line": {
             "colorbar": {
              "outlinewidth": 0,
              "ticks": ""
             }
            },
            "type": "parcoords"
           }
          ],
          "pie": [
           {
            "automargin": true,
            "type": "pie"
           }
          ],
          "scatter": [
           {
            "fillpattern": {
             "fillmode": "overlay",
             "size": 10,
             "solidity": 0.2
            },
            "type": "scatter"
           }
          ],
          "scatter3d": [
           {
            "line": {
             "colorbar": {
              "outlinewidth": 0,
              "ticks": ""
             }
            },
            "marker": {
             "colorbar": {
              "outlinewidth": 0,
              "ticks": ""
             }
            },
            "type": "scatter3d"
           }
          ],
          "scattercarpet": [
           {
            "marker": {
             "colorbar": {
              "outlinewidth": 0,
              "ticks": ""
             }
            },
            "type": "scattercarpet"
           }
          ],
          "scattergeo": [
           {
            "marker": {
             "colorbar": {
              "outlinewidth": 0,
              "ticks": ""
             }
            },
            "type": "scattergeo"
           }
          ],
          "scattergl": [
           {
            "marker": {
             "colorbar": {
              "outlinewidth": 0,
              "ticks": ""
             }
            },
            "type": "scattergl"
           }
          ],
          "scattermapbox": [
           {
            "marker": {
             "colorbar": {
              "outlinewidth": 0,
              "ticks": ""
             }
            },
            "type": "scattermapbox"
           }
          ],
          "scatterpolar": [
           {
            "marker": {
             "colorbar": {
              "outlinewidth": 0,
              "ticks": ""
             }
            },
            "type": "scatterpolar"
           }
          ],
          "scatterpolargl": [
           {
            "marker": {
             "colorbar": {
              "outlinewidth": 0,
              "ticks": ""
             }
            },
            "type": "scatterpolargl"
           }
          ],
          "scatterternary": [
           {
            "marker": {
             "colorbar": {
              "outlinewidth": 0,
              "ticks": ""
             }
            },
            "type": "scatterternary"
           }
          ],
          "surface": [
           {
            "colorbar": {
             "outlinewidth": 0,
             "ticks": ""
            },
            "colorscale": [
             [
              0,
              "#0d0887"
             ],
             [
              0.1111111111111111,
              "#46039f"
             ],
             [
              0.2222222222222222,
              "#7201a8"
             ],
             [
              0.3333333333333333,
              "#9c179e"
             ],
             [
              0.4444444444444444,
              "#bd3786"
             ],
             [
              0.5555555555555556,
              "#d8576b"
             ],
             [
              0.6666666666666666,
              "#ed7953"
             ],
             [
              0.7777777777777778,
              "#fb9f3a"
             ],
             [
              0.8888888888888888,
              "#fdca26"
             ],
             [
              1,
              "#f0f921"
             ]
            ],
            "type": "surface"
           }
          ],
          "table": [
           {
            "cells": {
             "fill": {
              "color": "#EBF0F8"
             },
             "line": {
              "color": "white"
             }
            },
            "header": {
             "fill": {
              "color": "#C8D4E3"
             },
             "line": {
              "color": "white"
             }
            },
            "type": "table"
           }
          ]
         },
         "layout": {
          "annotationdefaults": {
           "arrowcolor": "#2a3f5f",
           "arrowhead": 0,
           "arrowwidth": 1
          },
          "autotypenumbers": "strict",
          "coloraxis": {
           "colorbar": {
            "outlinewidth": 0,
            "ticks": ""
           }
          },
          "colorscale": {
           "diverging": [
            [
             0,
             "#8e0152"
            ],
            [
             0.1,
             "#c51b7d"
            ],
            [
             0.2,
             "#de77ae"
            ],
            [
             0.3,
             "#f1b6da"
            ],
            [
             0.4,
             "#fde0ef"
            ],
            [
             0.5,
             "#f7f7f7"
            ],
            [
             0.6,
             "#e6f5d0"
            ],
            [
             0.7,
             "#b8e186"
            ],
            [
             0.8,
             "#7fbc41"
            ],
            [
             0.9,
             "#4d9221"
            ],
            [
             1,
             "#276419"
            ]
           ],
           "sequential": [
            [
             0,
             "#0d0887"
            ],
            [
             0.1111111111111111,
             "#46039f"
            ],
            [
             0.2222222222222222,
             "#7201a8"
            ],
            [
             0.3333333333333333,
             "#9c179e"
            ],
            [
             0.4444444444444444,
             "#bd3786"
            ],
            [
             0.5555555555555556,
             "#d8576b"
            ],
            [
             0.6666666666666666,
             "#ed7953"
            ],
            [
             0.7777777777777778,
             "#fb9f3a"
            ],
            [
             0.8888888888888888,
             "#fdca26"
            ],
            [
             1,
             "#f0f921"
            ]
           ],
           "sequentialminus": [
            [
             0,
             "#0d0887"
            ],
            [
             0.1111111111111111,
             "#46039f"
            ],
            [
             0.2222222222222222,
             "#7201a8"
            ],
            [
             0.3333333333333333,
             "#9c179e"
            ],
            [
             0.4444444444444444,
             "#bd3786"
            ],
            [
             0.5555555555555556,
             "#d8576b"
            ],
            [
             0.6666666666666666,
             "#ed7953"
            ],
            [
             0.7777777777777778,
             "#fb9f3a"
            ],
            [
             0.8888888888888888,
             "#fdca26"
            ],
            [
             1,
             "#f0f921"
            ]
           ]
          },
          "colorway": [
           "#636efa",
           "#EF553B",
           "#00cc96",
           "#ab63fa",
           "#FFA15A",
           "#19d3f3",
           "#FF6692",
           "#B6E880",
           "#FF97FF",
           "#FECB52"
          ],
          "font": {
           "color": "#2a3f5f"
          },
          "geo": {
           "bgcolor": "white",
           "lakecolor": "white",
           "landcolor": "#E5ECF6",
           "showlakes": true,
           "showland": true,
           "subunitcolor": "white"
          },
          "hoverlabel": {
           "align": "left"
          },
          "hovermode": "closest",
          "mapbox": {
           "style": "light"
          },
          "paper_bgcolor": "white",
          "plot_bgcolor": "#E5ECF6",
          "polar": {
           "angularaxis": {
            "gridcolor": "white",
            "linecolor": "white",
            "ticks": ""
           },
           "bgcolor": "#E5ECF6",
           "radialaxis": {
            "gridcolor": "white",
            "linecolor": "white",
            "ticks": ""
           }
          },
          "scene": {
           "xaxis": {
            "backgroundcolor": "#E5ECF6",
            "gridcolor": "white",
            "gridwidth": 2,
            "linecolor": "white",
            "showbackground": true,
            "ticks": "",
            "zerolinecolor": "white"
           },
           "yaxis": {
            "backgroundcolor": "#E5ECF6",
            "gridcolor": "white",
            "gridwidth": 2,
            "linecolor": "white",
            "showbackground": true,
            "ticks": "",
            "zerolinecolor": "white"
           },
           "zaxis": {
            "backgroundcolor": "#E5ECF6",
            "gridcolor": "white",
            "gridwidth": 2,
            "linecolor": "white",
            "showbackground": true,
            "ticks": "",
            "zerolinecolor": "white"
           }
          },
          "shapedefaults": {
           "line": {
            "color": "#2a3f5f"
           }
          },
          "ternary": {
           "aaxis": {
            "gridcolor": "white",
            "linecolor": "white",
            "ticks": ""
           },
           "baxis": {
            "gridcolor": "white",
            "linecolor": "white",
            "ticks": ""
           },
           "bgcolor": "#E5ECF6",
           "caxis": {
            "gridcolor": "white",
            "linecolor": "white",
            "ticks": ""
           }
          },
          "title": {
           "x": 0.05
          },
          "xaxis": {
           "automargin": true,
           "gridcolor": "white",
           "linecolor": "white",
           "ticks": "",
           "title": {
            "standoff": 15
           },
           "zerolinecolor": "white",
           "zerolinewidth": 2
          },
          "yaxis": {
           "automargin": true,
           "gridcolor": "white",
           "linecolor": "white",
           "ticks": "",
           "title": {
            "standoff": 15
           },
           "zerolinecolor": "white",
           "zerolinewidth": 2
          }
         }
        },
        "title": {
         "text": "Long TermMax Summer Temperature"
        },
        "xaxis": {
         "anchor": "y",
         "domain": [
          0,
          1
         ],
         "title": {
          "text": "Year"
         }
        },
        "yaxis": {
         "anchor": "x",
         "domain": [
          0,
          1
         ],
         "title": {
          "text": "Temperature (C)"
         }
        }
       }
      },
      "text/html": [
       "<div>                            <div id=\"4ccaf6a6-d69c-4e6c-b28d-4595f060b973\" class=\"plotly-graph-div\" style=\"height:525px; width:100%;\"></div>            <script type=\"text/javascript\">                require([\"plotly\"], function(Plotly) {                    window.PLOTLYENV=window.PLOTLYENV || {};                                    if (document.getElementById(\"4ccaf6a6-d69c-4e6c-b28d-4595f060b973\")) {                    Plotly.newPlot(                        \"4ccaf6a6-d69c-4e6c-b28d-4595f060b973\",                        [{\"hovertemplate\":\"RCP=4.5\\u003cbr\\u003eYear=%{x}\\u003cbr\\u003eTemperature (C)=%{y}\\u003cextra\\u003e\\u003c\\u002fextra\\u003e\",\"legendgroup\":\"4.5\",\"line\":{\"color\":\"#636efa\",\"dash\":\"solid\"},\"marker\":{\"symbol\":\"circle\"},\"mode\":\"lines\",\"name\":\"4.5\",\"orientation\":\"v\",\"showlegend\":true,\"x\":[2060,2061,2062,2063,2064,2065,2066,2067,2068,2069,2070,2071,2072,2073,2074,2075,2076,2077,2078,2079,2080,2081,2082,2083,2084,2085,2086,2087,2088,2089,2090,2091,2092,2093,2094,2095,2096,2097,2098,2099],\"xaxis\":\"x\",\"y\":[38.11720353982301,38.61709292035398,38.44808407079646,38.87429203539823,38.11030973451327,38.87830088495575,39.07740707964602,38.60052654867257,39.07659292035399,39.29599115044248,38.75239380530974,39.11170796460177,39.130522123893805,38.70647345132743,38.8114203539823,39.152061946902656,38.76189380530974,39.067654867256635,39.05698672566371,38.33658849557522,38.64830088495575,39.441309734513275,39.05756194690265,38.95663274336283,38.618747787610616,38.48963274336283,38.6375575221239,39.2451814159292,38.90538053097345,38.639553097345136,39.195092920353986,39.06111061946903,39.42147345132744,39.75815044247788,39.68913274336283,38.682539823008845,39.26679646017699,39.18117256637168,38.838809734513276,38.96427876106195],\"yaxis\":\"y\",\"type\":\"scatter\"},{\"hovertemplate\":\"RCP=8.5\\u003cbr\\u003eYear=%{x}\\u003cbr\\u003eTemperature (C)=%{y}\\u003cextra\\u003e\\u003c\\u002fextra\\u003e\",\"legendgroup\":\"8.5\",\"line\":{\"color\":\"#EF553B\",\"dash\":\"solid\"},\"marker\":{\"symbol\":\"circle\"},\"mode\":\"lines\",\"name\":\"8.5\",\"orientation\":\"v\",\"showlegend\":true,\"x\":[2060,2061,2062,2063,2064,2065,2066,2067,2068,2069,2070,2071,2072,2073,2074,2075,2076,2077,2078,2079,2080,2081,2082,2083,2084,2085,2086,2087,2088,2089,2090,2091,2092,2093,2094,2095,2096,2097,2098,2099],\"xaxis\":\"x\",\"y\":[40.55751327433628,39.71769911504425,40.90203982300885,40.63465486725664,40.556738938053094,40.57946902654867,40.316066371681416,40.98350884955752,40.79191592920354,40.57641150442478,41.11766814159292,41.19385398230089,41.25676548672566,41.24804867256637,41.69575221238938,41.809070796460176,40.96595132743363,41.65969911504425,42.16194690265487,41.72034513274336,41.66996460176991,41.92368584070796,42.11911946902655,41.91596017699115,42.56106637168141,42.041345132743366,42.31545132743363,42.32153982300885,41.8761371681416,42.65866371681416,42.545831858407084,42.93603982300885,42.93850884955752,42.9626592920354,42.946176991150445,42.489039823008845,43.09195132743363,42.881637168141594,43.15849115044248,43.396991150442474],\"yaxis\":\"y\",\"type\":\"scatter\"},{\"hovertemplate\":\"RCP=historical\\u003cbr\\u003eYear=%{x}\\u003cbr\\u003eTemperature (C)=%{y}\\u003cextra\\u003e\\u003c\\u002fextra\\u003e\",\"legendgroup\":\"historical\",\"line\":{\"color\":\"#00cc96\",\"dash\":\"solid\"},\"marker\":{\"symbol\":\"circle\"},\"mode\":\"lines\",\"name\":\"historical\",\"orientation\":\"v\",\"showlegend\":false,\"x\":[2060,2061,2062,2063,2064,2065,2066,2067,2068,2069,2070,2071,2072,2073,2074,2075,2076,2077,2078,2079,2080,2081,2082,2083,2084,2085,2086,2087,2088,2089,2090,2091,2092,2093,2094,2095,2096,2097,2098,2099],\"xaxis\":\"x\",\"y\":[null,null,null,null,null,null,null,null,null,null,null,null,null,null,null,null,null,null,null,null,null,null,null,null,null,null,null,null,null,null,null,null,null,null,null,null,null,null,null,null],\"yaxis\":\"y\",\"type\":\"scatter\"}],                        {\"template\":{\"data\":{\"histogram2dcontour\":[{\"type\":\"histogram2dcontour\",\"colorbar\":{\"outlinewidth\":0,\"ticks\":\"\"},\"colorscale\":[[0.0,\"#0d0887\"],[0.1111111111111111,\"#46039f\"],[0.2222222222222222,\"#7201a8\"],[0.3333333333333333,\"#9c179e\"],[0.4444444444444444,\"#bd3786\"],[0.5555555555555556,\"#d8576b\"],[0.6666666666666666,\"#ed7953\"],[0.7777777777777778,\"#fb9f3a\"],[0.8888888888888888,\"#fdca26\"],[1.0,\"#f0f921\"]]}],\"choropleth\":[{\"type\":\"choropleth\",\"colorbar\":{\"outlinewidth\":0,\"ticks\":\"\"}}],\"histogram2d\":[{\"type\":\"histogram2d\",\"colorbar\":{\"outlinewidth\":0,\"ticks\":\"\"},\"colorscale\":[[0.0,\"#0d0887\"],[0.1111111111111111,\"#46039f\"],[0.2222222222222222,\"#7201a8\"],[0.3333333333333333,\"#9c179e\"],[0.4444444444444444,\"#bd3786\"],[0.5555555555555556,\"#d8576b\"],[0.6666666666666666,\"#ed7953\"],[0.7777777777777778,\"#fb9f3a\"],[0.8888888888888888,\"#fdca26\"],[1.0,\"#f0f921\"]]}],\"heatmap\":[{\"type\":\"heatmap\",\"colorbar\":{\"outlinewidth\":0,\"ticks\":\"\"},\"colorscale\":[[0.0,\"#0d0887\"],[0.1111111111111111,\"#46039f\"],[0.2222222222222222,\"#7201a8\"],[0.3333333333333333,\"#9c179e\"],[0.4444444444444444,\"#bd3786\"],[0.5555555555555556,\"#d8576b\"],[0.6666666666666666,\"#ed7953\"],[0.7777777777777778,\"#fb9f3a\"],[0.8888888888888888,\"#fdca26\"],[1.0,\"#f0f921\"]]}],\"heatmapgl\":[{\"type\":\"heatmapgl\",\"colorbar\":{\"outlinewidth\":0,\"ticks\":\"\"},\"colorscale\":[[0.0,\"#0d0887\"],[0.1111111111111111,\"#46039f\"],[0.2222222222222222,\"#7201a8\"],[0.3333333333333333,\"#9c179e\"],[0.4444444444444444,\"#bd3786\"],[0.5555555555555556,\"#d8576b\"],[0.6666666666666666,\"#ed7953\"],[0.7777777777777778,\"#fb9f3a\"],[0.8888888888888888,\"#fdca26\"],[1.0,\"#f0f921\"]]}],\"contourcarpet\":[{\"type\":\"contourcarpet\",\"colorbar\":{\"outlinewidth\":0,\"ticks\":\"\"}}],\"contour\":[{\"type\":\"contour\",\"colorbar\":{\"outlinewidth\":0,\"ticks\":\"\"},\"colorscale\":[[0.0,\"#0d0887\"],[0.1111111111111111,\"#46039f\"],[0.2222222222222222,\"#7201a8\"],[0.3333333333333333,\"#9c179e\"],[0.4444444444444444,\"#bd3786\"],[0.5555555555555556,\"#d8576b\"],[0.6666666666666666,\"#ed7953\"],[0.7777777777777778,\"#fb9f3a\"],[0.8888888888888888,\"#fdca26\"],[1.0,\"#f0f921\"]]}],\"surface\":[{\"type\":\"surface\",\"colorbar\":{\"outlinewidth\":0,\"ticks\":\"\"},\"colorscale\":[[0.0,\"#0d0887\"],[0.1111111111111111,\"#46039f\"],[0.2222222222222222,\"#7201a8\"],[0.3333333333333333,\"#9c179e\"],[0.4444444444444444,\"#bd3786\"],[0.5555555555555556,\"#d8576b\"],[0.6666666666666666,\"#ed7953\"],[0.7777777777777778,\"#fb9f3a\"],[0.8888888888888888,\"#fdca26\"],[1.0,\"#f0f921\"]]}],\"mesh3d\":[{\"type\":\"mesh3d\",\"colorbar\":{\"outlinewidth\":0,\"ticks\":\"\"}}],\"scatter\":[{\"fillpattern\":{\"fillmode\":\"overlay\",\"size\":10,\"solidity\":0.2},\"type\":\"scatter\"}],\"parcoords\":[{\"type\":\"parcoords\",\"line\":{\"colorbar\":{\"outlinewidth\":0,\"ticks\":\"\"}}}],\"scatterpolargl\":[{\"type\":\"scatterpolargl\",\"marker\":{\"colorbar\":{\"outlinewidth\":0,\"ticks\":\"\"}}}],\"bar\":[{\"error_x\":{\"color\":\"#2a3f5f\"},\"error_y\":{\"color\":\"#2a3f5f\"},\"marker\":{\"line\":{\"color\":\"#E5ECF6\",\"width\":0.5},\"pattern\":{\"fillmode\":\"overlay\",\"size\":10,\"solidity\":0.2}},\"type\":\"bar\"}],\"scattergeo\":[{\"type\":\"scattergeo\",\"marker\":{\"colorbar\":{\"outlinewidth\":0,\"ticks\":\"\"}}}],\"scatterpolar\":[{\"type\":\"scatterpolar\",\"marker\":{\"colorbar\":{\"outlinewidth\":0,\"ticks\":\"\"}}}],\"histogram\":[{\"marker\":{\"pattern\":{\"fillmode\":\"overlay\",\"size\":10,\"solidity\":0.2}},\"type\":\"histogram\"}],\"scattergl\":[{\"type\":\"scattergl\",\"marker\":{\"colorbar\":{\"outlinewidth\":0,\"ticks\":\"\"}}}],\"scatter3d\":[{\"type\":\"scatter3d\",\"line\":{\"colorbar\":{\"outlinewidth\":0,\"ticks\":\"\"}},\"marker\":{\"colorbar\":{\"outlinewidth\":0,\"ticks\":\"\"}}}],\"scattermapbox\":[{\"type\":\"scattermapbox\",\"marker\":{\"colorbar\":{\"outlinewidth\":0,\"ticks\":\"\"}}}],\"scatterternary\":[{\"type\":\"scatterternary\",\"marker\":{\"colorbar\":{\"outlinewidth\":0,\"ticks\":\"\"}}}],\"scattercarpet\":[{\"type\":\"scattercarpet\",\"marker\":{\"colorbar\":{\"outlinewidth\":0,\"ticks\":\"\"}}}],\"carpet\":[{\"aaxis\":{\"endlinecolor\":\"#2a3f5f\",\"gridcolor\":\"white\",\"linecolor\":\"white\",\"minorgridcolor\":\"white\",\"startlinecolor\":\"#2a3f5f\"},\"baxis\":{\"endlinecolor\":\"#2a3f5f\",\"gridcolor\":\"white\",\"linecolor\":\"white\",\"minorgridcolor\":\"white\",\"startlinecolor\":\"#2a3f5f\"},\"type\":\"carpet\"}],\"table\":[{\"cells\":{\"fill\":{\"color\":\"#EBF0F8\"},\"line\":{\"color\":\"white\"}},\"header\":{\"fill\":{\"color\":\"#C8D4E3\"},\"line\":{\"color\":\"white\"}},\"type\":\"table\"}],\"barpolar\":[{\"marker\":{\"line\":{\"color\":\"#E5ECF6\",\"width\":0.5},\"pattern\":{\"fillmode\":\"overlay\",\"size\":10,\"solidity\":0.2}},\"type\":\"barpolar\"}],\"pie\":[{\"automargin\":true,\"type\":\"pie\"}]},\"layout\":{\"autotypenumbers\":\"strict\",\"colorway\":[\"#636efa\",\"#EF553B\",\"#00cc96\",\"#ab63fa\",\"#FFA15A\",\"#19d3f3\",\"#FF6692\",\"#B6E880\",\"#FF97FF\",\"#FECB52\"],\"font\":{\"color\":\"#2a3f5f\"},\"hovermode\":\"closest\",\"hoverlabel\":{\"align\":\"left\"},\"paper_bgcolor\":\"white\",\"plot_bgcolor\":\"#E5ECF6\",\"polar\":{\"bgcolor\":\"#E5ECF6\",\"angularaxis\":{\"gridcolor\":\"white\",\"linecolor\":\"white\",\"ticks\":\"\"},\"radialaxis\":{\"gridcolor\":\"white\",\"linecolor\":\"white\",\"ticks\":\"\"}},\"ternary\":{\"bgcolor\":\"#E5ECF6\",\"aaxis\":{\"gridcolor\":\"white\",\"linecolor\":\"white\",\"ticks\":\"\"},\"baxis\":{\"gridcolor\":\"white\",\"linecolor\":\"white\",\"ticks\":\"\"},\"caxis\":{\"gridcolor\":\"white\",\"linecolor\":\"white\",\"ticks\":\"\"}},\"coloraxis\":{\"colorbar\":{\"outlinewidth\":0,\"ticks\":\"\"}},\"colorscale\":{\"sequential\":[[0.0,\"#0d0887\"],[0.1111111111111111,\"#46039f\"],[0.2222222222222222,\"#7201a8\"],[0.3333333333333333,\"#9c179e\"],[0.4444444444444444,\"#bd3786\"],[0.5555555555555556,\"#d8576b\"],[0.6666666666666666,\"#ed7953\"],[0.7777777777777778,\"#fb9f3a\"],[0.8888888888888888,\"#fdca26\"],[1.0,\"#f0f921\"]],\"sequentialminus\":[[0.0,\"#0d0887\"],[0.1111111111111111,\"#46039f\"],[0.2222222222222222,\"#7201a8\"],[0.3333333333333333,\"#9c179e\"],[0.4444444444444444,\"#bd3786\"],[0.5555555555555556,\"#d8576b\"],[0.6666666666666666,\"#ed7953\"],[0.7777777777777778,\"#fb9f3a\"],[0.8888888888888888,\"#fdca26\"],[1.0,\"#f0f921\"]],\"diverging\":[[0,\"#8e0152\"],[0.1,\"#c51b7d\"],[0.2,\"#de77ae\"],[0.3,\"#f1b6da\"],[0.4,\"#fde0ef\"],[0.5,\"#f7f7f7\"],[0.6,\"#e6f5d0\"],[0.7,\"#b8e186\"],[0.8,\"#7fbc41\"],[0.9,\"#4d9221\"],[1,\"#276419\"]]},\"xaxis\":{\"gridcolor\":\"white\",\"linecolor\":\"white\",\"ticks\":\"\",\"title\":{\"standoff\":15},\"zerolinecolor\":\"white\",\"automargin\":true,\"zerolinewidth\":2},\"yaxis\":{\"gridcolor\":\"white\",\"linecolor\":\"white\",\"ticks\":\"\",\"title\":{\"standoff\":15},\"zerolinecolor\":\"white\",\"automargin\":true,\"zerolinewidth\":2},\"scene\":{\"xaxis\":{\"backgroundcolor\":\"#E5ECF6\",\"gridcolor\":\"white\",\"linecolor\":\"white\",\"showbackground\":true,\"ticks\":\"\",\"zerolinecolor\":\"white\",\"gridwidth\":2},\"yaxis\":{\"backgroundcolor\":\"#E5ECF6\",\"gridcolor\":\"white\",\"linecolor\":\"white\",\"showbackground\":true,\"ticks\":\"\",\"zerolinecolor\":\"white\",\"gridwidth\":2},\"zaxis\":{\"backgroundcolor\":\"#E5ECF6\",\"gridcolor\":\"white\",\"linecolor\":\"white\",\"showbackground\":true,\"ticks\":\"\",\"zerolinecolor\":\"white\",\"gridwidth\":2}},\"shapedefaults\":{\"line\":{\"color\":\"#2a3f5f\"}},\"annotationdefaults\":{\"arrowcolor\":\"#2a3f5f\",\"arrowhead\":0,\"arrowwidth\":1},\"geo\":{\"bgcolor\":\"white\",\"landcolor\":\"#E5ECF6\",\"subunitcolor\":\"white\",\"showland\":true,\"showlakes\":true,\"lakecolor\":\"white\"},\"title\":{\"x\":0.05},\"mapbox\":{\"style\":\"light\"}}},\"xaxis\":{\"anchor\":\"y\",\"domain\":[0.0,1.0],\"title\":{\"text\":\"Year\"}},\"yaxis\":{\"anchor\":\"x\",\"domain\":[0.0,1.0],\"title\":{\"text\":\"Temperature (C)\"}},\"legend\":{\"title\":{\"text\":\"RCP\"},\"tracegroupgap\":0},\"title\":{\"text\":\"Long TermMax Summer Temperature\"}},                        {\"responsive\": true}                    ).then(function(){\n",
       "                            \n",
       "var gd = document.getElementById('4ccaf6a6-d69c-4e6c-b28d-4595f060b973');\n",
       "var x = new MutationObserver(function (mutations, observer) {{\n",
       "        var display = window.getComputedStyle(gd).display;\n",
       "        if (!display || display === 'none') {{\n",
       "            console.log([gd, 'removed!']);\n",
       "            Plotly.purge(gd);\n",
       "            observer.disconnect();\n",
       "        }}\n",
       "}});\n",
       "\n",
       "// Listen for the removal of the full notebook cells\n",
       "var notebookContainer = gd.closest('#notebook-container');\n",
       "if (notebookContainer) {{\n",
       "    x.observe(notebookContainer, {childList: true});\n",
       "}}\n",
       "\n",
       "// Listen for the clearing of the current output cell\n",
       "var outputEl = gd.closest('.output');\n",
       "if (outputEl) {{\n",
       "    x.observe(outputEl, {childList: true});\n",
       "}}\n",
       "\n",
       "                        })                };                });            </script>        </div>"
      ]
     },
     "metadata": {},
     "output_type": "display_data"
    }
   ],
   "source": [
    "\n",
    "# set temp df for plot\n",
    "plot_df = df[df['TimePeriod'] == 'LT']\n",
    "# find mean temp of all collection site per year\n",
    "plot_df = plot_df.groupby(['year', 'RCP'])['Tmax_Summer'].mean().reset_index()\n",
    "#plotly plot\n",
    "fig = px.line(plot_df,\n",
    "              x='year',\n",
    "              y=('Tmax_Summer'),\n",
    "              color= 'RCP',\n",
    "              title='Long TermMax Summer Temperature',\n",
    "              labels={\n",
    "                     \"year\": \"Year\",\n",
    "                     \"Tmax_Summer\": \"Temperature (C)\"\n",
    "                 }\n",
    "              )\n",
    "#remove hist from legend\n",
    "for trace in fig.data:\n",
    "    if trace.name == 'historical':\n",
    "        trace.showlegend = False\n",
    "#print fig\n",
    "fig.show()"
   ]
  },
  {
   "cell_type": "markdown",
   "metadata": {},
   "source": [
    "# Seasonal average soil water availability"
   ]
  },
  {
   "cell_type": "code",
   "execution_count": 65,
   "metadata": {},
   "outputs": [
    {
     "name": "stderr",
     "output_type": "stream",
     "text": [
      "/tmp/ipykernel_19422/851291196.py:3: SettingWithCopyWarning:\n",
      "\n",
      "\n",
      "A value is trying to be set on a copy of a slice from a DataFrame.\n",
      "Try using .loc[row_indexer,col_indexer] = value instead\n",
      "\n",
      "See the caveats in the documentation: https://pandas.pydata.org/pandas-docs/stable/user_guide/indexing.html#returning-a-view-versus-a-copy\n",
      "\n"
     ]
    },
    {
     "data": {
      "application/vnd.plotly.v1+json": {
       "config": {
        "plotlyServerURL": "https://plot.ly"
       },
       "data": [
        {
         "hovertemplate": "Year=%{x}<br>mean=%{y}<extra></extra>",
         "legendgroup": "",
         "line": {
          "color": "#636efa",
          "dash": "solid"
         },
         "marker": {
          "symbol": "circle"
         },
         "mode": "lines",
         "name": "",
         "orientation": "v",
         "showlegend": false,
         "type": "scatter",
         "x": [
          1980,
          1981,
          1982,
          1983,
          1984,
          1985,
          1986,
          1987,
          1988,
          1989,
          1990,
          1991,
          1992,
          1993,
          1994,
          1995,
          1996,
          1997,
          1998,
          1999,
          2000,
          2001,
          2002,
          2003,
          2004,
          2005,
          2006,
          2007,
          2008,
          2009,
          2010,
          2011,
          2012,
          2013,
          2014,
          2015,
          2016,
          2017,
          2018
         ],
         "xaxis": "x",
         "y": [
          2.8054722685384528,
          1.5724094779368454,
          2.5154747866005245,
          3.191454108749748,
          2.3285873011430835,
          3.4689293987260506,
          3.602254063377885,
          3.524486794633895,
          2.5877174133122165,
          0.6249948462194254,
          0.7232065874960028,
          2.1744452481589316,
          2.555833940431873,
          2.7887783744676913,
          1.2508714146164206,
          2.3555227679138064,
          0.8230686044106231,
          3.3801378081508893,
          2.282050391885001,
          2.300220833024549,
          1.4237460419323775,
          2.176514032532476,
          0.9158550648392245,
          2.263055208621621,
          2.801119243462094,
          3.665226959416403,
          2.0849520313528127,
          2.4412614054255743,
          2.4138217055704283,
          1.3610497080142105,
          1.6152824630263973,
          1.5283656260450724,
          1.277402968449526,
          2.670672825407653,
          3.012661577159929,
          2.125034092579803,
          2.2377954398088384,
          1.6868420971928992,
          0.900753030955832
         ],
         "yaxis": "y"
        }
       ],
       "layout": {
        "legend": {
         "tracegroupgap": 0
        },
        "template": {
         "data": {
          "bar": [
           {
            "error_x": {
             "color": "#2a3f5f"
            },
            "error_y": {
             "color": "#2a3f5f"
            },
            "marker": {
             "line": {
              "color": "#E5ECF6",
              "width": 0.5
             },
             "pattern": {
              "fillmode": "overlay",
              "size": 10,
              "solidity": 0.2
             }
            },
            "type": "bar"
           }
          ],
          "barpolar": [
           {
            "marker": {
             "line": {
              "color": "#E5ECF6",
              "width": 0.5
             },
             "pattern": {
              "fillmode": "overlay",
              "size": 10,
              "solidity": 0.2
             }
            },
            "type": "barpolar"
           }
          ],
          "carpet": [
           {
            "aaxis": {
             "endlinecolor": "#2a3f5f",
             "gridcolor": "white",
             "linecolor": "white",
             "minorgridcolor": "white",
             "startlinecolor": "#2a3f5f"
            },
            "baxis": {
             "endlinecolor": "#2a3f5f",
             "gridcolor": "white",
             "linecolor": "white",
             "minorgridcolor": "white",
             "startlinecolor": "#2a3f5f"
            },
            "type": "carpet"
           }
          ],
          "choropleth": [
           {
            "colorbar": {
             "outlinewidth": 0,
             "ticks": ""
            },
            "type": "choropleth"
           }
          ],
          "contour": [
           {
            "colorbar": {
             "outlinewidth": 0,
             "ticks": ""
            },
            "colorscale": [
             [
              0,
              "#0d0887"
             ],
             [
              0.1111111111111111,
              "#46039f"
             ],
             [
              0.2222222222222222,
              "#7201a8"
             ],
             [
              0.3333333333333333,
              "#9c179e"
             ],
             [
              0.4444444444444444,
              "#bd3786"
             ],
             [
              0.5555555555555556,
              "#d8576b"
             ],
             [
              0.6666666666666666,
              "#ed7953"
             ],
             [
              0.7777777777777778,
              "#fb9f3a"
             ],
             [
              0.8888888888888888,
              "#fdca26"
             ],
             [
              1,
              "#f0f921"
             ]
            ],
            "type": "contour"
           }
          ],
          "contourcarpet": [
           {
            "colorbar": {
             "outlinewidth": 0,
             "ticks": ""
            },
            "type": "contourcarpet"
           }
          ],
          "heatmap": [
           {
            "colorbar": {
             "outlinewidth": 0,
             "ticks": ""
            },
            "colorscale": [
             [
              0,
              "#0d0887"
             ],
             [
              0.1111111111111111,
              "#46039f"
             ],
             [
              0.2222222222222222,
              "#7201a8"
             ],
             [
              0.3333333333333333,
              "#9c179e"
             ],
             [
              0.4444444444444444,
              "#bd3786"
             ],
             [
              0.5555555555555556,
              "#d8576b"
             ],
             [
              0.6666666666666666,
              "#ed7953"
             ],
             [
              0.7777777777777778,
              "#fb9f3a"
             ],
             [
              0.8888888888888888,
              "#fdca26"
             ],
             [
              1,
              "#f0f921"
             ]
            ],
            "type": "heatmap"
           }
          ],
          "heatmapgl": [
           {
            "colorbar": {
             "outlinewidth": 0,
             "ticks": ""
            },
            "colorscale": [
             [
              0,
              "#0d0887"
             ],
             [
              0.1111111111111111,
              "#46039f"
             ],
             [
              0.2222222222222222,
              "#7201a8"
             ],
             [
              0.3333333333333333,
              "#9c179e"
             ],
             [
              0.4444444444444444,
              "#bd3786"
             ],
             [
              0.5555555555555556,
              "#d8576b"
             ],
             [
              0.6666666666666666,
              "#ed7953"
             ],
             [
              0.7777777777777778,
              "#fb9f3a"
             ],
             [
              0.8888888888888888,
              "#fdca26"
             ],
             [
              1,
              "#f0f921"
             ]
            ],
            "type": "heatmapgl"
           }
          ],
          "histogram": [
           {
            "marker": {
             "pattern": {
              "fillmode": "overlay",
              "size": 10,
              "solidity": 0.2
             }
            },
            "type": "histogram"
           }
          ],
          "histogram2d": [
           {
            "colorbar": {
             "outlinewidth": 0,
             "ticks": ""
            },
            "colorscale": [
             [
              0,
              "#0d0887"
             ],
             [
              0.1111111111111111,
              "#46039f"
             ],
             [
              0.2222222222222222,
              "#7201a8"
             ],
             [
              0.3333333333333333,
              "#9c179e"
             ],
             [
              0.4444444444444444,
              "#bd3786"
             ],
             [
              0.5555555555555556,
              "#d8576b"
             ],
             [
              0.6666666666666666,
              "#ed7953"
             ],
             [
              0.7777777777777778,
              "#fb9f3a"
             ],
             [
              0.8888888888888888,
              "#fdca26"
             ],
             [
              1,
              "#f0f921"
             ]
            ],
            "type": "histogram2d"
           }
          ],
          "histogram2dcontour": [
           {
            "colorbar": {
             "outlinewidth": 0,
             "ticks": ""
            },
            "colorscale": [
             [
              0,
              "#0d0887"
             ],
             [
              0.1111111111111111,
              "#46039f"
             ],
             [
              0.2222222222222222,
              "#7201a8"
             ],
             [
              0.3333333333333333,
              "#9c179e"
             ],
             [
              0.4444444444444444,
              "#bd3786"
             ],
             [
              0.5555555555555556,
              "#d8576b"
             ],
             [
              0.6666666666666666,
              "#ed7953"
             ],
             [
              0.7777777777777778,
              "#fb9f3a"
             ],
             [
              0.8888888888888888,
              "#fdca26"
             ],
             [
              1,
              "#f0f921"
             ]
            ],
            "type": "histogram2dcontour"
           }
          ],
          "mesh3d": [
           {
            "colorbar": {
             "outlinewidth": 0,
             "ticks": ""
            },
            "type": "mesh3d"
           }
          ],
          "parcoords": [
           {
            "line": {
             "colorbar": {
              "outlinewidth": 0,
              "ticks": ""
             }
            },
            "type": "parcoords"
           }
          ],
          "pie": [
           {
            "automargin": true,
            "type": "pie"
           }
          ],
          "scatter": [
           {
            "fillpattern": {
             "fillmode": "overlay",
             "size": 10,
             "solidity": 0.2
            },
            "type": "scatter"
           }
          ],
          "scatter3d": [
           {
            "line": {
             "colorbar": {
              "outlinewidth": 0,
              "ticks": ""
             }
            },
            "marker": {
             "colorbar": {
              "outlinewidth": 0,
              "ticks": ""
             }
            },
            "type": "scatter3d"
           }
          ],
          "scattercarpet": [
           {
            "marker": {
             "colorbar": {
              "outlinewidth": 0,
              "ticks": ""
             }
            },
            "type": "scattercarpet"
           }
          ],
          "scattergeo": [
           {
            "marker": {
             "colorbar": {
              "outlinewidth": 0,
              "ticks": ""
             }
            },
            "type": "scattergeo"
           }
          ],
          "scattergl": [
           {
            "marker": {
             "colorbar": {
              "outlinewidth": 0,
              "ticks": ""
             }
            },
            "type": "scattergl"
           }
          ],
          "scattermapbox": [
           {
            "marker": {
             "colorbar": {
              "outlinewidth": 0,
              "ticks": ""
             }
            },
            "type": "scattermapbox"
           }
          ],
          "scatterpolar": [
           {
            "marker": {
             "colorbar": {
              "outlinewidth": 0,
              "ticks": ""
             }
            },
            "type": "scatterpolar"
           }
          ],
          "scatterpolargl": [
           {
            "marker": {
             "colorbar": {
              "outlinewidth": 0,
              "ticks": ""
             }
            },
            "type": "scatterpolargl"
           }
          ],
          "scatterternary": [
           {
            "marker": {
             "colorbar": {
              "outlinewidth": 0,
              "ticks": ""
             }
            },
            "type": "scatterternary"
           }
          ],
          "surface": [
           {
            "colorbar": {
             "outlinewidth": 0,
             "ticks": ""
            },
            "colorscale": [
             [
              0,
              "#0d0887"
             ],
             [
              0.1111111111111111,
              "#46039f"
             ],
             [
              0.2222222222222222,
              "#7201a8"
             ],
             [
              0.3333333333333333,
              "#9c179e"
             ],
             [
              0.4444444444444444,
              "#bd3786"
             ],
             [
              0.5555555555555556,
              "#d8576b"
             ],
             [
              0.6666666666666666,
              "#ed7953"
             ],
             [
              0.7777777777777778,
              "#fb9f3a"
             ],
             [
              0.8888888888888888,
              "#fdca26"
             ],
             [
              1,
              "#f0f921"
             ]
            ],
            "type": "surface"
           }
          ],
          "table": [
           {
            "cells": {
             "fill": {
              "color": "#EBF0F8"
             },
             "line": {
              "color": "white"
             }
            },
            "header": {
             "fill": {
              "color": "#C8D4E3"
             },
             "line": {
              "color": "white"
             }
            },
            "type": "table"
           }
          ]
         },
         "layout": {
          "annotationdefaults": {
           "arrowcolor": "#2a3f5f",
           "arrowhead": 0,
           "arrowwidth": 1
          },
          "autotypenumbers": "strict",
          "coloraxis": {
           "colorbar": {
            "outlinewidth": 0,
            "ticks": ""
           }
          },
          "colorscale": {
           "diverging": [
            [
             0,
             "#8e0152"
            ],
            [
             0.1,
             "#c51b7d"
            ],
            [
             0.2,
             "#de77ae"
            ],
            [
             0.3,
             "#f1b6da"
            ],
            [
             0.4,
             "#fde0ef"
            ],
            [
             0.5,
             "#f7f7f7"
            ],
            [
             0.6,
             "#e6f5d0"
            ],
            [
             0.7,
             "#b8e186"
            ],
            [
             0.8,
             "#7fbc41"
            ],
            [
             0.9,
             "#4d9221"
            ],
            [
             1,
             "#276419"
            ]
           ],
           "sequential": [
            [
             0,
             "#0d0887"
            ],
            [
             0.1111111111111111,
             "#46039f"
            ],
            [
             0.2222222222222222,
             "#7201a8"
            ],
            [
             0.3333333333333333,
             "#9c179e"
            ],
            [
             0.4444444444444444,
             "#bd3786"
            ],
            [
             0.5555555555555556,
             "#d8576b"
            ],
            [
             0.6666666666666666,
             "#ed7953"
            ],
            [
             0.7777777777777778,
             "#fb9f3a"
            ],
            [
             0.8888888888888888,
             "#fdca26"
            ],
            [
             1,
             "#f0f921"
            ]
           ],
           "sequentialminus": [
            [
             0,
             "#0d0887"
            ],
            [
             0.1111111111111111,
             "#46039f"
            ],
            [
             0.2222222222222222,
             "#7201a8"
            ],
            [
             0.3333333333333333,
             "#9c179e"
            ],
            [
             0.4444444444444444,
             "#bd3786"
            ],
            [
             0.5555555555555556,
             "#d8576b"
            ],
            [
             0.6666666666666666,
             "#ed7953"
            ],
            [
             0.7777777777777778,
             "#fb9f3a"
            ],
            [
             0.8888888888888888,
             "#fdca26"
            ],
            [
             1,
             "#f0f921"
            ]
           ]
          },
          "colorway": [
           "#636efa",
           "#EF553B",
           "#00cc96",
           "#ab63fa",
           "#FFA15A",
           "#19d3f3",
           "#FF6692",
           "#B6E880",
           "#FF97FF",
           "#FECB52"
          ],
          "font": {
           "color": "#2a3f5f"
          },
          "geo": {
           "bgcolor": "white",
           "lakecolor": "white",
           "landcolor": "#E5ECF6",
           "showlakes": true,
           "showland": true,
           "subunitcolor": "white"
          },
          "hoverlabel": {
           "align": "left"
          },
          "hovermode": "closest",
          "mapbox": {
           "style": "light"
          },
          "paper_bgcolor": "white",
          "plot_bgcolor": "#E5ECF6",
          "polar": {
           "angularaxis": {
            "gridcolor": "white",
            "linecolor": "white",
            "ticks": ""
           },
           "bgcolor": "#E5ECF6",
           "radialaxis": {
            "gridcolor": "white",
            "linecolor": "white",
            "ticks": ""
           }
          },
          "scene": {
           "xaxis": {
            "backgroundcolor": "#E5ECF6",
            "gridcolor": "white",
            "gridwidth": 2,
            "linecolor": "white",
            "showbackground": true,
            "ticks": "",
            "zerolinecolor": "white"
           },
           "yaxis": {
            "backgroundcolor": "#E5ECF6",
            "gridcolor": "white",
            "gridwidth": 2,
            "linecolor": "white",
            "showbackground": true,
            "ticks": "",
            "zerolinecolor": "white"
           },
           "zaxis": {
            "backgroundcolor": "#E5ECF6",
            "gridcolor": "white",
            "gridwidth": 2,
            "linecolor": "white",
            "showbackground": true,
            "ticks": "",
            "zerolinecolor": "white"
           }
          },
          "shapedefaults": {
           "line": {
            "color": "#2a3f5f"
           }
          },
          "ternary": {
           "aaxis": {
            "gridcolor": "white",
            "linecolor": "white",
            "ticks": ""
           },
           "baxis": {
            "gridcolor": "white",
            "linecolor": "white",
            "ticks": ""
           },
           "bgcolor": "#E5ECF6",
           "caxis": {
            "gridcolor": "white",
            "linecolor": "white",
            "ticks": ""
           }
          },
          "title": {
           "x": 0.05
          },
          "xaxis": {
           "automargin": true,
           "gridcolor": "white",
           "linecolor": "white",
           "ticks": "",
           "title": {
            "standoff": 15
           },
           "zerolinecolor": "white",
           "zerolinewidth": 2
          },
          "yaxis": {
           "automargin": true,
           "gridcolor": "white",
           "linecolor": "white",
           "ticks": "",
           "title": {
            "standoff": 15
           },
           "zerolinecolor": "white",
           "zerolinewidth": 2
          }
         }
        },
        "title": {
         "text": "Historical Seasonal Mean Soil Water Availibility"
        },
        "xaxis": {
         "anchor": "y",
         "domain": [
          0,
          1
         ],
         "title": {
          "text": "Year"
         }
        },
        "yaxis": {
         "anchor": "x",
         "domain": [
          0,
          1
         ],
         "title": {
          "text": "mean"
         }
        }
       }
      },
      "text/html": [
       "<div>                            <div id=\"8f608279-465b-4131-b77b-33c4a2c40195\" class=\"plotly-graph-div\" style=\"height:525px; width:100%;\"></div>            <script type=\"text/javascript\">                require([\"plotly\"], function(Plotly) {                    window.PLOTLYENV=window.PLOTLYENV || {};                                    if (document.getElementById(\"8f608279-465b-4131-b77b-33c4a2c40195\")) {                    Plotly.newPlot(                        \"8f608279-465b-4131-b77b-33c4a2c40195\",                        [{\"hovertemplate\":\"Year=%{x}\\u003cbr\\u003emean=%{y}\\u003cextra\\u003e\\u003c\\u002fextra\\u003e\",\"legendgroup\":\"\",\"line\":{\"color\":\"#636efa\",\"dash\":\"solid\"},\"marker\":{\"symbol\":\"circle\"},\"mode\":\"lines\",\"name\":\"\",\"orientation\":\"v\",\"showlegend\":false,\"x\":[1980,1981,1982,1983,1984,1985,1986,1987,1988,1989,1990,1991,1992,1993,1994,1995,1996,1997,1998,1999,2000,2001,2002,2003,2004,2005,2006,2007,2008,2009,2010,2011,2012,2013,2014,2015,2016,2017,2018],\"xaxis\":\"x\",\"y\":[2.8054722685384528,1.5724094779368454,2.5154747866005245,3.191454108749748,2.3285873011430835,3.4689293987260506,3.602254063377885,3.524486794633895,2.5877174133122165,0.6249948462194254,0.7232065874960028,2.1744452481589316,2.555833940431873,2.7887783744676913,1.2508714146164206,2.3555227679138064,0.8230686044106231,3.3801378081508893,2.282050391885001,2.300220833024549,1.4237460419323775,2.176514032532476,0.9158550648392245,2.263055208621621,2.801119243462094,3.665226959416403,2.0849520313528127,2.4412614054255743,2.4138217055704283,1.3610497080142105,1.6152824630263973,1.5283656260450724,1.277402968449526,2.670672825407653,3.012661577159929,2.125034092579803,2.2377954398088384,1.6868420971928992,0.900753030955832],\"yaxis\":\"y\",\"type\":\"scatter\"}],                        {\"template\":{\"data\":{\"histogram2dcontour\":[{\"type\":\"histogram2dcontour\",\"colorbar\":{\"outlinewidth\":0,\"ticks\":\"\"},\"colorscale\":[[0.0,\"#0d0887\"],[0.1111111111111111,\"#46039f\"],[0.2222222222222222,\"#7201a8\"],[0.3333333333333333,\"#9c179e\"],[0.4444444444444444,\"#bd3786\"],[0.5555555555555556,\"#d8576b\"],[0.6666666666666666,\"#ed7953\"],[0.7777777777777778,\"#fb9f3a\"],[0.8888888888888888,\"#fdca26\"],[1.0,\"#f0f921\"]]}],\"choropleth\":[{\"type\":\"choropleth\",\"colorbar\":{\"outlinewidth\":0,\"ticks\":\"\"}}],\"histogram2d\":[{\"type\":\"histogram2d\",\"colorbar\":{\"outlinewidth\":0,\"ticks\":\"\"},\"colorscale\":[[0.0,\"#0d0887\"],[0.1111111111111111,\"#46039f\"],[0.2222222222222222,\"#7201a8\"],[0.3333333333333333,\"#9c179e\"],[0.4444444444444444,\"#bd3786\"],[0.5555555555555556,\"#d8576b\"],[0.6666666666666666,\"#ed7953\"],[0.7777777777777778,\"#fb9f3a\"],[0.8888888888888888,\"#fdca26\"],[1.0,\"#f0f921\"]]}],\"heatmap\":[{\"type\":\"heatmap\",\"colorbar\":{\"outlinewidth\":0,\"ticks\":\"\"},\"colorscale\":[[0.0,\"#0d0887\"],[0.1111111111111111,\"#46039f\"],[0.2222222222222222,\"#7201a8\"],[0.3333333333333333,\"#9c179e\"],[0.4444444444444444,\"#bd3786\"],[0.5555555555555556,\"#d8576b\"],[0.6666666666666666,\"#ed7953\"],[0.7777777777777778,\"#fb9f3a\"],[0.8888888888888888,\"#fdca26\"],[1.0,\"#f0f921\"]]}],\"heatmapgl\":[{\"type\":\"heatmapgl\",\"colorbar\":{\"outlinewidth\":0,\"ticks\":\"\"},\"colorscale\":[[0.0,\"#0d0887\"],[0.1111111111111111,\"#46039f\"],[0.2222222222222222,\"#7201a8\"],[0.3333333333333333,\"#9c179e\"],[0.4444444444444444,\"#bd3786\"],[0.5555555555555556,\"#d8576b\"],[0.6666666666666666,\"#ed7953\"],[0.7777777777777778,\"#fb9f3a\"],[0.8888888888888888,\"#fdca26\"],[1.0,\"#f0f921\"]]}],\"contourcarpet\":[{\"type\":\"contourcarpet\",\"colorbar\":{\"outlinewidth\":0,\"ticks\":\"\"}}],\"contour\":[{\"type\":\"contour\",\"colorbar\":{\"outlinewidth\":0,\"ticks\":\"\"},\"colorscale\":[[0.0,\"#0d0887\"],[0.1111111111111111,\"#46039f\"],[0.2222222222222222,\"#7201a8\"],[0.3333333333333333,\"#9c179e\"],[0.4444444444444444,\"#bd3786\"],[0.5555555555555556,\"#d8576b\"],[0.6666666666666666,\"#ed7953\"],[0.7777777777777778,\"#fb9f3a\"],[0.8888888888888888,\"#fdca26\"],[1.0,\"#f0f921\"]]}],\"surface\":[{\"type\":\"surface\",\"colorbar\":{\"outlinewidth\":0,\"ticks\":\"\"},\"colorscale\":[[0.0,\"#0d0887\"],[0.1111111111111111,\"#46039f\"],[0.2222222222222222,\"#7201a8\"],[0.3333333333333333,\"#9c179e\"],[0.4444444444444444,\"#bd3786\"],[0.5555555555555556,\"#d8576b\"],[0.6666666666666666,\"#ed7953\"],[0.7777777777777778,\"#fb9f3a\"],[0.8888888888888888,\"#fdca26\"],[1.0,\"#f0f921\"]]}],\"mesh3d\":[{\"type\":\"mesh3d\",\"colorbar\":{\"outlinewidth\":0,\"ticks\":\"\"}}],\"scatter\":[{\"fillpattern\":{\"fillmode\":\"overlay\",\"size\":10,\"solidity\":0.2},\"type\":\"scatter\"}],\"parcoords\":[{\"type\":\"parcoords\",\"line\":{\"colorbar\":{\"outlinewidth\":0,\"ticks\":\"\"}}}],\"scatterpolargl\":[{\"type\":\"scatterpolargl\",\"marker\":{\"colorbar\":{\"outlinewidth\":0,\"ticks\":\"\"}}}],\"bar\":[{\"error_x\":{\"color\":\"#2a3f5f\"},\"error_y\":{\"color\":\"#2a3f5f\"},\"marker\":{\"line\":{\"color\":\"#E5ECF6\",\"width\":0.5},\"pattern\":{\"fillmode\":\"overlay\",\"size\":10,\"solidity\":0.2}},\"type\":\"bar\"}],\"scattergeo\":[{\"type\":\"scattergeo\",\"marker\":{\"colorbar\":{\"outlinewidth\":0,\"ticks\":\"\"}}}],\"scatterpolar\":[{\"type\":\"scatterpolar\",\"marker\":{\"colorbar\":{\"outlinewidth\":0,\"ticks\":\"\"}}}],\"histogram\":[{\"marker\":{\"pattern\":{\"fillmode\":\"overlay\",\"size\":10,\"solidity\":0.2}},\"type\":\"histogram\"}],\"scattergl\":[{\"type\":\"scattergl\",\"marker\":{\"colorbar\":{\"outlinewidth\":0,\"ticks\":\"\"}}}],\"scatter3d\":[{\"type\":\"scatter3d\",\"line\":{\"colorbar\":{\"outlinewidth\":0,\"ticks\":\"\"}},\"marker\":{\"colorbar\":{\"outlinewidth\":0,\"ticks\":\"\"}}}],\"scattermapbox\":[{\"type\":\"scattermapbox\",\"marker\":{\"colorbar\":{\"outlinewidth\":0,\"ticks\":\"\"}}}],\"scatterternary\":[{\"type\":\"scatterternary\",\"marker\":{\"colorbar\":{\"outlinewidth\":0,\"ticks\":\"\"}}}],\"scattercarpet\":[{\"type\":\"scattercarpet\",\"marker\":{\"colorbar\":{\"outlinewidth\":0,\"ticks\":\"\"}}}],\"carpet\":[{\"aaxis\":{\"endlinecolor\":\"#2a3f5f\",\"gridcolor\":\"white\",\"linecolor\":\"white\",\"minorgridcolor\":\"white\",\"startlinecolor\":\"#2a3f5f\"},\"baxis\":{\"endlinecolor\":\"#2a3f5f\",\"gridcolor\":\"white\",\"linecolor\":\"white\",\"minorgridcolor\":\"white\",\"startlinecolor\":\"#2a3f5f\"},\"type\":\"carpet\"}],\"table\":[{\"cells\":{\"fill\":{\"color\":\"#EBF0F8\"},\"line\":{\"color\":\"white\"}},\"header\":{\"fill\":{\"color\":\"#C8D4E3\"},\"line\":{\"color\":\"white\"}},\"type\":\"table\"}],\"barpolar\":[{\"marker\":{\"line\":{\"color\":\"#E5ECF6\",\"width\":0.5},\"pattern\":{\"fillmode\":\"overlay\",\"size\":10,\"solidity\":0.2}},\"type\":\"barpolar\"}],\"pie\":[{\"automargin\":true,\"type\":\"pie\"}]},\"layout\":{\"autotypenumbers\":\"strict\",\"colorway\":[\"#636efa\",\"#EF553B\",\"#00cc96\",\"#ab63fa\",\"#FFA15A\",\"#19d3f3\",\"#FF6692\",\"#B6E880\",\"#FF97FF\",\"#FECB52\"],\"font\":{\"color\":\"#2a3f5f\"},\"hovermode\":\"closest\",\"hoverlabel\":{\"align\":\"left\"},\"paper_bgcolor\":\"white\",\"plot_bgcolor\":\"#E5ECF6\",\"polar\":{\"bgcolor\":\"#E5ECF6\",\"angularaxis\":{\"gridcolor\":\"white\",\"linecolor\":\"white\",\"ticks\":\"\"},\"radialaxis\":{\"gridcolor\":\"white\",\"linecolor\":\"white\",\"ticks\":\"\"}},\"ternary\":{\"bgcolor\":\"#E5ECF6\",\"aaxis\":{\"gridcolor\":\"white\",\"linecolor\":\"white\",\"ticks\":\"\"},\"baxis\":{\"gridcolor\":\"white\",\"linecolor\":\"white\",\"ticks\":\"\"},\"caxis\":{\"gridcolor\":\"white\",\"linecolor\":\"white\",\"ticks\":\"\"}},\"coloraxis\":{\"colorbar\":{\"outlinewidth\":0,\"ticks\":\"\"}},\"colorscale\":{\"sequential\":[[0.0,\"#0d0887\"],[0.1111111111111111,\"#46039f\"],[0.2222222222222222,\"#7201a8\"],[0.3333333333333333,\"#9c179e\"],[0.4444444444444444,\"#bd3786\"],[0.5555555555555556,\"#d8576b\"],[0.6666666666666666,\"#ed7953\"],[0.7777777777777778,\"#fb9f3a\"],[0.8888888888888888,\"#fdca26\"],[1.0,\"#f0f921\"]],\"sequentialminus\":[[0.0,\"#0d0887\"],[0.1111111111111111,\"#46039f\"],[0.2222222222222222,\"#7201a8\"],[0.3333333333333333,\"#9c179e\"],[0.4444444444444444,\"#bd3786\"],[0.5555555555555556,\"#d8576b\"],[0.6666666666666666,\"#ed7953\"],[0.7777777777777778,\"#fb9f3a\"],[0.8888888888888888,\"#fdca26\"],[1.0,\"#f0f921\"]],\"diverging\":[[0,\"#8e0152\"],[0.1,\"#c51b7d\"],[0.2,\"#de77ae\"],[0.3,\"#f1b6da\"],[0.4,\"#fde0ef\"],[0.5,\"#f7f7f7\"],[0.6,\"#e6f5d0\"],[0.7,\"#b8e186\"],[0.8,\"#7fbc41\"],[0.9,\"#4d9221\"],[1,\"#276419\"]]},\"xaxis\":{\"gridcolor\":\"white\",\"linecolor\":\"white\",\"ticks\":\"\",\"title\":{\"standoff\":15},\"zerolinecolor\":\"white\",\"automargin\":true,\"zerolinewidth\":2},\"yaxis\":{\"gridcolor\":\"white\",\"linecolor\":\"white\",\"ticks\":\"\",\"title\":{\"standoff\":15},\"zerolinecolor\":\"white\",\"automargin\":true,\"zerolinewidth\":2},\"scene\":{\"xaxis\":{\"backgroundcolor\":\"#E5ECF6\",\"gridcolor\":\"white\",\"linecolor\":\"white\",\"showbackground\":true,\"ticks\":\"\",\"zerolinecolor\":\"white\",\"gridwidth\":2},\"yaxis\":{\"backgroundcolor\":\"#E5ECF6\",\"gridcolor\":\"white\",\"linecolor\":\"white\",\"showbackground\":true,\"ticks\":\"\",\"zerolinecolor\":\"white\",\"gridwidth\":2},\"zaxis\":{\"backgroundcolor\":\"#E5ECF6\",\"gridcolor\":\"white\",\"linecolor\":\"white\",\"showbackground\":true,\"ticks\":\"\",\"zerolinecolor\":\"white\",\"gridwidth\":2}},\"shapedefaults\":{\"line\":{\"color\":\"#2a3f5f\"}},\"annotationdefaults\":{\"arrowcolor\":\"#2a3f5f\",\"arrowhead\":0,\"arrowwidth\":1},\"geo\":{\"bgcolor\":\"white\",\"landcolor\":\"#E5ECF6\",\"subunitcolor\":\"white\",\"showland\":true,\"showlakes\":true,\"lakecolor\":\"white\"},\"title\":{\"x\":0.05},\"mapbox\":{\"style\":\"light\"}}},\"xaxis\":{\"anchor\":\"y\",\"domain\":[0.0,1.0],\"title\":{\"text\":\"Year\"}},\"yaxis\":{\"anchor\":\"x\",\"domain\":[0.0,1.0],\"title\":{\"text\":\"mean\"}},\"legend\":{\"tracegroupgap\":0},\"title\":{\"text\":\"Historical Seasonal Mean Soil Water Availibility\"}},                        {\"responsive\": true}                    ).then(function(){\n",
       "                            \n",
       "var gd = document.getElementById('8f608279-465b-4131-b77b-33c4a2c40195');\n",
       "var x = new MutationObserver(function (mutations, observer) {{\n",
       "        var display = window.getComputedStyle(gd).display;\n",
       "        if (!display || display === 'none') {{\n",
       "            console.log([gd, 'removed!']);\n",
       "            Plotly.purge(gd);\n",
       "            observer.disconnect();\n",
       "        }}\n",
       "}});\n",
       "\n",
       "// Listen for the removal of the full notebook cells\n",
       "var notebookContainer = gd.closest('#notebook-container');\n",
       "if (notebookContainer) {{\n",
       "    x.observe(notebookContainer, {childList: true});\n",
       "}}\n",
       "\n",
       "// Listen for the clearing of the current output cell\n",
       "var outputEl = gd.closest('.output');\n",
       "if (outputEl) {{\n",
       "    x.observe(outputEl, {childList: true});\n",
       "}}\n",
       "\n",
       "                        })                };                });            </script>        </div>"
      ]
     },
     "metadata": {},
     "output_type": "display_data"
    }
   ],
   "source": [
    "# set temp df for plot\n",
    "plot_df = df[df['TimePeriod'] == 'Hist']\n",
    "plot_df['mean'] = plot_df[['SWA_Winter_whole', 'SWA_Spring_whole', 'SWA_Summer_whole', 'SWA_Fall_whole']].mean(axis = 1)\n",
    "# find mean SWA of all collection site per year\n",
    "plot_df = plot_df.groupby(['year'])['mean'].mean().reset_index()\n",
    "#plotly plot\n",
    "fig = px.line(plot_df,\n",
    "              x='year',\n",
    "              y='mean',\n",
    "              title='Historical Seasonal Mean Soil Water Availibility',\n",
    "              labels={\n",
    "                     \"year\": \"Year\",\n",
    "                     \"Tmax_Summer\": \"Water (CM)\"\n",
    "                 }\n",
    "              )\n",
    "#print fig\n",
    "fig.show()"
   ]
  },
  {
   "cell_type": "code",
   "execution_count": 66,
   "metadata": {},
   "outputs": [
    {
     "name": "stderr",
     "output_type": "stream",
     "text": [
      "/tmp/ipykernel_19422/576196329.py:3: SettingWithCopyWarning:\n",
      "\n",
      "\n",
      "A value is trying to be set on a copy of a slice from a DataFrame.\n",
      "Try using .loc[row_indexer,col_indexer] = value instead\n",
      "\n",
      "See the caveats in the documentation: https://pandas.pydata.org/pandas-docs/stable/user_guide/indexing.html#returning-a-view-versus-a-copy\n",
      "\n"
     ]
    },
    {
     "data": {
      "application/vnd.plotly.v1+json": {
       "config": {
        "plotlyServerURL": "https://plot.ly"
       },
       "data": [
        {
         "hovertemplate": "RCP=4.5<br>Year=%{x}<br>mean=%{y}<extra></extra>",
         "legendgroup": "4.5",
         "line": {
          "color": "#636efa",
          "dash": "solid"
         },
         "marker": {
          "symbol": "circle"
         },
         "mode": "lines",
         "name": "4.5",
         "orientation": "v",
         "showlegend": true,
         "type": "scatter",
         "x": [
          2021,
          2022,
          2023,
          2024,
          2025,
          2026,
          2027,
          2028,
          2029,
          2030,
          2031,
          2032,
          2033,
          2034,
          2035,
          2036,
          2037,
          2038,
          2039,
          2040,
          2041,
          2042,
          2043,
          2044,
          2045,
          2046,
          2047,
          2048,
          2049,
          2050,
          2051,
          2052,
          2053,
          2054,
          2055,
          2056,
          2057,
          2058,
          2059
         ],
         "xaxis": "x",
         "y": [
          2.6557861336385797,
          2.1509686732485798,
          2.3899369457889,
          2.757464025413651,
          2.5420663418248277,
          2.409796735269495,
          2.2324544072698025,
          2.6499333862054435,
          2.6019320175912224,
          2.9053301467610586,
          2.5060309350604766,
          2.38223545864642,
          2.705346907320609,
          2.458703725414798,
          2.417759380339507,
          2.9118537569941445,
          2.8329050563945035,
          2.2649637403745198,
          2.3272585844992975,
          2.939940942719148,
          2.864605080438693,
          2.625051784356749,
          2.694428521815163,
          3.121572958523734,
          2.464534948100518,
          1.941256533977263,
          2.6371034138617935,
          2.9170691931600876,
          2.629686664656698,
          2.596872532145066,
          2.5254013033321296,
          2.437111457791759,
          2.4247275715499974,
          2.8041755555750223,
          2.3449430637897923,
          2.348377103335202,
          2.9110759729349445,
          2.615191582802925,
          2.630349212776395
         ],
         "yaxis": "y"
        },
        {
         "hovertemplate": "RCP=8.5<br>Year=%{x}<br>mean=%{y}<extra></extra>",
         "legendgroup": "8.5",
         "line": {
          "color": "#EF553B",
          "dash": "solid"
         },
         "marker": {
          "symbol": "circle"
         },
         "mode": "lines",
         "name": "8.5",
         "orientation": "v",
         "showlegend": true,
         "type": "scatter",
         "x": [
          2021,
          2022,
          2023,
          2024,
          2025,
          2026,
          2027,
          2028,
          2029,
          2030,
          2031,
          2032,
          2033,
          2034,
          2035,
          2036,
          2037,
          2038,
          2039,
          2040,
          2041,
          2042,
          2043,
          2044,
          2045,
          2046,
          2047,
          2048,
          2049,
          2050,
          2051,
          2052,
          2053,
          2054,
          2055,
          2056,
          2057,
          2058,
          2059
         ],
         "xaxis": "x",
         "y": [
          2.806641977069908,
          2.4395081157803538,
          2.6355226845133406,
          2.5885561717964283,
          2.9109057355494583,
          2.7777435194412927,
          2.8085092845137734,
          2.9612665819470507,
          2.4008134108200387,
          2.1617179883132813,
          2.6018359455432365,
          2.761709083938599,
          2.9178180212634053,
          2.6651113029528832,
          2.7146037011296693,
          2.682847893272559,
          2.712825486686407,
          2.897203695925864,
          2.875087882988516,
          2.559528031758402,
          2.5594723366726457,
          2.2987481508781538,
          2.6089442750526364,
          2.6969870187470177,
          2.624762028975439,
          2.6230014552061616,
          2.939795597783319,
          3.0117514568310253,
          2.925135918632487,
          2.991392604621432,
          2.957532799290261,
          2.977485289455876,
          2.547540944171755,
          2.725790058630773,
          2.8185223095224305,
          2.8382768822428286,
          3.052228042792818,
          2.9285143445783564,
          2.9167505460835237
         ],
         "yaxis": "y"
        },
        {
         "hovertemplate": "RCP=historical<br>Year=%{x}<br>mean=%{y}<extra></extra>",
         "legendgroup": "historical",
         "line": {
          "color": "#00cc96",
          "dash": "solid"
         },
         "marker": {
          "symbol": "circle"
         },
         "mode": "lines",
         "name": "historical",
         "orientation": "v",
         "showlegend": false,
         "type": "scatter",
         "x": [
          2021,
          2022,
          2023,
          2024,
          2025,
          2026,
          2027,
          2028,
          2029,
          2030,
          2031,
          2032,
          2033,
          2034,
          2035,
          2036,
          2037,
          2038,
          2039,
          2040,
          2041,
          2042,
          2043,
          2044,
          2045,
          2046,
          2047,
          2048,
          2049,
          2050,
          2051,
          2052,
          2053,
          2054,
          2055,
          2056,
          2057,
          2058,
          2059
         ],
         "xaxis": "x",
         "y": [
          null,
          null,
          null,
          null,
          null,
          null,
          null,
          null,
          null,
          null,
          null,
          null,
          null,
          null,
          null,
          null,
          null,
          null,
          null,
          null,
          null,
          null,
          null,
          null,
          null,
          null,
          null,
          null,
          null,
          null,
          null,
          null,
          null,
          null,
          null,
          null,
          null,
          null,
          null
         ],
         "yaxis": "y"
        }
       ],
       "layout": {
        "legend": {
         "title": {
          "text": "RCP"
         },
         "tracegroupgap": 0
        },
        "template": {
         "data": {
          "bar": [
           {
            "error_x": {
             "color": "#2a3f5f"
            },
            "error_y": {
             "color": "#2a3f5f"
            },
            "marker": {
             "line": {
              "color": "#E5ECF6",
              "width": 0.5
             },
             "pattern": {
              "fillmode": "overlay",
              "size": 10,
              "solidity": 0.2
             }
            },
            "type": "bar"
           }
          ],
          "barpolar": [
           {
            "marker": {
             "line": {
              "color": "#E5ECF6",
              "width": 0.5
             },
             "pattern": {
              "fillmode": "overlay",
              "size": 10,
              "solidity": 0.2
             }
            },
            "type": "barpolar"
           }
          ],
          "carpet": [
           {
            "aaxis": {
             "endlinecolor": "#2a3f5f",
             "gridcolor": "white",
             "linecolor": "white",
             "minorgridcolor": "white",
             "startlinecolor": "#2a3f5f"
            },
            "baxis": {
             "endlinecolor": "#2a3f5f",
             "gridcolor": "white",
             "linecolor": "white",
             "minorgridcolor": "white",
             "startlinecolor": "#2a3f5f"
            },
            "type": "carpet"
           }
          ],
          "choropleth": [
           {
            "colorbar": {
             "outlinewidth": 0,
             "ticks": ""
            },
            "type": "choropleth"
           }
          ],
          "contour": [
           {
            "colorbar": {
             "outlinewidth": 0,
             "ticks": ""
            },
            "colorscale": [
             [
              0,
              "#0d0887"
             ],
             [
              0.1111111111111111,
              "#46039f"
             ],
             [
              0.2222222222222222,
              "#7201a8"
             ],
             [
              0.3333333333333333,
              "#9c179e"
             ],
             [
              0.4444444444444444,
              "#bd3786"
             ],
             [
              0.5555555555555556,
              "#d8576b"
             ],
             [
              0.6666666666666666,
              "#ed7953"
             ],
             [
              0.7777777777777778,
              "#fb9f3a"
             ],
             [
              0.8888888888888888,
              "#fdca26"
             ],
             [
              1,
              "#f0f921"
             ]
            ],
            "type": "contour"
           }
          ],
          "contourcarpet": [
           {
            "colorbar": {
             "outlinewidth": 0,
             "ticks": ""
            },
            "type": "contourcarpet"
           }
          ],
          "heatmap": [
           {
            "colorbar": {
             "outlinewidth": 0,
             "ticks": ""
            },
            "colorscale": [
             [
              0,
              "#0d0887"
             ],
             [
              0.1111111111111111,
              "#46039f"
             ],
             [
              0.2222222222222222,
              "#7201a8"
             ],
             [
              0.3333333333333333,
              "#9c179e"
             ],
             [
              0.4444444444444444,
              "#bd3786"
             ],
             [
              0.5555555555555556,
              "#d8576b"
             ],
             [
              0.6666666666666666,
              "#ed7953"
             ],
             [
              0.7777777777777778,
              "#fb9f3a"
             ],
             [
              0.8888888888888888,
              "#fdca26"
             ],
             [
              1,
              "#f0f921"
             ]
            ],
            "type": "heatmap"
           }
          ],
          "heatmapgl": [
           {
            "colorbar": {
             "outlinewidth": 0,
             "ticks": ""
            },
            "colorscale": [
             [
              0,
              "#0d0887"
             ],
             [
              0.1111111111111111,
              "#46039f"
             ],
             [
              0.2222222222222222,
              "#7201a8"
             ],
             [
              0.3333333333333333,
              "#9c179e"
             ],
             [
              0.4444444444444444,
              "#bd3786"
             ],
             [
              0.5555555555555556,
              "#d8576b"
             ],
             [
              0.6666666666666666,
              "#ed7953"
             ],
             [
              0.7777777777777778,
              "#fb9f3a"
             ],
             [
              0.8888888888888888,
              "#fdca26"
             ],
             [
              1,
              "#f0f921"
             ]
            ],
            "type": "heatmapgl"
           }
          ],
          "histogram": [
           {
            "marker": {
             "pattern": {
              "fillmode": "overlay",
              "size": 10,
              "solidity": 0.2
             }
            },
            "type": "histogram"
           }
          ],
          "histogram2d": [
           {
            "colorbar": {
             "outlinewidth": 0,
             "ticks": ""
            },
            "colorscale": [
             [
              0,
              "#0d0887"
             ],
             [
              0.1111111111111111,
              "#46039f"
             ],
             [
              0.2222222222222222,
              "#7201a8"
             ],
             [
              0.3333333333333333,
              "#9c179e"
             ],
             [
              0.4444444444444444,
              "#bd3786"
             ],
             [
              0.5555555555555556,
              "#d8576b"
             ],
             [
              0.6666666666666666,
              "#ed7953"
             ],
             [
              0.7777777777777778,
              "#fb9f3a"
             ],
             [
              0.8888888888888888,
              "#fdca26"
             ],
             [
              1,
              "#f0f921"
             ]
            ],
            "type": "histogram2d"
           }
          ],
          "histogram2dcontour": [
           {
            "colorbar": {
             "outlinewidth": 0,
             "ticks": ""
            },
            "colorscale": [
             [
              0,
              "#0d0887"
             ],
             [
              0.1111111111111111,
              "#46039f"
             ],
             [
              0.2222222222222222,
              "#7201a8"
             ],
             [
              0.3333333333333333,
              "#9c179e"
             ],
             [
              0.4444444444444444,
              "#bd3786"
             ],
             [
              0.5555555555555556,
              "#d8576b"
             ],
             [
              0.6666666666666666,
              "#ed7953"
             ],
             [
              0.7777777777777778,
              "#fb9f3a"
             ],
             [
              0.8888888888888888,
              "#fdca26"
             ],
             [
              1,
              "#f0f921"
             ]
            ],
            "type": "histogram2dcontour"
           }
          ],
          "mesh3d": [
           {
            "colorbar": {
             "outlinewidth": 0,
             "ticks": ""
            },
            "type": "mesh3d"
           }
          ],
          "parcoords": [
           {
            "line": {
             "colorbar": {
              "outlinewidth": 0,
              "ticks": ""
             }
            },
            "type": "parcoords"
           }
          ],
          "pie": [
           {
            "automargin": true,
            "type": "pie"
           }
          ],
          "scatter": [
           {
            "fillpattern": {
             "fillmode": "overlay",
             "size": 10,
             "solidity": 0.2
            },
            "type": "scatter"
           }
          ],
          "scatter3d": [
           {
            "line": {
             "colorbar": {
              "outlinewidth": 0,
              "ticks": ""
             }
            },
            "marker": {
             "colorbar": {
              "outlinewidth": 0,
              "ticks": ""
             }
            },
            "type": "scatter3d"
           }
          ],
          "scattercarpet": [
           {
            "marker": {
             "colorbar": {
              "outlinewidth": 0,
              "ticks": ""
             }
            },
            "type": "scattercarpet"
           }
          ],
          "scattergeo": [
           {
            "marker": {
             "colorbar": {
              "outlinewidth": 0,
              "ticks": ""
             }
            },
            "type": "scattergeo"
           }
          ],
          "scattergl": [
           {
            "marker": {
             "colorbar": {
              "outlinewidth": 0,
              "ticks": ""
             }
            },
            "type": "scattergl"
           }
          ],
          "scattermapbox": [
           {
            "marker": {
             "colorbar": {
              "outlinewidth": 0,
              "ticks": ""
             }
            },
            "type": "scattermapbox"
           }
          ],
          "scatterpolar": [
           {
            "marker": {
             "colorbar": {
              "outlinewidth": 0,
              "ticks": ""
             }
            },
            "type": "scatterpolar"
           }
          ],
          "scatterpolargl": [
           {
            "marker": {
             "colorbar": {
              "outlinewidth": 0,
              "ticks": ""
             }
            },
            "type": "scatterpolargl"
           }
          ],
          "scatterternary": [
           {
            "marker": {
             "colorbar": {
              "outlinewidth": 0,
              "ticks": ""
             }
            },
            "type": "scatterternary"
           }
          ],
          "surface": [
           {
            "colorbar": {
             "outlinewidth": 0,
             "ticks": ""
            },
            "colorscale": [
             [
              0,
              "#0d0887"
             ],
             [
              0.1111111111111111,
              "#46039f"
             ],
             [
              0.2222222222222222,
              "#7201a8"
             ],
             [
              0.3333333333333333,
              "#9c179e"
             ],
             [
              0.4444444444444444,
              "#bd3786"
             ],
             [
              0.5555555555555556,
              "#d8576b"
             ],
             [
              0.6666666666666666,
              "#ed7953"
             ],
             [
              0.7777777777777778,
              "#fb9f3a"
             ],
             [
              0.8888888888888888,
              "#fdca26"
             ],
             [
              1,
              "#f0f921"
             ]
            ],
            "type": "surface"
           }
          ],
          "table": [
           {
            "cells": {
             "fill": {
              "color": "#EBF0F8"
             },
             "line": {
              "color": "white"
             }
            },
            "header": {
             "fill": {
              "color": "#C8D4E3"
             },
             "line": {
              "color": "white"
             }
            },
            "type": "table"
           }
          ]
         },
         "layout": {
          "annotationdefaults": {
           "arrowcolor": "#2a3f5f",
           "arrowhead": 0,
           "arrowwidth": 1
          },
          "autotypenumbers": "strict",
          "coloraxis": {
           "colorbar": {
            "outlinewidth": 0,
            "ticks": ""
           }
          },
          "colorscale": {
           "diverging": [
            [
             0,
             "#8e0152"
            ],
            [
             0.1,
             "#c51b7d"
            ],
            [
             0.2,
             "#de77ae"
            ],
            [
             0.3,
             "#f1b6da"
            ],
            [
             0.4,
             "#fde0ef"
            ],
            [
             0.5,
             "#f7f7f7"
            ],
            [
             0.6,
             "#e6f5d0"
            ],
            [
             0.7,
             "#b8e186"
            ],
            [
             0.8,
             "#7fbc41"
            ],
            [
             0.9,
             "#4d9221"
            ],
            [
             1,
             "#276419"
            ]
           ],
           "sequential": [
            [
             0,
             "#0d0887"
            ],
            [
             0.1111111111111111,
             "#46039f"
            ],
            [
             0.2222222222222222,
             "#7201a8"
            ],
            [
             0.3333333333333333,
             "#9c179e"
            ],
            [
             0.4444444444444444,
             "#bd3786"
            ],
            [
             0.5555555555555556,
             "#d8576b"
            ],
            [
             0.6666666666666666,
             "#ed7953"
            ],
            [
             0.7777777777777778,
             "#fb9f3a"
            ],
            [
             0.8888888888888888,
             "#fdca26"
            ],
            [
             1,
             "#f0f921"
            ]
           ],
           "sequentialminus": [
            [
             0,
             "#0d0887"
            ],
            [
             0.1111111111111111,
             "#46039f"
            ],
            [
             0.2222222222222222,
             "#7201a8"
            ],
            [
             0.3333333333333333,
             "#9c179e"
            ],
            [
             0.4444444444444444,
             "#bd3786"
            ],
            [
             0.5555555555555556,
             "#d8576b"
            ],
            [
             0.6666666666666666,
             "#ed7953"
            ],
            [
             0.7777777777777778,
             "#fb9f3a"
            ],
            [
             0.8888888888888888,
             "#fdca26"
            ],
            [
             1,
             "#f0f921"
            ]
           ]
          },
          "colorway": [
           "#636efa",
           "#EF553B",
           "#00cc96",
           "#ab63fa",
           "#FFA15A",
           "#19d3f3",
           "#FF6692",
           "#B6E880",
           "#FF97FF",
           "#FECB52"
          ],
          "font": {
           "color": "#2a3f5f"
          },
          "geo": {
           "bgcolor": "white",
           "lakecolor": "white",
           "landcolor": "#E5ECF6",
           "showlakes": true,
           "showland": true,
           "subunitcolor": "white"
          },
          "hoverlabel": {
           "align": "left"
          },
          "hovermode": "closest",
          "mapbox": {
           "style": "light"
          },
          "paper_bgcolor": "white",
          "plot_bgcolor": "#E5ECF6",
          "polar": {
           "angularaxis": {
            "gridcolor": "white",
            "linecolor": "white",
            "ticks": ""
           },
           "bgcolor": "#E5ECF6",
           "radialaxis": {
            "gridcolor": "white",
            "linecolor": "white",
            "ticks": ""
           }
          },
          "scene": {
           "xaxis": {
            "backgroundcolor": "#E5ECF6",
            "gridcolor": "white",
            "gridwidth": 2,
            "linecolor": "white",
            "showbackground": true,
            "ticks": "",
            "zerolinecolor": "white"
           },
           "yaxis": {
            "backgroundcolor": "#E5ECF6",
            "gridcolor": "white",
            "gridwidth": 2,
            "linecolor": "white",
            "showbackground": true,
            "ticks": "",
            "zerolinecolor": "white"
           },
           "zaxis": {
            "backgroundcolor": "#E5ECF6",
            "gridcolor": "white",
            "gridwidth": 2,
            "linecolor": "white",
            "showbackground": true,
            "ticks": "",
            "zerolinecolor": "white"
           }
          },
          "shapedefaults": {
           "line": {
            "color": "#2a3f5f"
           }
          },
          "ternary": {
           "aaxis": {
            "gridcolor": "white",
            "linecolor": "white",
            "ticks": ""
           },
           "baxis": {
            "gridcolor": "white",
            "linecolor": "white",
            "ticks": ""
           },
           "bgcolor": "#E5ECF6",
           "caxis": {
            "gridcolor": "white",
            "linecolor": "white",
            "ticks": ""
           }
          },
          "title": {
           "x": 0.05
          },
          "xaxis": {
           "automargin": true,
           "gridcolor": "white",
           "linecolor": "white",
           "ticks": "",
           "title": {
            "standoff": 15
           },
           "zerolinecolor": "white",
           "zerolinewidth": 2
          },
          "yaxis": {
           "automargin": true,
           "gridcolor": "white",
           "linecolor": "white",
           "ticks": "",
           "title": {
            "standoff": 15
           },
           "zerolinecolor": "white",
           "zerolinewidth": 2
          }
         }
        },
        "title": {
         "text": "Near Term Seasonal Mean Soil Water Availibility"
        },
        "xaxis": {
         "anchor": "y",
         "domain": [
          0,
          1
         ],
         "title": {
          "text": "Year"
         }
        },
        "yaxis": {
         "anchor": "x",
         "domain": [
          0,
          1
         ],
         "title": {
          "text": "mean"
         }
        }
       }
      },
      "text/html": [
       "<div>                            <div id=\"749b6c38-4a22-44b7-a9a6-d95967fa2060\" class=\"plotly-graph-div\" style=\"height:525px; width:100%;\"></div>            <script type=\"text/javascript\">                require([\"plotly\"], function(Plotly) {                    window.PLOTLYENV=window.PLOTLYENV || {};                                    if (document.getElementById(\"749b6c38-4a22-44b7-a9a6-d95967fa2060\")) {                    Plotly.newPlot(                        \"749b6c38-4a22-44b7-a9a6-d95967fa2060\",                        [{\"hovertemplate\":\"RCP=4.5\\u003cbr\\u003eYear=%{x}\\u003cbr\\u003emean=%{y}\\u003cextra\\u003e\\u003c\\u002fextra\\u003e\",\"legendgroup\":\"4.5\",\"line\":{\"color\":\"#636efa\",\"dash\":\"solid\"},\"marker\":{\"symbol\":\"circle\"},\"mode\":\"lines\",\"name\":\"4.5\",\"orientation\":\"v\",\"showlegend\":true,\"x\":[2021,2022,2023,2024,2025,2026,2027,2028,2029,2030,2031,2032,2033,2034,2035,2036,2037,2038,2039,2040,2041,2042,2043,2044,2045,2046,2047,2048,2049,2050,2051,2052,2053,2054,2055,2056,2057,2058,2059],\"xaxis\":\"x\",\"y\":[2.6557861336385797,2.1509686732485798,2.3899369457889,2.757464025413651,2.5420663418248277,2.409796735269495,2.2324544072698025,2.6499333862054435,2.6019320175912224,2.9053301467610586,2.5060309350604766,2.38223545864642,2.705346907320609,2.458703725414798,2.417759380339507,2.9118537569941445,2.8329050563945035,2.2649637403745198,2.3272585844992975,2.939940942719148,2.864605080438693,2.625051784356749,2.694428521815163,3.121572958523734,2.464534948100518,1.941256533977263,2.6371034138617935,2.9170691931600876,2.629686664656698,2.596872532145066,2.5254013033321296,2.437111457791759,2.4247275715499974,2.8041755555750223,2.3449430637897923,2.348377103335202,2.9110759729349445,2.615191582802925,2.630349212776395],\"yaxis\":\"y\",\"type\":\"scatter\"},{\"hovertemplate\":\"RCP=8.5\\u003cbr\\u003eYear=%{x}\\u003cbr\\u003emean=%{y}\\u003cextra\\u003e\\u003c\\u002fextra\\u003e\",\"legendgroup\":\"8.5\",\"line\":{\"color\":\"#EF553B\",\"dash\":\"solid\"},\"marker\":{\"symbol\":\"circle\"},\"mode\":\"lines\",\"name\":\"8.5\",\"orientation\":\"v\",\"showlegend\":true,\"x\":[2021,2022,2023,2024,2025,2026,2027,2028,2029,2030,2031,2032,2033,2034,2035,2036,2037,2038,2039,2040,2041,2042,2043,2044,2045,2046,2047,2048,2049,2050,2051,2052,2053,2054,2055,2056,2057,2058,2059],\"xaxis\":\"x\",\"y\":[2.806641977069908,2.4395081157803538,2.6355226845133406,2.5885561717964283,2.9109057355494583,2.7777435194412927,2.8085092845137734,2.9612665819470507,2.4008134108200387,2.1617179883132813,2.6018359455432365,2.761709083938599,2.9178180212634053,2.6651113029528832,2.7146037011296693,2.682847893272559,2.712825486686407,2.897203695925864,2.875087882988516,2.559528031758402,2.5594723366726457,2.2987481508781538,2.6089442750526364,2.6969870187470177,2.624762028975439,2.6230014552061616,2.939795597783319,3.0117514568310253,2.925135918632487,2.991392604621432,2.957532799290261,2.977485289455876,2.547540944171755,2.725790058630773,2.8185223095224305,2.8382768822428286,3.052228042792818,2.9285143445783564,2.9167505460835237],\"yaxis\":\"y\",\"type\":\"scatter\"},{\"hovertemplate\":\"RCP=historical\\u003cbr\\u003eYear=%{x}\\u003cbr\\u003emean=%{y}\\u003cextra\\u003e\\u003c\\u002fextra\\u003e\",\"legendgroup\":\"historical\",\"line\":{\"color\":\"#00cc96\",\"dash\":\"solid\"},\"marker\":{\"symbol\":\"circle\"},\"mode\":\"lines\",\"name\":\"historical\",\"orientation\":\"v\",\"showlegend\":false,\"x\":[2021,2022,2023,2024,2025,2026,2027,2028,2029,2030,2031,2032,2033,2034,2035,2036,2037,2038,2039,2040,2041,2042,2043,2044,2045,2046,2047,2048,2049,2050,2051,2052,2053,2054,2055,2056,2057,2058,2059],\"xaxis\":\"x\",\"y\":[null,null,null,null,null,null,null,null,null,null,null,null,null,null,null,null,null,null,null,null,null,null,null,null,null,null,null,null,null,null,null,null,null,null,null,null,null,null,null],\"yaxis\":\"y\",\"type\":\"scatter\"}],                        {\"template\":{\"data\":{\"histogram2dcontour\":[{\"type\":\"histogram2dcontour\",\"colorbar\":{\"outlinewidth\":0,\"ticks\":\"\"},\"colorscale\":[[0.0,\"#0d0887\"],[0.1111111111111111,\"#46039f\"],[0.2222222222222222,\"#7201a8\"],[0.3333333333333333,\"#9c179e\"],[0.4444444444444444,\"#bd3786\"],[0.5555555555555556,\"#d8576b\"],[0.6666666666666666,\"#ed7953\"],[0.7777777777777778,\"#fb9f3a\"],[0.8888888888888888,\"#fdca26\"],[1.0,\"#f0f921\"]]}],\"choropleth\":[{\"type\":\"choropleth\",\"colorbar\":{\"outlinewidth\":0,\"ticks\":\"\"}}],\"histogram2d\":[{\"type\":\"histogram2d\",\"colorbar\":{\"outlinewidth\":0,\"ticks\":\"\"},\"colorscale\":[[0.0,\"#0d0887\"],[0.1111111111111111,\"#46039f\"],[0.2222222222222222,\"#7201a8\"],[0.3333333333333333,\"#9c179e\"],[0.4444444444444444,\"#bd3786\"],[0.5555555555555556,\"#d8576b\"],[0.6666666666666666,\"#ed7953\"],[0.7777777777777778,\"#fb9f3a\"],[0.8888888888888888,\"#fdca26\"],[1.0,\"#f0f921\"]]}],\"heatmap\":[{\"type\":\"heatmap\",\"colorbar\":{\"outlinewidth\":0,\"ticks\":\"\"},\"colorscale\":[[0.0,\"#0d0887\"],[0.1111111111111111,\"#46039f\"],[0.2222222222222222,\"#7201a8\"],[0.3333333333333333,\"#9c179e\"],[0.4444444444444444,\"#bd3786\"],[0.5555555555555556,\"#d8576b\"],[0.6666666666666666,\"#ed7953\"],[0.7777777777777778,\"#fb9f3a\"],[0.8888888888888888,\"#fdca26\"],[1.0,\"#f0f921\"]]}],\"heatmapgl\":[{\"type\":\"heatmapgl\",\"colorbar\":{\"outlinewidth\":0,\"ticks\":\"\"},\"colorscale\":[[0.0,\"#0d0887\"],[0.1111111111111111,\"#46039f\"],[0.2222222222222222,\"#7201a8\"],[0.3333333333333333,\"#9c179e\"],[0.4444444444444444,\"#bd3786\"],[0.5555555555555556,\"#d8576b\"],[0.6666666666666666,\"#ed7953\"],[0.7777777777777778,\"#fb9f3a\"],[0.8888888888888888,\"#fdca26\"],[1.0,\"#f0f921\"]]}],\"contourcarpet\":[{\"type\":\"contourcarpet\",\"colorbar\":{\"outlinewidth\":0,\"ticks\":\"\"}}],\"contour\":[{\"type\":\"contour\",\"colorbar\":{\"outlinewidth\":0,\"ticks\":\"\"},\"colorscale\":[[0.0,\"#0d0887\"],[0.1111111111111111,\"#46039f\"],[0.2222222222222222,\"#7201a8\"],[0.3333333333333333,\"#9c179e\"],[0.4444444444444444,\"#bd3786\"],[0.5555555555555556,\"#d8576b\"],[0.6666666666666666,\"#ed7953\"],[0.7777777777777778,\"#fb9f3a\"],[0.8888888888888888,\"#fdca26\"],[1.0,\"#f0f921\"]]}],\"surface\":[{\"type\":\"surface\",\"colorbar\":{\"outlinewidth\":0,\"ticks\":\"\"},\"colorscale\":[[0.0,\"#0d0887\"],[0.1111111111111111,\"#46039f\"],[0.2222222222222222,\"#7201a8\"],[0.3333333333333333,\"#9c179e\"],[0.4444444444444444,\"#bd3786\"],[0.5555555555555556,\"#d8576b\"],[0.6666666666666666,\"#ed7953\"],[0.7777777777777778,\"#fb9f3a\"],[0.8888888888888888,\"#fdca26\"],[1.0,\"#f0f921\"]]}],\"mesh3d\":[{\"type\":\"mesh3d\",\"colorbar\":{\"outlinewidth\":0,\"ticks\":\"\"}}],\"scatter\":[{\"fillpattern\":{\"fillmode\":\"overlay\",\"size\":10,\"solidity\":0.2},\"type\":\"scatter\"}],\"parcoords\":[{\"type\":\"parcoords\",\"line\":{\"colorbar\":{\"outlinewidth\":0,\"ticks\":\"\"}}}],\"scatterpolargl\":[{\"type\":\"scatterpolargl\",\"marker\":{\"colorbar\":{\"outlinewidth\":0,\"ticks\":\"\"}}}],\"bar\":[{\"error_x\":{\"color\":\"#2a3f5f\"},\"error_y\":{\"color\":\"#2a3f5f\"},\"marker\":{\"line\":{\"color\":\"#E5ECF6\",\"width\":0.5},\"pattern\":{\"fillmode\":\"overlay\",\"size\":10,\"solidity\":0.2}},\"type\":\"bar\"}],\"scattergeo\":[{\"type\":\"scattergeo\",\"marker\":{\"colorbar\":{\"outlinewidth\":0,\"ticks\":\"\"}}}],\"scatterpolar\":[{\"type\":\"scatterpolar\",\"marker\":{\"colorbar\":{\"outlinewidth\":0,\"ticks\":\"\"}}}],\"histogram\":[{\"marker\":{\"pattern\":{\"fillmode\":\"overlay\",\"size\":10,\"solidity\":0.2}},\"type\":\"histogram\"}],\"scattergl\":[{\"type\":\"scattergl\",\"marker\":{\"colorbar\":{\"outlinewidth\":0,\"ticks\":\"\"}}}],\"scatter3d\":[{\"type\":\"scatter3d\",\"line\":{\"colorbar\":{\"outlinewidth\":0,\"ticks\":\"\"}},\"marker\":{\"colorbar\":{\"outlinewidth\":0,\"ticks\":\"\"}}}],\"scattermapbox\":[{\"type\":\"scattermapbox\",\"marker\":{\"colorbar\":{\"outlinewidth\":0,\"ticks\":\"\"}}}],\"scatterternary\":[{\"type\":\"scatterternary\",\"marker\":{\"colorbar\":{\"outlinewidth\":0,\"ticks\":\"\"}}}],\"scattercarpet\":[{\"type\":\"scattercarpet\",\"marker\":{\"colorbar\":{\"outlinewidth\":0,\"ticks\":\"\"}}}],\"carpet\":[{\"aaxis\":{\"endlinecolor\":\"#2a3f5f\",\"gridcolor\":\"white\",\"linecolor\":\"white\",\"minorgridcolor\":\"white\",\"startlinecolor\":\"#2a3f5f\"},\"baxis\":{\"endlinecolor\":\"#2a3f5f\",\"gridcolor\":\"white\",\"linecolor\":\"white\",\"minorgridcolor\":\"white\",\"startlinecolor\":\"#2a3f5f\"},\"type\":\"carpet\"}],\"table\":[{\"cells\":{\"fill\":{\"color\":\"#EBF0F8\"},\"line\":{\"color\":\"white\"}},\"header\":{\"fill\":{\"color\":\"#C8D4E3\"},\"line\":{\"color\":\"white\"}},\"type\":\"table\"}],\"barpolar\":[{\"marker\":{\"line\":{\"color\":\"#E5ECF6\",\"width\":0.5},\"pattern\":{\"fillmode\":\"overlay\",\"size\":10,\"solidity\":0.2}},\"type\":\"barpolar\"}],\"pie\":[{\"automargin\":true,\"type\":\"pie\"}]},\"layout\":{\"autotypenumbers\":\"strict\",\"colorway\":[\"#636efa\",\"#EF553B\",\"#00cc96\",\"#ab63fa\",\"#FFA15A\",\"#19d3f3\",\"#FF6692\",\"#B6E880\",\"#FF97FF\",\"#FECB52\"],\"font\":{\"color\":\"#2a3f5f\"},\"hovermode\":\"closest\",\"hoverlabel\":{\"align\":\"left\"},\"paper_bgcolor\":\"white\",\"plot_bgcolor\":\"#E5ECF6\",\"polar\":{\"bgcolor\":\"#E5ECF6\",\"angularaxis\":{\"gridcolor\":\"white\",\"linecolor\":\"white\",\"ticks\":\"\"},\"radialaxis\":{\"gridcolor\":\"white\",\"linecolor\":\"white\",\"ticks\":\"\"}},\"ternary\":{\"bgcolor\":\"#E5ECF6\",\"aaxis\":{\"gridcolor\":\"white\",\"linecolor\":\"white\",\"ticks\":\"\"},\"baxis\":{\"gridcolor\":\"white\",\"linecolor\":\"white\",\"ticks\":\"\"},\"caxis\":{\"gridcolor\":\"white\",\"linecolor\":\"white\",\"ticks\":\"\"}},\"coloraxis\":{\"colorbar\":{\"outlinewidth\":0,\"ticks\":\"\"}},\"colorscale\":{\"sequential\":[[0.0,\"#0d0887\"],[0.1111111111111111,\"#46039f\"],[0.2222222222222222,\"#7201a8\"],[0.3333333333333333,\"#9c179e\"],[0.4444444444444444,\"#bd3786\"],[0.5555555555555556,\"#d8576b\"],[0.6666666666666666,\"#ed7953\"],[0.7777777777777778,\"#fb9f3a\"],[0.8888888888888888,\"#fdca26\"],[1.0,\"#f0f921\"]],\"sequentialminus\":[[0.0,\"#0d0887\"],[0.1111111111111111,\"#46039f\"],[0.2222222222222222,\"#7201a8\"],[0.3333333333333333,\"#9c179e\"],[0.4444444444444444,\"#bd3786\"],[0.5555555555555556,\"#d8576b\"],[0.6666666666666666,\"#ed7953\"],[0.7777777777777778,\"#fb9f3a\"],[0.8888888888888888,\"#fdca26\"],[1.0,\"#f0f921\"]],\"diverging\":[[0,\"#8e0152\"],[0.1,\"#c51b7d\"],[0.2,\"#de77ae\"],[0.3,\"#f1b6da\"],[0.4,\"#fde0ef\"],[0.5,\"#f7f7f7\"],[0.6,\"#e6f5d0\"],[0.7,\"#b8e186\"],[0.8,\"#7fbc41\"],[0.9,\"#4d9221\"],[1,\"#276419\"]]},\"xaxis\":{\"gridcolor\":\"white\",\"linecolor\":\"white\",\"ticks\":\"\",\"title\":{\"standoff\":15},\"zerolinecolor\":\"white\",\"automargin\":true,\"zerolinewidth\":2},\"yaxis\":{\"gridcolor\":\"white\",\"linecolor\":\"white\",\"ticks\":\"\",\"title\":{\"standoff\":15},\"zerolinecolor\":\"white\",\"automargin\":true,\"zerolinewidth\":2},\"scene\":{\"xaxis\":{\"backgroundcolor\":\"#E5ECF6\",\"gridcolor\":\"white\",\"linecolor\":\"white\",\"showbackground\":true,\"ticks\":\"\",\"zerolinecolor\":\"white\",\"gridwidth\":2},\"yaxis\":{\"backgroundcolor\":\"#E5ECF6\",\"gridcolor\":\"white\",\"linecolor\":\"white\",\"showbackground\":true,\"ticks\":\"\",\"zerolinecolor\":\"white\",\"gridwidth\":2},\"zaxis\":{\"backgroundcolor\":\"#E5ECF6\",\"gridcolor\":\"white\",\"linecolor\":\"white\",\"showbackground\":true,\"ticks\":\"\",\"zerolinecolor\":\"white\",\"gridwidth\":2}},\"shapedefaults\":{\"line\":{\"color\":\"#2a3f5f\"}},\"annotationdefaults\":{\"arrowcolor\":\"#2a3f5f\",\"arrowhead\":0,\"arrowwidth\":1},\"geo\":{\"bgcolor\":\"white\",\"landcolor\":\"#E5ECF6\",\"subunitcolor\":\"white\",\"showland\":true,\"showlakes\":true,\"lakecolor\":\"white\"},\"title\":{\"x\":0.05},\"mapbox\":{\"style\":\"light\"}}},\"xaxis\":{\"anchor\":\"y\",\"domain\":[0.0,1.0],\"title\":{\"text\":\"Year\"}},\"yaxis\":{\"anchor\":\"x\",\"domain\":[0.0,1.0],\"title\":{\"text\":\"mean\"}},\"legend\":{\"title\":{\"text\":\"RCP\"},\"tracegroupgap\":0},\"title\":{\"text\":\"Near Term Seasonal Mean Soil Water Availibility\"}},                        {\"responsive\": true}                    ).then(function(){\n",
       "                            \n",
       "var gd = document.getElementById('749b6c38-4a22-44b7-a9a6-d95967fa2060');\n",
       "var x = new MutationObserver(function (mutations, observer) {{\n",
       "        var display = window.getComputedStyle(gd).display;\n",
       "        if (!display || display === 'none') {{\n",
       "            console.log([gd, 'removed!']);\n",
       "            Plotly.purge(gd);\n",
       "            observer.disconnect();\n",
       "        }}\n",
       "}});\n",
       "\n",
       "// Listen for the removal of the full notebook cells\n",
       "var notebookContainer = gd.closest('#notebook-container');\n",
       "if (notebookContainer) {{\n",
       "    x.observe(notebookContainer, {childList: true});\n",
       "}}\n",
       "\n",
       "// Listen for the clearing of the current output cell\n",
       "var outputEl = gd.closest('.output');\n",
       "if (outputEl) {{\n",
       "    x.observe(outputEl, {childList: true});\n",
       "}}\n",
       "\n",
       "                        })                };                });            </script>        </div>"
      ]
     },
     "metadata": {},
     "output_type": "display_data"
    }
   ],
   "source": [
    "# set temp df for plot\n",
    "plot_df = df[df['TimePeriod'] == 'NT']\n",
    "plot_df['mean'] = plot_df[['SWA_Winter_whole', 'SWA_Spring_whole', 'SWA_Summer_whole', 'SWA_Fall_whole']].mean(axis = 1)\n",
    "# find mean SWA of all collection site per year\n",
    "plot_df = plot_df.groupby(['year', 'RCP'])['mean'].mean().reset_index()\n",
    "#plotly plot\n",
    "fig = px.line(plot_df,\n",
    "              x='year',\n",
    "              y='mean',\n",
    "              color= 'RCP',\n",
    "              title='Near Term Seasonal Mean Soil Water Availibility',\n",
    "              labels={\n",
    "                     \"year\": \"Year\",\n",
    "                     \"Tmax_Summer\": \"Water (CM)\"\n",
    "                 }\n",
    "              )\n",
    "#remove hist from legend\n",
    "for trace in fig.data:\n",
    "    if trace.name == 'historical':\n",
    "        trace.showlegend = False\n",
    "#print fig\n",
    "fig.show()"
   ]
  },
  {
   "cell_type": "code",
   "execution_count": 67,
   "metadata": {},
   "outputs": [
    {
     "name": "stderr",
     "output_type": "stream",
     "text": [
      "/tmp/ipykernel_19422/2437862038.py:4: SettingWithCopyWarning:\n",
      "\n",
      "\n",
      "A value is trying to be set on a copy of a slice from a DataFrame.\n",
      "Try using .loc[row_indexer,col_indexer] = value instead\n",
      "\n",
      "See the caveats in the documentation: https://pandas.pydata.org/pandas-docs/stable/user_guide/indexing.html#returning-a-view-versus-a-copy\n",
      "\n"
     ]
    },
    {
     "data": {
      "application/vnd.plotly.v1+json": {
       "config": {
        "plotlyServerURL": "https://plot.ly"
       },
       "data": [
        {
         "hovertemplate": "RCP=4.5<br>Year=%{x}<br>mean=%{y}<extra></extra>",
         "legendgroup": "4.5",
         "line": {
          "color": "#636efa",
          "dash": "solid"
         },
         "marker": {
          "symbol": "circle"
         },
         "mode": "lines",
         "name": "4.5",
         "orientation": "v",
         "showlegend": true,
         "type": "scatter",
         "x": [
          2060,
          2061,
          2062,
          2063,
          2064,
          2065,
          2066,
          2067,
          2068,
          2069,
          2070,
          2071,
          2072,
          2073,
          2074,
          2075,
          2076,
          2077,
          2078,
          2079,
          2080,
          2081,
          2082,
          2083,
          2084,
          2085,
          2086,
          2087,
          2088,
          2089,
          2090,
          2091,
          2092,
          2093,
          2094,
          2095,
          2096,
          2097,
          2098,
          2099
         ],
         "xaxis": "x",
         "y": [
          3.143449798176812,
          2.9102088471825525,
          2.7077676815969838,
          2.6962926086594283,
          2.9130936173644666,
          2.5938498717988296,
          2.5500110464780015,
          2.744390134681708,
          2.426661648016289,
          2.338812568889998,
          2.6804140410859754,
          2.6050902643075498,
          2.3998082193451378,
          2.6279879750940176,
          2.7540218869076805,
          2.1242657355331436,
          2.3338104861126885,
          2.9136750200738994,
          3.2672816792865644,
          3.1535309575193033,
          2.780794566297254,
          2.360955564616231,
          2.6316917223998875,
          2.438783172467136,
          2.4915655465704205,
          2.677177751295366,
          2.3322170264711515,
          2.575832523619703,
          3.1435377743728963,
          2.8431896799898837,
          3.0034063384892233,
          2.908365918295304,
          2.559299998120086,
          2.550723823677196,
          2.5048664162650347,
          2.757408957085936,
          2.7290235886388836,
          3.052880895139622,
          3.2059510109254923,
          2.951837090840733
         ],
         "yaxis": "y"
        },
        {
         "hovertemplate": "RCP=8.5<br>Year=%{x}<br>mean=%{y}<extra></extra>",
         "legendgroup": "8.5",
         "line": {
          "color": "#EF553B",
          "dash": "solid"
         },
         "marker": {
          "symbol": "circle"
         },
         "mode": "lines",
         "name": "8.5",
         "orientation": "v",
         "showlegend": true,
         "type": "scatter",
         "x": [
          2060,
          2061,
          2062,
          2063,
          2064,
          2065,
          2066,
          2067,
          2068,
          2069,
          2070,
          2071,
          2072,
          2073,
          2074,
          2075,
          2076,
          2077,
          2078,
          2079,
          2080,
          2081,
          2082,
          2083,
          2084,
          2085,
          2086,
          2087,
          2088,
          2089,
          2090,
          2091,
          2092,
          2093,
          2094,
          2095,
          2096,
          2097,
          2098,
          2099
         ],
         "xaxis": "x",
         "y": [
          2.712694367937013,
          2.820456815085727,
          2.5090896267661464,
          2.525823346101515,
          2.536722254351125,
          2.4860662854435467,
          2.7694645313378827,
          2.6984419048844086,
          2.461297786431495,
          2.3944315610495313,
          2.6731894446857654,
          2.714946347850628,
          2.8479357660214264,
          2.970547565060872,
          2.9417202530092923,
          2.7500368233175223,
          2.891583383196011,
          2.8513153397787385,
          2.4386285269781585,
          2.8744215872607763,
          2.8852449536934444,
          3.0123627009028104,
          2.7526800827554734,
          2.6663004665228414,
          2.7347758642897646,
          2.9064778679190058,
          2.9550825714403177,
          3.013421497039642,
          2.9192478207946797,
          2.9873946841265715,
          3.0816835655615202,
          3.1350588552286616,
          2.7840946853926876,
          2.639581720252401,
          2.9994679968383653,
          2.9486117033776846,
          2.446105543502802,
          2.7397030751726392,
          2.615187478960511,
          2.890854361818399
         ],
         "yaxis": "y"
        },
        {
         "hovertemplate": "RCP=historical<br>Year=%{x}<br>mean=%{y}<extra></extra>",
         "legendgroup": "historical",
         "line": {
          "color": "#00cc96",
          "dash": "solid"
         },
         "marker": {
          "symbol": "circle"
         },
         "mode": "lines",
         "name": "historical",
         "orientation": "v",
         "showlegend": false,
         "type": "scatter",
         "x": [
          2060,
          2061,
          2062,
          2063,
          2064,
          2065,
          2066,
          2067,
          2068,
          2069,
          2070,
          2071,
          2072,
          2073,
          2074,
          2075,
          2076,
          2077,
          2078,
          2079,
          2080,
          2081,
          2082,
          2083,
          2084,
          2085,
          2086,
          2087,
          2088,
          2089,
          2090,
          2091,
          2092,
          2093,
          2094,
          2095,
          2096,
          2097,
          2098,
          2099
         ],
         "xaxis": "x",
         "y": [
          null,
          null,
          null,
          null,
          null,
          null,
          null,
          null,
          null,
          null,
          null,
          null,
          null,
          null,
          null,
          null,
          null,
          null,
          null,
          null,
          null,
          null,
          null,
          null,
          null,
          null,
          null,
          null,
          null,
          null,
          null,
          null,
          null,
          null,
          null,
          null,
          null,
          null,
          null,
          null
         ],
         "yaxis": "y"
        }
       ],
       "layout": {
        "legend": {
         "title": {
          "text": "RCP"
         },
         "tracegroupgap": 0
        },
        "template": {
         "data": {
          "bar": [
           {
            "error_x": {
             "color": "#2a3f5f"
            },
            "error_y": {
             "color": "#2a3f5f"
            },
            "marker": {
             "line": {
              "color": "#E5ECF6",
              "width": 0.5
             },
             "pattern": {
              "fillmode": "overlay",
              "size": 10,
              "solidity": 0.2
             }
            },
            "type": "bar"
           }
          ],
          "barpolar": [
           {
            "marker": {
             "line": {
              "color": "#E5ECF6",
              "width": 0.5
             },
             "pattern": {
              "fillmode": "overlay",
              "size": 10,
              "solidity": 0.2
             }
            },
            "type": "barpolar"
           }
          ],
          "carpet": [
           {
            "aaxis": {
             "endlinecolor": "#2a3f5f",
             "gridcolor": "white",
             "linecolor": "white",
             "minorgridcolor": "white",
             "startlinecolor": "#2a3f5f"
            },
            "baxis": {
             "endlinecolor": "#2a3f5f",
             "gridcolor": "white",
             "linecolor": "white",
             "minorgridcolor": "white",
             "startlinecolor": "#2a3f5f"
            },
            "type": "carpet"
           }
          ],
          "choropleth": [
           {
            "colorbar": {
             "outlinewidth": 0,
             "ticks": ""
            },
            "type": "choropleth"
           }
          ],
          "contour": [
           {
            "colorbar": {
             "outlinewidth": 0,
             "ticks": ""
            },
            "colorscale": [
             [
              0,
              "#0d0887"
             ],
             [
              0.1111111111111111,
              "#46039f"
             ],
             [
              0.2222222222222222,
              "#7201a8"
             ],
             [
              0.3333333333333333,
              "#9c179e"
             ],
             [
              0.4444444444444444,
              "#bd3786"
             ],
             [
              0.5555555555555556,
              "#d8576b"
             ],
             [
              0.6666666666666666,
              "#ed7953"
             ],
             [
              0.7777777777777778,
              "#fb9f3a"
             ],
             [
              0.8888888888888888,
              "#fdca26"
             ],
             [
              1,
              "#f0f921"
             ]
            ],
            "type": "contour"
           }
          ],
          "contourcarpet": [
           {
            "colorbar": {
             "outlinewidth": 0,
             "ticks": ""
            },
            "type": "contourcarpet"
           }
          ],
          "heatmap": [
           {
            "colorbar": {
             "outlinewidth": 0,
             "ticks": ""
            },
            "colorscale": [
             [
              0,
              "#0d0887"
             ],
             [
              0.1111111111111111,
              "#46039f"
             ],
             [
              0.2222222222222222,
              "#7201a8"
             ],
             [
              0.3333333333333333,
              "#9c179e"
             ],
             [
              0.4444444444444444,
              "#bd3786"
             ],
             [
              0.5555555555555556,
              "#d8576b"
             ],
             [
              0.6666666666666666,
              "#ed7953"
             ],
             [
              0.7777777777777778,
              "#fb9f3a"
             ],
             [
              0.8888888888888888,
              "#fdca26"
             ],
             [
              1,
              "#f0f921"
             ]
            ],
            "type": "heatmap"
           }
          ],
          "heatmapgl": [
           {
            "colorbar": {
             "outlinewidth": 0,
             "ticks": ""
            },
            "colorscale": [
             [
              0,
              "#0d0887"
             ],
             [
              0.1111111111111111,
              "#46039f"
             ],
             [
              0.2222222222222222,
              "#7201a8"
             ],
             [
              0.3333333333333333,
              "#9c179e"
             ],
             [
              0.4444444444444444,
              "#bd3786"
             ],
             [
              0.5555555555555556,
              "#d8576b"
             ],
             [
              0.6666666666666666,
              "#ed7953"
             ],
             [
              0.7777777777777778,
              "#fb9f3a"
             ],
             [
              0.8888888888888888,
              "#fdca26"
             ],
             [
              1,
              "#f0f921"
             ]
            ],
            "type": "heatmapgl"
           }
          ],
          "histogram": [
           {
            "marker": {
             "pattern": {
              "fillmode": "overlay",
              "size": 10,
              "solidity": 0.2
             }
            },
            "type": "histogram"
           }
          ],
          "histogram2d": [
           {
            "colorbar": {
             "outlinewidth": 0,
             "ticks": ""
            },
            "colorscale": [
             [
              0,
              "#0d0887"
             ],
             [
              0.1111111111111111,
              "#46039f"
             ],
             [
              0.2222222222222222,
              "#7201a8"
             ],
             [
              0.3333333333333333,
              "#9c179e"
             ],
             [
              0.4444444444444444,
              "#bd3786"
             ],
             [
              0.5555555555555556,
              "#d8576b"
             ],
             [
              0.6666666666666666,
              "#ed7953"
             ],
             [
              0.7777777777777778,
              "#fb9f3a"
             ],
             [
              0.8888888888888888,
              "#fdca26"
             ],
             [
              1,
              "#f0f921"
             ]
            ],
            "type": "histogram2d"
           }
          ],
          "histogram2dcontour": [
           {
            "colorbar": {
             "outlinewidth": 0,
             "ticks": ""
            },
            "colorscale": [
             [
              0,
              "#0d0887"
             ],
             [
              0.1111111111111111,
              "#46039f"
             ],
             [
              0.2222222222222222,
              "#7201a8"
             ],
             [
              0.3333333333333333,
              "#9c179e"
             ],
             [
              0.4444444444444444,
              "#bd3786"
             ],
             [
              0.5555555555555556,
              "#d8576b"
             ],
             [
              0.6666666666666666,
              "#ed7953"
             ],
             [
              0.7777777777777778,
              "#fb9f3a"
             ],
             [
              0.8888888888888888,
              "#fdca26"
             ],
             [
              1,
              "#f0f921"
             ]
            ],
            "type": "histogram2dcontour"
           }
          ],
          "mesh3d": [
           {
            "colorbar": {
             "outlinewidth": 0,
             "ticks": ""
            },
            "type": "mesh3d"
           }
          ],
          "parcoords": [
           {
            "line": {
             "colorbar": {
              "outlinewidth": 0,
              "ticks": ""
             }
            },
            "type": "parcoords"
           }
          ],
          "pie": [
           {
            "automargin": true,
            "type": "pie"
           }
          ],
          "scatter": [
           {
            "fillpattern": {
             "fillmode": "overlay",
             "size": 10,
             "solidity": 0.2
            },
            "type": "scatter"
           }
          ],
          "scatter3d": [
           {
            "line": {
             "colorbar": {
              "outlinewidth": 0,
              "ticks": ""
             }
            },
            "marker": {
             "colorbar": {
              "outlinewidth": 0,
              "ticks": ""
             }
            },
            "type": "scatter3d"
           }
          ],
          "scattercarpet": [
           {
            "marker": {
             "colorbar": {
              "outlinewidth": 0,
              "ticks": ""
             }
            },
            "type": "scattercarpet"
           }
          ],
          "scattergeo": [
           {
            "marker": {
             "colorbar": {
              "outlinewidth": 0,
              "ticks": ""
             }
            },
            "type": "scattergeo"
           }
          ],
          "scattergl": [
           {
            "marker": {
             "colorbar": {
              "outlinewidth": 0,
              "ticks": ""
             }
            },
            "type": "scattergl"
           }
          ],
          "scattermapbox": [
           {
            "marker": {
             "colorbar": {
              "outlinewidth": 0,
              "ticks": ""
             }
            },
            "type": "scattermapbox"
           }
          ],
          "scatterpolar": [
           {
            "marker": {
             "colorbar": {
              "outlinewidth": 0,
              "ticks": ""
             }
            },
            "type": "scatterpolar"
           }
          ],
          "scatterpolargl": [
           {
            "marker": {
             "colorbar": {
              "outlinewidth": 0,
              "ticks": ""
             }
            },
            "type": "scatterpolargl"
           }
          ],
          "scatterternary": [
           {
            "marker": {
             "colorbar": {
              "outlinewidth": 0,
              "ticks": ""
             }
            },
            "type": "scatterternary"
           }
          ],
          "surface": [
           {
            "colorbar": {
             "outlinewidth": 0,
             "ticks": ""
            },
            "colorscale": [
             [
              0,
              "#0d0887"
             ],
             [
              0.1111111111111111,
              "#46039f"
             ],
             [
              0.2222222222222222,
              "#7201a8"
             ],
             [
              0.3333333333333333,
              "#9c179e"
             ],
             [
              0.4444444444444444,
              "#bd3786"
             ],
             [
              0.5555555555555556,
              "#d8576b"
             ],
             [
              0.6666666666666666,
              "#ed7953"
             ],
             [
              0.7777777777777778,
              "#fb9f3a"
             ],
             [
              0.8888888888888888,
              "#fdca26"
             ],
             [
              1,
              "#f0f921"
             ]
            ],
            "type": "surface"
           }
          ],
          "table": [
           {
            "cells": {
             "fill": {
              "color": "#EBF0F8"
             },
             "line": {
              "color": "white"
             }
            },
            "header": {
             "fill": {
              "color": "#C8D4E3"
             },
             "line": {
              "color": "white"
             }
            },
            "type": "table"
           }
          ]
         },
         "layout": {
          "annotationdefaults": {
           "arrowcolor": "#2a3f5f",
           "arrowhead": 0,
           "arrowwidth": 1
          },
          "autotypenumbers": "strict",
          "coloraxis": {
           "colorbar": {
            "outlinewidth": 0,
            "ticks": ""
           }
          },
          "colorscale": {
           "diverging": [
            [
             0,
             "#8e0152"
            ],
            [
             0.1,
             "#c51b7d"
            ],
            [
             0.2,
             "#de77ae"
            ],
            [
             0.3,
             "#f1b6da"
            ],
            [
             0.4,
             "#fde0ef"
            ],
            [
             0.5,
             "#f7f7f7"
            ],
            [
             0.6,
             "#e6f5d0"
            ],
            [
             0.7,
             "#b8e186"
            ],
            [
             0.8,
             "#7fbc41"
            ],
            [
             0.9,
             "#4d9221"
            ],
            [
             1,
             "#276419"
            ]
           ],
           "sequential": [
            [
             0,
             "#0d0887"
            ],
            [
             0.1111111111111111,
             "#46039f"
            ],
            [
             0.2222222222222222,
             "#7201a8"
            ],
            [
             0.3333333333333333,
             "#9c179e"
            ],
            [
             0.4444444444444444,
             "#bd3786"
            ],
            [
             0.5555555555555556,
             "#d8576b"
            ],
            [
             0.6666666666666666,
             "#ed7953"
            ],
            [
             0.7777777777777778,
             "#fb9f3a"
            ],
            [
             0.8888888888888888,
             "#fdca26"
            ],
            [
             1,
             "#f0f921"
            ]
           ],
           "sequentialminus": [
            [
             0,
             "#0d0887"
            ],
            [
             0.1111111111111111,
             "#46039f"
            ],
            [
             0.2222222222222222,
             "#7201a8"
            ],
            [
             0.3333333333333333,
             "#9c179e"
            ],
            [
             0.4444444444444444,
             "#bd3786"
            ],
            [
             0.5555555555555556,
             "#d8576b"
            ],
            [
             0.6666666666666666,
             "#ed7953"
            ],
            [
             0.7777777777777778,
             "#fb9f3a"
            ],
            [
             0.8888888888888888,
             "#fdca26"
            ],
            [
             1,
             "#f0f921"
            ]
           ]
          },
          "colorway": [
           "#636efa",
           "#EF553B",
           "#00cc96",
           "#ab63fa",
           "#FFA15A",
           "#19d3f3",
           "#FF6692",
           "#B6E880",
           "#FF97FF",
           "#FECB52"
          ],
          "font": {
           "color": "#2a3f5f"
          },
          "geo": {
           "bgcolor": "white",
           "lakecolor": "white",
           "landcolor": "#E5ECF6",
           "showlakes": true,
           "showland": true,
           "subunitcolor": "white"
          },
          "hoverlabel": {
           "align": "left"
          },
          "hovermode": "closest",
          "mapbox": {
           "style": "light"
          },
          "paper_bgcolor": "white",
          "plot_bgcolor": "#E5ECF6",
          "polar": {
           "angularaxis": {
            "gridcolor": "white",
            "linecolor": "white",
            "ticks": ""
           },
           "bgcolor": "#E5ECF6",
           "radialaxis": {
            "gridcolor": "white",
            "linecolor": "white",
            "ticks": ""
           }
          },
          "scene": {
           "xaxis": {
            "backgroundcolor": "#E5ECF6",
            "gridcolor": "white",
            "gridwidth": 2,
            "linecolor": "white",
            "showbackground": true,
            "ticks": "",
            "zerolinecolor": "white"
           },
           "yaxis": {
            "backgroundcolor": "#E5ECF6",
            "gridcolor": "white",
            "gridwidth": 2,
            "linecolor": "white",
            "showbackground": true,
            "ticks": "",
            "zerolinecolor": "white"
           },
           "zaxis": {
            "backgroundcolor": "#E5ECF6",
            "gridcolor": "white",
            "gridwidth": 2,
            "linecolor": "white",
            "showbackground": true,
            "ticks": "",
            "zerolinecolor": "white"
           }
          },
          "shapedefaults": {
           "line": {
            "color": "#2a3f5f"
           }
          },
          "ternary": {
           "aaxis": {
            "gridcolor": "white",
            "linecolor": "white",
            "ticks": ""
           },
           "baxis": {
            "gridcolor": "white",
            "linecolor": "white",
            "ticks": ""
           },
           "bgcolor": "#E5ECF6",
           "caxis": {
            "gridcolor": "white",
            "linecolor": "white",
            "ticks": ""
           }
          },
          "title": {
           "x": 0.05
          },
          "xaxis": {
           "automargin": true,
           "gridcolor": "white",
           "linecolor": "white",
           "ticks": "",
           "title": {
            "standoff": 15
           },
           "zerolinecolor": "white",
           "zerolinewidth": 2
          },
          "yaxis": {
           "automargin": true,
           "gridcolor": "white",
           "linecolor": "white",
           "ticks": "",
           "title": {
            "standoff": 15
           },
           "zerolinecolor": "white",
           "zerolinewidth": 2
          }
         }
        },
        "title": {
         "text": "Long Term Seasonal Mean Soil Water Availibility"
        },
        "xaxis": {
         "anchor": "y",
         "domain": [
          0,
          1
         ],
         "title": {
          "text": "Year"
         }
        },
        "yaxis": {
         "anchor": "x",
         "domain": [
          0,
          1
         ],
         "title": {
          "text": "mean"
         }
        }
       }
      },
      "text/html": [
       "<div>                            <div id=\"057e8b36-55c5-4dd8-8bfe-f9e62e28eb12\" class=\"plotly-graph-div\" style=\"height:525px; width:100%;\"></div>            <script type=\"text/javascript\">                require([\"plotly\"], function(Plotly) {                    window.PLOTLYENV=window.PLOTLYENV || {};                                    if (document.getElementById(\"057e8b36-55c5-4dd8-8bfe-f9e62e28eb12\")) {                    Plotly.newPlot(                        \"057e8b36-55c5-4dd8-8bfe-f9e62e28eb12\",                        [{\"hovertemplate\":\"RCP=4.5\\u003cbr\\u003eYear=%{x}\\u003cbr\\u003emean=%{y}\\u003cextra\\u003e\\u003c\\u002fextra\\u003e\",\"legendgroup\":\"4.5\",\"line\":{\"color\":\"#636efa\",\"dash\":\"solid\"},\"marker\":{\"symbol\":\"circle\"},\"mode\":\"lines\",\"name\":\"4.5\",\"orientation\":\"v\",\"showlegend\":true,\"x\":[2060,2061,2062,2063,2064,2065,2066,2067,2068,2069,2070,2071,2072,2073,2074,2075,2076,2077,2078,2079,2080,2081,2082,2083,2084,2085,2086,2087,2088,2089,2090,2091,2092,2093,2094,2095,2096,2097,2098,2099],\"xaxis\":\"x\",\"y\":[3.143449798176812,2.9102088471825525,2.7077676815969838,2.6962926086594283,2.9130936173644666,2.5938498717988296,2.5500110464780015,2.744390134681708,2.426661648016289,2.338812568889998,2.6804140410859754,2.6050902643075498,2.3998082193451378,2.6279879750940176,2.7540218869076805,2.1242657355331436,2.3338104861126885,2.9136750200738994,3.2672816792865644,3.1535309575193033,2.780794566297254,2.360955564616231,2.6316917223998875,2.438783172467136,2.4915655465704205,2.677177751295366,2.3322170264711515,2.575832523619703,3.1435377743728963,2.8431896799898837,3.0034063384892233,2.908365918295304,2.559299998120086,2.550723823677196,2.5048664162650347,2.757408957085936,2.7290235886388836,3.052880895139622,3.2059510109254923,2.951837090840733],\"yaxis\":\"y\",\"type\":\"scatter\"},{\"hovertemplate\":\"RCP=8.5\\u003cbr\\u003eYear=%{x}\\u003cbr\\u003emean=%{y}\\u003cextra\\u003e\\u003c\\u002fextra\\u003e\",\"legendgroup\":\"8.5\",\"line\":{\"color\":\"#EF553B\",\"dash\":\"solid\"},\"marker\":{\"symbol\":\"circle\"},\"mode\":\"lines\",\"name\":\"8.5\",\"orientation\":\"v\",\"showlegend\":true,\"x\":[2060,2061,2062,2063,2064,2065,2066,2067,2068,2069,2070,2071,2072,2073,2074,2075,2076,2077,2078,2079,2080,2081,2082,2083,2084,2085,2086,2087,2088,2089,2090,2091,2092,2093,2094,2095,2096,2097,2098,2099],\"xaxis\":\"x\",\"y\":[2.712694367937013,2.820456815085727,2.5090896267661464,2.525823346101515,2.536722254351125,2.4860662854435467,2.7694645313378827,2.6984419048844086,2.461297786431495,2.3944315610495313,2.6731894446857654,2.714946347850628,2.8479357660214264,2.970547565060872,2.9417202530092923,2.7500368233175223,2.891583383196011,2.8513153397787385,2.4386285269781585,2.8744215872607763,2.8852449536934444,3.0123627009028104,2.7526800827554734,2.6663004665228414,2.7347758642897646,2.9064778679190058,2.9550825714403177,3.013421497039642,2.9192478207946797,2.9873946841265715,3.0816835655615202,3.1350588552286616,2.7840946853926876,2.639581720252401,2.9994679968383653,2.9486117033776846,2.446105543502802,2.7397030751726392,2.615187478960511,2.890854361818399],\"yaxis\":\"y\",\"type\":\"scatter\"},{\"hovertemplate\":\"RCP=historical\\u003cbr\\u003eYear=%{x}\\u003cbr\\u003emean=%{y}\\u003cextra\\u003e\\u003c\\u002fextra\\u003e\",\"legendgroup\":\"historical\",\"line\":{\"color\":\"#00cc96\",\"dash\":\"solid\"},\"marker\":{\"symbol\":\"circle\"},\"mode\":\"lines\",\"name\":\"historical\",\"orientation\":\"v\",\"showlegend\":false,\"x\":[2060,2061,2062,2063,2064,2065,2066,2067,2068,2069,2070,2071,2072,2073,2074,2075,2076,2077,2078,2079,2080,2081,2082,2083,2084,2085,2086,2087,2088,2089,2090,2091,2092,2093,2094,2095,2096,2097,2098,2099],\"xaxis\":\"x\",\"y\":[null,null,null,null,null,null,null,null,null,null,null,null,null,null,null,null,null,null,null,null,null,null,null,null,null,null,null,null,null,null,null,null,null,null,null,null,null,null,null,null],\"yaxis\":\"y\",\"type\":\"scatter\"}],                        {\"template\":{\"data\":{\"histogram2dcontour\":[{\"type\":\"histogram2dcontour\",\"colorbar\":{\"outlinewidth\":0,\"ticks\":\"\"},\"colorscale\":[[0.0,\"#0d0887\"],[0.1111111111111111,\"#46039f\"],[0.2222222222222222,\"#7201a8\"],[0.3333333333333333,\"#9c179e\"],[0.4444444444444444,\"#bd3786\"],[0.5555555555555556,\"#d8576b\"],[0.6666666666666666,\"#ed7953\"],[0.7777777777777778,\"#fb9f3a\"],[0.8888888888888888,\"#fdca26\"],[1.0,\"#f0f921\"]]}],\"choropleth\":[{\"type\":\"choropleth\",\"colorbar\":{\"outlinewidth\":0,\"ticks\":\"\"}}],\"histogram2d\":[{\"type\":\"histogram2d\",\"colorbar\":{\"outlinewidth\":0,\"ticks\":\"\"},\"colorscale\":[[0.0,\"#0d0887\"],[0.1111111111111111,\"#46039f\"],[0.2222222222222222,\"#7201a8\"],[0.3333333333333333,\"#9c179e\"],[0.4444444444444444,\"#bd3786\"],[0.5555555555555556,\"#d8576b\"],[0.6666666666666666,\"#ed7953\"],[0.7777777777777778,\"#fb9f3a\"],[0.8888888888888888,\"#fdca26\"],[1.0,\"#f0f921\"]]}],\"heatmap\":[{\"type\":\"heatmap\",\"colorbar\":{\"outlinewidth\":0,\"ticks\":\"\"},\"colorscale\":[[0.0,\"#0d0887\"],[0.1111111111111111,\"#46039f\"],[0.2222222222222222,\"#7201a8\"],[0.3333333333333333,\"#9c179e\"],[0.4444444444444444,\"#bd3786\"],[0.5555555555555556,\"#d8576b\"],[0.6666666666666666,\"#ed7953\"],[0.7777777777777778,\"#fb9f3a\"],[0.8888888888888888,\"#fdca26\"],[1.0,\"#f0f921\"]]}],\"heatmapgl\":[{\"type\":\"heatmapgl\",\"colorbar\":{\"outlinewidth\":0,\"ticks\":\"\"},\"colorscale\":[[0.0,\"#0d0887\"],[0.1111111111111111,\"#46039f\"],[0.2222222222222222,\"#7201a8\"],[0.3333333333333333,\"#9c179e\"],[0.4444444444444444,\"#bd3786\"],[0.5555555555555556,\"#d8576b\"],[0.6666666666666666,\"#ed7953\"],[0.7777777777777778,\"#fb9f3a\"],[0.8888888888888888,\"#fdca26\"],[1.0,\"#f0f921\"]]}],\"contourcarpet\":[{\"type\":\"contourcarpet\",\"colorbar\":{\"outlinewidth\":0,\"ticks\":\"\"}}],\"contour\":[{\"type\":\"contour\",\"colorbar\":{\"outlinewidth\":0,\"ticks\":\"\"},\"colorscale\":[[0.0,\"#0d0887\"],[0.1111111111111111,\"#46039f\"],[0.2222222222222222,\"#7201a8\"],[0.3333333333333333,\"#9c179e\"],[0.4444444444444444,\"#bd3786\"],[0.5555555555555556,\"#d8576b\"],[0.6666666666666666,\"#ed7953\"],[0.7777777777777778,\"#fb9f3a\"],[0.8888888888888888,\"#fdca26\"],[1.0,\"#f0f921\"]]}],\"surface\":[{\"type\":\"surface\",\"colorbar\":{\"outlinewidth\":0,\"ticks\":\"\"},\"colorscale\":[[0.0,\"#0d0887\"],[0.1111111111111111,\"#46039f\"],[0.2222222222222222,\"#7201a8\"],[0.3333333333333333,\"#9c179e\"],[0.4444444444444444,\"#bd3786\"],[0.5555555555555556,\"#d8576b\"],[0.6666666666666666,\"#ed7953\"],[0.7777777777777778,\"#fb9f3a\"],[0.8888888888888888,\"#fdca26\"],[1.0,\"#f0f921\"]]}],\"mesh3d\":[{\"type\":\"mesh3d\",\"colorbar\":{\"outlinewidth\":0,\"ticks\":\"\"}}],\"scatter\":[{\"fillpattern\":{\"fillmode\":\"overlay\",\"size\":10,\"solidity\":0.2},\"type\":\"scatter\"}],\"parcoords\":[{\"type\":\"parcoords\",\"line\":{\"colorbar\":{\"outlinewidth\":0,\"ticks\":\"\"}}}],\"scatterpolargl\":[{\"type\":\"scatterpolargl\",\"marker\":{\"colorbar\":{\"outlinewidth\":0,\"ticks\":\"\"}}}],\"bar\":[{\"error_x\":{\"color\":\"#2a3f5f\"},\"error_y\":{\"color\":\"#2a3f5f\"},\"marker\":{\"line\":{\"color\":\"#E5ECF6\",\"width\":0.5},\"pattern\":{\"fillmode\":\"overlay\",\"size\":10,\"solidity\":0.2}},\"type\":\"bar\"}],\"scattergeo\":[{\"type\":\"scattergeo\",\"marker\":{\"colorbar\":{\"outlinewidth\":0,\"ticks\":\"\"}}}],\"scatterpolar\":[{\"type\":\"scatterpolar\",\"marker\":{\"colorbar\":{\"outlinewidth\":0,\"ticks\":\"\"}}}],\"histogram\":[{\"marker\":{\"pattern\":{\"fillmode\":\"overlay\",\"size\":10,\"solidity\":0.2}},\"type\":\"histogram\"}],\"scattergl\":[{\"type\":\"scattergl\",\"marker\":{\"colorbar\":{\"outlinewidth\":0,\"ticks\":\"\"}}}],\"scatter3d\":[{\"type\":\"scatter3d\",\"line\":{\"colorbar\":{\"outlinewidth\":0,\"ticks\":\"\"}},\"marker\":{\"colorbar\":{\"outlinewidth\":0,\"ticks\":\"\"}}}],\"scattermapbox\":[{\"type\":\"scattermapbox\",\"marker\":{\"colorbar\":{\"outlinewidth\":0,\"ticks\":\"\"}}}],\"scatterternary\":[{\"type\":\"scatterternary\",\"marker\":{\"colorbar\":{\"outlinewidth\":0,\"ticks\":\"\"}}}],\"scattercarpet\":[{\"type\":\"scattercarpet\",\"marker\":{\"colorbar\":{\"outlinewidth\":0,\"ticks\":\"\"}}}],\"carpet\":[{\"aaxis\":{\"endlinecolor\":\"#2a3f5f\",\"gridcolor\":\"white\",\"linecolor\":\"white\",\"minorgridcolor\":\"white\",\"startlinecolor\":\"#2a3f5f\"},\"baxis\":{\"endlinecolor\":\"#2a3f5f\",\"gridcolor\":\"white\",\"linecolor\":\"white\",\"minorgridcolor\":\"white\",\"startlinecolor\":\"#2a3f5f\"},\"type\":\"carpet\"}],\"table\":[{\"cells\":{\"fill\":{\"color\":\"#EBF0F8\"},\"line\":{\"color\":\"white\"}},\"header\":{\"fill\":{\"color\":\"#C8D4E3\"},\"line\":{\"color\":\"white\"}},\"type\":\"table\"}],\"barpolar\":[{\"marker\":{\"line\":{\"color\":\"#E5ECF6\",\"width\":0.5},\"pattern\":{\"fillmode\":\"overlay\",\"size\":10,\"solidity\":0.2}},\"type\":\"barpolar\"}],\"pie\":[{\"automargin\":true,\"type\":\"pie\"}]},\"layout\":{\"autotypenumbers\":\"strict\",\"colorway\":[\"#636efa\",\"#EF553B\",\"#00cc96\",\"#ab63fa\",\"#FFA15A\",\"#19d3f3\",\"#FF6692\",\"#B6E880\",\"#FF97FF\",\"#FECB52\"],\"font\":{\"color\":\"#2a3f5f\"},\"hovermode\":\"closest\",\"hoverlabel\":{\"align\":\"left\"},\"paper_bgcolor\":\"white\",\"plot_bgcolor\":\"#E5ECF6\",\"polar\":{\"bgcolor\":\"#E5ECF6\",\"angularaxis\":{\"gridcolor\":\"white\",\"linecolor\":\"white\",\"ticks\":\"\"},\"radialaxis\":{\"gridcolor\":\"white\",\"linecolor\":\"white\",\"ticks\":\"\"}},\"ternary\":{\"bgcolor\":\"#E5ECF6\",\"aaxis\":{\"gridcolor\":\"white\",\"linecolor\":\"white\",\"ticks\":\"\"},\"baxis\":{\"gridcolor\":\"white\",\"linecolor\":\"white\",\"ticks\":\"\"},\"caxis\":{\"gridcolor\":\"white\",\"linecolor\":\"white\",\"ticks\":\"\"}},\"coloraxis\":{\"colorbar\":{\"outlinewidth\":0,\"ticks\":\"\"}},\"colorscale\":{\"sequential\":[[0.0,\"#0d0887\"],[0.1111111111111111,\"#46039f\"],[0.2222222222222222,\"#7201a8\"],[0.3333333333333333,\"#9c179e\"],[0.4444444444444444,\"#bd3786\"],[0.5555555555555556,\"#d8576b\"],[0.6666666666666666,\"#ed7953\"],[0.7777777777777778,\"#fb9f3a\"],[0.8888888888888888,\"#fdca26\"],[1.0,\"#f0f921\"]],\"sequentialminus\":[[0.0,\"#0d0887\"],[0.1111111111111111,\"#46039f\"],[0.2222222222222222,\"#7201a8\"],[0.3333333333333333,\"#9c179e\"],[0.4444444444444444,\"#bd3786\"],[0.5555555555555556,\"#d8576b\"],[0.6666666666666666,\"#ed7953\"],[0.7777777777777778,\"#fb9f3a\"],[0.8888888888888888,\"#fdca26\"],[1.0,\"#f0f921\"]],\"diverging\":[[0,\"#8e0152\"],[0.1,\"#c51b7d\"],[0.2,\"#de77ae\"],[0.3,\"#f1b6da\"],[0.4,\"#fde0ef\"],[0.5,\"#f7f7f7\"],[0.6,\"#e6f5d0\"],[0.7,\"#b8e186\"],[0.8,\"#7fbc41\"],[0.9,\"#4d9221\"],[1,\"#276419\"]]},\"xaxis\":{\"gridcolor\":\"white\",\"linecolor\":\"white\",\"ticks\":\"\",\"title\":{\"standoff\":15},\"zerolinecolor\":\"white\",\"automargin\":true,\"zerolinewidth\":2},\"yaxis\":{\"gridcolor\":\"white\",\"linecolor\":\"white\",\"ticks\":\"\",\"title\":{\"standoff\":15},\"zerolinecolor\":\"white\",\"automargin\":true,\"zerolinewidth\":2},\"scene\":{\"xaxis\":{\"backgroundcolor\":\"#E5ECF6\",\"gridcolor\":\"white\",\"linecolor\":\"white\",\"showbackground\":true,\"ticks\":\"\",\"zerolinecolor\":\"white\",\"gridwidth\":2},\"yaxis\":{\"backgroundcolor\":\"#E5ECF6\",\"gridcolor\":\"white\",\"linecolor\":\"white\",\"showbackground\":true,\"ticks\":\"\",\"zerolinecolor\":\"white\",\"gridwidth\":2},\"zaxis\":{\"backgroundcolor\":\"#E5ECF6\",\"gridcolor\":\"white\",\"linecolor\":\"white\",\"showbackground\":true,\"ticks\":\"\",\"zerolinecolor\":\"white\",\"gridwidth\":2}},\"shapedefaults\":{\"line\":{\"color\":\"#2a3f5f\"}},\"annotationdefaults\":{\"arrowcolor\":\"#2a3f5f\",\"arrowhead\":0,\"arrowwidth\":1},\"geo\":{\"bgcolor\":\"white\",\"landcolor\":\"#E5ECF6\",\"subunitcolor\":\"white\",\"showland\":true,\"showlakes\":true,\"lakecolor\":\"white\"},\"title\":{\"x\":0.05},\"mapbox\":{\"style\":\"light\"}}},\"xaxis\":{\"anchor\":\"y\",\"domain\":[0.0,1.0],\"title\":{\"text\":\"Year\"}},\"yaxis\":{\"anchor\":\"x\",\"domain\":[0.0,1.0],\"title\":{\"text\":\"mean\"}},\"legend\":{\"title\":{\"text\":\"RCP\"},\"tracegroupgap\":0},\"title\":{\"text\":\"Long Term Seasonal Mean Soil Water Availibility\"}},                        {\"responsive\": true}                    ).then(function(){\n",
       "                            \n",
       "var gd = document.getElementById('057e8b36-55c5-4dd8-8bfe-f9e62e28eb12');\n",
       "var x = new MutationObserver(function (mutations, observer) {{\n",
       "        var display = window.getComputedStyle(gd).display;\n",
       "        if (!display || display === 'none') {{\n",
       "            console.log([gd, 'removed!']);\n",
       "            Plotly.purge(gd);\n",
       "            observer.disconnect();\n",
       "        }}\n",
       "}});\n",
       "\n",
       "// Listen for the removal of the full notebook cells\n",
       "var notebookContainer = gd.closest('#notebook-container');\n",
       "if (notebookContainer) {{\n",
       "    x.observe(notebookContainer, {childList: true});\n",
       "}}\n",
       "\n",
       "// Listen for the clearing of the current output cell\n",
       "var outputEl = gd.closest('.output');\n",
       "if (outputEl) {{\n",
       "    x.observe(outputEl, {childList: true});\n",
       "}}\n",
       "\n",
       "                        })                };                });            </script>        </div>"
      ]
     },
     "metadata": {},
     "output_type": "display_data"
    }
   ],
   "source": [
    "#plot Annual Precipitation\n",
    "# set temp df for plot\n",
    "plot_df = df[df['TimePeriod'] == 'LT']\n",
    "plot_df['mean'] = plot_df[['SWA_Winter_whole', 'SWA_Spring_whole', 'SWA_Summer_whole', 'SWA_Fall_whole']].mean(axis = 1)\n",
    "# find mean SWA of all collection site per year\n",
    "plot_df = plot_df.groupby(['year', 'RCP'])['mean'].mean().reset_index()\n",
    "#plotly plot\n",
    "fig = px.line(plot_df,\n",
    "              x='year',\n",
    "              y='mean',\n",
    "              color= 'RCP',\n",
    "              title='Long Term Seasonal Mean Soil Water Availibility',\n",
    "              labels={\n",
    "                     \"year\": \"Year\",\n",
    "                     \"Tmax_Summer\": \"Water (CM)\"\n",
    "                 }\n",
    "              )\n",
    "#remove hist from legend\n",
    "for trace in fig.data:\n",
    "    if trace.name == 'historical':\n",
    "        trace.showlegend = False\n",
    "#print fig\n",
    "fig.show()"
   ]
  },
  {
   "cell_type": "markdown",
   "metadata": {},
   "source": [
    "#"
   ]
  },
  {
   "cell_type": "code",
   "execution_count": 68,
   "metadata": {},
   "outputs": [
    {
     "data": {
      "application/vnd.plotly.v1+json": {
       "config": {
        "plotlyServerURL": "https://plot.ly"
       },
       "data": [
        {
         "hovertemplate": "RCP=4.5<br>Year=%{x}<br>WetSoilDays_Summer_top50=%{y}<extra></extra>",
         "legendgroup": "4.5",
         "marker": {
          "color": "#636efa",
          "symbol": "circle"
         },
         "mode": "lines",
         "name": "4.5",
         "orientation": "v",
         "showlegend": true,
         "type": "scatter",
         "x": [
          2021,
          2022,
          2023,
          2024,
          2025,
          2026,
          2027,
          2028,
          2029,
          2030,
          2031,
          2032,
          2033,
          2034,
          2035,
          2036,
          2037,
          2038,
          2039,
          2040,
          2041,
          2042,
          2043,
          2044,
          2045,
          2046,
          2047,
          2048,
          2049,
          2050,
          2051,
          2052,
          2053,
          2054,
          2055,
          2056,
          2057,
          2058,
          2059
         ],
         "xaxis": "x",
         "y": [
          13.323008849557523,
          12.259734513274337,
          14.336725663716814,
          17.159734513274337,
          12.841150442477876,
          15.625221238938053,
          18.098230088495576,
          10.693362831858407,
          17.55575221238938,
          18.821238938053096,
          15.613716814159291,
          15.913716814159292,
          15.575221238938052,
          18.05796460176991,
          14.956194690265487,
          17.217699115044248,
          15.57212389380531,
          13.940265486725664,
          16.77212389380531,
          13.237610619469027,
          13.83362831858407,
          16.89778761061947,
          18.23716814159292,
          18.470353982300885,
          12.194690265486726,
          14.59867256637168,
          17.128318584070797,
          16.833628318584072,
          14.525221238938054,
          20.470353982300885,
          15.56150442477876,
          20.514601769911504,
          18.055309734513273,
          16.55265486725664,
          19.96150442477876,
          13.126106194690266,
          19.314601769911505,
          19.098672566371683,
          16.96061946902655
         ],
         "yaxis": "y"
        },
        {
         "hovertemplate": "<b>OLS trendline</b><br>WetSoilDays_Summer_top50 = 0.0878129 * year + -162.987<br>R<sup>2</sup>=0.169319<br><br>RCP=4.5<br>Year=%{x}<br>WetSoilDays_Summer_top50=%{y} <b>(trend)</b><extra></extra>",
         "legendgroup": "4.5",
         "line": {
          "dash": "dot",
          "width": 1
         },
         "marker": {
          "color": "#636efa",
          "symbol": "circle"
         },
         "mode": "lines",
         "name": "4.5",
         "showlegend": false,
         "type": "scatter",
         "x": [
          2021,
          2022,
          2023,
          2024,
          2025,
          2026,
          2027,
          2028,
          2029,
          2030,
          2031,
          2032,
          2033,
          2034,
          2035,
          2036,
          2037,
          2038,
          2039,
          2040,
          2041,
          2042,
          2043,
          2044,
          2045,
          2046,
          2047,
          2048,
          2049,
          2050,
          2051,
          2052,
          2053,
          2054,
          2055,
          2056,
          2057,
          2058,
          2059
         ],
         "xaxis": "x",
         "y": [
          14.482996369412433,
          14.570809238890405,
          14.658622108368405,
          14.746434977846377,
          14.834247847324349,
          14.92206071680235,
          15.009873586280321,
          15.097686455758321,
          15.185499325236293,
          15.273312194714265,
          15.361125064192265,
          15.448937933670237,
          15.536750803148237,
          15.62456367262621,
          15.71237654210421,
          15.800189411582181,
          15.888002281060153,
          15.975815150538153,
          16.063628020016125,
          16.151440889494125,
          16.239253758972097,
          16.32706662845007,
          16.41487949792807,
          16.50269236740604,
          16.59050523688404,
          16.678318106362013,
          16.766130975840014,
          16.853943845317986,
          16.941756714795957,
          17.029569584273958,
          17.11738245375193,
          17.20519532322993,
          17.2930081927079,
          17.380821062185902,
          17.468633931663874,
          17.556446801141846,
          17.644259670619846,
          17.732072540097818,
          17.819885409575818
         ],
         "yaxis": "y"
        },
        {
         "hovertemplate": "RCP=8.5<br>Year=%{x}<br>WetSoilDays_Summer_top50=%{y}<extra></extra>",
         "legendgroup": "8.5",
         "marker": {
          "color": "#EF553B",
          "symbol": "circle"
         },
         "mode": "lines",
         "name": "8.5",
         "orientation": "v",
         "showlegend": true,
         "type": "scatter",
         "x": [
          2021,
          2022,
          2023,
          2024,
          2025,
          2026,
          2027,
          2028,
          2029,
          2030,
          2031,
          2032,
          2033,
          2034,
          2035,
          2036,
          2037,
          2038,
          2039,
          2040,
          2041,
          2042,
          2043,
          2044,
          2045,
          2046,
          2047,
          2048,
          2049,
          2050,
          2051,
          2052,
          2053,
          2054,
          2055,
          2056,
          2057,
          2058,
          2059
         ],
         "xaxis": "x",
         "y": [
          16.925221238938054,
          13.76061946902655,
          22.51991150442478,
          10.669911504424778,
          20.361946902654868,
          11.15929203539823,
          21.613274336283187,
          15.174778761061948,
          15.361061946902655,
          13.51858407079646,
          16.18716814159292,
          22.23141592920354,
          16.73362831858407,
          13.461061946902655,
          16.412389380530975,
          17.528318584070796,
          16.619026548672565,
          15.414601769911505,
          14.137610619469026,
          16.945575221238936,
          17.807079646017698,
          12.163716814159292,
          13.993805309734514,
          15.515929203539823,
          20.56504424778761,
          18.753982300884957,
          22.72212389380531,
          21.371238938053096,
          19.223893805309736,
          18.5212389380531,
          19.78938053097345,
          23.192477876106196,
          23.56991150442478,
          19.712389380530972,
          16.644690265486727,
          15.776106194690266,
          17.02212389380531,
          17.36061946902655,
          17.000442477876106
         ],
         "yaxis": "y"
        },
        {
         "hovertemplate": "<b>OLS trendline</b><br>WetSoilDays_Summer_top50 = 0.0880504 * year + -162.253<br>R<sup>2</sup>=0.090927<br><br>RCP=8.5<br>Year=%{x}<br>WetSoilDays_Summer_top50=%{y} <b>(trend)</b><extra></extra>",
         "legendgroup": "8.5",
         "line": {
          "dash": "dot",
          "width": 1
         },
         "marker": {
          "color": "#EF553B",
          "symbol": "circle"
         },
         "mode": "lines",
         "name": "8.5",
         "showlegend": false,
         "type": "scatter",
         "x": [
          2021,
          2022,
          2023,
          2024,
          2025,
          2026,
          2027,
          2028,
          2029,
          2030,
          2031,
          2032,
          2033,
          2034,
          2035,
          2036,
          2037,
          2038,
          2039,
          2040,
          2041,
          2042,
          2043,
          2044,
          2045,
          2046,
          2047,
          2048,
          2049,
          2050,
          2051,
          2052,
          2053,
          2054,
          2055,
          2056,
          2057,
          2058,
          2059
         ],
         "xaxis": "x",
         "y": [
          15.697339459950115,
          15.785389870182627,
          15.873440280415167,
          15.961490690647679,
          16.04954110088022,
          16.13759151111273,
          16.22564192134527,
          16.313692331577784,
          16.401742741810324,
          16.489793152042836,
          16.577843562275376,
          16.665893972507888,
          16.75394438274043,
          16.84199479297294,
          16.93004520320548,
          17.018095613437993,
          17.106146023670533,
          17.194196433903045,
          17.282246844135585,
          17.370297254368097,
          17.458347664600637,
          17.54639807483315,
          17.63444848506569,
          17.7224988952982,
          17.810549305530742,
          17.898599715763254,
          17.986650125995794,
          18.074700536228306,
          18.162750946460818,
          18.25080135669336,
          18.33885176692587,
          18.42690217715841,
          18.514952587390923,
          18.603002997623463,
          18.691053407855975,
          18.779103818088515,
          18.867154228321027,
          18.955204638553568,
          19.04325504878608
         ],
         "yaxis": "y"
        },
        {
         "hovertemplate": "RCP=historical<br>Year=%{x}<br>WetSoilDays_Summer_top50=%{y}<extra></extra>",
         "legendgroup": "historical",
         "marker": {
          "color": "#00cc96",
          "symbol": "circle"
         },
         "mode": "lines",
         "name": "historical",
         "orientation": "v",
         "showlegend": false,
         "type": "scatter",
         "x": [
          2021,
          2022,
          2023,
          2024,
          2025,
          2026,
          2027,
          2028,
          2029,
          2030,
          2031,
          2032,
          2033,
          2034,
          2035,
          2036,
          2037,
          2038,
          2039,
          2040,
          2041,
          2042,
          2043,
          2044,
          2045,
          2046,
          2047,
          2048,
          2049,
          2050,
          2051,
          2052,
          2053,
          2054,
          2055,
          2056,
          2057,
          2058,
          2059
         ],
         "xaxis": "x",
         "y": [
          null,
          null,
          null,
          null,
          null,
          null,
          null,
          null,
          null,
          null,
          null,
          null,
          null,
          null,
          null,
          null,
          null,
          null,
          null,
          null,
          null,
          null,
          null,
          null,
          null,
          null,
          null,
          null,
          null,
          null,
          null,
          null,
          null,
          null,
          null,
          null,
          null,
          null,
          null
         ],
         "yaxis": "y"
        },
        {
         "hovertemplate": "RCP=historical<extra></extra>",
         "legendgroup": "historical",
         "marker": {
          "color": "#00cc96",
          "symbol": "circle"
         },
         "mode": "lines",
         "name": "historical",
         "showlegend": false,
         "type": "scatter",
         "xaxis": "x",
         "yaxis": "y"
        }
       ],
       "layout": {
        "legend": {
         "title": {
          "text": "RCP"
         },
         "tracegroupgap": 0
        },
        "template": {
         "data": {
          "bar": [
           {
            "error_x": {
             "color": "#2a3f5f"
            },
            "error_y": {
             "color": "#2a3f5f"
            },
            "marker": {
             "line": {
              "color": "#E5ECF6",
              "width": 0.5
             },
             "pattern": {
              "fillmode": "overlay",
              "size": 10,
              "solidity": 0.2
             }
            },
            "type": "bar"
           }
          ],
          "barpolar": [
           {
            "marker": {
             "line": {
              "color": "#E5ECF6",
              "width": 0.5
             },
             "pattern": {
              "fillmode": "overlay",
              "size": 10,
              "solidity": 0.2
             }
            },
            "type": "barpolar"
           }
          ],
          "carpet": [
           {
            "aaxis": {
             "endlinecolor": "#2a3f5f",
             "gridcolor": "white",
             "linecolor": "white",
             "minorgridcolor": "white",
             "startlinecolor": "#2a3f5f"
            },
            "baxis": {
             "endlinecolor": "#2a3f5f",
             "gridcolor": "white",
             "linecolor": "white",
             "minorgridcolor": "white",
             "startlinecolor": "#2a3f5f"
            },
            "type": "carpet"
           }
          ],
          "choropleth": [
           {
            "colorbar": {
             "outlinewidth": 0,
             "ticks": ""
            },
            "type": "choropleth"
           }
          ],
          "contour": [
           {
            "colorbar": {
             "outlinewidth": 0,
             "ticks": ""
            },
            "colorscale": [
             [
              0,
              "#0d0887"
             ],
             [
              0.1111111111111111,
              "#46039f"
             ],
             [
              0.2222222222222222,
              "#7201a8"
             ],
             [
              0.3333333333333333,
              "#9c179e"
             ],
             [
              0.4444444444444444,
              "#bd3786"
             ],
             [
              0.5555555555555556,
              "#d8576b"
             ],
             [
              0.6666666666666666,
              "#ed7953"
             ],
             [
              0.7777777777777778,
              "#fb9f3a"
             ],
             [
              0.8888888888888888,
              "#fdca26"
             ],
             [
              1,
              "#f0f921"
             ]
            ],
            "type": "contour"
           }
          ],
          "contourcarpet": [
           {
            "colorbar": {
             "outlinewidth": 0,
             "ticks": ""
            },
            "type": "contourcarpet"
           }
          ],
          "heatmap": [
           {
            "colorbar": {
             "outlinewidth": 0,
             "ticks": ""
            },
            "colorscale": [
             [
              0,
              "#0d0887"
             ],
             [
              0.1111111111111111,
              "#46039f"
             ],
             [
              0.2222222222222222,
              "#7201a8"
             ],
             [
              0.3333333333333333,
              "#9c179e"
             ],
             [
              0.4444444444444444,
              "#bd3786"
             ],
             [
              0.5555555555555556,
              "#d8576b"
             ],
             [
              0.6666666666666666,
              "#ed7953"
             ],
             [
              0.7777777777777778,
              "#fb9f3a"
             ],
             [
              0.8888888888888888,
              "#fdca26"
             ],
             [
              1,
              "#f0f921"
             ]
            ],
            "type": "heatmap"
           }
          ],
          "heatmapgl": [
           {
            "colorbar": {
             "outlinewidth": 0,
             "ticks": ""
            },
            "colorscale": [
             [
              0,
              "#0d0887"
             ],
             [
              0.1111111111111111,
              "#46039f"
             ],
             [
              0.2222222222222222,
              "#7201a8"
             ],
             [
              0.3333333333333333,
              "#9c179e"
             ],
             [
              0.4444444444444444,
              "#bd3786"
             ],
             [
              0.5555555555555556,
              "#d8576b"
             ],
             [
              0.6666666666666666,
              "#ed7953"
             ],
             [
              0.7777777777777778,
              "#fb9f3a"
             ],
             [
              0.8888888888888888,
              "#fdca26"
             ],
             [
              1,
              "#f0f921"
             ]
            ],
            "type": "heatmapgl"
           }
          ],
          "histogram": [
           {
            "marker": {
             "pattern": {
              "fillmode": "overlay",
              "size": 10,
              "solidity": 0.2
             }
            },
            "type": "histogram"
           }
          ],
          "histogram2d": [
           {
            "colorbar": {
             "outlinewidth": 0,
             "ticks": ""
            },
            "colorscale": [
             [
              0,
              "#0d0887"
             ],
             [
              0.1111111111111111,
              "#46039f"
             ],
             [
              0.2222222222222222,
              "#7201a8"
             ],
             [
              0.3333333333333333,
              "#9c179e"
             ],
             [
              0.4444444444444444,
              "#bd3786"
             ],
             [
              0.5555555555555556,
              "#d8576b"
             ],
             [
              0.6666666666666666,
              "#ed7953"
             ],
             [
              0.7777777777777778,
              "#fb9f3a"
             ],
             [
              0.8888888888888888,
              "#fdca26"
             ],
             [
              1,
              "#f0f921"
             ]
            ],
            "type": "histogram2d"
           }
          ],
          "histogram2dcontour": [
           {
            "colorbar": {
             "outlinewidth": 0,
             "ticks": ""
            },
            "colorscale": [
             [
              0,
              "#0d0887"
             ],
             [
              0.1111111111111111,
              "#46039f"
             ],
             [
              0.2222222222222222,
              "#7201a8"
             ],
             [
              0.3333333333333333,
              "#9c179e"
             ],
             [
              0.4444444444444444,
              "#bd3786"
             ],
             [
              0.5555555555555556,
              "#d8576b"
             ],
             [
              0.6666666666666666,
              "#ed7953"
             ],
             [
              0.7777777777777778,
              "#fb9f3a"
             ],
             [
              0.8888888888888888,
              "#fdca26"
             ],
             [
              1,
              "#f0f921"
             ]
            ],
            "type": "histogram2dcontour"
           }
          ],
          "mesh3d": [
           {
            "colorbar": {
             "outlinewidth": 0,
             "ticks": ""
            },
            "type": "mesh3d"
           }
          ],
          "parcoords": [
           {
            "line": {
             "colorbar": {
              "outlinewidth": 0,
              "ticks": ""
             }
            },
            "type": "parcoords"
           }
          ],
          "pie": [
           {
            "automargin": true,
            "type": "pie"
           }
          ],
          "scatter": [
           {
            "fillpattern": {
             "fillmode": "overlay",
             "size": 10,
             "solidity": 0.2
            },
            "type": "scatter"
           }
          ],
          "scatter3d": [
           {
            "line": {
             "colorbar": {
              "outlinewidth": 0,
              "ticks": ""
             }
            },
            "marker": {
             "colorbar": {
              "outlinewidth": 0,
              "ticks": ""
             }
            },
            "type": "scatter3d"
           }
          ],
          "scattercarpet": [
           {
            "marker": {
             "colorbar": {
              "outlinewidth": 0,
              "ticks": ""
             }
            },
            "type": "scattercarpet"
           }
          ],
          "scattergeo": [
           {
            "marker": {
             "colorbar": {
              "outlinewidth": 0,
              "ticks": ""
             }
            },
            "type": "scattergeo"
           }
          ],
          "scattergl": [
           {
            "marker": {
             "colorbar": {
              "outlinewidth": 0,
              "ticks": ""
             }
            },
            "type": "scattergl"
           }
          ],
          "scattermapbox": [
           {
            "marker": {
             "colorbar": {
              "outlinewidth": 0,
              "ticks": ""
             }
            },
            "type": "scattermapbox"
           }
          ],
          "scatterpolar": [
           {
            "marker": {
             "colorbar": {
              "outlinewidth": 0,
              "ticks": ""
             }
            },
            "type": "scatterpolar"
           }
          ],
          "scatterpolargl": [
           {
            "marker": {
             "colorbar": {
              "outlinewidth": 0,
              "ticks": ""
             }
            },
            "type": "scatterpolargl"
           }
          ],
          "scatterternary": [
           {
            "marker": {
             "colorbar": {
              "outlinewidth": 0,
              "ticks": ""
             }
            },
            "type": "scatterternary"
           }
          ],
          "surface": [
           {
            "colorbar": {
             "outlinewidth": 0,
             "ticks": ""
            },
            "colorscale": [
             [
              0,
              "#0d0887"
             ],
             [
              0.1111111111111111,
              "#46039f"
             ],
             [
              0.2222222222222222,
              "#7201a8"
             ],
             [
              0.3333333333333333,
              "#9c179e"
             ],
             [
              0.4444444444444444,
              "#bd3786"
             ],
             [
              0.5555555555555556,
              "#d8576b"
             ],
             [
              0.6666666666666666,
              "#ed7953"
             ],
             [
              0.7777777777777778,
              "#fb9f3a"
             ],
             [
              0.8888888888888888,
              "#fdca26"
             ],
             [
              1,
              "#f0f921"
             ]
            ],
            "type": "surface"
           }
          ],
          "table": [
           {
            "cells": {
             "fill": {
              "color": "#EBF0F8"
             },
             "line": {
              "color": "white"
             }
            },
            "header": {
             "fill": {
              "color": "#C8D4E3"
             },
             "line": {
              "color": "white"
             }
            },
            "type": "table"
           }
          ]
         },
         "layout": {
          "annotationdefaults": {
           "arrowcolor": "#2a3f5f",
           "arrowhead": 0,
           "arrowwidth": 1
          },
          "autotypenumbers": "strict",
          "coloraxis": {
           "colorbar": {
            "outlinewidth": 0,
            "ticks": ""
           }
          },
          "colorscale": {
           "diverging": [
            [
             0,
             "#8e0152"
            ],
            [
             0.1,
             "#c51b7d"
            ],
            [
             0.2,
             "#de77ae"
            ],
            [
             0.3,
             "#f1b6da"
            ],
            [
             0.4,
             "#fde0ef"
            ],
            [
             0.5,
             "#f7f7f7"
            ],
            [
             0.6,
             "#e6f5d0"
            ],
            [
             0.7,
             "#b8e186"
            ],
            [
             0.8,
             "#7fbc41"
            ],
            [
             0.9,
             "#4d9221"
            ],
            [
             1,
             "#276419"
            ]
           ],
           "sequential": [
            [
             0,
             "#0d0887"
            ],
            [
             0.1111111111111111,
             "#46039f"
            ],
            [
             0.2222222222222222,
             "#7201a8"
            ],
            [
             0.3333333333333333,
             "#9c179e"
            ],
            [
             0.4444444444444444,
             "#bd3786"
            ],
            [
             0.5555555555555556,
             "#d8576b"
            ],
            [
             0.6666666666666666,
             "#ed7953"
            ],
            [
             0.7777777777777778,
             "#fb9f3a"
            ],
            [
             0.8888888888888888,
             "#fdca26"
            ],
            [
             1,
             "#f0f921"
            ]
           ],
           "sequentialminus": [
            [
             0,
             "#0d0887"
            ],
            [
             0.1111111111111111,
             "#46039f"
            ],
            [
             0.2222222222222222,
             "#7201a8"
            ],
            [
             0.3333333333333333,
             "#9c179e"
            ],
            [
             0.4444444444444444,
             "#bd3786"
            ],
            [
             0.5555555555555556,
             "#d8576b"
            ],
            [
             0.6666666666666666,
             "#ed7953"
            ],
            [
             0.7777777777777778,
             "#fb9f3a"
            ],
            [
             0.8888888888888888,
             "#fdca26"
            ],
            [
             1,
             "#f0f921"
            ]
           ]
          },
          "colorway": [
           "#636efa",
           "#EF553B",
           "#00cc96",
           "#ab63fa",
           "#FFA15A",
           "#19d3f3",
           "#FF6692",
           "#B6E880",
           "#FF97FF",
           "#FECB52"
          ],
          "font": {
           "color": "#2a3f5f"
          },
          "geo": {
           "bgcolor": "white",
           "lakecolor": "white",
           "landcolor": "#E5ECF6",
           "showlakes": true,
           "showland": true,
           "subunitcolor": "white"
          },
          "hoverlabel": {
           "align": "left"
          },
          "hovermode": "closest",
          "mapbox": {
           "style": "light"
          },
          "paper_bgcolor": "white",
          "plot_bgcolor": "#E5ECF6",
          "polar": {
           "angularaxis": {
            "gridcolor": "white",
            "linecolor": "white",
            "ticks": ""
           },
           "bgcolor": "#E5ECF6",
           "radialaxis": {
            "gridcolor": "white",
            "linecolor": "white",
            "ticks": ""
           }
          },
          "scene": {
           "xaxis": {
            "backgroundcolor": "#E5ECF6",
            "gridcolor": "white",
            "gridwidth": 2,
            "linecolor": "white",
            "showbackground": true,
            "ticks": "",
            "zerolinecolor": "white"
           },
           "yaxis": {
            "backgroundcolor": "#E5ECF6",
            "gridcolor": "white",
            "gridwidth": 2,
            "linecolor": "white",
            "showbackground": true,
            "ticks": "",
            "zerolinecolor": "white"
           },
           "zaxis": {
            "backgroundcolor": "#E5ECF6",
            "gridcolor": "white",
            "gridwidth": 2,
            "linecolor": "white",
            "showbackground": true,
            "ticks": "",
            "zerolinecolor": "white"
           }
          },
          "shapedefaults": {
           "line": {
            "color": "#2a3f5f"
           }
          },
          "ternary": {
           "aaxis": {
            "gridcolor": "white",
            "linecolor": "white",
            "ticks": ""
           },
           "baxis": {
            "gridcolor": "white",
            "linecolor": "white",
            "ticks": ""
           },
           "bgcolor": "#E5ECF6",
           "caxis": {
            "gridcolor": "white",
            "linecolor": "white",
            "ticks": ""
           }
          },
          "title": {
           "x": 0.05
          },
          "xaxis": {
           "automargin": true,
           "gridcolor": "white",
           "linecolor": "white",
           "ticks": "",
           "title": {
            "standoff": 15
           },
           "zerolinecolor": "white",
           "zerolinewidth": 2
          },
          "yaxis": {
           "automargin": true,
           "gridcolor": "white",
           "linecolor": "white",
           "ticks": "",
           "title": {
            "standoff": 15
           },
           "zerolinecolor": "white",
           "zerolinewidth": 2
          }
         }
        },
        "title": {
         "text": "Near Term Seasonal Mean Soil Water Availibility"
        },
        "xaxis": {
         "anchor": "y",
         "domain": [
          0,
          1
         ],
         "title": {
          "text": "Year"
         }
        },
        "yaxis": {
         "anchor": "x",
         "domain": [
          0,
          1
         ],
         "title": {
          "text": "WetSoilDays_Summer_top50"
         }
        }
       }
      },
      "text/html": [
       "<div>                            <div id=\"bc89a834-4f8e-4d48-925f-724d6e64abfb\" class=\"plotly-graph-div\" style=\"height:525px; width:100%;\"></div>            <script type=\"text/javascript\">                require([\"plotly\"], function(Plotly) {                    window.PLOTLYENV=window.PLOTLYENV || {};                                    if (document.getElementById(\"bc89a834-4f8e-4d48-925f-724d6e64abfb\")) {                    Plotly.newPlot(                        \"bc89a834-4f8e-4d48-925f-724d6e64abfb\",                        [{\"hovertemplate\":\"RCP=4.5\\u003cbr\\u003eYear=%{x}\\u003cbr\\u003eWetSoilDays_Summer_top50=%{y}\\u003cextra\\u003e\\u003c\\u002fextra\\u003e\",\"legendgroup\":\"4.5\",\"marker\":{\"color\":\"#636efa\",\"symbol\":\"circle\"},\"mode\":\"lines\",\"name\":\"4.5\",\"orientation\":\"v\",\"showlegend\":true,\"x\":[2021,2022,2023,2024,2025,2026,2027,2028,2029,2030,2031,2032,2033,2034,2035,2036,2037,2038,2039,2040,2041,2042,2043,2044,2045,2046,2047,2048,2049,2050,2051,2052,2053,2054,2055,2056,2057,2058,2059],\"xaxis\":\"x\",\"y\":[13.323008849557523,12.259734513274337,14.336725663716814,17.159734513274337,12.841150442477876,15.625221238938053,18.098230088495576,10.693362831858407,17.55575221238938,18.821238938053096,15.613716814159291,15.913716814159292,15.575221238938052,18.05796460176991,14.956194690265487,17.217699115044248,15.57212389380531,13.940265486725664,16.77212389380531,13.237610619469027,13.83362831858407,16.89778761061947,18.23716814159292,18.470353982300885,12.194690265486726,14.59867256637168,17.128318584070797,16.833628318584072,14.525221238938054,20.470353982300885,15.56150442477876,20.514601769911504,18.055309734513273,16.55265486725664,19.96150442477876,13.126106194690266,19.314601769911505,19.098672566371683,16.96061946902655],\"yaxis\":\"y\",\"type\":\"scatter\"},{\"hovertemplate\":\"\\u003cb\\u003eOLS trendline\\u003c\\u002fb\\u003e\\u003cbr\\u003eWetSoilDays_Summer_top50 = 0.0878129 * year + -162.987\\u003cbr\\u003eR\\u003csup\\u003e2\\u003c\\u002fsup\\u003e=0.169319\\u003cbr\\u003e\\u003cbr\\u003eRCP=4.5\\u003cbr\\u003eYear=%{x}\\u003cbr\\u003eWetSoilDays_Summer_top50=%{y} \\u003cb\\u003e(trend)\\u003c\\u002fb\\u003e\\u003cextra\\u003e\\u003c\\u002fextra\\u003e\",\"legendgroup\":\"4.5\",\"marker\":{\"color\":\"#636efa\",\"symbol\":\"circle\"},\"mode\":\"lines\",\"name\":\"4.5\",\"showlegend\":false,\"x\":[2021,2022,2023,2024,2025,2026,2027,2028,2029,2030,2031,2032,2033,2034,2035,2036,2037,2038,2039,2040,2041,2042,2043,2044,2045,2046,2047,2048,2049,2050,2051,2052,2053,2054,2055,2056,2057,2058,2059],\"xaxis\":\"x\",\"y\":[14.482996369412433,14.570809238890405,14.658622108368405,14.746434977846377,14.834247847324349,14.92206071680235,15.009873586280321,15.097686455758321,15.185499325236293,15.273312194714265,15.361125064192265,15.448937933670237,15.536750803148237,15.62456367262621,15.71237654210421,15.800189411582181,15.888002281060153,15.975815150538153,16.063628020016125,16.151440889494125,16.239253758972097,16.32706662845007,16.41487949792807,16.50269236740604,16.59050523688404,16.678318106362013,16.766130975840014,16.853943845317986,16.941756714795957,17.029569584273958,17.11738245375193,17.20519532322993,17.2930081927079,17.380821062185902,17.468633931663874,17.556446801141846,17.644259670619846,17.732072540097818,17.819885409575818],\"yaxis\":\"y\",\"type\":\"scatter\",\"line\":{\"dash\":\"dot\",\"width\":1}},{\"hovertemplate\":\"RCP=8.5\\u003cbr\\u003eYear=%{x}\\u003cbr\\u003eWetSoilDays_Summer_top50=%{y}\\u003cextra\\u003e\\u003c\\u002fextra\\u003e\",\"legendgroup\":\"8.5\",\"marker\":{\"color\":\"#EF553B\",\"symbol\":\"circle\"},\"mode\":\"lines\",\"name\":\"8.5\",\"orientation\":\"v\",\"showlegend\":true,\"x\":[2021,2022,2023,2024,2025,2026,2027,2028,2029,2030,2031,2032,2033,2034,2035,2036,2037,2038,2039,2040,2041,2042,2043,2044,2045,2046,2047,2048,2049,2050,2051,2052,2053,2054,2055,2056,2057,2058,2059],\"xaxis\":\"x\",\"y\":[16.925221238938054,13.76061946902655,22.51991150442478,10.669911504424778,20.361946902654868,11.15929203539823,21.613274336283187,15.174778761061948,15.361061946902655,13.51858407079646,16.18716814159292,22.23141592920354,16.73362831858407,13.461061946902655,16.412389380530975,17.528318584070796,16.619026548672565,15.414601769911505,14.137610619469026,16.945575221238936,17.807079646017698,12.163716814159292,13.993805309734514,15.515929203539823,20.56504424778761,18.753982300884957,22.72212389380531,21.371238938053096,19.223893805309736,18.5212389380531,19.78938053097345,23.192477876106196,23.56991150442478,19.712389380530972,16.644690265486727,15.776106194690266,17.02212389380531,17.36061946902655,17.000442477876106],\"yaxis\":\"y\",\"type\":\"scatter\"},{\"hovertemplate\":\"\\u003cb\\u003eOLS trendline\\u003c\\u002fb\\u003e\\u003cbr\\u003eWetSoilDays_Summer_top50 = 0.0880504 * year + -162.253\\u003cbr\\u003eR\\u003csup\\u003e2\\u003c\\u002fsup\\u003e=0.090927\\u003cbr\\u003e\\u003cbr\\u003eRCP=8.5\\u003cbr\\u003eYear=%{x}\\u003cbr\\u003eWetSoilDays_Summer_top50=%{y} \\u003cb\\u003e(trend)\\u003c\\u002fb\\u003e\\u003cextra\\u003e\\u003c\\u002fextra\\u003e\",\"legendgroup\":\"8.5\",\"marker\":{\"color\":\"#EF553B\",\"symbol\":\"circle\"},\"mode\":\"lines\",\"name\":\"8.5\",\"showlegend\":false,\"x\":[2021,2022,2023,2024,2025,2026,2027,2028,2029,2030,2031,2032,2033,2034,2035,2036,2037,2038,2039,2040,2041,2042,2043,2044,2045,2046,2047,2048,2049,2050,2051,2052,2053,2054,2055,2056,2057,2058,2059],\"xaxis\":\"x\",\"y\":[15.697339459950115,15.785389870182627,15.873440280415167,15.961490690647679,16.04954110088022,16.13759151111273,16.22564192134527,16.313692331577784,16.401742741810324,16.489793152042836,16.577843562275376,16.665893972507888,16.75394438274043,16.84199479297294,16.93004520320548,17.018095613437993,17.106146023670533,17.194196433903045,17.282246844135585,17.370297254368097,17.458347664600637,17.54639807483315,17.63444848506569,17.7224988952982,17.810549305530742,17.898599715763254,17.986650125995794,18.074700536228306,18.162750946460818,18.25080135669336,18.33885176692587,18.42690217715841,18.514952587390923,18.603002997623463,18.691053407855975,18.779103818088515,18.867154228321027,18.955204638553568,19.04325504878608],\"yaxis\":\"y\",\"type\":\"scatter\",\"line\":{\"dash\":\"dot\",\"width\":1}},{\"hovertemplate\":\"RCP=historical\\u003cbr\\u003eYear=%{x}\\u003cbr\\u003eWetSoilDays_Summer_top50=%{y}\\u003cextra\\u003e\\u003c\\u002fextra\\u003e\",\"legendgroup\":\"historical\",\"marker\":{\"color\":\"#00cc96\",\"symbol\":\"circle\"},\"mode\":\"lines\",\"name\":\"historical\",\"orientation\":\"v\",\"showlegend\":false,\"x\":[2021,2022,2023,2024,2025,2026,2027,2028,2029,2030,2031,2032,2033,2034,2035,2036,2037,2038,2039,2040,2041,2042,2043,2044,2045,2046,2047,2048,2049,2050,2051,2052,2053,2054,2055,2056,2057,2058,2059],\"xaxis\":\"x\",\"y\":[null,null,null,null,null,null,null,null,null,null,null,null,null,null,null,null,null,null,null,null,null,null,null,null,null,null,null,null,null,null,null,null,null,null,null,null,null,null,null],\"yaxis\":\"y\",\"type\":\"scatter\"},{\"hovertemplate\":\"RCP=historical\\u003cextra\\u003e\\u003c\\u002fextra\\u003e\",\"legendgroup\":\"historical\",\"marker\":{\"color\":\"#00cc96\",\"symbol\":\"circle\"},\"mode\":\"lines\",\"name\":\"historical\",\"showlegend\":false,\"xaxis\":\"x\",\"yaxis\":\"y\",\"type\":\"scatter\"}],                        {\"template\":{\"data\":{\"histogram2dcontour\":[{\"type\":\"histogram2dcontour\",\"colorbar\":{\"outlinewidth\":0,\"ticks\":\"\"},\"colorscale\":[[0.0,\"#0d0887\"],[0.1111111111111111,\"#46039f\"],[0.2222222222222222,\"#7201a8\"],[0.3333333333333333,\"#9c179e\"],[0.4444444444444444,\"#bd3786\"],[0.5555555555555556,\"#d8576b\"],[0.6666666666666666,\"#ed7953\"],[0.7777777777777778,\"#fb9f3a\"],[0.8888888888888888,\"#fdca26\"],[1.0,\"#f0f921\"]]}],\"choropleth\":[{\"type\":\"choropleth\",\"colorbar\":{\"outlinewidth\":0,\"ticks\":\"\"}}],\"histogram2d\":[{\"type\":\"histogram2d\",\"colorbar\":{\"outlinewidth\":0,\"ticks\":\"\"},\"colorscale\":[[0.0,\"#0d0887\"],[0.1111111111111111,\"#46039f\"],[0.2222222222222222,\"#7201a8\"],[0.3333333333333333,\"#9c179e\"],[0.4444444444444444,\"#bd3786\"],[0.5555555555555556,\"#d8576b\"],[0.6666666666666666,\"#ed7953\"],[0.7777777777777778,\"#fb9f3a\"],[0.8888888888888888,\"#fdca26\"],[1.0,\"#f0f921\"]]}],\"heatmap\":[{\"type\":\"heatmap\",\"colorbar\":{\"outlinewidth\":0,\"ticks\":\"\"},\"colorscale\":[[0.0,\"#0d0887\"],[0.1111111111111111,\"#46039f\"],[0.2222222222222222,\"#7201a8\"],[0.3333333333333333,\"#9c179e\"],[0.4444444444444444,\"#bd3786\"],[0.5555555555555556,\"#d8576b\"],[0.6666666666666666,\"#ed7953\"],[0.7777777777777778,\"#fb9f3a\"],[0.8888888888888888,\"#fdca26\"],[1.0,\"#f0f921\"]]}],\"heatmapgl\":[{\"type\":\"heatmapgl\",\"colorbar\":{\"outlinewidth\":0,\"ticks\":\"\"},\"colorscale\":[[0.0,\"#0d0887\"],[0.1111111111111111,\"#46039f\"],[0.2222222222222222,\"#7201a8\"],[0.3333333333333333,\"#9c179e\"],[0.4444444444444444,\"#bd3786\"],[0.5555555555555556,\"#d8576b\"],[0.6666666666666666,\"#ed7953\"],[0.7777777777777778,\"#fb9f3a\"],[0.8888888888888888,\"#fdca26\"],[1.0,\"#f0f921\"]]}],\"contourcarpet\":[{\"type\":\"contourcarpet\",\"colorbar\":{\"outlinewidth\":0,\"ticks\":\"\"}}],\"contour\":[{\"type\":\"contour\",\"colorbar\":{\"outlinewidth\":0,\"ticks\":\"\"},\"colorscale\":[[0.0,\"#0d0887\"],[0.1111111111111111,\"#46039f\"],[0.2222222222222222,\"#7201a8\"],[0.3333333333333333,\"#9c179e\"],[0.4444444444444444,\"#bd3786\"],[0.5555555555555556,\"#d8576b\"],[0.6666666666666666,\"#ed7953\"],[0.7777777777777778,\"#fb9f3a\"],[0.8888888888888888,\"#fdca26\"],[1.0,\"#f0f921\"]]}],\"surface\":[{\"type\":\"surface\",\"colorbar\":{\"outlinewidth\":0,\"ticks\":\"\"},\"colorscale\":[[0.0,\"#0d0887\"],[0.1111111111111111,\"#46039f\"],[0.2222222222222222,\"#7201a8\"],[0.3333333333333333,\"#9c179e\"],[0.4444444444444444,\"#bd3786\"],[0.5555555555555556,\"#d8576b\"],[0.6666666666666666,\"#ed7953\"],[0.7777777777777778,\"#fb9f3a\"],[0.8888888888888888,\"#fdca26\"],[1.0,\"#f0f921\"]]}],\"mesh3d\":[{\"type\":\"mesh3d\",\"colorbar\":{\"outlinewidth\":0,\"ticks\":\"\"}}],\"scatter\":[{\"fillpattern\":{\"fillmode\":\"overlay\",\"size\":10,\"solidity\":0.2},\"type\":\"scatter\"}],\"parcoords\":[{\"type\":\"parcoords\",\"line\":{\"colorbar\":{\"outlinewidth\":0,\"ticks\":\"\"}}}],\"scatterpolargl\":[{\"type\":\"scatterpolargl\",\"marker\":{\"colorbar\":{\"outlinewidth\":0,\"ticks\":\"\"}}}],\"bar\":[{\"error_x\":{\"color\":\"#2a3f5f\"},\"error_y\":{\"color\":\"#2a3f5f\"},\"marker\":{\"line\":{\"color\":\"#E5ECF6\",\"width\":0.5},\"pattern\":{\"fillmode\":\"overlay\",\"size\":10,\"solidity\":0.2}},\"type\":\"bar\"}],\"scattergeo\":[{\"type\":\"scattergeo\",\"marker\":{\"colorbar\":{\"outlinewidth\":0,\"ticks\":\"\"}}}],\"scatterpolar\":[{\"type\":\"scatterpolar\",\"marker\":{\"colorbar\":{\"outlinewidth\":0,\"ticks\":\"\"}}}],\"histogram\":[{\"marker\":{\"pattern\":{\"fillmode\":\"overlay\",\"size\":10,\"solidity\":0.2}},\"type\":\"histogram\"}],\"scattergl\":[{\"type\":\"scattergl\",\"marker\":{\"colorbar\":{\"outlinewidth\":0,\"ticks\":\"\"}}}],\"scatter3d\":[{\"type\":\"scatter3d\",\"line\":{\"colorbar\":{\"outlinewidth\":0,\"ticks\":\"\"}},\"marker\":{\"colorbar\":{\"outlinewidth\":0,\"ticks\":\"\"}}}],\"scattermapbox\":[{\"type\":\"scattermapbox\",\"marker\":{\"colorbar\":{\"outlinewidth\":0,\"ticks\":\"\"}}}],\"scatterternary\":[{\"type\":\"scatterternary\",\"marker\":{\"colorbar\":{\"outlinewidth\":0,\"ticks\":\"\"}}}],\"scattercarpet\":[{\"type\":\"scattercarpet\",\"marker\":{\"colorbar\":{\"outlinewidth\":0,\"ticks\":\"\"}}}],\"carpet\":[{\"aaxis\":{\"endlinecolor\":\"#2a3f5f\",\"gridcolor\":\"white\",\"linecolor\":\"white\",\"minorgridcolor\":\"white\",\"startlinecolor\":\"#2a3f5f\"},\"baxis\":{\"endlinecolor\":\"#2a3f5f\",\"gridcolor\":\"white\",\"linecolor\":\"white\",\"minorgridcolor\":\"white\",\"startlinecolor\":\"#2a3f5f\"},\"type\":\"carpet\"}],\"table\":[{\"cells\":{\"fill\":{\"color\":\"#EBF0F8\"},\"line\":{\"color\":\"white\"}},\"header\":{\"fill\":{\"color\":\"#C8D4E3\"},\"line\":{\"color\":\"white\"}},\"type\":\"table\"}],\"barpolar\":[{\"marker\":{\"line\":{\"color\":\"#E5ECF6\",\"width\":0.5},\"pattern\":{\"fillmode\":\"overlay\",\"size\":10,\"solidity\":0.2}},\"type\":\"barpolar\"}],\"pie\":[{\"automargin\":true,\"type\":\"pie\"}]},\"layout\":{\"autotypenumbers\":\"strict\",\"colorway\":[\"#636efa\",\"#EF553B\",\"#00cc96\",\"#ab63fa\",\"#FFA15A\",\"#19d3f3\",\"#FF6692\",\"#B6E880\",\"#FF97FF\",\"#FECB52\"],\"font\":{\"color\":\"#2a3f5f\"},\"hovermode\":\"closest\",\"hoverlabel\":{\"align\":\"left\"},\"paper_bgcolor\":\"white\",\"plot_bgcolor\":\"#E5ECF6\",\"polar\":{\"bgcolor\":\"#E5ECF6\",\"angularaxis\":{\"gridcolor\":\"white\",\"linecolor\":\"white\",\"ticks\":\"\"},\"radialaxis\":{\"gridcolor\":\"white\",\"linecolor\":\"white\",\"ticks\":\"\"}},\"ternary\":{\"bgcolor\":\"#E5ECF6\",\"aaxis\":{\"gridcolor\":\"white\",\"linecolor\":\"white\",\"ticks\":\"\"},\"baxis\":{\"gridcolor\":\"white\",\"linecolor\":\"white\",\"ticks\":\"\"},\"caxis\":{\"gridcolor\":\"white\",\"linecolor\":\"white\",\"ticks\":\"\"}},\"coloraxis\":{\"colorbar\":{\"outlinewidth\":0,\"ticks\":\"\"}},\"colorscale\":{\"sequential\":[[0.0,\"#0d0887\"],[0.1111111111111111,\"#46039f\"],[0.2222222222222222,\"#7201a8\"],[0.3333333333333333,\"#9c179e\"],[0.4444444444444444,\"#bd3786\"],[0.5555555555555556,\"#d8576b\"],[0.6666666666666666,\"#ed7953\"],[0.7777777777777778,\"#fb9f3a\"],[0.8888888888888888,\"#fdca26\"],[1.0,\"#f0f921\"]],\"sequentialminus\":[[0.0,\"#0d0887\"],[0.1111111111111111,\"#46039f\"],[0.2222222222222222,\"#7201a8\"],[0.3333333333333333,\"#9c179e\"],[0.4444444444444444,\"#bd3786\"],[0.5555555555555556,\"#d8576b\"],[0.6666666666666666,\"#ed7953\"],[0.7777777777777778,\"#fb9f3a\"],[0.8888888888888888,\"#fdca26\"],[1.0,\"#f0f921\"]],\"diverging\":[[0,\"#8e0152\"],[0.1,\"#c51b7d\"],[0.2,\"#de77ae\"],[0.3,\"#f1b6da\"],[0.4,\"#fde0ef\"],[0.5,\"#f7f7f7\"],[0.6,\"#e6f5d0\"],[0.7,\"#b8e186\"],[0.8,\"#7fbc41\"],[0.9,\"#4d9221\"],[1,\"#276419\"]]},\"xaxis\":{\"gridcolor\":\"white\",\"linecolor\":\"white\",\"ticks\":\"\",\"title\":{\"standoff\":15},\"zerolinecolor\":\"white\",\"automargin\":true,\"zerolinewidth\":2},\"yaxis\":{\"gridcolor\":\"white\",\"linecolor\":\"white\",\"ticks\":\"\",\"title\":{\"standoff\":15},\"zerolinecolor\":\"white\",\"automargin\":true,\"zerolinewidth\":2},\"scene\":{\"xaxis\":{\"backgroundcolor\":\"#E5ECF6\",\"gridcolor\":\"white\",\"linecolor\":\"white\",\"showbackground\":true,\"ticks\":\"\",\"zerolinecolor\":\"white\",\"gridwidth\":2},\"yaxis\":{\"backgroundcolor\":\"#E5ECF6\",\"gridcolor\":\"white\",\"linecolor\":\"white\",\"showbackground\":true,\"ticks\":\"\",\"zerolinecolor\":\"white\",\"gridwidth\":2},\"zaxis\":{\"backgroundcolor\":\"#E5ECF6\",\"gridcolor\":\"white\",\"linecolor\":\"white\",\"showbackground\":true,\"ticks\":\"\",\"zerolinecolor\":\"white\",\"gridwidth\":2}},\"shapedefaults\":{\"line\":{\"color\":\"#2a3f5f\"}},\"annotationdefaults\":{\"arrowcolor\":\"#2a3f5f\",\"arrowhead\":0,\"arrowwidth\":1},\"geo\":{\"bgcolor\":\"white\",\"landcolor\":\"#E5ECF6\",\"subunitcolor\":\"white\",\"showland\":true,\"showlakes\":true,\"lakecolor\":\"white\"},\"title\":{\"x\":0.05},\"mapbox\":{\"style\":\"light\"}}},\"xaxis\":{\"anchor\":\"y\",\"domain\":[0.0,1.0],\"title\":{\"text\":\"Year\"}},\"yaxis\":{\"anchor\":\"x\",\"domain\":[0.0,1.0],\"title\":{\"text\":\"WetSoilDays_Summer_top50\"}},\"legend\":{\"title\":{\"text\":\"RCP\"},\"tracegroupgap\":0},\"title\":{\"text\":\"Near Term Seasonal Mean Soil Water Availibility\"}},                        {\"responsive\": true}                    ).then(function(){\n",
       "                            \n",
       "var gd = document.getElementById('bc89a834-4f8e-4d48-925f-724d6e64abfb');\n",
       "var x = new MutationObserver(function (mutations, observer) {{\n",
       "        var display = window.getComputedStyle(gd).display;\n",
       "        if (!display || display === 'none') {{\n",
       "            console.log([gd, 'removed!']);\n",
       "            Plotly.purge(gd);\n",
       "            observer.disconnect();\n",
       "        }}\n",
       "}});\n",
       "\n",
       "// Listen for the removal of the full notebook cells\n",
       "var notebookContainer = gd.closest('#notebook-container');\n",
       "if (notebookContainer) {{\n",
       "    x.observe(notebookContainer, {childList: true});\n",
       "}}\n",
       "\n",
       "// Listen for the clearing of the current output cell\n",
       "var outputEl = gd.closest('.output');\n",
       "if (outputEl) {{\n",
       "    x.observe(outputEl, {childList: true});\n",
       "}}\n",
       "\n",
       "                        })                };                });            </script>        </div>"
      ]
     },
     "metadata": {},
     "output_type": "display_data"
    }
   ],
   "source": [
    "# set temp df for plot\n",
    "plot_df = df[df['TimePeriod'] == 'NT']\n",
    "#col\n",
    "col = 'WetSoilDays_Summer_top50'\n",
    "# plot_df[col] = plot_df[['Transp_Winter', 'Transp_Spring', 'Transp_Summer', 'Transp_Fall']].mean(axis = 1)\n",
    "# find mean SWA of all collection site per year\n",
    "plot_df = plot_df.groupby(['year', 'RCP'])[col].mean().reset_index()\n",
    "#plotly plot\n",
    "fig = px.scatter(plot_df,\n",
    "              x='year',\n",
    "              y=col,\n",
    "              color= 'RCP',\n",
    "              title='Near Term Seasonal Mean Soil Water Availibility',\n",
    "              trendline='ols',\n",
    "              labels={\n",
    "                     \"year\": \"Year\",\n",
    "                     \"Tmax_Summer\": \"Water (CM)\"\n",
    "                 }\n",
    "              )\n",
    "#connect points\n",
    "fig.update_traces(mode='lines')\n",
    "#make trend lines dotted\n",
    "fig.data[1].update(line_width=1, line=dict(dash='dot'))\n",
    "fig.data[3].update(line_width=1, line=dict(dash='dot'))\n",
    "\n",
    "#remove hist from legend\n",
    "for trace in fig.data:\n",
    "    if trace.name == 'historical':\n",
    "        trace.showlegend = False\n",
    "#print fig\n",
    "fig.show()"
   ]
  },
  {
   "cell_type": "code",
   "execution_count": 69,
   "metadata": {},
   "outputs": [
    {
     "data": {
      "application/vnd.plotly.v1+json": {
       "config": {
        "plotlyServerURL": "https://plot.ly"
       },
       "data": [
        {
         "hovertemplate": "RCP=4.5<br>Year=%{x}<br>WetSoilDays_Summer_top50=%{y}<extra></extra>",
         "legendgroup": "4.5",
         "marker": {
          "color": "#636efa",
          "symbol": "circle"
         },
         "mode": "lines",
         "name": "4.5",
         "orientation": "v",
         "showlegend": true,
         "type": "scatter",
         "x": [
          2060,
          2061,
          2062,
          2063,
          2064,
          2065,
          2066,
          2067,
          2068,
          2069,
          2070,
          2071,
          2072,
          2073,
          2074,
          2075,
          2076,
          2077,
          2078,
          2079,
          2080,
          2081,
          2082,
          2083,
          2084,
          2085,
          2086,
          2087,
          2088,
          2089,
          2090,
          2091,
          2092,
          2093,
          2094,
          2095,
          2096,
          2097,
          2098,
          2099
         ],
         "xaxis": "x",
         "y": [
          21.389823008849557,
          18.192477876106196,
          19.45486725663717,
          20.077433628318584,
          18.047345132743363,
          18.829646017699115,
          13.423008849557522,
          17.707964601769913,
          13.611061946902655,
          12.792920353982302,
          19.00132743362832,
          16.388938053097345,
          18.796902654867257,
          19.542035398230087,
          22.384070796460176,
          13.532743362831859,
          18.64778761061947,
          19.779646017699115,
          19.576106194690265,
          20.428318584070798,
          17.38274336283186,
          15.684070796460176,
          20.51769911504425,
          15.236725663716815,
          23.74646017699115,
          20.000884955752213,
          19.36283185840708,
          14.965929203539822,
          18.049115044247788,
          17.47477876106195,
          17.140265486725664,
          20.264159292035398,
          18.580530973451328,
          13.664601769911505,
          20.348672566371683,
          20.039823008849556,
          15.27787610619469,
          21.213274336283185,
          19.013274336283185,
          17.127433628318585
         ],
         "yaxis": "y"
        },
        {
         "hovertemplate": "<b>OLS trendline</b><br>WetSoilDays_Summer_top50 = 0.0108809 * year + -4.45942<br>R<sup>2</sup>=0.002381<br><br>RCP=4.5<br>Year=%{x}<br>WetSoilDays_Summer_top50=%{y} <b>(trend)</b><extra></extra>",
         "legendgroup": "4.5",
         "marker": {
          "color": "#636efa",
          "symbol": "circle"
         },
         "mode": "lines",
         "name": "4.5",
         "showlegend": false,
         "type": "scatter",
         "x": [
          2060,
          2061,
          2062,
          2063,
          2064,
          2065,
          2066,
          2067,
          2068,
          2069,
          2070,
          2071,
          2072,
          2073,
          2074,
          2075,
          2076,
          2077,
          2078,
          2079,
          2080,
          2081,
          2082,
          2083,
          2084,
          2085,
          2086,
          2087,
          2088,
          2089,
          2090,
          2091,
          2092,
          2093,
          2094,
          2095,
          2096,
          2097,
          2098,
          2099
         ],
         "xaxis": "x",
         "y": [
          17.955212065616593,
          17.96609295356094,
          17.976973841505284,
          17.98785472944963,
          17.998735617393976,
          18.00961650533832,
          18.020497393282668,
          18.031378281227013,
          18.04225916917136,
          18.053140057115705,
          18.06402094506005,
          18.074901833004397,
          18.085782720948743,
          18.09666360889309,
          18.107544496837434,
          18.11842538478178,
          18.129306272726126,
          18.14018716067047,
          18.151068048614817,
          18.161948936559163,
          18.17282982450351,
          18.183710712447855,
          18.1945916003922,
          18.205472488336547,
          18.216353376280892,
          18.22723426422524,
          18.238115152169584,
          18.24899604011393,
          18.259876928058276,
          18.27075781600262,
          18.281638703946967,
          18.292519591891313,
          18.30340047983566,
          18.314281367780005,
          18.32516225572435,
          18.336043143668697,
          18.346924031613042,
          18.35780491955739,
          18.368685807501734,
          18.37956669544608
         ],
         "yaxis": "y"
        },
        {
         "hovertemplate": "RCP=8.5<br>Year=%{x}<br>WetSoilDays_Summer_top50=%{y}<extra></extra>",
         "legendgroup": "8.5",
         "marker": {
          "color": "#EF553B",
          "symbol": "circle"
         },
         "mode": "lines",
         "name": "8.5",
         "orientation": "v",
         "showlegend": true,
         "type": "scatter",
         "x": [
          2060,
          2061,
          2062,
          2063,
          2064,
          2065,
          2066,
          2067,
          2068,
          2069,
          2070,
          2071,
          2072,
          2073,
          2074,
          2075,
          2076,
          2077,
          2078,
          2079,
          2080,
          2081,
          2082,
          2083,
          2084,
          2085,
          2086,
          2087,
          2088,
          2089,
          2090,
          2091,
          2092,
          2093,
          2094,
          2095,
          2096,
          2097,
          2098,
          2099
         ],
         "xaxis": "x",
         "y": [
          19.666371681415928,
          19.030530973451327,
          16.15442477876106,
          13.630530973451327,
          17.158849557522124,
          16.711946902654866,
          19.78362831858407,
          22.864601769911506,
          17.941592920353983,
          18.586283185840706,
          17.81769911504425,
          17.671681415929203,
          21.93230088495575,
          16.908407079646018,
          15.758849557522124,
          17.43716814159292,
          24.448230088495574,
          18.163274336283187,
          17.989380530973452,
          15.709734513274336,
          19.583185840707966,
          20.349557522123895,
          16.17920353982301,
          21.61150442477876,
          19.252654867256638,
          22.569026548672568,
          19.085398230088497,
          22.857522123893805,
          24.314601769911505,
          22.062389380530973,
          26.093362831858407,
          18.7,
          22.076991150442478,
          22.218141592920354,
          20.075221238938052,
          24.724336283185842,
          17.049557522123894,
          20.18938053097345,
          19.567256637168143,
          20.579646017699115
         ],
         "yaxis": "y"
        },
        {
         "hovertemplate": "<b>OLS trendline</b><br>WetSoilDays_Summer_top50 = 0.109842 * year + -208.803<br>R<sup>2</sup>=0.205074<br><br>RCP=8.5<br>Year=%{x}<br>WetSoilDays_Summer_top50=%{y} <b>(trend)</b><extra></extra>",
         "legendgroup": "8.5",
         "marker": {
          "color": "#EF553B",
          "symbol": "circle"
         },
         "mode": "lines",
         "name": "8.5",
         "showlegend": false,
         "type": "scatter",
         "x": [
          2060,
          2061,
          2062,
          2063,
          2064,
          2065,
          2066,
          2067,
          2068,
          2069,
          2070,
          2071,
          2072,
          2073,
          2074,
          2075,
          2076,
          2077,
          2078,
          2079,
          2080,
          2081,
          2082,
          2083,
          2084,
          2085,
          2086,
          2087,
          2088,
          2089,
          2090,
          2091,
          2092,
          2093,
          2094,
          2095,
          2096,
          2097,
          2098,
          2099
         ],
         "xaxis": "x",
         "y": [
          17.470697712065572,
          17.580539399624712,
          17.69038108718388,
          17.80022277474302,
          17.91006446230216,
          18.019906149861328,
          18.129747837420467,
          18.239589524979607,
          18.349431212538775,
          18.459272900097915,
          18.569114587657054,
          18.678956275216194,
          18.788797962775362,
          18.898639650334502,
          19.00848133789364,
          19.11832302545281,
          19.22816471301195,
          19.33800640057109,
          19.447848088130257,
          19.557689775689397,
          19.667531463248537,
          19.777373150807705,
          19.887214838366845,
          19.997056525925984,
          20.106898213485152,
          20.216739901044292,
          20.326581588603432,
          20.4364232761626,
          20.54626496372174,
          20.65610665128088,
          20.765948338840047,
          20.875790026399187,
          20.985631713958327,
          21.095473401517495,
          21.205315089076635,
          21.315156776635774,
          21.424998464194942,
          21.534840151754082,
          21.644681839313222,
          21.75452352687239
         ],
         "yaxis": "y"
        },
        {
         "hovertemplate": "RCP=historical<br>Year=%{x}<br>WetSoilDays_Summer_top50=%{y}<extra></extra>",
         "legendgroup": "historical",
         "marker": {
          "color": "#00cc96",
          "symbol": "circle"
         },
         "mode": "lines",
         "name": "historical",
         "orientation": "v",
         "showlegend": false,
         "type": "scatter",
         "x": [
          2060,
          2061,
          2062,
          2063,
          2064,
          2065,
          2066,
          2067,
          2068,
          2069,
          2070,
          2071,
          2072,
          2073,
          2074,
          2075,
          2076,
          2077,
          2078,
          2079,
          2080,
          2081,
          2082,
          2083,
          2084,
          2085,
          2086,
          2087,
          2088,
          2089,
          2090,
          2091,
          2092,
          2093,
          2094,
          2095,
          2096,
          2097,
          2098,
          2099
         ],
         "xaxis": "x",
         "y": [
          null,
          null,
          null,
          null,
          null,
          null,
          null,
          null,
          null,
          null,
          null,
          null,
          null,
          null,
          null,
          null,
          null,
          null,
          null,
          null,
          null,
          null,
          null,
          null,
          null,
          null,
          null,
          null,
          null,
          null,
          null,
          null,
          null,
          null,
          null,
          null,
          null,
          null,
          null,
          null
         ],
         "yaxis": "y"
        },
        {
         "hovertemplate": "RCP=historical<extra></extra>",
         "legendgroup": "historical",
         "marker": {
          "color": "#00cc96",
          "symbol": "circle"
         },
         "mode": "lines",
         "name": "historical",
         "showlegend": false,
         "type": "scatter",
         "xaxis": "x",
         "yaxis": "y"
        }
       ],
       "layout": {
        "legend": {
         "title": {
          "text": "RCP"
         },
         "tracegroupgap": 0
        },
        "template": {
         "data": {
          "bar": [
           {
            "error_x": {
             "color": "#2a3f5f"
            },
            "error_y": {
             "color": "#2a3f5f"
            },
            "marker": {
             "line": {
              "color": "#E5ECF6",
              "width": 0.5
             },
             "pattern": {
              "fillmode": "overlay",
              "size": 10,
              "solidity": 0.2
             }
            },
            "type": "bar"
           }
          ],
          "barpolar": [
           {
            "marker": {
             "line": {
              "color": "#E5ECF6",
              "width": 0.5
             },
             "pattern": {
              "fillmode": "overlay",
              "size": 10,
              "solidity": 0.2
             }
            },
            "type": "barpolar"
           }
          ],
          "carpet": [
           {
            "aaxis": {
             "endlinecolor": "#2a3f5f",
             "gridcolor": "white",
             "linecolor": "white",
             "minorgridcolor": "white",
             "startlinecolor": "#2a3f5f"
            },
            "baxis": {
             "endlinecolor": "#2a3f5f",
             "gridcolor": "white",
             "linecolor": "white",
             "minorgridcolor": "white",
             "startlinecolor": "#2a3f5f"
            },
            "type": "carpet"
           }
          ],
          "choropleth": [
           {
            "colorbar": {
             "outlinewidth": 0,
             "ticks": ""
            },
            "type": "choropleth"
           }
          ],
          "contour": [
           {
            "colorbar": {
             "outlinewidth": 0,
             "ticks": ""
            },
            "colorscale": [
             [
              0,
              "#0d0887"
             ],
             [
              0.1111111111111111,
              "#46039f"
             ],
             [
              0.2222222222222222,
              "#7201a8"
             ],
             [
              0.3333333333333333,
              "#9c179e"
             ],
             [
              0.4444444444444444,
              "#bd3786"
             ],
             [
              0.5555555555555556,
              "#d8576b"
             ],
             [
              0.6666666666666666,
              "#ed7953"
             ],
             [
              0.7777777777777778,
              "#fb9f3a"
             ],
             [
              0.8888888888888888,
              "#fdca26"
             ],
             [
              1,
              "#f0f921"
             ]
            ],
            "type": "contour"
           }
          ],
          "contourcarpet": [
           {
            "colorbar": {
             "outlinewidth": 0,
             "ticks": ""
            },
            "type": "contourcarpet"
           }
          ],
          "heatmap": [
           {
            "colorbar": {
             "outlinewidth": 0,
             "ticks": ""
            },
            "colorscale": [
             [
              0,
              "#0d0887"
             ],
             [
              0.1111111111111111,
              "#46039f"
             ],
             [
              0.2222222222222222,
              "#7201a8"
             ],
             [
              0.3333333333333333,
              "#9c179e"
             ],
             [
              0.4444444444444444,
              "#bd3786"
             ],
             [
              0.5555555555555556,
              "#d8576b"
             ],
             [
              0.6666666666666666,
              "#ed7953"
             ],
             [
              0.7777777777777778,
              "#fb9f3a"
             ],
             [
              0.8888888888888888,
              "#fdca26"
             ],
             [
              1,
              "#f0f921"
             ]
            ],
            "type": "heatmap"
           }
          ],
          "heatmapgl": [
           {
            "colorbar": {
             "outlinewidth": 0,
             "ticks": ""
            },
            "colorscale": [
             [
              0,
              "#0d0887"
             ],
             [
              0.1111111111111111,
              "#46039f"
             ],
             [
              0.2222222222222222,
              "#7201a8"
             ],
             [
              0.3333333333333333,
              "#9c179e"
             ],
             [
              0.4444444444444444,
              "#bd3786"
             ],
             [
              0.5555555555555556,
              "#d8576b"
             ],
             [
              0.6666666666666666,
              "#ed7953"
             ],
             [
              0.7777777777777778,
              "#fb9f3a"
             ],
             [
              0.8888888888888888,
              "#fdca26"
             ],
             [
              1,
              "#f0f921"
             ]
            ],
            "type": "heatmapgl"
           }
          ],
          "histogram": [
           {
            "marker": {
             "pattern": {
              "fillmode": "overlay",
              "size": 10,
              "solidity": 0.2
             }
            },
            "type": "histogram"
           }
          ],
          "histogram2d": [
           {
            "colorbar": {
             "outlinewidth": 0,
             "ticks": ""
            },
            "colorscale": [
             [
              0,
              "#0d0887"
             ],
             [
              0.1111111111111111,
              "#46039f"
             ],
             [
              0.2222222222222222,
              "#7201a8"
             ],
             [
              0.3333333333333333,
              "#9c179e"
             ],
             [
              0.4444444444444444,
              "#bd3786"
             ],
             [
              0.5555555555555556,
              "#d8576b"
             ],
             [
              0.6666666666666666,
              "#ed7953"
             ],
             [
              0.7777777777777778,
              "#fb9f3a"
             ],
             [
              0.8888888888888888,
              "#fdca26"
             ],
             [
              1,
              "#f0f921"
             ]
            ],
            "type": "histogram2d"
           }
          ],
          "histogram2dcontour": [
           {
            "colorbar": {
             "outlinewidth": 0,
             "ticks": ""
            },
            "colorscale": [
             [
              0,
              "#0d0887"
             ],
             [
              0.1111111111111111,
              "#46039f"
             ],
             [
              0.2222222222222222,
              "#7201a8"
             ],
             [
              0.3333333333333333,
              "#9c179e"
             ],
             [
              0.4444444444444444,
              "#bd3786"
             ],
             [
              0.5555555555555556,
              "#d8576b"
             ],
             [
              0.6666666666666666,
              "#ed7953"
             ],
             [
              0.7777777777777778,
              "#fb9f3a"
             ],
             [
              0.8888888888888888,
              "#fdca26"
             ],
             [
              1,
              "#f0f921"
             ]
            ],
            "type": "histogram2dcontour"
           }
          ],
          "mesh3d": [
           {
            "colorbar": {
             "outlinewidth": 0,
             "ticks": ""
            },
            "type": "mesh3d"
           }
          ],
          "parcoords": [
           {
            "line": {
             "colorbar": {
              "outlinewidth": 0,
              "ticks": ""
             }
            },
            "type": "parcoords"
           }
          ],
          "pie": [
           {
            "automargin": true,
            "type": "pie"
           }
          ],
          "scatter": [
           {
            "fillpattern": {
             "fillmode": "overlay",
             "size": 10,
             "solidity": 0.2
            },
            "type": "scatter"
           }
          ],
          "scatter3d": [
           {
            "line": {
             "colorbar": {
              "outlinewidth": 0,
              "ticks": ""
             }
            },
            "marker": {
             "colorbar": {
              "outlinewidth": 0,
              "ticks": ""
             }
            },
            "type": "scatter3d"
           }
          ],
          "scattercarpet": [
           {
            "marker": {
             "colorbar": {
              "outlinewidth": 0,
              "ticks": ""
             }
            },
            "type": "scattercarpet"
           }
          ],
          "scattergeo": [
           {
            "marker": {
             "colorbar": {
              "outlinewidth": 0,
              "ticks": ""
             }
            },
            "type": "scattergeo"
           }
          ],
          "scattergl": [
           {
            "marker": {
             "colorbar": {
              "outlinewidth": 0,
              "ticks": ""
             }
            },
            "type": "scattergl"
           }
          ],
          "scattermapbox": [
           {
            "marker": {
             "colorbar": {
              "outlinewidth": 0,
              "ticks": ""
             }
            },
            "type": "scattermapbox"
           }
          ],
          "scatterpolar": [
           {
            "marker": {
             "colorbar": {
              "outlinewidth": 0,
              "ticks": ""
             }
            },
            "type": "scatterpolar"
           }
          ],
          "scatterpolargl": [
           {
            "marker": {
             "colorbar": {
              "outlinewidth": 0,
              "ticks": ""
             }
            },
            "type": "scatterpolargl"
           }
          ],
          "scatterternary": [
           {
            "marker": {
             "colorbar": {
              "outlinewidth": 0,
              "ticks": ""
             }
            },
            "type": "scatterternary"
           }
          ],
          "surface": [
           {
            "colorbar": {
             "outlinewidth": 0,
             "ticks": ""
            },
            "colorscale": [
             [
              0,
              "#0d0887"
             ],
             [
              0.1111111111111111,
              "#46039f"
             ],
             [
              0.2222222222222222,
              "#7201a8"
             ],
             [
              0.3333333333333333,
              "#9c179e"
             ],
             [
              0.4444444444444444,
              "#bd3786"
             ],
             [
              0.5555555555555556,
              "#d8576b"
             ],
             [
              0.6666666666666666,
              "#ed7953"
             ],
             [
              0.7777777777777778,
              "#fb9f3a"
             ],
             [
              0.8888888888888888,
              "#fdca26"
             ],
             [
              1,
              "#f0f921"
             ]
            ],
            "type": "surface"
           }
          ],
          "table": [
           {
            "cells": {
             "fill": {
              "color": "#EBF0F8"
             },
             "line": {
              "color": "white"
             }
            },
            "header": {
             "fill": {
              "color": "#C8D4E3"
             },
             "line": {
              "color": "white"
             }
            },
            "type": "table"
           }
          ]
         },
         "layout": {
          "annotationdefaults": {
           "arrowcolor": "#2a3f5f",
           "arrowhead": 0,
           "arrowwidth": 1
          },
          "autotypenumbers": "strict",
          "coloraxis": {
           "colorbar": {
            "outlinewidth": 0,
            "ticks": ""
           }
          },
          "colorscale": {
           "diverging": [
            [
             0,
             "#8e0152"
            ],
            [
             0.1,
             "#c51b7d"
            ],
            [
             0.2,
             "#de77ae"
            ],
            [
             0.3,
             "#f1b6da"
            ],
            [
             0.4,
             "#fde0ef"
            ],
            [
             0.5,
             "#f7f7f7"
            ],
            [
             0.6,
             "#e6f5d0"
            ],
            [
             0.7,
             "#b8e186"
            ],
            [
             0.8,
             "#7fbc41"
            ],
            [
             0.9,
             "#4d9221"
            ],
            [
             1,
             "#276419"
            ]
           ],
           "sequential": [
            [
             0,
             "#0d0887"
            ],
            [
             0.1111111111111111,
             "#46039f"
            ],
            [
             0.2222222222222222,
             "#7201a8"
            ],
            [
             0.3333333333333333,
             "#9c179e"
            ],
            [
             0.4444444444444444,
             "#bd3786"
            ],
            [
             0.5555555555555556,
             "#d8576b"
            ],
            [
             0.6666666666666666,
             "#ed7953"
            ],
            [
             0.7777777777777778,
             "#fb9f3a"
            ],
            [
             0.8888888888888888,
             "#fdca26"
            ],
            [
             1,
             "#f0f921"
            ]
           ],
           "sequentialminus": [
            [
             0,
             "#0d0887"
            ],
            [
             0.1111111111111111,
             "#46039f"
            ],
            [
             0.2222222222222222,
             "#7201a8"
            ],
            [
             0.3333333333333333,
             "#9c179e"
            ],
            [
             0.4444444444444444,
             "#bd3786"
            ],
            [
             0.5555555555555556,
             "#d8576b"
            ],
            [
             0.6666666666666666,
             "#ed7953"
            ],
            [
             0.7777777777777778,
             "#fb9f3a"
            ],
            [
             0.8888888888888888,
             "#fdca26"
            ],
            [
             1,
             "#f0f921"
            ]
           ]
          },
          "colorway": [
           "#636efa",
           "#EF553B",
           "#00cc96",
           "#ab63fa",
           "#FFA15A",
           "#19d3f3",
           "#FF6692",
           "#B6E880",
           "#FF97FF",
           "#FECB52"
          ],
          "font": {
           "color": "#2a3f5f"
          },
          "geo": {
           "bgcolor": "white",
           "lakecolor": "white",
           "landcolor": "#E5ECF6",
           "showlakes": true,
           "showland": true,
           "subunitcolor": "white"
          },
          "hoverlabel": {
           "align": "left"
          },
          "hovermode": "closest",
          "mapbox": {
           "style": "light"
          },
          "paper_bgcolor": "white",
          "plot_bgcolor": "#E5ECF6",
          "polar": {
           "angularaxis": {
            "gridcolor": "white",
            "linecolor": "white",
            "ticks": ""
           },
           "bgcolor": "#E5ECF6",
           "radialaxis": {
            "gridcolor": "white",
            "linecolor": "white",
            "ticks": ""
           }
          },
          "scene": {
           "xaxis": {
            "backgroundcolor": "#E5ECF6",
            "gridcolor": "white",
            "gridwidth": 2,
            "linecolor": "white",
            "showbackground": true,
            "ticks": "",
            "zerolinecolor": "white"
           },
           "yaxis": {
            "backgroundcolor": "#E5ECF6",
            "gridcolor": "white",
            "gridwidth": 2,
            "linecolor": "white",
            "showbackground": true,
            "ticks": "",
            "zerolinecolor": "white"
           },
           "zaxis": {
            "backgroundcolor": "#E5ECF6",
            "gridcolor": "white",
            "gridwidth": 2,
            "linecolor": "white",
            "showbackground": true,
            "ticks": "",
            "zerolinecolor": "white"
           }
          },
          "shapedefaults": {
           "line": {
            "color": "#2a3f5f"
           }
          },
          "ternary": {
           "aaxis": {
            "gridcolor": "white",
            "linecolor": "white",
            "ticks": ""
           },
           "baxis": {
            "gridcolor": "white",
            "linecolor": "white",
            "ticks": ""
           },
           "bgcolor": "#E5ECF6",
           "caxis": {
            "gridcolor": "white",
            "linecolor": "white",
            "ticks": ""
           }
          },
          "title": {
           "x": 0.05
          },
          "xaxis": {
           "automargin": true,
           "gridcolor": "white",
           "linecolor": "white",
           "ticks": "",
           "title": {
            "standoff": 15
           },
           "zerolinecolor": "white",
           "zerolinewidth": 2
          },
          "yaxis": {
           "automargin": true,
           "gridcolor": "white",
           "linecolor": "white",
           "ticks": "",
           "title": {
            "standoff": 15
           },
           "zerolinecolor": "white",
           "zerolinewidth": 2
          }
         }
        },
        "title": {
         "text": "Near Term Seasonal Mean Soil Water Availibility"
        },
        "xaxis": {
         "anchor": "y",
         "domain": [
          0,
          1
         ],
         "title": {
          "text": "Year"
         }
        },
        "yaxis": {
         "anchor": "x",
         "domain": [
          0,
          1
         ],
         "title": {
          "text": "WetSoilDays_Summer_top50"
         }
        }
       }
      },
      "text/html": [
       "<div>                            <div id=\"4df31b67-59bd-4137-9e25-9e19f7cc3f30\" class=\"plotly-graph-div\" style=\"height:525px; width:100%;\"></div>            <script type=\"text/javascript\">                require([\"plotly\"], function(Plotly) {                    window.PLOTLYENV=window.PLOTLYENV || {};                                    if (document.getElementById(\"4df31b67-59bd-4137-9e25-9e19f7cc3f30\")) {                    Plotly.newPlot(                        \"4df31b67-59bd-4137-9e25-9e19f7cc3f30\",                        [{\"hovertemplate\":\"RCP=4.5\\u003cbr\\u003eYear=%{x}\\u003cbr\\u003eWetSoilDays_Summer_top50=%{y}\\u003cextra\\u003e\\u003c\\u002fextra\\u003e\",\"legendgroup\":\"4.5\",\"marker\":{\"color\":\"#636efa\",\"symbol\":\"circle\"},\"mode\":\"lines\",\"name\":\"4.5\",\"orientation\":\"v\",\"showlegend\":true,\"x\":[2060,2061,2062,2063,2064,2065,2066,2067,2068,2069,2070,2071,2072,2073,2074,2075,2076,2077,2078,2079,2080,2081,2082,2083,2084,2085,2086,2087,2088,2089,2090,2091,2092,2093,2094,2095,2096,2097,2098,2099],\"xaxis\":\"x\",\"y\":[21.389823008849557,18.192477876106196,19.45486725663717,20.077433628318584,18.047345132743363,18.829646017699115,13.423008849557522,17.707964601769913,13.611061946902655,12.792920353982302,19.00132743362832,16.388938053097345,18.796902654867257,19.542035398230087,22.384070796460176,13.532743362831859,18.64778761061947,19.779646017699115,19.576106194690265,20.428318584070798,17.38274336283186,15.684070796460176,20.51769911504425,15.236725663716815,23.74646017699115,20.000884955752213,19.36283185840708,14.965929203539822,18.049115044247788,17.47477876106195,17.140265486725664,20.264159292035398,18.580530973451328,13.664601769911505,20.348672566371683,20.039823008849556,15.27787610619469,21.213274336283185,19.013274336283185,17.127433628318585],\"yaxis\":\"y\",\"type\":\"scatter\"},{\"hovertemplate\":\"\\u003cb\\u003eOLS trendline\\u003c\\u002fb\\u003e\\u003cbr\\u003eWetSoilDays_Summer_top50 = 0.0108809 * year + -4.45942\\u003cbr\\u003eR\\u003csup\\u003e2\\u003c\\u002fsup\\u003e=0.002381\\u003cbr\\u003e\\u003cbr\\u003eRCP=4.5\\u003cbr\\u003eYear=%{x}\\u003cbr\\u003eWetSoilDays_Summer_top50=%{y} \\u003cb\\u003e(trend)\\u003c\\u002fb\\u003e\\u003cextra\\u003e\\u003c\\u002fextra\\u003e\",\"legendgroup\":\"4.5\",\"marker\":{\"color\":\"#636efa\",\"symbol\":\"circle\"},\"mode\":\"lines\",\"name\":\"4.5\",\"showlegend\":false,\"x\":[2060,2061,2062,2063,2064,2065,2066,2067,2068,2069,2070,2071,2072,2073,2074,2075,2076,2077,2078,2079,2080,2081,2082,2083,2084,2085,2086,2087,2088,2089,2090,2091,2092,2093,2094,2095,2096,2097,2098,2099],\"xaxis\":\"x\",\"y\":[17.955212065616593,17.96609295356094,17.976973841505284,17.98785472944963,17.998735617393976,18.00961650533832,18.020497393282668,18.031378281227013,18.04225916917136,18.053140057115705,18.06402094506005,18.074901833004397,18.085782720948743,18.09666360889309,18.107544496837434,18.11842538478178,18.129306272726126,18.14018716067047,18.151068048614817,18.161948936559163,18.17282982450351,18.183710712447855,18.1945916003922,18.205472488336547,18.216353376280892,18.22723426422524,18.238115152169584,18.24899604011393,18.259876928058276,18.27075781600262,18.281638703946967,18.292519591891313,18.30340047983566,18.314281367780005,18.32516225572435,18.336043143668697,18.346924031613042,18.35780491955739,18.368685807501734,18.37956669544608],\"yaxis\":\"y\",\"type\":\"scatter\"},{\"hovertemplate\":\"RCP=8.5\\u003cbr\\u003eYear=%{x}\\u003cbr\\u003eWetSoilDays_Summer_top50=%{y}\\u003cextra\\u003e\\u003c\\u002fextra\\u003e\",\"legendgroup\":\"8.5\",\"marker\":{\"color\":\"#EF553B\",\"symbol\":\"circle\"},\"mode\":\"lines\",\"name\":\"8.5\",\"orientation\":\"v\",\"showlegend\":true,\"x\":[2060,2061,2062,2063,2064,2065,2066,2067,2068,2069,2070,2071,2072,2073,2074,2075,2076,2077,2078,2079,2080,2081,2082,2083,2084,2085,2086,2087,2088,2089,2090,2091,2092,2093,2094,2095,2096,2097,2098,2099],\"xaxis\":\"x\",\"y\":[19.666371681415928,19.030530973451327,16.15442477876106,13.630530973451327,17.158849557522124,16.711946902654866,19.78362831858407,22.864601769911506,17.941592920353983,18.586283185840706,17.81769911504425,17.671681415929203,21.93230088495575,16.908407079646018,15.758849557522124,17.43716814159292,24.448230088495574,18.163274336283187,17.989380530973452,15.709734513274336,19.583185840707966,20.349557522123895,16.17920353982301,21.61150442477876,19.252654867256638,22.569026548672568,19.085398230088497,22.857522123893805,24.314601769911505,22.062389380530973,26.093362831858407,18.7,22.076991150442478,22.218141592920354,20.075221238938052,24.724336283185842,17.049557522123894,20.18938053097345,19.567256637168143,20.579646017699115],\"yaxis\":\"y\",\"type\":\"scatter\"},{\"hovertemplate\":\"\\u003cb\\u003eOLS trendline\\u003c\\u002fb\\u003e\\u003cbr\\u003eWetSoilDays_Summer_top50 = 0.109842 * year + -208.803\\u003cbr\\u003eR\\u003csup\\u003e2\\u003c\\u002fsup\\u003e=0.205074\\u003cbr\\u003e\\u003cbr\\u003eRCP=8.5\\u003cbr\\u003eYear=%{x}\\u003cbr\\u003eWetSoilDays_Summer_top50=%{y} \\u003cb\\u003e(trend)\\u003c\\u002fb\\u003e\\u003cextra\\u003e\\u003c\\u002fextra\\u003e\",\"legendgroup\":\"8.5\",\"marker\":{\"color\":\"#EF553B\",\"symbol\":\"circle\"},\"mode\":\"lines\",\"name\":\"8.5\",\"showlegend\":false,\"x\":[2060,2061,2062,2063,2064,2065,2066,2067,2068,2069,2070,2071,2072,2073,2074,2075,2076,2077,2078,2079,2080,2081,2082,2083,2084,2085,2086,2087,2088,2089,2090,2091,2092,2093,2094,2095,2096,2097,2098,2099],\"xaxis\":\"x\",\"y\":[17.470697712065572,17.580539399624712,17.69038108718388,17.80022277474302,17.91006446230216,18.019906149861328,18.129747837420467,18.239589524979607,18.349431212538775,18.459272900097915,18.569114587657054,18.678956275216194,18.788797962775362,18.898639650334502,19.00848133789364,19.11832302545281,19.22816471301195,19.33800640057109,19.447848088130257,19.557689775689397,19.667531463248537,19.777373150807705,19.887214838366845,19.997056525925984,20.106898213485152,20.216739901044292,20.326581588603432,20.4364232761626,20.54626496372174,20.65610665128088,20.765948338840047,20.875790026399187,20.985631713958327,21.095473401517495,21.205315089076635,21.315156776635774,21.424998464194942,21.534840151754082,21.644681839313222,21.75452352687239],\"yaxis\":\"y\",\"type\":\"scatter\"},{\"hovertemplate\":\"RCP=historical\\u003cbr\\u003eYear=%{x}\\u003cbr\\u003eWetSoilDays_Summer_top50=%{y}\\u003cextra\\u003e\\u003c\\u002fextra\\u003e\",\"legendgroup\":\"historical\",\"marker\":{\"color\":\"#00cc96\",\"symbol\":\"circle\"},\"mode\":\"lines\",\"name\":\"historical\",\"orientation\":\"v\",\"showlegend\":false,\"x\":[2060,2061,2062,2063,2064,2065,2066,2067,2068,2069,2070,2071,2072,2073,2074,2075,2076,2077,2078,2079,2080,2081,2082,2083,2084,2085,2086,2087,2088,2089,2090,2091,2092,2093,2094,2095,2096,2097,2098,2099],\"xaxis\":\"x\",\"y\":[null,null,null,null,null,null,null,null,null,null,null,null,null,null,null,null,null,null,null,null,null,null,null,null,null,null,null,null,null,null,null,null,null,null,null,null,null,null,null,null],\"yaxis\":\"y\",\"type\":\"scatter\"},{\"hovertemplate\":\"RCP=historical\\u003cextra\\u003e\\u003c\\u002fextra\\u003e\",\"legendgroup\":\"historical\",\"marker\":{\"color\":\"#00cc96\",\"symbol\":\"circle\"},\"mode\":\"lines\",\"name\":\"historical\",\"showlegend\":false,\"xaxis\":\"x\",\"yaxis\":\"y\",\"type\":\"scatter\"}],                        {\"template\":{\"data\":{\"histogram2dcontour\":[{\"type\":\"histogram2dcontour\",\"colorbar\":{\"outlinewidth\":0,\"ticks\":\"\"},\"colorscale\":[[0.0,\"#0d0887\"],[0.1111111111111111,\"#46039f\"],[0.2222222222222222,\"#7201a8\"],[0.3333333333333333,\"#9c179e\"],[0.4444444444444444,\"#bd3786\"],[0.5555555555555556,\"#d8576b\"],[0.6666666666666666,\"#ed7953\"],[0.7777777777777778,\"#fb9f3a\"],[0.8888888888888888,\"#fdca26\"],[1.0,\"#f0f921\"]]}],\"choropleth\":[{\"type\":\"choropleth\",\"colorbar\":{\"outlinewidth\":0,\"ticks\":\"\"}}],\"histogram2d\":[{\"type\":\"histogram2d\",\"colorbar\":{\"outlinewidth\":0,\"ticks\":\"\"},\"colorscale\":[[0.0,\"#0d0887\"],[0.1111111111111111,\"#46039f\"],[0.2222222222222222,\"#7201a8\"],[0.3333333333333333,\"#9c179e\"],[0.4444444444444444,\"#bd3786\"],[0.5555555555555556,\"#d8576b\"],[0.6666666666666666,\"#ed7953\"],[0.7777777777777778,\"#fb9f3a\"],[0.8888888888888888,\"#fdca26\"],[1.0,\"#f0f921\"]]}],\"heatmap\":[{\"type\":\"heatmap\",\"colorbar\":{\"outlinewidth\":0,\"ticks\":\"\"},\"colorscale\":[[0.0,\"#0d0887\"],[0.1111111111111111,\"#46039f\"],[0.2222222222222222,\"#7201a8\"],[0.3333333333333333,\"#9c179e\"],[0.4444444444444444,\"#bd3786\"],[0.5555555555555556,\"#d8576b\"],[0.6666666666666666,\"#ed7953\"],[0.7777777777777778,\"#fb9f3a\"],[0.8888888888888888,\"#fdca26\"],[1.0,\"#f0f921\"]]}],\"heatmapgl\":[{\"type\":\"heatmapgl\",\"colorbar\":{\"outlinewidth\":0,\"ticks\":\"\"},\"colorscale\":[[0.0,\"#0d0887\"],[0.1111111111111111,\"#46039f\"],[0.2222222222222222,\"#7201a8\"],[0.3333333333333333,\"#9c179e\"],[0.4444444444444444,\"#bd3786\"],[0.5555555555555556,\"#d8576b\"],[0.6666666666666666,\"#ed7953\"],[0.7777777777777778,\"#fb9f3a\"],[0.8888888888888888,\"#fdca26\"],[1.0,\"#f0f921\"]]}],\"contourcarpet\":[{\"type\":\"contourcarpet\",\"colorbar\":{\"outlinewidth\":0,\"ticks\":\"\"}}],\"contour\":[{\"type\":\"contour\",\"colorbar\":{\"outlinewidth\":0,\"ticks\":\"\"},\"colorscale\":[[0.0,\"#0d0887\"],[0.1111111111111111,\"#46039f\"],[0.2222222222222222,\"#7201a8\"],[0.3333333333333333,\"#9c179e\"],[0.4444444444444444,\"#bd3786\"],[0.5555555555555556,\"#d8576b\"],[0.6666666666666666,\"#ed7953\"],[0.7777777777777778,\"#fb9f3a\"],[0.8888888888888888,\"#fdca26\"],[1.0,\"#f0f921\"]]}],\"surface\":[{\"type\":\"surface\",\"colorbar\":{\"outlinewidth\":0,\"ticks\":\"\"},\"colorscale\":[[0.0,\"#0d0887\"],[0.1111111111111111,\"#46039f\"],[0.2222222222222222,\"#7201a8\"],[0.3333333333333333,\"#9c179e\"],[0.4444444444444444,\"#bd3786\"],[0.5555555555555556,\"#d8576b\"],[0.6666666666666666,\"#ed7953\"],[0.7777777777777778,\"#fb9f3a\"],[0.8888888888888888,\"#fdca26\"],[1.0,\"#f0f921\"]]}],\"mesh3d\":[{\"type\":\"mesh3d\",\"colorbar\":{\"outlinewidth\":0,\"ticks\":\"\"}}],\"scatter\":[{\"fillpattern\":{\"fillmode\":\"overlay\",\"size\":10,\"solidity\":0.2},\"type\":\"scatter\"}],\"parcoords\":[{\"type\":\"parcoords\",\"line\":{\"colorbar\":{\"outlinewidth\":0,\"ticks\":\"\"}}}],\"scatterpolargl\":[{\"type\":\"scatterpolargl\",\"marker\":{\"colorbar\":{\"outlinewidth\":0,\"ticks\":\"\"}}}],\"bar\":[{\"error_x\":{\"color\":\"#2a3f5f\"},\"error_y\":{\"color\":\"#2a3f5f\"},\"marker\":{\"line\":{\"color\":\"#E5ECF6\",\"width\":0.5},\"pattern\":{\"fillmode\":\"overlay\",\"size\":10,\"solidity\":0.2}},\"type\":\"bar\"}],\"scattergeo\":[{\"type\":\"scattergeo\",\"marker\":{\"colorbar\":{\"outlinewidth\":0,\"ticks\":\"\"}}}],\"scatterpolar\":[{\"type\":\"scatterpolar\",\"marker\":{\"colorbar\":{\"outlinewidth\":0,\"ticks\":\"\"}}}],\"histogram\":[{\"marker\":{\"pattern\":{\"fillmode\":\"overlay\",\"size\":10,\"solidity\":0.2}},\"type\":\"histogram\"}],\"scattergl\":[{\"type\":\"scattergl\",\"marker\":{\"colorbar\":{\"outlinewidth\":0,\"ticks\":\"\"}}}],\"scatter3d\":[{\"type\":\"scatter3d\",\"line\":{\"colorbar\":{\"outlinewidth\":0,\"ticks\":\"\"}},\"marker\":{\"colorbar\":{\"outlinewidth\":0,\"ticks\":\"\"}}}],\"scattermapbox\":[{\"type\":\"scattermapbox\",\"marker\":{\"colorbar\":{\"outlinewidth\":0,\"ticks\":\"\"}}}],\"scatterternary\":[{\"type\":\"scatterternary\",\"marker\":{\"colorbar\":{\"outlinewidth\":0,\"ticks\":\"\"}}}],\"scattercarpet\":[{\"type\":\"scattercarpet\",\"marker\":{\"colorbar\":{\"outlinewidth\":0,\"ticks\":\"\"}}}],\"carpet\":[{\"aaxis\":{\"endlinecolor\":\"#2a3f5f\",\"gridcolor\":\"white\",\"linecolor\":\"white\",\"minorgridcolor\":\"white\",\"startlinecolor\":\"#2a3f5f\"},\"baxis\":{\"endlinecolor\":\"#2a3f5f\",\"gridcolor\":\"white\",\"linecolor\":\"white\",\"minorgridcolor\":\"white\",\"startlinecolor\":\"#2a3f5f\"},\"type\":\"carpet\"}],\"table\":[{\"cells\":{\"fill\":{\"color\":\"#EBF0F8\"},\"line\":{\"color\":\"white\"}},\"header\":{\"fill\":{\"color\":\"#C8D4E3\"},\"line\":{\"color\":\"white\"}},\"type\":\"table\"}],\"barpolar\":[{\"marker\":{\"line\":{\"color\":\"#E5ECF6\",\"width\":0.5},\"pattern\":{\"fillmode\":\"overlay\",\"size\":10,\"solidity\":0.2}},\"type\":\"barpolar\"}],\"pie\":[{\"automargin\":true,\"type\":\"pie\"}]},\"layout\":{\"autotypenumbers\":\"strict\",\"colorway\":[\"#636efa\",\"#EF553B\",\"#00cc96\",\"#ab63fa\",\"#FFA15A\",\"#19d3f3\",\"#FF6692\",\"#B6E880\",\"#FF97FF\",\"#FECB52\"],\"font\":{\"color\":\"#2a3f5f\"},\"hovermode\":\"closest\",\"hoverlabel\":{\"align\":\"left\"},\"paper_bgcolor\":\"white\",\"plot_bgcolor\":\"#E5ECF6\",\"polar\":{\"bgcolor\":\"#E5ECF6\",\"angularaxis\":{\"gridcolor\":\"white\",\"linecolor\":\"white\",\"ticks\":\"\"},\"radialaxis\":{\"gridcolor\":\"white\",\"linecolor\":\"white\",\"ticks\":\"\"}},\"ternary\":{\"bgcolor\":\"#E5ECF6\",\"aaxis\":{\"gridcolor\":\"white\",\"linecolor\":\"white\",\"ticks\":\"\"},\"baxis\":{\"gridcolor\":\"white\",\"linecolor\":\"white\",\"ticks\":\"\"},\"caxis\":{\"gridcolor\":\"white\",\"linecolor\":\"white\",\"ticks\":\"\"}},\"coloraxis\":{\"colorbar\":{\"outlinewidth\":0,\"ticks\":\"\"}},\"colorscale\":{\"sequential\":[[0.0,\"#0d0887\"],[0.1111111111111111,\"#46039f\"],[0.2222222222222222,\"#7201a8\"],[0.3333333333333333,\"#9c179e\"],[0.4444444444444444,\"#bd3786\"],[0.5555555555555556,\"#d8576b\"],[0.6666666666666666,\"#ed7953\"],[0.7777777777777778,\"#fb9f3a\"],[0.8888888888888888,\"#fdca26\"],[1.0,\"#f0f921\"]],\"sequentialminus\":[[0.0,\"#0d0887\"],[0.1111111111111111,\"#46039f\"],[0.2222222222222222,\"#7201a8\"],[0.3333333333333333,\"#9c179e\"],[0.4444444444444444,\"#bd3786\"],[0.5555555555555556,\"#d8576b\"],[0.6666666666666666,\"#ed7953\"],[0.7777777777777778,\"#fb9f3a\"],[0.8888888888888888,\"#fdca26\"],[1.0,\"#f0f921\"]],\"diverging\":[[0,\"#8e0152\"],[0.1,\"#c51b7d\"],[0.2,\"#de77ae\"],[0.3,\"#f1b6da\"],[0.4,\"#fde0ef\"],[0.5,\"#f7f7f7\"],[0.6,\"#e6f5d0\"],[0.7,\"#b8e186\"],[0.8,\"#7fbc41\"],[0.9,\"#4d9221\"],[1,\"#276419\"]]},\"xaxis\":{\"gridcolor\":\"white\",\"linecolor\":\"white\",\"ticks\":\"\",\"title\":{\"standoff\":15},\"zerolinecolor\":\"white\",\"automargin\":true,\"zerolinewidth\":2},\"yaxis\":{\"gridcolor\":\"white\",\"linecolor\":\"white\",\"ticks\":\"\",\"title\":{\"standoff\":15},\"zerolinecolor\":\"white\",\"automargin\":true,\"zerolinewidth\":2},\"scene\":{\"xaxis\":{\"backgroundcolor\":\"#E5ECF6\",\"gridcolor\":\"white\",\"linecolor\":\"white\",\"showbackground\":true,\"ticks\":\"\",\"zerolinecolor\":\"white\",\"gridwidth\":2},\"yaxis\":{\"backgroundcolor\":\"#E5ECF6\",\"gridcolor\":\"white\",\"linecolor\":\"white\",\"showbackground\":true,\"ticks\":\"\",\"zerolinecolor\":\"white\",\"gridwidth\":2},\"zaxis\":{\"backgroundcolor\":\"#E5ECF6\",\"gridcolor\":\"white\",\"linecolor\":\"white\",\"showbackground\":true,\"ticks\":\"\",\"zerolinecolor\":\"white\",\"gridwidth\":2}},\"shapedefaults\":{\"line\":{\"color\":\"#2a3f5f\"}},\"annotationdefaults\":{\"arrowcolor\":\"#2a3f5f\",\"arrowhead\":0,\"arrowwidth\":1},\"geo\":{\"bgcolor\":\"white\",\"landcolor\":\"#E5ECF6\",\"subunitcolor\":\"white\",\"showland\":true,\"showlakes\":true,\"lakecolor\":\"white\"},\"title\":{\"x\":0.05},\"mapbox\":{\"style\":\"light\"}}},\"xaxis\":{\"anchor\":\"y\",\"domain\":[0.0,1.0],\"title\":{\"text\":\"Year\"}},\"yaxis\":{\"anchor\":\"x\",\"domain\":[0.0,1.0],\"title\":{\"text\":\"WetSoilDays_Summer_top50\"}},\"legend\":{\"title\":{\"text\":\"RCP\"},\"tracegroupgap\":0},\"title\":{\"text\":\"Near Term Seasonal Mean Soil Water Availibility\"}},                        {\"responsive\": true}                    ).then(function(){\n",
       "                            \n",
       "var gd = document.getElementById('4df31b67-59bd-4137-9e25-9e19f7cc3f30');\n",
       "var x = new MutationObserver(function (mutations, observer) {{\n",
       "        var display = window.getComputedStyle(gd).display;\n",
       "        if (!display || display === 'none') {{\n",
       "            console.log([gd, 'removed!']);\n",
       "            Plotly.purge(gd);\n",
       "            observer.disconnect();\n",
       "        }}\n",
       "}});\n",
       "\n",
       "// Listen for the removal of the full notebook cells\n",
       "var notebookContainer = gd.closest('#notebook-container');\n",
       "if (notebookContainer) {{\n",
       "    x.observe(notebookContainer, {childList: true});\n",
       "}}\n",
       "\n",
       "// Listen for the clearing of the current output cell\n",
       "var outputEl = gd.closest('.output');\n",
       "if (outputEl) {{\n",
       "    x.observe(outputEl, {childList: true});\n",
       "}}\n",
       "\n",
       "                        })                };                });            </script>        </div>"
      ]
     },
     "metadata": {},
     "output_type": "display_data"
    }
   ],
   "source": [
    "# set temp df for plot\n",
    "plot_df = df[df['TimePeriod'] == 'LT']\n",
    "#col\n",
    "# col = 'DrySoilDays_Summer_top50'\n",
    "# plot_df['mean'] = plot_df[['SWA_Winter_whole', 'SWA_Spring_whole', 'SWA_Summer_whole', 'SWA_Fall_whole']].mean(axis = 1)\n",
    "# find mean SWA of all collection site per year\n",
    "plot_df = plot_df.groupby(['year', 'RCP'])[col].mean().reset_index()\n",
    "#plotly plot\n",
    "fig = px.scatter(plot_df,\n",
    "              x='year',\n",
    "              y=col,\n",
    "              color= 'RCP',\n",
    "              title='Near Term Seasonal Mean Soil Water Availibility',\n",
    "              trendline='ols',\n",
    "              labels={\n",
    "                     \"year\": \"Year\",\n",
    "                     \"Tmax_Summer\": \"Water (CM)\"\n",
    "                 }\n",
    "              )\n",
    "fig.update_traces(mode='lines')\n",
    "#remove hist from legend\n",
    "for trace in fig.data:\n",
    "    if trace.name == 'historical':\n",
    "        trace.showlegend = False\n",
    "#print fig\n",
    "fig.show()"
   ]
  },
  {
   "cell_type": "code",
   "execution_count": 70,
   "metadata": {},
   "outputs": [
    {
     "name": "stdout",
     "output_type": "stream",
     "text": [
      "long max: -109.9659\n",
      "long min: -110.0472\n",
      "lat max: 37.63476\n",
      "lat min: 37.57034\n",
      "lat max: 37.63476\n",
      "lat min: 37.57034\n",
      "elevation max: 2004.064\n",
      "elevation min: 1740.206\n"
     ]
    }
   ],
   "source": [
    "#lat/long min max\n",
    "print(\"long max:\", df['long'].max())\n",
    "print(\"long min:\", df['long'].min())\n",
    "print(\"lat max:\", df['lat'].max())\n",
    "print(\"lat min:\", df['lat'].min())\n",
    "print(\"lat max:\", df['lat'].max())\n",
    "print(\"lat min:\", df['lat'].min())\n",
    "print(\"elevation max:\", df['El'].max())\n",
    "print(\"elevation min:\", df['El'].min())"
   ]
  },
  {
   "cell_type": "code",
   "execution_count": null,
   "metadata": {},
   "outputs": [],
   "source": [
    "%%R\n",
    "#test hist vs near term\n",
    "print(\"Welch's T-Test: Historical vs Near Term Data\")\n",
    "print(t.test(hist$T_Annual, nt$Tmax_Summer, alternative = \"two.sided\"))\n",
    "#test hist vs lt\n",
    "print(\"Welch's T-Test: Historical vs Long Term Data\")\n",
    "print(t.test(hist$T_Annual, lt$Tmax_Summer, alternative = \"two.sided\"))"
   ]
  }
 ],
 "metadata": {
  "kernelspec": {
   "display_name": "DSAN",
   "language": "python",
   "name": "python3"
  },
  "language_info": {
   "codemirror_mode": {
    "name": "ipython",
    "version": 3
   },
   "file_extension": ".py",
   "mimetype": "text/x-python",
   "name": "python",
   "nbconvert_exporter": "python",
   "pygments_lexer": "ipython3",
   "version": "3.11.5"
  }
 },
 "nbformat": 4,
 "nbformat_minor": 2
}
